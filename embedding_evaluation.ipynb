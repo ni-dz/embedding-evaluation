{
 "cells": [
  {
   "cell_type": "markdown",
   "metadata": {},
   "source": [
    "# Setup"
   ]
  },
  {
   "cell_type": "markdown",
   "metadata": {},
   "source": [
    "## Import API Keys"
   ]
  },
  {
   "cell_type": "code",
   "execution_count": 453,
   "metadata": {},
   "outputs": [],
   "source": [
    "import json\n",
    "\n",
    "def load_credentials(filepath):\n",
    "    with open(filepath, 'r') as f:\n",
    "        credentials = json.load(f)\n",
    "    return credentials\n",
    "\n",
    "credentials_filepath = '../credentials.json'\n",
    "\n",
    "credentials = load_credentials(credentials_filepath)\n",
    "\n",
    "mistral_key = credentials['mistral_key']\n",
    "openai_key_embeddings = credentials['openai_key_embeddings']"
   ]
  },
  {
   "cell_type": "markdown",
   "metadata": {},
   "source": [
    "## Data preparation"
   ]
  },
  {
   "cell_type": "code",
   "execution_count": 454,
   "metadata": {},
   "outputs": [
    {
     "data": {
      "text/html": [
       "<div>\n",
       "<style scoped>\n",
       "    .dataframe tbody tr th:only-of-type {\n",
       "        vertical-align: middle;\n",
       "    }\n",
       "\n",
       "    .dataframe tbody tr th {\n",
       "        vertical-align: top;\n",
       "    }\n",
       "\n",
       "    .dataframe thead th {\n",
       "        text-align: right;\n",
       "    }\n",
       "</style>\n",
       "<table border=\"1\" class=\"dataframe\">\n",
       "  <thead>\n",
       "    <tr style=\"text-align: right;\">\n",
       "      <th></th>\n",
       "      <th>Frage</th>\n",
       "      <th>Antwort</th>\n",
       "    </tr>\n",
       "  </thead>\n",
       "  <tbody>\n",
       "    <tr>\n",
       "      <th>0</th>\n",
       "      <td>Was ist SAP S/4HANA?</td>\n",
       "      <td>SAP S/4HANA ist eine Enterprise Resource Plann...</td>\n",
       "    </tr>\n",
       "    <tr>\n",
       "      <th>1</th>\n",
       "      <td>Welche Vorteile bietet SAP S/4HANA?</td>\n",
       "      <td>Zu den Vorteilen von SAP S/4HANA gehören eine ...</td>\n",
       "    </tr>\n",
       "    <tr>\n",
       "      <th>2</th>\n",
       "      <td>Was sind die Hauptunterschiede zwischen SAP S/...</td>\n",
       "      <td>Die Hauptunterschiede umfassen die In-Memory-D...</td>\n",
       "    </tr>\n",
       "    <tr>\n",
       "      <th>3</th>\n",
       "      <td>Welche Module sind in SAP S/4HANA enthalten?</td>\n",
       "      <td>SAP S/4HANA umfasst Module für Finanzen, Besch...</td>\n",
       "    </tr>\n",
       "    <tr>\n",
       "      <th>4</th>\n",
       "      <td>Benötige ich eine Migration von meinem aktuell...</td>\n",
       "      <td>Ja, eine Migration ist erforderlich, da SAP S/...</td>\n",
       "    </tr>\n",
       "    <tr>\n",
       "      <th>...</th>\n",
       "      <td>...</td>\n",
       "      <td>...</td>\n",
       "    </tr>\n",
       "    <tr>\n",
       "      <th>95</th>\n",
       "      <td>Welche Schulungsressourcen und Unterstützung b...</td>\n",
       "      <td>SAP bietet Schulungsressourcen, Schulungen und...</td>\n",
       "    </tr>\n",
       "    <tr>\n",
       "      <th>96</th>\n",
       "      <td>Ist SAP SuccessFactors eine cloudbasierte Lösung?</td>\n",
       "      <td>Ja, SAP SuccessFactors ist eine cloudbasierte ...</td>\n",
       "    </tr>\n",
       "    <tr>\n",
       "      <th>97</th>\n",
       "      <td>Wie erfolgt die Lizenzierung von SAP SuccessFa...</td>\n",
       "      <td>Die Lizenzierung von SAP SuccessFactors erfolg...</td>\n",
       "    </tr>\n",
       "    <tr>\n",
       "      <th>98</th>\n",
       "      <td>Bietet SAP SuccessFactors Funktionen für die A...</td>\n",
       "      <td>Ja, SAP SuccessFactors bietet Funktionen für d...</td>\n",
       "    </tr>\n",
       "    <tr>\n",
       "      <th>99</th>\n",
       "      <td>Welche Art von Support und Wartung bietet SAP ...</td>\n",
       "      <td>SAP bietet umfassenden Support und regelmäßige...</td>\n",
       "    </tr>\n",
       "  </tbody>\n",
       "</table>\n",
       "<p>100 rows × 2 columns</p>\n",
       "</div>"
      ],
      "text/plain": [
       "                                                Frage  \\\n",
       "0                                Was ist SAP S/4HANA?   \n",
       "1                 Welche Vorteile bietet SAP S/4HANA?   \n",
       "2   Was sind die Hauptunterschiede zwischen SAP S/...   \n",
       "3        Welche Module sind in SAP S/4HANA enthalten?   \n",
       "4   Benötige ich eine Migration von meinem aktuell...   \n",
       "..                                                ...   \n",
       "95  Welche Schulungsressourcen und Unterstützung b...   \n",
       "96  Ist SAP SuccessFactors eine cloudbasierte Lösung?   \n",
       "97  Wie erfolgt die Lizenzierung von SAP SuccessFa...   \n",
       "98  Bietet SAP SuccessFactors Funktionen für die A...   \n",
       "99  Welche Art von Support und Wartung bietet SAP ...   \n",
       "\n",
       "                                              Antwort  \n",
       "0   SAP S/4HANA ist eine Enterprise Resource Plann...  \n",
       "1   Zu den Vorteilen von SAP S/4HANA gehören eine ...  \n",
       "2   Die Hauptunterschiede umfassen die In-Memory-D...  \n",
       "3   SAP S/4HANA umfasst Module für Finanzen, Besch...  \n",
       "4   Ja, eine Migration ist erforderlich, da SAP S/...  \n",
       "..                                                ...  \n",
       "95  SAP bietet Schulungsressourcen, Schulungen und...  \n",
       "96  Ja, SAP SuccessFactors ist eine cloudbasierte ...  \n",
       "97  Die Lizenzierung von SAP SuccessFactors erfolg...  \n",
       "98  Ja, SAP SuccessFactors bietet Funktionen für d...  \n",
       "99  SAP bietet umfassenden Support und regelmäßige...  \n",
       "\n",
       "[100 rows x 2 columns]"
      ]
     },
     "execution_count": 454,
     "metadata": {},
     "output_type": "execute_result"
    }
   ],
   "source": [
    "import pandas as pd\n",
    "\n",
    "FAQdata = {\n",
    "    'Frage': [\n",
    "        'Was ist SAP S/4HANA?',\n",
    "        'Welche Vorteile bietet SAP S/4HANA?',\n",
    "        'Was sind die Hauptunterschiede zwischen SAP S/4HANA und SAP ERP?',\n",
    "        'Welche Module sind in SAP S/4HANA enthalten?',\n",
    "        'Benötige ich eine Migration von meinem aktuellen SAP ERP-System zu SAP S/4HANA?',\n",
    "        'Wie lange dauert eine typische SAP S/4HANA-Migrationsprojekt?',\n",
    "        'Welche Rolle spielen In-Memory-Technologien in SAP S/4HANA?',\n",
    "        'Kann ich SAP S/4HANA On-Premise oder in der Cloud implementieren?',\n",
    "        'Wie sieht die Lizenzierung für SAP S/4HANA aus?',\n",
    "        'Welche Auswirkungen hat SAP S/4HANA auf bestehende maßgeschneiderte Entwicklungen?',\n",
    "        'Kann ich meine vorhandenen Berichte und Anpassungen in SAP S/4HANA verwenden?',\n",
    "        'Bietet SAP S/4HANA integrierte Analyse- und Reporting-Funktionen?',\n",
    "        'Welche Unterstützung bietet SAP für die Implementierung von S/4HANA?',\n",
    "        'Welche Rolle spielen Machine Learning und künstliche Intelligenz in SAP S/4HANA?',\n",
    "        'Wie sieht die Integration von SAP S/4HANA mit anderen SAP-Produkten aus?',\n",
    "        'Gibt es Schulungen und Zertifizierungen für SAP S/4HANA?',\n",
    "        'Kann SAP S/4HANA mit Drittanbieteranwendungen integriert werden?',\n",
    "        'Wie ist die Verfügbarkeit und Support-Struktur für SAP S/4HANA?',\n",
    "        'Welche Architekturänderungen sind mit SAP S/4HANA verbunden?',\n",
    "        'Welche Branchen profitieren am meisten von SAP S/4HANA?',\n",
    "        \"Was ist SAP Fieldglass?\",\n",
    "        \"Welche Funktionen bietet SAP Fieldglass?\",\n",
    "        \"Für welche Art von Unternehmen ist SAP Fieldglass geeignet?\",\n",
    "        \"Welche Vorteile bietet die Nutzung von SAP Fieldglass?\",\n",
    "        \"Wie integriert sich SAP Fieldglass mit anderen SAP-Produkten?\",\n",
    "        \"Welche Rolle spielt SAP Fieldglass im Bereich des Talentmanagements?\",\n",
    "        \"Kann SAP Fieldglass mit vorhandenen HR-Systemen integriert werden?\",\n",
    "        \"Wie unterstützt SAP Fieldglass die Verwaltung von Arbeitsverträgen und Genehmigungen?\",\n",
    "        \"Bietet SAP Fieldglass Unterstützung für Compliance- und Risikomanagement?\",\n",
    "        \"Welche Art von Berichterstattung und Analyse bietet SAP Fieldglass?\",\n",
    "        \"Ist SAP Fieldglass in der Lage, globale Arbeitskräfte und Lieferanten zu verwalten?\",\n",
    "        \"Wie erfolgt die Implementierung von SAP Fieldglass?\",\n",
    "        \"Gibt es Schulungs- und Zertifizierungsmöglichkeiten für SAP Fieldglass?\",\n",
    "        \"Kann SAP Fieldglass benutzerdefinierte Anpassungen und Konfigurationen unterstützen?\",\n",
    "        \"Bietet SAP Fieldglass mobile Anwendungen an?\",\n",
    "        \"Wie erfolgt die Kostenstruktur für die Nutzung von SAP Fieldglass?\",\n",
    "        \"Welche Sicherheitsmaßnahmen werden von SAP Fieldglass implementiert?\",\n",
    "        \"Unterstützt SAP Fieldglass mehrsprachige Benutzeroberflächen?\",\n",
    "        \"Kann SAP Fieldglass die Einhaltung von Vorschriften wie GDPR unterstützen?\",\n",
    "        \"Welche Art von Support und Wartung bietet SAP Fieldglass an?\",\n",
    "        \"Was ist SAP Enable Now?\",\n",
    "        \"Welche Funktionen bietet SAP Enable Now?\",\n",
    "        \"Für welche Art von Unternehmen ist SAP Enable Now geeignet?\",\n",
    "        \"Welche Vorteile bietet die Nutzung von SAP Enable Now?\",\n",
    "        \"Wie integriert sich SAP Enable Now mit anderen SAP-Produkten?\",\n",
    "        \"Welche Rolle spielt SAP Enable Now im Bereich des Lern- und Wissensmanagements?\",\n",
    "        \"Kann SAP Enable Now für die Schulung von Endbenutzern verwendet werden?\",\n",
    "        \"Wie erfolgt die Erstellung von Lerninhalten in SAP Enable Now?\",\n",
    "        \"Bietet SAP Enable Now Funktionen für das Performance-Support an?\",\n",
    "        \"Welche Arten von Schulungsformaten unterstützt SAP Enable Now?\",\n",
    "        \"Kann SAP Enable Now für die Erstellung von Schulungsmaterial in verschiedenen Sprachen verwendet werden?\",\n",
    "        \"Wie erfolgt die Bereitstellung von Lerninhalten für Benutzer in SAP Enable Now?\",\n",
    "        \"Gibt es Möglichkeiten für Benutzerfeedback und Leistungsanalyse in SAP Enable Now?\",\n",
    "        \"Kann SAP Enable Now zur Erstellung von Software-Dokumentationen verwendet werden?\",\n",
    "        \"Welche Schulungsressourcen und Unterstützung bietet SAP für SAP Enable Now?\",\n",
    "        \"Ist SAP Enable Now eine cloudbasierte Lösung?\",\n",
    "        \"Wie erfolgt die Lizenzierung von SAP Enable Now?\",\n",
    "        \"Bietet SAP Enable Now Funktionen für die Lernverwaltung an?\",\n",
    "        \"Unterstützt SAP Enable Now die Integration mit Learning-Management-Systemen (LMS)?\",\n",
    "        \"Welche Art von Support und Wartung bietet SAP für SAP Enable Now an?\",\n",
    "        \"Was ist SAP Concur?\",\n",
    "        \"Welche Dienste bietet SAP Concur an?\",\n",
    "        \"Für welche Art von Unternehmen ist SAP Concur geeignet?\",\n",
    "        \"Welche Vorteile bietet die Nutzung von SAP Concur?\",\n",
    "        \"Wie integriert sich SAP Concur mit anderen SAP-Produkten?\",\n",
    "        \"Welche Rolle spielt SAP Concur im Bereich des Reise- und Ausgabenmanagements?\",\n",
    "        \"Kann SAP Concur Reiserichtlinien und Compliance-Regeln durchsetzen?\",\n",
    "        \"Bietet SAP Concur Funktionen für die Automatisierung von Ausgabenabrechnungen?\",\n",
    "        \"Unterstützt SAP Concur die Verwaltung von Reisebuchungen und Reiseplänen?\",\n",
    "        \"Wie erfolgt die Einreichung von Spesenberichten in SAP Concur?\",\n",
    "        \"Gibt es Möglichkeiten für die Genehmigung von Reiseanträgen in SAP Concur?\",\n",
    "        \"Kann SAP Concur Kreditkartentransaktionen integrieren und verfolgen?\",\n",
    "        \"Welche Arten von Berichterstattung und Analyse bietet SAP Concur?\",\n",
    "        \"Bietet SAP Concur Funktionen für die Einhaltung von Steuervorschriften und Vorschriften?\",\n",
    "        \"Kann SAP Concur für die Verwaltung von Firmenkarten und Reisebudgets verwendet werden?\",\n",
    "        \"Welche Schulungsressourcen und Unterstützung bietet SAP für SAP Concur?\",\n",
    "        \"Ist SAP Concur eine cloudbasierte Lösung?\",\n",
    "        \"Wie erfolgt die Lizenzierung von SAP Concur?\",\n",
    "        \"Bietet SAP Concur Funktionen für die Reisebuchung und -planung an?\",\n",
    "        \"Welche Art von Support und Wartung bietet SAP für SAP Concur an?\",\n",
    "        \"Was ist SAP SuccessFactors?\",\n",
    "        \"Welche Funktionen bietet SAP SuccessFactors?\",\n",
    "        \"Für welche Art von Unternehmen ist SAP SuccessFactors geeignet?\",\n",
    "        \"Welche Vorteile bietet die Nutzung von SAP SuccessFactors?\",\n",
    "        \"Wie integriert sich SAP SuccessFactors mit anderen SAP-Produkten?\",\n",
    "        \"Welche Rolle spielt SAP SuccessFactors im Bereich des Talentmanagements?\",\n",
    "        \"Kann SAP SuccessFactors zur Rekrutierung von Mitarbeitern verwendet werden?\",\n",
    "        \"Bietet SAP SuccessFactors Funktionen für das Leistungsmanagement an?\",\n",
    "        \"Unterstützt SAP SuccessFactors die Mitarbeiterentwicklung und Schulung?\",\n",
    "        \"Wie erfolgt die Durchführung von Mitarbeiterbewertungen in SAP SuccessFactors?\",\n",
    "        \"Gibt es Möglichkeiten für die Verwaltung von Vergütungen und Belohnungen in SAP SuccessFactors?\",\n",
    "        \"Kann SAP SuccessFactors die Einhaltung von Compliance- und HR-Richtlinien unterstützen?\",\n",
    "        \"Welche Arten von Berichterstattung und Analyse bietet SAP SuccessFactors?\",\n",
    "        \"Bietet SAP SuccessFactors Funktionen für das Mitarbeiterengagement und die Mitarbeiterbindung an?\",\n",
    "        \"Kann SAP SuccessFactors für die Nachfolgeplanung und Talententwicklung verwendet werden?\",\n",
    "        \"Welche Schulungsressourcen und Unterstützung bietet SAP für SAP SuccessFactors?\",\n",
    "        \"Ist SAP SuccessFactors eine cloudbasierte Lösung?\",\n",
    "        \"Wie erfolgt die Lizenzierung von SAP SuccessFactors?\",\n",
    "        \"Bietet SAP SuccessFactors Funktionen für die Arbeitszeitverwaltung und Planung an?\",\n",
    "        \"Welche Art von Support und Wartung bietet SAP für SAP SuccessFactors an?\"\n",
    "    ],\n",
    "    'Antwort': [\n",
    "        'SAP S/4HANA ist eine Enterprise Resource Planning (ERP)-Suite, die auf der In-Memory-Datenbanktechnologie von SAP HANA basiert.',\n",
    "        'Zu den Vorteilen von SAP S/4HANA gehören eine verbesserte Performance, Echtzeitanalysen, vereinfachte Prozesse und eine modernere Benutzeroberfläche.',\n",
    "        'Die Hauptunterschiede umfassen die In-Memory-Datenbanktechnologie, die vereinfachten Datenmodelle, die neue Benutzeroberfläche und die Integration von Analysen und Prognosen.',\n",
    "        'SAP S/4HANA umfasst Module für Finanzen, Beschaffung, Produktion, Vertrieb, Lagerhaltung und mehr.',\n",
    "        'Ja, eine Migration ist erforderlich, da SAP S/4HANA eine neue Architektur und Datenbanktechnologie verwendet.',\n",
    "        'Die Dauer kann je nach Unternehmensgröße, Komplexität der Systeme und gewählter Migrationsmethode variieren.',\n",
    "        'In-Memory-Technologien ermöglichen eine schnellere Datenverarbeitung und Echtzeitanalysen.',\n",
    "        'Beide Optionen sind möglich, und die Entscheidung hängt von den Unternehmensanforderungen ab.',\n",
    "        'Die Lizenzierung basiert auf verschiedenen Faktoren wie Nutzeranzahl, Funktionsumfang und Implementierungsmethode.',\n",
    "        'Bestehende Entwicklungen müssen möglicherweise angepasst werden, um mit den neuen Datenstrukturen von SAP S/4HANA kompatibel zu sein.',\n",
    "        'Einige können weiterverwendet werden, aber viele Anpassungen müssen möglicherweise aktualisiert oder neu entwickelt werden.',\n",
    "        'Ja, SAP S/4HANA bietet Funktionen wie SAP Fiori für intuitive Benutzeroberflächen und integrierte Analytics.',\n",
    "        'SAP bietet verschiedene Dienstleistungen wie Beratung, Schulungen und Support für S/4HANA-Implementierungen an.',\n",
    "        'Machine Learning und künstliche Intelligenz werden für Funktionen wie Predictive Analytics und automatisierte Prozesse in SAP S/4HANA verwendet.',\n",
    "        'SAP S/4HANA kann nahtlos mit anderen SAP-Lösungen wie SAP SuccessFactors und SAP Ariba integriert werden.',\n",
    "        'Ja, SAP bietet Schulungen und Zertifizierungen für SAP S/4HANA an.',\n",
    "        'Ja, SAP S/4HANA kann über APIs und Middleware mit Drittanbieteranwendungen integriert werden.',\n",
    "        'SAP bietet einen umfassenden Support für SAP S/4HANA mit regelmäßigen Updates und technischem Support.',\n",
    "        'SAP S/4HANA erfordert eine neue Datenbankarchitektur und unterstützt moderne Technologien wie Cloud-Computing und IoT.',\n",
    "        'Branchen wie Fertigung, Handel und Dienstleistungen profitieren besonders von den Funktionen und der Leistung von SAP S/4HANA.',\n",
    "        \"SAP Fieldglass ist eine cloudbasierte Plattform für das Management von externen Arbeitskräften und Dienstleistungsanbietern.\",\n",
    "        \"SAP Fieldglass bietet Funktionen wie Beschaffung, Auftragsmanagement, Lieferantenverwaltung, Abrechnung und Compliance-Management.\",\n",
    "        \"SAP Fieldglass ist für Unternehmen aller Größen und Branchen geeignet, die externe Arbeitskräfte oder Dienstleistungen nutzen.\",\n",
    "        \"Die Nutzung von SAP Fieldglass ermöglicht eine bessere Kontrolle über externe Ressourcen, Kosteneinsparungen, verbesserte Compliance und beschleunigte Beschaffungsprozesse.\",\n",
    "        \"SAP Fieldglass kann nahtlos mit anderen SAP-Produkten wie SAP SuccessFactors und SAP ERP integriert werden.\",\n",
    "        \"SAP Fieldglass spielt eine wichtige Rolle bei der Verwaltung von Auftragnehmern, Freiberuflern und Dienstleistungsanbietern im Rahmen des Talentmanagements.\",\n",
    "        \"Ja, SAP Fieldglass kann mit verschiedenen HR-Systemen und Enterprise-Resource-Planning-Systemen integriert werden.\",\n",
    "        \"SAP Fieldglass erleichtert die Verwaltung von Arbeitsverträgen, Genehmigungsprozessen und Compliance-Anforderungen durch automatisierte Workflows und Dashboards.\",\n",
    "        \"Ja, SAP Fieldglass bietet Funktionen für Compliance- und Risikomanagement wie Überprüfung von Lieferanten, Vertrags- und Rechnungsprüfung sowie Risikobewertung.\",\n",
    "        \"SAP Fieldglass bietet umfassende Berichterstattungs- und Analysefunktionen für Leistungskennzahlen, Ausgabenanalyse und Risikomanagement.\",\n",
    "        \"Ja, SAP Fieldglass ermöglicht die effiziente Verwaltung von globalen Arbeitskräften, Lieferanten und Verträgen.\",\n",
    "        \"Die Implementierung von SAP Fieldglass erfolgt typischerweise durch einen strukturierten Prozess unter Einbeziehung von Beratern und technischem Support.\",\n",
    "        \"Ja, SAP bietet Schulungs- und Zertifizierungsmöglichkeiten für SAP Fieldglass an, um die Benutzerkompetenz zu verbessern.\",\n",
    "        \"Ja, SAP Fieldglass unterstützt benutzerdefinierte Anpassungen und Konfigurationen gemäß den spezifischen Anforderungen des Unternehmens.\",\n",
    "        \"Ja, SAP Fieldglass bietet mobile Anwendungen für die einfache Nutzung und Verwaltung auch unterwegs.\",\n",
    "        \"Die Kostenstruktur für SAP Fieldglass umfasst typischerweise Lizenzgebühren, Implementierungskosten und laufende Servicegebühren basierend auf der Nutzung.\",\n",
    "        \"SAP Fieldglass implementiert Sicherheitsmaßnahmen wie Datenverschlüsselung, Zugriffskontrollen und regelmäßige Sicherheitsaudits.\",\n",
    "        \"Ja, SAP Fieldglass unterstützt mehrsprachige Benutzeroberflächen, um den globalen Einsatz zu erleichtern.\",\n",
    "        \"Ja, SAP Fieldglass bietet Funktionen zur Unterstützung der Einhaltung von Vorschriften wie GDPR und andere Datenschutzbestimmungen.\",\n",
    "        \"SAP Fieldglass bietet umfassenden Support, einschließlich technischem Support, Schulungen und regelmäßigen Updates.\",\n",
    "        \"SAP Enable Now ist eine Lösung für das digitale Lern- und Wissensmanagement, die Schulungen, Leistungssupport und Dokumentationen bereitstellt.\",\n",
    "        \"SAP Enable Now bietet Funktionen wie die Erstellung interaktiver Lerninhalte, Leistungssupporttools, Software-Dokumentationen und Schulungsanalyse.\",\n",
    "        \"SAP Enable Now ist für Unternehmen jeder Größe und Branche geeignet, die Schulungen für Mitarbeiter, Kunden und Partner benötigen.\",\n",
    "        \"Die Nutzung von SAP Enable Now ermöglicht eine effiziente Schulung, verbesserte Produktivität, schnellere Einarbeitung neuer Mitarbeiter und konsistente Wissensvermittlung.\",\n",
    "        \"SAP Enable Now kann nahtlos mit anderen SAP-Produkten wie SAP SuccessFactors und SAP Learning Solution integriert werden.\",\n",
    "        \"SAP Enable Now spielt eine wichtige Rolle bei der Erstellung, Bereitstellung und Verwaltung von Schulungsressourcen für Mitarbeiter und Kunden.\",\n",
    "        \"Ja, SAP Enable Now kann für die Schulung von Endbenutzern in SAP-Anwendungen sowie anderen Unternehmensanwendungen verwendet werden.\",\n",
    "        \"Die Erstellung von Lerninhalten in SAP Enable Now erfolgt über eine benutzerfreundliche Oberfläche mit integrierten Tools für die Aufnahme, Bearbeitung und Veröffentlichung von Schulungsinhalten.\",\n",
    "        \"Ja, SAP Enable Now bietet Funktionen für das Performance-Support wie kontextbezogene Hilfen, Tutorials und Benutzerleitfäden.\",\n",
    "        \"SAP Enable Now unterstützt Schulungsformate wie interaktive Simulationen, Videos, Präsentationen und Online-Kurse.\",\n",
    "        \"Ja, SAP Enable Now ermöglicht die Erstellung von Schulungsmaterial in verschiedenen Sprachen für globale Schulungsinitiativen.\",\n",
    "        \"Die Bereitstellung von Lerninhalten für Benutzer erfolgt über verschiedene Kanäle wie Lernportale, Intranets und mobile Anwendungen.\",\n",
    "        \"Ja, SAP Enable Now bietet Funktionen für Benutzerfeedback und Leistungsanalyse zur kontinuierlichen Verbesserung der Schulungsressourcen.\",\n",
    "        \"Ja, SAP Enable Now kann zur Erstellung von Software-Dokumentationen wie Benutzerhandbüchern, Hilfedateien und Prozessdokumentationen verwendet werden.\",\n",
    "        \"SAP bietet Schulungsressourcen, Schulungen und technischen Support für die Implementierung und Nutzung von SAP Enable Now an.\",\n",
    "        \"Ja, SAP Enable Now kann sowohl als cloudbasierte Lösung als auch als On-Premise-Installation bereitgestellt werden.\",\n",
    "        \"Die Lizenzierung von SAP Enable Now erfolgt typischerweise auf Basis der Anzahl der Benutzer oder der Nutzungsdauer.\",\n",
    "        \"Ja, SAP Enable Now bietet Funktionen für die Verwaltung von Lernressourcen, Benutzerzugriff und Schulungsplanung an.\",\n",
    "        \"Ja, SAP Enable Now unterstützt die Integration mit gängigen Learning-Management-Systemen (LMS) zur nahtlosen Schulungsverwaltung.\",\n",
    "        \"SAP bietet umfassenden Support und regelmäßige Wartung für SAP Enable Now, einschließlich technischem Support, Schulungen und Updates.\",\n",
    "        \"SAP Concur ist eine cloudbasierte Lösung für das Reise- und Ausgabenmanagement, die Unternehmen dabei unterstützt, Reisekosten zu verfolgen, Ausgaben zu kontrollieren und Compliance sicherzustellen.\",\n",
    "        \"SAP Concur bietet Dienste wie Reisebuchung, Spesenabrechnung, Ausgabenmanagement, Reiserichtlinien-Compliance und Analyse von Reiseausgaben an.\",\n",
    "        \"SAP Concur ist für Unternehmen jeder Größe und Branche geeignet, die Reise- und Ausgabenmanagementlösungen benötigen.\",\n",
    "        \"Die Nutzung von SAP Concur ermöglicht eine effizientere Verwaltung von Reisen und Ausgaben, bessere Kontrolle über Ausgaben, Einhaltung von Reiserichtlinien und schnellere Erstattung von Spesen.\",\n",
    "        \"SAP Concur kann nahtlos mit anderen SAP-Produkten wie SAP ERP und SAP SuccessFactors integriert werden, um eine ganzheitliche Lösung für das Unternehmensmanagement zu bieten.\",\n",
    "        \"SAP Concur spielt eine wichtige Rolle bei der Vereinfachung und Automatisierung von Prozessen rund um das Reise- und Ausgabenmanagement, einschließlich Reisebuchungen, Spesenabrechnungen und Compliance.\",\n",
    "        \"Ja, SAP Concur kann Reiserichtlinien und Compliance-Regeln durch automatisierte Richtlinienprüfungen und Warnungen durchsetzen.\",\n",
    "        \"Ja, SAP Concur bietet Funktionen für die Automatisierung von Ausgabenabrechnungen durch Erfassung von Ausgaben, Zuweisung von Kosten und Genehmigung von Ausgaben.\",\n",
    "        \"Ja, SAP Concur unterstützt die Verwaltung von Reisebuchungen und Reiseplänen durch Integration mit Reiseanbietern und -plattformen.\",\n",
    "        \"Die Einreichung von Spesenberichten in SAP Concur erfolgt über eine benutzerfreundliche Oberfläche mit Optionen für die Erfassung von Ausgaben, Beifügen von Belegen und Zuordnung von Kosten.\",\n",
    "        \"Ja, SAP Concur bietet Funktionen für die Genehmigung von Reiseanträgen durch Vorgesetzte oder entsprechende Genehmigungsinstanzen.\",\n",
    "        \"Ja, SAP Concur kann Kreditkartentransaktionen integrieren und verfolgen, um Ausgaben automatisch zu erfassen und in Spesenberichte einzubeziehen.\",\n",
    "        \"SAP Concur bietet verschiedene Berichterstattungs- und Analysefunktionen für Reiseausgaben, Budgetvergleiche und Ausgabenkategorien.\",\n",
    "        \"Ja, SAP Concur bietet Funktionen für die Einhaltung von Steuervorschriften und Vorschriften durch automatische Steuerberechnungen und -abzüge.\",\n",
    "        \"Ja, SAP Concur kann für die Verwaltung von Firmenkarten und Reisebudgets verwendet werden, um Ausgaben zu überwachen und Budgets einzuhalten.\",\n",
    "        \"SAP bietet Schulungsressourcen, Schulungen und technischen Support für die Implementierung und Nutzung von SAP Concur an.\",\n",
    "        \"Ja, SAP Concur ist eine cloudbasierte Lösung, die über das Internet zugänglich ist.\",\n",
    "        \"Die Lizenzierung von SAP Concur erfolgt typischerweise auf Basis der Anzahl der Benutzer oder der Nutzungsdauer.\",\n",
    "        \"Ja, SAP Concur bietet Funktionen für die Reisebuchung und -planung über Integration mit Reiseanbietern und -plattformen an.\",\n",
    "        \"SAP bietet umfassenden Support und regelmäßige Wartung für SAP Concur, einschließlich technischem Support, Schulungen und Updates.\",\n",
    "        \"SAP SuccessFactors ist eine cloudbasierte Lösung für das Human Capital Management (HCM), die Funktionen wie Personalverwaltung, Talentmanagement, Leistungsmanagement, Mitarbeiterentwicklung und Analyse bietet.\",\n",
    "        \"SAP SuccessFactors bietet Funktionen wie Personalverwaltung, Rekrutierung, Onboarding, Leistungsmanagement, Mitarbeiterentwicklung, Vergütungsmanagement und Analyse.\",\n",
    "        \"SAP SuccessFactors ist für Unternehmen jeder Größe und Branche geeignet, die eine moderne und umfassende Lösung für das Personalmanagement suchen.\",\n",
    "        \"Die Nutzung von SAP SuccessFactors ermöglicht eine effiziente Verwaltung von Personalressourcen, bessere Mitarbeiterentwicklung, höhere Mitarbeiterbindung und bessere Geschäftsergebnisse.\",\n",
    "        \"SAP SuccessFactors kann nahtlos mit anderen SAP-Produkten wie SAP ERP und SAP Concur integriert werden, um eine ganzheitliche Lösung für das Unternehmensmanagement zu bieten.\",\n",
    "        \"SAP SuccessFactors spielt eine wichtige Rolle bei der Verwaltung des gesamten Mitarbeiterlebenszyklus, von der Rekrutierung bis zur Pensionierung, und unterstützt Unternehmen dabei, talentierte Mitarbeiter zu identifizieren, zu entwickeln und zu binden.\",\n",
    "        \"Ja, SAP SuccessFactors bietet Funktionen für die Rekrutierung von Mitarbeitern, einschließlich Stellenanzeigen, Bewerbungsmanagement und Einstellungsprozessen.\",\n",
    "        \"Ja, SAP SuccessFactors bietet Funktionen für das Leistungsmanagement, einschließlich Zielsetzung, Leistungsbeurteilung und Belohnungsmanagement.\",\n",
    "        \"Ja, SAP SuccessFactors unterstützt die Mitarbeiterentwicklung und Schulung durch Funktionen wie Lernmanagement, Karriereentwicklung und individuelle Entwicklungspläne.\",\n",
    "        \"Die Durchführung von Mitarbeiterbewertungen in SAP SuccessFactors erfolgt durch automatisierte Workflows, Zielsetzungsgespräche und kontinuierliches Feedback zwischen Mitarbeitern und Vorgesetzten.\",\n",
    "        \"Ja, SAP SuccessFactors bietet Funktionen für die Verwaltung von Vergütungen und Belohnungen, einschließlich Gehaltsabrechnung, Bonussystemen und Zusatzleistungen.\",\n",
    "        \"Ja, SAP SuccessFactors kann die Einhaltung von Compliance- und HR-Richtlinien durch automatisierte Prozesse, Compliance-Prüfungen und Berichterstattung unterstützen.\",\n",
    "        \"SAP SuccessFactors bietet verschiedene Berichterstattungs- und Analysefunktionen für Personalanalysen, Leistungskennzahlen und Talentmanagement.\",\n",
    "        \"Ja, SAP SuccessFactors bietet Funktionen für das Mitarbeiterengagement und die Mitarbeiterbindung, einschließlich Mitarbeiterumfragen, Feedbacksystemen und Anerkennungsprogrammen.\",\n",
    "        \"Ja, SAP SuccessFactors kann für die Nachfolgeplanung und Talententwicklung verwendet werden, um talentierte Mitarbeiter zu identifizieren und deren Entwicklung zu fördern.\",\n",
    "        \"SAP bietet Schulungsressourcen, Schulungen und technischen Support für die Implementierung und Nutzung von SAP SuccessFactors an.\",\n",
    "        \"Ja, SAP SuccessFactors ist eine cloudbasierte Lösung, die über das Internet zugänglich ist.\",\n",
    "        \"Die Lizenzierung von SAP SuccessFactors erfolgt typischerweise auf Basis der Anzahl der Benutzer oder der Nutzungsdauer.\",\n",
    "        \"Ja, SAP SuccessFactors bietet Funktionen für die Arbeitszeitverwaltung und -planung, einschließlich Schichtplanung, Urlaubsverwaltung und Zeiterfassung.\",\n",
    "        \"SAP bietet umfassenden Support und regelmäßige Wartung für SAP SuccessFactors, einschließlich technischem Support, Schulungen und Updates.\"\n",
    "    ]\n",
    "}\n",
    "\n",
    "df_with_embeddings = pd.DataFrame(FAQdata)\n",
    "df_with_embeddings"
   ]
  },
  {
   "cell_type": "markdown",
   "metadata": {},
   "source": [
    "## Define Function for Cosine Similarity"
   ]
  },
  {
   "cell_type": "code",
   "execution_count": 455,
   "metadata": {},
   "outputs": [],
   "source": [
    "import numpy as np\n",
    "    \n",
    "def cos_sim(vector1, vector2):\n",
    "    dot_product = np.dot(vector1, vector2)\n",
    "    norm_vector1 = np.linalg.norm(vector1)\n",
    "    norm_vector2 = np.linalg.norm(vector2)\n",
    "    return dot_product / (norm_vector1 * norm_vector2)\n"
   ]
  },
  {
   "cell_type": "markdown",
   "metadata": {},
   "source": [
    "# Add embeddings of different embedding models"
   ]
  },
  {
   "cell_type": "markdown",
   "metadata": {},
   "source": [
    "## Mistral Embeddings"
   ]
  },
  {
   "cell_type": "markdown",
   "metadata": {},
   "source": [
    "### mistral-embed"
   ]
  },
  {
   "cell_type": "markdown",
   "metadata": {},
   "source": [
    "MTEB:\n",
    "Rank 1 for French (Overall)"
   ]
  },
  {
   "cell_type": "code",
   "execution_count": 456,
   "metadata": {},
   "outputs": [],
   "source": [
    "# Fragen Embeddings:\n",
    "\n",
    "from mistralai.client import MistralClient\n",
    "\n",
    "client = MistralClient(api_key = mistral_key)\n",
    "\n",
    "question_embeddings_mistral_embed = []\n",
    "\n",
    "for i in df_with_embeddings[\"Frage\"]:\n",
    "    embeddings_batch_response = client.embeddings(\n",
    "        model=\"mistral-embed\",\n",
    "        input=[i],\n",
    "    )\n",
    "    question_embeddings_mistral_embed.append(embeddings_batch_response.data[0].embedding)\n",
    "\n",
    "df_with_embeddings[\"Question Embeddings: mistral-embed\"] = question_embeddings_mistral_embed"
   ]
  },
  {
   "cell_type": "code",
   "execution_count": 457,
   "metadata": {},
   "outputs": [],
   "source": [
    "# Antworten Embeddings:\n",
    "\n",
    "from mistralai.client import MistralClient\n",
    "\n",
    "client = MistralClient(api_key = mistral_key)\n",
    "\n",
    "answer_embeddings_mistral_embed = []\n",
    "\n",
    "for i in df_with_embeddings[\"Antwort\"]:\n",
    "    embeddings_batch_response = client.embeddings(\n",
    "        model=\"mistral-embed\",\n",
    "        input=[i],\n",
    "    )\n",
    "    answer_embeddings_mistral_embed.append(embeddings_batch_response.data[0].embedding)\n",
    "\n",
    "df_with_embeddings[\"Answer Embeddings: mistral-embed\"] = answer_embeddings_mistral_embed"
   ]
  },
  {
   "cell_type": "markdown",
   "metadata": {},
   "source": [
    "## OpenAI Embeddings"
   ]
  },
  {
   "cell_type": "markdown",
   "metadata": {},
   "source": [
    "### text-embedding-ada-002"
   ]
  },
  {
   "cell_type": "markdown",
   "metadata": {},
   "source": [
    "MTEB: Rank 41 for English (Overall)"
   ]
  },
  {
   "cell_type": "code",
   "execution_count": 458,
   "metadata": {},
   "outputs": [],
   "source": [
    "# Fragen Embeddings:\n",
    "\n",
    "from openai import OpenAI\n",
    "client = OpenAI(api_key = openai_key_embeddings)\n",
    "\n",
    "question_embeddings_ada_002 = []\n",
    "\n",
    "for i in df_with_embeddings[\"Frage\"]:\n",
    "    embeddings_batch_response = client.embeddings.create(\n",
    "        input=[i],\n",
    "        model=\"text-embedding-ada-002\"\n",
    "    )\n",
    "    question_embeddings_ada_002.append(embeddings_batch_response.data[0].embedding)\n",
    "\n",
    "df_with_embeddings[\"Question Embeddings: text-embedding-ada-002\"] = question_embeddings_ada_002"
   ]
  },
  {
   "cell_type": "code",
   "execution_count": 459,
   "metadata": {},
   "outputs": [],
   "source": [
    "# Antworten Embeddings:\n",
    "\n",
    "from openai import OpenAI\n",
    "client = OpenAI(api_key = openai_key_embeddings)\n",
    "\n",
    "answer_embeddings_ada_002 = []\n",
    "\n",
    "for i in df_with_embeddings[\"Antwort\"]:\n",
    "    embeddings_batch_response = client.embeddings.create(\n",
    "        input=[i],\n",
    "        model=\"text-embedding-ada-002\"\n",
    "    )\n",
    "    answer_embeddings_ada_002.append(embeddings_batch_response.data[0].embedding)\n",
    "\n",
    "df_with_embeddings[\"Answer Embeddings: text-embedding-ada-002\"] = answer_embeddings_ada_002"
   ]
  },
  {
   "cell_type": "markdown",
   "metadata": {},
   "source": [
    "### text-embedding-3-small"
   ]
  },
  {
   "cell_type": "markdown",
   "metadata": {},
   "source": [
    "MTEB: Rank 27 for English (Overall)"
   ]
  },
  {
   "cell_type": "code",
   "execution_count": 460,
   "metadata": {},
   "outputs": [],
   "source": [
    "# Fragen Embeddings:\n",
    "\n",
    "from openai import OpenAI\n",
    "client = OpenAI(api_key = openai_key_embeddings)\n",
    "\n",
    "question_embeddings_3_small = []\n",
    "\n",
    "for i in df_with_embeddings[\"Frage\"]:\n",
    "    embeddings_batch_response = client.embeddings.create(\n",
    "        input=[i],\n",
    "        model=\"text-embedding-3-small\"\n",
    "    )\n",
    "    question_embeddings_3_small.append(embeddings_batch_response.data[0].embedding)\n",
    "\n",
    "df_with_embeddings[\"Question Embeddings: text-embedding-3-small\"] = question_embeddings_3_small"
   ]
  },
  {
   "cell_type": "code",
   "execution_count": 461,
   "metadata": {},
   "outputs": [],
   "source": [
    "# Antworten Embeddings:\n",
    "\n",
    "from openai import OpenAI\n",
    "client = OpenAI(api_key = openai_key_embeddings)\n",
    "\n",
    "answer_embeddings_3_small = []\n",
    "\n",
    "for i in df_with_embeddings[\"Antwort\"]:\n",
    "    embeddings_batch_response = client.embeddings.create(\n",
    "        input=[i],\n",
    "        model=\"text-embedding-3-small\"\n",
    "    )\n",
    "    answer_embeddings_3_small.append(embeddings_batch_response.data[0].embedding)\n",
    "\n",
    "df_with_embeddings[\"Answer Embeddings: text-embedding-3-small\"] = answer_embeddings_3_small"
   ]
  },
  {
   "cell_type": "markdown",
   "metadata": {},
   "source": [
    "### text-embedding-3-large"
   ]
  },
  {
   "cell_type": "markdown",
   "metadata": {},
   "source": [
    "MTEB: Rank 9 for Englisch (Overall)"
   ]
  },
  {
   "cell_type": "code",
   "execution_count": 462,
   "metadata": {},
   "outputs": [],
   "source": [
    "# Fragen Embeddings:\n",
    "\n",
    "from openai import OpenAI\n",
    "client = OpenAI(api_key = openai_key_embeddings)\n",
    "\n",
    "question_embeddings_3_large = []\n",
    "\n",
    "for i in df_with_embeddings[\"Frage\"]:\n",
    "    embeddings_batch_response = client.embeddings.create(\n",
    "        input=[i],\n",
    "        model=\"text-embedding-3-large\"\n",
    "    )\n",
    "    question_embeddings_3_large.append(embeddings_batch_response.data[0].embedding)\n",
    "\n",
    "df_with_embeddings[\"Question Embeddings: text-embedding-3-large\"] = question_embeddings_3_large"
   ]
  },
  {
   "cell_type": "code",
   "execution_count": 463,
   "metadata": {},
   "outputs": [],
   "source": [
    "# Antworten Embeddings:\n",
    "\n",
    "from openai import OpenAI\n",
    "client = OpenAI(api_key = openai_key_embeddings)\n",
    "\n",
    "answer_embeddings_3_large = []\n",
    "\n",
    "for i in df_with_embeddings[\"Frage\"]:\n",
    "    embeddings_batch_response = client.embeddings.create(\n",
    "        input=[i],\n",
    "        model=\"text-embedding-3-small\"\n",
    "    )\n",
    "    answer_embeddings_3_large.append(embeddings_batch_response.data[0].embedding)\n",
    "\n",
    "df_with_embeddings[\"Answer Embeddings: text-embedding-3-large\"] = answer_embeddings_3_large"
   ]
  },
  {
   "cell_type": "code",
   "execution_count": 464,
   "metadata": {},
   "outputs": [
    {
     "data": {
      "text/html": [
       "<div>\n",
       "<style scoped>\n",
       "    .dataframe tbody tr th:only-of-type {\n",
       "        vertical-align: middle;\n",
       "    }\n",
       "\n",
       "    .dataframe tbody tr th {\n",
       "        vertical-align: top;\n",
       "    }\n",
       "\n",
       "    .dataframe thead th {\n",
       "        text-align: right;\n",
       "    }\n",
       "</style>\n",
       "<table border=\"1\" class=\"dataframe\">\n",
       "  <thead>\n",
       "    <tr style=\"text-align: right;\">\n",
       "      <th></th>\n",
       "      <th>Frage</th>\n",
       "      <th>Antwort</th>\n",
       "      <th>Question Embeddings: mistral-embed</th>\n",
       "      <th>Answer Embeddings: mistral-embed</th>\n",
       "      <th>Question Embeddings: text-embedding-ada-002</th>\n",
       "      <th>Answer Embeddings: text-embedding-ada-002</th>\n",
       "      <th>Question Embeddings: text-embedding-3-small</th>\n",
       "      <th>Answer Embeddings: text-embedding-3-small</th>\n",
       "      <th>Question Embeddings: text-embedding-3-large</th>\n",
       "      <th>Answer Embeddings: text-embedding-3-large</th>\n",
       "    </tr>\n",
       "  </thead>\n",
       "  <tbody>\n",
       "    <tr>\n",
       "      <th>0</th>\n",
       "      <td>Was ist SAP S/4HANA?</td>\n",
       "      <td>SAP S/4HANA ist eine Enterprise Resource Plann...</td>\n",
       "      <td>[-0.00012612342834472656, 0.00600433349609375,...</td>\n",
       "      <td>[-0.01047515869140625, -0.007099151611328125, ...</td>\n",
       "      <td>[0.020581984892487526, 0.0068562752567231655, ...</td>\n",
       "      <td>[0.01394073385745287, -0.0076940665021538734, ...</td>\n",
       "      <td>[-0.04551265388727188, 0.011044912040233612, 0...</td>\n",
       "      <td>[-0.06468543410301208, 0.008432664908468723, 0...</td>\n",
       "      <td>[-0.000779634399805218, 0.006759680341929197, ...</td>\n",
       "      <td>[-0.04551265388727188, 0.011044912040233612, 0...</td>\n",
       "    </tr>\n",
       "    <tr>\n",
       "      <th>1</th>\n",
       "      <td>Welche Vorteile bietet SAP S/4HANA?</td>\n",
       "      <td>Zu den Vorteilen von SAP S/4HANA gehören eine ...</td>\n",
       "      <td>[-0.006504058837890625, 0.00728607177734375, 0...</td>\n",
       "      <td>[-0.022491455078125, -0.0136871337890625, 0.05...</td>\n",
       "      <td>[0.016592826694250107, -0.0013070483691990376,...</td>\n",
       "      <td>[0.007233329117298126, 0.0071442644111812115, ...</td>\n",
       "      <td>[-0.04175806790590286, 0.010400454513728619, 0...</td>\n",
       "      <td>[-0.015268453396856785, 0.026090648025274277, ...</td>\n",
       "      <td>[0.006959523539990187, 0.00851409137248993, -0...</td>\n",
       "      <td>[-0.04175806790590286, 0.010400454513728619, 0...</td>\n",
       "    </tr>\n",
       "    <tr>\n",
       "      <th>2</th>\n",
       "      <td>Was sind die Hauptunterschiede zwischen SAP S/...</td>\n",
       "      <td>Die Hauptunterschiede umfassen die In-Memory-D...</td>\n",
       "      <td>[-0.007793426513671875, 0.0261993408203125, 0....</td>\n",
       "      <td>[-0.0197296142578125, 0.005146026611328125, 0....</td>\n",
       "      <td>[0.039898816496133804, 0.009220315143465996, 0...</td>\n",
       "      <td>[0.0021640665363520384, 0.008108162321150303, ...</td>\n",
       "      <td>[-0.05220985785126686, -0.0108477883040905, 0....</td>\n",
       "      <td>[-0.019829710945487022, 0.01941532827913761, 0...</td>\n",
       "      <td>[0.011959274299442768, 0.003065806347876787, -...</td>\n",
       "      <td>[-0.05220985785126686, -0.0108477883040905, 0....</td>\n",
       "    </tr>\n",
       "    <tr>\n",
       "      <th>3</th>\n",
       "      <td>Welche Module sind in SAP S/4HANA enthalten?</td>\n",
       "      <td>SAP S/4HANA umfasst Module für Finanzen, Besch...</td>\n",
       "      <td>[0.0027904510498046875, 0.01560211181640625, 0...</td>\n",
       "      <td>[0.0028972625732421875, -0.0002427101135253906...</td>\n",
       "      <td>[0.025606660172343254, 0.005926734767854214, 0...</td>\n",
       "      <td>[0.02016955055296421, -0.008751985616981983, 0...</td>\n",
       "      <td>[-0.040618691593408585, 0.017335548996925354, ...</td>\n",
       "      <td>[-0.06687304377555847, 0.022782111540436745, 0...</td>\n",
       "      <td>[0.007088058162480593, 0.0015454861568287015, ...</td>\n",
       "      <td>[-0.040618691593408585, 0.017335548996925354, ...</td>\n",
       "    </tr>\n",
       "    <tr>\n",
       "      <th>4</th>\n",
       "      <td>Benötige ich eine Migration von meinem aktuell...</td>\n",
       "      <td>Ja, eine Migration ist erforderlich, da SAP S/...</td>\n",
       "      <td>[-0.0299224853515625, 0.016448974609375, 0.028...</td>\n",
       "      <td>[-0.0027790069580078125, -0.0124359130859375, ...</td>\n",
       "      <td>[0.013608722016215324, -0.007326304446905851, ...</td>\n",
       "      <td>[0.023980315774679184, -0.0257048849016428, 0....</td>\n",
       "      <td>[-0.03777245432138443, 0.04013200104236603, 0....</td>\n",
       "      <td>[-0.02673247642815113, 0.040786463767290115, 0...</td>\n",
       "      <td>[0.013009252957999706, 0.03949623554944992, -0...</td>\n",
       "      <td>[-0.03920025750994682, 0.04049645736813545, 0....</td>\n",
       "    </tr>\n",
       "  </tbody>\n",
       "</table>\n",
       "</div>"
      ],
      "text/plain": [
       "                                               Frage  \\\n",
       "0                               Was ist SAP S/4HANA?   \n",
       "1                Welche Vorteile bietet SAP S/4HANA?   \n",
       "2  Was sind die Hauptunterschiede zwischen SAP S/...   \n",
       "3       Welche Module sind in SAP S/4HANA enthalten?   \n",
       "4  Benötige ich eine Migration von meinem aktuell...   \n",
       "\n",
       "                                             Antwort  \\\n",
       "0  SAP S/4HANA ist eine Enterprise Resource Plann...   \n",
       "1  Zu den Vorteilen von SAP S/4HANA gehören eine ...   \n",
       "2  Die Hauptunterschiede umfassen die In-Memory-D...   \n",
       "3  SAP S/4HANA umfasst Module für Finanzen, Besch...   \n",
       "4  Ja, eine Migration ist erforderlich, da SAP S/...   \n",
       "\n",
       "                  Question Embeddings: mistral-embed  \\\n",
       "0  [-0.00012612342834472656, 0.00600433349609375,...   \n",
       "1  [-0.006504058837890625, 0.00728607177734375, 0...   \n",
       "2  [-0.007793426513671875, 0.0261993408203125, 0....   \n",
       "3  [0.0027904510498046875, 0.01560211181640625, 0...   \n",
       "4  [-0.0299224853515625, 0.016448974609375, 0.028...   \n",
       "\n",
       "                    Answer Embeddings: mistral-embed  \\\n",
       "0  [-0.01047515869140625, -0.007099151611328125, ...   \n",
       "1  [-0.022491455078125, -0.0136871337890625, 0.05...   \n",
       "2  [-0.0197296142578125, 0.005146026611328125, 0....   \n",
       "3  [0.0028972625732421875, -0.0002427101135253906...   \n",
       "4  [-0.0027790069580078125, -0.0124359130859375, ...   \n",
       "\n",
       "         Question Embeddings: text-embedding-ada-002  \\\n",
       "0  [0.020581984892487526, 0.0068562752567231655, ...   \n",
       "1  [0.016592826694250107, -0.0013070483691990376,...   \n",
       "2  [0.039898816496133804, 0.009220315143465996, 0...   \n",
       "3  [0.025606660172343254, 0.005926734767854214, 0...   \n",
       "4  [0.013608722016215324, -0.007326304446905851, ...   \n",
       "\n",
       "           Answer Embeddings: text-embedding-ada-002  \\\n",
       "0  [0.01394073385745287, -0.0076940665021538734, ...   \n",
       "1  [0.007233329117298126, 0.0071442644111812115, ...   \n",
       "2  [0.0021640665363520384, 0.008108162321150303, ...   \n",
       "3  [0.02016955055296421, -0.008751985616981983, 0...   \n",
       "4  [0.023980315774679184, -0.0257048849016428, 0....   \n",
       "\n",
       "         Question Embeddings: text-embedding-3-small  \\\n",
       "0  [-0.04551265388727188, 0.011044912040233612, 0...   \n",
       "1  [-0.04175806790590286, 0.010400454513728619, 0...   \n",
       "2  [-0.05220985785126686, -0.0108477883040905, 0....   \n",
       "3  [-0.040618691593408585, 0.017335548996925354, ...   \n",
       "4  [-0.03777245432138443, 0.04013200104236603, 0....   \n",
       "\n",
       "           Answer Embeddings: text-embedding-3-small  \\\n",
       "0  [-0.06468543410301208, 0.008432664908468723, 0...   \n",
       "1  [-0.015268453396856785, 0.026090648025274277, ...   \n",
       "2  [-0.019829710945487022, 0.01941532827913761, 0...   \n",
       "3  [-0.06687304377555847, 0.022782111540436745, 0...   \n",
       "4  [-0.02673247642815113, 0.040786463767290115, 0...   \n",
       "\n",
       "         Question Embeddings: text-embedding-3-large  \\\n",
       "0  [-0.000779634399805218, 0.006759680341929197, ...   \n",
       "1  [0.006959523539990187, 0.00851409137248993, -0...   \n",
       "2  [0.011959274299442768, 0.003065806347876787, -...   \n",
       "3  [0.007088058162480593, 0.0015454861568287015, ...   \n",
       "4  [0.013009252957999706, 0.03949623554944992, -0...   \n",
       "\n",
       "           Answer Embeddings: text-embedding-3-large  \n",
       "0  [-0.04551265388727188, 0.011044912040233612, 0...  \n",
       "1  [-0.04175806790590286, 0.010400454513728619, 0...  \n",
       "2  [-0.05220985785126686, -0.0108477883040905, 0....  \n",
       "3  [-0.040618691593408585, 0.017335548996925354, ...  \n",
       "4  [-0.03920025750994682, 0.04049645736813545, 0....  "
      ]
     },
     "execution_count": 464,
     "metadata": {},
     "output_type": "execute_result"
    }
   ],
   "source": [
    "df_with_embeddings.head(5)"
   ]
  },
  {
   "cell_type": "markdown",
   "metadata": {},
   "source": [
    "# RAG functions for Embedding models"
   ]
  },
  {
   "cell_type": "markdown",
   "metadata": {},
   "source": [
    "## Questions"
   ]
  },
  {
   "cell_type": "markdown",
   "metadata": {},
   "source": [
    "### mistral-embed RAG for Questions"
   ]
  },
  {
   "cell_type": "code",
   "execution_count": 465,
   "metadata": {},
   "outputs": [
    {
     "data": {
      "text/plain": [
       "'Wie sieht die Lizenzierung für SAP S/4HANA aus?'"
      ]
     },
     "execution_count": 465,
     "metadata": {},
     "output_type": "execute_result"
    }
   ],
   "source": [
    "import numpy as np\n",
    "from scipy.spatial.distance import cosine\n",
    "from mistralai.client import MistralClient\n",
    "\n",
    "client = MistralClient(api_key= mistral_key)\n",
    "\n",
    "def rag_questions_only_mistral_embed(input_text, embedding_model):\n",
    "    \n",
    "    input_embedding = client.embeddings(model=embedding_model, input=[input_text]).data[0].embedding\n",
    "    \n",
    "    similarities = []\n",
    "    \n",
    "    for question_embedding in df_with_embeddings[\"Question Embeddings: mistral-embed\"]:\n",
    "        similarity = 1 - cosine(input_embedding, question_embedding)\n",
    "        similarities.append(similarity)\n",
    "    \n",
    "    most_similar_index = np.argmax(similarities)\n",
    "    most_similar_question = df_with_embeddings.iloc[most_similar_index][\"Frage\"]\n",
    "    \n",
    "    return most_similar_question\n",
    "\n",
    "rag_questions_only_mistral_embed(\"Wie funktioniert die Lizenzierung in SAP S/4HANA?\", \"mistral-embed\")"
   ]
  },
  {
   "cell_type": "markdown",
   "metadata": {},
   "source": [
    "### text-embedding-ada-002 RAG for Questions"
   ]
  },
  {
   "cell_type": "code",
   "execution_count": 466,
   "metadata": {},
   "outputs": [
    {
     "data": {
      "text/plain": [
       "'Wie sieht die Lizenzierung für SAP S/4HANA aus?'"
      ]
     },
     "execution_count": 466,
     "metadata": {},
     "output_type": "execute_result"
    }
   ],
   "source": [
    "import numpy as np\n",
    "from scipy.spatial.distance import cosine\n",
    "from openai import OpenAI\n",
    "client = OpenAI(api_key = openai_key_embeddings)\n",
    "\n",
    "def rag_questions_only_openai_ada_002(input_text, embedding_model):\n",
    "    \n",
    "    input_embedding = client.embeddings.create(input=[input_text], model=embedding_model).data[0].embedding\n",
    "    \n",
    "    similarities = []\n",
    "    \n",
    "    for question_embedding in df_with_embeddings[\"Question Embeddings: text-embedding-ada-002\"]:\n",
    "        similarity = 1 - cosine(input_embedding, question_embedding)\n",
    "        similarities.append(similarity)\n",
    "    \n",
    "    most_similar_index = np.argmax(similarities)\n",
    "    most_similar_question = df_with_embeddings.iloc[most_similar_index][\"Frage\"]\n",
    "    \n",
    "    return most_similar_question\n",
    "\n",
    "rag_questions_only_openai_ada_002(\"Wie funktioniert die Lizenzierung in SAP S/4HANA?\", \"text-embedding-ada-002\")"
   ]
  },
  {
   "cell_type": "markdown",
   "metadata": {},
   "source": [
    "### text-embedding-3-small RAG for Questions"
   ]
  },
  {
   "cell_type": "code",
   "execution_count": 467,
   "metadata": {},
   "outputs": [
    {
     "data": {
      "text/plain": [
       "'Wie sieht die Lizenzierung für SAP S/4HANA aus?'"
      ]
     },
     "execution_count": 467,
     "metadata": {},
     "output_type": "execute_result"
    }
   ],
   "source": [
    "import numpy as np\n",
    "from scipy.spatial.distance import cosine\n",
    "from openai import OpenAI\n",
    "client = OpenAI(api_key = openai_key_embeddings)\n",
    "\n",
    "def rag_questions_only_openai_3_small(input_text, embedding_model):\n",
    "    \n",
    "    input_embedding = client.embeddings.create(input=[input_text], model=embedding_model).data[0].embedding\n",
    "    \n",
    "    similarities = []\n",
    "    \n",
    "    for question_embedding in df_with_embeddings[\"Question Embeddings: text-embedding-3-small\"]:\n",
    "        similarity = 1 - cosine(input_embedding, question_embedding)\n",
    "        similarities.append(similarity)\n",
    "    \n",
    "    most_similar_index = np.argmax(similarities)\n",
    "    most_similar_question = df_with_embeddings.iloc[most_similar_index][\"Frage\"]\n",
    "    \n",
    "    return most_similar_question\n",
    "\n",
    "rag_questions_only_openai_3_small(\"Wie funktioniert die Lizenzierung in SAP S/4HANA?\", \"text-embedding-3-small\")"
   ]
  },
  {
   "cell_type": "markdown",
   "metadata": {},
   "source": [
    "### text-embedding-3-large RAG for Questions"
   ]
  },
  {
   "cell_type": "code",
   "execution_count": 468,
   "metadata": {},
   "outputs": [
    {
     "data": {
      "text/plain": [
       "'Wie sieht die Lizenzierung für SAP S/4HANA aus?'"
      ]
     },
     "execution_count": 468,
     "metadata": {},
     "output_type": "execute_result"
    }
   ],
   "source": [
    "import numpy as np\n",
    "from scipy.spatial.distance import cosine\n",
    "from openai import OpenAI\n",
    "client = OpenAI(api_key = openai_key_embeddings)\n",
    "\n",
    "def rag_questions_only_openai_3_large(input_text, embedding_model):\n",
    "    \n",
    "    input_embedding = client.embeddings.create(input=[input_text], model=embedding_model).data[0].embedding\n",
    "    \n",
    "    similarities = []\n",
    "    \n",
    "    for question_embedding in df_with_embeddings[\"Question Embeddings: text-embedding-3-large\"]:\n",
    "        similarity = 1 - cosine(input_embedding, question_embedding)\n",
    "        similarities.append(similarity)\n",
    "    \n",
    "    most_similar_index = np.argmax(similarities)\n",
    "    most_similar_question = df_with_embeddings.iloc[most_similar_index][\"Frage\"]\n",
    "    \n",
    "    return most_similar_question\n",
    "\n",
    "\n",
    "rag_questions_only_openai_3_large(\"Wie funktioniert die Lizenzierung in SAP S/4HANA?\", \"text-embedding-3-large\")"
   ]
  },
  {
   "cell_type": "markdown",
   "metadata": {},
   "source": [
    "## Answers"
   ]
  },
  {
   "cell_type": "markdown",
   "metadata": {},
   "source": [
    "### mistral-embed RAG for Answers"
   ]
  },
  {
   "cell_type": "code",
   "execution_count": 469,
   "metadata": {},
   "outputs": [
    {
     "data": {
      "text/plain": [
       "'Die Dauer kann je nach Unternehmensgröße, Komplexität der Systeme und gewählter Migrationsmethode variieren.'"
      ]
     },
     "execution_count": 469,
     "metadata": {},
     "output_type": "execute_result"
    }
   ],
   "source": [
    "import numpy as np\n",
    "from scipy.spatial.distance import cosine\n",
    "from mistralai.client import MistralClient\n",
    "\n",
    "client = MistralClient(api_key= mistral_key)\n",
    "\n",
    "def rag_answers_only_mistral_embed(input_text, embedding_model):\n",
    "    \n",
    "    input_embedding = client.embeddings(model=embedding_model, input=[input_text]).data[0].embedding\n",
    "    \n",
    "    similarities = []\n",
    "    \n",
    "    for answer_embedding in df_with_embeddings[\"Answer Embeddings: mistral-embed\"]:\n",
    "        similarity = 1 - cosine(input_embedding, answer_embedding)\n",
    "        similarities.append(similarity)\n",
    "    \n",
    "    most_similar_index = np.argmax(similarities)\n",
    "    most_similar_answer = df_with_embeddings.iloc[most_similar_index][\"Antwort\"]\n",
    "    \n",
    "    return most_similar_answer\n",
    "\n",
    "rag_answers_only_mistral_embed(\"Die Zeit, die es braucht, kann unterschiedlich sein, abhängig von der Größe des Unternehmens, der Komplexität der Systeme und der gewählten Migrationsmethode.\", \"mistral-embed\")"
   ]
  },
  {
   "cell_type": "markdown",
   "metadata": {},
   "source": [
    "### text-embedding-ada-002 RAG for Answers"
   ]
  },
  {
   "cell_type": "code",
   "execution_count": 470,
   "metadata": {},
   "outputs": [
    {
     "data": {
      "text/plain": [
       "'Die Dauer kann je nach Unternehmensgröße, Komplexität der Systeme und gewählter Migrationsmethode variieren.'"
      ]
     },
     "execution_count": 470,
     "metadata": {},
     "output_type": "execute_result"
    }
   ],
   "source": [
    "import numpy as np\n",
    "from scipy.spatial.distance import cosine\n",
    "from openai import OpenAI\n",
    "client = OpenAI(api_key = openai_key_embeddings)\n",
    "\n",
    "def rag_answers_only_openai_ada_002(input_text, embedding_model):\n",
    "    \n",
    "    input_embedding = client.embeddings.create(input=[input_text], model=embedding_model).data[0].embedding\n",
    "    \n",
    "    similarities = []\n",
    "    \n",
    "    for answer_embedding in df_with_embeddings[\"Question Embeddings: text-embedding-ada-002\"]:\n",
    "        similarity = 1 - cosine(input_embedding, answer_embedding)\n",
    "        similarities.append(similarity)\n",
    "    \n",
    "    most_similar_index = np.argmax(similarities)\n",
    "    most_similar_answer = df_with_embeddings.iloc[most_similar_index][\"Antwort\"]\n",
    "    \n",
    "    return most_similar_answer\n",
    "\n",
    "\n",
    "rag_answers_only_openai_ada_002(\"Die Zeit, die es braucht, kann unterschiedlich sein, abhängig von der Größe des Unternehmens, der Komplexität der Systeme und der gewählten Migrationsmethode.\", \"text-embedding-ada-002\")"
   ]
  },
  {
   "cell_type": "markdown",
   "metadata": {},
   "source": [
    "### text-embedding-3-small RAG for Answers"
   ]
  },
  {
   "cell_type": "code",
   "execution_count": 471,
   "metadata": {},
   "outputs": [
    {
     "data": {
      "text/plain": [
       "'Die Dauer kann je nach Unternehmensgröße, Komplexität der Systeme und gewählter Migrationsmethode variieren.'"
      ]
     },
     "execution_count": 471,
     "metadata": {},
     "output_type": "execute_result"
    }
   ],
   "source": [
    "import numpy as np\n",
    "from scipy.spatial.distance import cosine\n",
    "from openai import OpenAI\n",
    "client = OpenAI(api_key = openai_key_embeddings)\n",
    "\n",
    "def rag_answers_only_openai_3_small(input_text, embedding_model):\n",
    "    \n",
    "    input_embedding = client.embeddings.create(input=[input_text], model=embedding_model).data[0].embedding\n",
    "    \n",
    "    similarities = []\n",
    "    \n",
    "    for answer_embedding in df_with_embeddings[\"Question Embeddings: text-embedding-3-small\"]:\n",
    "        similarity = 1 - cosine(input_embedding, answer_embedding)\n",
    "        similarities.append(similarity)\n",
    "    \n",
    "    most_similar_index = np.argmax(similarities)\n",
    "    most_similar_answer = df_with_embeddings.iloc[most_similar_index][\"Antwort\"]\n",
    "    \n",
    "    return most_similar_answer\n",
    "\n",
    "\n",
    "rag_answers_only_openai_3_small(\"Die Zeit, die es braucht, kann unterschiedlich sein, abhängig von der Größe des Unternehmens, der Komplexität der Systeme und der gewählten Migrationsmethode.\", \"text-embedding-3-small\")"
   ]
  },
  {
   "cell_type": "markdown",
   "metadata": {},
   "source": [
    "### text-embedding-3-large RAG for Answers"
   ]
  },
  {
   "cell_type": "code",
   "execution_count": 472,
   "metadata": {},
   "outputs": [],
   "source": [
    "import numpy as np\n",
    "from scipy.spatial.distance import cosine\n",
    "from openai import OpenAI\n",
    "client = OpenAI(api_key = openai_key_embeddings)\n",
    "\n",
    "def rag_answers_only_openai_3_large(input_text, embedding_model):\n",
    "    \n",
    "    input_embedding = client.embeddings.create(input=[input_text], model=embedding_model).data[0].embedding\n",
    "    \n",
    "    similarities = []\n",
    "    \n",
    "    for answer_embedding in df_with_embeddings[\"Question Embeddings: text-embedding-3-large\"]:\n",
    "        similarity = 1 - cosine(input_embedding, answer_embedding)\n",
    "        similarities.append(similarity)\n",
    "    \n",
    "    most_similar_index = np.argmax(similarities)\n",
    "    most_similar_answer = df_with_embeddings.iloc[most_similar_index][\"Antwort\"]\n",
    "    \n",
    "    return most_similar_answer\n",
    "\n",
    "\n",
    "most_similar_answer_3_large = rag_answers_only_openai_3_large(\"Die Zeit, die es braucht, kann unterschiedlich sein, abhängig von der Größe des Unternehmens, der Komplexität der Systeme und der gewählten Migrationsmethode.\", \"text-embedding-3-large\")"
   ]
  },
  {
   "cell_type": "markdown",
   "metadata": {},
   "source": [
    "## Answers to Questions"
   ]
  },
  {
   "cell_type": "markdown",
   "metadata": {},
   "source": [
    "### mistral-embed RAG"
   ]
  },
  {
   "cell_type": "code",
   "execution_count": 473,
   "metadata": {},
   "outputs": [
    {
     "data": {
      "text/plain": [
       "'Die Lizenzierung basiert auf verschiedenen Faktoren wie Nutzeranzahl, Funktionsumfang und Implementierungsmethode.'"
      ]
     },
     "execution_count": 473,
     "metadata": {},
     "output_type": "execute_result"
    }
   ],
   "source": [
    "from scipy.spatial.distance import cosine\n",
    "from mistralai.client import MistralClient\n",
    "\n",
    "clientMistral = MistralClient(api_key= mistral_key)\n",
    "\n",
    "def rag_answer_to_questions_mistral_embed(test_text_mistral_embed, embedding_model):\n",
    "    \n",
    "    input_embedding = clientMistral.embeddings(model=embedding_model, input=[test_text_mistral_embed]).data[0].embedding\n",
    "    \n",
    "    similarities = []\n",
    "    \n",
    "    for i, question_embedding in enumerate(df_with_embeddings[\"Question Embeddings: mistral-embed\"]):\n",
    "        similarity = 1 - cosine(input_embedding, question_embedding)\n",
    "        similarities.append((similarity, i))\n",
    "    \n",
    "    similarities.sort(reverse=True)\n",
    "    \n",
    "    most_similar_index = similarities[0][1]\n",
    "    most_similar_answer = df_with_embeddings.iloc[most_similar_index][\"Antwort\"]\n",
    "    \n",
    "    return most_similar_answer\n",
    "\n",
    "rag_answer_to_questions_mistral_embed(\"Wie funktioniert die Lizenzierung in SAP S/4HANA?\", \"mistral-embed\")"
   ]
  },
  {
   "cell_type": "markdown",
   "metadata": {},
   "source": [
    "### text-embedding-ada-002 RAG"
   ]
  },
  {
   "cell_type": "code",
   "execution_count": 474,
   "metadata": {},
   "outputs": [
    {
     "data": {
      "text/plain": [
       "'Die Lizenzierung basiert auf verschiedenen Faktoren wie Nutzeranzahl, Funktionsumfang und Implementierungsmethode.'"
      ]
     },
     "execution_count": 474,
     "metadata": {},
     "output_type": "execute_result"
    }
   ],
   "source": [
    "from scipy.spatial.distance import cosine\n",
    "\n",
    "clientOpenAI = OpenAI(api_key=openai_key_embeddings)\n",
    "\n",
    "def rag_answer_to_questions_openai_ada_002(test_text_3_small, embedding_model):\n",
    "    \n",
    "    input_embedding = clientOpenAI.embeddings.create(input=[test_text_3_small], model=embedding_model).data[0].embedding\n",
    "    \n",
    "    similarities = []\n",
    "    \n",
    "    for i, question_embedding in enumerate(df_with_embeddings[\"Question Embeddings: text-embedding-ada-002\"]):\n",
    "        similarity = 1 - cosine(input_embedding, question_embedding)\n",
    "        similarities.append((similarity, i))\n",
    "    \n",
    "    similarities.sort(reverse=True)\n",
    "    \n",
    "    most_similar_index = similarities[0][1]\n",
    "    most_similar_answer = df_with_embeddings.iloc[most_similar_index][\"Antwort\"]\n",
    "    \n",
    "    return most_similar_answer\n",
    "\n",
    "rag_answer_to_questions_openai_ada_002(\"Wie funktioniert die Lizenzierung in SAP S/4HANA?\", \"text-embedding-ada-002\")"
   ]
  },
  {
   "cell_type": "markdown",
   "metadata": {},
   "source": [
    "### text-embedding-3-small RAG "
   ]
  },
  {
   "cell_type": "code",
   "execution_count": 475,
   "metadata": {},
   "outputs": [
    {
     "data": {
      "text/plain": [
       "'Die Lizenzierung basiert auf verschiedenen Faktoren wie Nutzeranzahl, Funktionsumfang und Implementierungsmethode.'"
      ]
     },
     "execution_count": 475,
     "metadata": {},
     "output_type": "execute_result"
    }
   ],
   "source": [
    "from scipy.spatial.distance import cosine\n",
    "\n",
    "clientOpenAI = OpenAI(api_key=openai_key_embeddings)\n",
    "\n",
    "def rag_answer_to_questions_openai_3_small(test_text_3_small, embedding_model):\n",
    "    \n",
    "    input_embedding = clientOpenAI.embeddings.create(input=[test_text_3_small], model=embedding_model).data[0].embedding\n",
    "    \n",
    "    similarities = []\n",
    "    \n",
    "    for i, question_embedding in enumerate(df_with_embeddings[\"Question Embeddings: text-embedding-3-small\"]):\n",
    "        similarity = 1 - cosine(input_embedding, question_embedding)\n",
    "        similarities.append((similarity, i))\n",
    "    \n",
    "    similarities.sort(reverse=True)\n",
    "    \n",
    "    most_similar_index = similarities[0][1]\n",
    "    most_similar_answer = df_with_embeddings.iloc[most_similar_index][\"Antwort\"]\n",
    "    \n",
    "    return most_similar_answer\n",
    "\n",
    "rag_answer_to_questions_openai_3_small(\"Wie funktioniert die Lizenzierung in SAP S/4HANA?\", \"text-embedding-3-small\")"
   ]
  },
  {
   "cell_type": "markdown",
   "metadata": {},
   "source": [
    "### text-embedding-3-large RAG"
   ]
  },
  {
   "cell_type": "code",
   "execution_count": 476,
   "metadata": {},
   "outputs": [
    {
     "data": {
      "text/plain": [
       "'Die Lizenzierung basiert auf verschiedenen Faktoren wie Nutzeranzahl, Funktionsumfang und Implementierungsmethode.'"
      ]
     },
     "execution_count": 476,
     "metadata": {},
     "output_type": "execute_result"
    }
   ],
   "source": [
    "from scipy.spatial.distance import cosine\n",
    "\n",
    "clientOpenAI = OpenAI(api_key=openai_key_embeddings)\n",
    "\n",
    "def rag_answer_to_questions_openai_3_large(test_text_3_large, embedding_model):\n",
    "    \n",
    "    input_embedding = clientOpenAI.embeddings.create(input=[test_text_3_large], model=embedding_model).data[0].embedding\n",
    "    \n",
    "    similarities = []\n",
    "    \n",
    "    for i, question_embedding in enumerate(df_with_embeddings[\"Question Embeddings: text-embedding-3-large\"]):\n",
    "        similarity = 1 - cosine(input_embedding, question_embedding)\n",
    "        similarities.append((similarity, i))\n",
    "    \n",
    "    similarities.sort(reverse=True)\n",
    "    \n",
    "    most_similar_index = similarities[0][1]\n",
    "    most_similar_answer = df_with_embeddings.iloc[most_similar_index][\"Antwort\"]\n",
    "    \n",
    "    return most_similar_answer\n",
    "\n",
    "rag_answer_to_questions_openai_3_large(\"Wie funktioniert die Lizenzierung in SAP S/4HANA?\", \"text-embedding-3-large\")\n"
   ]
  },
  {
   "cell_type": "markdown",
   "metadata": {},
   "source": [
    "### Overview Function"
   ]
  },
  {
   "cell_type": "code",
   "execution_count": 477,
   "metadata": {},
   "outputs": [
    {
     "name": "stdout",
     "output_type": "stream",
     "text": [
      "Mistral Answer: SAP S/4HANA ist eine Enterprise Resource Planning (ERP)-Suite, die auf der In-Memory-Datenbanktechnologie von SAP HANA basiert.\n",
      "OpenAI 3-Small: Die Lizenzierung basiert auf verschiedenen Faktoren wie Nutzeranzahl, Funktionsumfang und Implementierungsmethode.\n",
      "OpenAI 3-Large: In-Memory-Technologien ermöglichen eine schnellere Datenverarbeitung und Echtzeitanalysen.\n"
     ]
    }
   ],
   "source": [
    "def compare_models(test_text):\n",
    "    print(f\"Mistral Answer: {rag_answer_to_questions_mistral_embed(test_text, \"mistral-embed\")}\")\n",
    "    print(f\"OpenAI 3-Small: {rag_answer_to_questions_openai_3_small(test_text, \"text-embedding-3-small\")}\")\n",
    "    print(f\"OpenAI 3-Large: {rag_answer_to_questions_openai_3_large(test_text, \"text-embedding-3-large\")}\")\n",
    "\n",
    "compare_models(\"Lizez SAP HANA\")"
   ]
  },
  {
   "cell_type": "markdown",
   "metadata": {},
   "source": [
    "# Evaluation of Embedding Models"
   ]
  },
  {
   "cell_type": "code",
   "execution_count": 478,
   "metadata": {},
   "outputs": [
    {
     "data": {
      "text/html": [
       "<div>\n",
       "<style scoped>\n",
       "    .dataframe tbody tr th:only-of-type {\n",
       "        vertical-align: middle;\n",
       "    }\n",
       "\n",
       "    .dataframe tbody tr th {\n",
       "        vertical-align: top;\n",
       "    }\n",
       "\n",
       "    .dataframe thead th {\n",
       "        text-align: right;\n",
       "    }\n",
       "</style>\n",
       "<table border=\"1\" class=\"dataframe\">\n",
       "  <thead>\n",
       "    <tr style=\"text-align: right;\">\n",
       "      <th></th>\n",
       "      <th>Frage</th>\n",
       "      <th>Antwort</th>\n",
       "      <th>Question Embeddings: mistral-embed</th>\n",
       "      <th>Answer Embeddings: mistral-embed</th>\n",
       "      <th>Question Embeddings: text-embedding-ada-002</th>\n",
       "      <th>Answer Embeddings: text-embedding-ada-002</th>\n",
       "      <th>Question Embeddings: text-embedding-3-small</th>\n",
       "      <th>Answer Embeddings: text-embedding-3-small</th>\n",
       "      <th>Question Embeddings: text-embedding-3-large</th>\n",
       "      <th>Answer Embeddings: text-embedding-3-large</th>\n",
       "    </tr>\n",
       "  </thead>\n",
       "  <tbody>\n",
       "    <tr>\n",
       "      <th>0</th>\n",
       "      <td>Was ist SAP S/4HANA?</td>\n",
       "      <td>SAP S/4HANA ist eine Enterprise Resource Plann...</td>\n",
       "      <td>[-0.00012612342834472656, 0.00600433349609375,...</td>\n",
       "      <td>[-0.01047515869140625, -0.007099151611328125, ...</td>\n",
       "      <td>[0.020581984892487526, 0.0068562752567231655, ...</td>\n",
       "      <td>[0.01394073385745287, -0.0076940665021538734, ...</td>\n",
       "      <td>[-0.04551265388727188, 0.011044912040233612, 0...</td>\n",
       "      <td>[-0.06468543410301208, 0.008432664908468723, 0...</td>\n",
       "      <td>[-0.000779634399805218, 0.006759680341929197, ...</td>\n",
       "      <td>[-0.04551265388727188, 0.011044912040233612, 0...</td>\n",
       "    </tr>\n",
       "    <tr>\n",
       "      <th>1</th>\n",
       "      <td>Welche Vorteile bietet SAP S/4HANA?</td>\n",
       "      <td>Zu den Vorteilen von SAP S/4HANA gehören eine ...</td>\n",
       "      <td>[-0.006504058837890625, 0.00728607177734375, 0...</td>\n",
       "      <td>[-0.022491455078125, -0.0136871337890625, 0.05...</td>\n",
       "      <td>[0.016592826694250107, -0.0013070483691990376,...</td>\n",
       "      <td>[0.007233329117298126, 0.0071442644111812115, ...</td>\n",
       "      <td>[-0.04175806790590286, 0.010400454513728619, 0...</td>\n",
       "      <td>[-0.015268453396856785, 0.026090648025274277, ...</td>\n",
       "      <td>[0.006959523539990187, 0.00851409137248993, -0...</td>\n",
       "      <td>[-0.04175806790590286, 0.010400454513728619, 0...</td>\n",
       "    </tr>\n",
       "    <tr>\n",
       "      <th>2</th>\n",
       "      <td>Was sind die Hauptunterschiede zwischen SAP S/...</td>\n",
       "      <td>Die Hauptunterschiede umfassen die In-Memory-D...</td>\n",
       "      <td>[-0.007793426513671875, 0.0261993408203125, 0....</td>\n",
       "      <td>[-0.0197296142578125, 0.005146026611328125, 0....</td>\n",
       "      <td>[0.039898816496133804, 0.009220315143465996, 0...</td>\n",
       "      <td>[0.0021640665363520384, 0.008108162321150303, ...</td>\n",
       "      <td>[-0.05220985785126686, -0.0108477883040905, 0....</td>\n",
       "      <td>[-0.019829710945487022, 0.01941532827913761, 0...</td>\n",
       "      <td>[0.011959274299442768, 0.003065806347876787, -...</td>\n",
       "      <td>[-0.05220985785126686, -0.0108477883040905, 0....</td>\n",
       "    </tr>\n",
       "    <tr>\n",
       "      <th>3</th>\n",
       "      <td>Welche Module sind in SAP S/4HANA enthalten?</td>\n",
       "      <td>SAP S/4HANA umfasst Module für Finanzen, Besch...</td>\n",
       "      <td>[0.0027904510498046875, 0.01560211181640625, 0...</td>\n",
       "      <td>[0.0028972625732421875, -0.0002427101135253906...</td>\n",
       "      <td>[0.025606660172343254, 0.005926734767854214, 0...</td>\n",
       "      <td>[0.02016955055296421, -0.008751985616981983, 0...</td>\n",
       "      <td>[-0.040618691593408585, 0.017335548996925354, ...</td>\n",
       "      <td>[-0.06687304377555847, 0.022782111540436745, 0...</td>\n",
       "      <td>[0.007088058162480593, 0.0015454861568287015, ...</td>\n",
       "      <td>[-0.040618691593408585, 0.017335548996925354, ...</td>\n",
       "    </tr>\n",
       "    <tr>\n",
       "      <th>4</th>\n",
       "      <td>Benötige ich eine Migration von meinem aktuell...</td>\n",
       "      <td>Ja, eine Migration ist erforderlich, da SAP S/...</td>\n",
       "      <td>[-0.0299224853515625, 0.016448974609375, 0.028...</td>\n",
       "      <td>[-0.0027790069580078125, -0.0124359130859375, ...</td>\n",
       "      <td>[0.013608722016215324, -0.007326304446905851, ...</td>\n",
       "      <td>[0.023980315774679184, -0.0257048849016428, 0....</td>\n",
       "      <td>[-0.03777245432138443, 0.04013200104236603, 0....</td>\n",
       "      <td>[-0.02673247642815113, 0.040786463767290115, 0...</td>\n",
       "      <td>[0.013009252957999706, 0.03949623554944992, -0...</td>\n",
       "      <td>[-0.03920025750994682, 0.04049645736813545, 0....</td>\n",
       "    </tr>\n",
       "    <tr>\n",
       "      <th>...</th>\n",
       "      <td>...</td>\n",
       "      <td>...</td>\n",
       "      <td>...</td>\n",
       "      <td>...</td>\n",
       "      <td>...</td>\n",
       "      <td>...</td>\n",
       "      <td>...</td>\n",
       "      <td>...</td>\n",
       "      <td>...</td>\n",
       "      <td>...</td>\n",
       "    </tr>\n",
       "    <tr>\n",
       "      <th>95</th>\n",
       "      <td>Welche Schulungsressourcen und Unterstützung b...</td>\n",
       "      <td>SAP bietet Schulungsressourcen, Schulungen und...</td>\n",
       "      <td>[-0.023162841796875, 0.0231475830078125, 0.043...</td>\n",
       "      <td>[-0.0168914794921875, 0.0008006095886230469, 0...</td>\n",
       "      <td>[0.013494105078279972, -0.011890137568116188, ...</td>\n",
       "      <td>[-0.0035913982428610325, -0.004740770440548658...</td>\n",
       "      <td>[-0.03508688881993294, 0.02731972001492977, 0....</td>\n",
       "      <td>[-0.04438437893986702, 0.023657530546188354, 0...</td>\n",
       "      <td>[0.015864694491028786, 0.02138870768249035, -0...</td>\n",
       "      <td>[-0.03506753593683243, 0.027382919564843178, 0...</td>\n",
       "    </tr>\n",
       "    <tr>\n",
       "      <th>96</th>\n",
       "      <td>Ist SAP SuccessFactors eine cloudbasierte Lösung?</td>\n",
       "      <td>Ja, SAP SuccessFactors ist eine cloudbasierte ...</td>\n",
       "      <td>[-0.0199432373046875, 0.0278167724609375, 0.02...</td>\n",
       "      <td>[-0.026397705078125, 0.0257110595703125, 0.020...</td>\n",
       "      <td>[0.02007886953651905, -0.007643880322575569, 0...</td>\n",
       "      <td>[0.015938352793455124, -0.008424196392297745, ...</td>\n",
       "      <td>[-0.07585717737674713, 0.012959856539964676, 0...</td>\n",
       "      <td>[-0.06858152896165848, 0.010437645949423313, 0...</td>\n",
       "      <td>[-0.003956659696996212, 0.006207706872373819, ...</td>\n",
       "      <td>[-0.07585717737674713, 0.012959856539964676, 0...</td>\n",
       "    </tr>\n",
       "    <tr>\n",
       "      <th>97</th>\n",
       "      <td>Wie erfolgt die Lizenzierung von SAP SuccessFa...</td>\n",
       "      <td>Die Lizenzierung von SAP SuccessFactors erfolg...</td>\n",
       "      <td>[-0.026580810546875, 0.02978515625, 0.02326965...</td>\n",
       "      <td>[-0.04205322265625, 0.0196685791015625, 0.0034...</td>\n",
       "      <td>[0.04173319786787033, 0.009755135513842106, 0....</td>\n",
       "      <td>[0.029685040935873985, 0.0066001578234136105, ...</td>\n",
       "      <td>[-0.022737594321370125, 0.026175430044531822, ...</td>\n",
       "      <td>[-0.03319000452756882, 0.037801411002874374, 0...</td>\n",
       "      <td>[0.002468980150297284, 0.0004094249743502587, ...</td>\n",
       "      <td>[-0.022737594321370125, 0.026175430044531822, ...</td>\n",
       "    </tr>\n",
       "    <tr>\n",
       "      <th>98</th>\n",
       "      <td>Bietet SAP SuccessFactors Funktionen für die A...</td>\n",
       "      <td>Ja, SAP SuccessFactors bietet Funktionen für d...</td>\n",
       "      <td>[-0.021270751953125, 0.037750244140625, 0.0478...</td>\n",
       "      <td>[-0.0241241455078125, 0.02984619140625, 0.0427...</td>\n",
       "      <td>[0.01893707923591137, -0.011880947276949883, 0...</td>\n",
       "      <td>[0.014625104144215584, -0.008604103699326515, ...</td>\n",
       "      <td>[-0.05296477675437927, 0.018537672236561775, 0...</td>\n",
       "      <td>[-0.059949032962322235, 0.029077425599098206, ...</td>\n",
       "      <td>[-0.011078423820436, -0.010073578916490078, -0...</td>\n",
       "      <td>[-0.05296477675437927, 0.018537672236561775, 0...</td>\n",
       "    </tr>\n",
       "    <tr>\n",
       "      <th>99</th>\n",
       "      <td>Welche Art von Support und Wartung bietet SAP ...</td>\n",
       "      <td>SAP bietet umfassenden Support und regelmäßige...</td>\n",
       "      <td>[-0.016143798828125, 0.02191162109375, 0.04156...</td>\n",
       "      <td>[-0.02838134765625, 0.004909515380859375, 0.04...</td>\n",
       "      <td>[0.032942995429039, 0.0087354751303792, 0.0375...</td>\n",
       "      <td>[0.004940326791256666, 0.0010807954240590334, ...</td>\n",
       "      <td>[-0.03508766368031502, 0.04573966562747955, 0....</td>\n",
       "      <td>[-0.042063962668180466, 0.023073727265000343, ...</td>\n",
       "      <td>[0.03481224179267883, 0.028684517368674278, -0...</td>\n",
       "      <td>[-0.03508766368031502, 0.04573966562747955, 0....</td>\n",
       "    </tr>\n",
       "  </tbody>\n",
       "</table>\n",
       "<p>100 rows × 10 columns</p>\n",
       "</div>"
      ],
      "text/plain": [
       "                                                Frage  \\\n",
       "0                                Was ist SAP S/4HANA?   \n",
       "1                 Welche Vorteile bietet SAP S/4HANA?   \n",
       "2   Was sind die Hauptunterschiede zwischen SAP S/...   \n",
       "3        Welche Module sind in SAP S/4HANA enthalten?   \n",
       "4   Benötige ich eine Migration von meinem aktuell...   \n",
       "..                                                ...   \n",
       "95  Welche Schulungsressourcen und Unterstützung b...   \n",
       "96  Ist SAP SuccessFactors eine cloudbasierte Lösung?   \n",
       "97  Wie erfolgt die Lizenzierung von SAP SuccessFa...   \n",
       "98  Bietet SAP SuccessFactors Funktionen für die A...   \n",
       "99  Welche Art von Support und Wartung bietet SAP ...   \n",
       "\n",
       "                                              Antwort  \\\n",
       "0   SAP S/4HANA ist eine Enterprise Resource Plann...   \n",
       "1   Zu den Vorteilen von SAP S/4HANA gehören eine ...   \n",
       "2   Die Hauptunterschiede umfassen die In-Memory-D...   \n",
       "3   SAP S/4HANA umfasst Module für Finanzen, Besch...   \n",
       "4   Ja, eine Migration ist erforderlich, da SAP S/...   \n",
       "..                                                ...   \n",
       "95  SAP bietet Schulungsressourcen, Schulungen und...   \n",
       "96  Ja, SAP SuccessFactors ist eine cloudbasierte ...   \n",
       "97  Die Lizenzierung von SAP SuccessFactors erfolg...   \n",
       "98  Ja, SAP SuccessFactors bietet Funktionen für d...   \n",
       "99  SAP bietet umfassenden Support und regelmäßige...   \n",
       "\n",
       "                   Question Embeddings: mistral-embed  \\\n",
       "0   [-0.00012612342834472656, 0.00600433349609375,...   \n",
       "1   [-0.006504058837890625, 0.00728607177734375, 0...   \n",
       "2   [-0.007793426513671875, 0.0261993408203125, 0....   \n",
       "3   [0.0027904510498046875, 0.01560211181640625, 0...   \n",
       "4   [-0.0299224853515625, 0.016448974609375, 0.028...   \n",
       "..                                                ...   \n",
       "95  [-0.023162841796875, 0.0231475830078125, 0.043...   \n",
       "96  [-0.0199432373046875, 0.0278167724609375, 0.02...   \n",
       "97  [-0.026580810546875, 0.02978515625, 0.02326965...   \n",
       "98  [-0.021270751953125, 0.037750244140625, 0.0478...   \n",
       "99  [-0.016143798828125, 0.02191162109375, 0.04156...   \n",
       "\n",
       "                     Answer Embeddings: mistral-embed  \\\n",
       "0   [-0.01047515869140625, -0.007099151611328125, ...   \n",
       "1   [-0.022491455078125, -0.0136871337890625, 0.05...   \n",
       "2   [-0.0197296142578125, 0.005146026611328125, 0....   \n",
       "3   [0.0028972625732421875, -0.0002427101135253906...   \n",
       "4   [-0.0027790069580078125, -0.0124359130859375, ...   \n",
       "..                                                ...   \n",
       "95  [-0.0168914794921875, 0.0008006095886230469, 0...   \n",
       "96  [-0.026397705078125, 0.0257110595703125, 0.020...   \n",
       "97  [-0.04205322265625, 0.0196685791015625, 0.0034...   \n",
       "98  [-0.0241241455078125, 0.02984619140625, 0.0427...   \n",
       "99  [-0.02838134765625, 0.004909515380859375, 0.04...   \n",
       "\n",
       "          Question Embeddings: text-embedding-ada-002  \\\n",
       "0   [0.020581984892487526, 0.0068562752567231655, ...   \n",
       "1   [0.016592826694250107, -0.0013070483691990376,...   \n",
       "2   [0.039898816496133804, 0.009220315143465996, 0...   \n",
       "3   [0.025606660172343254, 0.005926734767854214, 0...   \n",
       "4   [0.013608722016215324, -0.007326304446905851, ...   \n",
       "..                                                ...   \n",
       "95  [0.013494105078279972, -0.011890137568116188, ...   \n",
       "96  [0.02007886953651905, -0.007643880322575569, 0...   \n",
       "97  [0.04173319786787033, 0.009755135513842106, 0....   \n",
       "98  [0.01893707923591137, -0.011880947276949883, 0...   \n",
       "99  [0.032942995429039, 0.0087354751303792, 0.0375...   \n",
       "\n",
       "            Answer Embeddings: text-embedding-ada-002  \\\n",
       "0   [0.01394073385745287, -0.0076940665021538734, ...   \n",
       "1   [0.007233329117298126, 0.0071442644111812115, ...   \n",
       "2   [0.0021640665363520384, 0.008108162321150303, ...   \n",
       "3   [0.02016955055296421, -0.008751985616981983, 0...   \n",
       "4   [0.023980315774679184, -0.0257048849016428, 0....   \n",
       "..                                                ...   \n",
       "95  [-0.0035913982428610325, -0.004740770440548658...   \n",
       "96  [0.015938352793455124, -0.008424196392297745, ...   \n",
       "97  [0.029685040935873985, 0.0066001578234136105, ...   \n",
       "98  [0.014625104144215584, -0.008604103699326515, ...   \n",
       "99  [0.004940326791256666, 0.0010807954240590334, ...   \n",
       "\n",
       "          Question Embeddings: text-embedding-3-small  \\\n",
       "0   [-0.04551265388727188, 0.011044912040233612, 0...   \n",
       "1   [-0.04175806790590286, 0.010400454513728619, 0...   \n",
       "2   [-0.05220985785126686, -0.0108477883040905, 0....   \n",
       "3   [-0.040618691593408585, 0.017335548996925354, ...   \n",
       "4   [-0.03777245432138443, 0.04013200104236603, 0....   \n",
       "..                                                ...   \n",
       "95  [-0.03508688881993294, 0.02731972001492977, 0....   \n",
       "96  [-0.07585717737674713, 0.012959856539964676, 0...   \n",
       "97  [-0.022737594321370125, 0.026175430044531822, ...   \n",
       "98  [-0.05296477675437927, 0.018537672236561775, 0...   \n",
       "99  [-0.03508766368031502, 0.04573966562747955, 0....   \n",
       "\n",
       "            Answer Embeddings: text-embedding-3-small  \\\n",
       "0   [-0.06468543410301208, 0.008432664908468723, 0...   \n",
       "1   [-0.015268453396856785, 0.026090648025274277, ...   \n",
       "2   [-0.019829710945487022, 0.01941532827913761, 0...   \n",
       "3   [-0.06687304377555847, 0.022782111540436745, 0...   \n",
       "4   [-0.02673247642815113, 0.040786463767290115, 0...   \n",
       "..                                                ...   \n",
       "95  [-0.04438437893986702, 0.023657530546188354, 0...   \n",
       "96  [-0.06858152896165848, 0.010437645949423313, 0...   \n",
       "97  [-0.03319000452756882, 0.037801411002874374, 0...   \n",
       "98  [-0.059949032962322235, 0.029077425599098206, ...   \n",
       "99  [-0.042063962668180466, 0.023073727265000343, ...   \n",
       "\n",
       "          Question Embeddings: text-embedding-3-large  \\\n",
       "0   [-0.000779634399805218, 0.006759680341929197, ...   \n",
       "1   [0.006959523539990187, 0.00851409137248993, -0...   \n",
       "2   [0.011959274299442768, 0.003065806347876787, -...   \n",
       "3   [0.007088058162480593, 0.0015454861568287015, ...   \n",
       "4   [0.013009252957999706, 0.03949623554944992, -0...   \n",
       "..                                                ...   \n",
       "95  [0.015864694491028786, 0.02138870768249035, -0...   \n",
       "96  [-0.003956659696996212, 0.006207706872373819, ...   \n",
       "97  [0.002468980150297284, 0.0004094249743502587, ...   \n",
       "98  [-0.011078423820436, -0.010073578916490078, -0...   \n",
       "99  [0.03481224179267883, 0.028684517368674278, -0...   \n",
       "\n",
       "            Answer Embeddings: text-embedding-3-large  \n",
       "0   [-0.04551265388727188, 0.011044912040233612, 0...  \n",
       "1   [-0.04175806790590286, 0.010400454513728619, 0...  \n",
       "2   [-0.05220985785126686, -0.0108477883040905, 0....  \n",
       "3   [-0.040618691593408585, 0.017335548996925354, ...  \n",
       "4   [-0.03920025750994682, 0.04049645736813545, 0....  \n",
       "..                                                ...  \n",
       "95  [-0.03506753593683243, 0.027382919564843178, 0...  \n",
       "96  [-0.07585717737674713, 0.012959856539964676, 0...  \n",
       "97  [-0.022737594321370125, 0.026175430044531822, ...  \n",
       "98  [-0.05296477675437927, 0.018537672236561775, 0...  \n",
       "99  [-0.03508766368031502, 0.04573966562747955, 0....  \n",
       "\n",
       "[100 rows x 10 columns]"
      ]
     },
     "execution_count": 478,
     "metadata": {},
     "output_type": "execute_result"
    }
   ],
   "source": [
    "df_with_embeddings"
   ]
  },
  {
   "cell_type": "markdown",
   "metadata": {},
   "source": [
    "## Create DataFrame with modified questions"
   ]
  },
  {
   "cell_type": "code",
   "execution_count": 479,
   "metadata": {},
   "outputs": [
    {
     "data": {
      "text/html": [
       "<div>\n",
       "<style scoped>\n",
       "    .dataframe tbody tr th:only-of-type {\n",
       "        vertical-align: middle;\n",
       "    }\n",
       "\n",
       "    .dataframe tbody tr th {\n",
       "        vertical-align: top;\n",
       "    }\n",
       "\n",
       "    .dataframe thead th {\n",
       "        text-align: right;\n",
       "    }\n",
       "</style>\n",
       "<table border=\"1\" class=\"dataframe\">\n",
       "  <thead>\n",
       "    <tr style=\"text-align: right;\">\n",
       "      <th></th>\n",
       "      <th>Frage</th>\n",
       "      <th>Antwort</th>\n",
       "      <th>Question Embeddings: mistral-embed</th>\n",
       "      <th>Answer Embeddings: mistral-embed</th>\n",
       "      <th>Question Embeddings: text-embedding-ada-002</th>\n",
       "      <th>Answer Embeddings: text-embedding-ada-002</th>\n",
       "      <th>Question Embeddings: text-embedding-3-small</th>\n",
       "      <th>Answer Embeddings: text-embedding-3-small</th>\n",
       "      <th>Question Embeddings: text-embedding-3-large</th>\n",
       "      <th>Answer Embeddings: text-embedding-3-large</th>\n",
       "      <th>Frage (modifiziert)</th>\n",
       "      <th>Frage (stark modifiziert)</th>\n",
       "    </tr>\n",
       "  </thead>\n",
       "  <tbody>\n",
       "    <tr>\n",
       "      <th>0</th>\n",
       "      <td>Was ist SAP S/4HANA?</td>\n",
       "      <td>SAP S/4HANA ist eine Enterprise Resource Plann...</td>\n",
       "      <td>[-0.00012612342834472656, 0.00600433349609375,...</td>\n",
       "      <td>[-0.01047515869140625, -0.007099151611328125, ...</td>\n",
       "      <td>[0.020581984892487526, 0.0068562752567231655, ...</td>\n",
       "      <td>[0.01394073385745287, -0.0076940665021538734, ...</td>\n",
       "      <td>[-0.04551265388727188, 0.011044912040233612, 0...</td>\n",
       "      <td>[-0.06468543410301208, 0.008432664908468723, 0...</td>\n",
       "      <td>[-0.000779634399805218, 0.006759680341929197, ...</td>\n",
       "      <td>[-0.04551265388727188, 0.011044912040233612, 0...</td>\n",
       "      <td>Was ist S/4?</td>\n",
       "      <td>S/4?</td>\n",
       "    </tr>\n",
       "    <tr>\n",
       "      <th>1</th>\n",
       "      <td>Welche Vorteile bietet SAP S/4HANA?</td>\n",
       "      <td>Zu den Vorteilen von SAP S/4HANA gehören eine ...</td>\n",
       "      <td>[-0.006504058837890625, 0.00728607177734375, 0...</td>\n",
       "      <td>[-0.022491455078125, -0.0136871337890625, 0.05...</td>\n",
       "      <td>[0.016592826694250107, -0.0013070483691990376,...</td>\n",
       "      <td>[0.007233329117298126, 0.0071442644111812115, ...</td>\n",
       "      <td>[-0.04175806790590286, 0.010400454513728619, 0...</td>\n",
       "      <td>[-0.015268453396856785, 0.026090648025274277, ...</td>\n",
       "      <td>[0.006959523539990187, 0.00851409137248993, -0...</td>\n",
       "      <td>[-0.04175806790590286, 0.010400454513728619, 0...</td>\n",
       "      <td>Welche Vorzüge bietet SAP S/4HANA?</td>\n",
       "      <td>Vorteile HANA</td>\n",
       "    </tr>\n",
       "    <tr>\n",
       "      <th>2</th>\n",
       "      <td>Was sind die Hauptunterschiede zwischen SAP S/...</td>\n",
       "      <td>Die Hauptunterschiede umfassen die In-Memory-D...</td>\n",
       "      <td>[-0.007793426513671875, 0.0261993408203125, 0....</td>\n",
       "      <td>[-0.0197296142578125, 0.005146026611328125, 0....</td>\n",
       "      <td>[0.039898816496133804, 0.009220315143465996, 0...</td>\n",
       "      <td>[0.0021640665363520384, 0.008108162321150303, ...</td>\n",
       "      <td>[-0.05220985785126686, -0.0108477883040905, 0....</td>\n",
       "      <td>[-0.019829710945487022, 0.01941532827913761, 0...</td>\n",
       "      <td>[0.011959274299442768, 0.003065806347876787, -...</td>\n",
       "      <td>[-0.05220985785126686, -0.0108477883040905, 0....</td>\n",
       "      <td>Was sind die Hauptunterschiede zwischen SAP S/...</td>\n",
       "      <td>SAP S/4HANA vs. SAP ERP?</td>\n",
       "    </tr>\n",
       "    <tr>\n",
       "      <th>3</th>\n",
       "      <td>Welche Module sind in SAP S/4HANA enthalten?</td>\n",
       "      <td>SAP S/4HANA umfasst Module für Finanzen, Besch...</td>\n",
       "      <td>[0.0027904510498046875, 0.01560211181640625, 0...</td>\n",
       "      <td>[0.0028972625732421875, -0.0002427101135253906...</td>\n",
       "      <td>[0.025606660172343254, 0.005926734767854214, 0...</td>\n",
       "      <td>[0.02016955055296421, -0.008751985616981983, 0...</td>\n",
       "      <td>[-0.040618691593408585, 0.017335548996925354, ...</td>\n",
       "      <td>[-0.06687304377555847, 0.022782111540436745, 0...</td>\n",
       "      <td>[0.007088058162480593, 0.0015454861568287015, ...</td>\n",
       "      <td>[-0.040618691593408585, 0.017335548996925354, ...</td>\n",
       "      <td>Welche Module sind in SAP S/4HANA integriert?</td>\n",
       "      <td>Module SAP S/4HANA?</td>\n",
       "    </tr>\n",
       "    <tr>\n",
       "      <th>4</th>\n",
       "      <td>Benötige ich eine Migration von meinem aktuell...</td>\n",
       "      <td>Ja, eine Migration ist erforderlich, da SAP S/...</td>\n",
       "      <td>[-0.0299224853515625, 0.016448974609375, 0.028...</td>\n",
       "      <td>[-0.0027790069580078125, -0.0124359130859375, ...</td>\n",
       "      <td>[0.013608722016215324, -0.007326304446905851, ...</td>\n",
       "      <td>[0.023980315774679184, -0.0257048849016428, 0....</td>\n",
       "      <td>[-0.03777245432138443, 0.04013200104236603, 0....</td>\n",
       "      <td>[-0.02673247642815113, 0.040786463767290115, 0...</td>\n",
       "      <td>[0.013009252957999706, 0.03949623554944992, -0...</td>\n",
       "      <td>[-0.03920025750994682, 0.04049645736813545, 0....</td>\n",
       "      <td>Ist eine Migration von meinem aktuellen SAP ER...</td>\n",
       "      <td>Migration zu SAP S/4HANA</td>\n",
       "    </tr>\n",
       "    <tr>\n",
       "      <th>5</th>\n",
       "      <td>Wie lange dauert eine typische SAP S/4HANA-Mig...</td>\n",
       "      <td>Die Dauer kann je nach Unternehmensgröße, Komp...</td>\n",
       "      <td>[-0.02020263671875, -0.0008306503295898438, 0....</td>\n",
       "      <td>[-0.06414794921875, 0.016357421875, 0.01023101...</td>\n",
       "      <td>[0.031402260065078735, -0.008933627977967262, ...</td>\n",
       "      <td>[0.02552560716867447, -0.009982723742723465, 0...</td>\n",
       "      <td>[-0.030438799411058426, 0.04628024250268936, 0...</td>\n",
       "      <td>[-0.03007775917649269, 0.049624089151620865, 0...</td>\n",
       "      <td>[-0.0005537947290576994, 0.009073421359062195,...</td>\n",
       "      <td>[-0.030438799411058426, 0.04628024250268936, 0...</td>\n",
       "      <td>Welche typische Dauer hat ein SAP S/4HANA-Migr...</td>\n",
       "      <td>Dauer S/4HANA-Migrationsprojekts?</td>\n",
       "    </tr>\n",
       "    <tr>\n",
       "      <th>6</th>\n",
       "      <td>Welche Rolle spielen In-Memory-Technologien in...</td>\n",
       "      <td>In-Memory-Technologien ermöglichen eine schnel...</td>\n",
       "      <td>[-0.0150299072265625, -0.00501251220703125, 0....</td>\n",
       "      <td>[-0.042724609375, 0.01189422607421875, 0.04248...</td>\n",
       "      <td>[0.019930217415094376, 0.002450166968628764, 0...</td>\n",
       "      <td>[-0.01872929185628891, 0.027930088341236115, 0...</td>\n",
       "      <td>[-0.026766272261738777, 0.01925330050289631, 0...</td>\n",
       "      <td>[-0.011591401882469654, 0.05229291692376137, -...</td>\n",
       "      <td>[0.004397696349769831, 0.012086807750165462, -...</td>\n",
       "      <td>[-0.026766272261738777, 0.01925330050289631, 0...</td>\n",
       "      <td>Welche Rolle spielen In-Memory-Technologien in...</td>\n",
       "      <td>In-Memory-Technologien?</td>\n",
       "    </tr>\n",
       "    <tr>\n",
       "      <th>7</th>\n",
       "      <td>Kann ich SAP S/4HANA On-Premise oder in der Cl...</td>\n",
       "      <td>Beide Optionen sind möglich, und die Entscheid...</td>\n",
       "      <td>[-0.01535797119140625, 0.020538330078125, 0.04...</td>\n",
       "      <td>[-0.0360107421875, 0.043487548828125, 0.042022...</td>\n",
       "      <td>[0.0334152914583683, -0.007988663390278816, 0....</td>\n",
       "      <td>[0.012183825485408306, -0.032194387167692184, ...</td>\n",
       "      <td>[-0.04331569746136665, 0.002465470228344202, 0...</td>\n",
       "      <td>[-0.06435760110616684, 0.021560240536928177, 0...</td>\n",
       "      <td>[0.007366579491645098, 0.020244205370545387, -...</td>\n",
       "      <td>[-0.04331569746136665, 0.002465470228344202, 0...</td>\n",
       "      <td>Kann ich SAP S/4HANA On-Premise oder in der Cl...</td>\n",
       "      <td>On-Premise oder Cloud?</td>\n",
       "    </tr>\n",
       "    <tr>\n",
       "      <th>8</th>\n",
       "      <td>Wie sieht die Lizenzierung für SAP S/4HANA aus?</td>\n",
       "      <td>Die Lizenzierung basiert auf verschiedenen Fak...</td>\n",
       "      <td>[-0.01061248779296875, 0.0106964111328125, 0.0...</td>\n",
       "      <td>[-0.044891357421875, 0.03521728515625, 0.01126...</td>\n",
       "      <td>[0.047199226915836334, 0.007614460773766041, 0...</td>\n",
       "      <td>[0.04532167315483093, 0.008336402475833893, 0....</td>\n",
       "      <td>[-0.02687857113778591, 0.020964454859495163, 0...</td>\n",
       "      <td>[-0.044987790286540985, 0.03876306489109993, 0...</td>\n",
       "      <td>[-0.012117388658225536, 0.001131347962655127, ...</td>\n",
       "      <td>[-0.02687857113778591, 0.020964454859495163, 0...</td>\n",
       "      <td>Wie gestaltet sich die Lizenzierung für SAP S/...</td>\n",
       "      <td>Lizenzierung SAP S/4HANA?</td>\n",
       "    </tr>\n",
       "    <tr>\n",
       "      <th>9</th>\n",
       "      <td>Welche Auswirkungen hat SAP S/4HANA auf besteh...</td>\n",
       "      <td>Bestehende Entwicklungen müssen möglicherweise...</td>\n",
       "      <td>[-0.017608642578125, 0.00555419921875, 0.05792...</td>\n",
       "      <td>[-0.039215087890625, -0.0001697540283203125, 0...</td>\n",
       "      <td>[0.02960217371582985, -0.010651995427906513, 0...</td>\n",
       "      <td>[0.011735879816114902, -0.009817827492952347, ...</td>\n",
       "      <td>[0.004350307863205671, -0.006592706311494112, ...</td>\n",
       "      <td>[-0.009310338646173477, 0.02376934513449669, 0...</td>\n",
       "      <td>[-0.015630081295967102, 0.013818290084600449, ...</td>\n",
       "      <td>[0.004350307863205671, -0.006592706311494112, ...</td>\n",
       "      <td>Welche Auswirkungen hat SAP S/4HANA auf besteh...</td>\n",
       "      <td>Auswirkungen auf bestehende Entwicklungen?</td>\n",
       "    </tr>\n",
       "  </tbody>\n",
       "</table>\n",
       "</div>"
      ],
      "text/plain": [
       "                                               Frage  \\\n",
       "0                               Was ist SAP S/4HANA?   \n",
       "1                Welche Vorteile bietet SAP S/4HANA?   \n",
       "2  Was sind die Hauptunterschiede zwischen SAP S/...   \n",
       "3       Welche Module sind in SAP S/4HANA enthalten?   \n",
       "4  Benötige ich eine Migration von meinem aktuell...   \n",
       "5  Wie lange dauert eine typische SAP S/4HANA-Mig...   \n",
       "6  Welche Rolle spielen In-Memory-Technologien in...   \n",
       "7  Kann ich SAP S/4HANA On-Premise oder in der Cl...   \n",
       "8    Wie sieht die Lizenzierung für SAP S/4HANA aus?   \n",
       "9  Welche Auswirkungen hat SAP S/4HANA auf besteh...   \n",
       "\n",
       "                                             Antwort  \\\n",
       "0  SAP S/4HANA ist eine Enterprise Resource Plann...   \n",
       "1  Zu den Vorteilen von SAP S/4HANA gehören eine ...   \n",
       "2  Die Hauptunterschiede umfassen die In-Memory-D...   \n",
       "3  SAP S/4HANA umfasst Module für Finanzen, Besch...   \n",
       "4  Ja, eine Migration ist erforderlich, da SAP S/...   \n",
       "5  Die Dauer kann je nach Unternehmensgröße, Komp...   \n",
       "6  In-Memory-Technologien ermöglichen eine schnel...   \n",
       "7  Beide Optionen sind möglich, und die Entscheid...   \n",
       "8  Die Lizenzierung basiert auf verschiedenen Fak...   \n",
       "9  Bestehende Entwicklungen müssen möglicherweise...   \n",
       "\n",
       "                  Question Embeddings: mistral-embed  \\\n",
       "0  [-0.00012612342834472656, 0.00600433349609375,...   \n",
       "1  [-0.006504058837890625, 0.00728607177734375, 0...   \n",
       "2  [-0.007793426513671875, 0.0261993408203125, 0....   \n",
       "3  [0.0027904510498046875, 0.01560211181640625, 0...   \n",
       "4  [-0.0299224853515625, 0.016448974609375, 0.028...   \n",
       "5  [-0.02020263671875, -0.0008306503295898438, 0....   \n",
       "6  [-0.0150299072265625, -0.00501251220703125, 0....   \n",
       "7  [-0.01535797119140625, 0.020538330078125, 0.04...   \n",
       "8  [-0.01061248779296875, 0.0106964111328125, 0.0...   \n",
       "9  [-0.017608642578125, 0.00555419921875, 0.05792...   \n",
       "\n",
       "                    Answer Embeddings: mistral-embed  \\\n",
       "0  [-0.01047515869140625, -0.007099151611328125, ...   \n",
       "1  [-0.022491455078125, -0.0136871337890625, 0.05...   \n",
       "2  [-0.0197296142578125, 0.005146026611328125, 0....   \n",
       "3  [0.0028972625732421875, -0.0002427101135253906...   \n",
       "4  [-0.0027790069580078125, -0.0124359130859375, ...   \n",
       "5  [-0.06414794921875, 0.016357421875, 0.01023101...   \n",
       "6  [-0.042724609375, 0.01189422607421875, 0.04248...   \n",
       "7  [-0.0360107421875, 0.043487548828125, 0.042022...   \n",
       "8  [-0.044891357421875, 0.03521728515625, 0.01126...   \n",
       "9  [-0.039215087890625, -0.0001697540283203125, 0...   \n",
       "\n",
       "         Question Embeddings: text-embedding-ada-002  \\\n",
       "0  [0.020581984892487526, 0.0068562752567231655, ...   \n",
       "1  [0.016592826694250107, -0.0013070483691990376,...   \n",
       "2  [0.039898816496133804, 0.009220315143465996, 0...   \n",
       "3  [0.025606660172343254, 0.005926734767854214, 0...   \n",
       "4  [0.013608722016215324, -0.007326304446905851, ...   \n",
       "5  [0.031402260065078735, -0.008933627977967262, ...   \n",
       "6  [0.019930217415094376, 0.002450166968628764, 0...   \n",
       "7  [0.0334152914583683, -0.007988663390278816, 0....   \n",
       "8  [0.047199226915836334, 0.007614460773766041, 0...   \n",
       "9  [0.02960217371582985, -0.010651995427906513, 0...   \n",
       "\n",
       "           Answer Embeddings: text-embedding-ada-002  \\\n",
       "0  [0.01394073385745287, -0.0076940665021538734, ...   \n",
       "1  [0.007233329117298126, 0.0071442644111812115, ...   \n",
       "2  [0.0021640665363520384, 0.008108162321150303, ...   \n",
       "3  [0.02016955055296421, -0.008751985616981983, 0...   \n",
       "4  [0.023980315774679184, -0.0257048849016428, 0....   \n",
       "5  [0.02552560716867447, -0.009982723742723465, 0...   \n",
       "6  [-0.01872929185628891, 0.027930088341236115, 0...   \n",
       "7  [0.012183825485408306, -0.032194387167692184, ...   \n",
       "8  [0.04532167315483093, 0.008336402475833893, 0....   \n",
       "9  [0.011735879816114902, -0.009817827492952347, ...   \n",
       "\n",
       "         Question Embeddings: text-embedding-3-small  \\\n",
       "0  [-0.04551265388727188, 0.011044912040233612, 0...   \n",
       "1  [-0.04175806790590286, 0.010400454513728619, 0...   \n",
       "2  [-0.05220985785126686, -0.0108477883040905, 0....   \n",
       "3  [-0.040618691593408585, 0.017335548996925354, ...   \n",
       "4  [-0.03777245432138443, 0.04013200104236603, 0....   \n",
       "5  [-0.030438799411058426, 0.04628024250268936, 0...   \n",
       "6  [-0.026766272261738777, 0.01925330050289631, 0...   \n",
       "7  [-0.04331569746136665, 0.002465470228344202, 0...   \n",
       "8  [-0.02687857113778591, 0.020964454859495163, 0...   \n",
       "9  [0.004350307863205671, -0.006592706311494112, ...   \n",
       "\n",
       "           Answer Embeddings: text-embedding-3-small  \\\n",
       "0  [-0.06468543410301208, 0.008432664908468723, 0...   \n",
       "1  [-0.015268453396856785, 0.026090648025274277, ...   \n",
       "2  [-0.019829710945487022, 0.01941532827913761, 0...   \n",
       "3  [-0.06687304377555847, 0.022782111540436745, 0...   \n",
       "4  [-0.02673247642815113, 0.040786463767290115, 0...   \n",
       "5  [-0.03007775917649269, 0.049624089151620865, 0...   \n",
       "6  [-0.011591401882469654, 0.05229291692376137, -...   \n",
       "7  [-0.06435760110616684, 0.021560240536928177, 0...   \n",
       "8  [-0.044987790286540985, 0.03876306489109993, 0...   \n",
       "9  [-0.009310338646173477, 0.02376934513449669, 0...   \n",
       "\n",
       "         Question Embeddings: text-embedding-3-large  \\\n",
       "0  [-0.000779634399805218, 0.006759680341929197, ...   \n",
       "1  [0.006959523539990187, 0.00851409137248993, -0...   \n",
       "2  [0.011959274299442768, 0.003065806347876787, -...   \n",
       "3  [0.007088058162480593, 0.0015454861568287015, ...   \n",
       "4  [0.013009252957999706, 0.03949623554944992, -0...   \n",
       "5  [-0.0005537947290576994, 0.009073421359062195,...   \n",
       "6  [0.004397696349769831, 0.012086807750165462, -...   \n",
       "7  [0.007366579491645098, 0.020244205370545387, -...   \n",
       "8  [-0.012117388658225536, 0.001131347962655127, ...   \n",
       "9  [-0.015630081295967102, 0.013818290084600449, ...   \n",
       "\n",
       "           Answer Embeddings: text-embedding-3-large  \\\n",
       "0  [-0.04551265388727188, 0.011044912040233612, 0...   \n",
       "1  [-0.04175806790590286, 0.010400454513728619, 0...   \n",
       "2  [-0.05220985785126686, -0.0108477883040905, 0....   \n",
       "3  [-0.040618691593408585, 0.017335548996925354, ...   \n",
       "4  [-0.03920025750994682, 0.04049645736813545, 0....   \n",
       "5  [-0.030438799411058426, 0.04628024250268936, 0...   \n",
       "6  [-0.026766272261738777, 0.01925330050289631, 0...   \n",
       "7  [-0.04331569746136665, 0.002465470228344202, 0...   \n",
       "8  [-0.02687857113778591, 0.020964454859495163, 0...   \n",
       "9  [0.004350307863205671, -0.006592706311494112, ...   \n",
       "\n",
       "                                 Frage (modifiziert)  \\\n",
       "0                                       Was ist S/4?   \n",
       "1                 Welche Vorzüge bietet SAP S/4HANA?   \n",
       "2  Was sind die Hauptunterschiede zwischen SAP S/...   \n",
       "3      Welche Module sind in SAP S/4HANA integriert?   \n",
       "4  Ist eine Migration von meinem aktuellen SAP ER...   \n",
       "5  Welche typische Dauer hat ein SAP S/4HANA-Migr...   \n",
       "6  Welche Rolle spielen In-Memory-Technologien in...   \n",
       "7  Kann ich SAP S/4HANA On-Premise oder in der Cl...   \n",
       "8  Wie gestaltet sich die Lizenzierung für SAP S/...   \n",
       "9  Welche Auswirkungen hat SAP S/4HANA auf besteh...   \n",
       "\n",
       "                    Frage (stark modifiziert)  \n",
       "0                                        S/4?  \n",
       "1                               Vorteile HANA  \n",
       "2                    SAP S/4HANA vs. SAP ERP?  \n",
       "3                         Module SAP S/4HANA?  \n",
       "4                    Migration zu SAP S/4HANA  \n",
       "5           Dauer S/4HANA-Migrationsprojekts?  \n",
       "6                     In-Memory-Technologien?  \n",
       "7                      On-Premise oder Cloud?  \n",
       "8                   Lizenzierung SAP S/4HANA?  \n",
       "9  Auswirkungen auf bestehende Entwicklungen?  "
      ]
     },
     "execution_count": 479,
     "metadata": {},
     "output_type": "execute_result"
    }
   ],
   "source": [
    "FAQdataModified = [\n",
    "    \"Was ist S/4?\",\n",
    "    \"Welche Vorzüge bietet SAP S/4HANA?\",\n",
    "    \"Was sind die Hauptunterschiede zwischen SAP S/4HANA und SAP ERP?\",\n",
    "    \"Welche Module sind in SAP S/4HANA integriert?\",\n",
    "    \"Ist eine Migration von meinem aktuellen SAP ERP-System zu SAP S/4HANA erforderlich?\",\n",
    "    \"Welche typische Dauer hat ein SAP S/4HANA-Migrationsprojekt?\",\n",
    "    \"Welche Rolle spielen In-Memory-Technologien in SAP S/4HANA?\",\n",
    "    \"Kann ich SAP S/4HANA On-Premise oder in der Cloud implementieren?\",\n",
    "    \"Wie gestaltet sich die Lizenzierung für SAP S/4HANA?\",\n",
    "    \"Welche Auswirkungen hat SAP S/4HANA auf bestehende maßgeschneiderte Entwicklungen?\",\n",
    "    \"Sind meine vorhandenen Berichte und Anpassungen in SAP S/4HANA verwendbar?\",\n",
    "    \"Gibt es integrierte Analyse- und Reporting-Funktionen in SAP S/4HANA?\",\n",
    "    \"Welche Unterstützung bietet SAP für die Implementierung von S/4HANA?\",\n",
    "    \"Welche Bedeutung haben Machine Learning und künstliche Intelligenz in SAP S/4HANA?\",\n",
    "    \"Wie gestaltet sich die Integration von SAP S/4HANA mit anderen SAP-Produkten?\",\n",
    "    \"Werden Schulungen und Zertifizierungen für SAP S/4HANA angeboten?\",\n",
    "    \"Kann SAP S/4HANA mit Drittanbieteranwendungen integriert werden?\",\n",
    "    \"Wie ist die Verfügbarkeit und Support-Struktur für SAP S/4HANA aufgebaut?\",\n",
    "    \"Welche Architekturänderungen sind mit SAP S/4HANA verbunden?\",\n",
    "    \"Welche Branchen profitieren am meisten von SAP S/4HANA?\",\n",
    "    'Was ist die Funktion von SAP Fieldglass?',\n",
    "    'Welche Features sind in SAP Fieldglass verfügbar?',\n",
    "    'Welche Unternehmen profitieren von der Nutzung von SAP Fieldglass?',\n",
    "    'Welche Vorzüge bietet die Verwendung von SAP Fieldglass?',\n",
    "    'Wie kann SAP Fieldglass mit anderen SAP-Produkten zusammenarbeiten?',\n",
    "    'Welche Aufgabe übernimmt SAP Fieldglass im Talentmanagement-Bereich?',\n",
    "    'Kann SAP Fieldglass mit bereits existierenden HR-Systemen integriert werden?',\n",
    "    'Wie unterstützt SAP Fieldglass bei der Verwaltung von Verträgen und Genehmigungen?',\n",
    "    'Bietet SAP Fieldglass Hilfe beim Einhalten von Compliance- und Risikomanagement-Standards?',\n",
    "    'Welche Art von Berichten und Analysen stellt SAP Fieldglass bereit?',\n",
    "    'Kann SAP Fieldglass globale Arbeitskräfte und Lieferanten verwalten?',\n",
    "    'Wie wird SAP Fieldglass implementiert?',\n",
    "    'Gibt es Schulungs- und Zertifizierungsmöglichkeiten für SAP Fieldglass-Nutzer?',\n",
    "    'Kann SAP Fieldglass individuelle Anpassungen und Konfigurationen unterstützen?',\n",
    "    'Bietet SAP Fieldglass mobile Apps an?',\n",
    "    'Wie gestaltet sich die Kostenstruktur für die Nutzung von SAP Fieldglass?',\n",
    "    'Welche Sicherheitsvorkehrungen werden von SAP Fieldglass getroffen?',\n",
    "    'Unterstützt SAP Fieldglass mehrsprachige Benutzeroberflächen?',\n",
    "    'Kann SAP Fieldglass die Einhaltung von Vorschriften wie GDPR sicherstellen?',\n",
    "    'Welche Art von Support und Wartung bietet SAP Fieldglass?',\n",
    "    'Was verbirgt sich hinter SAP Enable Now?',\n",
    "    'Welche Features bietet SAP Enable Now an?',\n",
    "    'Für welche Unternehmen eignet sich SAP Enable Now?',\n",
    "    'Welche Vorteile ergeben sich aus der Nutzung von SAP Enable Now?',\n",
    "    'Wie kann SAP Enable Now mit anderen SAP-Produkten verknüpft werden?',\n",
    "    'Welche Funktion übernimmt SAP Enable Now im Bereich des Lern- und Wissensmanagements?',\n",
    "    'Kann SAP Enable Now für die Schulung von Endnutzern verwendet werden?',\n",
    "    'Wie werden Lerninhalte in SAP Enable Now erstellt?',\n",
    "    'Bietet SAP Enable Now Tools für Performance-Support?',\n",
    "    'Welche Schulungsformate unterstützt SAP Enable Now?',\n",
    "    'Ist es möglich, Schulungsmaterial in verschiedenen Sprachen mit SAP Enable Now zu erstellen?',\n",
    "    'Wie erfolgt die Bereitstellung von Lerninhalten für Nutzer in SAP Enable Now?',\n",
    "    'Welche Möglichkeiten gibt es für Benutzerfeedback und Leistungsanalyse in SAP Enable Now?',\n",
    "    'Kann SAP Enable Now auch für die Erstellung von Software-Dokumentationen verwendet werden?',\n",
    "    'Welche Schulungsressourcen und Unterstützung bietet SAP für SAP Enable Now?',\n",
    "    'Handelt es sich bei SAP Enable Now um eine cloudbasierte Lösung?',\n",
    "    'Wie erfolgt die Lizenzierung von SAP Enable Now?',\n",
    "    'Bietet SAP Enable Now Funktionen für das Management von Lerninhalten an?',\n",
    "    'Unterstützt SAP Enable Now die Integration mit Learning-Management-Systemen (LMS)?',\n",
    "    'Welche Art von Support und Wartung bietet SAP für SAP Enable Now an?',\n",
    "    'Was verbirgt sich hinter SAP Concur?',\n",
    "    'Welche Dienste werden von SAP Concur angeboten?',\n",
    "    'Für welche Unternehmen ist SAP Concur geeignet?',\n",
    "    'Welche Vorteile ergeben sich aus der Nutzung von SAP Concur?',\n",
    "    'Wie kann SAP Concur mit anderen SAP-Produkten integriert werden?',\n",
    "    'Welche Aufgaben übernimmt SAP Concur im Bereich des Reise- und Ausgabenmanagements?',\n",
    "    'Kann SAP Concur Reiserichtlinien und Compliance-Regeln durchsetzen?',\n",
    "    'Verfügt SAP Concur über Funktionen zur Automatisierung von Ausgabenabrechnungen?',\n",
    "    'Unterstützt SAP Concur die Verwaltung von Reisebuchungen und -plänen?',\n",
    "    'Wie erfolgt die Einreichung von Spesenberichten in SAP Concur?',\n",
    "    'Gibt es Möglichkeiten zur Genehmigung von Reiseanträgen in SAP Concur?',\n",
    "    'Kann SAP Concur Kreditkartentransaktionen integrieren und verfolgen?',\n",
    "    'Welche Arten von Berichterstattung und Analyse bietet SAP Concur?',\n",
    "    'Bietet SAP Concur Funktionen zur Einhaltung von Steuervorschriften und -richtlinien?',\n",
    "    'Kann SAP Concur zur Verwaltung von Firmenkarten und Reisebudgets verwendet werden?',\n",
    "    'Welche Schulungsressourcen und Unterstützung bietet SAP für SAP Concur?',\n",
    "    'Handelt es sich bei SAP Concur um eine cloudbasierte Lösung?',\n",
    "    'Wie erfolgt die Lizenzierung von SAP Concur?',\n",
    "    'Bietet SAP Concur Funktionen für Reisebuchung und -planung an?',\n",
    "    'Welche Art von Support und Wartung bietet SAP für SAP Concur an?',\n",
    "    'Was genau ist SAP SuccessFactors?',\n",
    "    'Welche Features bietet SAP SuccessFactors an?',\n",
    "    'Für welche Unternehmen ist SAP SuccessFactors geeignet?',\n",
    "    'Welche Vorteile bringt die Nutzung von SAP SuccessFactors?',\n",
    "    'Wie lässt sich SAP SuccessFactors mit anderen SAP-Produkten verbinden?',\n",
    "    'Welche Bedeutung hat SAP SuccessFactors im Talentmanagement?',\n",
    "    'Kann SAP SuccessFactors für die Mitarbeiterrekrutierung genutzt werden?',\n",
    "    'Welche Funktionen bietet SAP SuccessFactors für das Leistungsmanagement?',\n",
    "    'Unterstützt SAP SuccessFactors die Mitarbeiterentwicklung und Schulung?',\n",
    "    'Wie erfolgt die Durchführung von Mitarbeiterbewertungen in SAP SuccessFactors?',\n",
    "    'Gibt es Tools in SAP SuccessFactors zur Verwaltung von Vergütungen und Belohnungen?',\n",
    "    'Kann SAP SuccessFactors bei der Einhaltung von Compliance- und HR-Richtlinien helfen?',\n",
    "    'Welche Möglichkeiten bietet SAP SuccessFactors für Berichterstattung und Analyse?',\n",
    "    'Bietet SAP SuccessFactors Funktionen für Mitarbeiterengagement und -bindung?',\n",
    "    'Kann SAP SuccessFactors für die Planung von Nachfolgern und die Talententwicklung verwendet werden?',\n",
    "    'Welche Unterstützung und Schulungsressourcen bietet SAP für SAP SuccessFactors?',\n",
    "    'Ist SAP SuccessFactors eine Cloud-basierte Lösung?',\n",
    "    'Wie erfolgt die Lizenzierung von SAP SuccessFactors?',\n",
    "    'Bietet SAP SuccessFactors Funktionen für die Verwaltung von Arbeitszeiten und -plänen?',\n",
    "    'Welche Art von Support und Wartung bietet SAP für SAP SuccessFactors an?'\n",
    "    ]\n",
    "\n",
    "FAQdataModified_strong = [\n",
    "    \"S/4?\",\n",
    "    \"Vorteile HANA\",\n",
    "    \"SAP S/4HANA vs. SAP ERP?\",\n",
    "    \"Module SAP S/4HANA?\",\n",
    "    \"Migration zu SAP S/4HANA\",\n",
    "    \"Dauer S/4HANA-Migrationsprojekts?\",\n",
    "    \"In-Memory-Technologien?\",\n",
    "    \"On-Premise oder Cloud?\",\n",
    "    \"Lizenzierung SAP S/4HANA?\",\n",
    "    \"Auswirkungen auf bestehende Entwicklungen?\",\n",
    "    \"Verwendbarkeit vorhandener Berichte/Anpassungen?\",\n",
    "    \"Integrierte Reporting-Funktionen\",\n",
    "    \"Unterstützung bei der Implementierung?\",\n",
    "    \"Rolle von ML und KI\",\n",
    "    \"Integration mit anderen SAP-Produkten?\",\n",
    "    \"Schulungen und Zertifizierungen?\",\n",
    "    \"Integration Drittanbieteranwendungen?\",\n",
    "    \"Verfügbarkeit/Support-Struktur?\",\n",
    "    \"Architekturänderungen?\",\n",
    "    \"profitierende Branchen\",\n",
    "    'Funktion SAP Fieldglass?',\n",
    "    'Features in SAP Fieldglass verfügbar?',\n",
    "    'profitieren von der Nutzung von SAP Fieldglass?',\n",
    "    'Vorzüge Verwendung Fieldglass?',\n",
    "    'SAP Fieldglass mit anderen SAP-Produkten',\n",
    "    'SAP Fieldglass im Talentmanagement',\n",
    "    'SAP Fieldglass und bereits existierende HR-Systeme',\n",
    "    'SAP Fieldglass Unterstützung bei Verträgen und Genehmigungen',\n",
    "    'Fieldglass Hilfe bei Compliance- und Risikomanagement-Standards?',\n",
    "    'Berichten und Analysen in SAP Fieldglass',\n",
    "    'Fieldglass globale Arbeitskräfte und Lieferanten',\n",
    "    'Implementierung SAP Fieldglass',\n",
    "    'Schulungsmöglichkeiten SAP Fieldglass-Nutzer',\n",
    "    'Fieldglass individuelle Anpassungen und Konfigurationen',\n",
    "    'SAP Fieldglass mobile Apps',\n",
    "    'Kostenstruktur SAP Fieldglass?',\n",
    "    'Sicherheitsvorkehrungen SAP Fieldglass',\n",
    "    'Fieldglass mehrsprachige Benutzeroberflächen',\n",
    "    'SAP Fieldglass Einhaltung von Vorschriften wie GDPR',\n",
    "    'Support und Wartung bei SAP Fieldglass?',\n",
    "    'Was ist SAP Enable Now?',\n",
    "    'Welche Features hat SAP Enable Now?',\n",
    "    'Für welche Unternehmen ist SAP Enable Now?',\n",
    "    'Vorteile von SAP Enable Now?',\n",
    "    'SAP Enable Now Integration?',\n",
    "    'SAP Enable Now Rolle?',\n",
    "    'SAP Enable Now für Endnutzer?',\n",
    "    'Lerninhalte in SAP Enable Now?',\n",
    "    'SAP Enable Now Tools?',\n",
    "    'Schulungsformate in SAP Enable Now?',\n",
    "    'Sprachunterstützung in SAP Enable Now?',\n",
    "    'Lerninhalte bereitstellen in SAP Enable Now?',\n",
    "    'Benutzerfeedback in SAP Enable Now?',\n",
    "    'Software-Dokumentation in SAP Enable Now?',\n",
    "    'Schulungsressourcen in SAP Enable Now?',\n",
    "    'SAP Enable Now: Cloud?',\n",
    "    'SAP Enable Now Lizenzierung?',\n",
    "    'Lerninhalte-Management in SAP Enable Now?',\n",
    "    'Integration mit LMS?',\n",
    "    'SAP Enable Now Support?',\n",
    "    'Was ist SAP Concur?',\n",
    "    'SAP Concur Dienste?',\n",
    "    'Für welche Unternehmen passt SAP Concur?',\n",
    "    'Vorteile von SAP Concur?',\n",
    "    'SAP Concur Integration?',\n",
    "    'SAP Concur im Reise- und Ausgabenmanagement?',\n",
    "    'SAP Concur Reiserichtlinien und Compliance?',\n",
    "    'SAP Concur Ausgabenautomatisierung?',\n",
    "    'SAP Concur Reisebuchungsverwaltung?',\n",
    "    'Spesenberichte in SAP Concur?',\n",
    "    'Genehmigung von Reiseanträgen in SAP Concur?',\n",
    "    'Kreditkartentransaktionen in SAP Concur?',\n",
    "    'Berichterstattung und Analyse in SAP Concur?',\n",
    "    'Steuervorschriften in SAP Concur?',\n",
    "    'Firmenkarten- und Reisebudgetverwaltung in SAP Concur?',\n",
    "    'Schulungsressourcen für SAP Concur?',\n",
    "    'SAP Concur: Cloud?',\n",
    "    'Lizenzierung von SAP Concur?',\n",
    "    'SAP Concur Reisebuchung und -planung?',\n",
    "    'Support für SAP Concur?',\n",
    "    'Was ist SAP SuccessFactors?',\n",
    "    'Features von SAP SuccessFactors?',\n",
    "    'Für welche Unternehmen geeignet?',\n",
    "    'Vorteile von SAP SuccessFactors?',\n",
    "    'SAP SuccessFactors Integration?',\n",
    "    'Bedeutung von SAP SuccessFactors im Talentmanagement?',\n",
    "    'Mitarbeiterrekrutierung mit SAP SuccessFactors?',\n",
    "    'Leistungsmanagement-Funktionen von SAP SuccessFactors?',\n",
    "    'Unterstützung für Mitarbeiterentwicklung und Schulung?',\n",
    "    'Mitarbeiterbewertungen in SAP SuccessFactors?',\n",
    "    'Vergütungs- und Belohnungsverwaltung in SAP SuccessFactors?',\n",
    "    'Compliance- und HR-Richtlinien mit SAP SuccessFactors?',\n",
    "    'Berichterstattung und Analyse in SAP SuccessFactors?',\n",
    "    'Funktionen für Mitarbeiterengagement und -bindung in SAP SuccessFactors?',\n",
    "    'Nachfolgeplanung und Talententwicklung mit SAP SuccessFactors?',\n",
    "    'Unterstützung und Schulungsressourcen für SAP SuccessFactors?',\n",
    "    'SAP SuccessFactors: Cloud?',\n",
    "    'Lizenzierung von SAP SuccessFactors?',\n",
    "    'Arbeitszeitverwaltung und -planung in SAP SuccessFactors?',\n",
    "    'Support für SAP SuccessFactors?'\n",
    "]\n",
    "\n",
    "\n",
    "df_with_embeddings[\"Frage (modifiziert)\"] = FAQdataModified\n",
    "df_with_embeddings[\"Frage (stark modifiziert)\"] = FAQdataModified_strong\n",
    "\n",
    "df_with_embeddings.head(10)"
   ]
  },
  {
   "cell_type": "markdown",
   "metadata": {},
   "source": [
    "## Unused: Generate all RAG results for all modified questions"
   ]
  },
  {
   "cell_type": "markdown",
   "metadata": {},
   "source": [
    "rag_answer_to_questions_mistral_embed(\"Welche Vorzüge bietet SAP S/4HANA?\", \"mistral-embed\")"
   ]
  },
  {
   "cell_type": "markdown",
   "metadata": {},
   "source": [
    "### Unused: Create Embeddings for modified Questions:"
   ]
  },
  {
   "cell_type": "markdown",
   "metadata": {},
   "source": [
    "#### mistral-embed"
   ]
  },
  {
   "cell_type": "markdown",
   "metadata": {},
   "source": [
    "from mistralai.client import MistralClient\n",
    "\n",
    "clientMistral = MistralClient(api_key = mistral_key)\n",
    "\n",
    "modified_question_embeddings_mistral_embed = []\n",
    "\n",
    "for i in df_with_embeddings[\"Frage (modifiziert)\"]:\n",
    "    embeddings_batch_response = clientMistral.embeddings(\n",
    "        model=\"mistral-embed\",\n",
    "        input=[i],\n",
    "    )\n",
    "    modified_question_embeddings_mistral_embed.append(embeddings_batch_response.data[0].embedding)\n",
    "\n",
    "df_with_embeddings[\"Modified Question Embeddings: mistral-embed\"] = modified_question_embeddings_mistral_embed"
   ]
  },
  {
   "cell_type": "markdown",
   "metadata": {},
   "source": [
    "#### text-embedding-ada-002"
   ]
  },
  {
   "cell_type": "markdown",
   "metadata": {},
   "source": [
    "from openai import OpenAI\n",
    "clientOpenAI = OpenAI(api_key = openai_key_embeddings)\n",
    "\n",
    "modified_question_embeddings_ada_002 = []\n",
    "\n",
    "for i in df_with_embeddings[\"Frage (modifiziert)\"]:\n",
    "    embeddings_batch_response = clientOpenAI.embeddings.create(\n",
    "        input=[i],\n",
    "        model=\"text-embedding-ada-002\"\n",
    "    )\n",
    "    modified_question_embeddings_ada_002.append(embeddings_batch_response.data[0].embedding)\n",
    "\n",
    "df_with_embeddings[\"Modified Question Embeddings: text-embedding-ada-002\"] = modified_question_embeddings_ada_002"
   ]
  },
  {
   "cell_type": "markdown",
   "metadata": {},
   "source": [
    "#### text-embedding-3-small"
   ]
  },
  {
   "cell_type": "markdown",
   "metadata": {},
   "source": [
    "from openai import OpenAI\n",
    "clientOpenAI = OpenAI(api_key = openai_key_embeddings)\n",
    "\n",
    "modified_question_embeddings_3_small = []\n",
    "\n",
    "for i in df_with_embeddings[\"Frage (modifiziert)\"]:\n",
    "    embeddings_batch_response = clientOpenAI.embeddings.create(\n",
    "        input=[i],\n",
    "        model=\"text-embedding-3-small\"\n",
    "    )\n",
    "    modified_question_embeddings_3_small.append(embeddings_batch_response.data[0].embedding)\n",
    "\n",
    "df_with_embeddings[\"Modified Question Embeddings: text-embedding-3-small\"] = modified_question_embeddings_3_small"
   ]
  },
  {
   "cell_type": "markdown",
   "metadata": {},
   "source": [
    "#### text-embedding-3-large"
   ]
  },
  {
   "cell_type": "markdown",
   "metadata": {},
   "source": [
    "from openai import OpenAI\n",
    "clientOpenAI = OpenAI(api_key = openai_key_embeddings)\n",
    "\n",
    "modified_question_embeddings_3_large = []\n",
    "\n",
    "for i in df_with_embeddings[\"Frage (modifiziert)\"]:\n",
    "    embeddings_batch_response = clientOpenAI.embeddings.create(\n",
    "        input=[i],\n",
    "        model=\"text-embedding-3-large\"\n",
    "    )\n",
    "    modified_question_embeddings_3_large.append(embeddings_batch_response.data[0].embedding)\n",
    "\n",
    "df_with_embeddings[\"Modified Question Embeddings: text-embedding-3-large\"] = modified_question_embeddings_3_large"
   ]
  },
  {
   "cell_type": "markdown",
   "metadata": {},
   "source": [
    "### Unused: Generate the RAG-Answers for the modified questions"
   ]
  },
  {
   "cell_type": "markdown",
   "metadata": {},
   "source": [
    "#### mistral-embed"
   ]
  },
  {
   "cell_type": "markdown",
   "metadata": {},
   "source": [
    "from scipy.spatial.distance import cosine\n",
    "from mistralai.client import MistralClient\n",
    "\n",
    "clientMistral = MistralClient(api_key= mistral_key)\n",
    "\n",
    "def rag_answer_to_modified_questions_mistral_embed(test_text_mistral_embed, embedding_model):\n",
    "    \n",
    "    input_embedding = clientMistral.embeddings(model=embedding_model, input=[test_text_mistral_embed]).data[0].embedding\n",
    "    \n",
    "    similarities = []\n",
    "    \n",
    "    for i, question_embedding in enumerate(df_with_embeddings[\"Modified Question Embeddings: mistral-embed\"]):\n",
    "        similarity = 1 - cosine(input_embedding, question_embedding)\n",
    "        similarities.append((similarity, i))\n",
    "    \n",
    "    similarities.sort(reverse=True)\n",
    "    \n",
    "    most_similar_index = similarities[0][1]\n",
    "    most_similar_answer = df_with_embeddings.iloc[most_similar_index][\"Antwort\"]\n",
    "    \n",
    "    return most_similar_answer\n",
    "\n",
    "rag_answer_to_modified_questions_mistral_embed(\"Wie funktioniert die Lizenzierung in SAP S/4HANA?\", \"mistral-embed\")"
   ]
  },
  {
   "cell_type": "markdown",
   "metadata": {},
   "source": [
    "#### text-embedding-ada-002"
   ]
  },
  {
   "cell_type": "markdown",
   "metadata": {},
   "source": [
    "import numpy as np\n",
    "from scipy.spatial.distance import cosine\n",
    "from openai import OpenAI\n",
    "client = OpenAI(api_key = openai_key_embeddings)\n",
    "\n",
    "def rag_answer_to_modified_questions_openai_ada_002(input_text, embedding_model):\n",
    "    \n",
    "    input_embedding = client.embeddings.create(input=[input_text], model=embedding_model).data[0].embedding\n",
    "    \n",
    "    similarities = []\n",
    "    \n",
    "    for question_embedding in df_with_embeddings[\"Modified Question Embeddings: text-embedding-ada-002\"]:\n",
    "        similarity = 1 - cosine(input_embedding, question_embedding)\n",
    "        similarities.append(similarity)\n",
    "    \n",
    "    most_similar_index = np.argmax(similarities)\n",
    "    most_similar_question = df_with_embeddings.iloc[most_similar_index][\"Antwort\"]\n",
    "    \n",
    "    return most_similar_question\n",
    "\n",
    "\n",
    "rag_answer_to_modified_questions_openai_ada_002(\"Wie funktioniert die Lizenzierung in SAP S/4HANA?\", \"text-embedding-ada-002\")"
   ]
  },
  {
   "cell_type": "markdown",
   "metadata": {},
   "source": [
    "#### text-embedding-3-small"
   ]
  },
  {
   "cell_type": "markdown",
   "metadata": {},
   "source": [
    "import numpy as np\n",
    "from scipy.spatial.distance import cosine\n",
    "from openai import OpenAI\n",
    "client = OpenAI(api_key = openai_key_embeddings)\n",
    "\n",
    "def rag_answer_to_modified_questions_openai_3_small(input_text, embedding_model):\n",
    "    \n",
    "    input_embedding = client.embeddings.create(input=[input_text], model=embedding_model).data[0].embedding\n",
    "    \n",
    "    similarities = []\n",
    "    \n",
    "    for question_embedding in df_with_embeddings[\"Modified Question Embeddings: text-embedding-3-small\"]:\n",
    "        similarity = 1 - cosine(input_embedding, question_embedding)\n",
    "        similarities.append(similarity)\n",
    "    \n",
    "    most_similar_index = np.argmax(similarities)\n",
    "    most_similar_question = df_with_embeddings.iloc[most_similar_index][\"Antwort\"]\n",
    "    \n",
    "    return most_similar_question\n",
    "\n",
    "\n",
    "rag_answer_to_modified_questions_openai_3_small(\"Wie funktioniert die Lizenzierung in SAP S/4HANA?\", \"text-embedding-3-small\")"
   ]
  },
  {
   "cell_type": "markdown",
   "metadata": {},
   "source": [
    "#### text-embedding-3-large"
   ]
  },
  {
   "cell_type": "markdown",
   "metadata": {},
   "source": [
    "import numpy as np\n",
    "from scipy.spatial.distance import cosine\n",
    "from openai import OpenAI\n",
    "client = OpenAI(api_key = openai_key_embeddings)\n",
    "\n",
    "def rag_answer_to_modified_questions_openai_3_large(input_text, embedding_model):\n",
    "    \n",
    "    input_embedding = client.embeddings.create(input=[input_text], model=embedding_model).data[0].embedding\n",
    "    \n",
    "    similarities = []\n",
    "    \n",
    "    for question_embedding in df_with_embeddings[\"Modified Question Embeddings: text-embedding-3-large\"]:\n",
    "        similarity = 1 - cosine(input_embedding, question_embedding)\n",
    "        similarities.append(similarity)\n",
    "    \n",
    "    most_similar_index = np.argmax(similarities)\n",
    "    most_similar_question = df_with_embeddings.iloc[most_similar_index][\"Antwort\"]\n",
    "    \n",
    "    return most_similar_question\n",
    "\n",
    "\n",
    "rag_answer_to_modified_questions_openai_3_large(\"Wie funktioniert die Lizenzierung in SAP S/4HANA?\", \"text-embedding-3-large\")"
   ]
  },
  {
   "cell_type": "markdown",
   "metadata": {},
   "source": [
    "### Overview Function"
   ]
  },
  {
   "cell_type": "markdown",
   "metadata": {},
   "source": [
    "def compare_models_on_modified_questions(test_text):\n",
    "    print(f\"Mistral Answer: {rag_answer_to_modified_questions_mistral_embed(test_text, \"mistral-embed\")}\")\n",
    "    print(f\"OpenAI 3-Small: {rag_answer_to_modified_questions_openai_3_small(test_text, \"text-embedding-3-small\")}\")\n",
    "    print(f\"OpenAI 3-Large: {rag_answer_to_modified_questions_openai_3_large(test_text, \"text-embedding-3-large\")}\")\n",
    "\n",
    "compare_models_on_modified_questions(\"Was ist bla bla bla\")"
   ]
  },
  {
   "cell_type": "markdown",
   "metadata": {},
   "source": [
    "## Create RAG Answers to modified Questions"
   ]
  },
  {
   "cell_type": "markdown",
   "metadata": {},
   "source": [
    "### mistral-embed"
   ]
  },
  {
   "cell_type": "code",
   "execution_count": 480,
   "metadata": {},
   "outputs": [],
   "source": [
    "df_modified_question_results = pd.DataFrame(columns=['Frage (stark modifiziert)', 'Antwort (mistral-embed)'])\n",
    "\n",
    "for i in df_with_embeddings[\"Frage (stark modifiziert)\"]:\n",
    "    df_modified_question_results.loc[len(df_modified_question_results)] = [i, rag_answer_to_questions_mistral_embed(i, \"mistral-embed\")]"
   ]
  },
  {
   "cell_type": "markdown",
   "metadata": {},
   "source": [
    "### text-embedding-ada-002"
   ]
  },
  {
   "cell_type": "code",
   "execution_count": 481,
   "metadata": {},
   "outputs": [],
   "source": [
    "for index, row in df_with_embeddings.iterrows():\n",
    "    modified_question = row[\"Frage (stark modifiziert)\"]\n",
    "    answer_ada = rag_answer_to_questions_openai_ada_002(modified_question, \"text-embedding-ada-002\")\n",
    "    df_modified_question_results.at[index, 'Antwort (text-embedding-ada-002)'] = answer_ada"
   ]
  },
  {
   "cell_type": "markdown",
   "metadata": {},
   "source": [
    "### text-embedding-3-small"
   ]
  },
  {
   "cell_type": "code",
   "execution_count": 482,
   "metadata": {},
   "outputs": [],
   "source": [
    "for index, row in df_with_embeddings.iterrows():\n",
    "    modified_question = row[\"Frage (stark modifiziert)\"]\n",
    "    answer_3_small = rag_answer_to_questions_openai_3_small(modified_question, \"text-embedding-3-small\")\n",
    "    df_modified_question_results.at[index, 'Antwort (text-embedding-3-small)'] = answer_3_small"
   ]
  },
  {
   "cell_type": "markdown",
   "metadata": {},
   "source": [
    "### text-embedding-3-large"
   ]
  },
  {
   "cell_type": "code",
   "execution_count": 483,
   "metadata": {},
   "outputs": [],
   "source": [
    "for index, row in df_with_embeddings.iterrows():\n",
    "    modified_question = row[\"Frage (stark modifiziert)\"]\n",
    "    answer_3_large = rag_answer_to_questions_openai_3_large(modified_question, \"text-embedding-3-large\")\n",
    "    df_modified_question_results.at[index, 'Antwort (text-embedding-3-large)'] = answer_3_large"
   ]
  },
  {
   "cell_type": "markdown",
   "metadata": {},
   "source": [
    "## Print Line-After-Line Results"
   ]
  },
  {
   "cell_type": "code",
   "execution_count": 484,
   "metadata": {},
   "outputs": [
    {
     "name": "stdout",
     "output_type": "stream",
     "text": [
      "SAP bietet umfassenden Support und regelmäßige Wartung für SAP SuccessFactors, einschließlich technischem Support, Schulungen und Updates.\n"
     ]
    }
   ],
   "source": [
    "print(df_modified_question_results.at[99, 'Antwort (mistral-embed)'])"
   ]
  },
  {
   "cell_type": "code",
   "execution_count": 485,
   "metadata": {},
   "outputs": [
    {
     "data": {
      "text/html": [
       "<div>\n",
       "<style scoped>\n",
       "    .dataframe tbody tr th:only-of-type {\n",
       "        vertical-align: middle;\n",
       "    }\n",
       "\n",
       "    .dataframe tbody tr th {\n",
       "        vertical-align: top;\n",
       "    }\n",
       "\n",
       "    .dataframe thead th {\n",
       "        text-align: right;\n",
       "    }\n",
       "</style>\n",
       "<table border=\"1\" class=\"dataframe\">\n",
       "  <thead>\n",
       "    <tr style=\"text-align: right;\">\n",
       "      <th></th>\n",
       "      <th>Frage</th>\n",
       "      <th>Antwort</th>\n",
       "      <th>Question Embeddings: mistral-embed</th>\n",
       "      <th>Answer Embeddings: mistral-embed</th>\n",
       "      <th>Question Embeddings: text-embedding-ada-002</th>\n",
       "      <th>Answer Embeddings: text-embedding-ada-002</th>\n",
       "      <th>Question Embeddings: text-embedding-3-small</th>\n",
       "      <th>Answer Embeddings: text-embedding-3-small</th>\n",
       "      <th>Question Embeddings: text-embedding-3-large</th>\n",
       "      <th>Answer Embeddings: text-embedding-3-large</th>\n",
       "      <th>Frage (modifiziert)</th>\n",
       "      <th>Frage (stark modifiziert)</th>\n",
       "    </tr>\n",
       "  </thead>\n",
       "  <tbody>\n",
       "    <tr>\n",
       "      <th>0</th>\n",
       "      <td>Was ist SAP S/4HANA?</td>\n",
       "      <td>SAP S/4HANA ist eine Enterprise Resource Plann...</td>\n",
       "      <td>[-0.00012612342834472656, 0.00600433349609375,...</td>\n",
       "      <td>[-0.01047515869140625, -0.007099151611328125, ...</td>\n",
       "      <td>[0.020581984892487526, 0.0068562752567231655, ...</td>\n",
       "      <td>[0.01394073385745287, -0.0076940665021538734, ...</td>\n",
       "      <td>[-0.04551265388727188, 0.011044912040233612, 0...</td>\n",
       "      <td>[-0.06468543410301208, 0.008432664908468723, 0...</td>\n",
       "      <td>[-0.000779634399805218, 0.006759680341929197, ...</td>\n",
       "      <td>[-0.04551265388727188, 0.011044912040233612, 0...</td>\n",
       "      <td>Was ist S/4?</td>\n",
       "      <td>S/4?</td>\n",
       "    </tr>\n",
       "    <tr>\n",
       "      <th>1</th>\n",
       "      <td>Welche Vorteile bietet SAP S/4HANA?</td>\n",
       "      <td>Zu den Vorteilen von SAP S/4HANA gehören eine ...</td>\n",
       "      <td>[-0.006504058837890625, 0.00728607177734375, 0...</td>\n",
       "      <td>[-0.022491455078125, -0.0136871337890625, 0.05...</td>\n",
       "      <td>[0.016592826694250107, -0.0013070483691990376,...</td>\n",
       "      <td>[0.007233329117298126, 0.0071442644111812115, ...</td>\n",
       "      <td>[-0.04175806790590286, 0.010400454513728619, 0...</td>\n",
       "      <td>[-0.015268453396856785, 0.026090648025274277, ...</td>\n",
       "      <td>[0.006959523539990187, 0.00851409137248993, -0...</td>\n",
       "      <td>[-0.04175806790590286, 0.010400454513728619, 0...</td>\n",
       "      <td>Welche Vorzüge bietet SAP S/4HANA?</td>\n",
       "      <td>Vorteile HANA</td>\n",
       "    </tr>\n",
       "    <tr>\n",
       "      <th>2</th>\n",
       "      <td>Was sind die Hauptunterschiede zwischen SAP S/...</td>\n",
       "      <td>Die Hauptunterschiede umfassen die In-Memory-D...</td>\n",
       "      <td>[-0.007793426513671875, 0.0261993408203125, 0....</td>\n",
       "      <td>[-0.0197296142578125, 0.005146026611328125, 0....</td>\n",
       "      <td>[0.039898816496133804, 0.009220315143465996, 0...</td>\n",
       "      <td>[0.0021640665363520384, 0.008108162321150303, ...</td>\n",
       "      <td>[-0.05220985785126686, -0.0108477883040905, 0....</td>\n",
       "      <td>[-0.019829710945487022, 0.01941532827913761, 0...</td>\n",
       "      <td>[0.011959274299442768, 0.003065806347876787, -...</td>\n",
       "      <td>[-0.05220985785126686, -0.0108477883040905, 0....</td>\n",
       "      <td>Was sind die Hauptunterschiede zwischen SAP S/...</td>\n",
       "      <td>SAP S/4HANA vs. SAP ERP?</td>\n",
       "    </tr>\n",
       "    <tr>\n",
       "      <th>3</th>\n",
       "      <td>Welche Module sind in SAP S/4HANA enthalten?</td>\n",
       "      <td>SAP S/4HANA umfasst Module für Finanzen, Besch...</td>\n",
       "      <td>[0.0027904510498046875, 0.01560211181640625, 0...</td>\n",
       "      <td>[0.0028972625732421875, -0.0002427101135253906...</td>\n",
       "      <td>[0.025606660172343254, 0.005926734767854214, 0...</td>\n",
       "      <td>[0.02016955055296421, -0.008751985616981983, 0...</td>\n",
       "      <td>[-0.040618691593408585, 0.017335548996925354, ...</td>\n",
       "      <td>[-0.06687304377555847, 0.022782111540436745, 0...</td>\n",
       "      <td>[0.007088058162480593, 0.0015454861568287015, ...</td>\n",
       "      <td>[-0.040618691593408585, 0.017335548996925354, ...</td>\n",
       "      <td>Welche Module sind in SAP S/4HANA integriert?</td>\n",
       "      <td>Module SAP S/4HANA?</td>\n",
       "    </tr>\n",
       "    <tr>\n",
       "      <th>4</th>\n",
       "      <td>Benötige ich eine Migration von meinem aktuell...</td>\n",
       "      <td>Ja, eine Migration ist erforderlich, da SAP S/...</td>\n",
       "      <td>[-0.0299224853515625, 0.016448974609375, 0.028...</td>\n",
       "      <td>[-0.0027790069580078125, -0.0124359130859375, ...</td>\n",
       "      <td>[0.013608722016215324, -0.007326304446905851, ...</td>\n",
       "      <td>[0.023980315774679184, -0.0257048849016428, 0....</td>\n",
       "      <td>[-0.03777245432138443, 0.04013200104236603, 0....</td>\n",
       "      <td>[-0.02673247642815113, 0.040786463767290115, 0...</td>\n",
       "      <td>[0.013009252957999706, 0.03949623554944992, -0...</td>\n",
       "      <td>[-0.03920025750994682, 0.04049645736813545, 0....</td>\n",
       "      <td>Ist eine Migration von meinem aktuellen SAP ER...</td>\n",
       "      <td>Migration zu SAP S/4HANA</td>\n",
       "    </tr>\n",
       "    <tr>\n",
       "      <th>...</th>\n",
       "      <td>...</td>\n",
       "      <td>...</td>\n",
       "      <td>...</td>\n",
       "      <td>...</td>\n",
       "      <td>...</td>\n",
       "      <td>...</td>\n",
       "      <td>...</td>\n",
       "      <td>...</td>\n",
       "      <td>...</td>\n",
       "      <td>...</td>\n",
       "      <td>...</td>\n",
       "      <td>...</td>\n",
       "    </tr>\n",
       "    <tr>\n",
       "      <th>95</th>\n",
       "      <td>Welche Schulungsressourcen und Unterstützung b...</td>\n",
       "      <td>SAP bietet Schulungsressourcen, Schulungen und...</td>\n",
       "      <td>[-0.023162841796875, 0.0231475830078125, 0.043...</td>\n",
       "      <td>[-0.0168914794921875, 0.0008006095886230469, 0...</td>\n",
       "      <td>[0.013494105078279972, -0.011890137568116188, ...</td>\n",
       "      <td>[-0.0035913982428610325, -0.004740770440548658...</td>\n",
       "      <td>[-0.03508688881993294, 0.02731972001492977, 0....</td>\n",
       "      <td>[-0.04438437893986702, 0.023657530546188354, 0...</td>\n",
       "      <td>[0.015864694491028786, 0.02138870768249035, -0...</td>\n",
       "      <td>[-0.03506753593683243, 0.027382919564843178, 0...</td>\n",
       "      <td>Welche Unterstützung und Schulungsressourcen b...</td>\n",
       "      <td>Unterstützung und Schulungsressourcen für SAP ...</td>\n",
       "    </tr>\n",
       "    <tr>\n",
       "      <th>96</th>\n",
       "      <td>Ist SAP SuccessFactors eine cloudbasierte Lösung?</td>\n",
       "      <td>Ja, SAP SuccessFactors ist eine cloudbasierte ...</td>\n",
       "      <td>[-0.0199432373046875, 0.0278167724609375, 0.02...</td>\n",
       "      <td>[-0.026397705078125, 0.0257110595703125, 0.020...</td>\n",
       "      <td>[0.02007886953651905, -0.007643880322575569, 0...</td>\n",
       "      <td>[0.015938352793455124, -0.008424196392297745, ...</td>\n",
       "      <td>[-0.07585717737674713, 0.012959856539964676, 0...</td>\n",
       "      <td>[-0.06858152896165848, 0.010437645949423313, 0...</td>\n",
       "      <td>[-0.003956659696996212, 0.006207706872373819, ...</td>\n",
       "      <td>[-0.07585717737674713, 0.012959856539964676, 0...</td>\n",
       "      <td>Ist SAP SuccessFactors eine Cloud-basierte Lös...</td>\n",
       "      <td>SAP SuccessFactors: Cloud?</td>\n",
       "    </tr>\n",
       "    <tr>\n",
       "      <th>97</th>\n",
       "      <td>Wie erfolgt die Lizenzierung von SAP SuccessFa...</td>\n",
       "      <td>Die Lizenzierung von SAP SuccessFactors erfolg...</td>\n",
       "      <td>[-0.026580810546875, 0.02978515625, 0.02326965...</td>\n",
       "      <td>[-0.04205322265625, 0.0196685791015625, 0.0034...</td>\n",
       "      <td>[0.04173319786787033, 0.009755135513842106, 0....</td>\n",
       "      <td>[0.029685040935873985, 0.0066001578234136105, ...</td>\n",
       "      <td>[-0.022737594321370125, 0.026175430044531822, ...</td>\n",
       "      <td>[-0.03319000452756882, 0.037801411002874374, 0...</td>\n",
       "      <td>[0.002468980150297284, 0.0004094249743502587, ...</td>\n",
       "      <td>[-0.022737594321370125, 0.026175430044531822, ...</td>\n",
       "      <td>Wie erfolgt die Lizenzierung von SAP SuccessFa...</td>\n",
       "      <td>Lizenzierung von SAP SuccessFactors?</td>\n",
       "    </tr>\n",
       "    <tr>\n",
       "      <th>98</th>\n",
       "      <td>Bietet SAP SuccessFactors Funktionen für die A...</td>\n",
       "      <td>Ja, SAP SuccessFactors bietet Funktionen für d...</td>\n",
       "      <td>[-0.021270751953125, 0.037750244140625, 0.0478...</td>\n",
       "      <td>[-0.0241241455078125, 0.02984619140625, 0.0427...</td>\n",
       "      <td>[0.01893707923591137, -0.011880947276949883, 0...</td>\n",
       "      <td>[0.014625104144215584, -0.008604103699326515, ...</td>\n",
       "      <td>[-0.05296477675437927, 0.018537672236561775, 0...</td>\n",
       "      <td>[-0.059949032962322235, 0.029077425599098206, ...</td>\n",
       "      <td>[-0.011078423820436, -0.010073578916490078, -0...</td>\n",
       "      <td>[-0.05296477675437927, 0.018537672236561775, 0...</td>\n",
       "      <td>Bietet SAP SuccessFactors Funktionen für die V...</td>\n",
       "      <td>Arbeitszeitverwaltung und -planung in SAP Succ...</td>\n",
       "    </tr>\n",
       "    <tr>\n",
       "      <th>99</th>\n",
       "      <td>Welche Art von Support und Wartung bietet SAP ...</td>\n",
       "      <td>SAP bietet umfassenden Support und regelmäßige...</td>\n",
       "      <td>[-0.016143798828125, 0.02191162109375, 0.04156...</td>\n",
       "      <td>[-0.02838134765625, 0.004909515380859375, 0.04...</td>\n",
       "      <td>[0.032942995429039, 0.0087354751303792, 0.0375...</td>\n",
       "      <td>[0.004940326791256666, 0.0010807954240590334, ...</td>\n",
       "      <td>[-0.03508766368031502, 0.04573966562747955, 0....</td>\n",
       "      <td>[-0.042063962668180466, 0.023073727265000343, ...</td>\n",
       "      <td>[0.03481224179267883, 0.028684517368674278, -0...</td>\n",
       "      <td>[-0.03508766368031502, 0.04573966562747955, 0....</td>\n",
       "      <td>Welche Art von Support und Wartung bietet SAP ...</td>\n",
       "      <td>Support für SAP SuccessFactors?</td>\n",
       "    </tr>\n",
       "  </tbody>\n",
       "</table>\n",
       "<p>100 rows × 12 columns</p>\n",
       "</div>"
      ],
      "text/plain": [
       "                                                Frage  \\\n",
       "0                                Was ist SAP S/4HANA?   \n",
       "1                 Welche Vorteile bietet SAP S/4HANA?   \n",
       "2   Was sind die Hauptunterschiede zwischen SAP S/...   \n",
       "3        Welche Module sind in SAP S/4HANA enthalten?   \n",
       "4   Benötige ich eine Migration von meinem aktuell...   \n",
       "..                                                ...   \n",
       "95  Welche Schulungsressourcen und Unterstützung b...   \n",
       "96  Ist SAP SuccessFactors eine cloudbasierte Lösung?   \n",
       "97  Wie erfolgt die Lizenzierung von SAP SuccessFa...   \n",
       "98  Bietet SAP SuccessFactors Funktionen für die A...   \n",
       "99  Welche Art von Support und Wartung bietet SAP ...   \n",
       "\n",
       "                                              Antwort  \\\n",
       "0   SAP S/4HANA ist eine Enterprise Resource Plann...   \n",
       "1   Zu den Vorteilen von SAP S/4HANA gehören eine ...   \n",
       "2   Die Hauptunterschiede umfassen die In-Memory-D...   \n",
       "3   SAP S/4HANA umfasst Module für Finanzen, Besch...   \n",
       "4   Ja, eine Migration ist erforderlich, da SAP S/...   \n",
       "..                                                ...   \n",
       "95  SAP bietet Schulungsressourcen, Schulungen und...   \n",
       "96  Ja, SAP SuccessFactors ist eine cloudbasierte ...   \n",
       "97  Die Lizenzierung von SAP SuccessFactors erfolg...   \n",
       "98  Ja, SAP SuccessFactors bietet Funktionen für d...   \n",
       "99  SAP bietet umfassenden Support und regelmäßige...   \n",
       "\n",
       "                   Question Embeddings: mistral-embed  \\\n",
       "0   [-0.00012612342834472656, 0.00600433349609375,...   \n",
       "1   [-0.006504058837890625, 0.00728607177734375, 0...   \n",
       "2   [-0.007793426513671875, 0.0261993408203125, 0....   \n",
       "3   [0.0027904510498046875, 0.01560211181640625, 0...   \n",
       "4   [-0.0299224853515625, 0.016448974609375, 0.028...   \n",
       "..                                                ...   \n",
       "95  [-0.023162841796875, 0.0231475830078125, 0.043...   \n",
       "96  [-0.0199432373046875, 0.0278167724609375, 0.02...   \n",
       "97  [-0.026580810546875, 0.02978515625, 0.02326965...   \n",
       "98  [-0.021270751953125, 0.037750244140625, 0.0478...   \n",
       "99  [-0.016143798828125, 0.02191162109375, 0.04156...   \n",
       "\n",
       "                     Answer Embeddings: mistral-embed  \\\n",
       "0   [-0.01047515869140625, -0.007099151611328125, ...   \n",
       "1   [-0.022491455078125, -0.0136871337890625, 0.05...   \n",
       "2   [-0.0197296142578125, 0.005146026611328125, 0....   \n",
       "3   [0.0028972625732421875, -0.0002427101135253906...   \n",
       "4   [-0.0027790069580078125, -0.0124359130859375, ...   \n",
       "..                                                ...   \n",
       "95  [-0.0168914794921875, 0.0008006095886230469, 0...   \n",
       "96  [-0.026397705078125, 0.0257110595703125, 0.020...   \n",
       "97  [-0.04205322265625, 0.0196685791015625, 0.0034...   \n",
       "98  [-0.0241241455078125, 0.02984619140625, 0.0427...   \n",
       "99  [-0.02838134765625, 0.004909515380859375, 0.04...   \n",
       "\n",
       "          Question Embeddings: text-embedding-ada-002  \\\n",
       "0   [0.020581984892487526, 0.0068562752567231655, ...   \n",
       "1   [0.016592826694250107, -0.0013070483691990376,...   \n",
       "2   [0.039898816496133804, 0.009220315143465996, 0...   \n",
       "3   [0.025606660172343254, 0.005926734767854214, 0...   \n",
       "4   [0.013608722016215324, -0.007326304446905851, ...   \n",
       "..                                                ...   \n",
       "95  [0.013494105078279972, -0.011890137568116188, ...   \n",
       "96  [0.02007886953651905, -0.007643880322575569, 0...   \n",
       "97  [0.04173319786787033, 0.009755135513842106, 0....   \n",
       "98  [0.01893707923591137, -0.011880947276949883, 0...   \n",
       "99  [0.032942995429039, 0.0087354751303792, 0.0375...   \n",
       "\n",
       "            Answer Embeddings: text-embedding-ada-002  \\\n",
       "0   [0.01394073385745287, -0.0076940665021538734, ...   \n",
       "1   [0.007233329117298126, 0.0071442644111812115, ...   \n",
       "2   [0.0021640665363520384, 0.008108162321150303, ...   \n",
       "3   [0.02016955055296421, -0.008751985616981983, 0...   \n",
       "4   [0.023980315774679184, -0.0257048849016428, 0....   \n",
       "..                                                ...   \n",
       "95  [-0.0035913982428610325, -0.004740770440548658...   \n",
       "96  [0.015938352793455124, -0.008424196392297745, ...   \n",
       "97  [0.029685040935873985, 0.0066001578234136105, ...   \n",
       "98  [0.014625104144215584, -0.008604103699326515, ...   \n",
       "99  [0.004940326791256666, 0.0010807954240590334, ...   \n",
       "\n",
       "          Question Embeddings: text-embedding-3-small  \\\n",
       "0   [-0.04551265388727188, 0.011044912040233612, 0...   \n",
       "1   [-0.04175806790590286, 0.010400454513728619, 0...   \n",
       "2   [-0.05220985785126686, -0.0108477883040905, 0....   \n",
       "3   [-0.040618691593408585, 0.017335548996925354, ...   \n",
       "4   [-0.03777245432138443, 0.04013200104236603, 0....   \n",
       "..                                                ...   \n",
       "95  [-0.03508688881993294, 0.02731972001492977, 0....   \n",
       "96  [-0.07585717737674713, 0.012959856539964676, 0...   \n",
       "97  [-0.022737594321370125, 0.026175430044531822, ...   \n",
       "98  [-0.05296477675437927, 0.018537672236561775, 0...   \n",
       "99  [-0.03508766368031502, 0.04573966562747955, 0....   \n",
       "\n",
       "            Answer Embeddings: text-embedding-3-small  \\\n",
       "0   [-0.06468543410301208, 0.008432664908468723, 0...   \n",
       "1   [-0.015268453396856785, 0.026090648025274277, ...   \n",
       "2   [-0.019829710945487022, 0.01941532827913761, 0...   \n",
       "3   [-0.06687304377555847, 0.022782111540436745, 0...   \n",
       "4   [-0.02673247642815113, 0.040786463767290115, 0...   \n",
       "..                                                ...   \n",
       "95  [-0.04438437893986702, 0.023657530546188354, 0...   \n",
       "96  [-0.06858152896165848, 0.010437645949423313, 0...   \n",
       "97  [-0.03319000452756882, 0.037801411002874374, 0...   \n",
       "98  [-0.059949032962322235, 0.029077425599098206, ...   \n",
       "99  [-0.042063962668180466, 0.023073727265000343, ...   \n",
       "\n",
       "          Question Embeddings: text-embedding-3-large  \\\n",
       "0   [-0.000779634399805218, 0.006759680341929197, ...   \n",
       "1   [0.006959523539990187, 0.00851409137248993, -0...   \n",
       "2   [0.011959274299442768, 0.003065806347876787, -...   \n",
       "3   [0.007088058162480593, 0.0015454861568287015, ...   \n",
       "4   [0.013009252957999706, 0.03949623554944992, -0...   \n",
       "..                                                ...   \n",
       "95  [0.015864694491028786, 0.02138870768249035, -0...   \n",
       "96  [-0.003956659696996212, 0.006207706872373819, ...   \n",
       "97  [0.002468980150297284, 0.0004094249743502587, ...   \n",
       "98  [-0.011078423820436, -0.010073578916490078, -0...   \n",
       "99  [0.03481224179267883, 0.028684517368674278, -0...   \n",
       "\n",
       "            Answer Embeddings: text-embedding-3-large  \\\n",
       "0   [-0.04551265388727188, 0.011044912040233612, 0...   \n",
       "1   [-0.04175806790590286, 0.010400454513728619, 0...   \n",
       "2   [-0.05220985785126686, -0.0108477883040905, 0....   \n",
       "3   [-0.040618691593408585, 0.017335548996925354, ...   \n",
       "4   [-0.03920025750994682, 0.04049645736813545, 0....   \n",
       "..                                                ...   \n",
       "95  [-0.03506753593683243, 0.027382919564843178, 0...   \n",
       "96  [-0.07585717737674713, 0.012959856539964676, 0...   \n",
       "97  [-0.022737594321370125, 0.026175430044531822, ...   \n",
       "98  [-0.05296477675437927, 0.018537672236561775, 0...   \n",
       "99  [-0.03508766368031502, 0.04573966562747955, 0....   \n",
       "\n",
       "                                  Frage (modifiziert)  \\\n",
       "0                                        Was ist S/4?   \n",
       "1                  Welche Vorzüge bietet SAP S/4HANA?   \n",
       "2   Was sind die Hauptunterschiede zwischen SAP S/...   \n",
       "3       Welche Module sind in SAP S/4HANA integriert?   \n",
       "4   Ist eine Migration von meinem aktuellen SAP ER...   \n",
       "..                                                ...   \n",
       "95  Welche Unterstützung und Schulungsressourcen b...   \n",
       "96  Ist SAP SuccessFactors eine Cloud-basierte Lös...   \n",
       "97  Wie erfolgt die Lizenzierung von SAP SuccessFa...   \n",
       "98  Bietet SAP SuccessFactors Funktionen für die V...   \n",
       "99  Welche Art von Support und Wartung bietet SAP ...   \n",
       "\n",
       "                            Frage (stark modifiziert)  \n",
       "0                                                S/4?  \n",
       "1                                       Vorteile HANA  \n",
       "2                            SAP S/4HANA vs. SAP ERP?  \n",
       "3                                 Module SAP S/4HANA?  \n",
       "4                            Migration zu SAP S/4HANA  \n",
       "..                                                ...  \n",
       "95  Unterstützung und Schulungsressourcen für SAP ...  \n",
       "96                         SAP SuccessFactors: Cloud?  \n",
       "97               Lizenzierung von SAP SuccessFactors?  \n",
       "98  Arbeitszeitverwaltung und -planung in SAP Succ...  \n",
       "99                    Support für SAP SuccessFactors?  \n",
       "\n",
       "[100 rows x 12 columns]"
      ]
     },
     "execution_count": 485,
     "metadata": {},
     "output_type": "execute_result"
    }
   ],
   "source": [
    "df_with_embeddings"
   ]
  },
  {
   "cell_type": "markdown",
   "metadata": {},
   "source": [
    "Compare all RAG Answers with \"golden ground truths\""
   ]
  },
  {
   "cell_type": "code",
   "execution_count": 486,
   "metadata": {},
   "outputs": [
    {
     "data": {
      "text/html": [
       "<div>\n",
       "<style scoped>\n",
       "    .dataframe tbody tr th:only-of-type {\n",
       "        vertical-align: middle;\n",
       "    }\n",
       "\n",
       "    .dataframe tbody tr th {\n",
       "        vertical-align: top;\n",
       "    }\n",
       "\n",
       "    .dataframe thead th {\n",
       "        text-align: right;\n",
       "    }\n",
       "</style>\n",
       "<table border=\"1\" class=\"dataframe\">\n",
       "  <thead>\n",
       "    <tr style=\"text-align: right;\">\n",
       "      <th></th>\n",
       "      <th>Frage (stark modifiziert)</th>\n",
       "      <th>Antwort (mistral-embed)</th>\n",
       "      <th>Antwort (text-embedding-ada-002)</th>\n",
       "      <th>Antwort (text-embedding-3-small)</th>\n",
       "      <th>Antwort (text-embedding-3-large)</th>\n",
       "    </tr>\n",
       "  </thead>\n",
       "  <tbody>\n",
       "    <tr>\n",
       "      <th>0</th>\n",
       "      <td>S/4?</td>\n",
       "      <td>SAP S/4HANA ist eine Enterprise Resource Plann...</td>\n",
       "      <td>SAP S/4HANA ist eine Enterprise Resource Plann...</td>\n",
       "      <td>SAP bietet verschiedene Dienstleistungen wie B...</td>\n",
       "      <td>SAP S/4HANA ist eine Enterprise Resource Plann...</td>\n",
       "    </tr>\n",
       "    <tr>\n",
       "      <th>1</th>\n",
       "      <td>Vorteile HANA</td>\n",
       "      <td>Zu den Vorteilen von SAP S/4HANA gehören eine ...</td>\n",
       "      <td>Zu den Vorteilen von SAP S/4HANA gehören eine ...</td>\n",
       "      <td>Zu den Vorteilen von SAP S/4HANA gehören eine ...</td>\n",
       "      <td>Zu den Vorteilen von SAP S/4HANA gehören eine ...</td>\n",
       "    </tr>\n",
       "    <tr>\n",
       "      <th>2</th>\n",
       "      <td>SAP S/4HANA vs. SAP ERP?</td>\n",
       "      <td>Die Hauptunterschiede umfassen die In-Memory-D...</td>\n",
       "      <td>Die Hauptunterschiede umfassen die In-Memory-D...</td>\n",
       "      <td>Die Hauptunterschiede umfassen die In-Memory-D...</td>\n",
       "      <td>Die Hauptunterschiede umfassen die In-Memory-D...</td>\n",
       "    </tr>\n",
       "    <tr>\n",
       "      <th>3</th>\n",
       "      <td>Module SAP S/4HANA?</td>\n",
       "      <td>SAP S/4HANA umfasst Module für Finanzen, Besch...</td>\n",
       "      <td>SAP S/4HANA ist eine Enterprise Resource Plann...</td>\n",
       "      <td>SAP S/4HANA ist eine Enterprise Resource Plann...</td>\n",
       "      <td>SAP S/4HANA umfasst Module für Finanzen, Besch...</td>\n",
       "    </tr>\n",
       "    <tr>\n",
       "      <th>4</th>\n",
       "      <td>Migration zu SAP S/4HANA</td>\n",
       "      <td>Ja, eine Migration ist erforderlich, da SAP S/...</td>\n",
       "      <td>Ja, eine Migration ist erforderlich, da SAP S/...</td>\n",
       "      <td>Ja, eine Migration ist erforderlich, da SAP S/...</td>\n",
       "      <td>Ja, eine Migration ist erforderlich, da SAP S/...</td>\n",
       "    </tr>\n",
       "    <tr>\n",
       "      <th>...</th>\n",
       "      <td>...</td>\n",
       "      <td>...</td>\n",
       "      <td>...</td>\n",
       "      <td>...</td>\n",
       "      <td>...</td>\n",
       "    </tr>\n",
       "    <tr>\n",
       "      <th>95</th>\n",
       "      <td>Unterstützung und Schulungsressourcen für SAP ...</td>\n",
       "      <td>SAP bietet Schulungsressourcen, Schulungen und...</td>\n",
       "      <td>SAP bietet Schulungsressourcen, Schulungen und...</td>\n",
       "      <td>SAP bietet Schulungsressourcen, Schulungen und...</td>\n",
       "      <td>SAP bietet Schulungsressourcen, Schulungen und...</td>\n",
       "    </tr>\n",
       "    <tr>\n",
       "      <th>96</th>\n",
       "      <td>SAP SuccessFactors: Cloud?</td>\n",
       "      <td>Ja, SAP SuccessFactors ist eine cloudbasierte ...</td>\n",
       "      <td>Ja, SAP SuccessFactors ist eine cloudbasierte ...</td>\n",
       "      <td>Ja, SAP SuccessFactors ist eine cloudbasierte ...</td>\n",
       "      <td>Ja, SAP SuccessFactors ist eine cloudbasierte ...</td>\n",
       "    </tr>\n",
       "    <tr>\n",
       "      <th>97</th>\n",
       "      <td>Lizenzierung von SAP SuccessFactors?</td>\n",
       "      <td>Die Lizenzierung von SAP SuccessFactors erfolg...</td>\n",
       "      <td>Die Lizenzierung von SAP SuccessFactors erfolg...</td>\n",
       "      <td>Die Lizenzierung von SAP SuccessFactors erfolg...</td>\n",
       "      <td>Die Lizenzierung von SAP SuccessFactors erfolg...</td>\n",
       "    </tr>\n",
       "    <tr>\n",
       "      <th>98</th>\n",
       "      <td>Arbeitszeitverwaltung und -planung in SAP Succ...</td>\n",
       "      <td>Ja, SAP SuccessFactors bietet Funktionen für d...</td>\n",
       "      <td>Ja, SAP SuccessFactors bietet Funktionen für d...</td>\n",
       "      <td>Ja, SAP SuccessFactors bietet Funktionen für d...</td>\n",
       "      <td>Ja, SAP SuccessFactors bietet Funktionen für d...</td>\n",
       "    </tr>\n",
       "    <tr>\n",
       "      <th>99</th>\n",
       "      <td>Support für SAP SuccessFactors?</td>\n",
       "      <td>SAP bietet umfassenden Support und regelmäßige...</td>\n",
       "      <td>Ja, SAP SuccessFactors unterstützt die Mitarbe...</td>\n",
       "      <td>Ja, SAP SuccessFactors unterstützt die Mitarbe...</td>\n",
       "      <td>SAP bietet umfassenden Support und regelmäßige...</td>\n",
       "    </tr>\n",
       "  </tbody>\n",
       "</table>\n",
       "<p>100 rows × 5 columns</p>\n",
       "</div>"
      ],
      "text/plain": [
       "                            Frage (stark modifiziert)  \\\n",
       "0                                                S/4?   \n",
       "1                                       Vorteile HANA   \n",
       "2                            SAP S/4HANA vs. SAP ERP?   \n",
       "3                                 Module SAP S/4HANA?   \n",
       "4                            Migration zu SAP S/4HANA   \n",
       "..                                                ...   \n",
       "95  Unterstützung und Schulungsressourcen für SAP ...   \n",
       "96                         SAP SuccessFactors: Cloud?   \n",
       "97               Lizenzierung von SAP SuccessFactors?   \n",
       "98  Arbeitszeitverwaltung und -planung in SAP Succ...   \n",
       "99                    Support für SAP SuccessFactors?   \n",
       "\n",
       "                              Antwort (mistral-embed)  \\\n",
       "0   SAP S/4HANA ist eine Enterprise Resource Plann...   \n",
       "1   Zu den Vorteilen von SAP S/4HANA gehören eine ...   \n",
       "2   Die Hauptunterschiede umfassen die In-Memory-D...   \n",
       "3   SAP S/4HANA umfasst Module für Finanzen, Besch...   \n",
       "4   Ja, eine Migration ist erforderlich, da SAP S/...   \n",
       "..                                                ...   \n",
       "95  SAP bietet Schulungsressourcen, Schulungen und...   \n",
       "96  Ja, SAP SuccessFactors ist eine cloudbasierte ...   \n",
       "97  Die Lizenzierung von SAP SuccessFactors erfolg...   \n",
       "98  Ja, SAP SuccessFactors bietet Funktionen für d...   \n",
       "99  SAP bietet umfassenden Support und regelmäßige...   \n",
       "\n",
       "                     Antwort (text-embedding-ada-002)  \\\n",
       "0   SAP S/4HANA ist eine Enterprise Resource Plann...   \n",
       "1   Zu den Vorteilen von SAP S/4HANA gehören eine ...   \n",
       "2   Die Hauptunterschiede umfassen die In-Memory-D...   \n",
       "3   SAP S/4HANA ist eine Enterprise Resource Plann...   \n",
       "4   Ja, eine Migration ist erforderlich, da SAP S/...   \n",
       "..                                                ...   \n",
       "95  SAP bietet Schulungsressourcen, Schulungen und...   \n",
       "96  Ja, SAP SuccessFactors ist eine cloudbasierte ...   \n",
       "97  Die Lizenzierung von SAP SuccessFactors erfolg...   \n",
       "98  Ja, SAP SuccessFactors bietet Funktionen für d...   \n",
       "99  Ja, SAP SuccessFactors unterstützt die Mitarbe...   \n",
       "\n",
       "                     Antwort (text-embedding-3-small)  \\\n",
       "0   SAP bietet verschiedene Dienstleistungen wie B...   \n",
       "1   Zu den Vorteilen von SAP S/4HANA gehören eine ...   \n",
       "2   Die Hauptunterschiede umfassen die In-Memory-D...   \n",
       "3   SAP S/4HANA ist eine Enterprise Resource Plann...   \n",
       "4   Ja, eine Migration ist erforderlich, da SAP S/...   \n",
       "..                                                ...   \n",
       "95  SAP bietet Schulungsressourcen, Schulungen und...   \n",
       "96  Ja, SAP SuccessFactors ist eine cloudbasierte ...   \n",
       "97  Die Lizenzierung von SAP SuccessFactors erfolg...   \n",
       "98  Ja, SAP SuccessFactors bietet Funktionen für d...   \n",
       "99  Ja, SAP SuccessFactors unterstützt die Mitarbe...   \n",
       "\n",
       "                     Antwort (text-embedding-3-large)  \n",
       "0   SAP S/4HANA ist eine Enterprise Resource Plann...  \n",
       "1   Zu den Vorteilen von SAP S/4HANA gehören eine ...  \n",
       "2   Die Hauptunterschiede umfassen die In-Memory-D...  \n",
       "3   SAP S/4HANA umfasst Module für Finanzen, Besch...  \n",
       "4   Ja, eine Migration ist erforderlich, da SAP S/...  \n",
       "..                                                ...  \n",
       "95  SAP bietet Schulungsressourcen, Schulungen und...  \n",
       "96  Ja, SAP SuccessFactors ist eine cloudbasierte ...  \n",
       "97  Die Lizenzierung von SAP SuccessFactors erfolg...  \n",
       "98  Ja, SAP SuccessFactors bietet Funktionen für d...  \n",
       "99  SAP bietet umfassenden Support und regelmäßige...  \n",
       "\n",
       "[100 rows x 5 columns]"
      ]
     },
     "execution_count": 486,
     "metadata": {},
     "output_type": "execute_result"
    }
   ],
   "source": [
    "df_modified_question_results"
   ]
  },
  {
   "cell_type": "code",
   "execution_count": 487,
   "metadata": {},
   "outputs": [
    {
     "data": {
      "text/html": [
       "<div>\n",
       "<style scoped>\n",
       "    .dataframe tbody tr th:only-of-type {\n",
       "        vertical-align: middle;\n",
       "    }\n",
       "\n",
       "    .dataframe tbody tr th {\n",
       "        vertical-align: top;\n",
       "    }\n",
       "\n",
       "    .dataframe thead th {\n",
       "        text-align: right;\n",
       "    }\n",
       "</style>\n",
       "<table border=\"1\" class=\"dataframe\">\n",
       "  <thead>\n",
       "    <tr style=\"text-align: right;\">\n",
       "      <th></th>\n",
       "      <th>Frage (stark modifiziert)</th>\n",
       "      <th>Antwort (mistral-embed)</th>\n",
       "      <th>Antwort (text-embedding-ada-002)</th>\n",
       "      <th>Antwort (text-embedding-3-small)</th>\n",
       "      <th>Antwort (text-embedding-3-large)</th>\n",
       "      <th>Antwort (original)</th>\n",
       "      <th>Answer Embeddings: mistral-embed</th>\n",
       "      <th>Answer Embeddings: text-embedding-ada-002</th>\n",
       "      <th>Answer Embeddings: text-embedding-3-small</th>\n",
       "      <th>Answer Embeddings: text-embedding-3-large</th>\n",
       "    </tr>\n",
       "  </thead>\n",
       "  <tbody>\n",
       "    <tr>\n",
       "      <th>0</th>\n",
       "      <td>S/4?</td>\n",
       "      <td>SAP S/4HANA ist eine Enterprise Resource Plann...</td>\n",
       "      <td>SAP S/4HANA ist eine Enterprise Resource Plann...</td>\n",
       "      <td>SAP bietet verschiedene Dienstleistungen wie B...</td>\n",
       "      <td>SAP S/4HANA ist eine Enterprise Resource Plann...</td>\n",
       "      <td>SAP S/4HANA ist eine Enterprise Resource Plann...</td>\n",
       "      <td>[-0.01047515869140625, -0.007099151611328125, ...</td>\n",
       "      <td>[0.01394073385745287, -0.0076940665021538734, ...</td>\n",
       "      <td>[-0.06468543410301208, 0.008432664908468723, 0...</td>\n",
       "      <td>[-0.04551265388727188, 0.011044912040233612, 0...</td>\n",
       "    </tr>\n",
       "    <tr>\n",
       "      <th>1</th>\n",
       "      <td>Vorteile HANA</td>\n",
       "      <td>Zu den Vorteilen von SAP S/4HANA gehören eine ...</td>\n",
       "      <td>Zu den Vorteilen von SAP S/4HANA gehören eine ...</td>\n",
       "      <td>Zu den Vorteilen von SAP S/4HANA gehören eine ...</td>\n",
       "      <td>Zu den Vorteilen von SAP S/4HANA gehören eine ...</td>\n",
       "      <td>Zu den Vorteilen von SAP S/4HANA gehören eine ...</td>\n",
       "      <td>[-0.022491455078125, -0.0136871337890625, 0.05...</td>\n",
       "      <td>[0.007233329117298126, 0.0071442644111812115, ...</td>\n",
       "      <td>[-0.015268453396856785, 0.026090648025274277, ...</td>\n",
       "      <td>[-0.04175806790590286, 0.010400454513728619, 0...</td>\n",
       "    </tr>\n",
       "    <tr>\n",
       "      <th>2</th>\n",
       "      <td>SAP S/4HANA vs. SAP ERP?</td>\n",
       "      <td>Die Hauptunterschiede umfassen die In-Memory-D...</td>\n",
       "      <td>Die Hauptunterschiede umfassen die In-Memory-D...</td>\n",
       "      <td>Die Hauptunterschiede umfassen die In-Memory-D...</td>\n",
       "      <td>Die Hauptunterschiede umfassen die In-Memory-D...</td>\n",
       "      <td>Die Hauptunterschiede umfassen die In-Memory-D...</td>\n",
       "      <td>[-0.0197296142578125, 0.005146026611328125, 0....</td>\n",
       "      <td>[0.0021640665363520384, 0.008108162321150303, ...</td>\n",
       "      <td>[-0.019829710945487022, 0.01941532827913761, 0...</td>\n",
       "      <td>[-0.05220985785126686, -0.0108477883040905, 0....</td>\n",
       "    </tr>\n",
       "    <tr>\n",
       "      <th>3</th>\n",
       "      <td>Module SAP S/4HANA?</td>\n",
       "      <td>SAP S/4HANA umfasst Module für Finanzen, Besch...</td>\n",
       "      <td>SAP S/4HANA ist eine Enterprise Resource Plann...</td>\n",
       "      <td>SAP S/4HANA ist eine Enterprise Resource Plann...</td>\n",
       "      <td>SAP S/4HANA umfasst Module für Finanzen, Besch...</td>\n",
       "      <td>SAP S/4HANA umfasst Module für Finanzen, Besch...</td>\n",
       "      <td>[0.0028972625732421875, -0.0002427101135253906...</td>\n",
       "      <td>[0.02016955055296421, -0.008751985616981983, 0...</td>\n",
       "      <td>[-0.06687304377555847, 0.022782111540436745, 0...</td>\n",
       "      <td>[-0.040618691593408585, 0.017335548996925354, ...</td>\n",
       "    </tr>\n",
       "    <tr>\n",
       "      <th>4</th>\n",
       "      <td>Migration zu SAP S/4HANA</td>\n",
       "      <td>Ja, eine Migration ist erforderlich, da SAP S/...</td>\n",
       "      <td>Ja, eine Migration ist erforderlich, da SAP S/...</td>\n",
       "      <td>Ja, eine Migration ist erforderlich, da SAP S/...</td>\n",
       "      <td>Ja, eine Migration ist erforderlich, da SAP S/...</td>\n",
       "      <td>Ja, eine Migration ist erforderlich, da SAP S/...</td>\n",
       "      <td>[-0.0027790069580078125, -0.0124359130859375, ...</td>\n",
       "      <td>[0.023980315774679184, -0.0257048849016428, 0....</td>\n",
       "      <td>[-0.02673247642815113, 0.040786463767290115, 0...</td>\n",
       "      <td>[-0.03920025750994682, 0.04049645736813545, 0....</td>\n",
       "    </tr>\n",
       "    <tr>\n",
       "      <th>...</th>\n",
       "      <td>...</td>\n",
       "      <td>...</td>\n",
       "      <td>...</td>\n",
       "      <td>...</td>\n",
       "      <td>...</td>\n",
       "      <td>...</td>\n",
       "      <td>...</td>\n",
       "      <td>...</td>\n",
       "      <td>...</td>\n",
       "      <td>...</td>\n",
       "    </tr>\n",
       "    <tr>\n",
       "      <th>95</th>\n",
       "      <td>Unterstützung und Schulungsressourcen für SAP ...</td>\n",
       "      <td>SAP bietet Schulungsressourcen, Schulungen und...</td>\n",
       "      <td>SAP bietet Schulungsressourcen, Schulungen und...</td>\n",
       "      <td>SAP bietet Schulungsressourcen, Schulungen und...</td>\n",
       "      <td>SAP bietet Schulungsressourcen, Schulungen und...</td>\n",
       "      <td>SAP bietet Schulungsressourcen, Schulungen und...</td>\n",
       "      <td>[-0.0168914794921875, 0.0008006095886230469, 0...</td>\n",
       "      <td>[-0.0035913982428610325, -0.004740770440548658...</td>\n",
       "      <td>[-0.04438437893986702, 0.023657530546188354, 0...</td>\n",
       "      <td>[-0.03506753593683243, 0.027382919564843178, 0...</td>\n",
       "    </tr>\n",
       "    <tr>\n",
       "      <th>96</th>\n",
       "      <td>SAP SuccessFactors: Cloud?</td>\n",
       "      <td>Ja, SAP SuccessFactors ist eine cloudbasierte ...</td>\n",
       "      <td>Ja, SAP SuccessFactors ist eine cloudbasierte ...</td>\n",
       "      <td>Ja, SAP SuccessFactors ist eine cloudbasierte ...</td>\n",
       "      <td>Ja, SAP SuccessFactors ist eine cloudbasierte ...</td>\n",
       "      <td>Ja, SAP SuccessFactors ist eine cloudbasierte ...</td>\n",
       "      <td>[-0.026397705078125, 0.0257110595703125, 0.020...</td>\n",
       "      <td>[0.015938352793455124, -0.008424196392297745, ...</td>\n",
       "      <td>[-0.06858152896165848, 0.010437645949423313, 0...</td>\n",
       "      <td>[-0.07585717737674713, 0.012959856539964676, 0...</td>\n",
       "    </tr>\n",
       "    <tr>\n",
       "      <th>97</th>\n",
       "      <td>Lizenzierung von SAP SuccessFactors?</td>\n",
       "      <td>Die Lizenzierung von SAP SuccessFactors erfolg...</td>\n",
       "      <td>Die Lizenzierung von SAP SuccessFactors erfolg...</td>\n",
       "      <td>Die Lizenzierung von SAP SuccessFactors erfolg...</td>\n",
       "      <td>Die Lizenzierung von SAP SuccessFactors erfolg...</td>\n",
       "      <td>Die Lizenzierung von SAP SuccessFactors erfolg...</td>\n",
       "      <td>[-0.04205322265625, 0.0196685791015625, 0.0034...</td>\n",
       "      <td>[0.029685040935873985, 0.0066001578234136105, ...</td>\n",
       "      <td>[-0.03319000452756882, 0.037801411002874374, 0...</td>\n",
       "      <td>[-0.022737594321370125, 0.026175430044531822, ...</td>\n",
       "    </tr>\n",
       "    <tr>\n",
       "      <th>98</th>\n",
       "      <td>Arbeitszeitverwaltung und -planung in SAP Succ...</td>\n",
       "      <td>Ja, SAP SuccessFactors bietet Funktionen für d...</td>\n",
       "      <td>Ja, SAP SuccessFactors bietet Funktionen für d...</td>\n",
       "      <td>Ja, SAP SuccessFactors bietet Funktionen für d...</td>\n",
       "      <td>Ja, SAP SuccessFactors bietet Funktionen für d...</td>\n",
       "      <td>Ja, SAP SuccessFactors bietet Funktionen für d...</td>\n",
       "      <td>[-0.0241241455078125, 0.02984619140625, 0.0427...</td>\n",
       "      <td>[0.014625104144215584, -0.008604103699326515, ...</td>\n",
       "      <td>[-0.059949032962322235, 0.029077425599098206, ...</td>\n",
       "      <td>[-0.05296477675437927, 0.018537672236561775, 0...</td>\n",
       "    </tr>\n",
       "    <tr>\n",
       "      <th>99</th>\n",
       "      <td>Support für SAP SuccessFactors?</td>\n",
       "      <td>SAP bietet umfassenden Support und regelmäßige...</td>\n",
       "      <td>Ja, SAP SuccessFactors unterstützt die Mitarbe...</td>\n",
       "      <td>Ja, SAP SuccessFactors unterstützt die Mitarbe...</td>\n",
       "      <td>SAP bietet umfassenden Support und regelmäßige...</td>\n",
       "      <td>SAP bietet umfassenden Support und regelmäßige...</td>\n",
       "      <td>[-0.02838134765625, 0.004909515380859375, 0.04...</td>\n",
       "      <td>[0.004940326791256666, 0.0010807954240590334, ...</td>\n",
       "      <td>[-0.042063962668180466, 0.023073727265000343, ...</td>\n",
       "      <td>[-0.03508766368031502, 0.04573966562747955, 0....</td>\n",
       "    </tr>\n",
       "  </tbody>\n",
       "</table>\n",
       "<p>100 rows × 10 columns</p>\n",
       "</div>"
      ],
      "text/plain": [
       "                            Frage (stark modifiziert)  \\\n",
       "0                                                S/4?   \n",
       "1                                       Vorteile HANA   \n",
       "2                            SAP S/4HANA vs. SAP ERP?   \n",
       "3                                 Module SAP S/4HANA?   \n",
       "4                            Migration zu SAP S/4HANA   \n",
       "..                                                ...   \n",
       "95  Unterstützung und Schulungsressourcen für SAP ...   \n",
       "96                         SAP SuccessFactors: Cloud?   \n",
       "97               Lizenzierung von SAP SuccessFactors?   \n",
       "98  Arbeitszeitverwaltung und -planung in SAP Succ...   \n",
       "99                    Support für SAP SuccessFactors?   \n",
       "\n",
       "                              Antwort (mistral-embed)  \\\n",
       "0   SAP S/4HANA ist eine Enterprise Resource Plann...   \n",
       "1   Zu den Vorteilen von SAP S/4HANA gehören eine ...   \n",
       "2   Die Hauptunterschiede umfassen die In-Memory-D...   \n",
       "3   SAP S/4HANA umfasst Module für Finanzen, Besch...   \n",
       "4   Ja, eine Migration ist erforderlich, da SAP S/...   \n",
       "..                                                ...   \n",
       "95  SAP bietet Schulungsressourcen, Schulungen und...   \n",
       "96  Ja, SAP SuccessFactors ist eine cloudbasierte ...   \n",
       "97  Die Lizenzierung von SAP SuccessFactors erfolg...   \n",
       "98  Ja, SAP SuccessFactors bietet Funktionen für d...   \n",
       "99  SAP bietet umfassenden Support und regelmäßige...   \n",
       "\n",
       "                     Antwort (text-embedding-ada-002)  \\\n",
       "0   SAP S/4HANA ist eine Enterprise Resource Plann...   \n",
       "1   Zu den Vorteilen von SAP S/4HANA gehören eine ...   \n",
       "2   Die Hauptunterschiede umfassen die In-Memory-D...   \n",
       "3   SAP S/4HANA ist eine Enterprise Resource Plann...   \n",
       "4   Ja, eine Migration ist erforderlich, da SAP S/...   \n",
       "..                                                ...   \n",
       "95  SAP bietet Schulungsressourcen, Schulungen und...   \n",
       "96  Ja, SAP SuccessFactors ist eine cloudbasierte ...   \n",
       "97  Die Lizenzierung von SAP SuccessFactors erfolg...   \n",
       "98  Ja, SAP SuccessFactors bietet Funktionen für d...   \n",
       "99  Ja, SAP SuccessFactors unterstützt die Mitarbe...   \n",
       "\n",
       "                     Antwort (text-embedding-3-small)  \\\n",
       "0   SAP bietet verschiedene Dienstleistungen wie B...   \n",
       "1   Zu den Vorteilen von SAP S/4HANA gehören eine ...   \n",
       "2   Die Hauptunterschiede umfassen die In-Memory-D...   \n",
       "3   SAP S/4HANA ist eine Enterprise Resource Plann...   \n",
       "4   Ja, eine Migration ist erforderlich, da SAP S/...   \n",
       "..                                                ...   \n",
       "95  SAP bietet Schulungsressourcen, Schulungen und...   \n",
       "96  Ja, SAP SuccessFactors ist eine cloudbasierte ...   \n",
       "97  Die Lizenzierung von SAP SuccessFactors erfolg...   \n",
       "98  Ja, SAP SuccessFactors bietet Funktionen für d...   \n",
       "99  Ja, SAP SuccessFactors unterstützt die Mitarbe...   \n",
       "\n",
       "                     Antwort (text-embedding-3-large)  \\\n",
       "0   SAP S/4HANA ist eine Enterprise Resource Plann...   \n",
       "1   Zu den Vorteilen von SAP S/4HANA gehören eine ...   \n",
       "2   Die Hauptunterschiede umfassen die In-Memory-D...   \n",
       "3   SAP S/4HANA umfasst Module für Finanzen, Besch...   \n",
       "4   Ja, eine Migration ist erforderlich, da SAP S/...   \n",
       "..                                                ...   \n",
       "95  SAP bietet Schulungsressourcen, Schulungen und...   \n",
       "96  Ja, SAP SuccessFactors ist eine cloudbasierte ...   \n",
       "97  Die Lizenzierung von SAP SuccessFactors erfolg...   \n",
       "98  Ja, SAP SuccessFactors bietet Funktionen für d...   \n",
       "99  SAP bietet umfassenden Support und regelmäßige...   \n",
       "\n",
       "                                   Antwort (original)  \\\n",
       "0   SAP S/4HANA ist eine Enterprise Resource Plann...   \n",
       "1   Zu den Vorteilen von SAP S/4HANA gehören eine ...   \n",
       "2   Die Hauptunterschiede umfassen die In-Memory-D...   \n",
       "3   SAP S/4HANA umfasst Module für Finanzen, Besch...   \n",
       "4   Ja, eine Migration ist erforderlich, da SAP S/...   \n",
       "..                                                ...   \n",
       "95  SAP bietet Schulungsressourcen, Schulungen und...   \n",
       "96  Ja, SAP SuccessFactors ist eine cloudbasierte ...   \n",
       "97  Die Lizenzierung von SAP SuccessFactors erfolg...   \n",
       "98  Ja, SAP SuccessFactors bietet Funktionen für d...   \n",
       "99  SAP bietet umfassenden Support und regelmäßige...   \n",
       "\n",
       "                     Answer Embeddings: mistral-embed  \\\n",
       "0   [-0.01047515869140625, -0.007099151611328125, ...   \n",
       "1   [-0.022491455078125, -0.0136871337890625, 0.05...   \n",
       "2   [-0.0197296142578125, 0.005146026611328125, 0....   \n",
       "3   [0.0028972625732421875, -0.0002427101135253906...   \n",
       "4   [-0.0027790069580078125, -0.0124359130859375, ...   \n",
       "..                                                ...   \n",
       "95  [-0.0168914794921875, 0.0008006095886230469, 0...   \n",
       "96  [-0.026397705078125, 0.0257110595703125, 0.020...   \n",
       "97  [-0.04205322265625, 0.0196685791015625, 0.0034...   \n",
       "98  [-0.0241241455078125, 0.02984619140625, 0.0427...   \n",
       "99  [-0.02838134765625, 0.004909515380859375, 0.04...   \n",
       "\n",
       "            Answer Embeddings: text-embedding-ada-002  \\\n",
       "0   [0.01394073385745287, -0.0076940665021538734, ...   \n",
       "1   [0.007233329117298126, 0.0071442644111812115, ...   \n",
       "2   [0.0021640665363520384, 0.008108162321150303, ...   \n",
       "3   [0.02016955055296421, -0.008751985616981983, 0...   \n",
       "4   [0.023980315774679184, -0.0257048849016428, 0....   \n",
       "..                                                ...   \n",
       "95  [-0.0035913982428610325, -0.004740770440548658...   \n",
       "96  [0.015938352793455124, -0.008424196392297745, ...   \n",
       "97  [0.029685040935873985, 0.0066001578234136105, ...   \n",
       "98  [0.014625104144215584, -0.008604103699326515, ...   \n",
       "99  [0.004940326791256666, 0.0010807954240590334, ...   \n",
       "\n",
       "            Answer Embeddings: text-embedding-3-small  \\\n",
       "0   [-0.06468543410301208, 0.008432664908468723, 0...   \n",
       "1   [-0.015268453396856785, 0.026090648025274277, ...   \n",
       "2   [-0.019829710945487022, 0.01941532827913761, 0...   \n",
       "3   [-0.06687304377555847, 0.022782111540436745, 0...   \n",
       "4   [-0.02673247642815113, 0.040786463767290115, 0...   \n",
       "..                                                ...   \n",
       "95  [-0.04438437893986702, 0.023657530546188354, 0...   \n",
       "96  [-0.06858152896165848, 0.010437645949423313, 0...   \n",
       "97  [-0.03319000452756882, 0.037801411002874374, 0...   \n",
       "98  [-0.059949032962322235, 0.029077425599098206, ...   \n",
       "99  [-0.042063962668180466, 0.023073727265000343, ...   \n",
       "\n",
       "            Answer Embeddings: text-embedding-3-large  \n",
       "0   [-0.04551265388727188, 0.011044912040233612, 0...  \n",
       "1   [-0.04175806790590286, 0.010400454513728619, 0...  \n",
       "2   [-0.05220985785126686, -0.0108477883040905, 0....  \n",
       "3   [-0.040618691593408585, 0.017335548996925354, ...  \n",
       "4   [-0.03920025750994682, 0.04049645736813545, 0....  \n",
       "..                                                ...  \n",
       "95  [-0.03506753593683243, 0.027382919564843178, 0...  \n",
       "96  [-0.07585717737674713, 0.012959856539964676, 0...  \n",
       "97  [-0.022737594321370125, 0.026175430044531822, ...  \n",
       "98  [-0.05296477675437927, 0.018537672236561775, 0...  \n",
       "99  [-0.03508766368031502, 0.04573966562747955, 0....  \n",
       "\n",
       "[100 rows x 10 columns]"
      ]
     },
     "execution_count": 487,
     "metadata": {},
     "output_type": "execute_result"
    }
   ],
   "source": [
    "df_modified_question_results[\"Antwort (original)\"] = df_with_embeddings[\"Antwort\"].to_list()\n",
    "df_modified_question_results[\"Answer Embeddings: mistral-embed\"] = df_with_embeddings[\"Answer Embeddings: mistral-embed\"].to_list()\n",
    "df_modified_question_results[\"Answer Embeddings: text-embedding-ada-002\"] = df_with_embeddings[\"Answer Embeddings: text-embedding-ada-002\"].to_list()\n",
    "df_modified_question_results[\"Answer Embeddings: text-embedding-3-small\"] = df_with_embeddings[\"Answer Embeddings: text-embedding-3-small\"].to_list()\n",
    "df_modified_question_results[\"Answer Embeddings: text-embedding-3-large\"] = df_with_embeddings[\"Answer Embeddings: text-embedding-3-large\"].to_list()\n",
    "\n",
    "df_modified_question_results"
   ]
  },
  {
   "cell_type": "code",
   "execution_count": 488,
   "metadata": {},
   "outputs": [
    {
     "name": "stdout",
     "output_type": "stream",
     "text": [
      "Question 0:                           S/4?\n",
      "\n",
      "Correct Answer:                         SAP S/4HANA ist eine Enterprise Resource Planning (ERP)-Suite, die auf der In-Memory-Datenbanktechnologie von SAP HANA basiert.\n",
      "\n",
      "Answer from mistral-embed:              SAP S/4HANA ist eine Enterprise Resource Planning (ERP)-Suite, die auf der In-Memory-Datenbanktechnologie von SAP HANA basiert.\n",
      "Answer from text-embedding-ada-002:     SAP S/4HANA ist eine Enterprise Resource Planning (ERP)-Suite, die auf der In-Memory-Datenbanktechnologie von SAP HANA basiert.\n",
      "Answer from text-embedding-3-small:     SAP bietet verschiedene Dienstleistungen wie Beratung, Schulungen und Support für S/4HANA-Implementierungen an.\n",
      "Answer from text-embedding-3-large:     SAP S/4HANA ist eine Enterprise Resource Planning (ERP)-Suite, die auf der In-Memory-Datenbanktechnologie von SAP HANA basiert.\n",
      "\n",
      "Question 1:                           Vorteile HANA\n",
      "\n",
      "Correct Answer:                         Zu den Vorteilen von SAP S/4HANA gehören eine verbesserte Performance, Echtzeitanalysen, vereinfachte Prozesse und eine modernere Benutzeroberfläche.\n",
      "\n",
      "Answer from mistral-embed:              Zu den Vorteilen von SAP S/4HANA gehören eine verbesserte Performance, Echtzeitanalysen, vereinfachte Prozesse und eine modernere Benutzeroberfläche.\n",
      "Answer from text-embedding-ada-002:     Zu den Vorteilen von SAP S/4HANA gehören eine verbesserte Performance, Echtzeitanalysen, vereinfachte Prozesse und eine modernere Benutzeroberfläche.\n",
      "Answer from text-embedding-3-small:     Zu den Vorteilen von SAP S/4HANA gehören eine verbesserte Performance, Echtzeitanalysen, vereinfachte Prozesse und eine modernere Benutzeroberfläche.\n",
      "Answer from text-embedding-3-large:     Zu den Vorteilen von SAP S/4HANA gehören eine verbesserte Performance, Echtzeitanalysen, vereinfachte Prozesse und eine modernere Benutzeroberfläche.\n",
      "\n",
      "Question 2:                           SAP S/4HANA vs. SAP ERP?\n",
      "\n",
      "Correct Answer:                         Die Hauptunterschiede umfassen die In-Memory-Datenbanktechnologie, die vereinfachten Datenmodelle, die neue Benutzeroberfläche und die Integration von Analysen und Prognosen.\n",
      "\n",
      "Answer from mistral-embed:              Die Hauptunterschiede umfassen die In-Memory-Datenbanktechnologie, die vereinfachten Datenmodelle, die neue Benutzeroberfläche und die Integration von Analysen und Prognosen.\n",
      "Answer from text-embedding-ada-002:     Die Hauptunterschiede umfassen die In-Memory-Datenbanktechnologie, die vereinfachten Datenmodelle, die neue Benutzeroberfläche und die Integration von Analysen und Prognosen.\n",
      "Answer from text-embedding-3-small:     Die Hauptunterschiede umfassen die In-Memory-Datenbanktechnologie, die vereinfachten Datenmodelle, die neue Benutzeroberfläche und die Integration von Analysen und Prognosen.\n",
      "Answer from text-embedding-3-large:     Die Hauptunterschiede umfassen die In-Memory-Datenbanktechnologie, die vereinfachten Datenmodelle, die neue Benutzeroberfläche und die Integration von Analysen und Prognosen.\n",
      "\n",
      "Question 3:                           Module SAP S/4HANA?\n",
      "\n",
      "Correct Answer:                         SAP S/4HANA umfasst Module für Finanzen, Beschaffung, Produktion, Vertrieb, Lagerhaltung und mehr.\n",
      "\n",
      "Answer from mistral-embed:              SAP S/4HANA umfasst Module für Finanzen, Beschaffung, Produktion, Vertrieb, Lagerhaltung und mehr.\n",
      "Answer from text-embedding-ada-002:     SAP S/4HANA ist eine Enterprise Resource Planning (ERP)-Suite, die auf der In-Memory-Datenbanktechnologie von SAP HANA basiert.\n",
      "Answer from text-embedding-3-small:     SAP S/4HANA ist eine Enterprise Resource Planning (ERP)-Suite, die auf der In-Memory-Datenbanktechnologie von SAP HANA basiert.\n",
      "Answer from text-embedding-3-large:     SAP S/4HANA umfasst Module für Finanzen, Beschaffung, Produktion, Vertrieb, Lagerhaltung und mehr.\n",
      "\n",
      "Question 4:                           Migration zu SAP S/4HANA\n",
      "\n",
      "Correct Answer:                         Ja, eine Migration ist erforderlich, da SAP S/4HANA eine neue Architektur und Datenbanktechnologie verwendet.\n",
      "\n",
      "Answer from mistral-embed:              Ja, eine Migration ist erforderlich, da SAP S/4HANA eine neue Architektur und Datenbanktechnologie verwendet.\n",
      "Answer from text-embedding-ada-002:     Ja, eine Migration ist erforderlich, da SAP S/4HANA eine neue Architektur und Datenbanktechnologie verwendet.\n",
      "Answer from text-embedding-3-small:     Ja, eine Migration ist erforderlich, da SAP S/4HANA eine neue Architektur und Datenbanktechnologie verwendet.\n",
      "Answer from text-embedding-3-large:     Ja, eine Migration ist erforderlich, da SAP S/4HANA eine neue Architektur und Datenbanktechnologie verwendet.\n",
      "\n",
      "Question 5:                           Dauer S/4HANA-Migrationsprojekts?\n",
      "\n",
      "Correct Answer:                         Die Dauer kann je nach Unternehmensgröße, Komplexität der Systeme und gewählter Migrationsmethode variieren.\n",
      "\n",
      "Answer from mistral-embed:              Die Dauer kann je nach Unternehmensgröße, Komplexität der Systeme und gewählter Migrationsmethode variieren.\n",
      "Answer from text-embedding-ada-002:     Die Dauer kann je nach Unternehmensgröße, Komplexität der Systeme und gewählter Migrationsmethode variieren.\n",
      "Answer from text-embedding-3-small:     Die Dauer kann je nach Unternehmensgröße, Komplexität der Systeme und gewählter Migrationsmethode variieren.\n",
      "Answer from text-embedding-3-large:     Die Dauer kann je nach Unternehmensgröße, Komplexität der Systeme und gewählter Migrationsmethode variieren.\n",
      "\n",
      "Question 6:                           In-Memory-Technologien?\n",
      "\n",
      "Correct Answer:                         In-Memory-Technologien ermöglichen eine schnellere Datenverarbeitung und Echtzeitanalysen.\n",
      "\n",
      "Answer from mistral-embed:              In-Memory-Technologien ermöglichen eine schnellere Datenverarbeitung und Echtzeitanalysen.\n",
      "Answer from text-embedding-ada-002:     In-Memory-Technologien ermöglichen eine schnellere Datenverarbeitung und Echtzeitanalysen.\n",
      "Answer from text-embedding-3-small:     In-Memory-Technologien ermöglichen eine schnellere Datenverarbeitung und Echtzeitanalysen.\n",
      "Answer from text-embedding-3-large:     In-Memory-Technologien ermöglichen eine schnellere Datenverarbeitung und Echtzeitanalysen.\n",
      "\n",
      "Question 7:                           On-Premise oder Cloud?\n",
      "\n",
      "Correct Answer:                         Beide Optionen sind möglich, und die Entscheidung hängt von den Unternehmensanforderungen ab.\n",
      "\n",
      "Answer from mistral-embed:              Beide Optionen sind möglich, und die Entscheidung hängt von den Unternehmensanforderungen ab.\n",
      "Answer from text-embedding-ada-002:     Beide Optionen sind möglich, und die Entscheidung hängt von den Unternehmensanforderungen ab.\n",
      "Answer from text-embedding-3-small:     Beide Optionen sind möglich, und die Entscheidung hängt von den Unternehmensanforderungen ab.\n",
      "Answer from text-embedding-3-large:     Beide Optionen sind möglich, und die Entscheidung hängt von den Unternehmensanforderungen ab.\n",
      "\n",
      "Question 8:                           Lizenzierung SAP S/4HANA?\n",
      "\n",
      "Correct Answer:                         Die Lizenzierung basiert auf verschiedenen Faktoren wie Nutzeranzahl, Funktionsumfang und Implementierungsmethode.\n",
      "\n",
      "Answer from mistral-embed:              Die Lizenzierung basiert auf verschiedenen Faktoren wie Nutzeranzahl, Funktionsumfang und Implementierungsmethode.\n",
      "Answer from text-embedding-ada-002:     Die Lizenzierung basiert auf verschiedenen Faktoren wie Nutzeranzahl, Funktionsumfang und Implementierungsmethode.\n",
      "Answer from text-embedding-3-small:     Die Lizenzierung basiert auf verschiedenen Faktoren wie Nutzeranzahl, Funktionsumfang und Implementierungsmethode.\n",
      "Answer from text-embedding-3-large:     Die Lizenzierung basiert auf verschiedenen Faktoren wie Nutzeranzahl, Funktionsumfang und Implementierungsmethode.\n",
      "\n",
      "Question 9:                           Auswirkungen auf bestehende Entwicklungen?\n",
      "\n",
      "Correct Answer:                         Bestehende Entwicklungen müssen möglicherweise angepasst werden, um mit den neuen Datenstrukturen von SAP S/4HANA kompatibel zu sein.\n",
      "\n",
      "Answer from mistral-embed:              Bestehende Entwicklungen müssen möglicherweise angepasst werden, um mit den neuen Datenstrukturen von SAP S/4HANA kompatibel zu sein.\n",
      "Answer from text-embedding-ada-002:     Bestehende Entwicklungen müssen möglicherweise angepasst werden, um mit den neuen Datenstrukturen von SAP S/4HANA kompatibel zu sein.\n",
      "Answer from text-embedding-3-small:     Bestehende Entwicklungen müssen möglicherweise angepasst werden, um mit den neuen Datenstrukturen von SAP S/4HANA kompatibel zu sein.\n",
      "Answer from text-embedding-3-large:     Bestehende Entwicklungen müssen möglicherweise angepasst werden, um mit den neuen Datenstrukturen von SAP S/4HANA kompatibel zu sein.\n",
      "\n",
      "Question 10:                           Verwendbarkeit vorhandener Berichte/Anpassungen?\n",
      "\n",
      "Correct Answer:                         Einige können weiterverwendet werden, aber viele Anpassungen müssen möglicherweise aktualisiert oder neu entwickelt werden.\n",
      "\n",
      "Answer from mistral-embed:              Einige können weiterverwendet werden, aber viele Anpassungen müssen möglicherweise aktualisiert oder neu entwickelt werden.\n",
      "Answer from text-embedding-ada-002:     Einige können weiterverwendet werden, aber viele Anpassungen müssen möglicherweise aktualisiert oder neu entwickelt werden.\n",
      "Answer from text-embedding-3-small:     Einige können weiterverwendet werden, aber viele Anpassungen müssen möglicherweise aktualisiert oder neu entwickelt werden.\n",
      "Answer from text-embedding-3-large:     Einige können weiterverwendet werden, aber viele Anpassungen müssen möglicherweise aktualisiert oder neu entwickelt werden.\n",
      "\n",
      "Question 11:                           Integrierte Reporting-Funktionen\n",
      "\n",
      "Correct Answer:                         Ja, SAP S/4HANA bietet Funktionen wie SAP Fiori für intuitive Benutzeroberflächen und integrierte Analytics.\n",
      "\n",
      "Answer from mistral-embed:              Ja, SAP S/4HANA bietet Funktionen wie SAP Fiori für intuitive Benutzeroberflächen und integrierte Analytics.\n",
      "Answer from text-embedding-ada-002:     Ja, SAP S/4HANA bietet Funktionen wie SAP Fiori für intuitive Benutzeroberflächen und integrierte Analytics.\n",
      "Answer from text-embedding-3-small:     Ja, SAP S/4HANA bietet Funktionen wie SAP Fiori für intuitive Benutzeroberflächen und integrierte Analytics.\n",
      "Answer from text-embedding-3-large:     Ja, SAP S/4HANA bietet Funktionen wie SAP Fiori für intuitive Benutzeroberflächen und integrierte Analytics.\n",
      "\n",
      "Question 12:                           Unterstützung bei der Implementierung?\n",
      "\n",
      "Correct Answer:                         SAP bietet verschiedene Dienstleistungen wie Beratung, Schulungen und Support für S/4HANA-Implementierungen an.\n",
      "\n",
      "Answer from mistral-embed:              SAP bietet verschiedene Dienstleistungen wie Beratung, Schulungen und Support für S/4HANA-Implementierungen an.\n",
      "Answer from text-embedding-ada-002:     SAP bietet verschiedene Dienstleistungen wie Beratung, Schulungen und Support für S/4HANA-Implementierungen an.\n",
      "Answer from text-embedding-3-small:     SAP bietet verschiedene Dienstleistungen wie Beratung, Schulungen und Support für S/4HANA-Implementierungen an.\n",
      "Answer from text-embedding-3-large:     SAP bietet verschiedene Dienstleistungen wie Beratung, Schulungen und Support für S/4HANA-Implementierungen an.\n",
      "\n",
      "Question 13:                           Rolle von ML und KI\n",
      "\n",
      "Correct Answer:                         Machine Learning und künstliche Intelligenz werden für Funktionen wie Predictive Analytics und automatisierte Prozesse in SAP S/4HANA verwendet.\n",
      "\n",
      "Answer from mistral-embed:              Machine Learning und künstliche Intelligenz werden für Funktionen wie Predictive Analytics und automatisierte Prozesse in SAP S/4HANA verwendet.\n",
      "Answer from text-embedding-ada-002:     Machine Learning und künstliche Intelligenz werden für Funktionen wie Predictive Analytics und automatisierte Prozesse in SAP S/4HANA verwendet.\n",
      "Answer from text-embedding-3-small:     Machine Learning und künstliche Intelligenz werden für Funktionen wie Predictive Analytics und automatisierte Prozesse in SAP S/4HANA verwendet.\n",
      "Answer from text-embedding-3-large:     Machine Learning und künstliche Intelligenz werden für Funktionen wie Predictive Analytics und automatisierte Prozesse in SAP S/4HANA verwendet.\n",
      "\n",
      "Question 14:                           Integration mit anderen SAP-Produkten?\n",
      "\n",
      "Correct Answer:                         SAP S/4HANA kann nahtlos mit anderen SAP-Lösungen wie SAP SuccessFactors und SAP Ariba integriert werden.\n",
      "\n",
      "Answer from mistral-embed:              SAP S/4HANA kann nahtlos mit anderen SAP-Lösungen wie SAP SuccessFactors und SAP Ariba integriert werden.\n",
      "Answer from text-embedding-ada-002:     SAP SuccessFactors kann nahtlos mit anderen SAP-Produkten wie SAP ERP und SAP Concur integriert werden, um eine ganzheitliche Lösung für das Unternehmensmanagement zu bieten.\n",
      "Answer from text-embedding-3-small:     SAP SuccessFactors kann nahtlos mit anderen SAP-Produkten wie SAP ERP und SAP Concur integriert werden, um eine ganzheitliche Lösung für das Unternehmensmanagement zu bieten.\n",
      "Answer from text-embedding-3-large:     SAP S/4HANA kann nahtlos mit anderen SAP-Lösungen wie SAP SuccessFactors und SAP Ariba integriert werden.\n",
      "\n",
      "Question 15:                           Schulungen und Zertifizierungen?\n",
      "\n",
      "Correct Answer:                         Ja, SAP bietet Schulungen und Zertifizierungen für SAP S/4HANA an.\n",
      "\n",
      "Answer from mistral-embed:              Ja, SAP bietet Schulungen und Zertifizierungen für SAP S/4HANA an.\n",
      "Answer from text-embedding-ada-002:     Ja, SAP bietet Schulungen und Zertifizierungen für SAP S/4HANA an.\n",
      "Answer from text-embedding-3-small:     Ja, SAP bietet Schulungen und Zertifizierungen für SAP S/4HANA an.\n",
      "Answer from text-embedding-3-large:     Ja, SAP bietet Schulungen und Zertifizierungen für SAP S/4HANA an.\n",
      "\n",
      "Question 16:                           Integration Drittanbieteranwendungen?\n",
      "\n",
      "Correct Answer:                         Ja, SAP S/4HANA kann über APIs und Middleware mit Drittanbieteranwendungen integriert werden.\n",
      "\n",
      "Answer from mistral-embed:              Ja, SAP S/4HANA kann über APIs und Middleware mit Drittanbieteranwendungen integriert werden.\n",
      "Answer from text-embedding-ada-002:     Ja, SAP S/4HANA kann über APIs und Middleware mit Drittanbieteranwendungen integriert werden.\n",
      "Answer from text-embedding-3-small:     Ja, SAP S/4HANA kann über APIs und Middleware mit Drittanbieteranwendungen integriert werden.\n",
      "Answer from text-embedding-3-large:     Ja, SAP S/4HANA kann über APIs und Middleware mit Drittanbieteranwendungen integriert werden.\n",
      "\n",
      "Question 17:                           Verfügbarkeit/Support-Struktur?\n",
      "\n",
      "Correct Answer:                         SAP bietet einen umfassenden Support für SAP S/4HANA mit regelmäßigen Updates und technischem Support.\n",
      "\n",
      "Answer from mistral-embed:              SAP bietet einen umfassenden Support für SAP S/4HANA mit regelmäßigen Updates und technischem Support.\n",
      "Answer from text-embedding-ada-002:     SAP bietet einen umfassenden Support für SAP S/4HANA mit regelmäßigen Updates und technischem Support.\n",
      "Answer from text-embedding-3-small:     SAP bietet einen umfassenden Support für SAP S/4HANA mit regelmäßigen Updates und technischem Support.\n",
      "Answer from text-embedding-3-large:     SAP bietet einen umfassenden Support für SAP S/4HANA mit regelmäßigen Updates und technischem Support.\n",
      "\n",
      "Question 18:                           Architekturänderungen?\n",
      "\n",
      "Correct Answer:                         SAP S/4HANA erfordert eine neue Datenbankarchitektur und unterstützt moderne Technologien wie Cloud-Computing und IoT.\n",
      "\n",
      "Answer from mistral-embed:              SAP S/4HANA erfordert eine neue Datenbankarchitektur und unterstützt moderne Technologien wie Cloud-Computing und IoT.\n",
      "Answer from text-embedding-ada-002:     SAP S/4HANA erfordert eine neue Datenbankarchitektur und unterstützt moderne Technologien wie Cloud-Computing und IoT.\n",
      "Answer from text-embedding-3-small:     SAP S/4HANA erfordert eine neue Datenbankarchitektur und unterstützt moderne Technologien wie Cloud-Computing und IoT.\n",
      "Answer from text-embedding-3-large:     SAP S/4HANA erfordert eine neue Datenbankarchitektur und unterstützt moderne Technologien wie Cloud-Computing und IoT.\n",
      "\n",
      "Question 19:                           profitierende Branchen\n",
      "\n",
      "Correct Answer:                         Branchen wie Fertigung, Handel und Dienstleistungen profitieren besonders von den Funktionen und der Leistung von SAP S/4HANA.\n",
      "\n",
      "Answer from mistral-embed:              Branchen wie Fertigung, Handel und Dienstleistungen profitieren besonders von den Funktionen und der Leistung von SAP S/4HANA.\n",
      "Answer from text-embedding-ada-002:     Branchen wie Fertigung, Handel und Dienstleistungen profitieren besonders von den Funktionen und der Leistung von SAP S/4HANA.\n",
      "Answer from text-embedding-3-small:     Branchen wie Fertigung, Handel und Dienstleistungen profitieren besonders von den Funktionen und der Leistung von SAP S/4HANA.\n",
      "Answer from text-embedding-3-large:     Branchen wie Fertigung, Handel und Dienstleistungen profitieren besonders von den Funktionen und der Leistung von SAP S/4HANA.\n",
      "\n",
      "Question 20:                           Funktion SAP Fieldglass?\n",
      "\n",
      "Correct Answer:                         SAP Fieldglass ist eine cloudbasierte Plattform für das Management von externen Arbeitskräften und Dienstleistungsanbietern.\n",
      "\n",
      "Answer from mistral-embed:              SAP Fieldglass bietet Funktionen wie Beschaffung, Auftragsmanagement, Lieferantenverwaltung, Abrechnung und Compliance-Management.\n",
      "Answer from text-embedding-ada-002:     SAP Fieldglass bietet Funktionen wie Beschaffung, Auftragsmanagement, Lieferantenverwaltung, Abrechnung und Compliance-Management.\n",
      "Answer from text-embedding-3-small:     SAP Fieldglass bietet Funktionen wie Beschaffung, Auftragsmanagement, Lieferantenverwaltung, Abrechnung und Compliance-Management.\n",
      "Answer from text-embedding-3-large:     SAP Fieldglass bietet Funktionen wie Beschaffung, Auftragsmanagement, Lieferantenverwaltung, Abrechnung und Compliance-Management.\n",
      "\n",
      "Question 21:                           Features in SAP Fieldglass verfügbar?\n",
      "\n",
      "Correct Answer:                         SAP Fieldglass bietet Funktionen wie Beschaffung, Auftragsmanagement, Lieferantenverwaltung, Abrechnung und Compliance-Management.\n",
      "\n",
      "Answer from mistral-embed:              SAP Fieldglass bietet Funktionen wie Beschaffung, Auftragsmanagement, Lieferantenverwaltung, Abrechnung und Compliance-Management.\n",
      "Answer from text-embedding-ada-002:     SAP Fieldglass bietet Funktionen wie Beschaffung, Auftragsmanagement, Lieferantenverwaltung, Abrechnung und Compliance-Management.\n",
      "Answer from text-embedding-3-small:     SAP Fieldglass bietet Funktionen wie Beschaffung, Auftragsmanagement, Lieferantenverwaltung, Abrechnung und Compliance-Management.\n",
      "Answer from text-embedding-3-large:     SAP Fieldglass bietet Funktionen wie Beschaffung, Auftragsmanagement, Lieferantenverwaltung, Abrechnung und Compliance-Management.\n",
      "\n",
      "Question 22:                           profitieren von der Nutzung von SAP Fieldglass?\n",
      "\n",
      "Correct Answer:                         SAP Fieldglass ist für Unternehmen aller Größen und Branchen geeignet, die externe Arbeitskräfte oder Dienstleistungen nutzen.\n",
      "\n",
      "Answer from mistral-embed:              Die Nutzung von SAP Fieldglass ermöglicht eine bessere Kontrolle über externe Ressourcen, Kosteneinsparungen, verbesserte Compliance und beschleunigte Beschaffungsprozesse.\n",
      "Answer from text-embedding-ada-002:     Die Nutzung von SAP Fieldglass ermöglicht eine bessere Kontrolle über externe Ressourcen, Kosteneinsparungen, verbesserte Compliance und beschleunigte Beschaffungsprozesse.\n",
      "Answer from text-embedding-3-small:     Die Nutzung von SAP Fieldglass ermöglicht eine bessere Kontrolle über externe Ressourcen, Kosteneinsparungen, verbesserte Compliance und beschleunigte Beschaffungsprozesse.\n",
      "Answer from text-embedding-3-large:     Die Nutzung von SAP Fieldglass ermöglicht eine bessere Kontrolle über externe Ressourcen, Kosteneinsparungen, verbesserte Compliance und beschleunigte Beschaffungsprozesse.\n",
      "\n",
      "Question 23:                           Vorzüge Verwendung Fieldglass?\n",
      "\n",
      "Correct Answer:                         Die Nutzung von SAP Fieldglass ermöglicht eine bessere Kontrolle über externe Ressourcen, Kosteneinsparungen, verbesserte Compliance und beschleunigte Beschaffungsprozesse.\n",
      "\n",
      "Answer from mistral-embed:              Die Nutzung von SAP Fieldglass ermöglicht eine bessere Kontrolle über externe Ressourcen, Kosteneinsparungen, verbesserte Compliance und beschleunigte Beschaffungsprozesse.\n",
      "Answer from text-embedding-ada-002:     Die Nutzung von SAP Fieldglass ermöglicht eine bessere Kontrolle über externe Ressourcen, Kosteneinsparungen, verbesserte Compliance und beschleunigte Beschaffungsprozesse.\n",
      "Answer from text-embedding-3-small:     Die Nutzung von SAP Fieldglass ermöglicht eine bessere Kontrolle über externe Ressourcen, Kosteneinsparungen, verbesserte Compliance und beschleunigte Beschaffungsprozesse.\n",
      "Answer from text-embedding-3-large:     Die Nutzung von SAP Fieldglass ermöglicht eine bessere Kontrolle über externe Ressourcen, Kosteneinsparungen, verbesserte Compliance und beschleunigte Beschaffungsprozesse.\n",
      "\n",
      "Question 24:                           SAP Fieldglass mit anderen SAP-Produkten\n",
      "\n",
      "Correct Answer:                         SAP Fieldglass kann nahtlos mit anderen SAP-Produkten wie SAP SuccessFactors und SAP ERP integriert werden.\n",
      "\n",
      "Answer from mistral-embed:              SAP Fieldglass kann nahtlos mit anderen SAP-Produkten wie SAP SuccessFactors und SAP ERP integriert werden.\n",
      "Answer from text-embedding-ada-002:     SAP Fieldglass kann nahtlos mit anderen SAP-Produkten wie SAP SuccessFactors und SAP ERP integriert werden.\n",
      "Answer from text-embedding-3-small:     SAP Fieldglass kann nahtlos mit anderen SAP-Produkten wie SAP SuccessFactors und SAP ERP integriert werden.\n",
      "Answer from text-embedding-3-large:     SAP Fieldglass kann nahtlos mit anderen SAP-Produkten wie SAP SuccessFactors und SAP ERP integriert werden.\n",
      "\n",
      "Question 25:                           SAP Fieldglass im Talentmanagement\n",
      "\n",
      "Correct Answer:                         SAP Fieldglass spielt eine wichtige Rolle bei der Verwaltung von Auftragnehmern, Freiberuflern und Dienstleistungsanbietern im Rahmen des Talentmanagements.\n",
      "\n",
      "Answer from mistral-embed:              SAP Fieldglass spielt eine wichtige Rolle bei der Verwaltung von Auftragnehmern, Freiberuflern und Dienstleistungsanbietern im Rahmen des Talentmanagements.\n",
      "Answer from text-embedding-ada-002:     SAP Fieldglass spielt eine wichtige Rolle bei der Verwaltung von Auftragnehmern, Freiberuflern und Dienstleistungsanbietern im Rahmen des Talentmanagements.\n",
      "Answer from text-embedding-3-small:     SAP Fieldglass spielt eine wichtige Rolle bei der Verwaltung von Auftragnehmern, Freiberuflern und Dienstleistungsanbietern im Rahmen des Talentmanagements.\n",
      "Answer from text-embedding-3-large:     SAP Fieldglass spielt eine wichtige Rolle bei der Verwaltung von Auftragnehmern, Freiberuflern und Dienstleistungsanbietern im Rahmen des Talentmanagements.\n",
      "\n",
      "Question 26:                           SAP Fieldglass und bereits existierende HR-Systeme\n",
      "\n",
      "Correct Answer:                         Ja, SAP Fieldglass kann mit verschiedenen HR-Systemen und Enterprise-Resource-Planning-Systemen integriert werden.\n",
      "\n",
      "Answer from mistral-embed:              Ja, SAP Fieldglass kann mit verschiedenen HR-Systemen und Enterprise-Resource-Planning-Systemen integriert werden.\n",
      "Answer from text-embedding-ada-002:     Ja, SAP Fieldglass kann mit verschiedenen HR-Systemen und Enterprise-Resource-Planning-Systemen integriert werden.\n",
      "Answer from text-embedding-3-small:     Ja, SAP Fieldglass kann mit verschiedenen HR-Systemen und Enterprise-Resource-Planning-Systemen integriert werden.\n",
      "Answer from text-embedding-3-large:     Ja, SAP Fieldglass kann mit verschiedenen HR-Systemen und Enterprise-Resource-Planning-Systemen integriert werden.\n",
      "\n",
      "Question 27:                           SAP Fieldglass Unterstützung bei Verträgen und Genehmigungen\n",
      "\n",
      "Correct Answer:                         SAP Fieldglass erleichtert die Verwaltung von Arbeitsverträgen, Genehmigungsprozessen und Compliance-Anforderungen durch automatisierte Workflows und Dashboards.\n",
      "\n",
      "Answer from mistral-embed:              SAP Fieldglass erleichtert die Verwaltung von Arbeitsverträgen, Genehmigungsprozessen und Compliance-Anforderungen durch automatisierte Workflows und Dashboards.\n",
      "Answer from text-embedding-ada-002:     SAP Fieldglass erleichtert die Verwaltung von Arbeitsverträgen, Genehmigungsprozessen und Compliance-Anforderungen durch automatisierte Workflows und Dashboards.\n",
      "Answer from text-embedding-3-small:     SAP Fieldglass erleichtert die Verwaltung von Arbeitsverträgen, Genehmigungsprozessen und Compliance-Anforderungen durch automatisierte Workflows und Dashboards.\n",
      "Answer from text-embedding-3-large:     SAP Fieldglass erleichtert die Verwaltung von Arbeitsverträgen, Genehmigungsprozessen und Compliance-Anforderungen durch automatisierte Workflows und Dashboards.\n",
      "\n",
      "Question 28:                           Fieldglass Hilfe bei Compliance- und Risikomanagement-Standards?\n",
      "\n",
      "Correct Answer:                         Ja, SAP Fieldglass bietet Funktionen für Compliance- und Risikomanagement wie Überprüfung von Lieferanten, Vertrags- und Rechnungsprüfung sowie Risikobewertung.\n",
      "\n",
      "Answer from mistral-embed:              Ja, SAP Fieldglass bietet Funktionen für Compliance- und Risikomanagement wie Überprüfung von Lieferanten, Vertrags- und Rechnungsprüfung sowie Risikobewertung.\n",
      "Answer from text-embedding-ada-002:     Ja, SAP Fieldglass bietet Funktionen für Compliance- und Risikomanagement wie Überprüfung von Lieferanten, Vertrags- und Rechnungsprüfung sowie Risikobewertung.\n",
      "Answer from text-embedding-3-small:     Ja, SAP Fieldglass bietet Funktionen für Compliance- und Risikomanagement wie Überprüfung von Lieferanten, Vertrags- und Rechnungsprüfung sowie Risikobewertung.\n",
      "Answer from text-embedding-3-large:     Ja, SAP Fieldglass bietet Funktionen für Compliance- und Risikomanagement wie Überprüfung von Lieferanten, Vertrags- und Rechnungsprüfung sowie Risikobewertung.\n",
      "\n",
      "Question 29:                           Berichten und Analysen in SAP Fieldglass\n",
      "\n",
      "Correct Answer:                         SAP Fieldglass bietet umfassende Berichterstattungs- und Analysefunktionen für Leistungskennzahlen, Ausgabenanalyse und Risikomanagement.\n",
      "\n",
      "Answer from mistral-embed:              SAP Fieldglass bietet umfassende Berichterstattungs- und Analysefunktionen für Leistungskennzahlen, Ausgabenanalyse und Risikomanagement.\n",
      "Answer from text-embedding-ada-002:     SAP Fieldglass bietet umfassende Berichterstattungs- und Analysefunktionen für Leistungskennzahlen, Ausgabenanalyse und Risikomanagement.\n",
      "Answer from text-embedding-3-small:     SAP Fieldglass bietet umfassende Berichterstattungs- und Analysefunktionen für Leistungskennzahlen, Ausgabenanalyse und Risikomanagement.\n",
      "Answer from text-embedding-3-large:     SAP Fieldglass bietet umfassende Berichterstattungs- und Analysefunktionen für Leistungskennzahlen, Ausgabenanalyse und Risikomanagement.\n",
      "\n",
      "Question 30:                           Fieldglass globale Arbeitskräfte und Lieferanten\n",
      "\n",
      "Correct Answer:                         Ja, SAP Fieldglass ermöglicht die effiziente Verwaltung von globalen Arbeitskräften, Lieferanten und Verträgen.\n",
      "\n",
      "Answer from mistral-embed:              Ja, SAP Fieldglass ermöglicht die effiziente Verwaltung von globalen Arbeitskräften, Lieferanten und Verträgen.\n",
      "Answer from text-embedding-ada-002:     Ja, SAP Fieldglass ermöglicht die effiziente Verwaltung von globalen Arbeitskräften, Lieferanten und Verträgen.\n",
      "Answer from text-embedding-3-small:     Ja, SAP Fieldglass ermöglicht die effiziente Verwaltung von globalen Arbeitskräften, Lieferanten und Verträgen.\n",
      "Answer from text-embedding-3-large:     Ja, SAP Fieldglass ermöglicht die effiziente Verwaltung von globalen Arbeitskräften, Lieferanten und Verträgen.\n",
      "\n",
      "Question 31:                           Implementierung SAP Fieldglass\n",
      "\n",
      "Correct Answer:                         Die Implementierung von SAP Fieldglass erfolgt typischerweise durch einen strukturierten Prozess unter Einbeziehung von Beratern und technischem Support.\n",
      "\n",
      "Answer from mistral-embed:              Die Implementierung von SAP Fieldglass erfolgt typischerweise durch einen strukturierten Prozess unter Einbeziehung von Beratern und technischem Support.\n",
      "Answer from text-embedding-ada-002:     Die Implementierung von SAP Fieldglass erfolgt typischerweise durch einen strukturierten Prozess unter Einbeziehung von Beratern und technischem Support.\n",
      "Answer from text-embedding-3-small:     Die Implementierung von SAP Fieldglass erfolgt typischerweise durch einen strukturierten Prozess unter Einbeziehung von Beratern und technischem Support.\n",
      "Answer from text-embedding-3-large:     Die Implementierung von SAP Fieldglass erfolgt typischerweise durch einen strukturierten Prozess unter Einbeziehung von Beratern und technischem Support.\n",
      "\n",
      "Question 32:                           Schulungsmöglichkeiten SAP Fieldglass-Nutzer\n",
      "\n",
      "Correct Answer:                         Ja, SAP bietet Schulungs- und Zertifizierungsmöglichkeiten für SAP Fieldglass an, um die Benutzerkompetenz zu verbessern.\n",
      "\n",
      "Answer from mistral-embed:              Ja, SAP bietet Schulungs- und Zertifizierungsmöglichkeiten für SAP Fieldglass an, um die Benutzerkompetenz zu verbessern.\n",
      "Answer from text-embedding-ada-002:     Ja, SAP bietet Schulungs- und Zertifizierungsmöglichkeiten für SAP Fieldglass an, um die Benutzerkompetenz zu verbessern.\n",
      "Answer from text-embedding-3-small:     Ja, SAP bietet Schulungs- und Zertifizierungsmöglichkeiten für SAP Fieldglass an, um die Benutzerkompetenz zu verbessern.\n",
      "Answer from text-embedding-3-large:     Ja, SAP bietet Schulungs- und Zertifizierungsmöglichkeiten für SAP Fieldglass an, um die Benutzerkompetenz zu verbessern.\n",
      "\n",
      "Question 33:                           Fieldglass individuelle Anpassungen und Konfigurationen\n",
      "\n",
      "Correct Answer:                         Ja, SAP Fieldglass unterstützt benutzerdefinierte Anpassungen und Konfigurationen gemäß den spezifischen Anforderungen des Unternehmens.\n",
      "\n",
      "Answer from mistral-embed:              Ja, SAP Fieldglass unterstützt benutzerdefinierte Anpassungen und Konfigurationen gemäß den spezifischen Anforderungen des Unternehmens.\n",
      "Answer from text-embedding-ada-002:     Ja, SAP Fieldglass unterstützt benutzerdefinierte Anpassungen und Konfigurationen gemäß den spezifischen Anforderungen des Unternehmens.\n",
      "Answer from text-embedding-3-small:     Ja, SAP Fieldglass unterstützt benutzerdefinierte Anpassungen und Konfigurationen gemäß den spezifischen Anforderungen des Unternehmens.\n",
      "Answer from text-embedding-3-large:     Ja, SAP Fieldglass unterstützt benutzerdefinierte Anpassungen und Konfigurationen gemäß den spezifischen Anforderungen des Unternehmens.\n",
      "\n",
      "Question 34:                           SAP Fieldglass mobile Apps\n",
      "\n",
      "Correct Answer:                         Ja, SAP Fieldglass bietet mobile Anwendungen für die einfache Nutzung und Verwaltung auch unterwegs.\n",
      "\n",
      "Answer from mistral-embed:              Ja, SAP Fieldglass bietet mobile Anwendungen für die einfache Nutzung und Verwaltung auch unterwegs.\n",
      "Answer from text-embedding-ada-002:     Ja, SAP Fieldglass bietet mobile Anwendungen für die einfache Nutzung und Verwaltung auch unterwegs.\n",
      "Answer from text-embedding-3-small:     Ja, SAP Fieldglass bietet mobile Anwendungen für die einfache Nutzung und Verwaltung auch unterwegs.\n",
      "Answer from text-embedding-3-large:     Ja, SAP Fieldglass bietet mobile Anwendungen für die einfache Nutzung und Verwaltung auch unterwegs.\n",
      "\n",
      "Question 35:                           Kostenstruktur SAP Fieldglass?\n",
      "\n",
      "Correct Answer:                         Die Kostenstruktur für SAP Fieldglass umfasst typischerweise Lizenzgebühren, Implementierungskosten und laufende Servicegebühren basierend auf der Nutzung.\n",
      "\n",
      "Answer from mistral-embed:              Die Kostenstruktur für SAP Fieldglass umfasst typischerweise Lizenzgebühren, Implementierungskosten und laufende Servicegebühren basierend auf der Nutzung.\n",
      "Answer from text-embedding-ada-002:     Die Kostenstruktur für SAP Fieldglass umfasst typischerweise Lizenzgebühren, Implementierungskosten und laufende Servicegebühren basierend auf der Nutzung.\n",
      "Answer from text-embedding-3-small:     Die Kostenstruktur für SAP Fieldglass umfasst typischerweise Lizenzgebühren, Implementierungskosten und laufende Servicegebühren basierend auf der Nutzung.\n",
      "Answer from text-embedding-3-large:     Die Kostenstruktur für SAP Fieldglass umfasst typischerweise Lizenzgebühren, Implementierungskosten und laufende Servicegebühren basierend auf der Nutzung.\n",
      "\n",
      "Question 36:                           Sicherheitsvorkehrungen SAP Fieldglass\n",
      "\n",
      "Correct Answer:                         SAP Fieldglass implementiert Sicherheitsmaßnahmen wie Datenverschlüsselung, Zugriffskontrollen und regelmäßige Sicherheitsaudits.\n",
      "\n",
      "Answer from mistral-embed:              SAP Fieldglass implementiert Sicherheitsmaßnahmen wie Datenverschlüsselung, Zugriffskontrollen und regelmäßige Sicherheitsaudits.\n",
      "Answer from text-embedding-ada-002:     SAP Fieldglass implementiert Sicherheitsmaßnahmen wie Datenverschlüsselung, Zugriffskontrollen und regelmäßige Sicherheitsaudits.\n",
      "Answer from text-embedding-3-small:     SAP Fieldglass implementiert Sicherheitsmaßnahmen wie Datenverschlüsselung, Zugriffskontrollen und regelmäßige Sicherheitsaudits.\n",
      "Answer from text-embedding-3-large:     SAP Fieldglass implementiert Sicherheitsmaßnahmen wie Datenverschlüsselung, Zugriffskontrollen und regelmäßige Sicherheitsaudits.\n",
      "\n",
      "Question 37:                           Fieldglass mehrsprachige Benutzeroberflächen\n",
      "\n",
      "Correct Answer:                         Ja, SAP Fieldglass unterstützt mehrsprachige Benutzeroberflächen, um den globalen Einsatz zu erleichtern.\n",
      "\n",
      "Answer from mistral-embed:              Ja, SAP Fieldglass unterstützt mehrsprachige Benutzeroberflächen, um den globalen Einsatz zu erleichtern.\n",
      "Answer from text-embedding-ada-002:     Ja, SAP Fieldglass unterstützt mehrsprachige Benutzeroberflächen, um den globalen Einsatz zu erleichtern.\n",
      "Answer from text-embedding-3-small:     Ja, SAP Fieldglass unterstützt mehrsprachige Benutzeroberflächen, um den globalen Einsatz zu erleichtern.\n",
      "Answer from text-embedding-3-large:     Ja, SAP Fieldglass unterstützt mehrsprachige Benutzeroberflächen, um den globalen Einsatz zu erleichtern.\n",
      "\n",
      "Question 38:                           SAP Fieldglass Einhaltung von Vorschriften wie GDPR\n",
      "\n",
      "Correct Answer:                         Ja, SAP Fieldglass bietet Funktionen zur Unterstützung der Einhaltung von Vorschriften wie GDPR und andere Datenschutzbestimmungen.\n",
      "\n",
      "Answer from mistral-embed:              Ja, SAP Fieldglass bietet Funktionen zur Unterstützung der Einhaltung von Vorschriften wie GDPR und andere Datenschutzbestimmungen.\n",
      "Answer from text-embedding-ada-002:     Ja, SAP Fieldglass bietet Funktionen zur Unterstützung der Einhaltung von Vorschriften wie GDPR und andere Datenschutzbestimmungen.\n",
      "Answer from text-embedding-3-small:     Ja, SAP Fieldglass bietet Funktionen zur Unterstützung der Einhaltung von Vorschriften wie GDPR und andere Datenschutzbestimmungen.\n",
      "Answer from text-embedding-3-large:     Ja, SAP Fieldglass bietet Funktionen zur Unterstützung der Einhaltung von Vorschriften wie GDPR und andere Datenschutzbestimmungen.\n",
      "\n",
      "Question 39:                           Support und Wartung bei SAP Fieldglass?\n",
      "\n",
      "Correct Answer:                         SAP Fieldglass bietet umfassenden Support, einschließlich technischem Support, Schulungen und regelmäßigen Updates.\n",
      "\n",
      "Answer from mistral-embed:              SAP Fieldglass bietet umfassenden Support, einschließlich technischem Support, Schulungen und regelmäßigen Updates.\n",
      "Answer from text-embedding-ada-002:     SAP Fieldglass bietet umfassenden Support, einschließlich technischem Support, Schulungen und regelmäßigen Updates.\n",
      "Answer from text-embedding-3-small:     SAP Fieldglass bietet umfassenden Support, einschließlich technischem Support, Schulungen und regelmäßigen Updates.\n",
      "Answer from text-embedding-3-large:     SAP Fieldglass bietet umfassenden Support, einschließlich technischem Support, Schulungen und regelmäßigen Updates.\n",
      "\n",
      "Question 40:                           Was ist SAP Enable Now?\n",
      "\n",
      "Correct Answer:                         SAP Enable Now ist eine Lösung für das digitale Lern- und Wissensmanagement, die Schulungen, Leistungssupport und Dokumentationen bereitstellt.\n",
      "\n",
      "Answer from mistral-embed:              SAP Enable Now ist eine Lösung für das digitale Lern- und Wissensmanagement, die Schulungen, Leistungssupport und Dokumentationen bereitstellt.\n",
      "Answer from text-embedding-ada-002:     SAP Enable Now ist eine Lösung für das digitale Lern- und Wissensmanagement, die Schulungen, Leistungssupport und Dokumentationen bereitstellt.\n",
      "Answer from text-embedding-3-small:     SAP Enable Now ist eine Lösung für das digitale Lern- und Wissensmanagement, die Schulungen, Leistungssupport und Dokumentationen bereitstellt.\n",
      "Answer from text-embedding-3-large:     SAP Enable Now ist eine Lösung für das digitale Lern- und Wissensmanagement, die Schulungen, Leistungssupport und Dokumentationen bereitstellt.\n",
      "\n",
      "Question 41:                           Welche Features hat SAP Enable Now?\n",
      "\n",
      "Correct Answer:                         SAP Enable Now bietet Funktionen wie die Erstellung interaktiver Lerninhalte, Leistungssupporttools, Software-Dokumentationen und Schulungsanalyse.\n",
      "\n",
      "Answer from mistral-embed:              SAP Enable Now bietet Funktionen wie die Erstellung interaktiver Lerninhalte, Leistungssupporttools, Software-Dokumentationen und Schulungsanalyse.\n",
      "Answer from text-embedding-ada-002:     SAP Enable Now bietet Funktionen wie die Erstellung interaktiver Lerninhalte, Leistungssupporttools, Software-Dokumentationen und Schulungsanalyse.\n",
      "Answer from text-embedding-3-small:     SAP Enable Now bietet Funktionen wie die Erstellung interaktiver Lerninhalte, Leistungssupporttools, Software-Dokumentationen und Schulungsanalyse.\n",
      "Answer from text-embedding-3-large:     SAP Enable Now bietet Funktionen wie die Erstellung interaktiver Lerninhalte, Leistungssupporttools, Software-Dokumentationen und Schulungsanalyse.\n",
      "\n",
      "Question 42:                           Für welche Unternehmen ist SAP Enable Now?\n",
      "\n",
      "Correct Answer:                         SAP Enable Now ist für Unternehmen jeder Größe und Branche geeignet, die Schulungen für Mitarbeiter, Kunden und Partner benötigen.\n",
      "\n",
      "Answer from mistral-embed:              SAP Enable Now ist für Unternehmen jeder Größe und Branche geeignet, die Schulungen für Mitarbeiter, Kunden und Partner benötigen.\n",
      "Answer from text-embedding-ada-002:     SAP Enable Now ist für Unternehmen jeder Größe und Branche geeignet, die Schulungen für Mitarbeiter, Kunden und Partner benötigen.\n",
      "Answer from text-embedding-3-small:     SAP Enable Now ist für Unternehmen jeder Größe und Branche geeignet, die Schulungen für Mitarbeiter, Kunden und Partner benötigen.\n",
      "Answer from text-embedding-3-large:     SAP Enable Now ist für Unternehmen jeder Größe und Branche geeignet, die Schulungen für Mitarbeiter, Kunden und Partner benötigen.\n",
      "\n",
      "Question 43:                           Vorteile von SAP Enable Now?\n",
      "\n",
      "Correct Answer:                         Die Nutzung von SAP Enable Now ermöglicht eine effiziente Schulung, verbesserte Produktivität, schnellere Einarbeitung neuer Mitarbeiter und konsistente Wissensvermittlung.\n",
      "\n",
      "Answer from mistral-embed:              Die Nutzung von SAP Enable Now ermöglicht eine effiziente Schulung, verbesserte Produktivität, schnellere Einarbeitung neuer Mitarbeiter und konsistente Wissensvermittlung.\n",
      "Answer from text-embedding-ada-002:     Die Nutzung von SAP Enable Now ermöglicht eine effiziente Schulung, verbesserte Produktivität, schnellere Einarbeitung neuer Mitarbeiter und konsistente Wissensvermittlung.\n",
      "Answer from text-embedding-3-small:     Die Nutzung von SAP Enable Now ermöglicht eine effiziente Schulung, verbesserte Produktivität, schnellere Einarbeitung neuer Mitarbeiter und konsistente Wissensvermittlung.\n",
      "Answer from text-embedding-3-large:     Die Nutzung von SAP Enable Now ermöglicht eine effiziente Schulung, verbesserte Produktivität, schnellere Einarbeitung neuer Mitarbeiter und konsistente Wissensvermittlung.\n",
      "\n",
      "Question 44:                           SAP Enable Now Integration?\n",
      "\n",
      "Correct Answer:                         SAP Enable Now kann nahtlos mit anderen SAP-Produkten wie SAP SuccessFactors und SAP Learning Solution integriert werden.\n",
      "\n",
      "Answer from mistral-embed:              SAP Enable Now kann nahtlos mit anderen SAP-Produkten wie SAP SuccessFactors und SAP Learning Solution integriert werden.\n",
      "Answer from text-embedding-ada-002:     SAP Enable Now ist eine Lösung für das digitale Lern- und Wissensmanagement, die Schulungen, Leistungssupport und Dokumentationen bereitstellt.\n",
      "Answer from text-embedding-3-small:     SAP Enable Now ist eine Lösung für das digitale Lern- und Wissensmanagement, die Schulungen, Leistungssupport und Dokumentationen bereitstellt.\n",
      "Answer from text-embedding-3-large:     SAP Enable Now ist eine Lösung für das digitale Lern- und Wissensmanagement, die Schulungen, Leistungssupport und Dokumentationen bereitstellt.\n",
      "\n",
      "Question 45:                           SAP Enable Now Rolle?\n",
      "\n",
      "Correct Answer:                         SAP Enable Now spielt eine wichtige Rolle bei der Erstellung, Bereitstellung und Verwaltung von Schulungsressourcen für Mitarbeiter und Kunden.\n",
      "\n",
      "Answer from mistral-embed:              SAP Enable Now ist eine Lösung für das digitale Lern- und Wissensmanagement, die Schulungen, Leistungssupport und Dokumentationen bereitstellt.\n",
      "Answer from text-embedding-ada-002:     SAP Enable Now ist eine Lösung für das digitale Lern- und Wissensmanagement, die Schulungen, Leistungssupport und Dokumentationen bereitstellt.\n",
      "Answer from text-embedding-3-small:     SAP Enable Now ist eine Lösung für das digitale Lern- und Wissensmanagement, die Schulungen, Leistungssupport und Dokumentationen bereitstellt.\n",
      "Answer from text-embedding-3-large:     SAP Enable Now ist eine Lösung für das digitale Lern- und Wissensmanagement, die Schulungen, Leistungssupport und Dokumentationen bereitstellt.\n",
      "\n",
      "Question 46:                           SAP Enable Now für Endnutzer?\n",
      "\n",
      "Correct Answer:                         Ja, SAP Enable Now kann für die Schulung von Endbenutzern in SAP-Anwendungen sowie anderen Unternehmensanwendungen verwendet werden.\n",
      "\n",
      "Answer from mistral-embed:              Ja, SAP Enable Now kann für die Schulung von Endbenutzern in SAP-Anwendungen sowie anderen Unternehmensanwendungen verwendet werden.\n",
      "Answer from text-embedding-ada-002:     Ja, SAP Enable Now kann für die Schulung von Endbenutzern in SAP-Anwendungen sowie anderen Unternehmensanwendungen verwendet werden.\n",
      "Answer from text-embedding-3-small:     Ja, SAP Enable Now kann für die Schulung von Endbenutzern in SAP-Anwendungen sowie anderen Unternehmensanwendungen verwendet werden.\n",
      "Answer from text-embedding-3-large:     Ja, SAP Enable Now kann für die Schulung von Endbenutzern in SAP-Anwendungen sowie anderen Unternehmensanwendungen verwendet werden.\n",
      "\n",
      "Question 47:                           Lerninhalte in SAP Enable Now?\n",
      "\n",
      "Correct Answer:                         Die Erstellung von Lerninhalten in SAP Enable Now erfolgt über eine benutzerfreundliche Oberfläche mit integrierten Tools für die Aufnahme, Bearbeitung und Veröffentlichung von Schulungsinhalten.\n",
      "\n",
      "Answer from mistral-embed:              Die Erstellung von Lerninhalten in SAP Enable Now erfolgt über eine benutzerfreundliche Oberfläche mit integrierten Tools für die Aufnahme, Bearbeitung und Veröffentlichung von Schulungsinhalten.\n",
      "Answer from text-embedding-ada-002:     Die Erstellung von Lerninhalten in SAP Enable Now erfolgt über eine benutzerfreundliche Oberfläche mit integrierten Tools für die Aufnahme, Bearbeitung und Veröffentlichung von Schulungsinhalten.\n",
      "Answer from text-embedding-3-small:     Die Erstellung von Lerninhalten in SAP Enable Now erfolgt über eine benutzerfreundliche Oberfläche mit integrierten Tools für die Aufnahme, Bearbeitung und Veröffentlichung von Schulungsinhalten.\n",
      "Answer from text-embedding-3-large:     Die Erstellung von Lerninhalten in SAP Enable Now erfolgt über eine benutzerfreundliche Oberfläche mit integrierten Tools für die Aufnahme, Bearbeitung und Veröffentlichung von Schulungsinhalten.\n",
      "\n",
      "Question 48:                           SAP Enable Now Tools?\n",
      "\n",
      "Correct Answer:                         Ja, SAP Enable Now bietet Funktionen für das Performance-Support wie kontextbezogene Hilfen, Tutorials und Benutzerleitfäden.\n",
      "\n",
      "Answer from mistral-embed:              SAP Enable Now ist eine Lösung für das digitale Lern- und Wissensmanagement, die Schulungen, Leistungssupport und Dokumentationen bereitstellt.\n",
      "Answer from text-embedding-ada-002:     SAP Enable Now ist eine Lösung für das digitale Lern- und Wissensmanagement, die Schulungen, Leistungssupport und Dokumentationen bereitstellt.\n",
      "Answer from text-embedding-3-small:     SAP Enable Now ist eine Lösung für das digitale Lern- und Wissensmanagement, die Schulungen, Leistungssupport und Dokumentationen bereitstellt.\n",
      "Answer from text-embedding-3-large:     SAP Enable Now ist eine Lösung für das digitale Lern- und Wissensmanagement, die Schulungen, Leistungssupport und Dokumentationen bereitstellt.\n",
      "\n",
      "Question 49:                           Schulungsformate in SAP Enable Now?\n",
      "\n",
      "Correct Answer:                         SAP Enable Now unterstützt Schulungsformate wie interaktive Simulationen, Videos, Präsentationen und Online-Kurse.\n",
      "\n",
      "Answer from mistral-embed:              SAP Enable Now unterstützt Schulungsformate wie interaktive Simulationen, Videos, Präsentationen und Online-Kurse.\n",
      "Answer from text-embedding-ada-002:     SAP Enable Now unterstützt Schulungsformate wie interaktive Simulationen, Videos, Präsentationen und Online-Kurse.\n",
      "Answer from text-embedding-3-small:     SAP Enable Now unterstützt Schulungsformate wie interaktive Simulationen, Videos, Präsentationen und Online-Kurse.\n",
      "Answer from text-embedding-3-large:     SAP Enable Now unterstützt Schulungsformate wie interaktive Simulationen, Videos, Präsentationen und Online-Kurse.\n",
      "\n",
      "Question 50:                           Sprachunterstützung in SAP Enable Now?\n",
      "\n",
      "Correct Answer:                         Ja, SAP Enable Now ermöglicht die Erstellung von Schulungsmaterial in verschiedenen Sprachen für globale Schulungsinitiativen.\n",
      "\n",
      "Answer from mistral-embed:              SAP bietet Schulungsressourcen, Schulungen und technischen Support für die Implementierung und Nutzung von SAP Enable Now an.\n",
      "Answer from text-embedding-ada-002:     SAP bietet Schulungsressourcen, Schulungen und technischen Support für die Implementierung und Nutzung von SAP Enable Now an.\n",
      "Answer from text-embedding-3-small:     SAP Enable Now bietet Funktionen wie die Erstellung interaktiver Lerninhalte, Leistungssupporttools, Software-Dokumentationen und Schulungsanalyse.\n",
      "Answer from text-embedding-3-large:     Ja, SAP Enable Now ermöglicht die Erstellung von Schulungsmaterial in verschiedenen Sprachen für globale Schulungsinitiativen.\n",
      "\n",
      "Question 51:                           Lerninhalte bereitstellen in SAP Enable Now?\n",
      "\n",
      "Correct Answer:                         Die Bereitstellung von Lerninhalten für Benutzer erfolgt über verschiedene Kanäle wie Lernportale, Intranets und mobile Anwendungen.\n",
      "\n",
      "Answer from mistral-embed:              Die Bereitstellung von Lerninhalten für Benutzer erfolgt über verschiedene Kanäle wie Lernportale, Intranets und mobile Anwendungen.\n",
      "Answer from text-embedding-ada-002:     Die Bereitstellung von Lerninhalten für Benutzer erfolgt über verschiedene Kanäle wie Lernportale, Intranets und mobile Anwendungen.\n",
      "Answer from text-embedding-3-small:     Die Erstellung von Lerninhalten in SAP Enable Now erfolgt über eine benutzerfreundliche Oberfläche mit integrierten Tools für die Aufnahme, Bearbeitung und Veröffentlichung von Schulungsinhalten.\n",
      "Answer from text-embedding-3-large:     Die Bereitstellung von Lerninhalten für Benutzer erfolgt über verschiedene Kanäle wie Lernportale, Intranets und mobile Anwendungen.\n",
      "\n",
      "Question 52:                           Benutzerfeedback in SAP Enable Now?\n",
      "\n",
      "Correct Answer:                         Ja, SAP Enable Now bietet Funktionen für Benutzerfeedback und Leistungsanalyse zur kontinuierlichen Verbesserung der Schulungsressourcen.\n",
      "\n",
      "Answer from mistral-embed:              Ja, SAP Enable Now bietet Funktionen für Benutzerfeedback und Leistungsanalyse zur kontinuierlichen Verbesserung der Schulungsressourcen.\n",
      "Answer from text-embedding-ada-002:     Ja, SAP Enable Now bietet Funktionen für Benutzerfeedback und Leistungsanalyse zur kontinuierlichen Verbesserung der Schulungsressourcen.\n",
      "Answer from text-embedding-3-small:     Ja, SAP Enable Now bietet Funktionen für Benutzerfeedback und Leistungsanalyse zur kontinuierlichen Verbesserung der Schulungsressourcen.\n",
      "Answer from text-embedding-3-large:     Ja, SAP Enable Now bietet Funktionen für Benutzerfeedback und Leistungsanalyse zur kontinuierlichen Verbesserung der Schulungsressourcen.\n",
      "\n",
      "Question 53:                           Software-Dokumentation in SAP Enable Now?\n",
      "\n",
      "Correct Answer:                         Ja, SAP Enable Now kann zur Erstellung von Software-Dokumentationen wie Benutzerhandbüchern, Hilfedateien und Prozessdokumentationen verwendet werden.\n",
      "\n",
      "Answer from mistral-embed:              Ja, SAP Enable Now kann zur Erstellung von Software-Dokumentationen wie Benutzerhandbüchern, Hilfedateien und Prozessdokumentationen verwendet werden.\n",
      "Answer from text-embedding-ada-002:     Ja, SAP Enable Now kann zur Erstellung von Software-Dokumentationen wie Benutzerhandbüchern, Hilfedateien und Prozessdokumentationen verwendet werden.\n",
      "Answer from text-embedding-3-small:     Ja, SAP Enable Now kann zur Erstellung von Software-Dokumentationen wie Benutzerhandbüchern, Hilfedateien und Prozessdokumentationen verwendet werden.\n",
      "Answer from text-embedding-3-large:     Ja, SAP Enable Now kann zur Erstellung von Software-Dokumentationen wie Benutzerhandbüchern, Hilfedateien und Prozessdokumentationen verwendet werden.\n",
      "\n",
      "Question 54:                           Schulungsressourcen in SAP Enable Now?\n",
      "\n",
      "Correct Answer:                         SAP bietet Schulungsressourcen, Schulungen und technischen Support für die Implementierung und Nutzung von SAP Enable Now an.\n",
      "\n",
      "Answer from mistral-embed:              SAP bietet Schulungsressourcen, Schulungen und technischen Support für die Implementierung und Nutzung von SAP Enable Now an.\n",
      "Answer from text-embedding-ada-002:     SAP bietet Schulungsressourcen, Schulungen und technischen Support für die Implementierung und Nutzung von SAP Enable Now an.\n",
      "Answer from text-embedding-3-small:     SAP bietet Schulungsressourcen, Schulungen und technischen Support für die Implementierung und Nutzung von SAP Enable Now an.\n",
      "Answer from text-embedding-3-large:     SAP bietet Schulungsressourcen, Schulungen und technischen Support für die Implementierung und Nutzung von SAP Enable Now an.\n",
      "\n",
      "Question 55:                           SAP Enable Now: Cloud?\n",
      "\n",
      "Correct Answer:                         Ja, SAP Enable Now kann sowohl als cloudbasierte Lösung als auch als On-Premise-Installation bereitgestellt werden.\n",
      "\n",
      "Answer from mistral-embed:              Ja, SAP Enable Now kann sowohl als cloudbasierte Lösung als auch als On-Premise-Installation bereitgestellt werden.\n",
      "Answer from text-embedding-ada-002:     Ja, SAP Enable Now kann sowohl als cloudbasierte Lösung als auch als On-Premise-Installation bereitgestellt werden.\n",
      "Answer from text-embedding-3-small:     Ja, SAP Enable Now kann sowohl als cloudbasierte Lösung als auch als On-Premise-Installation bereitgestellt werden.\n",
      "Answer from text-embedding-3-large:     Ja, SAP Enable Now kann sowohl als cloudbasierte Lösung als auch als On-Premise-Installation bereitgestellt werden.\n",
      "\n",
      "Question 56:                           SAP Enable Now Lizenzierung?\n",
      "\n",
      "Correct Answer:                         Die Lizenzierung von SAP Enable Now erfolgt typischerweise auf Basis der Anzahl der Benutzer oder der Nutzungsdauer.\n",
      "\n",
      "Answer from mistral-embed:              Die Lizenzierung von SAP Enable Now erfolgt typischerweise auf Basis der Anzahl der Benutzer oder der Nutzungsdauer.\n",
      "Answer from text-embedding-ada-002:     Die Lizenzierung von SAP Enable Now erfolgt typischerweise auf Basis der Anzahl der Benutzer oder der Nutzungsdauer.\n",
      "Answer from text-embedding-3-small:     Die Lizenzierung von SAP Enable Now erfolgt typischerweise auf Basis der Anzahl der Benutzer oder der Nutzungsdauer.\n",
      "Answer from text-embedding-3-large:     Die Lizenzierung von SAP Enable Now erfolgt typischerweise auf Basis der Anzahl der Benutzer oder der Nutzungsdauer.\n",
      "\n",
      "Question 57:                           Lerninhalte-Management in SAP Enable Now?\n",
      "\n",
      "Correct Answer:                         Ja, SAP Enable Now bietet Funktionen für die Verwaltung von Lernressourcen, Benutzerzugriff und Schulungsplanung an.\n",
      "\n",
      "Answer from mistral-embed:              SAP Enable Now spielt eine wichtige Rolle bei der Erstellung, Bereitstellung und Verwaltung von Schulungsressourcen für Mitarbeiter und Kunden.\n",
      "Answer from text-embedding-ada-002:     Ja, SAP Enable Now bietet Funktionen für die Verwaltung von Lernressourcen, Benutzerzugriff und Schulungsplanung an.\n",
      "Answer from text-embedding-3-small:     Die Erstellung von Lerninhalten in SAP Enable Now erfolgt über eine benutzerfreundliche Oberfläche mit integrierten Tools für die Aufnahme, Bearbeitung und Veröffentlichung von Schulungsinhalten.\n",
      "Answer from text-embedding-3-large:     Die Erstellung von Lerninhalten in SAP Enable Now erfolgt über eine benutzerfreundliche Oberfläche mit integrierten Tools für die Aufnahme, Bearbeitung und Veröffentlichung von Schulungsinhalten.\n",
      "\n",
      "Question 58:                           Integration mit LMS?\n",
      "\n",
      "Correct Answer:                         Ja, SAP Enable Now unterstützt die Integration mit gängigen Learning-Management-Systemen (LMS) zur nahtlosen Schulungsverwaltung.\n",
      "\n",
      "Answer from mistral-embed:              Ja, SAP Enable Now unterstützt die Integration mit gängigen Learning-Management-Systemen (LMS) zur nahtlosen Schulungsverwaltung.\n",
      "Answer from text-embedding-ada-002:     Ja, SAP Enable Now unterstützt die Integration mit gängigen Learning-Management-Systemen (LMS) zur nahtlosen Schulungsverwaltung.\n",
      "Answer from text-embedding-3-small:     Ja, SAP Enable Now unterstützt die Integration mit gängigen Learning-Management-Systemen (LMS) zur nahtlosen Schulungsverwaltung.\n",
      "Answer from text-embedding-3-large:     Ja, SAP Enable Now unterstützt die Integration mit gängigen Learning-Management-Systemen (LMS) zur nahtlosen Schulungsverwaltung.\n",
      "\n",
      "Question 59:                           SAP Enable Now Support?\n",
      "\n",
      "Correct Answer:                         SAP bietet umfassenden Support und regelmäßige Wartung für SAP Enable Now, einschließlich technischem Support, Schulungen und Updates.\n",
      "\n",
      "Answer from mistral-embed:              SAP bietet umfassenden Support und regelmäßige Wartung für SAP Enable Now, einschließlich technischem Support, Schulungen und Updates.\n",
      "Answer from text-embedding-ada-002:     Ja, SAP Enable Now bietet Funktionen für das Performance-Support wie kontextbezogene Hilfen, Tutorials und Benutzerleitfäden.\n",
      "Answer from text-embedding-3-small:     SAP Enable Now ist eine Lösung für das digitale Lern- und Wissensmanagement, die Schulungen, Leistungssupport und Dokumentationen bereitstellt.\n",
      "Answer from text-embedding-3-large:     SAP Enable Now ist eine Lösung für das digitale Lern- und Wissensmanagement, die Schulungen, Leistungssupport und Dokumentationen bereitstellt.\n",
      "\n",
      "Question 60:                           Was ist SAP Concur?\n",
      "\n",
      "Correct Answer:                         SAP Concur ist eine cloudbasierte Lösung für das Reise- und Ausgabenmanagement, die Unternehmen dabei unterstützt, Reisekosten zu verfolgen, Ausgaben zu kontrollieren und Compliance sicherzustellen.\n",
      "\n",
      "Answer from mistral-embed:              SAP Concur ist eine cloudbasierte Lösung für das Reise- und Ausgabenmanagement, die Unternehmen dabei unterstützt, Reisekosten zu verfolgen, Ausgaben zu kontrollieren und Compliance sicherzustellen.\n",
      "Answer from text-embedding-ada-002:     SAP Concur ist eine cloudbasierte Lösung für das Reise- und Ausgabenmanagement, die Unternehmen dabei unterstützt, Reisekosten zu verfolgen, Ausgaben zu kontrollieren und Compliance sicherzustellen.\n",
      "Answer from text-embedding-3-small:     SAP Concur ist eine cloudbasierte Lösung für das Reise- und Ausgabenmanagement, die Unternehmen dabei unterstützt, Reisekosten zu verfolgen, Ausgaben zu kontrollieren und Compliance sicherzustellen.\n",
      "Answer from text-embedding-3-large:     SAP Concur ist eine cloudbasierte Lösung für das Reise- und Ausgabenmanagement, die Unternehmen dabei unterstützt, Reisekosten zu verfolgen, Ausgaben zu kontrollieren und Compliance sicherzustellen.\n",
      "\n",
      "Question 61:                           SAP Concur Dienste?\n",
      "\n",
      "Correct Answer:                         SAP Concur bietet Dienste wie Reisebuchung, Spesenabrechnung, Ausgabenmanagement, Reiserichtlinien-Compliance und Analyse von Reiseausgaben an.\n",
      "\n",
      "Answer from mistral-embed:              SAP Concur bietet Dienste wie Reisebuchung, Spesenabrechnung, Ausgabenmanagement, Reiserichtlinien-Compliance und Analyse von Reiseausgaben an.\n",
      "Answer from text-embedding-ada-002:     SAP Concur bietet Dienste wie Reisebuchung, Spesenabrechnung, Ausgabenmanagement, Reiserichtlinien-Compliance und Analyse von Reiseausgaben an.\n",
      "Answer from text-embedding-3-small:     SAP Concur bietet Dienste wie Reisebuchung, Spesenabrechnung, Ausgabenmanagement, Reiserichtlinien-Compliance und Analyse von Reiseausgaben an.\n",
      "Answer from text-embedding-3-large:     SAP Concur bietet Dienste wie Reisebuchung, Spesenabrechnung, Ausgabenmanagement, Reiserichtlinien-Compliance und Analyse von Reiseausgaben an.\n",
      "\n",
      "Question 62:                           Für welche Unternehmen passt SAP Concur?\n",
      "\n",
      "Correct Answer:                         SAP Concur ist für Unternehmen jeder Größe und Branche geeignet, die Reise- und Ausgabenmanagementlösungen benötigen.\n",
      "\n",
      "Answer from mistral-embed:              SAP Concur ist für Unternehmen jeder Größe und Branche geeignet, die Reise- und Ausgabenmanagementlösungen benötigen.\n",
      "Answer from text-embedding-ada-002:     SAP Concur ist für Unternehmen jeder Größe und Branche geeignet, die Reise- und Ausgabenmanagementlösungen benötigen.\n",
      "Answer from text-embedding-3-small:     SAP Concur ist für Unternehmen jeder Größe und Branche geeignet, die Reise- und Ausgabenmanagementlösungen benötigen.\n",
      "Answer from text-embedding-3-large:     SAP Concur ist für Unternehmen jeder Größe und Branche geeignet, die Reise- und Ausgabenmanagementlösungen benötigen.\n",
      "\n",
      "Question 63:                           Vorteile von SAP Concur?\n",
      "\n",
      "Correct Answer:                         Die Nutzung von SAP Concur ermöglicht eine effizientere Verwaltung von Reisen und Ausgaben, bessere Kontrolle über Ausgaben, Einhaltung von Reiserichtlinien und schnellere Erstattung von Spesen.\n",
      "\n",
      "Answer from mistral-embed:              Die Nutzung von SAP Concur ermöglicht eine effizientere Verwaltung von Reisen und Ausgaben, bessere Kontrolle über Ausgaben, Einhaltung von Reiserichtlinien und schnellere Erstattung von Spesen.\n",
      "Answer from text-embedding-ada-002:     Die Nutzung von SAP Concur ermöglicht eine effizientere Verwaltung von Reisen und Ausgaben, bessere Kontrolle über Ausgaben, Einhaltung von Reiserichtlinien und schnellere Erstattung von Spesen.\n",
      "Answer from text-embedding-3-small:     Die Nutzung von SAP Concur ermöglicht eine effizientere Verwaltung von Reisen und Ausgaben, bessere Kontrolle über Ausgaben, Einhaltung von Reiserichtlinien und schnellere Erstattung von Spesen.\n",
      "Answer from text-embedding-3-large:     Die Nutzung von SAP Concur ermöglicht eine effizientere Verwaltung von Reisen und Ausgaben, bessere Kontrolle über Ausgaben, Einhaltung von Reiserichtlinien und schnellere Erstattung von Spesen.\n",
      "\n",
      "Question 64:                           SAP Concur Integration?\n",
      "\n",
      "Correct Answer:                         SAP Concur kann nahtlos mit anderen SAP-Produkten wie SAP ERP und SAP SuccessFactors integriert werden, um eine ganzheitliche Lösung für das Unternehmensmanagement zu bieten.\n",
      "\n",
      "Answer from mistral-embed:              SAP Concur ist eine cloudbasierte Lösung für das Reise- und Ausgabenmanagement, die Unternehmen dabei unterstützt, Reisekosten zu verfolgen, Ausgaben zu kontrollieren und Compliance sicherzustellen.\n",
      "Answer from text-embedding-ada-002:     SAP Concur ist eine cloudbasierte Lösung für das Reise- und Ausgabenmanagement, die Unternehmen dabei unterstützt, Reisekosten zu verfolgen, Ausgaben zu kontrollieren und Compliance sicherzustellen.\n",
      "Answer from text-embedding-3-small:     SAP Concur kann nahtlos mit anderen SAP-Produkten wie SAP ERP und SAP SuccessFactors integriert werden, um eine ganzheitliche Lösung für das Unternehmensmanagement zu bieten.\n",
      "Answer from text-embedding-3-large:     SAP Concur kann nahtlos mit anderen SAP-Produkten wie SAP ERP und SAP SuccessFactors integriert werden, um eine ganzheitliche Lösung für das Unternehmensmanagement zu bieten.\n",
      "\n",
      "Question 65:                           SAP Concur im Reise- und Ausgabenmanagement?\n",
      "\n",
      "Correct Answer:                         SAP Concur spielt eine wichtige Rolle bei der Vereinfachung und Automatisierung von Prozessen rund um das Reise- und Ausgabenmanagement, einschließlich Reisebuchungen, Spesenabrechnungen und Compliance.\n",
      "\n",
      "Answer from mistral-embed:              SAP Concur spielt eine wichtige Rolle bei der Vereinfachung und Automatisierung von Prozessen rund um das Reise- und Ausgabenmanagement, einschließlich Reisebuchungen, Spesenabrechnungen und Compliance.\n",
      "Answer from text-embedding-ada-002:     SAP Concur spielt eine wichtige Rolle bei der Vereinfachung und Automatisierung von Prozessen rund um das Reise- und Ausgabenmanagement, einschließlich Reisebuchungen, Spesenabrechnungen und Compliance.\n",
      "Answer from text-embedding-3-small:     SAP Concur spielt eine wichtige Rolle bei der Vereinfachung und Automatisierung von Prozessen rund um das Reise- und Ausgabenmanagement, einschließlich Reisebuchungen, Spesenabrechnungen und Compliance.\n",
      "Answer from text-embedding-3-large:     SAP Concur spielt eine wichtige Rolle bei der Vereinfachung und Automatisierung von Prozessen rund um das Reise- und Ausgabenmanagement, einschließlich Reisebuchungen, Spesenabrechnungen und Compliance.\n",
      "\n",
      "Question 66:                           SAP Concur Reiserichtlinien und Compliance?\n",
      "\n",
      "Correct Answer:                         Ja, SAP Concur kann Reiserichtlinien und Compliance-Regeln durch automatisierte Richtlinienprüfungen und Warnungen durchsetzen.\n",
      "\n",
      "Answer from mistral-embed:              Ja, SAP Concur kann Reiserichtlinien und Compliance-Regeln durch automatisierte Richtlinienprüfungen und Warnungen durchsetzen.\n",
      "Answer from text-embedding-ada-002:     Ja, SAP Concur kann Reiserichtlinien und Compliance-Regeln durch automatisierte Richtlinienprüfungen und Warnungen durchsetzen.\n",
      "Answer from text-embedding-3-small:     Ja, SAP Concur kann Reiserichtlinien und Compliance-Regeln durch automatisierte Richtlinienprüfungen und Warnungen durchsetzen.\n",
      "Answer from text-embedding-3-large:     Ja, SAP Concur kann Reiserichtlinien und Compliance-Regeln durch automatisierte Richtlinienprüfungen und Warnungen durchsetzen.\n",
      "\n",
      "Question 67:                           SAP Concur Ausgabenautomatisierung?\n",
      "\n",
      "Correct Answer:                         Ja, SAP Concur bietet Funktionen für die Automatisierung von Ausgabenabrechnungen durch Erfassung von Ausgaben, Zuweisung von Kosten und Genehmigung von Ausgaben.\n",
      "\n",
      "Answer from mistral-embed:              Ja, SAP Concur bietet Funktionen für die Automatisierung von Ausgabenabrechnungen durch Erfassung von Ausgaben, Zuweisung von Kosten und Genehmigung von Ausgaben.\n",
      "Answer from text-embedding-ada-002:     Ja, SAP Concur bietet Funktionen für die Automatisierung von Ausgabenabrechnungen durch Erfassung von Ausgaben, Zuweisung von Kosten und Genehmigung von Ausgaben.\n",
      "Answer from text-embedding-3-small:     Ja, SAP Concur bietet Funktionen für die Automatisierung von Ausgabenabrechnungen durch Erfassung von Ausgaben, Zuweisung von Kosten und Genehmigung von Ausgaben.\n",
      "Answer from text-embedding-3-large:     Ja, SAP Concur bietet Funktionen für die Automatisierung von Ausgabenabrechnungen durch Erfassung von Ausgaben, Zuweisung von Kosten und Genehmigung von Ausgaben.\n",
      "\n",
      "Question 68:                           SAP Concur Reisebuchungsverwaltung?\n",
      "\n",
      "Correct Answer:                         Ja, SAP Concur unterstützt die Verwaltung von Reisebuchungen und Reiseplänen durch Integration mit Reiseanbietern und -plattformen.\n",
      "\n",
      "Answer from mistral-embed:              Ja, SAP Concur unterstützt die Verwaltung von Reisebuchungen und Reiseplänen durch Integration mit Reiseanbietern und -plattformen.\n",
      "Answer from text-embedding-ada-002:     Ja, SAP Concur bietet Funktionen für die Reisebuchung und -planung über Integration mit Reiseanbietern und -plattformen an.\n",
      "Answer from text-embedding-3-small:     Ja, SAP Concur bietet Funktionen für die Reisebuchung und -planung über Integration mit Reiseanbietern und -plattformen an.\n",
      "Answer from text-embedding-3-large:     Ja, SAP Concur unterstützt die Verwaltung von Reisebuchungen und Reiseplänen durch Integration mit Reiseanbietern und -plattformen.\n",
      "\n",
      "Question 69:                           Spesenberichte in SAP Concur?\n",
      "\n",
      "Correct Answer:                         Die Einreichung von Spesenberichten in SAP Concur erfolgt über eine benutzerfreundliche Oberfläche mit Optionen für die Erfassung von Ausgaben, Beifügen von Belegen und Zuordnung von Kosten.\n",
      "\n",
      "Answer from mistral-embed:              Die Einreichung von Spesenberichten in SAP Concur erfolgt über eine benutzerfreundliche Oberfläche mit Optionen für die Erfassung von Ausgaben, Beifügen von Belegen und Zuordnung von Kosten.\n",
      "Answer from text-embedding-ada-002:     Die Einreichung von Spesenberichten in SAP Concur erfolgt über eine benutzerfreundliche Oberfläche mit Optionen für die Erfassung von Ausgaben, Beifügen von Belegen und Zuordnung von Kosten.\n",
      "Answer from text-embedding-3-small:     Die Einreichung von Spesenberichten in SAP Concur erfolgt über eine benutzerfreundliche Oberfläche mit Optionen für die Erfassung von Ausgaben, Beifügen von Belegen und Zuordnung von Kosten.\n",
      "Answer from text-embedding-3-large:     Die Einreichung von Spesenberichten in SAP Concur erfolgt über eine benutzerfreundliche Oberfläche mit Optionen für die Erfassung von Ausgaben, Beifügen von Belegen und Zuordnung von Kosten.\n",
      "\n",
      "Question 70:                           Genehmigung von Reiseanträgen in SAP Concur?\n",
      "\n",
      "Correct Answer:                         Ja, SAP Concur bietet Funktionen für die Genehmigung von Reiseanträgen durch Vorgesetzte oder entsprechende Genehmigungsinstanzen.\n",
      "\n",
      "Answer from mistral-embed:              Ja, SAP Concur bietet Funktionen für die Genehmigung von Reiseanträgen durch Vorgesetzte oder entsprechende Genehmigungsinstanzen.\n",
      "Answer from text-embedding-ada-002:     Ja, SAP Concur bietet Funktionen für die Genehmigung von Reiseanträgen durch Vorgesetzte oder entsprechende Genehmigungsinstanzen.\n",
      "Answer from text-embedding-3-small:     Ja, SAP Concur bietet Funktionen für die Genehmigung von Reiseanträgen durch Vorgesetzte oder entsprechende Genehmigungsinstanzen.\n",
      "Answer from text-embedding-3-large:     Ja, SAP Concur bietet Funktionen für die Genehmigung von Reiseanträgen durch Vorgesetzte oder entsprechende Genehmigungsinstanzen.\n",
      "\n",
      "Question 71:                           Kreditkartentransaktionen in SAP Concur?\n",
      "\n",
      "Correct Answer:                         Ja, SAP Concur kann Kreditkartentransaktionen integrieren und verfolgen, um Ausgaben automatisch zu erfassen und in Spesenberichte einzubeziehen.\n",
      "\n",
      "Answer from mistral-embed:              Ja, SAP Concur kann Kreditkartentransaktionen integrieren und verfolgen, um Ausgaben automatisch zu erfassen und in Spesenberichte einzubeziehen.\n",
      "Answer from text-embedding-ada-002:     Ja, SAP Concur kann Kreditkartentransaktionen integrieren und verfolgen, um Ausgaben automatisch zu erfassen und in Spesenberichte einzubeziehen.\n",
      "Answer from text-embedding-3-small:     Ja, SAP Concur kann Kreditkartentransaktionen integrieren und verfolgen, um Ausgaben automatisch zu erfassen und in Spesenberichte einzubeziehen.\n",
      "Answer from text-embedding-3-large:     Ja, SAP Concur kann Kreditkartentransaktionen integrieren und verfolgen, um Ausgaben automatisch zu erfassen und in Spesenberichte einzubeziehen.\n",
      "\n",
      "Question 72:                           Berichterstattung und Analyse in SAP Concur?\n",
      "\n",
      "Correct Answer:                         SAP Concur bietet verschiedene Berichterstattungs- und Analysefunktionen für Reiseausgaben, Budgetvergleiche und Ausgabenkategorien.\n",
      "\n",
      "Answer from mistral-embed:              SAP Concur bietet verschiedene Berichterstattungs- und Analysefunktionen für Reiseausgaben, Budgetvergleiche und Ausgabenkategorien.\n",
      "Answer from text-embedding-ada-002:     SAP Concur bietet verschiedene Berichterstattungs- und Analysefunktionen für Reiseausgaben, Budgetvergleiche und Ausgabenkategorien.\n",
      "Answer from text-embedding-3-small:     SAP Concur bietet verschiedene Berichterstattungs- und Analysefunktionen für Reiseausgaben, Budgetvergleiche und Ausgabenkategorien.\n",
      "Answer from text-embedding-3-large:     SAP Concur bietet verschiedene Berichterstattungs- und Analysefunktionen für Reiseausgaben, Budgetvergleiche und Ausgabenkategorien.\n",
      "\n",
      "Question 73:                           Steuervorschriften in SAP Concur?\n",
      "\n",
      "Correct Answer:                         Ja, SAP Concur bietet Funktionen für die Einhaltung von Steuervorschriften und Vorschriften durch automatische Steuerberechnungen und -abzüge.\n",
      "\n",
      "Answer from mistral-embed:              Ja, SAP Concur bietet Funktionen für die Einhaltung von Steuervorschriften und Vorschriften durch automatische Steuerberechnungen und -abzüge.\n",
      "Answer from text-embedding-ada-002:     Ja, SAP Concur bietet Funktionen für die Einhaltung von Steuervorschriften und Vorschriften durch automatische Steuerberechnungen und -abzüge.\n",
      "Answer from text-embedding-3-small:     Ja, SAP Concur bietet Funktionen für die Einhaltung von Steuervorschriften und Vorschriften durch automatische Steuerberechnungen und -abzüge.\n",
      "Answer from text-embedding-3-large:     Ja, SAP Concur bietet Funktionen für die Einhaltung von Steuervorschriften und Vorschriften durch automatische Steuerberechnungen und -abzüge.\n",
      "\n",
      "Question 74:                           Firmenkarten- und Reisebudgetverwaltung in SAP Concur?\n",
      "\n",
      "Correct Answer:                         Ja, SAP Concur kann für die Verwaltung von Firmenkarten und Reisebudgets verwendet werden, um Ausgaben zu überwachen und Budgets einzuhalten.\n",
      "\n",
      "Answer from mistral-embed:              Ja, SAP Concur kann für die Verwaltung von Firmenkarten und Reisebudgets verwendet werden, um Ausgaben zu überwachen und Budgets einzuhalten.\n",
      "Answer from text-embedding-ada-002:     Ja, SAP Concur kann für die Verwaltung von Firmenkarten und Reisebudgets verwendet werden, um Ausgaben zu überwachen und Budgets einzuhalten.\n",
      "Answer from text-embedding-3-small:     Ja, SAP Concur kann für die Verwaltung von Firmenkarten und Reisebudgets verwendet werden, um Ausgaben zu überwachen und Budgets einzuhalten.\n",
      "Answer from text-embedding-3-large:     Ja, SAP Concur kann für die Verwaltung von Firmenkarten und Reisebudgets verwendet werden, um Ausgaben zu überwachen und Budgets einzuhalten.\n",
      "\n",
      "Question 75:                           Schulungsressourcen für SAP Concur?\n",
      "\n",
      "Correct Answer:                         SAP bietet Schulungsressourcen, Schulungen und technischen Support für die Implementierung und Nutzung von SAP Concur an.\n",
      "\n",
      "Answer from mistral-embed:              SAP bietet Schulungsressourcen, Schulungen und technischen Support für die Implementierung und Nutzung von SAP Concur an.\n",
      "Answer from text-embedding-ada-002:     SAP bietet Schulungsressourcen, Schulungen und technischen Support für die Implementierung und Nutzung von SAP Concur an.\n",
      "Answer from text-embedding-3-small:     SAP bietet Schulungsressourcen, Schulungen und technischen Support für die Implementierung und Nutzung von SAP Concur an.\n",
      "Answer from text-embedding-3-large:     SAP bietet Schulungsressourcen, Schulungen und technischen Support für die Implementierung und Nutzung von SAP Concur an.\n",
      "\n",
      "Question 76:                           SAP Concur: Cloud?\n",
      "\n",
      "Correct Answer:                         Ja, SAP Concur ist eine cloudbasierte Lösung, die über das Internet zugänglich ist.\n",
      "\n",
      "Answer from mistral-embed:              Ja, SAP Concur ist eine cloudbasierte Lösung, die über das Internet zugänglich ist.\n",
      "Answer from text-embedding-ada-002:     Ja, SAP Concur ist eine cloudbasierte Lösung, die über das Internet zugänglich ist.\n",
      "Answer from text-embedding-3-small:     Ja, SAP Concur ist eine cloudbasierte Lösung, die über das Internet zugänglich ist.\n",
      "Answer from text-embedding-3-large:     Ja, SAP Concur ist eine cloudbasierte Lösung, die über das Internet zugänglich ist.\n",
      "\n",
      "Question 77:                           Lizenzierung von SAP Concur?\n",
      "\n",
      "Correct Answer:                         Die Lizenzierung von SAP Concur erfolgt typischerweise auf Basis der Anzahl der Benutzer oder der Nutzungsdauer.\n",
      "\n",
      "Answer from mistral-embed:              Die Lizenzierung von SAP Concur erfolgt typischerweise auf Basis der Anzahl der Benutzer oder der Nutzungsdauer.\n",
      "Answer from text-embedding-ada-002:     Die Lizenzierung von SAP Concur erfolgt typischerweise auf Basis der Anzahl der Benutzer oder der Nutzungsdauer.\n",
      "Answer from text-embedding-3-small:     Die Lizenzierung von SAP Concur erfolgt typischerweise auf Basis der Anzahl der Benutzer oder der Nutzungsdauer.\n",
      "Answer from text-embedding-3-large:     Die Lizenzierung von SAP Concur erfolgt typischerweise auf Basis der Anzahl der Benutzer oder der Nutzungsdauer.\n",
      "\n",
      "Question 78:                           SAP Concur Reisebuchung und -planung?\n",
      "\n",
      "Correct Answer:                         Ja, SAP Concur bietet Funktionen für die Reisebuchung und -planung über Integration mit Reiseanbietern und -plattformen an.\n",
      "\n",
      "Answer from mistral-embed:              Ja, SAP Concur bietet Funktionen für die Reisebuchung und -planung über Integration mit Reiseanbietern und -plattformen an.\n",
      "Answer from text-embedding-ada-002:     Ja, SAP Concur bietet Funktionen für die Reisebuchung und -planung über Integration mit Reiseanbietern und -plattformen an.\n",
      "Answer from text-embedding-3-small:     Ja, SAP Concur bietet Funktionen für die Reisebuchung und -planung über Integration mit Reiseanbietern und -plattformen an.\n",
      "Answer from text-embedding-3-large:     Ja, SAP Concur bietet Funktionen für die Reisebuchung und -planung über Integration mit Reiseanbietern und -plattformen an.\n",
      "\n",
      "Question 79:                           Support für SAP Concur?\n",
      "\n",
      "Correct Answer:                         SAP bietet umfassenden Support und regelmäßige Wartung für SAP Concur, einschließlich technischem Support, Schulungen und Updates.\n",
      "\n",
      "Answer from mistral-embed:              SAP bietet umfassenden Support und regelmäßige Wartung für SAP Concur, einschließlich technischem Support, Schulungen und Updates.\n",
      "Answer from text-embedding-ada-002:     SAP bietet umfassenden Support und regelmäßige Wartung für SAP Concur, einschließlich technischem Support, Schulungen und Updates.\n",
      "Answer from text-embedding-3-small:     Ja, SAP Concur unterstützt die Verwaltung von Reisebuchungen und Reiseplänen durch Integration mit Reiseanbietern und -plattformen.\n",
      "Answer from text-embedding-3-large:     SAP bietet umfassenden Support und regelmäßige Wartung für SAP Concur, einschließlich technischem Support, Schulungen und Updates.\n",
      "\n",
      "Question 80:                           Was ist SAP SuccessFactors?\n",
      "\n",
      "Correct Answer:                         SAP SuccessFactors ist eine cloudbasierte Lösung für das Human Capital Management (HCM), die Funktionen wie Personalverwaltung, Talentmanagement, Leistungsmanagement, Mitarbeiterentwicklung und Analyse bietet.\n",
      "\n",
      "Answer from mistral-embed:              SAP SuccessFactors ist eine cloudbasierte Lösung für das Human Capital Management (HCM), die Funktionen wie Personalverwaltung, Talentmanagement, Leistungsmanagement, Mitarbeiterentwicklung und Analyse bietet.\n",
      "Answer from text-embedding-ada-002:     SAP SuccessFactors ist eine cloudbasierte Lösung für das Human Capital Management (HCM), die Funktionen wie Personalverwaltung, Talentmanagement, Leistungsmanagement, Mitarbeiterentwicklung und Analyse bietet.\n",
      "Answer from text-embedding-3-small:     SAP SuccessFactors ist eine cloudbasierte Lösung für das Human Capital Management (HCM), die Funktionen wie Personalverwaltung, Talentmanagement, Leistungsmanagement, Mitarbeiterentwicklung und Analyse bietet.\n",
      "Answer from text-embedding-3-large:     SAP SuccessFactors ist eine cloudbasierte Lösung für das Human Capital Management (HCM), die Funktionen wie Personalverwaltung, Talentmanagement, Leistungsmanagement, Mitarbeiterentwicklung und Analyse bietet.\n",
      "\n",
      "Question 81:                           Features von SAP SuccessFactors?\n",
      "\n",
      "Correct Answer:                         SAP SuccessFactors bietet Funktionen wie Personalverwaltung, Rekrutierung, Onboarding, Leistungsmanagement, Mitarbeiterentwicklung, Vergütungsmanagement und Analyse.\n",
      "\n",
      "Answer from mistral-embed:              SAP SuccessFactors bietet Funktionen wie Personalverwaltung, Rekrutierung, Onboarding, Leistungsmanagement, Mitarbeiterentwicklung, Vergütungsmanagement und Analyse.\n",
      "Answer from text-embedding-ada-002:     SAP SuccessFactors bietet Funktionen wie Personalverwaltung, Rekrutierung, Onboarding, Leistungsmanagement, Mitarbeiterentwicklung, Vergütungsmanagement und Analyse.\n",
      "Answer from text-embedding-3-small:     SAP SuccessFactors bietet Funktionen wie Personalverwaltung, Rekrutierung, Onboarding, Leistungsmanagement, Mitarbeiterentwicklung, Vergütungsmanagement und Analyse.\n",
      "Answer from text-embedding-3-large:     SAP SuccessFactors bietet Funktionen wie Personalverwaltung, Rekrutierung, Onboarding, Leistungsmanagement, Mitarbeiterentwicklung, Vergütungsmanagement und Analyse.\n",
      "\n",
      "Question 82:                           Für welche Unternehmen geeignet?\n",
      "\n",
      "Correct Answer:                         SAP SuccessFactors ist für Unternehmen jeder Größe und Branche geeignet, die eine moderne und umfassende Lösung für das Personalmanagement suchen.\n",
      "\n",
      "Answer from mistral-embed:              SAP SuccessFactors ist für Unternehmen jeder Größe und Branche geeignet, die eine moderne und umfassende Lösung für das Personalmanagement suchen.\n",
      "Answer from text-embedding-ada-002:     SAP SuccessFactors ist für Unternehmen jeder Größe und Branche geeignet, die eine moderne und umfassende Lösung für das Personalmanagement suchen.\n",
      "Answer from text-embedding-3-small:     SAP SuccessFactors ist für Unternehmen jeder Größe und Branche geeignet, die eine moderne und umfassende Lösung für das Personalmanagement suchen.\n",
      "Answer from text-embedding-3-large:     SAP SuccessFactors ist für Unternehmen jeder Größe und Branche geeignet, die eine moderne und umfassende Lösung für das Personalmanagement suchen.\n",
      "\n",
      "Question 83:                           Vorteile von SAP SuccessFactors?\n",
      "\n",
      "Correct Answer:                         Die Nutzung von SAP SuccessFactors ermöglicht eine effiziente Verwaltung von Personalressourcen, bessere Mitarbeiterentwicklung, höhere Mitarbeiterbindung und bessere Geschäftsergebnisse.\n",
      "\n",
      "Answer from mistral-embed:              Die Nutzung von SAP SuccessFactors ermöglicht eine effiziente Verwaltung von Personalressourcen, bessere Mitarbeiterentwicklung, höhere Mitarbeiterbindung und bessere Geschäftsergebnisse.\n",
      "Answer from text-embedding-ada-002:     Die Nutzung von SAP SuccessFactors ermöglicht eine effiziente Verwaltung von Personalressourcen, bessere Mitarbeiterentwicklung, höhere Mitarbeiterbindung und bessere Geschäftsergebnisse.\n",
      "Answer from text-embedding-3-small:     Die Nutzung von SAP SuccessFactors ermöglicht eine effiziente Verwaltung von Personalressourcen, bessere Mitarbeiterentwicklung, höhere Mitarbeiterbindung und bessere Geschäftsergebnisse.\n",
      "Answer from text-embedding-3-large:     Die Nutzung von SAP SuccessFactors ermöglicht eine effiziente Verwaltung von Personalressourcen, bessere Mitarbeiterentwicklung, höhere Mitarbeiterbindung und bessere Geschäftsergebnisse.\n",
      "\n",
      "Question 84:                           SAP SuccessFactors Integration?\n",
      "\n",
      "Correct Answer:                         SAP SuccessFactors kann nahtlos mit anderen SAP-Produkten wie SAP ERP und SAP Concur integriert werden, um eine ganzheitliche Lösung für das Unternehmensmanagement zu bieten.\n",
      "\n",
      "Answer from mistral-embed:              SAP SuccessFactors kann nahtlos mit anderen SAP-Produkten wie SAP ERP und SAP Concur integriert werden, um eine ganzheitliche Lösung für das Unternehmensmanagement zu bieten.\n",
      "Answer from text-embedding-ada-002:     SAP SuccessFactors kann nahtlos mit anderen SAP-Produkten wie SAP ERP und SAP Concur integriert werden, um eine ganzheitliche Lösung für das Unternehmensmanagement zu bieten.\n",
      "Answer from text-embedding-3-small:     SAP SuccessFactors kann nahtlos mit anderen SAP-Produkten wie SAP ERP und SAP Concur integriert werden, um eine ganzheitliche Lösung für das Unternehmensmanagement zu bieten.\n",
      "Answer from text-embedding-3-large:     SAP SuccessFactors kann nahtlos mit anderen SAP-Produkten wie SAP ERP und SAP Concur integriert werden, um eine ganzheitliche Lösung für das Unternehmensmanagement zu bieten.\n",
      "\n",
      "Question 85:                           Bedeutung von SAP SuccessFactors im Talentmanagement?\n",
      "\n",
      "Correct Answer:                         SAP SuccessFactors spielt eine wichtige Rolle bei der Verwaltung des gesamten Mitarbeiterlebenszyklus, von der Rekrutierung bis zur Pensionierung, und unterstützt Unternehmen dabei, talentierte Mitarbeiter zu identifizieren, zu entwickeln und zu binden.\n",
      "\n",
      "Answer from mistral-embed:              SAP SuccessFactors spielt eine wichtige Rolle bei der Verwaltung des gesamten Mitarbeiterlebenszyklus, von der Rekrutierung bis zur Pensionierung, und unterstützt Unternehmen dabei, talentierte Mitarbeiter zu identifizieren, zu entwickeln und zu binden.\n",
      "Answer from text-embedding-ada-002:     SAP SuccessFactors spielt eine wichtige Rolle bei der Verwaltung des gesamten Mitarbeiterlebenszyklus, von der Rekrutierung bis zur Pensionierung, und unterstützt Unternehmen dabei, talentierte Mitarbeiter zu identifizieren, zu entwickeln und zu binden.\n",
      "Answer from text-embedding-3-small:     SAP SuccessFactors spielt eine wichtige Rolle bei der Verwaltung des gesamten Mitarbeiterlebenszyklus, von der Rekrutierung bis zur Pensionierung, und unterstützt Unternehmen dabei, talentierte Mitarbeiter zu identifizieren, zu entwickeln und zu binden.\n",
      "Answer from text-embedding-3-large:     SAP SuccessFactors spielt eine wichtige Rolle bei der Verwaltung des gesamten Mitarbeiterlebenszyklus, von der Rekrutierung bis zur Pensionierung, und unterstützt Unternehmen dabei, talentierte Mitarbeiter zu identifizieren, zu entwickeln und zu binden.\n",
      "\n",
      "Question 86:                           Mitarbeiterrekrutierung mit SAP SuccessFactors?\n",
      "\n",
      "Correct Answer:                         Ja, SAP SuccessFactors bietet Funktionen für die Rekrutierung von Mitarbeitern, einschließlich Stellenanzeigen, Bewerbungsmanagement und Einstellungsprozessen.\n",
      "\n",
      "Answer from mistral-embed:              Ja, SAP SuccessFactors bietet Funktionen für die Rekrutierung von Mitarbeitern, einschließlich Stellenanzeigen, Bewerbungsmanagement und Einstellungsprozessen.\n",
      "Answer from text-embedding-ada-002:     Ja, SAP SuccessFactors bietet Funktionen für die Rekrutierung von Mitarbeitern, einschließlich Stellenanzeigen, Bewerbungsmanagement und Einstellungsprozessen.\n",
      "Answer from text-embedding-3-small:     Ja, SAP SuccessFactors bietet Funktionen für die Rekrutierung von Mitarbeitern, einschließlich Stellenanzeigen, Bewerbungsmanagement und Einstellungsprozessen.\n",
      "Answer from text-embedding-3-large:     Ja, SAP SuccessFactors bietet Funktionen für die Rekrutierung von Mitarbeitern, einschließlich Stellenanzeigen, Bewerbungsmanagement und Einstellungsprozessen.\n",
      "\n",
      "Question 87:                           Leistungsmanagement-Funktionen von SAP SuccessFactors?\n",
      "\n",
      "Correct Answer:                         Ja, SAP SuccessFactors bietet Funktionen für das Leistungsmanagement, einschließlich Zielsetzung, Leistungsbeurteilung und Belohnungsmanagement.\n",
      "\n",
      "Answer from mistral-embed:              Ja, SAP SuccessFactors bietet Funktionen für das Leistungsmanagement, einschließlich Zielsetzung, Leistungsbeurteilung und Belohnungsmanagement.\n",
      "Answer from text-embedding-ada-002:     SAP SuccessFactors bietet Funktionen wie Personalverwaltung, Rekrutierung, Onboarding, Leistungsmanagement, Mitarbeiterentwicklung, Vergütungsmanagement und Analyse.\n",
      "Answer from text-embedding-3-small:     Ja, SAP SuccessFactors bietet Funktionen für das Leistungsmanagement, einschließlich Zielsetzung, Leistungsbeurteilung und Belohnungsmanagement.\n",
      "Answer from text-embedding-3-large:     Ja, SAP SuccessFactors bietet Funktionen für das Leistungsmanagement, einschließlich Zielsetzung, Leistungsbeurteilung und Belohnungsmanagement.\n",
      "\n",
      "Question 88:                           Unterstützung für Mitarbeiterentwicklung und Schulung?\n",
      "\n",
      "Correct Answer:                         Ja, SAP SuccessFactors unterstützt die Mitarbeiterentwicklung und Schulung durch Funktionen wie Lernmanagement, Karriereentwicklung und individuelle Entwicklungspläne.\n",
      "\n",
      "Answer from mistral-embed:              Ja, SAP SuccessFactors unterstützt die Mitarbeiterentwicklung und Schulung durch Funktionen wie Lernmanagement, Karriereentwicklung und individuelle Entwicklungspläne.\n",
      "Answer from text-embedding-ada-002:     Ja, SAP SuccessFactors unterstützt die Mitarbeiterentwicklung und Schulung durch Funktionen wie Lernmanagement, Karriereentwicklung und individuelle Entwicklungspläne.\n",
      "Answer from text-embedding-3-small:     Ja, SAP SuccessFactors unterstützt die Mitarbeiterentwicklung und Schulung durch Funktionen wie Lernmanagement, Karriereentwicklung und individuelle Entwicklungspläne.\n",
      "Answer from text-embedding-3-large:     Ja, SAP SuccessFactors unterstützt die Mitarbeiterentwicklung und Schulung durch Funktionen wie Lernmanagement, Karriereentwicklung und individuelle Entwicklungspläne.\n",
      "\n",
      "Question 89:                           Mitarbeiterbewertungen in SAP SuccessFactors?\n",
      "\n",
      "Correct Answer:                         Die Durchführung von Mitarbeiterbewertungen in SAP SuccessFactors erfolgt durch automatisierte Workflows, Zielsetzungsgespräche und kontinuierliches Feedback zwischen Mitarbeitern und Vorgesetzten.\n",
      "\n",
      "Answer from mistral-embed:              Die Durchführung von Mitarbeiterbewertungen in SAP SuccessFactors erfolgt durch automatisierte Workflows, Zielsetzungsgespräche und kontinuierliches Feedback zwischen Mitarbeitern und Vorgesetzten.\n",
      "Answer from text-embedding-ada-002:     Die Durchführung von Mitarbeiterbewertungen in SAP SuccessFactors erfolgt durch automatisierte Workflows, Zielsetzungsgespräche und kontinuierliches Feedback zwischen Mitarbeitern und Vorgesetzten.\n",
      "Answer from text-embedding-3-small:     Die Durchführung von Mitarbeiterbewertungen in SAP SuccessFactors erfolgt durch automatisierte Workflows, Zielsetzungsgespräche und kontinuierliches Feedback zwischen Mitarbeitern und Vorgesetzten.\n",
      "Answer from text-embedding-3-large:     Die Durchführung von Mitarbeiterbewertungen in SAP SuccessFactors erfolgt durch automatisierte Workflows, Zielsetzungsgespräche und kontinuierliches Feedback zwischen Mitarbeitern und Vorgesetzten.\n",
      "\n",
      "Question 90:                           Vergütungs- und Belohnungsverwaltung in SAP SuccessFactors?\n",
      "\n",
      "Correct Answer:                         Ja, SAP SuccessFactors bietet Funktionen für die Verwaltung von Vergütungen und Belohnungen, einschließlich Gehaltsabrechnung, Bonussystemen und Zusatzleistungen.\n",
      "\n",
      "Answer from mistral-embed:              Ja, SAP SuccessFactors bietet Funktionen für die Verwaltung von Vergütungen und Belohnungen, einschließlich Gehaltsabrechnung, Bonussystemen und Zusatzleistungen.\n",
      "Answer from text-embedding-ada-002:     Ja, SAP SuccessFactors bietet Funktionen für die Verwaltung von Vergütungen und Belohnungen, einschließlich Gehaltsabrechnung, Bonussystemen und Zusatzleistungen.\n",
      "Answer from text-embedding-3-small:     Ja, SAP SuccessFactors bietet Funktionen für die Verwaltung von Vergütungen und Belohnungen, einschließlich Gehaltsabrechnung, Bonussystemen und Zusatzleistungen.\n",
      "Answer from text-embedding-3-large:     Ja, SAP SuccessFactors bietet Funktionen für die Verwaltung von Vergütungen und Belohnungen, einschließlich Gehaltsabrechnung, Bonussystemen und Zusatzleistungen.\n",
      "\n",
      "Question 91:                           Compliance- und HR-Richtlinien mit SAP SuccessFactors?\n",
      "\n",
      "Correct Answer:                         Ja, SAP SuccessFactors kann die Einhaltung von Compliance- und HR-Richtlinien durch automatisierte Prozesse, Compliance-Prüfungen und Berichterstattung unterstützen.\n",
      "\n",
      "Answer from mistral-embed:              Ja, SAP SuccessFactors kann die Einhaltung von Compliance- und HR-Richtlinien durch automatisierte Prozesse, Compliance-Prüfungen und Berichterstattung unterstützen.\n",
      "Answer from text-embedding-ada-002:     Ja, SAP SuccessFactors kann die Einhaltung von Compliance- und HR-Richtlinien durch automatisierte Prozesse, Compliance-Prüfungen und Berichterstattung unterstützen.\n",
      "Answer from text-embedding-3-small:     Ja, SAP SuccessFactors kann die Einhaltung von Compliance- und HR-Richtlinien durch automatisierte Prozesse, Compliance-Prüfungen und Berichterstattung unterstützen.\n",
      "Answer from text-embedding-3-large:     Ja, SAP SuccessFactors kann die Einhaltung von Compliance- und HR-Richtlinien durch automatisierte Prozesse, Compliance-Prüfungen und Berichterstattung unterstützen.\n",
      "\n",
      "Question 92:                           Berichterstattung und Analyse in SAP SuccessFactors?\n",
      "\n",
      "Correct Answer:                         SAP SuccessFactors bietet verschiedene Berichterstattungs- und Analysefunktionen für Personalanalysen, Leistungskennzahlen und Talentmanagement.\n",
      "\n",
      "Answer from mistral-embed:              SAP SuccessFactors bietet verschiedene Berichterstattungs- und Analysefunktionen für Personalanalysen, Leistungskennzahlen und Talentmanagement.\n",
      "Answer from text-embedding-ada-002:     SAP SuccessFactors bietet verschiedene Berichterstattungs- und Analysefunktionen für Personalanalysen, Leistungskennzahlen und Talentmanagement.\n",
      "Answer from text-embedding-3-small:     SAP SuccessFactors bietet verschiedene Berichterstattungs- und Analysefunktionen für Personalanalysen, Leistungskennzahlen und Talentmanagement.\n",
      "Answer from text-embedding-3-large:     SAP SuccessFactors bietet verschiedene Berichterstattungs- und Analysefunktionen für Personalanalysen, Leistungskennzahlen und Talentmanagement.\n",
      "\n",
      "Question 93:                           Funktionen für Mitarbeiterengagement und -bindung in SAP SuccessFactors?\n",
      "\n",
      "Correct Answer:                         Ja, SAP SuccessFactors bietet Funktionen für das Mitarbeiterengagement und die Mitarbeiterbindung, einschließlich Mitarbeiterumfragen, Feedbacksystemen und Anerkennungsprogrammen.\n",
      "\n",
      "Answer from mistral-embed:              Ja, SAP SuccessFactors bietet Funktionen für das Mitarbeiterengagement und die Mitarbeiterbindung, einschließlich Mitarbeiterumfragen, Feedbacksystemen und Anerkennungsprogrammen.\n",
      "Answer from text-embedding-ada-002:     Ja, SAP SuccessFactors bietet Funktionen für das Mitarbeiterengagement und die Mitarbeiterbindung, einschließlich Mitarbeiterumfragen, Feedbacksystemen und Anerkennungsprogrammen.\n",
      "Answer from text-embedding-3-small:     Ja, SAP SuccessFactors bietet Funktionen für das Mitarbeiterengagement und die Mitarbeiterbindung, einschließlich Mitarbeiterumfragen, Feedbacksystemen und Anerkennungsprogrammen.\n",
      "Answer from text-embedding-3-large:     Ja, SAP SuccessFactors bietet Funktionen für das Mitarbeiterengagement und die Mitarbeiterbindung, einschließlich Mitarbeiterumfragen, Feedbacksystemen und Anerkennungsprogrammen.\n",
      "\n",
      "Question 94:                           Nachfolgeplanung und Talententwicklung mit SAP SuccessFactors?\n",
      "\n",
      "Correct Answer:                         Ja, SAP SuccessFactors kann für die Nachfolgeplanung und Talententwicklung verwendet werden, um talentierte Mitarbeiter zu identifizieren und deren Entwicklung zu fördern.\n",
      "\n",
      "Answer from mistral-embed:              Ja, SAP SuccessFactors kann für die Nachfolgeplanung und Talententwicklung verwendet werden, um talentierte Mitarbeiter zu identifizieren und deren Entwicklung zu fördern.\n",
      "Answer from text-embedding-ada-002:     Ja, SAP SuccessFactors kann für die Nachfolgeplanung und Talententwicklung verwendet werden, um talentierte Mitarbeiter zu identifizieren und deren Entwicklung zu fördern.\n",
      "Answer from text-embedding-3-small:     Ja, SAP SuccessFactors kann für die Nachfolgeplanung und Talententwicklung verwendet werden, um talentierte Mitarbeiter zu identifizieren und deren Entwicklung zu fördern.\n",
      "Answer from text-embedding-3-large:     Ja, SAP SuccessFactors kann für die Nachfolgeplanung und Talententwicklung verwendet werden, um talentierte Mitarbeiter zu identifizieren und deren Entwicklung zu fördern.\n",
      "\n",
      "Question 95:                           Unterstützung und Schulungsressourcen für SAP SuccessFactors?\n",
      "\n",
      "Correct Answer:                         SAP bietet Schulungsressourcen, Schulungen und technischen Support für die Implementierung und Nutzung von SAP SuccessFactors an.\n",
      "\n",
      "Answer from mistral-embed:              SAP bietet Schulungsressourcen, Schulungen und technischen Support für die Implementierung und Nutzung von SAP SuccessFactors an.\n",
      "Answer from text-embedding-ada-002:     SAP bietet Schulungsressourcen, Schulungen und technischen Support für die Implementierung und Nutzung von SAP SuccessFactors an.\n",
      "Answer from text-embedding-3-small:     SAP bietet Schulungsressourcen, Schulungen und technischen Support für die Implementierung und Nutzung von SAP SuccessFactors an.\n",
      "Answer from text-embedding-3-large:     SAP bietet Schulungsressourcen, Schulungen und technischen Support für die Implementierung und Nutzung von SAP SuccessFactors an.\n",
      "\n",
      "Question 96:                           SAP SuccessFactors: Cloud?\n",
      "\n",
      "Correct Answer:                         Ja, SAP SuccessFactors ist eine cloudbasierte Lösung, die über das Internet zugänglich ist.\n",
      "\n",
      "Answer from mistral-embed:              Ja, SAP SuccessFactors ist eine cloudbasierte Lösung, die über das Internet zugänglich ist.\n",
      "Answer from text-embedding-ada-002:     Ja, SAP SuccessFactors ist eine cloudbasierte Lösung, die über das Internet zugänglich ist.\n",
      "Answer from text-embedding-3-small:     Ja, SAP SuccessFactors ist eine cloudbasierte Lösung, die über das Internet zugänglich ist.\n",
      "Answer from text-embedding-3-large:     Ja, SAP SuccessFactors ist eine cloudbasierte Lösung, die über das Internet zugänglich ist.\n",
      "\n",
      "Question 97:                           Lizenzierung von SAP SuccessFactors?\n",
      "\n",
      "Correct Answer:                         Die Lizenzierung von SAP SuccessFactors erfolgt typischerweise auf Basis der Anzahl der Benutzer oder der Nutzungsdauer.\n",
      "\n",
      "Answer from mistral-embed:              Die Lizenzierung von SAP SuccessFactors erfolgt typischerweise auf Basis der Anzahl der Benutzer oder der Nutzungsdauer.\n",
      "Answer from text-embedding-ada-002:     Die Lizenzierung von SAP SuccessFactors erfolgt typischerweise auf Basis der Anzahl der Benutzer oder der Nutzungsdauer.\n",
      "Answer from text-embedding-3-small:     Die Lizenzierung von SAP SuccessFactors erfolgt typischerweise auf Basis der Anzahl der Benutzer oder der Nutzungsdauer.\n",
      "Answer from text-embedding-3-large:     Die Lizenzierung von SAP SuccessFactors erfolgt typischerweise auf Basis der Anzahl der Benutzer oder der Nutzungsdauer.\n",
      "\n",
      "Question 98:                           Arbeitszeitverwaltung und -planung in SAP SuccessFactors?\n",
      "\n",
      "Correct Answer:                         Ja, SAP SuccessFactors bietet Funktionen für die Arbeitszeitverwaltung und -planung, einschließlich Schichtplanung, Urlaubsverwaltung und Zeiterfassung.\n",
      "\n",
      "Answer from mistral-embed:              Ja, SAP SuccessFactors bietet Funktionen für die Arbeitszeitverwaltung und -planung, einschließlich Schichtplanung, Urlaubsverwaltung und Zeiterfassung.\n",
      "Answer from text-embedding-ada-002:     Ja, SAP SuccessFactors bietet Funktionen für die Arbeitszeitverwaltung und -planung, einschließlich Schichtplanung, Urlaubsverwaltung und Zeiterfassung.\n",
      "Answer from text-embedding-3-small:     Ja, SAP SuccessFactors bietet Funktionen für die Arbeitszeitverwaltung und -planung, einschließlich Schichtplanung, Urlaubsverwaltung und Zeiterfassung.\n",
      "Answer from text-embedding-3-large:     Ja, SAP SuccessFactors bietet Funktionen für die Arbeitszeitverwaltung und -planung, einschließlich Schichtplanung, Urlaubsverwaltung und Zeiterfassung.\n",
      "\n",
      "Question 99:                           Support für SAP SuccessFactors?\n",
      "\n",
      "Correct Answer:                         SAP bietet umfassenden Support und regelmäßige Wartung für SAP SuccessFactors, einschließlich technischem Support, Schulungen und Updates.\n",
      "\n",
      "Answer from mistral-embed:              SAP bietet umfassenden Support und regelmäßige Wartung für SAP SuccessFactors, einschließlich technischem Support, Schulungen und Updates.\n",
      "Answer from text-embedding-ada-002:     Ja, SAP SuccessFactors unterstützt die Mitarbeiterentwicklung und Schulung durch Funktionen wie Lernmanagement, Karriereentwicklung und individuelle Entwicklungspläne.\n",
      "Answer from text-embedding-3-small:     Ja, SAP SuccessFactors unterstützt die Mitarbeiterentwicklung und Schulung durch Funktionen wie Lernmanagement, Karriereentwicklung und individuelle Entwicklungspläne.\n",
      "Answer from text-embedding-3-large:     SAP bietet umfassenden Support und regelmäßige Wartung für SAP SuccessFactors, einschließlich technischem Support, Schulungen und Updates.\n",
      "\n"
     ]
    }
   ],
   "source": [
    "for i in range(100):\n",
    "    print(f\"Question {i}:                           {df_modified_question_results.at[i, 'Frage (stark modifiziert)']}\\n\")\n",
    "    print(f\"Correct Answer:                         {df_modified_question_results.at[i, 'Antwort (original)']}\\n\")\n",
    "    print(f\"Answer from mistral-embed:              {df_modified_question_results.at[i, 'Antwort (mistral-embed)']}\")\n",
    "    print(f\"Answer from text-embedding-ada-002:     {df_modified_question_results.at[i, 'Antwort (text-embedding-ada-002)']}\")\n",
    "    print(f\"Answer from text-embedding-3-small:     {df_modified_question_results.at[i, 'Antwort (text-embedding-3-small)']}\")\n",
    "    print(f\"Answer from text-embedding-3-large:     {df_modified_question_results.at[i, 'Antwort (text-embedding-3-large)']}\\n\")"
   ]
  },
  {
   "cell_type": "markdown",
   "metadata": {},
   "source": [
    "## Create a Metric for Evaluation of Embedding Models"
   ]
  },
  {
   "cell_type": "markdown",
   "metadata": {},
   "source": [
    "### Count divergence for mistral-embed"
   ]
  },
  {
   "cell_type": "code",
   "execution_count": 489,
   "metadata": {},
   "outputs": [],
   "source": [
    "df_modified_question_results.to_csv(\"dataframe-before-metric.csv\")"
   ]
  },
  {
   "cell_type": "code",
   "execution_count": 490,
   "metadata": {},
   "outputs": [],
   "source": [
    "failure_counter_dict = {}\n"
   ]
  },
  {
   "cell_type": "code",
   "execution_count": 491,
   "metadata": {},
   "outputs": [],
   "source": [
    "failure_counter_mistral_embed = 0\n",
    "\n",
    "for i in range (len(df_modified_question_results[\"Frage (stark modifiziert)\"].to_list())):\n",
    "    if df_modified_question_results.at[i, 'Antwort (original)'] != df_modified_question_results.at[i, 'Antwort (mistral-embed)']:\n",
    "        failure_counter_mistral_embed = failure_counter_mistral_embed + 1\n",
    "\n",
    "failure_counter_dict[\"mistral-embed\"] = failure_counter_mistral_embed"
   ]
  },
  {
   "cell_type": "code",
   "execution_count": 492,
   "metadata": {},
   "outputs": [
    {
     "name": "stdout",
     "output_type": "stream",
     "text": [
      "{'mistral-embed': 7}\n"
     ]
    }
   ],
   "source": [
    "print(failure_counter_dict)"
   ]
  },
  {
   "cell_type": "markdown",
   "metadata": {},
   "source": [
    "### Count divergence for text-embedding-ada-002"
   ]
  },
  {
   "cell_type": "code",
   "execution_count": 493,
   "metadata": {},
   "outputs": [],
   "source": [
    "failure_counter_ada_002 = 0\n",
    "\n",
    "for i in range (len(df_modified_question_results[\"Frage (stark modifiziert)\"].to_list())):\n",
    "    if df_modified_question_results.at[i, 'Antwort (original)'] != df_modified_question_results.at[i, 'Antwort (text-embedding-ada-002)']:\n",
    "        failure_counter_ada_002 = failure_counter_ada_002 + 1\n",
    "        \n",
    "failure_counter_dict[\"text-embedding-ada-002\"] = failure_counter_ada_002"
   ]
  },
  {
   "cell_type": "markdown",
   "metadata": {},
   "source": [
    "### Count divergence for text-embedding-3-small"
   ]
  },
  {
   "cell_type": "code",
   "execution_count": 494,
   "metadata": {},
   "outputs": [],
   "source": [
    "failure_counter_3_small = 0\n",
    "\n",
    "for i in range (len(df_modified_question_results[\"Frage (stark modifiziert)\"].to_list())):\n",
    "    if df_modified_question_results.at[i, 'Antwort (original)'] != df_modified_question_results.at[i, 'Antwort (text-embedding-3-small)']:\n",
    "        failure_counter_3_small = failure_counter_3_small + 1\n",
    "\n",
    "failure_counter_dict[\"text-embedding-3-small\"] = failure_counter_3_small"
   ]
  },
  {
   "cell_type": "markdown",
   "metadata": {},
   "source": [
    "### Count divergence for text-embedding-3-large"
   ]
  },
  {
   "cell_type": "code",
   "execution_count": 495,
   "metadata": {},
   "outputs": [],
   "source": [
    "failure_counter_3_large = 0\n",
    "\n",
    "for i in range (len(df_modified_question_results[\"Frage (stark modifiziert)\"].to_list())):\n",
    "    if df_modified_question_results.at[i, 'Antwort (original)'] != df_modified_question_results.at[i, 'Antwort (text-embedding-3-large)']:\n",
    "        failure_counter_3_large = failure_counter_3_large + 1\n",
    "\n",
    "failure_counter_dict[\"text-embedding-3-small\"] = failure_counter_3_large"
   ]
  },
  {
   "cell_type": "markdown",
   "metadata": {},
   "source": [
    "## Evaluations Results"
   ]
  },
  {
   "cell_type": "code",
   "execution_count": 496,
   "metadata": {},
   "outputs": [
    {
     "name": "stdout",
     "output_type": "stream",
     "text": [
      "Evaluation Result:\n",
      "\n",
      "Failure Score Mistral Embedding Model (mistral-embed):          7   => 93 %\n",
      "Failure Score OpenAI Embedding Model (text-embedding-ada-002):  13  => 87 %\n",
      "Failure Score OpenAI Embedding Model (text-embedding-3-small):  15  => 85 %\n",
      "Failure Score OpenAI Embedding Model (text-embedding-3-large):  7   => 93 %\n",
      "\n",
      "Best model (for this dataset in German): mistral-embed\n"
     ]
    }
   ],
   "source": [
    "print(\"Evaluation Result:\\n\")\n",
    "print(f\"Failure Score Mistral Embedding Model (mistral-embed):          {failure_counter_mistral_embed}   => {(100-failure_counter_mistral_embed)} %\")\n",
    "print(f\"Failure Score OpenAI Embedding Model (text-embedding-ada-002):  {failure_counter_ada_002}  => {(100-failure_counter_ada_002)} %\")\n",
    "print(f\"Failure Score OpenAI Embedding Model (text-embedding-3-small):  {failure_counter_3_small}  => {100-failure_counter_3_small} %\")\n",
    "print(f\"Failure Score OpenAI Embedding Model (text-embedding-3-large):  {failure_counter_3_large}   => {100-failure_counter_3_large} %\\n\")\n",
    "\n",
    "print(f\"Best model (for this dataset in German): {min(failure_counter_dict, key=failure_counter_dict.get)}\")"
   ]
  },
  {
   "cell_type": "markdown",
   "metadata": {},
   "source": [
    "# Visualisierung der Daten"
   ]
  },
  {
   "cell_type": "markdown",
   "metadata": {},
   "source": [
    "Extract API Keys"
   ]
  },
  {
   "cell_type": "code",
   "execution_count": 497,
   "metadata": {},
   "outputs": [],
   "source": [
    "import json\n",
    "import pandas as pd\n",
    "from sklearn.manifold import TSNE\n",
    "import numpy as np\n",
    "from ast import literal_eval\n",
    "\n",
    "def load_credentials(filepath):\n",
    "    with open(filepath, 'r') as f:\n",
    "        credentials = json.load(f)\n",
    "    return credentials\n",
    "\n",
    "credentials_filepath = '../credentials.json'\n",
    "\n",
    "credentials = load_credentials(credentials_filepath)\n",
    "\n",
    "mistral_key = credentials['mistral_key']\n",
    "openai_key_embeddings = credentials['openai_key_embeddings']"
   ]
  },
  {
   "cell_type": "markdown",
   "metadata": {},
   "source": [
    "## Visualisation: mistral-embed"
   ]
  },
  {
   "cell_type": "markdown",
   "metadata": {},
   "source": [
    "### Data Preperation"
   ]
  },
  {
   "cell_type": "code",
   "execution_count": 498,
   "metadata": {},
   "outputs": [
    {
     "data": {
      "text/html": [
       "<div>\n",
       "<style scoped>\n",
       "    .dataframe tbody tr th:only-of-type {\n",
       "        vertical-align: middle;\n",
       "    }\n",
       "\n",
       "    .dataframe tbody tr th {\n",
       "        vertical-align: top;\n",
       "    }\n",
       "\n",
       "    .dataframe thead th {\n",
       "        text-align: right;\n",
       "    }\n",
       "</style>\n",
       "<table border=\"1\" class=\"dataframe\">\n",
       "  <thead>\n",
       "    <tr style=\"text-align: right;\">\n",
       "      <th></th>\n",
       "      <th>Answers</th>\n",
       "      <th>Embeddings</th>\n",
       "    </tr>\n",
       "  </thead>\n",
       "  <tbody>\n",
       "    <tr>\n",
       "      <th>0</th>\n",
       "      <td>SAP S/4HANA ist eine Enterprise Resource Plann...</td>\n",
       "      <td>[-0.01047515869140625, -0.007099151611328125, ...</td>\n",
       "    </tr>\n",
       "    <tr>\n",
       "      <th>1</th>\n",
       "      <td>Zu den Vorteilen von SAP S/4HANA gehören eine ...</td>\n",
       "      <td>[-0.022491455078125, -0.0136871337890625, 0.05...</td>\n",
       "    </tr>\n",
       "    <tr>\n",
       "      <th>2</th>\n",
       "      <td>Die Hauptunterschiede umfassen die In-Memory-D...</td>\n",
       "      <td>[-0.0197296142578125, 0.005146026611328125, 0....</td>\n",
       "    </tr>\n",
       "    <tr>\n",
       "      <th>3</th>\n",
       "      <td>SAP S/4HANA umfasst Module für Finanzen, Besch...</td>\n",
       "      <td>[0.0028972625732421875, -0.0002427101135253906...</td>\n",
       "    </tr>\n",
       "    <tr>\n",
       "      <th>4</th>\n",
       "      <td>Ja, eine Migration ist erforderlich, da SAP S/...</td>\n",
       "      <td>[-0.0027790069580078125, -0.0124359130859375, ...</td>\n",
       "    </tr>\n",
       "    <tr>\n",
       "      <th>...</th>\n",
       "      <td>...</td>\n",
       "      <td>...</td>\n",
       "    </tr>\n",
       "    <tr>\n",
       "      <th>95</th>\n",
       "      <td>SAP bietet Schulungsressourcen, Schulungen und...</td>\n",
       "      <td>[-0.0168914794921875, 0.0008006095886230469, 0...</td>\n",
       "    </tr>\n",
       "    <tr>\n",
       "      <th>96</th>\n",
       "      <td>Ja, SAP SuccessFactors ist eine cloudbasierte ...</td>\n",
       "      <td>[-0.026397705078125, 0.0257110595703125, 0.020...</td>\n",
       "    </tr>\n",
       "    <tr>\n",
       "      <th>97</th>\n",
       "      <td>Die Lizenzierung von SAP SuccessFactors erfolg...</td>\n",
       "      <td>[-0.04205322265625, 0.0196685791015625, 0.0034...</td>\n",
       "    </tr>\n",
       "    <tr>\n",
       "      <th>98</th>\n",
       "      <td>Ja, SAP SuccessFactors bietet Funktionen für d...</td>\n",
       "      <td>[-0.0241241455078125, 0.02984619140625, 0.0427...</td>\n",
       "    </tr>\n",
       "    <tr>\n",
       "      <th>99</th>\n",
       "      <td>SAP bietet umfassenden Support und regelmäßige...</td>\n",
       "      <td>[-0.02838134765625, 0.004909515380859375, 0.04...</td>\n",
       "    </tr>\n",
       "  </tbody>\n",
       "</table>\n",
       "<p>100 rows × 2 columns</p>\n",
       "</div>"
      ],
      "text/plain": [
       "                                              Answers  \\\n",
       "0   SAP S/4HANA ist eine Enterprise Resource Plann...   \n",
       "1   Zu den Vorteilen von SAP S/4HANA gehören eine ...   \n",
       "2   Die Hauptunterschiede umfassen die In-Memory-D...   \n",
       "3   SAP S/4HANA umfasst Module für Finanzen, Besch...   \n",
       "4   Ja, eine Migration ist erforderlich, da SAP S/...   \n",
       "..                                                ...   \n",
       "95  SAP bietet Schulungsressourcen, Schulungen und...   \n",
       "96  Ja, SAP SuccessFactors ist eine cloudbasierte ...   \n",
       "97  Die Lizenzierung von SAP SuccessFactors erfolg...   \n",
       "98  Ja, SAP SuccessFactors bietet Funktionen für d...   \n",
       "99  SAP bietet umfassenden Support und regelmäßige...   \n",
       "\n",
       "                                           Embeddings  \n",
       "0   [-0.01047515869140625, -0.007099151611328125, ...  \n",
       "1   [-0.022491455078125, -0.0136871337890625, 0.05...  \n",
       "2   [-0.0197296142578125, 0.005146026611328125, 0....  \n",
       "3   [0.0028972625732421875, -0.0002427101135253906...  \n",
       "4   [-0.0027790069580078125, -0.0124359130859375, ...  \n",
       "..                                                ...  \n",
       "95  [-0.0168914794921875, 0.0008006095886230469, 0...  \n",
       "96  [-0.026397705078125, 0.0257110595703125, 0.020...  \n",
       "97  [-0.04205322265625, 0.0196685791015625, 0.0034...  \n",
       "98  [-0.0241241455078125, 0.02984619140625, 0.0427...  \n",
       "99  [-0.02838134765625, 0.004909515380859375, 0.04...  \n",
       "\n",
       "[100 rows x 2 columns]"
      ]
     },
     "execution_count": 498,
     "metadata": {},
     "output_type": "execute_result"
    }
   ],
   "source": [
    "df_modified_question_results = pd.read_csv(\"dataframe-before-metric.csv\")\n",
    "\n",
    "df_visio_mistral_embed = pd.DataFrame(columns=['Answers', 'Embeddings'])\n",
    "df_visio_mistral_embed[\"Answers\"] = df_modified_question_results[\"Antwort (original)\"]\n",
    "df_visio_mistral_embed[\"Embeddings\"] = df_modified_question_results[\"Answer Embeddings: mistral-embed\"]\n",
    "\n",
    "df_visio_mistral_embed"
   ]
  },
  {
   "cell_type": "markdown",
   "metadata": {},
   "source": [
    "### Dimensionality reduction using t-SNE (PCA alternative)"
   ]
  },
  {
   "cell_type": "code",
   "execution_count": 499,
   "metadata": {},
   "outputs": [
    {
     "data": {
      "text/plain": [
       "(100, 2)"
      ]
     },
     "execution_count": 499,
     "metadata": {},
     "output_type": "execute_result"
    }
   ],
   "source": [
    "import pandas as pd\n",
    "from sklearn.manifold import TSNE\n",
    "import numpy as np\n",
    "from ast import literal_eval\n",
    "import plotly.graph_objs as go\n",
    "import numpy as np\n",
    "\n",
    "matrix = np.array(df_visio_mistral_embed[\"Embeddings\"].apply(literal_eval).to_list())\n",
    "\n",
    "tsne = TSNE(n_components=2, perplexity=15, random_state=42, init='random', learning_rate=200)\n",
    "reduced_dims = tsne.fit_transform(matrix)\n",
    "reduced_dims.shape"
   ]
  },
  {
   "cell_type": "markdown",
   "metadata": {},
   "source": [
    "### Visualisation (2 Dimensions)"
   ]
  },
  {
   "cell_type": "code",
   "execution_count": 500,
   "metadata": {},
   "outputs": [
    {
     "data": {
      "application/vnd.plotly.v1+json": {
       "config": {
        "plotlyServerURL": "https://plot.ly"
       },
       "data": [
        {
         "marker": {
          "color": "blue",
          "opacity": 0.3
         },
         "mode": "markers",
         "text": [
          "SAP S/4HANA ist eine Enterprise Resource Planning (ERP)-Suite, die auf der In-Memory-Datenbanktechnologie von SAP HANA basiert.",
          "Zu den Vorteilen von SAP S/4HANA gehören eine verbesserte Performance, Echtzeitanalysen, vereinfachte Prozesse und eine modernere Benutzeroberfläche.",
          "Die Hauptunterschiede umfassen die In-Memory-Datenbanktechnologie, die vereinfachten Datenmodelle, die neue Benutzeroberfläche und die Integration von Analysen und Prognosen.",
          "SAP S/4HANA umfasst Module für Finanzen, Beschaffung, Produktion, Vertrieb, Lagerhaltung und mehr.",
          "Ja, eine Migration ist erforderlich, da SAP S/4HANA eine neue Architektur und Datenbanktechnologie verwendet.",
          "Die Dauer kann je nach Unternehmensgröße, Komplexität der Systeme und gewählter Migrationsmethode variieren.",
          "In-Memory-Technologien ermöglichen eine schnellere Datenverarbeitung und Echtzeitanalysen.",
          "Beide Optionen sind möglich, und die Entscheidung hängt von den Unternehmensanforderungen ab.",
          "Die Lizenzierung basiert auf verschiedenen Faktoren wie Nutzeranzahl, Funktionsumfang und Implementierungsmethode.",
          "Bestehende Entwicklungen müssen möglicherweise angepasst werden, um mit den neuen Datenstrukturen von SAP S/4HANA kompatibel zu sein.",
          "Einige können weiterverwendet werden, aber viele Anpassungen müssen möglicherweise aktualisiert oder neu entwickelt werden.",
          "Ja, SAP S/4HANA bietet Funktionen wie SAP Fiori für intuitive Benutzeroberflächen und integrierte Analytics.",
          "SAP bietet verschiedene Dienstleistungen wie Beratung, Schulungen und Support für S/4HANA-Implementierungen an.",
          "Machine Learning und künstliche Intelligenz werden für Funktionen wie Predictive Analytics und automatisierte Prozesse in SAP S/4HANA verwendet.",
          "SAP S/4HANA kann nahtlos mit anderen SAP-Lösungen wie SAP SuccessFactors und SAP Ariba integriert werden.",
          "Ja, SAP bietet Schulungen und Zertifizierungen für SAP S/4HANA an.",
          "Ja, SAP S/4HANA kann über APIs und Middleware mit Drittanbieteranwendungen integriert werden.",
          "SAP bietet einen umfassenden Support für SAP S/4HANA mit regelmäßigen Updates und technischem Support.",
          "SAP S/4HANA erfordert eine neue Datenbankarchitektur und unterstützt moderne Technologien wie Cloud-Computing und IoT.",
          "Branchen wie Fertigung, Handel und Dienstleistungen profitieren besonders von den Funktionen und der Leistung von SAP S/4HANA.",
          "SAP Fieldglass ist eine cloudbasierte Plattform für das Management von externen Arbeitskräften und Dienstleistungsanbietern.",
          "SAP Fieldglass bietet Funktionen wie Beschaffung, Auftragsmanagement, Lieferantenverwaltung, Abrechnung und Compliance-Management.",
          "SAP Fieldglass ist für Unternehmen aller Größen und Branchen geeignet, die externe Arbeitskräfte oder Dienstleistungen nutzen.",
          "Die Nutzung von SAP Fieldglass ermöglicht eine bessere Kontrolle über externe Ressourcen, Kosteneinsparungen, verbesserte Compliance und beschleunigte Beschaffungsprozesse.",
          "SAP Fieldglass kann nahtlos mit anderen SAP-Produkten wie SAP SuccessFactors und SAP ERP integriert werden.",
          "SAP Fieldglass spielt eine wichtige Rolle bei der Verwaltung von Auftragnehmern, Freiberuflern und Dienstleistungsanbietern im Rahmen des Talentmanagements.",
          "Ja, SAP Fieldglass kann mit verschiedenen HR-Systemen und Enterprise-Resource-Planning-Systemen integriert werden.",
          "SAP Fieldglass erleichtert die Verwaltung von Arbeitsverträgen, Genehmigungsprozessen und Compliance-Anforderungen durch automatisierte Workflows und Dashboards.",
          "Ja, SAP Fieldglass bietet Funktionen für Compliance- und Risikomanagement wie Überprüfung von Lieferanten, Vertrags- und Rechnungsprüfung sowie Risikobewertung.",
          "SAP Fieldglass bietet umfassende Berichterstattungs- und Analysefunktionen für Leistungskennzahlen, Ausgabenanalyse und Risikomanagement.",
          "Ja, SAP Fieldglass ermöglicht die effiziente Verwaltung von globalen Arbeitskräften, Lieferanten und Verträgen.",
          "Die Implementierung von SAP Fieldglass erfolgt typischerweise durch einen strukturierten Prozess unter Einbeziehung von Beratern und technischem Support.",
          "Ja, SAP bietet Schulungs- und Zertifizierungsmöglichkeiten für SAP Fieldglass an, um die Benutzerkompetenz zu verbessern.",
          "Ja, SAP Fieldglass unterstützt benutzerdefinierte Anpassungen und Konfigurationen gemäß den spezifischen Anforderungen des Unternehmens.",
          "Ja, SAP Fieldglass bietet mobile Anwendungen für die einfache Nutzung und Verwaltung auch unterwegs.",
          "Die Kostenstruktur für SAP Fieldglass umfasst typischerweise Lizenzgebühren, Implementierungskosten und laufende Servicegebühren basierend auf der Nutzung.",
          "SAP Fieldglass implementiert Sicherheitsmaßnahmen wie Datenverschlüsselung, Zugriffskontrollen und regelmäßige Sicherheitsaudits.",
          "Ja, SAP Fieldglass unterstützt mehrsprachige Benutzeroberflächen, um den globalen Einsatz zu erleichtern.",
          "Ja, SAP Fieldglass bietet Funktionen zur Unterstützung der Einhaltung von Vorschriften wie GDPR und andere Datenschutzbestimmungen.",
          "SAP Fieldglass bietet umfassenden Support, einschließlich technischem Support, Schulungen und regelmäßigen Updates.",
          "SAP Enable Now ist eine Lösung für das digitale Lern- und Wissensmanagement, die Schulungen, Leistungssupport und Dokumentationen bereitstellt.",
          "SAP Enable Now bietet Funktionen wie die Erstellung interaktiver Lerninhalte, Leistungssupporttools, Software-Dokumentationen und Schulungsanalyse.",
          "SAP Enable Now ist für Unternehmen jeder Größe und Branche geeignet, die Schulungen für Mitarbeiter, Kunden und Partner benötigen.",
          "Die Nutzung von SAP Enable Now ermöglicht eine effiziente Schulung, verbesserte Produktivität, schnellere Einarbeitung neuer Mitarbeiter und konsistente Wissensvermittlung.",
          "SAP Enable Now kann nahtlos mit anderen SAP-Produkten wie SAP SuccessFactors und SAP Learning Solution integriert werden.",
          "SAP Enable Now spielt eine wichtige Rolle bei der Erstellung, Bereitstellung und Verwaltung von Schulungsressourcen für Mitarbeiter und Kunden.",
          "Ja, SAP Enable Now kann für die Schulung von Endbenutzern in SAP-Anwendungen sowie anderen Unternehmensanwendungen verwendet werden.",
          "Die Erstellung von Lerninhalten in SAP Enable Now erfolgt über eine benutzerfreundliche Oberfläche mit integrierten Tools für die Aufnahme, Bearbeitung und Veröffentlichung von Schulungsinhalten.",
          "Ja, SAP Enable Now bietet Funktionen für das Performance-Support wie kontextbezogene Hilfen, Tutorials und Benutzerleitfäden.",
          "SAP Enable Now unterstützt Schulungsformate wie interaktive Simulationen, Videos, Präsentationen und Online-Kurse.",
          "Ja, SAP Enable Now ermöglicht die Erstellung von Schulungsmaterial in verschiedenen Sprachen für globale Schulungsinitiativen.",
          "Die Bereitstellung von Lerninhalten für Benutzer erfolgt über verschiedene Kanäle wie Lernportale, Intranets und mobile Anwendungen.",
          "Ja, SAP Enable Now bietet Funktionen für Benutzerfeedback und Leistungsanalyse zur kontinuierlichen Verbesserung der Schulungsressourcen.",
          "Ja, SAP Enable Now kann zur Erstellung von Software-Dokumentationen wie Benutzerhandbüchern, Hilfedateien und Prozessdokumentationen verwendet werden.",
          "SAP bietet Schulungsressourcen, Schulungen und technischen Support für die Implementierung und Nutzung von SAP Enable Now an.",
          "Ja, SAP Enable Now kann sowohl als cloudbasierte Lösung als auch als On-Premise-Installation bereitgestellt werden.",
          "Die Lizenzierung von SAP Enable Now erfolgt typischerweise auf Basis der Anzahl der Benutzer oder der Nutzungsdauer.",
          "Ja, SAP Enable Now bietet Funktionen für die Verwaltung von Lernressourcen, Benutzerzugriff und Schulungsplanung an.",
          "Ja, SAP Enable Now unterstützt die Integration mit gängigen Learning-Management-Systemen (LMS) zur nahtlosen Schulungsverwaltung.",
          "SAP bietet umfassenden Support und regelmäßige Wartung für SAP Enable Now, einschließlich technischem Support, Schulungen und Updates.",
          "SAP Concur ist eine cloudbasierte Lösung für das Reise- und Ausgabenmanagement, die Unternehmen dabei unterstützt, Reisekosten zu verfolgen, Ausgaben zu kontrollieren und Compliance sicherzustellen.",
          "SAP Concur bietet Dienste wie Reisebuchung, Spesenabrechnung, Ausgabenmanagement, Reiserichtlinien-Compliance und Analyse von Reiseausgaben an.",
          "SAP Concur ist für Unternehmen jeder Größe und Branche geeignet, die Reise- und Ausgabenmanagementlösungen benötigen.",
          "Die Nutzung von SAP Concur ermöglicht eine effizientere Verwaltung von Reisen und Ausgaben, bessere Kontrolle über Ausgaben, Einhaltung von Reiserichtlinien und schnellere Erstattung von Spesen.",
          "SAP Concur kann nahtlos mit anderen SAP-Produkten wie SAP ERP und SAP SuccessFactors integriert werden, um eine ganzheitliche Lösung für das Unternehmensmanagement zu bieten.",
          "SAP Concur spielt eine wichtige Rolle bei der Vereinfachung und Automatisierung von Prozessen rund um das Reise- und Ausgabenmanagement, einschließlich Reisebuchungen, Spesenabrechnungen und Compliance.",
          "Ja, SAP Concur kann Reiserichtlinien und Compliance-Regeln durch automatisierte Richtlinienprüfungen und Warnungen durchsetzen.",
          "Ja, SAP Concur bietet Funktionen für die Automatisierung von Ausgabenabrechnungen durch Erfassung von Ausgaben, Zuweisung von Kosten und Genehmigung von Ausgaben.",
          "Ja, SAP Concur unterstützt die Verwaltung von Reisebuchungen und Reiseplänen durch Integration mit Reiseanbietern und -plattformen.",
          "Die Einreichung von Spesenberichten in SAP Concur erfolgt über eine benutzerfreundliche Oberfläche mit Optionen für die Erfassung von Ausgaben, Beifügen von Belegen und Zuordnung von Kosten.",
          "Ja, SAP Concur bietet Funktionen für die Genehmigung von Reiseanträgen durch Vorgesetzte oder entsprechende Genehmigungsinstanzen.",
          "Ja, SAP Concur kann Kreditkartentransaktionen integrieren und verfolgen, um Ausgaben automatisch zu erfassen und in Spesenberichte einzubeziehen.",
          "SAP Concur bietet verschiedene Berichterstattungs- und Analysefunktionen für Reiseausgaben, Budgetvergleiche und Ausgabenkategorien.",
          "Ja, SAP Concur bietet Funktionen für die Einhaltung von Steuervorschriften und Vorschriften durch automatische Steuerberechnungen und -abzüge.",
          "Ja, SAP Concur kann für die Verwaltung von Firmenkarten und Reisebudgets verwendet werden, um Ausgaben zu überwachen und Budgets einzuhalten.",
          "SAP bietet Schulungsressourcen, Schulungen und technischen Support für die Implementierung und Nutzung von SAP Concur an.",
          "Ja, SAP Concur ist eine cloudbasierte Lösung, die über das Internet zugänglich ist.",
          "Die Lizenzierung von SAP Concur erfolgt typischerweise auf Basis der Anzahl der Benutzer oder der Nutzungsdauer.",
          "Ja, SAP Concur bietet Funktionen für die Reisebuchung und -planung über Integration mit Reiseanbietern und -plattformen an.",
          "SAP bietet umfassenden Support und regelmäßige Wartung für SAP Concur, einschließlich technischem Support, Schulungen und Updates.",
          "SAP SuccessFactors ist eine cloudbasierte Lösung für das Human Capital Management (HCM), die Funktionen wie Personalverwaltung, Talentmanagement, Leistungsmanagement, Mitarbeiterentwicklung und Analyse bietet.",
          "SAP SuccessFactors bietet Funktionen wie Personalverwaltung, Rekrutierung, Onboarding, Leistungsmanagement, Mitarbeiterentwicklung, Vergütungsmanagement und Analyse.",
          "SAP SuccessFactors ist für Unternehmen jeder Größe und Branche geeignet, die eine moderne und umfassende Lösung für das Personalmanagement suchen.",
          "Die Nutzung von SAP SuccessFactors ermöglicht eine effiziente Verwaltung von Personalressourcen, bessere Mitarbeiterentwicklung, höhere Mitarbeiterbindung und bessere Geschäftsergebnisse.",
          "SAP SuccessFactors kann nahtlos mit anderen SAP-Produkten wie SAP ERP und SAP Concur integriert werden, um eine ganzheitliche Lösung für das Unternehmensmanagement zu bieten.",
          "SAP SuccessFactors spielt eine wichtige Rolle bei der Verwaltung des gesamten Mitarbeiterlebenszyklus, von der Rekrutierung bis zur Pensionierung, und unterstützt Unternehmen dabei, talentierte Mitarbeiter zu identifizieren, zu entwickeln und zu binden.",
          "Ja, SAP SuccessFactors bietet Funktionen für die Rekrutierung von Mitarbeitern, einschließlich Stellenanzeigen, Bewerbungsmanagement und Einstellungsprozessen.",
          "Ja, SAP SuccessFactors bietet Funktionen für das Leistungsmanagement, einschließlich Zielsetzung, Leistungsbeurteilung und Belohnungsmanagement.",
          "Ja, SAP SuccessFactors unterstützt die Mitarbeiterentwicklung und Schulung durch Funktionen wie Lernmanagement, Karriereentwicklung und individuelle Entwicklungspläne.",
          "Die Durchführung von Mitarbeiterbewertungen in SAP SuccessFactors erfolgt durch automatisierte Workflows, Zielsetzungsgespräche und kontinuierliches Feedback zwischen Mitarbeitern und Vorgesetzten.",
          "Ja, SAP SuccessFactors bietet Funktionen für die Verwaltung von Vergütungen und Belohnungen, einschließlich Gehaltsabrechnung, Bonussystemen und Zusatzleistungen.",
          "Ja, SAP SuccessFactors kann die Einhaltung von Compliance- und HR-Richtlinien durch automatisierte Prozesse, Compliance-Prüfungen und Berichterstattung unterstützen.",
          "SAP SuccessFactors bietet verschiedene Berichterstattungs- und Analysefunktionen für Personalanalysen, Leistungskennzahlen und Talentmanagement.",
          "Ja, SAP SuccessFactors bietet Funktionen für das Mitarbeiterengagement und die Mitarbeiterbindung, einschließlich Mitarbeiterumfragen, Feedbacksystemen und Anerkennungsprogrammen.",
          "Ja, SAP SuccessFactors kann für die Nachfolgeplanung und Talententwicklung verwendet werden, um talentierte Mitarbeiter zu identifizieren und deren Entwicklung zu fördern.",
          "SAP bietet Schulungsressourcen, Schulungen und technischen Support für die Implementierung und Nutzung von SAP SuccessFactors an.",
          "Ja, SAP SuccessFactors ist eine cloudbasierte Lösung, die über das Internet zugänglich ist.",
          "Die Lizenzierung von SAP SuccessFactors erfolgt typischerweise auf Basis der Anzahl der Benutzer oder der Nutzungsdauer.",
          "Ja, SAP SuccessFactors bietet Funktionen für die Arbeitszeitverwaltung und -planung, einschließlich Schichtplanung, Urlaubsverwaltung und Zeiterfassung.",
          "SAP bietet umfassenden Support und regelmäßige Wartung für SAP SuccessFactors, einschließlich technischem Support, Schulungen und Updates."
         ],
         "type": "scatter",
         "x": [
          -28.91977882385254,
          -31.570228576660156,
          -44.365264892578125,
          -23.687747955322266,
          -43.33012771606445,
          -69.69129180908203,
          -45.776275634765625,
          -66.99589538574219,
          43.682289123535156,
          -47.94989776611328,
          -61.05289840698242,
          -15.564288139343262,
          0.5836538076400757,
          -16.18227195739746,
          -12.302672386169434,
          -21.224746704101562,
          -11.39826774597168,
          7.575740337371826,
          -36.563629150390625,
          -26.0137882232666,
          -59.491939544677734,
          -67.71843719482422,
          -57.290950775146484,
          -67.2881851196289,
          -46.03929138183594,
          -230.02578735351562,
          -38.21168518066406,
          -74.87835693359375,
          -68.39871215820312,
          -56.60065460205078,
          -50.50309753417969,
          -72.68436431884766,
          -27.436433792114258,
          -42.49965286254883,
          -42.7728271484375,
          -79.4732894897461,
          -60.899330139160156,
          -36.61537170410156,
          -54.96018981933594,
          -50.56611251831055,
          77.24697875976562,
          77.24190521240234,
          62.30864715576172,
          76.5128173828125,
          85.72016143798828,
          69.66249084472656,
          60.45209884643555,
          86.31939697265625,
          54.59441375732422,
          68.73347473144531,
          64.08773040771484,
          93.89723205566406,
          70.38746643066406,
          52.58395767211914,
          30.550674438476562,
          55.527950286865234,
          44.17443084716797,
          72.08161163330078,
          81.46949005126953,
          21.18488311767578,
          1.1460580825805664,
          7.311194896697998,
          -7.072293281555176,
          -0.8266386389732361,
          -4.1868815422058105,
          5.196046352386475,
          7.425564765930176,
          -4.533874988555908,
          13.234127044677734,
          18.683481216430664,
          -3.9415040016174316,
          -13.007216453552246,
          11.35863208770752,
          2.1398303508758545,
          -10.592670440673828,
          24.24562644958496,
          -0.29295462369918823,
          36.936256408691406,
          17.921127319335938,
          16.415449142456055,
          27.074871063232422,
          29.880998611450195,
          35.97818374633789,
          41.321083068847656,
          -5.604389667510986,
          36.417266845703125,
          28.727680206298828,
          41.67546463012695,
          24.344167709350586,
          48.69771957397461,
          43.49491882324219,
          21.57455825805664,
          20.35082244873047,
          32.8890495300293,
          18.556903839111328,
          25.934722900390625,
          28.66792106628418,
          36.67178726196289,
          34.34950637817383,
          17.666057586669922
         ],
         "y": [
          11.585482597351074,
          -1.4218924045562744,
          31.251951217651367,
          5.002584934234619,
          5.9888224601745605,
          30.946372985839844,
          36.85618591308594,
          24.372337341308594,
          36.23204040527344,
          13.438669204711914,
          21.167699813842773,
          -1.0284026861190796,
          -6.071620941162109,
          -11.160820007324219,
          15.166569709777832,
          -28.213151931762695,
          5.324705123901367,
          -2.52386212348938,
          9.503800392150879,
          -7.008349895477295,
          -47.06204605102539,
          -48.11804962158203,
          -40.748714447021484,
          -37.18658447265625,
          -70.10932922363281,
          144.58950805664062,
          -68.51791381835938,
          -44.02534103393555,
          -55.48508834838867,
          -186.57208251953125,
          -48.600311279296875,
          -68.79087829589844,
          -34.7532844543457,
          -55.61923599243164,
          -44.40285873413086,
          -66.83302307128906,
          -65.05413055419922,
          -50.46642303466797,
          -58.79136657714844,
          -33.8282585144043,
          10.141400337219238,
          17.184276580810547,
          19.28598403930664,
          26.437015533447266,
          6.854669094085693,
          22.884395599365234,
          -6.504511833190918,
          20.996450424194336,
          6.456111907958984,
          12.5944242477417,
          0.6289058923721313,
          25.748916625976562,
          -7.953211784362793,
          -4.35591983795166,
          2.75948166847229,
          -17.16423225402832,
          45.710716247558594,
          -0.9522343277931213,
          -4.966685771942139,
          2.6193017959594727,
          59.5503044128418,
          66.69684600830078,
          61.202659606933594,
          69.20125579833984,
          30.679162979125977,
          74.00379180908203,
          93.4489974975586,
          81.64035034179688,
          81.2665023803711,
          67.26946258544922,
          93.52789306640625,
          81.5297622680664,
          59.829837799072266,
          85.4322280883789,
          71.88910675048828,
          14.01422119140625,
          50.429969787597656,
          49.31905746459961,
          85.41088104248047,
          12.556693077087402,
          -39.619354248046875,
          -49.39683151245117,
          -39.89027786254883,
          -46.98876953125,
          24.36968421936035,
          -53.179893493652344,
          -59.486839294433594,
          -66.14696502685547,
          -68.03486633300781,
          -57.28460693359375,
          -72.8685073852539,
          -77.63969421386719,
          -49.324546813964844,
          -66.05794525146484,
          -62.64921951293945,
          -7.302571773529053,
          -30.396181106567383,
          41.75347137451172,
          -76.40560913085938,
          -7.008626461029053
         ]
        }
       ],
       "layout": {
        "template": {
         "data": {
          "bar": [
           {
            "error_x": {
             "color": "#2a3f5f"
            },
            "error_y": {
             "color": "#2a3f5f"
            },
            "marker": {
             "line": {
              "color": "#E5ECF6",
              "width": 0.5
             },
             "pattern": {
              "fillmode": "overlay",
              "size": 10,
              "solidity": 0.2
             }
            },
            "type": "bar"
           }
          ],
          "barpolar": [
           {
            "marker": {
             "line": {
              "color": "#E5ECF6",
              "width": 0.5
             },
             "pattern": {
              "fillmode": "overlay",
              "size": 10,
              "solidity": 0.2
             }
            },
            "type": "barpolar"
           }
          ],
          "carpet": [
           {
            "aaxis": {
             "endlinecolor": "#2a3f5f",
             "gridcolor": "white",
             "linecolor": "white",
             "minorgridcolor": "white",
             "startlinecolor": "#2a3f5f"
            },
            "baxis": {
             "endlinecolor": "#2a3f5f",
             "gridcolor": "white",
             "linecolor": "white",
             "minorgridcolor": "white",
             "startlinecolor": "#2a3f5f"
            },
            "type": "carpet"
           }
          ],
          "choropleth": [
           {
            "colorbar": {
             "outlinewidth": 0,
             "ticks": ""
            },
            "type": "choropleth"
           }
          ],
          "contour": [
           {
            "colorbar": {
             "outlinewidth": 0,
             "ticks": ""
            },
            "colorscale": [
             [
              0,
              "#0d0887"
             ],
             [
              0.1111111111111111,
              "#46039f"
             ],
             [
              0.2222222222222222,
              "#7201a8"
             ],
             [
              0.3333333333333333,
              "#9c179e"
             ],
             [
              0.4444444444444444,
              "#bd3786"
             ],
             [
              0.5555555555555556,
              "#d8576b"
             ],
             [
              0.6666666666666666,
              "#ed7953"
             ],
             [
              0.7777777777777778,
              "#fb9f3a"
             ],
             [
              0.8888888888888888,
              "#fdca26"
             ],
             [
              1,
              "#f0f921"
             ]
            ],
            "type": "contour"
           }
          ],
          "contourcarpet": [
           {
            "colorbar": {
             "outlinewidth": 0,
             "ticks": ""
            },
            "type": "contourcarpet"
           }
          ],
          "heatmap": [
           {
            "colorbar": {
             "outlinewidth": 0,
             "ticks": ""
            },
            "colorscale": [
             [
              0,
              "#0d0887"
             ],
             [
              0.1111111111111111,
              "#46039f"
             ],
             [
              0.2222222222222222,
              "#7201a8"
             ],
             [
              0.3333333333333333,
              "#9c179e"
             ],
             [
              0.4444444444444444,
              "#bd3786"
             ],
             [
              0.5555555555555556,
              "#d8576b"
             ],
             [
              0.6666666666666666,
              "#ed7953"
             ],
             [
              0.7777777777777778,
              "#fb9f3a"
             ],
             [
              0.8888888888888888,
              "#fdca26"
             ],
             [
              1,
              "#f0f921"
             ]
            ],
            "type": "heatmap"
           }
          ],
          "heatmapgl": [
           {
            "colorbar": {
             "outlinewidth": 0,
             "ticks": ""
            },
            "colorscale": [
             [
              0,
              "#0d0887"
             ],
             [
              0.1111111111111111,
              "#46039f"
             ],
             [
              0.2222222222222222,
              "#7201a8"
             ],
             [
              0.3333333333333333,
              "#9c179e"
             ],
             [
              0.4444444444444444,
              "#bd3786"
             ],
             [
              0.5555555555555556,
              "#d8576b"
             ],
             [
              0.6666666666666666,
              "#ed7953"
             ],
             [
              0.7777777777777778,
              "#fb9f3a"
             ],
             [
              0.8888888888888888,
              "#fdca26"
             ],
             [
              1,
              "#f0f921"
             ]
            ],
            "type": "heatmapgl"
           }
          ],
          "histogram": [
           {
            "marker": {
             "pattern": {
              "fillmode": "overlay",
              "size": 10,
              "solidity": 0.2
             }
            },
            "type": "histogram"
           }
          ],
          "histogram2d": [
           {
            "colorbar": {
             "outlinewidth": 0,
             "ticks": ""
            },
            "colorscale": [
             [
              0,
              "#0d0887"
             ],
             [
              0.1111111111111111,
              "#46039f"
             ],
             [
              0.2222222222222222,
              "#7201a8"
             ],
             [
              0.3333333333333333,
              "#9c179e"
             ],
             [
              0.4444444444444444,
              "#bd3786"
             ],
             [
              0.5555555555555556,
              "#d8576b"
             ],
             [
              0.6666666666666666,
              "#ed7953"
             ],
             [
              0.7777777777777778,
              "#fb9f3a"
             ],
             [
              0.8888888888888888,
              "#fdca26"
             ],
             [
              1,
              "#f0f921"
             ]
            ],
            "type": "histogram2d"
           }
          ],
          "histogram2dcontour": [
           {
            "colorbar": {
             "outlinewidth": 0,
             "ticks": ""
            },
            "colorscale": [
             [
              0,
              "#0d0887"
             ],
             [
              0.1111111111111111,
              "#46039f"
             ],
             [
              0.2222222222222222,
              "#7201a8"
             ],
             [
              0.3333333333333333,
              "#9c179e"
             ],
             [
              0.4444444444444444,
              "#bd3786"
             ],
             [
              0.5555555555555556,
              "#d8576b"
             ],
             [
              0.6666666666666666,
              "#ed7953"
             ],
             [
              0.7777777777777778,
              "#fb9f3a"
             ],
             [
              0.8888888888888888,
              "#fdca26"
             ],
             [
              1,
              "#f0f921"
             ]
            ],
            "type": "histogram2dcontour"
           }
          ],
          "mesh3d": [
           {
            "colorbar": {
             "outlinewidth": 0,
             "ticks": ""
            },
            "type": "mesh3d"
           }
          ],
          "parcoords": [
           {
            "line": {
             "colorbar": {
              "outlinewidth": 0,
              "ticks": ""
             }
            },
            "type": "parcoords"
           }
          ],
          "pie": [
           {
            "automargin": true,
            "type": "pie"
           }
          ],
          "scatter": [
           {
            "fillpattern": {
             "fillmode": "overlay",
             "size": 10,
             "solidity": 0.2
            },
            "type": "scatter"
           }
          ],
          "scatter3d": [
           {
            "line": {
             "colorbar": {
              "outlinewidth": 0,
              "ticks": ""
             }
            },
            "marker": {
             "colorbar": {
              "outlinewidth": 0,
              "ticks": ""
             }
            },
            "type": "scatter3d"
           }
          ],
          "scattercarpet": [
           {
            "marker": {
             "colorbar": {
              "outlinewidth": 0,
              "ticks": ""
             }
            },
            "type": "scattercarpet"
           }
          ],
          "scattergeo": [
           {
            "marker": {
             "colorbar": {
              "outlinewidth": 0,
              "ticks": ""
             }
            },
            "type": "scattergeo"
           }
          ],
          "scattergl": [
           {
            "marker": {
             "colorbar": {
              "outlinewidth": 0,
              "ticks": ""
             }
            },
            "type": "scattergl"
           }
          ],
          "scattermapbox": [
           {
            "marker": {
             "colorbar": {
              "outlinewidth": 0,
              "ticks": ""
             }
            },
            "type": "scattermapbox"
           }
          ],
          "scatterpolar": [
           {
            "marker": {
             "colorbar": {
              "outlinewidth": 0,
              "ticks": ""
             }
            },
            "type": "scatterpolar"
           }
          ],
          "scatterpolargl": [
           {
            "marker": {
             "colorbar": {
              "outlinewidth": 0,
              "ticks": ""
             }
            },
            "type": "scatterpolargl"
           }
          ],
          "scatterternary": [
           {
            "marker": {
             "colorbar": {
              "outlinewidth": 0,
              "ticks": ""
             }
            },
            "type": "scatterternary"
           }
          ],
          "surface": [
           {
            "colorbar": {
             "outlinewidth": 0,
             "ticks": ""
            },
            "colorscale": [
             [
              0,
              "#0d0887"
             ],
             [
              0.1111111111111111,
              "#46039f"
             ],
             [
              0.2222222222222222,
              "#7201a8"
             ],
             [
              0.3333333333333333,
              "#9c179e"
             ],
             [
              0.4444444444444444,
              "#bd3786"
             ],
             [
              0.5555555555555556,
              "#d8576b"
             ],
             [
              0.6666666666666666,
              "#ed7953"
             ],
             [
              0.7777777777777778,
              "#fb9f3a"
             ],
             [
              0.8888888888888888,
              "#fdca26"
             ],
             [
              1,
              "#f0f921"
             ]
            ],
            "type": "surface"
           }
          ],
          "table": [
           {
            "cells": {
             "fill": {
              "color": "#EBF0F8"
             },
             "line": {
              "color": "white"
             }
            },
            "header": {
             "fill": {
              "color": "#C8D4E3"
             },
             "line": {
              "color": "white"
             }
            },
            "type": "table"
           }
          ]
         },
         "layout": {
          "annotationdefaults": {
           "arrowcolor": "#2a3f5f",
           "arrowhead": 0,
           "arrowwidth": 1
          },
          "autotypenumbers": "strict",
          "coloraxis": {
           "colorbar": {
            "outlinewidth": 0,
            "ticks": ""
           }
          },
          "colorscale": {
           "diverging": [
            [
             0,
             "#8e0152"
            ],
            [
             0.1,
             "#c51b7d"
            ],
            [
             0.2,
             "#de77ae"
            ],
            [
             0.3,
             "#f1b6da"
            ],
            [
             0.4,
             "#fde0ef"
            ],
            [
             0.5,
             "#f7f7f7"
            ],
            [
             0.6,
             "#e6f5d0"
            ],
            [
             0.7,
             "#b8e186"
            ],
            [
             0.8,
             "#7fbc41"
            ],
            [
             0.9,
             "#4d9221"
            ],
            [
             1,
             "#276419"
            ]
           ],
           "sequential": [
            [
             0,
             "#0d0887"
            ],
            [
             0.1111111111111111,
             "#46039f"
            ],
            [
             0.2222222222222222,
             "#7201a8"
            ],
            [
             0.3333333333333333,
             "#9c179e"
            ],
            [
             0.4444444444444444,
             "#bd3786"
            ],
            [
             0.5555555555555556,
             "#d8576b"
            ],
            [
             0.6666666666666666,
             "#ed7953"
            ],
            [
             0.7777777777777778,
             "#fb9f3a"
            ],
            [
             0.8888888888888888,
             "#fdca26"
            ],
            [
             1,
             "#f0f921"
            ]
           ],
           "sequentialminus": [
            [
             0,
             "#0d0887"
            ],
            [
             0.1111111111111111,
             "#46039f"
            ],
            [
             0.2222222222222222,
             "#7201a8"
            ],
            [
             0.3333333333333333,
             "#9c179e"
            ],
            [
             0.4444444444444444,
             "#bd3786"
            ],
            [
             0.5555555555555556,
             "#d8576b"
            ],
            [
             0.6666666666666666,
             "#ed7953"
            ],
            [
             0.7777777777777778,
             "#fb9f3a"
            ],
            [
             0.8888888888888888,
             "#fdca26"
            ],
            [
             1,
             "#f0f921"
            ]
           ]
          },
          "colorway": [
           "#636efa",
           "#EF553B",
           "#00cc96",
           "#ab63fa",
           "#FFA15A",
           "#19d3f3",
           "#FF6692",
           "#B6E880",
           "#FF97FF",
           "#FECB52"
          ],
          "font": {
           "color": "#2a3f5f"
          },
          "geo": {
           "bgcolor": "white",
           "lakecolor": "white",
           "landcolor": "#E5ECF6",
           "showlakes": true,
           "showland": true,
           "subunitcolor": "white"
          },
          "hoverlabel": {
           "align": "left"
          },
          "hovermode": "closest",
          "mapbox": {
           "style": "light"
          },
          "paper_bgcolor": "white",
          "plot_bgcolor": "#E5ECF6",
          "polar": {
           "angularaxis": {
            "gridcolor": "white",
            "linecolor": "white",
            "ticks": ""
           },
           "bgcolor": "#E5ECF6",
           "radialaxis": {
            "gridcolor": "white",
            "linecolor": "white",
            "ticks": ""
           }
          },
          "scene": {
           "xaxis": {
            "backgroundcolor": "#E5ECF6",
            "gridcolor": "white",
            "gridwidth": 2,
            "linecolor": "white",
            "showbackground": true,
            "ticks": "",
            "zerolinecolor": "white"
           },
           "yaxis": {
            "backgroundcolor": "#E5ECF6",
            "gridcolor": "white",
            "gridwidth": 2,
            "linecolor": "white",
            "showbackground": true,
            "ticks": "",
            "zerolinecolor": "white"
           },
           "zaxis": {
            "backgroundcolor": "#E5ECF6",
            "gridcolor": "white",
            "gridwidth": 2,
            "linecolor": "white",
            "showbackground": true,
            "ticks": "",
            "zerolinecolor": "white"
           }
          },
          "shapedefaults": {
           "line": {
            "color": "#2a3f5f"
           }
          },
          "ternary": {
           "aaxis": {
            "gridcolor": "white",
            "linecolor": "white",
            "ticks": ""
           },
           "baxis": {
            "gridcolor": "white",
            "linecolor": "white",
            "ticks": ""
           },
           "bgcolor": "#E5ECF6",
           "caxis": {
            "gridcolor": "white",
            "linecolor": "white",
            "ticks": ""
           }
          },
          "title": {
           "x": 0.05
          },
          "xaxis": {
           "automargin": true,
           "gridcolor": "white",
           "linecolor": "white",
           "ticks": "",
           "title": {
            "standoff": 15
           },
           "zerolinecolor": "white",
           "zerolinewidth": 2
          },
          "yaxis": {
           "automargin": true,
           "gridcolor": "white",
           "linecolor": "white",
           "ticks": "",
           "title": {
            "standoff": 15
           },
           "zerolinecolor": "white",
           "zerolinewidth": 2
          }
         }
        },
        "title": {
         "text": "Embedded Answers/Solutions using the Embedding Model: mistral-embed"
        },
        "xaxis": {
         "title": {
          "text": "X"
         }
        },
        "yaxis": {
         "title": {
          "text": "Y"
         }
        }
       }
      }
     },
     "metadata": {},
     "output_type": "display_data"
    }
   ],
   "source": [
    "x = [x for x, y in reduced_dims]\n",
    "y = [y for x, y in reduced_dims]\n",
    "\n",
    "examples = df_visio_mistral_embed[\"Answers\"].tolist()\n",
    "\n",
    "fig = go.Figure()\n",
    "\n",
    "fig.add_trace(go.Scatter(\n",
    "    x=x,\n",
    "    y=y,\n",
    "    mode='markers',\n",
    "    text = examples,\n",
    "    marker=dict(color='blue', opacity=0.3)\n",
    "))\n",
    "\n",
    "fig.update_layout(\n",
    "    title=\"Embedded Answers/Solutions using the Embedding Model: mistral-embed\",\n",
    "    xaxis_title=\"X\",\n",
    "    yaxis_title=\"Y\"\n",
    ")\n",
    "\n",
    "fig.show()"
   ]
  },
  {
   "cell_type": "markdown",
   "metadata": {},
   "source": [
    "## Visualisation: text-embedding-ada-002"
   ]
  },
  {
   "cell_type": "markdown",
   "metadata": {},
   "source": [
    "### Data Preperation"
   ]
  },
  {
   "cell_type": "code",
   "execution_count": 501,
   "metadata": {},
   "outputs": [
    {
     "data": {
      "text/html": [
       "<div>\n",
       "<style scoped>\n",
       "    .dataframe tbody tr th:only-of-type {\n",
       "        vertical-align: middle;\n",
       "    }\n",
       "\n",
       "    .dataframe tbody tr th {\n",
       "        vertical-align: top;\n",
       "    }\n",
       "\n",
       "    .dataframe thead th {\n",
       "        text-align: right;\n",
       "    }\n",
       "</style>\n",
       "<table border=\"1\" class=\"dataframe\">\n",
       "  <thead>\n",
       "    <tr style=\"text-align: right;\">\n",
       "      <th></th>\n",
       "      <th>Answers</th>\n",
       "      <th>Embeddings</th>\n",
       "    </tr>\n",
       "  </thead>\n",
       "  <tbody>\n",
       "    <tr>\n",
       "      <th>0</th>\n",
       "      <td>SAP S/4HANA ist eine Enterprise Resource Plann...</td>\n",
       "      <td>[0.01394073385745287, -0.0076940665021538734, ...</td>\n",
       "    </tr>\n",
       "    <tr>\n",
       "      <th>1</th>\n",
       "      <td>Zu den Vorteilen von SAP S/4HANA gehören eine ...</td>\n",
       "      <td>[0.007233329117298126, 0.0071442644111812115, ...</td>\n",
       "    </tr>\n",
       "    <tr>\n",
       "      <th>2</th>\n",
       "      <td>Die Hauptunterschiede umfassen die In-Memory-D...</td>\n",
       "      <td>[0.0021640665363520384, 0.008108162321150303, ...</td>\n",
       "    </tr>\n",
       "    <tr>\n",
       "      <th>3</th>\n",
       "      <td>SAP S/4HANA umfasst Module für Finanzen, Besch...</td>\n",
       "      <td>[0.02016955055296421, -0.008751985616981983, 0...</td>\n",
       "    </tr>\n",
       "    <tr>\n",
       "      <th>4</th>\n",
       "      <td>Ja, eine Migration ist erforderlich, da SAP S/...</td>\n",
       "      <td>[0.023980315774679184, -0.0257048849016428, 0....</td>\n",
       "    </tr>\n",
       "    <tr>\n",
       "      <th>...</th>\n",
       "      <td>...</td>\n",
       "      <td>...</td>\n",
       "    </tr>\n",
       "    <tr>\n",
       "      <th>95</th>\n",
       "      <td>SAP bietet Schulungsressourcen, Schulungen und...</td>\n",
       "      <td>[-0.0035913982428610325, -0.004740770440548658...</td>\n",
       "    </tr>\n",
       "    <tr>\n",
       "      <th>96</th>\n",
       "      <td>Ja, SAP SuccessFactors ist eine cloudbasierte ...</td>\n",
       "      <td>[0.015938352793455124, -0.008424196392297745, ...</td>\n",
       "    </tr>\n",
       "    <tr>\n",
       "      <th>97</th>\n",
       "      <td>Die Lizenzierung von SAP SuccessFactors erfolg...</td>\n",
       "      <td>[0.029685040935873985, 0.0066001578234136105, ...</td>\n",
       "    </tr>\n",
       "    <tr>\n",
       "      <th>98</th>\n",
       "      <td>Ja, SAP SuccessFactors bietet Funktionen für d...</td>\n",
       "      <td>[0.014625104144215584, -0.008604103699326515, ...</td>\n",
       "    </tr>\n",
       "    <tr>\n",
       "      <th>99</th>\n",
       "      <td>SAP bietet umfassenden Support und regelmäßige...</td>\n",
       "      <td>[0.004940326791256666, 0.0010807954240590334, ...</td>\n",
       "    </tr>\n",
       "  </tbody>\n",
       "</table>\n",
       "<p>100 rows × 2 columns</p>\n",
       "</div>"
      ],
      "text/plain": [
       "                                              Answers  \\\n",
       "0   SAP S/4HANA ist eine Enterprise Resource Plann...   \n",
       "1   Zu den Vorteilen von SAP S/4HANA gehören eine ...   \n",
       "2   Die Hauptunterschiede umfassen die In-Memory-D...   \n",
       "3   SAP S/4HANA umfasst Module für Finanzen, Besch...   \n",
       "4   Ja, eine Migration ist erforderlich, da SAP S/...   \n",
       "..                                                ...   \n",
       "95  SAP bietet Schulungsressourcen, Schulungen und...   \n",
       "96  Ja, SAP SuccessFactors ist eine cloudbasierte ...   \n",
       "97  Die Lizenzierung von SAP SuccessFactors erfolg...   \n",
       "98  Ja, SAP SuccessFactors bietet Funktionen für d...   \n",
       "99  SAP bietet umfassenden Support und regelmäßige...   \n",
       "\n",
       "                                           Embeddings  \n",
       "0   [0.01394073385745287, -0.0076940665021538734, ...  \n",
       "1   [0.007233329117298126, 0.0071442644111812115, ...  \n",
       "2   [0.0021640665363520384, 0.008108162321150303, ...  \n",
       "3   [0.02016955055296421, -0.008751985616981983, 0...  \n",
       "4   [0.023980315774679184, -0.0257048849016428, 0....  \n",
       "..                                                ...  \n",
       "95  [-0.0035913982428610325, -0.004740770440548658...  \n",
       "96  [0.015938352793455124, -0.008424196392297745, ...  \n",
       "97  [0.029685040935873985, 0.0066001578234136105, ...  \n",
       "98  [0.014625104144215584, -0.008604103699326515, ...  \n",
       "99  [0.004940326791256666, 0.0010807954240590334, ...  \n",
       "\n",
       "[100 rows x 2 columns]"
      ]
     },
     "execution_count": 501,
     "metadata": {},
     "output_type": "execute_result"
    }
   ],
   "source": [
    "df_visio_ada_002 = pd.DataFrame(columns=['Answers', 'Embeddings'])\n",
    "df_visio_ada_002[\"Answers\"] = df_modified_question_results[\"Antwort (original)\"]\n",
    "df_visio_ada_002[\"Embeddings\"] = df_modified_question_results[\"Answer Embeddings: text-embedding-ada-002\"]\n",
    "\n",
    "df_visio_ada_002"
   ]
  },
  {
   "cell_type": "markdown",
   "metadata": {},
   "source": [
    "### Dimensionality reduction using t-SNE (PCA alternative)"
   ]
  },
  {
   "cell_type": "code",
   "execution_count": 502,
   "metadata": {},
   "outputs": [
    {
     "data": {
      "text/plain": [
       "(100, 2)"
      ]
     },
     "execution_count": 502,
     "metadata": {},
     "output_type": "execute_result"
    }
   ],
   "source": [
    "import pandas as pd\n",
    "from sklearn.manifold import TSNE\n",
    "import numpy as np\n",
    "from ast import literal_eval\n",
    "import plotly.graph_objs as go\n",
    "import numpy as np\n",
    "\n",
    "matrix = np.array(df_visio_ada_002[\"Embeddings\"].apply(literal_eval).to_list())\n",
    "\n",
    "tsne = TSNE(n_components=2, perplexity=15, random_state=42, init='random', learning_rate=200)\n",
    "reduced_dims = tsne.fit_transform(matrix)\n",
    "reduced_dims.shape"
   ]
  },
  {
   "cell_type": "markdown",
   "metadata": {},
   "source": [
    "### Visualisation (2 Dimensions)"
   ]
  },
  {
   "cell_type": "code",
   "execution_count": 503,
   "metadata": {},
   "outputs": [
    {
     "data": {
      "application/vnd.plotly.v1+json": {
       "config": {
        "plotlyServerURL": "https://plot.ly"
       },
       "data": [
        {
         "marker": {
          "color": "blue",
          "opacity": 0.3
         },
         "mode": "markers",
         "text": [
          "SAP S/4HANA ist eine Enterprise Resource Planning (ERP)-Suite, die auf der In-Memory-Datenbanktechnologie von SAP HANA basiert.",
          "Zu den Vorteilen von SAP S/4HANA gehören eine verbesserte Performance, Echtzeitanalysen, vereinfachte Prozesse und eine modernere Benutzeroberfläche.",
          "Die Hauptunterschiede umfassen die In-Memory-Datenbanktechnologie, die vereinfachten Datenmodelle, die neue Benutzeroberfläche und die Integration von Analysen und Prognosen.",
          "SAP S/4HANA umfasst Module für Finanzen, Beschaffung, Produktion, Vertrieb, Lagerhaltung und mehr.",
          "Ja, eine Migration ist erforderlich, da SAP S/4HANA eine neue Architektur und Datenbanktechnologie verwendet.",
          "Die Dauer kann je nach Unternehmensgröße, Komplexität der Systeme und gewählter Migrationsmethode variieren.",
          "In-Memory-Technologien ermöglichen eine schnellere Datenverarbeitung und Echtzeitanalysen.",
          "Beide Optionen sind möglich, und die Entscheidung hängt von den Unternehmensanforderungen ab.",
          "Die Lizenzierung basiert auf verschiedenen Faktoren wie Nutzeranzahl, Funktionsumfang und Implementierungsmethode.",
          "Bestehende Entwicklungen müssen möglicherweise angepasst werden, um mit den neuen Datenstrukturen von SAP S/4HANA kompatibel zu sein.",
          "Einige können weiterverwendet werden, aber viele Anpassungen müssen möglicherweise aktualisiert oder neu entwickelt werden.",
          "Ja, SAP S/4HANA bietet Funktionen wie SAP Fiori für intuitive Benutzeroberflächen und integrierte Analytics.",
          "SAP bietet verschiedene Dienstleistungen wie Beratung, Schulungen und Support für S/4HANA-Implementierungen an.",
          "Machine Learning und künstliche Intelligenz werden für Funktionen wie Predictive Analytics und automatisierte Prozesse in SAP S/4HANA verwendet.",
          "SAP S/4HANA kann nahtlos mit anderen SAP-Lösungen wie SAP SuccessFactors und SAP Ariba integriert werden.",
          "Ja, SAP bietet Schulungen und Zertifizierungen für SAP S/4HANA an.",
          "Ja, SAP S/4HANA kann über APIs und Middleware mit Drittanbieteranwendungen integriert werden.",
          "SAP bietet einen umfassenden Support für SAP S/4HANA mit regelmäßigen Updates und technischem Support.",
          "SAP S/4HANA erfordert eine neue Datenbankarchitektur und unterstützt moderne Technologien wie Cloud-Computing und IoT.",
          "Branchen wie Fertigung, Handel und Dienstleistungen profitieren besonders von den Funktionen und der Leistung von SAP S/4HANA.",
          "SAP Fieldglass ist eine cloudbasierte Plattform für das Management von externen Arbeitskräften und Dienstleistungsanbietern.",
          "SAP Fieldglass bietet Funktionen wie Beschaffung, Auftragsmanagement, Lieferantenverwaltung, Abrechnung und Compliance-Management.",
          "SAP Fieldglass ist für Unternehmen aller Größen und Branchen geeignet, die externe Arbeitskräfte oder Dienstleistungen nutzen.",
          "Die Nutzung von SAP Fieldglass ermöglicht eine bessere Kontrolle über externe Ressourcen, Kosteneinsparungen, verbesserte Compliance und beschleunigte Beschaffungsprozesse.",
          "SAP Fieldglass kann nahtlos mit anderen SAP-Produkten wie SAP SuccessFactors und SAP ERP integriert werden.",
          "SAP Fieldglass spielt eine wichtige Rolle bei der Verwaltung von Auftragnehmern, Freiberuflern und Dienstleistungsanbietern im Rahmen des Talentmanagements.",
          "Ja, SAP Fieldglass kann mit verschiedenen HR-Systemen und Enterprise-Resource-Planning-Systemen integriert werden.",
          "SAP Fieldglass erleichtert die Verwaltung von Arbeitsverträgen, Genehmigungsprozessen und Compliance-Anforderungen durch automatisierte Workflows und Dashboards.",
          "Ja, SAP Fieldglass bietet Funktionen für Compliance- und Risikomanagement wie Überprüfung von Lieferanten, Vertrags- und Rechnungsprüfung sowie Risikobewertung.",
          "SAP Fieldglass bietet umfassende Berichterstattungs- und Analysefunktionen für Leistungskennzahlen, Ausgabenanalyse und Risikomanagement.",
          "Ja, SAP Fieldglass ermöglicht die effiziente Verwaltung von globalen Arbeitskräften, Lieferanten und Verträgen.",
          "Die Implementierung von SAP Fieldglass erfolgt typischerweise durch einen strukturierten Prozess unter Einbeziehung von Beratern und technischem Support.",
          "Ja, SAP bietet Schulungs- und Zertifizierungsmöglichkeiten für SAP Fieldglass an, um die Benutzerkompetenz zu verbessern.",
          "Ja, SAP Fieldglass unterstützt benutzerdefinierte Anpassungen und Konfigurationen gemäß den spezifischen Anforderungen des Unternehmens.",
          "Ja, SAP Fieldglass bietet mobile Anwendungen für die einfache Nutzung und Verwaltung auch unterwegs.",
          "Die Kostenstruktur für SAP Fieldglass umfasst typischerweise Lizenzgebühren, Implementierungskosten und laufende Servicegebühren basierend auf der Nutzung.",
          "SAP Fieldglass implementiert Sicherheitsmaßnahmen wie Datenverschlüsselung, Zugriffskontrollen und regelmäßige Sicherheitsaudits.",
          "Ja, SAP Fieldglass unterstützt mehrsprachige Benutzeroberflächen, um den globalen Einsatz zu erleichtern.",
          "Ja, SAP Fieldglass bietet Funktionen zur Unterstützung der Einhaltung von Vorschriften wie GDPR und andere Datenschutzbestimmungen.",
          "SAP Fieldglass bietet umfassenden Support, einschließlich technischem Support, Schulungen und regelmäßigen Updates.",
          "SAP Enable Now ist eine Lösung für das digitale Lern- und Wissensmanagement, die Schulungen, Leistungssupport und Dokumentationen bereitstellt.",
          "SAP Enable Now bietet Funktionen wie die Erstellung interaktiver Lerninhalte, Leistungssupporttools, Software-Dokumentationen und Schulungsanalyse.",
          "SAP Enable Now ist für Unternehmen jeder Größe und Branche geeignet, die Schulungen für Mitarbeiter, Kunden und Partner benötigen.",
          "Die Nutzung von SAP Enable Now ermöglicht eine effiziente Schulung, verbesserte Produktivität, schnellere Einarbeitung neuer Mitarbeiter und konsistente Wissensvermittlung.",
          "SAP Enable Now kann nahtlos mit anderen SAP-Produkten wie SAP SuccessFactors und SAP Learning Solution integriert werden.",
          "SAP Enable Now spielt eine wichtige Rolle bei der Erstellung, Bereitstellung und Verwaltung von Schulungsressourcen für Mitarbeiter und Kunden.",
          "Ja, SAP Enable Now kann für die Schulung von Endbenutzern in SAP-Anwendungen sowie anderen Unternehmensanwendungen verwendet werden.",
          "Die Erstellung von Lerninhalten in SAP Enable Now erfolgt über eine benutzerfreundliche Oberfläche mit integrierten Tools für die Aufnahme, Bearbeitung und Veröffentlichung von Schulungsinhalten.",
          "Ja, SAP Enable Now bietet Funktionen für das Performance-Support wie kontextbezogene Hilfen, Tutorials und Benutzerleitfäden.",
          "SAP Enable Now unterstützt Schulungsformate wie interaktive Simulationen, Videos, Präsentationen und Online-Kurse.",
          "Ja, SAP Enable Now ermöglicht die Erstellung von Schulungsmaterial in verschiedenen Sprachen für globale Schulungsinitiativen.",
          "Die Bereitstellung von Lerninhalten für Benutzer erfolgt über verschiedene Kanäle wie Lernportale, Intranets und mobile Anwendungen.",
          "Ja, SAP Enable Now bietet Funktionen für Benutzerfeedback und Leistungsanalyse zur kontinuierlichen Verbesserung der Schulungsressourcen.",
          "Ja, SAP Enable Now kann zur Erstellung von Software-Dokumentationen wie Benutzerhandbüchern, Hilfedateien und Prozessdokumentationen verwendet werden.",
          "SAP bietet Schulungsressourcen, Schulungen und technischen Support für die Implementierung und Nutzung von SAP Enable Now an.",
          "Ja, SAP Enable Now kann sowohl als cloudbasierte Lösung als auch als On-Premise-Installation bereitgestellt werden.",
          "Die Lizenzierung von SAP Enable Now erfolgt typischerweise auf Basis der Anzahl der Benutzer oder der Nutzungsdauer.",
          "Ja, SAP Enable Now bietet Funktionen für die Verwaltung von Lernressourcen, Benutzerzugriff und Schulungsplanung an.",
          "Ja, SAP Enable Now unterstützt die Integration mit gängigen Learning-Management-Systemen (LMS) zur nahtlosen Schulungsverwaltung.",
          "SAP bietet umfassenden Support und regelmäßige Wartung für SAP Enable Now, einschließlich technischem Support, Schulungen und Updates.",
          "SAP Concur ist eine cloudbasierte Lösung für das Reise- und Ausgabenmanagement, die Unternehmen dabei unterstützt, Reisekosten zu verfolgen, Ausgaben zu kontrollieren und Compliance sicherzustellen.",
          "SAP Concur bietet Dienste wie Reisebuchung, Spesenabrechnung, Ausgabenmanagement, Reiserichtlinien-Compliance und Analyse von Reiseausgaben an.",
          "SAP Concur ist für Unternehmen jeder Größe und Branche geeignet, die Reise- und Ausgabenmanagementlösungen benötigen.",
          "Die Nutzung von SAP Concur ermöglicht eine effizientere Verwaltung von Reisen und Ausgaben, bessere Kontrolle über Ausgaben, Einhaltung von Reiserichtlinien und schnellere Erstattung von Spesen.",
          "SAP Concur kann nahtlos mit anderen SAP-Produkten wie SAP ERP und SAP SuccessFactors integriert werden, um eine ganzheitliche Lösung für das Unternehmensmanagement zu bieten.",
          "SAP Concur spielt eine wichtige Rolle bei der Vereinfachung und Automatisierung von Prozessen rund um das Reise- und Ausgabenmanagement, einschließlich Reisebuchungen, Spesenabrechnungen und Compliance.",
          "Ja, SAP Concur kann Reiserichtlinien und Compliance-Regeln durch automatisierte Richtlinienprüfungen und Warnungen durchsetzen.",
          "Ja, SAP Concur bietet Funktionen für die Automatisierung von Ausgabenabrechnungen durch Erfassung von Ausgaben, Zuweisung von Kosten und Genehmigung von Ausgaben.",
          "Ja, SAP Concur unterstützt die Verwaltung von Reisebuchungen und Reiseplänen durch Integration mit Reiseanbietern und -plattformen.",
          "Die Einreichung von Spesenberichten in SAP Concur erfolgt über eine benutzerfreundliche Oberfläche mit Optionen für die Erfassung von Ausgaben, Beifügen von Belegen und Zuordnung von Kosten.",
          "Ja, SAP Concur bietet Funktionen für die Genehmigung von Reiseanträgen durch Vorgesetzte oder entsprechende Genehmigungsinstanzen.",
          "Ja, SAP Concur kann Kreditkartentransaktionen integrieren und verfolgen, um Ausgaben automatisch zu erfassen und in Spesenberichte einzubeziehen.",
          "SAP Concur bietet verschiedene Berichterstattungs- und Analysefunktionen für Reiseausgaben, Budgetvergleiche und Ausgabenkategorien.",
          "Ja, SAP Concur bietet Funktionen für die Einhaltung von Steuervorschriften und Vorschriften durch automatische Steuerberechnungen und -abzüge.",
          "Ja, SAP Concur kann für die Verwaltung von Firmenkarten und Reisebudgets verwendet werden, um Ausgaben zu überwachen und Budgets einzuhalten.",
          "SAP bietet Schulungsressourcen, Schulungen und technischen Support für die Implementierung und Nutzung von SAP Concur an.",
          "Ja, SAP Concur ist eine cloudbasierte Lösung, die über das Internet zugänglich ist.",
          "Die Lizenzierung von SAP Concur erfolgt typischerweise auf Basis der Anzahl der Benutzer oder der Nutzungsdauer.",
          "Ja, SAP Concur bietet Funktionen für die Reisebuchung und -planung über Integration mit Reiseanbietern und -plattformen an.",
          "SAP bietet umfassenden Support und regelmäßige Wartung für SAP Concur, einschließlich technischem Support, Schulungen und Updates.",
          "SAP SuccessFactors ist eine cloudbasierte Lösung für das Human Capital Management (HCM), die Funktionen wie Personalverwaltung, Talentmanagement, Leistungsmanagement, Mitarbeiterentwicklung und Analyse bietet.",
          "SAP SuccessFactors bietet Funktionen wie Personalverwaltung, Rekrutierung, Onboarding, Leistungsmanagement, Mitarbeiterentwicklung, Vergütungsmanagement und Analyse.",
          "SAP SuccessFactors ist für Unternehmen jeder Größe und Branche geeignet, die eine moderne und umfassende Lösung für das Personalmanagement suchen.",
          "Die Nutzung von SAP SuccessFactors ermöglicht eine effiziente Verwaltung von Personalressourcen, bessere Mitarbeiterentwicklung, höhere Mitarbeiterbindung und bessere Geschäftsergebnisse.",
          "SAP SuccessFactors kann nahtlos mit anderen SAP-Produkten wie SAP ERP und SAP Concur integriert werden, um eine ganzheitliche Lösung für das Unternehmensmanagement zu bieten.",
          "SAP SuccessFactors spielt eine wichtige Rolle bei der Verwaltung des gesamten Mitarbeiterlebenszyklus, von der Rekrutierung bis zur Pensionierung, und unterstützt Unternehmen dabei, talentierte Mitarbeiter zu identifizieren, zu entwickeln und zu binden.",
          "Ja, SAP SuccessFactors bietet Funktionen für die Rekrutierung von Mitarbeitern, einschließlich Stellenanzeigen, Bewerbungsmanagement und Einstellungsprozessen.",
          "Ja, SAP SuccessFactors bietet Funktionen für das Leistungsmanagement, einschließlich Zielsetzung, Leistungsbeurteilung und Belohnungsmanagement.",
          "Ja, SAP SuccessFactors unterstützt die Mitarbeiterentwicklung und Schulung durch Funktionen wie Lernmanagement, Karriereentwicklung und individuelle Entwicklungspläne.",
          "Die Durchführung von Mitarbeiterbewertungen in SAP SuccessFactors erfolgt durch automatisierte Workflows, Zielsetzungsgespräche und kontinuierliches Feedback zwischen Mitarbeitern und Vorgesetzten.",
          "Ja, SAP SuccessFactors bietet Funktionen für die Verwaltung von Vergütungen und Belohnungen, einschließlich Gehaltsabrechnung, Bonussystemen und Zusatzleistungen.",
          "Ja, SAP SuccessFactors kann die Einhaltung von Compliance- und HR-Richtlinien durch automatisierte Prozesse, Compliance-Prüfungen und Berichterstattung unterstützen.",
          "SAP SuccessFactors bietet verschiedene Berichterstattungs- und Analysefunktionen für Personalanalysen, Leistungskennzahlen und Talentmanagement.",
          "Ja, SAP SuccessFactors bietet Funktionen für das Mitarbeiterengagement und die Mitarbeiterbindung, einschließlich Mitarbeiterumfragen, Feedbacksystemen und Anerkennungsprogrammen.",
          "Ja, SAP SuccessFactors kann für die Nachfolgeplanung und Talententwicklung verwendet werden, um talentierte Mitarbeiter zu identifizieren und deren Entwicklung zu fördern.",
          "SAP bietet Schulungsressourcen, Schulungen und technischen Support für die Implementierung und Nutzung von SAP SuccessFactors an.",
          "Ja, SAP SuccessFactors ist eine cloudbasierte Lösung, die über das Internet zugänglich ist.",
          "Die Lizenzierung von SAP SuccessFactors erfolgt typischerweise auf Basis der Anzahl der Benutzer oder der Nutzungsdauer.",
          "Ja, SAP SuccessFactors bietet Funktionen für die Arbeitszeitverwaltung und -planung, einschließlich Schichtplanung, Urlaubsverwaltung und Zeiterfassung.",
          "SAP bietet umfassenden Support und regelmäßige Wartung für SAP SuccessFactors, einschließlich technischem Support, Schulungen und Updates."
         ],
         "type": "scatter",
         "x": [
          -20.88317108154297,
          -5.603114604949951,
          32.77350997924805,
          -15.751954078674316,
          -29.564119338989258,
          -60.5103645324707,
          37.88713836669922,
          -55.86172866821289,
          -74.26126861572266,
          -36.849029541015625,
          -45.768798828125,
          -8.543723106384277,
          -0.522933840751648,
          -11.121994972229004,
          9.061391830444336,
          -5.853461742401123,
          -12.2590913772583,
          6.794864654541016,
          -23.9785213470459,
          -7.55484676361084,
          26.56705093383789,
          10.367147445678711,
          33.434364318847656,
          17.059650421142578,
          9.416884422302246,
          27.42816162109375,
          -0.28156664967536926,
          18.58155059814453,
          2.539703845977783,
          7.035134315490723,
          -4.045503616333008,
          33.14978790283203,
          9.37596321105957,
          3.554781436920166,
          -11.669837951660156,
          40.75904083251953,
          17.751874923706055,
          -5.907561302185059,
          6.0737786293029785,
          22.429903030395508,
          20.54197883605957,
          14.476940155029297,
          29.04210662841797,
          20.48324203491211,
          15.082870483398438,
          11.204235076904297,
          -9.744329452514648,
          25.484474182128906,
          -10.11397647857666,
          16.26485824584961,
          -5.147080421447754,
          31.218435287475586,
          -1.8039780855178833,
          -16.89371109008789,
          17.370208740234375,
          -21.73824119567871,
          -65.55219268798828,
          -0.5286754369735718,
          3.01689076423645,
          12.487468719482422,
          -99.89435577392578,
          -94.49129486083984,
          -97.16583251953125,
          -90.320068359375,
          20.582252502441406,
          -89.10984802246094,
          -55.36457824707031,
          -70.31790924072266,
          -79.92857360839844,
          -98.83197784423828,
          -68.23745727539062,
          -75.64810180664062,
          -101.01044464111328,
          -63.82894515991211,
          -80.53531646728516,
          26.42048454284668,
          -49.000389099121094,
          -73.44972229003906,
          -75.66555786132812,
          19.072772979736328,
          51.021175384521484,
          59.412109375,
          45.82392883300781,
          54.41427230834961,
          25.570472717285156,
          62.05982208251953,
          83.55863952636719,
          74.54317474365234,
          82.63394927978516,
          64.8084945678711,
          77.32344055175781,
          -47.4332389831543,
          57.19898223876953,
          74.8012466430664,
          90.45970916748047,
          25.744665145874023,
          -44.09740447998047,
          -68.17801666259766,
          85.3919677734375,
          16.08180809020996
         ],
         "y": [
          25.835330963134766,
          16.887636184692383,
          -15.3148193359375,
          19.411619186401367,
          40.380313873291016,
          64.88671875,
          -18.405221939086914,
          70.73995971679688,
          62.510196685791016,
          37.250770568847656,
          41.48421096801758,
          8.788712501525879,
          29.97684097290039,
          36.127567291259766,
          6.664629936218262,
          -11.000246047973633,
          0.5572542548179626,
          38.36672592163086,
          32.71308898925781,
          24.598363876342773,
          -73.7236099243164,
          -76.03914642333984,
          -75.32281494140625,
          -85.62783813476562,
          -36.11869812011719,
          -82.37047576904297,
          -44.17699432373047,
          -77.27545928955078,
          -74.04737091064453,
          -84.16741180419922,
          -63.60465621948242,
          -59.25331497192383,
          -48.804073333740234,
          -55.36177062988281,
          -61.443634033203125,
          -59.10174560546875,
          -65.82247924804688,
          -54.420860290527344,
          -64.33185577392578,
          -57.729312896728516,
          77.6962661743164,
          82.7446517944336,
          74.06787109375,
          69.17357635498047,
          1.7209017276763916,
          72.83224487304688,
          88.1010513305664,
          86.38632202148438,
          76.54063415527344,
          90.4529800415039,
          95.66206359863281,
          94.56636047363281,
          76.70893859863281,
          91.76923370361328,
          60.8427848815918,
          81.63611602783203,
          50.03367233276367,
          84.05176544189453,
          91.13430786132812,
          52.38458251953125,
          -49.41048049926758,
          -43.805503845214844,
          -56.907127380371094,
          -36.51752471923828,
          11.50853443145752,
          -49.928466796875,
          -33.710060119628906,
          -40.43039321899414,
          -26.52033042907715,
          -29.333133697509766,
          -29.658466339111328,
          -47.02312469482422,
          -39.26447677612305,
          -42.76465606689453,
          -39.2393684387207,
          36.47746276855469,
          -4.913378715515137,
          51.479122161865234,
          -22.418224334716797,
          35.01517868041992,
          24.924654006958008,
          23.88365364074707,
          16.83214569091797,
          14.983757972717285,
          8.432579040527344,
          13.568147659301758,
          29.296714782714844,
          25.399765014648438,
          38.56101989746094,
          41.055931091308594,
          19.067272186279297,
          -32.660640716552734,
          30.792701721191406,
          33.76832580566406,
          36.927608489990234,
          46.20429992675781,
          -1.5685272216796875,
          56.263240814208984,
          18.876035690307617,
          43.6688232421875
         ]
        }
       ],
       "layout": {
        "template": {
         "data": {
          "bar": [
           {
            "error_x": {
             "color": "#2a3f5f"
            },
            "error_y": {
             "color": "#2a3f5f"
            },
            "marker": {
             "line": {
              "color": "#E5ECF6",
              "width": 0.5
             },
             "pattern": {
              "fillmode": "overlay",
              "size": 10,
              "solidity": 0.2
             }
            },
            "type": "bar"
           }
          ],
          "barpolar": [
           {
            "marker": {
             "line": {
              "color": "#E5ECF6",
              "width": 0.5
             },
             "pattern": {
              "fillmode": "overlay",
              "size": 10,
              "solidity": 0.2
             }
            },
            "type": "barpolar"
           }
          ],
          "carpet": [
           {
            "aaxis": {
             "endlinecolor": "#2a3f5f",
             "gridcolor": "white",
             "linecolor": "white",
             "minorgridcolor": "white",
             "startlinecolor": "#2a3f5f"
            },
            "baxis": {
             "endlinecolor": "#2a3f5f",
             "gridcolor": "white",
             "linecolor": "white",
             "minorgridcolor": "white",
             "startlinecolor": "#2a3f5f"
            },
            "type": "carpet"
           }
          ],
          "choropleth": [
           {
            "colorbar": {
             "outlinewidth": 0,
             "ticks": ""
            },
            "type": "choropleth"
           }
          ],
          "contour": [
           {
            "colorbar": {
             "outlinewidth": 0,
             "ticks": ""
            },
            "colorscale": [
             [
              0,
              "#0d0887"
             ],
             [
              0.1111111111111111,
              "#46039f"
             ],
             [
              0.2222222222222222,
              "#7201a8"
             ],
             [
              0.3333333333333333,
              "#9c179e"
             ],
             [
              0.4444444444444444,
              "#bd3786"
             ],
             [
              0.5555555555555556,
              "#d8576b"
             ],
             [
              0.6666666666666666,
              "#ed7953"
             ],
             [
              0.7777777777777778,
              "#fb9f3a"
             ],
             [
              0.8888888888888888,
              "#fdca26"
             ],
             [
              1,
              "#f0f921"
             ]
            ],
            "type": "contour"
           }
          ],
          "contourcarpet": [
           {
            "colorbar": {
             "outlinewidth": 0,
             "ticks": ""
            },
            "type": "contourcarpet"
           }
          ],
          "heatmap": [
           {
            "colorbar": {
             "outlinewidth": 0,
             "ticks": ""
            },
            "colorscale": [
             [
              0,
              "#0d0887"
             ],
             [
              0.1111111111111111,
              "#46039f"
             ],
             [
              0.2222222222222222,
              "#7201a8"
             ],
             [
              0.3333333333333333,
              "#9c179e"
             ],
             [
              0.4444444444444444,
              "#bd3786"
             ],
             [
              0.5555555555555556,
              "#d8576b"
             ],
             [
              0.6666666666666666,
              "#ed7953"
             ],
             [
              0.7777777777777778,
              "#fb9f3a"
             ],
             [
              0.8888888888888888,
              "#fdca26"
             ],
             [
              1,
              "#f0f921"
             ]
            ],
            "type": "heatmap"
           }
          ],
          "heatmapgl": [
           {
            "colorbar": {
             "outlinewidth": 0,
             "ticks": ""
            },
            "colorscale": [
             [
              0,
              "#0d0887"
             ],
             [
              0.1111111111111111,
              "#46039f"
             ],
             [
              0.2222222222222222,
              "#7201a8"
             ],
             [
              0.3333333333333333,
              "#9c179e"
             ],
             [
              0.4444444444444444,
              "#bd3786"
             ],
             [
              0.5555555555555556,
              "#d8576b"
             ],
             [
              0.6666666666666666,
              "#ed7953"
             ],
             [
              0.7777777777777778,
              "#fb9f3a"
             ],
             [
              0.8888888888888888,
              "#fdca26"
             ],
             [
              1,
              "#f0f921"
             ]
            ],
            "type": "heatmapgl"
           }
          ],
          "histogram": [
           {
            "marker": {
             "pattern": {
              "fillmode": "overlay",
              "size": 10,
              "solidity": 0.2
             }
            },
            "type": "histogram"
           }
          ],
          "histogram2d": [
           {
            "colorbar": {
             "outlinewidth": 0,
             "ticks": ""
            },
            "colorscale": [
             [
              0,
              "#0d0887"
             ],
             [
              0.1111111111111111,
              "#46039f"
             ],
             [
              0.2222222222222222,
              "#7201a8"
             ],
             [
              0.3333333333333333,
              "#9c179e"
             ],
             [
              0.4444444444444444,
              "#bd3786"
             ],
             [
              0.5555555555555556,
              "#d8576b"
             ],
             [
              0.6666666666666666,
              "#ed7953"
             ],
             [
              0.7777777777777778,
              "#fb9f3a"
             ],
             [
              0.8888888888888888,
              "#fdca26"
             ],
             [
              1,
              "#f0f921"
             ]
            ],
            "type": "histogram2d"
           }
          ],
          "histogram2dcontour": [
           {
            "colorbar": {
             "outlinewidth": 0,
             "ticks": ""
            },
            "colorscale": [
             [
              0,
              "#0d0887"
             ],
             [
              0.1111111111111111,
              "#46039f"
             ],
             [
              0.2222222222222222,
              "#7201a8"
             ],
             [
              0.3333333333333333,
              "#9c179e"
             ],
             [
              0.4444444444444444,
              "#bd3786"
             ],
             [
              0.5555555555555556,
              "#d8576b"
             ],
             [
              0.6666666666666666,
              "#ed7953"
             ],
             [
              0.7777777777777778,
              "#fb9f3a"
             ],
             [
              0.8888888888888888,
              "#fdca26"
             ],
             [
              1,
              "#f0f921"
             ]
            ],
            "type": "histogram2dcontour"
           }
          ],
          "mesh3d": [
           {
            "colorbar": {
             "outlinewidth": 0,
             "ticks": ""
            },
            "type": "mesh3d"
           }
          ],
          "parcoords": [
           {
            "line": {
             "colorbar": {
              "outlinewidth": 0,
              "ticks": ""
             }
            },
            "type": "parcoords"
           }
          ],
          "pie": [
           {
            "automargin": true,
            "type": "pie"
           }
          ],
          "scatter": [
           {
            "fillpattern": {
             "fillmode": "overlay",
             "size": 10,
             "solidity": 0.2
            },
            "type": "scatter"
           }
          ],
          "scatter3d": [
           {
            "line": {
             "colorbar": {
              "outlinewidth": 0,
              "ticks": ""
             }
            },
            "marker": {
             "colorbar": {
              "outlinewidth": 0,
              "ticks": ""
             }
            },
            "type": "scatter3d"
           }
          ],
          "scattercarpet": [
           {
            "marker": {
             "colorbar": {
              "outlinewidth": 0,
              "ticks": ""
             }
            },
            "type": "scattercarpet"
           }
          ],
          "scattergeo": [
           {
            "marker": {
             "colorbar": {
              "outlinewidth": 0,
              "ticks": ""
             }
            },
            "type": "scattergeo"
           }
          ],
          "scattergl": [
           {
            "marker": {
             "colorbar": {
              "outlinewidth": 0,
              "ticks": ""
             }
            },
            "type": "scattergl"
           }
          ],
          "scattermapbox": [
           {
            "marker": {
             "colorbar": {
              "outlinewidth": 0,
              "ticks": ""
             }
            },
            "type": "scattermapbox"
           }
          ],
          "scatterpolar": [
           {
            "marker": {
             "colorbar": {
              "outlinewidth": 0,
              "ticks": ""
             }
            },
            "type": "scatterpolar"
           }
          ],
          "scatterpolargl": [
           {
            "marker": {
             "colorbar": {
              "outlinewidth": 0,
              "ticks": ""
             }
            },
            "type": "scatterpolargl"
           }
          ],
          "scatterternary": [
           {
            "marker": {
             "colorbar": {
              "outlinewidth": 0,
              "ticks": ""
             }
            },
            "type": "scatterternary"
           }
          ],
          "surface": [
           {
            "colorbar": {
             "outlinewidth": 0,
             "ticks": ""
            },
            "colorscale": [
             [
              0,
              "#0d0887"
             ],
             [
              0.1111111111111111,
              "#46039f"
             ],
             [
              0.2222222222222222,
              "#7201a8"
             ],
             [
              0.3333333333333333,
              "#9c179e"
             ],
             [
              0.4444444444444444,
              "#bd3786"
             ],
             [
              0.5555555555555556,
              "#d8576b"
             ],
             [
              0.6666666666666666,
              "#ed7953"
             ],
             [
              0.7777777777777778,
              "#fb9f3a"
             ],
             [
              0.8888888888888888,
              "#fdca26"
             ],
             [
              1,
              "#f0f921"
             ]
            ],
            "type": "surface"
           }
          ],
          "table": [
           {
            "cells": {
             "fill": {
              "color": "#EBF0F8"
             },
             "line": {
              "color": "white"
             }
            },
            "header": {
             "fill": {
              "color": "#C8D4E3"
             },
             "line": {
              "color": "white"
             }
            },
            "type": "table"
           }
          ]
         },
         "layout": {
          "annotationdefaults": {
           "arrowcolor": "#2a3f5f",
           "arrowhead": 0,
           "arrowwidth": 1
          },
          "autotypenumbers": "strict",
          "coloraxis": {
           "colorbar": {
            "outlinewidth": 0,
            "ticks": ""
           }
          },
          "colorscale": {
           "diverging": [
            [
             0,
             "#8e0152"
            ],
            [
             0.1,
             "#c51b7d"
            ],
            [
             0.2,
             "#de77ae"
            ],
            [
             0.3,
             "#f1b6da"
            ],
            [
             0.4,
             "#fde0ef"
            ],
            [
             0.5,
             "#f7f7f7"
            ],
            [
             0.6,
             "#e6f5d0"
            ],
            [
             0.7,
             "#b8e186"
            ],
            [
             0.8,
             "#7fbc41"
            ],
            [
             0.9,
             "#4d9221"
            ],
            [
             1,
             "#276419"
            ]
           ],
           "sequential": [
            [
             0,
             "#0d0887"
            ],
            [
             0.1111111111111111,
             "#46039f"
            ],
            [
             0.2222222222222222,
             "#7201a8"
            ],
            [
             0.3333333333333333,
             "#9c179e"
            ],
            [
             0.4444444444444444,
             "#bd3786"
            ],
            [
             0.5555555555555556,
             "#d8576b"
            ],
            [
             0.6666666666666666,
             "#ed7953"
            ],
            [
             0.7777777777777778,
             "#fb9f3a"
            ],
            [
             0.8888888888888888,
             "#fdca26"
            ],
            [
             1,
             "#f0f921"
            ]
           ],
           "sequentialminus": [
            [
             0,
             "#0d0887"
            ],
            [
             0.1111111111111111,
             "#46039f"
            ],
            [
             0.2222222222222222,
             "#7201a8"
            ],
            [
             0.3333333333333333,
             "#9c179e"
            ],
            [
             0.4444444444444444,
             "#bd3786"
            ],
            [
             0.5555555555555556,
             "#d8576b"
            ],
            [
             0.6666666666666666,
             "#ed7953"
            ],
            [
             0.7777777777777778,
             "#fb9f3a"
            ],
            [
             0.8888888888888888,
             "#fdca26"
            ],
            [
             1,
             "#f0f921"
            ]
           ]
          },
          "colorway": [
           "#636efa",
           "#EF553B",
           "#00cc96",
           "#ab63fa",
           "#FFA15A",
           "#19d3f3",
           "#FF6692",
           "#B6E880",
           "#FF97FF",
           "#FECB52"
          ],
          "font": {
           "color": "#2a3f5f"
          },
          "geo": {
           "bgcolor": "white",
           "lakecolor": "white",
           "landcolor": "#E5ECF6",
           "showlakes": true,
           "showland": true,
           "subunitcolor": "white"
          },
          "hoverlabel": {
           "align": "left"
          },
          "hovermode": "closest",
          "mapbox": {
           "style": "light"
          },
          "paper_bgcolor": "white",
          "plot_bgcolor": "#E5ECF6",
          "polar": {
           "angularaxis": {
            "gridcolor": "white",
            "linecolor": "white",
            "ticks": ""
           },
           "bgcolor": "#E5ECF6",
           "radialaxis": {
            "gridcolor": "white",
            "linecolor": "white",
            "ticks": ""
           }
          },
          "scene": {
           "xaxis": {
            "backgroundcolor": "#E5ECF6",
            "gridcolor": "white",
            "gridwidth": 2,
            "linecolor": "white",
            "showbackground": true,
            "ticks": "",
            "zerolinecolor": "white"
           },
           "yaxis": {
            "backgroundcolor": "#E5ECF6",
            "gridcolor": "white",
            "gridwidth": 2,
            "linecolor": "white",
            "showbackground": true,
            "ticks": "",
            "zerolinecolor": "white"
           },
           "zaxis": {
            "backgroundcolor": "#E5ECF6",
            "gridcolor": "white",
            "gridwidth": 2,
            "linecolor": "white",
            "showbackground": true,
            "ticks": "",
            "zerolinecolor": "white"
           }
          },
          "shapedefaults": {
           "line": {
            "color": "#2a3f5f"
           }
          },
          "ternary": {
           "aaxis": {
            "gridcolor": "white",
            "linecolor": "white",
            "ticks": ""
           },
           "baxis": {
            "gridcolor": "white",
            "linecolor": "white",
            "ticks": ""
           },
           "bgcolor": "#E5ECF6",
           "caxis": {
            "gridcolor": "white",
            "linecolor": "white",
            "ticks": ""
           }
          },
          "title": {
           "x": 0.05
          },
          "xaxis": {
           "automargin": true,
           "gridcolor": "white",
           "linecolor": "white",
           "ticks": "",
           "title": {
            "standoff": 15
           },
           "zerolinecolor": "white",
           "zerolinewidth": 2
          },
          "yaxis": {
           "automargin": true,
           "gridcolor": "white",
           "linecolor": "white",
           "ticks": "",
           "title": {
            "standoff": 15
           },
           "zerolinecolor": "white",
           "zerolinewidth": 2
          }
         }
        },
        "title": {
         "text": "Embedded Answers/Solutions using the Embedding Model: text-embedding-ada-002"
        },
        "xaxis": {
         "title": {
          "text": "X"
         }
        },
        "yaxis": {
         "title": {
          "text": "Y"
         }
        }
       }
      }
     },
     "metadata": {},
     "output_type": "display_data"
    }
   ],
   "source": [
    "x = [x for x, y in reduced_dims]\n",
    "y = [y for x, y in reduced_dims]\n",
    "\n",
    "examples = df_visio_ada_002[\"Answers\"].tolist()\n",
    "\n",
    "fig = go.Figure()\n",
    "\n",
    "fig.add_trace(go.Scatter(\n",
    "    x=x,\n",
    "    y=y,\n",
    "    mode='markers',\n",
    "    text = examples,\n",
    "    marker=dict(color='blue', opacity=0.3)\n",
    "))\n",
    "\n",
    "fig.update_layout(\n",
    "    title=\"Embedded Answers/Solutions using the Embedding Model: text-embedding-ada-002\",\n",
    "    xaxis_title=\"X\",\n",
    "    yaxis_title=\"Y\"\n",
    ")\n",
    "\n",
    "fig.show()"
   ]
  },
  {
   "cell_type": "markdown",
   "metadata": {},
   "source": [
    "## Visualisation: text-embedding-3-small"
   ]
  },
  {
   "cell_type": "markdown",
   "metadata": {},
   "source": [
    "### Data Preperation"
   ]
  },
  {
   "cell_type": "code",
   "execution_count": 504,
   "metadata": {},
   "outputs": [
    {
     "data": {
      "text/html": [
       "<div>\n",
       "<style scoped>\n",
       "    .dataframe tbody tr th:only-of-type {\n",
       "        vertical-align: middle;\n",
       "    }\n",
       "\n",
       "    .dataframe tbody tr th {\n",
       "        vertical-align: top;\n",
       "    }\n",
       "\n",
       "    .dataframe thead th {\n",
       "        text-align: right;\n",
       "    }\n",
       "</style>\n",
       "<table border=\"1\" class=\"dataframe\">\n",
       "  <thead>\n",
       "    <tr style=\"text-align: right;\">\n",
       "      <th></th>\n",
       "      <th>Answers</th>\n",
       "      <th>Embeddings</th>\n",
       "    </tr>\n",
       "  </thead>\n",
       "  <tbody>\n",
       "    <tr>\n",
       "      <th>0</th>\n",
       "      <td>SAP S/4HANA ist eine Enterprise Resource Plann...</td>\n",
       "      <td>[-0.06468543410301208, 0.008432664908468723, 0...</td>\n",
       "    </tr>\n",
       "    <tr>\n",
       "      <th>1</th>\n",
       "      <td>Zu den Vorteilen von SAP S/4HANA gehören eine ...</td>\n",
       "      <td>[-0.015268453396856785, 0.026090648025274277, ...</td>\n",
       "    </tr>\n",
       "    <tr>\n",
       "      <th>2</th>\n",
       "      <td>Die Hauptunterschiede umfassen die In-Memory-D...</td>\n",
       "      <td>[-0.019829710945487022, 0.01941532827913761, 0...</td>\n",
       "    </tr>\n",
       "    <tr>\n",
       "      <th>3</th>\n",
       "      <td>SAP S/4HANA umfasst Module für Finanzen, Besch...</td>\n",
       "      <td>[-0.06687304377555847, 0.022782111540436745, 0...</td>\n",
       "    </tr>\n",
       "    <tr>\n",
       "      <th>4</th>\n",
       "      <td>Ja, eine Migration ist erforderlich, da SAP S/...</td>\n",
       "      <td>[-0.02673247642815113, 0.040786463767290115, 0...</td>\n",
       "    </tr>\n",
       "    <tr>\n",
       "      <th>...</th>\n",
       "      <td>...</td>\n",
       "      <td>...</td>\n",
       "    </tr>\n",
       "    <tr>\n",
       "      <th>95</th>\n",
       "      <td>SAP bietet Schulungsressourcen, Schulungen und...</td>\n",
       "      <td>[-0.04438437893986702, 0.023657530546188354, 0...</td>\n",
       "    </tr>\n",
       "    <tr>\n",
       "      <th>96</th>\n",
       "      <td>Ja, SAP SuccessFactors ist eine cloudbasierte ...</td>\n",
       "      <td>[-0.06858152896165848, 0.010437645949423313, 0...</td>\n",
       "    </tr>\n",
       "    <tr>\n",
       "      <th>97</th>\n",
       "      <td>Die Lizenzierung von SAP SuccessFactors erfolg...</td>\n",
       "      <td>[-0.03319000452756882, 0.037801411002874374, 0...</td>\n",
       "    </tr>\n",
       "    <tr>\n",
       "      <th>98</th>\n",
       "      <td>Ja, SAP SuccessFactors bietet Funktionen für d...</td>\n",
       "      <td>[-0.059949032962322235, 0.029077425599098206, ...</td>\n",
       "    </tr>\n",
       "    <tr>\n",
       "      <th>99</th>\n",
       "      <td>SAP bietet umfassenden Support und regelmäßige...</td>\n",
       "      <td>[-0.042063962668180466, 0.023073727265000343, ...</td>\n",
       "    </tr>\n",
       "  </tbody>\n",
       "</table>\n",
       "<p>100 rows × 2 columns</p>\n",
       "</div>"
      ],
      "text/plain": [
       "                                              Answers  \\\n",
       "0   SAP S/4HANA ist eine Enterprise Resource Plann...   \n",
       "1   Zu den Vorteilen von SAP S/4HANA gehören eine ...   \n",
       "2   Die Hauptunterschiede umfassen die In-Memory-D...   \n",
       "3   SAP S/4HANA umfasst Module für Finanzen, Besch...   \n",
       "4   Ja, eine Migration ist erforderlich, da SAP S/...   \n",
       "..                                                ...   \n",
       "95  SAP bietet Schulungsressourcen, Schulungen und...   \n",
       "96  Ja, SAP SuccessFactors ist eine cloudbasierte ...   \n",
       "97  Die Lizenzierung von SAP SuccessFactors erfolg...   \n",
       "98  Ja, SAP SuccessFactors bietet Funktionen für d...   \n",
       "99  SAP bietet umfassenden Support und regelmäßige...   \n",
       "\n",
       "                                           Embeddings  \n",
       "0   [-0.06468543410301208, 0.008432664908468723, 0...  \n",
       "1   [-0.015268453396856785, 0.026090648025274277, ...  \n",
       "2   [-0.019829710945487022, 0.01941532827913761, 0...  \n",
       "3   [-0.06687304377555847, 0.022782111540436745, 0...  \n",
       "4   [-0.02673247642815113, 0.040786463767290115, 0...  \n",
       "..                                                ...  \n",
       "95  [-0.04438437893986702, 0.023657530546188354, 0...  \n",
       "96  [-0.06858152896165848, 0.010437645949423313, 0...  \n",
       "97  [-0.03319000452756882, 0.037801411002874374, 0...  \n",
       "98  [-0.059949032962322235, 0.029077425599098206, ...  \n",
       "99  [-0.042063962668180466, 0.023073727265000343, ...  \n",
       "\n",
       "[100 rows x 2 columns]"
      ]
     },
     "execution_count": 504,
     "metadata": {},
     "output_type": "execute_result"
    }
   ],
   "source": [
    "df_visio_3_small = pd.DataFrame(columns=['Answers', 'Embeddings'])\n",
    "df_visio_3_small[\"Answers\"] = df_modified_question_results[\"Antwort (original)\"]\n",
    "df_visio_3_small[\"Embeddings\"] = df_modified_question_results[\"Answer Embeddings: text-embedding-3-small\"]\n",
    "\n",
    "df_visio_3_small"
   ]
  },
  {
   "cell_type": "markdown",
   "metadata": {},
   "source": [
    "### Dimensionality reduction using t-SNE (PCA alternative)"
   ]
  },
  {
   "cell_type": "code",
   "execution_count": 505,
   "metadata": {},
   "outputs": [
    {
     "data": {
      "text/plain": [
       "(100, 2)"
      ]
     },
     "execution_count": 505,
     "metadata": {},
     "output_type": "execute_result"
    }
   ],
   "source": [
    "import pandas as pd\n",
    "from sklearn.manifold import TSNE\n",
    "import numpy as np\n",
    "from ast import literal_eval\n",
    "import plotly.graph_objs as go\n",
    "import numpy as np\n",
    "\n",
    "matrix = np.array(df_visio_3_small[\"Embeddings\"].apply(literal_eval).to_list())\n",
    "\n",
    "tsne = TSNE(n_components=2, perplexity=15, random_state=42, init='random', learning_rate=200)\n",
    "reduced_dims = tsne.fit_transform(matrix)\n",
    "reduced_dims.shape"
   ]
  },
  {
   "cell_type": "markdown",
   "metadata": {},
   "source": [
    "### Visualisation (2 Dimensions)"
   ]
  },
  {
   "cell_type": "code",
   "execution_count": 506,
   "metadata": {},
   "outputs": [
    {
     "data": {
      "application/vnd.plotly.v1+json": {
       "config": {
        "plotlyServerURL": "https://plot.ly"
       },
       "data": [
        {
         "marker": {
          "color": "blue",
          "opacity": 0.3
         },
         "mode": "markers",
         "text": [
          "SAP S/4HANA ist eine Enterprise Resource Planning (ERP)-Suite, die auf der In-Memory-Datenbanktechnologie von SAP HANA basiert.",
          "Zu den Vorteilen von SAP S/4HANA gehören eine verbesserte Performance, Echtzeitanalysen, vereinfachte Prozesse und eine modernere Benutzeroberfläche.",
          "Die Hauptunterschiede umfassen die In-Memory-Datenbanktechnologie, die vereinfachten Datenmodelle, die neue Benutzeroberfläche und die Integration von Analysen und Prognosen.",
          "SAP S/4HANA umfasst Module für Finanzen, Beschaffung, Produktion, Vertrieb, Lagerhaltung und mehr.",
          "Ja, eine Migration ist erforderlich, da SAP S/4HANA eine neue Architektur und Datenbanktechnologie verwendet.",
          "Die Dauer kann je nach Unternehmensgröße, Komplexität der Systeme und gewählter Migrationsmethode variieren.",
          "In-Memory-Technologien ermöglichen eine schnellere Datenverarbeitung und Echtzeitanalysen.",
          "Beide Optionen sind möglich, und die Entscheidung hängt von den Unternehmensanforderungen ab.",
          "Die Lizenzierung basiert auf verschiedenen Faktoren wie Nutzeranzahl, Funktionsumfang und Implementierungsmethode.",
          "Bestehende Entwicklungen müssen möglicherweise angepasst werden, um mit den neuen Datenstrukturen von SAP S/4HANA kompatibel zu sein.",
          "Einige können weiterverwendet werden, aber viele Anpassungen müssen möglicherweise aktualisiert oder neu entwickelt werden.",
          "Ja, SAP S/4HANA bietet Funktionen wie SAP Fiori für intuitive Benutzeroberflächen und integrierte Analytics.",
          "SAP bietet verschiedene Dienstleistungen wie Beratung, Schulungen und Support für S/4HANA-Implementierungen an.",
          "Machine Learning und künstliche Intelligenz werden für Funktionen wie Predictive Analytics und automatisierte Prozesse in SAP S/4HANA verwendet.",
          "SAP S/4HANA kann nahtlos mit anderen SAP-Lösungen wie SAP SuccessFactors und SAP Ariba integriert werden.",
          "Ja, SAP bietet Schulungen und Zertifizierungen für SAP S/4HANA an.",
          "Ja, SAP S/4HANA kann über APIs und Middleware mit Drittanbieteranwendungen integriert werden.",
          "SAP bietet einen umfassenden Support für SAP S/4HANA mit regelmäßigen Updates und technischem Support.",
          "SAP S/4HANA erfordert eine neue Datenbankarchitektur und unterstützt moderne Technologien wie Cloud-Computing und IoT.",
          "Branchen wie Fertigung, Handel und Dienstleistungen profitieren besonders von den Funktionen und der Leistung von SAP S/4HANA.",
          "SAP Fieldglass ist eine cloudbasierte Plattform für das Management von externen Arbeitskräften und Dienstleistungsanbietern.",
          "SAP Fieldglass bietet Funktionen wie Beschaffung, Auftragsmanagement, Lieferantenverwaltung, Abrechnung und Compliance-Management.",
          "SAP Fieldglass ist für Unternehmen aller Größen und Branchen geeignet, die externe Arbeitskräfte oder Dienstleistungen nutzen.",
          "Die Nutzung von SAP Fieldglass ermöglicht eine bessere Kontrolle über externe Ressourcen, Kosteneinsparungen, verbesserte Compliance und beschleunigte Beschaffungsprozesse.",
          "SAP Fieldglass kann nahtlos mit anderen SAP-Produkten wie SAP SuccessFactors und SAP ERP integriert werden.",
          "SAP Fieldglass spielt eine wichtige Rolle bei der Verwaltung von Auftragnehmern, Freiberuflern und Dienstleistungsanbietern im Rahmen des Talentmanagements.",
          "Ja, SAP Fieldglass kann mit verschiedenen HR-Systemen und Enterprise-Resource-Planning-Systemen integriert werden.",
          "SAP Fieldglass erleichtert die Verwaltung von Arbeitsverträgen, Genehmigungsprozessen und Compliance-Anforderungen durch automatisierte Workflows und Dashboards.",
          "Ja, SAP Fieldglass bietet Funktionen für Compliance- und Risikomanagement wie Überprüfung von Lieferanten, Vertrags- und Rechnungsprüfung sowie Risikobewertung.",
          "SAP Fieldglass bietet umfassende Berichterstattungs- und Analysefunktionen für Leistungskennzahlen, Ausgabenanalyse und Risikomanagement.",
          "Ja, SAP Fieldglass ermöglicht die effiziente Verwaltung von globalen Arbeitskräften, Lieferanten und Verträgen.",
          "Die Implementierung von SAP Fieldglass erfolgt typischerweise durch einen strukturierten Prozess unter Einbeziehung von Beratern und technischem Support.",
          "Ja, SAP bietet Schulungs- und Zertifizierungsmöglichkeiten für SAP Fieldglass an, um die Benutzerkompetenz zu verbessern.",
          "Ja, SAP Fieldglass unterstützt benutzerdefinierte Anpassungen und Konfigurationen gemäß den spezifischen Anforderungen des Unternehmens.",
          "Ja, SAP Fieldglass bietet mobile Anwendungen für die einfache Nutzung und Verwaltung auch unterwegs.",
          "Die Kostenstruktur für SAP Fieldglass umfasst typischerweise Lizenzgebühren, Implementierungskosten und laufende Servicegebühren basierend auf der Nutzung.",
          "SAP Fieldglass implementiert Sicherheitsmaßnahmen wie Datenverschlüsselung, Zugriffskontrollen und regelmäßige Sicherheitsaudits.",
          "Ja, SAP Fieldglass unterstützt mehrsprachige Benutzeroberflächen, um den globalen Einsatz zu erleichtern.",
          "Ja, SAP Fieldglass bietet Funktionen zur Unterstützung der Einhaltung von Vorschriften wie GDPR und andere Datenschutzbestimmungen.",
          "SAP Fieldglass bietet umfassenden Support, einschließlich technischem Support, Schulungen und regelmäßigen Updates.",
          "SAP Enable Now ist eine Lösung für das digitale Lern- und Wissensmanagement, die Schulungen, Leistungssupport und Dokumentationen bereitstellt.",
          "SAP Enable Now bietet Funktionen wie die Erstellung interaktiver Lerninhalte, Leistungssupporttools, Software-Dokumentationen und Schulungsanalyse.",
          "SAP Enable Now ist für Unternehmen jeder Größe und Branche geeignet, die Schulungen für Mitarbeiter, Kunden und Partner benötigen.",
          "Die Nutzung von SAP Enable Now ermöglicht eine effiziente Schulung, verbesserte Produktivität, schnellere Einarbeitung neuer Mitarbeiter und konsistente Wissensvermittlung.",
          "SAP Enable Now kann nahtlos mit anderen SAP-Produkten wie SAP SuccessFactors und SAP Learning Solution integriert werden.",
          "SAP Enable Now spielt eine wichtige Rolle bei der Erstellung, Bereitstellung und Verwaltung von Schulungsressourcen für Mitarbeiter und Kunden.",
          "Ja, SAP Enable Now kann für die Schulung von Endbenutzern in SAP-Anwendungen sowie anderen Unternehmensanwendungen verwendet werden.",
          "Die Erstellung von Lerninhalten in SAP Enable Now erfolgt über eine benutzerfreundliche Oberfläche mit integrierten Tools für die Aufnahme, Bearbeitung und Veröffentlichung von Schulungsinhalten.",
          "Ja, SAP Enable Now bietet Funktionen für das Performance-Support wie kontextbezogene Hilfen, Tutorials und Benutzerleitfäden.",
          "SAP Enable Now unterstützt Schulungsformate wie interaktive Simulationen, Videos, Präsentationen und Online-Kurse.",
          "Ja, SAP Enable Now ermöglicht die Erstellung von Schulungsmaterial in verschiedenen Sprachen für globale Schulungsinitiativen.",
          "Die Bereitstellung von Lerninhalten für Benutzer erfolgt über verschiedene Kanäle wie Lernportale, Intranets und mobile Anwendungen.",
          "Ja, SAP Enable Now bietet Funktionen für Benutzerfeedback und Leistungsanalyse zur kontinuierlichen Verbesserung der Schulungsressourcen.",
          "Ja, SAP Enable Now kann zur Erstellung von Software-Dokumentationen wie Benutzerhandbüchern, Hilfedateien und Prozessdokumentationen verwendet werden.",
          "SAP bietet Schulungsressourcen, Schulungen und technischen Support für die Implementierung und Nutzung von SAP Enable Now an.",
          "Ja, SAP Enable Now kann sowohl als cloudbasierte Lösung als auch als On-Premise-Installation bereitgestellt werden.",
          "Die Lizenzierung von SAP Enable Now erfolgt typischerweise auf Basis der Anzahl der Benutzer oder der Nutzungsdauer.",
          "Ja, SAP Enable Now bietet Funktionen für die Verwaltung von Lernressourcen, Benutzerzugriff und Schulungsplanung an.",
          "Ja, SAP Enable Now unterstützt die Integration mit gängigen Learning-Management-Systemen (LMS) zur nahtlosen Schulungsverwaltung.",
          "SAP bietet umfassenden Support und regelmäßige Wartung für SAP Enable Now, einschließlich technischem Support, Schulungen und Updates.",
          "SAP Concur ist eine cloudbasierte Lösung für das Reise- und Ausgabenmanagement, die Unternehmen dabei unterstützt, Reisekosten zu verfolgen, Ausgaben zu kontrollieren und Compliance sicherzustellen.",
          "SAP Concur bietet Dienste wie Reisebuchung, Spesenabrechnung, Ausgabenmanagement, Reiserichtlinien-Compliance und Analyse von Reiseausgaben an.",
          "SAP Concur ist für Unternehmen jeder Größe und Branche geeignet, die Reise- und Ausgabenmanagementlösungen benötigen.",
          "Die Nutzung von SAP Concur ermöglicht eine effizientere Verwaltung von Reisen und Ausgaben, bessere Kontrolle über Ausgaben, Einhaltung von Reiserichtlinien und schnellere Erstattung von Spesen.",
          "SAP Concur kann nahtlos mit anderen SAP-Produkten wie SAP ERP und SAP SuccessFactors integriert werden, um eine ganzheitliche Lösung für das Unternehmensmanagement zu bieten.",
          "SAP Concur spielt eine wichtige Rolle bei der Vereinfachung und Automatisierung von Prozessen rund um das Reise- und Ausgabenmanagement, einschließlich Reisebuchungen, Spesenabrechnungen und Compliance.",
          "Ja, SAP Concur kann Reiserichtlinien und Compliance-Regeln durch automatisierte Richtlinienprüfungen und Warnungen durchsetzen.",
          "Ja, SAP Concur bietet Funktionen für die Automatisierung von Ausgabenabrechnungen durch Erfassung von Ausgaben, Zuweisung von Kosten und Genehmigung von Ausgaben.",
          "Ja, SAP Concur unterstützt die Verwaltung von Reisebuchungen und Reiseplänen durch Integration mit Reiseanbietern und -plattformen.",
          "Die Einreichung von Spesenberichten in SAP Concur erfolgt über eine benutzerfreundliche Oberfläche mit Optionen für die Erfassung von Ausgaben, Beifügen von Belegen und Zuordnung von Kosten.",
          "Ja, SAP Concur bietet Funktionen für die Genehmigung von Reiseanträgen durch Vorgesetzte oder entsprechende Genehmigungsinstanzen.",
          "Ja, SAP Concur kann Kreditkartentransaktionen integrieren und verfolgen, um Ausgaben automatisch zu erfassen und in Spesenberichte einzubeziehen.",
          "SAP Concur bietet verschiedene Berichterstattungs- und Analysefunktionen für Reiseausgaben, Budgetvergleiche und Ausgabenkategorien.",
          "Ja, SAP Concur bietet Funktionen für die Einhaltung von Steuervorschriften und Vorschriften durch automatische Steuerberechnungen und -abzüge.",
          "Ja, SAP Concur kann für die Verwaltung von Firmenkarten und Reisebudgets verwendet werden, um Ausgaben zu überwachen und Budgets einzuhalten.",
          "SAP bietet Schulungsressourcen, Schulungen und technischen Support für die Implementierung und Nutzung von SAP Concur an.",
          "Ja, SAP Concur ist eine cloudbasierte Lösung, die über das Internet zugänglich ist.",
          "Die Lizenzierung von SAP Concur erfolgt typischerweise auf Basis der Anzahl der Benutzer oder der Nutzungsdauer.",
          "Ja, SAP Concur bietet Funktionen für die Reisebuchung und -planung über Integration mit Reiseanbietern und -plattformen an.",
          "SAP bietet umfassenden Support und regelmäßige Wartung für SAP Concur, einschließlich technischem Support, Schulungen und Updates.",
          "SAP SuccessFactors ist eine cloudbasierte Lösung für das Human Capital Management (HCM), die Funktionen wie Personalverwaltung, Talentmanagement, Leistungsmanagement, Mitarbeiterentwicklung und Analyse bietet.",
          "SAP SuccessFactors bietet Funktionen wie Personalverwaltung, Rekrutierung, Onboarding, Leistungsmanagement, Mitarbeiterentwicklung, Vergütungsmanagement und Analyse.",
          "SAP SuccessFactors ist für Unternehmen jeder Größe und Branche geeignet, die eine moderne und umfassende Lösung für das Personalmanagement suchen.",
          "Die Nutzung von SAP SuccessFactors ermöglicht eine effiziente Verwaltung von Personalressourcen, bessere Mitarbeiterentwicklung, höhere Mitarbeiterbindung und bessere Geschäftsergebnisse.",
          "SAP SuccessFactors kann nahtlos mit anderen SAP-Produkten wie SAP ERP und SAP Concur integriert werden, um eine ganzheitliche Lösung für das Unternehmensmanagement zu bieten.",
          "SAP SuccessFactors spielt eine wichtige Rolle bei der Verwaltung des gesamten Mitarbeiterlebenszyklus, von der Rekrutierung bis zur Pensionierung, und unterstützt Unternehmen dabei, talentierte Mitarbeiter zu identifizieren, zu entwickeln und zu binden.",
          "Ja, SAP SuccessFactors bietet Funktionen für die Rekrutierung von Mitarbeitern, einschließlich Stellenanzeigen, Bewerbungsmanagement und Einstellungsprozessen.",
          "Ja, SAP SuccessFactors bietet Funktionen für das Leistungsmanagement, einschließlich Zielsetzung, Leistungsbeurteilung und Belohnungsmanagement.",
          "Ja, SAP SuccessFactors unterstützt die Mitarbeiterentwicklung und Schulung durch Funktionen wie Lernmanagement, Karriereentwicklung und individuelle Entwicklungspläne.",
          "Die Durchführung von Mitarbeiterbewertungen in SAP SuccessFactors erfolgt durch automatisierte Workflows, Zielsetzungsgespräche und kontinuierliches Feedback zwischen Mitarbeitern und Vorgesetzten.",
          "Ja, SAP SuccessFactors bietet Funktionen für die Verwaltung von Vergütungen und Belohnungen, einschließlich Gehaltsabrechnung, Bonussystemen und Zusatzleistungen.",
          "Ja, SAP SuccessFactors kann die Einhaltung von Compliance- und HR-Richtlinien durch automatisierte Prozesse, Compliance-Prüfungen und Berichterstattung unterstützen.",
          "SAP SuccessFactors bietet verschiedene Berichterstattungs- und Analysefunktionen für Personalanalysen, Leistungskennzahlen und Talentmanagement.",
          "Ja, SAP SuccessFactors bietet Funktionen für das Mitarbeiterengagement und die Mitarbeiterbindung, einschließlich Mitarbeiterumfragen, Feedbacksystemen und Anerkennungsprogrammen.",
          "Ja, SAP SuccessFactors kann für die Nachfolgeplanung und Talententwicklung verwendet werden, um talentierte Mitarbeiter zu identifizieren und deren Entwicklung zu fördern.",
          "SAP bietet Schulungsressourcen, Schulungen und technischen Support für die Implementierung und Nutzung von SAP SuccessFactors an.",
          "Ja, SAP SuccessFactors ist eine cloudbasierte Lösung, die über das Internet zugänglich ist.",
          "Die Lizenzierung von SAP SuccessFactors erfolgt typischerweise auf Basis der Anzahl der Benutzer oder der Nutzungsdauer.",
          "Ja, SAP SuccessFactors bietet Funktionen für die Arbeitszeitverwaltung und -planung, einschließlich Schichtplanung, Urlaubsverwaltung und Zeiterfassung.",
          "SAP bietet umfassenden Support und regelmäßige Wartung für SAP SuccessFactors, einschließlich technischem Support, Schulungen und Updates."
         ],
         "type": "scatter",
         "x": [
          17.708175659179688,
          45.93244934082031,
          12.855774879455566,
          30.601015090942383,
          34.25676345825195,
          93.71611785888672,
          5.219442844390869,
          98.15057373046875,
          -37.839168548583984,
          46.11106491088867,
          57.19289016723633,
          44.796817779541016,
          31.788162231445312,
          59.938663482666016,
          17.750537872314453,
          43.769508361816406,
          29.79450798034668,
          26.159379959106445,
          26.429475784301758,
          46.544219970703125,
          -143.14012145996094,
          -130.398193359375,
          -142.3139190673828,
          -117.83206939697266,
          -90.35028076171875,
          -131.29600524902344,
          -101.1201400756836,
          -131.54896545410156,
          -130.8255615234375,
          -145.1890411376953,
          -116.38468170166016,
          -81.44664001464844,
          -93.32636260986328,
          -97.72213745117188,
          -119.66928100585938,
          -67.95500946044922,
          -111.6570816040039,
          -101.95616149902344,
          -117.88338470458984,
          -79.52071380615234,
          -357.9652404785156,
          10.664751052856445,
          50.56319808959961,
          25.056690216064453,
          -0.9979992508888245,
          50.566627502441406,
          39.000308990478516,
          17.469032287597656,
          68.90169525146484,
          12.568913459777832,
          28.26946449279785,
          14.78562068939209,
          58.035606384277344,
          -7.825064659118652,
          27.189390182495117,
          99.6642837524414,
          -34.1352424621582,
          44.1986083984375,
          34.976009368896484,
          25.19194984436035,
          -59.779788970947266,
          -73.37377166748047,
          -57.026546478271484,
          -80.62491607666016,
          -22.82987403869629,
          -67.28890991210938,
          -108.2421875,
          -100.94879913330078,
          -73.30570983886719,
          -97.59677124023438,
          -90.32868957519531,
          -107.26881408691406,
          -79.6781234741211,
          -109.8445053100586,
          -93.10940551757812,
          -4.349726676940918,
          120.69428253173828,
          -27.058591842651367,
          -66.20687103271484,
          4.619930267333984,
          95.31935119628906,
          93.54331970214844,
          65.31092834472656,
          78.92753601074219,
          -12.67400074005127,
          81.70098114013672,
          94.05762481689453,
          95.29078674316406,
          72.24542999267578,
          110.76508331298828,
          80.82759094238281,
          -109.45337677001953,
          105.89533996582031,
          94.78966522216797,
          77.8454818725586,
          34.96745681762695,
          113.67595672607422,
          -38.175968170166016,
          116.11298370361328,
          25.718952178955078
         ],
         "y": [
          -98.28734588623047,
          -85.18170928955078,
          -148.0863037109375,
          -93.54728698730469,
          -123.97589111328125,
          -119.37657165527344,
          -153.6996612548828,
          -110.71187591552734,
          9.538379669189453,
          -128.9162139892578,
          -138.63233947753906,
          -74.09996795654297,
          -44.6528434753418,
          -70.85462951660156,
          -77.88442993164062,
          -47.393470764160156,
          -70.38111877441406,
          -33.41597366333008,
          -113.73976135253906,
          -100.44745635986328,
          86.9675064086914,
          62.16206741333008,
          98.82963562011719,
          73.6795883178711,
          88.9087905883789,
          90.20296478271484,
          85.42698669433594,
          75.28775024414062,
          48.18033981323242,
          59.74163818359375,
          91.19530487060547,
          71.28973388671875,
          46.903900146484375,
          67.55533599853516,
          109.78665924072266,
          78.32301330566406,
          53.95772933959961,
          105.08845520019531,
          41.99320983886719,
          51.97586441040039,
          -966.167236328125,
          69.73104858398438,
          56.33916091918945,
          55.177608489990234,
          37.71373748779297,
          98.22068786621094,
          66.91128540039062,
          98.52848815917969,
          85.16719818115234,
          82.37432861328125,
          75.9095458984375,
          113.3404769897461,
          75.3362808227539,
          77.65775299072266,
          41.462013244628906,
          -63.31319808959961,
          -15.11943531036377,
          80.42495727539062,
          90.08869934082031,
          28.89608383178711,
          -69.68009948730469,
          -74.26322174072266,
          -83.24160766601562,
          -61.921409606933594,
          -64.79988098144531,
          -60.6034049987793,
          -25.088699340820312,
          -56.8572883605957,
          -38.03759765625,
          -87.42141723632812,
          -42.941864013671875,
          -69.97069549560547,
          -86.1981430053711,
          -47.28106689453125,
          -69.14351654052734,
          -27.00172233581543,
          -63.311641693115234,
          -4.917025089263916,
          -31.84025764465332,
          -20.994853973388672,
          -16.371570587158203,
          -4.412718772888184,
          -17.816194534301758,
          -8.209576606750488,
          -63.5959587097168,
          -21.716270446777344,
          9.201268196105957,
          24.813661575317383,
          35.071311950683594,
          44.7553825378418,
          10.551773071289062,
          -12.836782455444336,
          -5.6113386154174805,
          37.108482360839844,
          26.08154296875,
          -6.120214462280273,
          -56.526187896728516,
          -4.530342102050781,
          14.926117897033691,
          -14.080190658569336
         ]
        }
       ],
       "layout": {
        "template": {
         "data": {
          "bar": [
           {
            "error_x": {
             "color": "#2a3f5f"
            },
            "error_y": {
             "color": "#2a3f5f"
            },
            "marker": {
             "line": {
              "color": "#E5ECF6",
              "width": 0.5
             },
             "pattern": {
              "fillmode": "overlay",
              "size": 10,
              "solidity": 0.2
             }
            },
            "type": "bar"
           }
          ],
          "barpolar": [
           {
            "marker": {
             "line": {
              "color": "#E5ECF6",
              "width": 0.5
             },
             "pattern": {
              "fillmode": "overlay",
              "size": 10,
              "solidity": 0.2
             }
            },
            "type": "barpolar"
           }
          ],
          "carpet": [
           {
            "aaxis": {
             "endlinecolor": "#2a3f5f",
             "gridcolor": "white",
             "linecolor": "white",
             "minorgridcolor": "white",
             "startlinecolor": "#2a3f5f"
            },
            "baxis": {
             "endlinecolor": "#2a3f5f",
             "gridcolor": "white",
             "linecolor": "white",
             "minorgridcolor": "white",
             "startlinecolor": "#2a3f5f"
            },
            "type": "carpet"
           }
          ],
          "choropleth": [
           {
            "colorbar": {
             "outlinewidth": 0,
             "ticks": ""
            },
            "type": "choropleth"
           }
          ],
          "contour": [
           {
            "colorbar": {
             "outlinewidth": 0,
             "ticks": ""
            },
            "colorscale": [
             [
              0,
              "#0d0887"
             ],
             [
              0.1111111111111111,
              "#46039f"
             ],
             [
              0.2222222222222222,
              "#7201a8"
             ],
             [
              0.3333333333333333,
              "#9c179e"
             ],
             [
              0.4444444444444444,
              "#bd3786"
             ],
             [
              0.5555555555555556,
              "#d8576b"
             ],
             [
              0.6666666666666666,
              "#ed7953"
             ],
             [
              0.7777777777777778,
              "#fb9f3a"
             ],
             [
              0.8888888888888888,
              "#fdca26"
             ],
             [
              1,
              "#f0f921"
             ]
            ],
            "type": "contour"
           }
          ],
          "contourcarpet": [
           {
            "colorbar": {
             "outlinewidth": 0,
             "ticks": ""
            },
            "type": "contourcarpet"
           }
          ],
          "heatmap": [
           {
            "colorbar": {
             "outlinewidth": 0,
             "ticks": ""
            },
            "colorscale": [
             [
              0,
              "#0d0887"
             ],
             [
              0.1111111111111111,
              "#46039f"
             ],
             [
              0.2222222222222222,
              "#7201a8"
             ],
             [
              0.3333333333333333,
              "#9c179e"
             ],
             [
              0.4444444444444444,
              "#bd3786"
             ],
             [
              0.5555555555555556,
              "#d8576b"
             ],
             [
              0.6666666666666666,
              "#ed7953"
             ],
             [
              0.7777777777777778,
              "#fb9f3a"
             ],
             [
              0.8888888888888888,
              "#fdca26"
             ],
             [
              1,
              "#f0f921"
             ]
            ],
            "type": "heatmap"
           }
          ],
          "heatmapgl": [
           {
            "colorbar": {
             "outlinewidth": 0,
             "ticks": ""
            },
            "colorscale": [
             [
              0,
              "#0d0887"
             ],
             [
              0.1111111111111111,
              "#46039f"
             ],
             [
              0.2222222222222222,
              "#7201a8"
             ],
             [
              0.3333333333333333,
              "#9c179e"
             ],
             [
              0.4444444444444444,
              "#bd3786"
             ],
             [
              0.5555555555555556,
              "#d8576b"
             ],
             [
              0.6666666666666666,
              "#ed7953"
             ],
             [
              0.7777777777777778,
              "#fb9f3a"
             ],
             [
              0.8888888888888888,
              "#fdca26"
             ],
             [
              1,
              "#f0f921"
             ]
            ],
            "type": "heatmapgl"
           }
          ],
          "histogram": [
           {
            "marker": {
             "pattern": {
              "fillmode": "overlay",
              "size": 10,
              "solidity": 0.2
             }
            },
            "type": "histogram"
           }
          ],
          "histogram2d": [
           {
            "colorbar": {
             "outlinewidth": 0,
             "ticks": ""
            },
            "colorscale": [
             [
              0,
              "#0d0887"
             ],
             [
              0.1111111111111111,
              "#46039f"
             ],
             [
              0.2222222222222222,
              "#7201a8"
             ],
             [
              0.3333333333333333,
              "#9c179e"
             ],
             [
              0.4444444444444444,
              "#bd3786"
             ],
             [
              0.5555555555555556,
              "#d8576b"
             ],
             [
              0.6666666666666666,
              "#ed7953"
             ],
             [
              0.7777777777777778,
              "#fb9f3a"
             ],
             [
              0.8888888888888888,
              "#fdca26"
             ],
             [
              1,
              "#f0f921"
             ]
            ],
            "type": "histogram2d"
           }
          ],
          "histogram2dcontour": [
           {
            "colorbar": {
             "outlinewidth": 0,
             "ticks": ""
            },
            "colorscale": [
             [
              0,
              "#0d0887"
             ],
             [
              0.1111111111111111,
              "#46039f"
             ],
             [
              0.2222222222222222,
              "#7201a8"
             ],
             [
              0.3333333333333333,
              "#9c179e"
             ],
             [
              0.4444444444444444,
              "#bd3786"
             ],
             [
              0.5555555555555556,
              "#d8576b"
             ],
             [
              0.6666666666666666,
              "#ed7953"
             ],
             [
              0.7777777777777778,
              "#fb9f3a"
             ],
             [
              0.8888888888888888,
              "#fdca26"
             ],
             [
              1,
              "#f0f921"
             ]
            ],
            "type": "histogram2dcontour"
           }
          ],
          "mesh3d": [
           {
            "colorbar": {
             "outlinewidth": 0,
             "ticks": ""
            },
            "type": "mesh3d"
           }
          ],
          "parcoords": [
           {
            "line": {
             "colorbar": {
              "outlinewidth": 0,
              "ticks": ""
             }
            },
            "type": "parcoords"
           }
          ],
          "pie": [
           {
            "automargin": true,
            "type": "pie"
           }
          ],
          "scatter": [
           {
            "fillpattern": {
             "fillmode": "overlay",
             "size": 10,
             "solidity": 0.2
            },
            "type": "scatter"
           }
          ],
          "scatter3d": [
           {
            "line": {
             "colorbar": {
              "outlinewidth": 0,
              "ticks": ""
             }
            },
            "marker": {
             "colorbar": {
              "outlinewidth": 0,
              "ticks": ""
             }
            },
            "type": "scatter3d"
           }
          ],
          "scattercarpet": [
           {
            "marker": {
             "colorbar": {
              "outlinewidth": 0,
              "ticks": ""
             }
            },
            "type": "scattercarpet"
           }
          ],
          "scattergeo": [
           {
            "marker": {
             "colorbar": {
              "outlinewidth": 0,
              "ticks": ""
             }
            },
            "type": "scattergeo"
           }
          ],
          "scattergl": [
           {
            "marker": {
             "colorbar": {
              "outlinewidth": 0,
              "ticks": ""
             }
            },
            "type": "scattergl"
           }
          ],
          "scattermapbox": [
           {
            "marker": {
             "colorbar": {
              "outlinewidth": 0,
              "ticks": ""
             }
            },
            "type": "scattermapbox"
           }
          ],
          "scatterpolar": [
           {
            "marker": {
             "colorbar": {
              "outlinewidth": 0,
              "ticks": ""
             }
            },
            "type": "scatterpolar"
           }
          ],
          "scatterpolargl": [
           {
            "marker": {
             "colorbar": {
              "outlinewidth": 0,
              "ticks": ""
             }
            },
            "type": "scatterpolargl"
           }
          ],
          "scatterternary": [
           {
            "marker": {
             "colorbar": {
              "outlinewidth": 0,
              "ticks": ""
             }
            },
            "type": "scatterternary"
           }
          ],
          "surface": [
           {
            "colorbar": {
             "outlinewidth": 0,
             "ticks": ""
            },
            "colorscale": [
             [
              0,
              "#0d0887"
             ],
             [
              0.1111111111111111,
              "#46039f"
             ],
             [
              0.2222222222222222,
              "#7201a8"
             ],
             [
              0.3333333333333333,
              "#9c179e"
             ],
             [
              0.4444444444444444,
              "#bd3786"
             ],
             [
              0.5555555555555556,
              "#d8576b"
             ],
             [
              0.6666666666666666,
              "#ed7953"
             ],
             [
              0.7777777777777778,
              "#fb9f3a"
             ],
             [
              0.8888888888888888,
              "#fdca26"
             ],
             [
              1,
              "#f0f921"
             ]
            ],
            "type": "surface"
           }
          ],
          "table": [
           {
            "cells": {
             "fill": {
              "color": "#EBF0F8"
             },
             "line": {
              "color": "white"
             }
            },
            "header": {
             "fill": {
              "color": "#C8D4E3"
             },
             "line": {
              "color": "white"
             }
            },
            "type": "table"
           }
          ]
         },
         "layout": {
          "annotationdefaults": {
           "arrowcolor": "#2a3f5f",
           "arrowhead": 0,
           "arrowwidth": 1
          },
          "autotypenumbers": "strict",
          "coloraxis": {
           "colorbar": {
            "outlinewidth": 0,
            "ticks": ""
           }
          },
          "colorscale": {
           "diverging": [
            [
             0,
             "#8e0152"
            ],
            [
             0.1,
             "#c51b7d"
            ],
            [
             0.2,
             "#de77ae"
            ],
            [
             0.3,
             "#f1b6da"
            ],
            [
             0.4,
             "#fde0ef"
            ],
            [
             0.5,
             "#f7f7f7"
            ],
            [
             0.6,
             "#e6f5d0"
            ],
            [
             0.7,
             "#b8e186"
            ],
            [
             0.8,
             "#7fbc41"
            ],
            [
             0.9,
             "#4d9221"
            ],
            [
             1,
             "#276419"
            ]
           ],
           "sequential": [
            [
             0,
             "#0d0887"
            ],
            [
             0.1111111111111111,
             "#46039f"
            ],
            [
             0.2222222222222222,
             "#7201a8"
            ],
            [
             0.3333333333333333,
             "#9c179e"
            ],
            [
             0.4444444444444444,
             "#bd3786"
            ],
            [
             0.5555555555555556,
             "#d8576b"
            ],
            [
             0.6666666666666666,
             "#ed7953"
            ],
            [
             0.7777777777777778,
             "#fb9f3a"
            ],
            [
             0.8888888888888888,
             "#fdca26"
            ],
            [
             1,
             "#f0f921"
            ]
           ],
           "sequentialminus": [
            [
             0,
             "#0d0887"
            ],
            [
             0.1111111111111111,
             "#46039f"
            ],
            [
             0.2222222222222222,
             "#7201a8"
            ],
            [
             0.3333333333333333,
             "#9c179e"
            ],
            [
             0.4444444444444444,
             "#bd3786"
            ],
            [
             0.5555555555555556,
             "#d8576b"
            ],
            [
             0.6666666666666666,
             "#ed7953"
            ],
            [
             0.7777777777777778,
             "#fb9f3a"
            ],
            [
             0.8888888888888888,
             "#fdca26"
            ],
            [
             1,
             "#f0f921"
            ]
           ]
          },
          "colorway": [
           "#636efa",
           "#EF553B",
           "#00cc96",
           "#ab63fa",
           "#FFA15A",
           "#19d3f3",
           "#FF6692",
           "#B6E880",
           "#FF97FF",
           "#FECB52"
          ],
          "font": {
           "color": "#2a3f5f"
          },
          "geo": {
           "bgcolor": "white",
           "lakecolor": "white",
           "landcolor": "#E5ECF6",
           "showlakes": true,
           "showland": true,
           "subunitcolor": "white"
          },
          "hoverlabel": {
           "align": "left"
          },
          "hovermode": "closest",
          "mapbox": {
           "style": "light"
          },
          "paper_bgcolor": "white",
          "plot_bgcolor": "#E5ECF6",
          "polar": {
           "angularaxis": {
            "gridcolor": "white",
            "linecolor": "white",
            "ticks": ""
           },
           "bgcolor": "#E5ECF6",
           "radialaxis": {
            "gridcolor": "white",
            "linecolor": "white",
            "ticks": ""
           }
          },
          "scene": {
           "xaxis": {
            "backgroundcolor": "#E5ECF6",
            "gridcolor": "white",
            "gridwidth": 2,
            "linecolor": "white",
            "showbackground": true,
            "ticks": "",
            "zerolinecolor": "white"
           },
           "yaxis": {
            "backgroundcolor": "#E5ECF6",
            "gridcolor": "white",
            "gridwidth": 2,
            "linecolor": "white",
            "showbackground": true,
            "ticks": "",
            "zerolinecolor": "white"
           },
           "zaxis": {
            "backgroundcolor": "#E5ECF6",
            "gridcolor": "white",
            "gridwidth": 2,
            "linecolor": "white",
            "showbackground": true,
            "ticks": "",
            "zerolinecolor": "white"
           }
          },
          "shapedefaults": {
           "line": {
            "color": "#2a3f5f"
           }
          },
          "ternary": {
           "aaxis": {
            "gridcolor": "white",
            "linecolor": "white",
            "ticks": ""
           },
           "baxis": {
            "gridcolor": "white",
            "linecolor": "white",
            "ticks": ""
           },
           "bgcolor": "#E5ECF6",
           "caxis": {
            "gridcolor": "white",
            "linecolor": "white",
            "ticks": ""
           }
          },
          "title": {
           "x": 0.05
          },
          "xaxis": {
           "automargin": true,
           "gridcolor": "white",
           "linecolor": "white",
           "ticks": "",
           "title": {
            "standoff": 15
           },
           "zerolinecolor": "white",
           "zerolinewidth": 2
          },
          "yaxis": {
           "automargin": true,
           "gridcolor": "white",
           "linecolor": "white",
           "ticks": "",
           "title": {
            "standoff": 15
           },
           "zerolinecolor": "white",
           "zerolinewidth": 2
          }
         }
        },
        "title": {
         "text": "Embedded Answers/Solutions using the Embedding Model: text-embedding-3-small"
        },
        "xaxis": {
         "title": {
          "text": "X"
         }
        },
        "yaxis": {
         "title": {
          "text": "Y"
         }
        }
       }
      }
     },
     "metadata": {},
     "output_type": "display_data"
    }
   ],
   "source": [
    "x = [x for x, y in reduced_dims]\n",
    "y = [y for x, y in reduced_dims]\n",
    "\n",
    "examples = df_visio_3_small[\"Answers\"].tolist()\n",
    "\n",
    "fig = go.Figure()\n",
    "\n",
    "fig.add_trace(go.Scatter(\n",
    "    x=x,\n",
    "    y=y,\n",
    "    mode='markers',\n",
    "    text = examples,\n",
    "    marker=dict(color='blue', opacity=0.3)\n",
    "))\n",
    "\n",
    "fig.update_layout(\n",
    "    title=\"Embedded Answers/Solutions using the Embedding Model: text-embedding-3-small\",\n",
    "    xaxis_title=\"X\",\n",
    "    yaxis_title=\"Y\"\n",
    ")\n",
    "\n",
    "fig.show()"
   ]
  },
  {
   "cell_type": "markdown",
   "metadata": {},
   "source": [
    "## Visualisation: text-embedding-3-large"
   ]
  },
  {
   "cell_type": "markdown",
   "metadata": {},
   "source": [
    "### Data Preperation"
   ]
  },
  {
   "cell_type": "code",
   "execution_count": 507,
   "metadata": {},
   "outputs": [
    {
     "data": {
      "text/html": [
       "<div>\n",
       "<style scoped>\n",
       "    .dataframe tbody tr th:only-of-type {\n",
       "        vertical-align: middle;\n",
       "    }\n",
       "\n",
       "    .dataframe tbody tr th {\n",
       "        vertical-align: top;\n",
       "    }\n",
       "\n",
       "    .dataframe thead th {\n",
       "        text-align: right;\n",
       "    }\n",
       "</style>\n",
       "<table border=\"1\" class=\"dataframe\">\n",
       "  <thead>\n",
       "    <tr style=\"text-align: right;\">\n",
       "      <th></th>\n",
       "      <th>Answers</th>\n",
       "      <th>Embeddings</th>\n",
       "    </tr>\n",
       "  </thead>\n",
       "  <tbody>\n",
       "    <tr>\n",
       "      <th>0</th>\n",
       "      <td>SAP S/4HANA ist eine Enterprise Resource Plann...</td>\n",
       "      <td>[-0.04551265388727188, 0.011044912040233612, 0...</td>\n",
       "    </tr>\n",
       "    <tr>\n",
       "      <th>1</th>\n",
       "      <td>Zu den Vorteilen von SAP S/4HANA gehören eine ...</td>\n",
       "      <td>[-0.04175806790590286, 0.010400454513728619, 0...</td>\n",
       "    </tr>\n",
       "    <tr>\n",
       "      <th>2</th>\n",
       "      <td>Die Hauptunterschiede umfassen die In-Memory-D...</td>\n",
       "      <td>[-0.05220985785126686, -0.0108477883040905, 0....</td>\n",
       "    </tr>\n",
       "    <tr>\n",
       "      <th>3</th>\n",
       "      <td>SAP S/4HANA umfasst Module für Finanzen, Besch...</td>\n",
       "      <td>[-0.040618691593408585, 0.017335548996925354, ...</td>\n",
       "    </tr>\n",
       "    <tr>\n",
       "      <th>4</th>\n",
       "      <td>Ja, eine Migration ist erforderlich, da SAP S/...</td>\n",
       "      <td>[-0.03920025750994682, 0.04049645736813545, 0....</td>\n",
       "    </tr>\n",
       "    <tr>\n",
       "      <th>...</th>\n",
       "      <td>...</td>\n",
       "      <td>...</td>\n",
       "    </tr>\n",
       "    <tr>\n",
       "      <th>95</th>\n",
       "      <td>SAP bietet Schulungsressourcen, Schulungen und...</td>\n",
       "      <td>[-0.03506753593683243, 0.027382919564843178, 0...</td>\n",
       "    </tr>\n",
       "    <tr>\n",
       "      <th>96</th>\n",
       "      <td>Ja, SAP SuccessFactors ist eine cloudbasierte ...</td>\n",
       "      <td>[-0.07585717737674713, 0.012959856539964676, 0...</td>\n",
       "    </tr>\n",
       "    <tr>\n",
       "      <th>97</th>\n",
       "      <td>Die Lizenzierung von SAP SuccessFactors erfolg...</td>\n",
       "      <td>[-0.022737594321370125, 0.026175430044531822, ...</td>\n",
       "    </tr>\n",
       "    <tr>\n",
       "      <th>98</th>\n",
       "      <td>Ja, SAP SuccessFactors bietet Funktionen für d...</td>\n",
       "      <td>[-0.05296477675437927, 0.018537672236561775, 0...</td>\n",
       "    </tr>\n",
       "    <tr>\n",
       "      <th>99</th>\n",
       "      <td>SAP bietet umfassenden Support und regelmäßige...</td>\n",
       "      <td>[-0.03508766368031502, 0.04573966562747955, 0....</td>\n",
       "    </tr>\n",
       "  </tbody>\n",
       "</table>\n",
       "<p>100 rows × 2 columns</p>\n",
       "</div>"
      ],
      "text/plain": [
       "                                              Answers  \\\n",
       "0   SAP S/4HANA ist eine Enterprise Resource Plann...   \n",
       "1   Zu den Vorteilen von SAP S/4HANA gehören eine ...   \n",
       "2   Die Hauptunterschiede umfassen die In-Memory-D...   \n",
       "3   SAP S/4HANA umfasst Module für Finanzen, Besch...   \n",
       "4   Ja, eine Migration ist erforderlich, da SAP S/...   \n",
       "..                                                ...   \n",
       "95  SAP bietet Schulungsressourcen, Schulungen und...   \n",
       "96  Ja, SAP SuccessFactors ist eine cloudbasierte ...   \n",
       "97  Die Lizenzierung von SAP SuccessFactors erfolg...   \n",
       "98  Ja, SAP SuccessFactors bietet Funktionen für d...   \n",
       "99  SAP bietet umfassenden Support und regelmäßige...   \n",
       "\n",
       "                                           Embeddings  \n",
       "0   [-0.04551265388727188, 0.011044912040233612, 0...  \n",
       "1   [-0.04175806790590286, 0.010400454513728619, 0...  \n",
       "2   [-0.05220985785126686, -0.0108477883040905, 0....  \n",
       "3   [-0.040618691593408585, 0.017335548996925354, ...  \n",
       "4   [-0.03920025750994682, 0.04049645736813545, 0....  \n",
       "..                                                ...  \n",
       "95  [-0.03506753593683243, 0.027382919564843178, 0...  \n",
       "96  [-0.07585717737674713, 0.012959856539964676, 0...  \n",
       "97  [-0.022737594321370125, 0.026175430044531822, ...  \n",
       "98  [-0.05296477675437927, 0.018537672236561775, 0...  \n",
       "99  [-0.03508766368031502, 0.04573966562747955, 0....  \n",
       "\n",
       "[100 rows x 2 columns]"
      ]
     },
     "execution_count": 507,
     "metadata": {},
     "output_type": "execute_result"
    }
   ],
   "source": [
    "df_visio_3_large = pd.DataFrame(columns=['Answers', 'Embeddings'])\n",
    "df_visio_3_large[\"Answers\"] = df_modified_question_results[\"Antwort (original)\"]\n",
    "df_visio_3_large[\"Embeddings\"] = df_modified_question_results[\"Answer Embeddings: text-embedding-3-large\"]\n",
    "\n",
    "df_visio_3_large"
   ]
  },
  {
   "cell_type": "markdown",
   "metadata": {},
   "source": [
    "### Dimensionality reduction using t-SNE (PCA alternative)"
   ]
  },
  {
   "cell_type": "code",
   "execution_count": 508,
   "metadata": {},
   "outputs": [
    {
     "data": {
      "text/plain": [
       "(100, 2)"
      ]
     },
     "execution_count": 508,
     "metadata": {},
     "output_type": "execute_result"
    }
   ],
   "source": [
    "from sklearn.manifold import TSNE\n",
    "import numpy as np\n",
    "from ast import literal_eval\n",
    "\n",
    "import numpy as np\n",
    "\n",
    "matrix = np.array(df_visio_3_large[\"Embeddings\"].apply(literal_eval).to_list())\n",
    "\n",
    "tsne = TSNE(n_components=2, perplexity=15, random_state=42, init='random', learning_rate=200)\n",
    "reduced_dims = tsne.fit_transform(matrix)\n",
    "\n",
    "reduced_dims.shape"
   ]
  },
  {
   "cell_type": "markdown",
   "metadata": {},
   "source": [
    "### Visualization (2 Dimensions)"
   ]
  },
  {
   "cell_type": "code",
   "execution_count": 509,
   "metadata": {},
   "outputs": [
    {
     "data": {
      "application/vnd.plotly.v1+json": {
       "config": {
        "plotlyServerURL": "https://plot.ly"
       },
       "data": [
        {
         "marker": {
          "color": "blue",
          "opacity": 0.3
         },
         "mode": "markers",
         "text": [
          "SAP S/4HANA ist eine Enterprise Resource Planning (ERP)-Suite, die auf der In-Memory-Datenbanktechnologie von SAP HANA basiert.",
          "Zu den Vorteilen von SAP S/4HANA gehören eine verbesserte Performance, Echtzeitanalysen, vereinfachte Prozesse und eine modernere Benutzeroberfläche.",
          "Die Hauptunterschiede umfassen die In-Memory-Datenbanktechnologie, die vereinfachten Datenmodelle, die neue Benutzeroberfläche und die Integration von Analysen und Prognosen.",
          "SAP S/4HANA umfasst Module für Finanzen, Beschaffung, Produktion, Vertrieb, Lagerhaltung und mehr.",
          "Ja, eine Migration ist erforderlich, da SAP S/4HANA eine neue Architektur und Datenbanktechnologie verwendet.",
          "Die Dauer kann je nach Unternehmensgröße, Komplexität der Systeme und gewählter Migrationsmethode variieren.",
          "In-Memory-Technologien ermöglichen eine schnellere Datenverarbeitung und Echtzeitanalysen.",
          "Beide Optionen sind möglich, und die Entscheidung hängt von den Unternehmensanforderungen ab.",
          "Die Lizenzierung basiert auf verschiedenen Faktoren wie Nutzeranzahl, Funktionsumfang und Implementierungsmethode.",
          "Bestehende Entwicklungen müssen möglicherweise angepasst werden, um mit den neuen Datenstrukturen von SAP S/4HANA kompatibel zu sein.",
          "Einige können weiterverwendet werden, aber viele Anpassungen müssen möglicherweise aktualisiert oder neu entwickelt werden.",
          "Ja, SAP S/4HANA bietet Funktionen wie SAP Fiori für intuitive Benutzeroberflächen und integrierte Analytics.",
          "SAP bietet verschiedene Dienstleistungen wie Beratung, Schulungen und Support für S/4HANA-Implementierungen an.",
          "Machine Learning und künstliche Intelligenz werden für Funktionen wie Predictive Analytics und automatisierte Prozesse in SAP S/4HANA verwendet.",
          "SAP S/4HANA kann nahtlos mit anderen SAP-Lösungen wie SAP SuccessFactors und SAP Ariba integriert werden.",
          "Ja, SAP bietet Schulungen und Zertifizierungen für SAP S/4HANA an.",
          "Ja, SAP S/4HANA kann über APIs und Middleware mit Drittanbieteranwendungen integriert werden.",
          "SAP bietet einen umfassenden Support für SAP S/4HANA mit regelmäßigen Updates und technischem Support.",
          "SAP S/4HANA erfordert eine neue Datenbankarchitektur und unterstützt moderne Technologien wie Cloud-Computing und IoT.",
          "Branchen wie Fertigung, Handel und Dienstleistungen profitieren besonders von den Funktionen und der Leistung von SAP S/4HANA.",
          "SAP Fieldglass ist eine cloudbasierte Plattform für das Management von externen Arbeitskräften und Dienstleistungsanbietern.",
          "SAP Fieldglass bietet Funktionen wie Beschaffung, Auftragsmanagement, Lieferantenverwaltung, Abrechnung und Compliance-Management.",
          "SAP Fieldglass ist für Unternehmen aller Größen und Branchen geeignet, die externe Arbeitskräfte oder Dienstleistungen nutzen.",
          "Die Nutzung von SAP Fieldglass ermöglicht eine bessere Kontrolle über externe Ressourcen, Kosteneinsparungen, verbesserte Compliance und beschleunigte Beschaffungsprozesse.",
          "SAP Fieldglass kann nahtlos mit anderen SAP-Produkten wie SAP SuccessFactors und SAP ERP integriert werden.",
          "SAP Fieldglass spielt eine wichtige Rolle bei der Verwaltung von Auftragnehmern, Freiberuflern und Dienstleistungsanbietern im Rahmen des Talentmanagements.",
          "Ja, SAP Fieldglass kann mit verschiedenen HR-Systemen und Enterprise-Resource-Planning-Systemen integriert werden.",
          "SAP Fieldglass erleichtert die Verwaltung von Arbeitsverträgen, Genehmigungsprozessen und Compliance-Anforderungen durch automatisierte Workflows und Dashboards.",
          "Ja, SAP Fieldglass bietet Funktionen für Compliance- und Risikomanagement wie Überprüfung von Lieferanten, Vertrags- und Rechnungsprüfung sowie Risikobewertung.",
          "SAP Fieldglass bietet umfassende Berichterstattungs- und Analysefunktionen für Leistungskennzahlen, Ausgabenanalyse und Risikomanagement.",
          "Ja, SAP Fieldglass ermöglicht die effiziente Verwaltung von globalen Arbeitskräften, Lieferanten und Verträgen.",
          "Die Implementierung von SAP Fieldglass erfolgt typischerweise durch einen strukturierten Prozess unter Einbeziehung von Beratern und technischem Support.",
          "Ja, SAP bietet Schulungs- und Zertifizierungsmöglichkeiten für SAP Fieldglass an, um die Benutzerkompetenz zu verbessern.",
          "Ja, SAP Fieldglass unterstützt benutzerdefinierte Anpassungen und Konfigurationen gemäß den spezifischen Anforderungen des Unternehmens.",
          "Ja, SAP Fieldglass bietet mobile Anwendungen für die einfache Nutzung und Verwaltung auch unterwegs.",
          "Die Kostenstruktur für SAP Fieldglass umfasst typischerweise Lizenzgebühren, Implementierungskosten und laufende Servicegebühren basierend auf der Nutzung.",
          "SAP Fieldglass implementiert Sicherheitsmaßnahmen wie Datenverschlüsselung, Zugriffskontrollen und regelmäßige Sicherheitsaudits.",
          "Ja, SAP Fieldglass unterstützt mehrsprachige Benutzeroberflächen, um den globalen Einsatz zu erleichtern.",
          "Ja, SAP Fieldglass bietet Funktionen zur Unterstützung der Einhaltung von Vorschriften wie GDPR und andere Datenschutzbestimmungen.",
          "SAP Fieldglass bietet umfassenden Support, einschließlich technischem Support, Schulungen und regelmäßigen Updates.",
          "SAP Enable Now ist eine Lösung für das digitale Lern- und Wissensmanagement, die Schulungen, Leistungssupport und Dokumentationen bereitstellt.",
          "SAP Enable Now bietet Funktionen wie die Erstellung interaktiver Lerninhalte, Leistungssupporttools, Software-Dokumentationen und Schulungsanalyse.",
          "SAP Enable Now ist für Unternehmen jeder Größe und Branche geeignet, die Schulungen für Mitarbeiter, Kunden und Partner benötigen.",
          "Die Nutzung von SAP Enable Now ermöglicht eine effiziente Schulung, verbesserte Produktivität, schnellere Einarbeitung neuer Mitarbeiter und konsistente Wissensvermittlung.",
          "SAP Enable Now kann nahtlos mit anderen SAP-Produkten wie SAP SuccessFactors und SAP Learning Solution integriert werden.",
          "SAP Enable Now spielt eine wichtige Rolle bei der Erstellung, Bereitstellung und Verwaltung von Schulungsressourcen für Mitarbeiter und Kunden.",
          "Ja, SAP Enable Now kann für die Schulung von Endbenutzern in SAP-Anwendungen sowie anderen Unternehmensanwendungen verwendet werden.",
          "Die Erstellung von Lerninhalten in SAP Enable Now erfolgt über eine benutzerfreundliche Oberfläche mit integrierten Tools für die Aufnahme, Bearbeitung und Veröffentlichung von Schulungsinhalten.",
          "Ja, SAP Enable Now bietet Funktionen für das Performance-Support wie kontextbezogene Hilfen, Tutorials und Benutzerleitfäden.",
          "SAP Enable Now unterstützt Schulungsformate wie interaktive Simulationen, Videos, Präsentationen und Online-Kurse.",
          "Ja, SAP Enable Now ermöglicht die Erstellung von Schulungsmaterial in verschiedenen Sprachen für globale Schulungsinitiativen.",
          "Die Bereitstellung von Lerninhalten für Benutzer erfolgt über verschiedene Kanäle wie Lernportale, Intranets und mobile Anwendungen.",
          "Ja, SAP Enable Now bietet Funktionen für Benutzerfeedback und Leistungsanalyse zur kontinuierlichen Verbesserung der Schulungsressourcen.",
          "Ja, SAP Enable Now kann zur Erstellung von Software-Dokumentationen wie Benutzerhandbüchern, Hilfedateien und Prozessdokumentationen verwendet werden.",
          "SAP bietet Schulungsressourcen, Schulungen und technischen Support für die Implementierung und Nutzung von SAP Enable Now an.",
          "Ja, SAP Enable Now kann sowohl als cloudbasierte Lösung als auch als On-Premise-Installation bereitgestellt werden.",
          "Die Lizenzierung von SAP Enable Now erfolgt typischerweise auf Basis der Anzahl der Benutzer oder der Nutzungsdauer.",
          "Ja, SAP Enable Now bietet Funktionen für die Verwaltung von Lernressourcen, Benutzerzugriff und Schulungsplanung an.",
          "Ja, SAP Enable Now unterstützt die Integration mit gängigen Learning-Management-Systemen (LMS) zur nahtlosen Schulungsverwaltung.",
          "SAP bietet umfassenden Support und regelmäßige Wartung für SAP Enable Now, einschließlich technischem Support, Schulungen und Updates.",
          "SAP Concur ist eine cloudbasierte Lösung für das Reise- und Ausgabenmanagement, die Unternehmen dabei unterstützt, Reisekosten zu verfolgen, Ausgaben zu kontrollieren und Compliance sicherzustellen.",
          "SAP Concur bietet Dienste wie Reisebuchung, Spesenabrechnung, Ausgabenmanagement, Reiserichtlinien-Compliance und Analyse von Reiseausgaben an.",
          "SAP Concur ist für Unternehmen jeder Größe und Branche geeignet, die Reise- und Ausgabenmanagementlösungen benötigen.",
          "Die Nutzung von SAP Concur ermöglicht eine effizientere Verwaltung von Reisen und Ausgaben, bessere Kontrolle über Ausgaben, Einhaltung von Reiserichtlinien und schnellere Erstattung von Spesen.",
          "SAP Concur kann nahtlos mit anderen SAP-Produkten wie SAP ERP und SAP SuccessFactors integriert werden, um eine ganzheitliche Lösung für das Unternehmensmanagement zu bieten.",
          "SAP Concur spielt eine wichtige Rolle bei der Vereinfachung und Automatisierung von Prozessen rund um das Reise- und Ausgabenmanagement, einschließlich Reisebuchungen, Spesenabrechnungen und Compliance.",
          "Ja, SAP Concur kann Reiserichtlinien und Compliance-Regeln durch automatisierte Richtlinienprüfungen und Warnungen durchsetzen.",
          "Ja, SAP Concur bietet Funktionen für die Automatisierung von Ausgabenabrechnungen durch Erfassung von Ausgaben, Zuweisung von Kosten und Genehmigung von Ausgaben.",
          "Ja, SAP Concur unterstützt die Verwaltung von Reisebuchungen und Reiseplänen durch Integration mit Reiseanbietern und -plattformen.",
          "Die Einreichung von Spesenberichten in SAP Concur erfolgt über eine benutzerfreundliche Oberfläche mit Optionen für die Erfassung von Ausgaben, Beifügen von Belegen und Zuordnung von Kosten.",
          "Ja, SAP Concur bietet Funktionen für die Genehmigung von Reiseanträgen durch Vorgesetzte oder entsprechende Genehmigungsinstanzen.",
          "Ja, SAP Concur kann Kreditkartentransaktionen integrieren und verfolgen, um Ausgaben automatisch zu erfassen und in Spesenberichte einzubeziehen.",
          "SAP Concur bietet verschiedene Berichterstattungs- und Analysefunktionen für Reiseausgaben, Budgetvergleiche und Ausgabenkategorien.",
          "Ja, SAP Concur bietet Funktionen für die Einhaltung von Steuervorschriften und Vorschriften durch automatische Steuerberechnungen und -abzüge.",
          "Ja, SAP Concur kann für die Verwaltung von Firmenkarten und Reisebudgets verwendet werden, um Ausgaben zu überwachen und Budgets einzuhalten.",
          "SAP bietet Schulungsressourcen, Schulungen und technischen Support für die Implementierung und Nutzung von SAP Concur an.",
          "Ja, SAP Concur ist eine cloudbasierte Lösung, die über das Internet zugänglich ist.",
          "Die Lizenzierung von SAP Concur erfolgt typischerweise auf Basis der Anzahl der Benutzer oder der Nutzungsdauer.",
          "Ja, SAP Concur bietet Funktionen für die Reisebuchung und -planung über Integration mit Reiseanbietern und -plattformen an.",
          "SAP bietet umfassenden Support und regelmäßige Wartung für SAP Concur, einschließlich technischem Support, Schulungen und Updates.",
          "SAP SuccessFactors ist eine cloudbasierte Lösung für das Human Capital Management (HCM), die Funktionen wie Personalverwaltung, Talentmanagement, Leistungsmanagement, Mitarbeiterentwicklung und Analyse bietet.",
          "SAP SuccessFactors bietet Funktionen wie Personalverwaltung, Rekrutierung, Onboarding, Leistungsmanagement, Mitarbeiterentwicklung, Vergütungsmanagement und Analyse.",
          "SAP SuccessFactors ist für Unternehmen jeder Größe und Branche geeignet, die eine moderne und umfassende Lösung für das Personalmanagement suchen.",
          "Die Nutzung von SAP SuccessFactors ermöglicht eine effiziente Verwaltung von Personalressourcen, bessere Mitarbeiterentwicklung, höhere Mitarbeiterbindung und bessere Geschäftsergebnisse.",
          "SAP SuccessFactors kann nahtlos mit anderen SAP-Produkten wie SAP ERP und SAP Concur integriert werden, um eine ganzheitliche Lösung für das Unternehmensmanagement zu bieten.",
          "SAP SuccessFactors spielt eine wichtige Rolle bei der Verwaltung des gesamten Mitarbeiterlebenszyklus, von der Rekrutierung bis zur Pensionierung, und unterstützt Unternehmen dabei, talentierte Mitarbeiter zu identifizieren, zu entwickeln und zu binden.",
          "Ja, SAP SuccessFactors bietet Funktionen für die Rekrutierung von Mitarbeitern, einschließlich Stellenanzeigen, Bewerbungsmanagement und Einstellungsprozessen.",
          "Ja, SAP SuccessFactors bietet Funktionen für das Leistungsmanagement, einschließlich Zielsetzung, Leistungsbeurteilung und Belohnungsmanagement.",
          "Ja, SAP SuccessFactors unterstützt die Mitarbeiterentwicklung und Schulung durch Funktionen wie Lernmanagement, Karriereentwicklung und individuelle Entwicklungspläne.",
          "Die Durchführung von Mitarbeiterbewertungen in SAP SuccessFactors erfolgt durch automatisierte Workflows, Zielsetzungsgespräche und kontinuierliches Feedback zwischen Mitarbeitern und Vorgesetzten.",
          "Ja, SAP SuccessFactors bietet Funktionen für die Verwaltung von Vergütungen und Belohnungen, einschließlich Gehaltsabrechnung, Bonussystemen und Zusatzleistungen.",
          "Ja, SAP SuccessFactors kann die Einhaltung von Compliance- und HR-Richtlinien durch automatisierte Prozesse, Compliance-Prüfungen und Berichterstattung unterstützen.",
          "SAP SuccessFactors bietet verschiedene Berichterstattungs- und Analysefunktionen für Personalanalysen, Leistungskennzahlen und Talentmanagement.",
          "Ja, SAP SuccessFactors bietet Funktionen für das Mitarbeiterengagement und die Mitarbeiterbindung, einschließlich Mitarbeiterumfragen, Feedbacksystemen und Anerkennungsprogrammen.",
          "Ja, SAP SuccessFactors kann für die Nachfolgeplanung und Talententwicklung verwendet werden, um talentierte Mitarbeiter zu identifizieren und deren Entwicklung zu fördern.",
          "SAP bietet Schulungsressourcen, Schulungen und technischen Support für die Implementierung und Nutzung von SAP SuccessFactors an.",
          "Ja, SAP SuccessFactors ist eine cloudbasierte Lösung, die über das Internet zugänglich ist.",
          "Die Lizenzierung von SAP SuccessFactors erfolgt typischerweise auf Basis der Anzahl der Benutzer oder der Nutzungsdauer.",
          "Ja, SAP SuccessFactors bietet Funktionen für die Arbeitszeitverwaltung und -planung, einschließlich Schichtplanung, Urlaubsverwaltung und Zeiterfassung.",
          "SAP bietet umfassenden Support und regelmäßige Wartung für SAP SuccessFactors, einschließlich technischem Support, Schulungen und Updates."
         ],
         "type": "scatter",
         "x": [
          24.16615867614746,
          25.76593017578125,
          22.487689971923828,
          21.635419845581055,
          25.01220703125,
          25.94258689880371,
          21.85543441772461,
          31.884628295898438,
          19.769479751586914,
          25.532052993774414,
          28.345928192138672,
          25.131193161010742,
          26.32516098022461,
          23.75810432434082,
          19.143909454345703,
          19.946243286132812,
          18.9344539642334,
          28.06127166748047,
          23.675565719604492,
          28.441152572631836,
          3.278524398803711,
          3.800898551940918,
          5.153696060180664,
          1.2700932025909424,
          -0.5838332176208496,
          1.019476056098938,
          -0.9852127432823181,
          4.309973239898682,
          8.464699745178223,
          3.3826887607574463,
          1.8573217391967773,
          2.085178852081299,
          9.83224105834961,
          3.15921688079834,
          6.629822731018066,
          -2.2803800106048584,
          7.9910502433776855,
          0.030133653432130814,
          6.670896530151367,
          5.221739292144775,
          -37.61638259887695,
          -36.36610794067383,
          -37.52423858642578,
          -35.06008529663086,
          -39.07182693481445,
          -32.147884368896484,
          -26.82839584350586,
          -31.96649742126465,
          -33.585567474365234,
          -35.921165466308594,
          -25.514896392822266,
          -32.42973327636719,
          -32.41647720336914,
          -26.04654312133789,
          -36.28900146484375,
          -13.580294609069824,
          -40.798606872558594,
          -29.827693939208984,
          -28.555692672729492,
          -38.58164978027344,
          -1.4243223667144775,
          -1.404062032699585,
          -4.241481304168701,
          0.8648219108581543,
          0.026241810992360115,
          -3.073305130004883,
          -6.163755893707275,
          -0.9335750341415405,
          -4.82648229598999,
          3.693796396255493,
          -7.75701379776001,
          -0.08326734602451324,
          -3.7915587425231934,
          -3.459043264389038,
          -6.4489312171936035,
          -1.8262834548950195,
          -11.269962310791016,
          3.0763659477233887,
          -3.057076930999756,
          0.14432892203330994,
          2.9867942333221436,
          1.9770643711090088,
          5.38328218460083,
          3.9362149238586426,
          10.098809242248535,
          0.45500242710113525,
          -4.402469635009766,
          -0.49537262320518494,
          -3.4625043869018555,
          4.088085651397705,
          0.9719187021255493,
          -7.603556156158447,
          3.808645486831665,
          -2.1725270748138428,
          -2.2355918884277344,
          -2.381633758544922,
          -11.775321960449219,
          7.696765422821045,
          -2.633768320083618,
          0.2667822539806366
         ],
         "y": [
          2.042114496231079,
          2.592662811279297,
          0.25894033908843994,
          4.161068439483643,
          -6.9131760597229,
          -9.019346237182617,
          8.453850746154785,
          -0.034237589687108994,
          -3.400825262069702,
          -3.6812126636505127,
          -4.922788619995117,
          5.194056034088135,
          -0.4845934510231018,
          9.098217010498047,
          2.0857319831848145,
          -6.975337982177734,
          0.04424294829368591,
          -0.5044641494750977,
          -2.406337261199951,
          3.7546823024749756,
          -20.889080047607422,
          -22.884597778320312,
          -19.398008346557617,
          -22.267108917236328,
          -24.834123611450195,
          -19.290714263916016,
          -27.625398635864258,
          -27.496143341064453,
          -28.858043670654297,
          -17.022207260131836,
          -28.079814910888672,
          -24.746822357177734,
          -21.52410125732422,
          -31.292753219604492,
          -22.124542236328125,
          -21.521297454833984,
          -25.672780990600586,
          -32.03920364379883,
          -30.41895294189453,
          -24.7546443939209,
          2.779881715774536,
          1.014713168144226,
          -1.6369479894638062,
          2.4722611904144287,
          0.6615623831748962,
          3.9089043140411377,
          7.483665466308594,
          8.738608360290527,
          -0.07172655314207077,
          8.738590240478516,
          9.199492454528809,
          7.084185600280762,
          -2.106466293334961,
          11.188732147216797,
          6.6812744140625,
          15.36209487915039,
          2.891298532485962,
          5.391002178192139,
          3.389876127243042,
          5.447752475738525,
          24.709199905395508,
          22.605077743530273,
          23.731035232543945,
          24.280799865722656,
          27.253000259399414,
          26.08831024169922,
          32.806846618652344,
          30.48081398010254,
          28.415740966796875,
          28.454439163208008,
          29.82906150817871,
          33.59588623046875,
          20.746984481811523,
          31.893661499023438,
          26.360767364501953,
          17.191936492919922,
          17.234481811523438,
          21.134634017944336,
          28.83577537536621,
          18.18025779724121,
          -1.6354894638061523,
          0.3023262023925781,
          -2.166769504547119,
          0.9487096667289734,
          0.4678742289543152,
          -2.5901365280151367,
          -3.0744388103485107,
          1.4073525667190552,
          6.135477542877197,
          4.6794047355651855,
          4.175143241882324,
          2.768275737762451,
          -6.060961723327637,
          2.8299999237060547,
          -3.3275578022003174,
          8.006179809570312,
          15.016100883483887,
          5.251163482666016,
          0.16571705043315887,
          9.38802719116211
         ]
        }
       ],
       "layout": {
        "template": {
         "data": {
          "bar": [
           {
            "error_x": {
             "color": "#2a3f5f"
            },
            "error_y": {
             "color": "#2a3f5f"
            },
            "marker": {
             "line": {
              "color": "#E5ECF6",
              "width": 0.5
             },
             "pattern": {
              "fillmode": "overlay",
              "size": 10,
              "solidity": 0.2
             }
            },
            "type": "bar"
           }
          ],
          "barpolar": [
           {
            "marker": {
             "line": {
              "color": "#E5ECF6",
              "width": 0.5
             },
             "pattern": {
              "fillmode": "overlay",
              "size": 10,
              "solidity": 0.2
             }
            },
            "type": "barpolar"
           }
          ],
          "carpet": [
           {
            "aaxis": {
             "endlinecolor": "#2a3f5f",
             "gridcolor": "white",
             "linecolor": "white",
             "minorgridcolor": "white",
             "startlinecolor": "#2a3f5f"
            },
            "baxis": {
             "endlinecolor": "#2a3f5f",
             "gridcolor": "white",
             "linecolor": "white",
             "minorgridcolor": "white",
             "startlinecolor": "#2a3f5f"
            },
            "type": "carpet"
           }
          ],
          "choropleth": [
           {
            "colorbar": {
             "outlinewidth": 0,
             "ticks": ""
            },
            "type": "choropleth"
           }
          ],
          "contour": [
           {
            "colorbar": {
             "outlinewidth": 0,
             "ticks": ""
            },
            "colorscale": [
             [
              0,
              "#0d0887"
             ],
             [
              0.1111111111111111,
              "#46039f"
             ],
             [
              0.2222222222222222,
              "#7201a8"
             ],
             [
              0.3333333333333333,
              "#9c179e"
             ],
             [
              0.4444444444444444,
              "#bd3786"
             ],
             [
              0.5555555555555556,
              "#d8576b"
             ],
             [
              0.6666666666666666,
              "#ed7953"
             ],
             [
              0.7777777777777778,
              "#fb9f3a"
             ],
             [
              0.8888888888888888,
              "#fdca26"
             ],
             [
              1,
              "#f0f921"
             ]
            ],
            "type": "contour"
           }
          ],
          "contourcarpet": [
           {
            "colorbar": {
             "outlinewidth": 0,
             "ticks": ""
            },
            "type": "contourcarpet"
           }
          ],
          "heatmap": [
           {
            "colorbar": {
             "outlinewidth": 0,
             "ticks": ""
            },
            "colorscale": [
             [
              0,
              "#0d0887"
             ],
             [
              0.1111111111111111,
              "#46039f"
             ],
             [
              0.2222222222222222,
              "#7201a8"
             ],
             [
              0.3333333333333333,
              "#9c179e"
             ],
             [
              0.4444444444444444,
              "#bd3786"
             ],
             [
              0.5555555555555556,
              "#d8576b"
             ],
             [
              0.6666666666666666,
              "#ed7953"
             ],
             [
              0.7777777777777778,
              "#fb9f3a"
             ],
             [
              0.8888888888888888,
              "#fdca26"
             ],
             [
              1,
              "#f0f921"
             ]
            ],
            "type": "heatmap"
           }
          ],
          "heatmapgl": [
           {
            "colorbar": {
             "outlinewidth": 0,
             "ticks": ""
            },
            "colorscale": [
             [
              0,
              "#0d0887"
             ],
             [
              0.1111111111111111,
              "#46039f"
             ],
             [
              0.2222222222222222,
              "#7201a8"
             ],
             [
              0.3333333333333333,
              "#9c179e"
             ],
             [
              0.4444444444444444,
              "#bd3786"
             ],
             [
              0.5555555555555556,
              "#d8576b"
             ],
             [
              0.6666666666666666,
              "#ed7953"
             ],
             [
              0.7777777777777778,
              "#fb9f3a"
             ],
             [
              0.8888888888888888,
              "#fdca26"
             ],
             [
              1,
              "#f0f921"
             ]
            ],
            "type": "heatmapgl"
           }
          ],
          "histogram": [
           {
            "marker": {
             "pattern": {
              "fillmode": "overlay",
              "size": 10,
              "solidity": 0.2
             }
            },
            "type": "histogram"
           }
          ],
          "histogram2d": [
           {
            "colorbar": {
             "outlinewidth": 0,
             "ticks": ""
            },
            "colorscale": [
             [
              0,
              "#0d0887"
             ],
             [
              0.1111111111111111,
              "#46039f"
             ],
             [
              0.2222222222222222,
              "#7201a8"
             ],
             [
              0.3333333333333333,
              "#9c179e"
             ],
             [
              0.4444444444444444,
              "#bd3786"
             ],
             [
              0.5555555555555556,
              "#d8576b"
             ],
             [
              0.6666666666666666,
              "#ed7953"
             ],
             [
              0.7777777777777778,
              "#fb9f3a"
             ],
             [
              0.8888888888888888,
              "#fdca26"
             ],
             [
              1,
              "#f0f921"
             ]
            ],
            "type": "histogram2d"
           }
          ],
          "histogram2dcontour": [
           {
            "colorbar": {
             "outlinewidth": 0,
             "ticks": ""
            },
            "colorscale": [
             [
              0,
              "#0d0887"
             ],
             [
              0.1111111111111111,
              "#46039f"
             ],
             [
              0.2222222222222222,
              "#7201a8"
             ],
             [
              0.3333333333333333,
              "#9c179e"
             ],
             [
              0.4444444444444444,
              "#bd3786"
             ],
             [
              0.5555555555555556,
              "#d8576b"
             ],
             [
              0.6666666666666666,
              "#ed7953"
             ],
             [
              0.7777777777777778,
              "#fb9f3a"
             ],
             [
              0.8888888888888888,
              "#fdca26"
             ],
             [
              1,
              "#f0f921"
             ]
            ],
            "type": "histogram2dcontour"
           }
          ],
          "mesh3d": [
           {
            "colorbar": {
             "outlinewidth": 0,
             "ticks": ""
            },
            "type": "mesh3d"
           }
          ],
          "parcoords": [
           {
            "line": {
             "colorbar": {
              "outlinewidth": 0,
              "ticks": ""
             }
            },
            "type": "parcoords"
           }
          ],
          "pie": [
           {
            "automargin": true,
            "type": "pie"
           }
          ],
          "scatter": [
           {
            "fillpattern": {
             "fillmode": "overlay",
             "size": 10,
             "solidity": 0.2
            },
            "type": "scatter"
           }
          ],
          "scatter3d": [
           {
            "line": {
             "colorbar": {
              "outlinewidth": 0,
              "ticks": ""
             }
            },
            "marker": {
             "colorbar": {
              "outlinewidth": 0,
              "ticks": ""
             }
            },
            "type": "scatter3d"
           }
          ],
          "scattercarpet": [
           {
            "marker": {
             "colorbar": {
              "outlinewidth": 0,
              "ticks": ""
             }
            },
            "type": "scattercarpet"
           }
          ],
          "scattergeo": [
           {
            "marker": {
             "colorbar": {
              "outlinewidth": 0,
              "ticks": ""
             }
            },
            "type": "scattergeo"
           }
          ],
          "scattergl": [
           {
            "marker": {
             "colorbar": {
              "outlinewidth": 0,
              "ticks": ""
             }
            },
            "type": "scattergl"
           }
          ],
          "scattermapbox": [
           {
            "marker": {
             "colorbar": {
              "outlinewidth": 0,
              "ticks": ""
             }
            },
            "type": "scattermapbox"
           }
          ],
          "scatterpolar": [
           {
            "marker": {
             "colorbar": {
              "outlinewidth": 0,
              "ticks": ""
             }
            },
            "type": "scatterpolar"
           }
          ],
          "scatterpolargl": [
           {
            "marker": {
             "colorbar": {
              "outlinewidth": 0,
              "ticks": ""
             }
            },
            "type": "scatterpolargl"
           }
          ],
          "scatterternary": [
           {
            "marker": {
             "colorbar": {
              "outlinewidth": 0,
              "ticks": ""
             }
            },
            "type": "scatterternary"
           }
          ],
          "surface": [
           {
            "colorbar": {
             "outlinewidth": 0,
             "ticks": ""
            },
            "colorscale": [
             [
              0,
              "#0d0887"
             ],
             [
              0.1111111111111111,
              "#46039f"
             ],
             [
              0.2222222222222222,
              "#7201a8"
             ],
             [
              0.3333333333333333,
              "#9c179e"
             ],
             [
              0.4444444444444444,
              "#bd3786"
             ],
             [
              0.5555555555555556,
              "#d8576b"
             ],
             [
              0.6666666666666666,
              "#ed7953"
             ],
             [
              0.7777777777777778,
              "#fb9f3a"
             ],
             [
              0.8888888888888888,
              "#fdca26"
             ],
             [
              1,
              "#f0f921"
             ]
            ],
            "type": "surface"
           }
          ],
          "table": [
           {
            "cells": {
             "fill": {
              "color": "#EBF0F8"
             },
             "line": {
              "color": "white"
             }
            },
            "header": {
             "fill": {
              "color": "#C8D4E3"
             },
             "line": {
              "color": "white"
             }
            },
            "type": "table"
           }
          ]
         },
         "layout": {
          "annotationdefaults": {
           "arrowcolor": "#2a3f5f",
           "arrowhead": 0,
           "arrowwidth": 1
          },
          "autotypenumbers": "strict",
          "coloraxis": {
           "colorbar": {
            "outlinewidth": 0,
            "ticks": ""
           }
          },
          "colorscale": {
           "diverging": [
            [
             0,
             "#8e0152"
            ],
            [
             0.1,
             "#c51b7d"
            ],
            [
             0.2,
             "#de77ae"
            ],
            [
             0.3,
             "#f1b6da"
            ],
            [
             0.4,
             "#fde0ef"
            ],
            [
             0.5,
             "#f7f7f7"
            ],
            [
             0.6,
             "#e6f5d0"
            ],
            [
             0.7,
             "#b8e186"
            ],
            [
             0.8,
             "#7fbc41"
            ],
            [
             0.9,
             "#4d9221"
            ],
            [
             1,
             "#276419"
            ]
           ],
           "sequential": [
            [
             0,
             "#0d0887"
            ],
            [
             0.1111111111111111,
             "#46039f"
            ],
            [
             0.2222222222222222,
             "#7201a8"
            ],
            [
             0.3333333333333333,
             "#9c179e"
            ],
            [
             0.4444444444444444,
             "#bd3786"
            ],
            [
             0.5555555555555556,
             "#d8576b"
            ],
            [
             0.6666666666666666,
             "#ed7953"
            ],
            [
             0.7777777777777778,
             "#fb9f3a"
            ],
            [
             0.8888888888888888,
             "#fdca26"
            ],
            [
             1,
             "#f0f921"
            ]
           ],
           "sequentialminus": [
            [
             0,
             "#0d0887"
            ],
            [
             0.1111111111111111,
             "#46039f"
            ],
            [
             0.2222222222222222,
             "#7201a8"
            ],
            [
             0.3333333333333333,
             "#9c179e"
            ],
            [
             0.4444444444444444,
             "#bd3786"
            ],
            [
             0.5555555555555556,
             "#d8576b"
            ],
            [
             0.6666666666666666,
             "#ed7953"
            ],
            [
             0.7777777777777778,
             "#fb9f3a"
            ],
            [
             0.8888888888888888,
             "#fdca26"
            ],
            [
             1,
             "#f0f921"
            ]
           ]
          },
          "colorway": [
           "#636efa",
           "#EF553B",
           "#00cc96",
           "#ab63fa",
           "#FFA15A",
           "#19d3f3",
           "#FF6692",
           "#B6E880",
           "#FF97FF",
           "#FECB52"
          ],
          "font": {
           "color": "#2a3f5f"
          },
          "geo": {
           "bgcolor": "white",
           "lakecolor": "white",
           "landcolor": "#E5ECF6",
           "showlakes": true,
           "showland": true,
           "subunitcolor": "white"
          },
          "hoverlabel": {
           "align": "left"
          },
          "hovermode": "closest",
          "mapbox": {
           "style": "light"
          },
          "paper_bgcolor": "white",
          "plot_bgcolor": "#E5ECF6",
          "polar": {
           "angularaxis": {
            "gridcolor": "white",
            "linecolor": "white",
            "ticks": ""
           },
           "bgcolor": "#E5ECF6",
           "radialaxis": {
            "gridcolor": "white",
            "linecolor": "white",
            "ticks": ""
           }
          },
          "scene": {
           "xaxis": {
            "backgroundcolor": "#E5ECF6",
            "gridcolor": "white",
            "gridwidth": 2,
            "linecolor": "white",
            "showbackground": true,
            "ticks": "",
            "zerolinecolor": "white"
           },
           "yaxis": {
            "backgroundcolor": "#E5ECF6",
            "gridcolor": "white",
            "gridwidth": 2,
            "linecolor": "white",
            "showbackground": true,
            "ticks": "",
            "zerolinecolor": "white"
           },
           "zaxis": {
            "backgroundcolor": "#E5ECF6",
            "gridcolor": "white",
            "gridwidth": 2,
            "linecolor": "white",
            "showbackground": true,
            "ticks": "",
            "zerolinecolor": "white"
           }
          },
          "shapedefaults": {
           "line": {
            "color": "#2a3f5f"
           }
          },
          "ternary": {
           "aaxis": {
            "gridcolor": "white",
            "linecolor": "white",
            "ticks": ""
           },
           "baxis": {
            "gridcolor": "white",
            "linecolor": "white",
            "ticks": ""
           },
           "bgcolor": "#E5ECF6",
           "caxis": {
            "gridcolor": "white",
            "linecolor": "white",
            "ticks": ""
           }
          },
          "title": {
           "x": 0.05
          },
          "xaxis": {
           "automargin": true,
           "gridcolor": "white",
           "linecolor": "white",
           "ticks": "",
           "title": {
            "standoff": 15
           },
           "zerolinecolor": "white",
           "zerolinewidth": 2
          },
          "yaxis": {
           "automargin": true,
           "gridcolor": "white",
           "linecolor": "white",
           "ticks": "",
           "title": {
            "standoff": 15
           },
           "zerolinecolor": "white",
           "zerolinewidth": 2
          }
         }
        },
        "title": {
         "text": "Embedded Answers/Solutions using the Embedding Model: text-embedding-3-large"
        },
        "xaxis": {
         "title": {
          "text": "X"
         }
        },
        "yaxis": {
         "title": {
          "text": "Y"
         }
        }
       }
      }
     },
     "metadata": {},
     "output_type": "display_data"
    }
   ],
   "source": [
    "import plotly.graph_objs as go\n",
    "\n",
    "x = [x for x, y in reduced_dims]\n",
    "y = [y for x, y in reduced_dims]\n",
    "\n",
    "examples = df_visio_mistral_embed[\"Answers\"].tolist()\n",
    "\n",
    "fig = go.Figure()\n",
    "\n",
    "fig.add_trace(go.Scatter(\n",
    "    x=x,\n",
    "    y=y,\n",
    "    mode='markers',\n",
    "    text = examples,\n",
    "    marker=dict(color='blue', opacity=0.3)\n",
    "))\n",
    "\n",
    "fig.update_layout(\n",
    "    title=\"Embedded Answers/Solutions using the Embedding Model: text-embedding-3-large\",\n",
    "    xaxis_title=\"X\",\n",
    "    yaxis_title=\"Y\"\n",
    ")\n",
    "\n",
    "fig.show()"
   ]
  },
  {
   "cell_type": "code",
   "execution_count": 510,
   "metadata": {},
   "outputs": [
    {
     "data": {
      "text/plain": [
       "(100, 3)"
      ]
     },
     "execution_count": 510,
     "metadata": {},
     "output_type": "execute_result"
    }
   ],
   "source": [
    "import pandas as pd\n",
    "from sklearn.manifold import TSNE\n",
    "import numpy as np\n",
    "from ast import literal_eval\n",
    "import plotly.graph_objs as go\n",
    "import numpy as np\n",
    "\n",
    "matrix = np.array(df_visio_3_large[\"Embeddings\"].apply(literal_eval).to_list())\n",
    "\n",
    "tsne = TSNE(n_components=3, perplexity=15, random_state=42, init='random', learning_rate=200)\n",
    "reduced_dims = tsne.fit_transform(matrix)\n",
    "reduced_dims.shape"
   ]
  },
  {
   "cell_type": "markdown",
   "metadata": {},
   "source": [
    "### Visualization (3 Dimensions)"
   ]
  },
  {
   "cell_type": "code",
   "execution_count": 511,
   "metadata": {},
   "outputs": [
    {
     "data": {
      "application/vnd.plotly.v1+json": {
       "config": {
        "plotlyServerURL": "https://plot.ly"
       },
       "data": [
        {
         "marker": {
          "color": "blue",
          "opacity": 0.3,
          "size": 5
         },
         "mode": "markers",
         "text": [
          "SAP S/4HANA ist eine Enterprise Resource Planning (ERP)-Suite, die auf der In-Memory-Datenbanktechnologie von SAP HANA basiert.",
          "Zu den Vorteilen von SAP S/4HANA gehören eine verbesserte Performance, Echtzeitanalysen, vereinfachte Prozesse und eine modernere Benutzeroberfläche.",
          "Die Hauptunterschiede umfassen die In-Memory-Datenbanktechnologie, die vereinfachten Datenmodelle, die neue Benutzeroberfläche und die Integration von Analysen und Prognosen.",
          "SAP S/4HANA umfasst Module für Finanzen, Beschaffung, Produktion, Vertrieb, Lagerhaltung und mehr.",
          "Ja, eine Migration ist erforderlich, da SAP S/4HANA eine neue Architektur und Datenbanktechnologie verwendet.",
          "Die Dauer kann je nach Unternehmensgröße, Komplexität der Systeme und gewählter Migrationsmethode variieren.",
          "In-Memory-Technologien ermöglichen eine schnellere Datenverarbeitung und Echtzeitanalysen.",
          "Beide Optionen sind möglich, und die Entscheidung hängt von den Unternehmensanforderungen ab.",
          "Die Lizenzierung basiert auf verschiedenen Faktoren wie Nutzeranzahl, Funktionsumfang und Implementierungsmethode.",
          "Bestehende Entwicklungen müssen möglicherweise angepasst werden, um mit den neuen Datenstrukturen von SAP S/4HANA kompatibel zu sein.",
          "Einige können weiterverwendet werden, aber viele Anpassungen müssen möglicherweise aktualisiert oder neu entwickelt werden.",
          "Ja, SAP S/4HANA bietet Funktionen wie SAP Fiori für intuitive Benutzeroberflächen und integrierte Analytics.",
          "SAP bietet verschiedene Dienstleistungen wie Beratung, Schulungen und Support für S/4HANA-Implementierungen an.",
          "Machine Learning und künstliche Intelligenz werden für Funktionen wie Predictive Analytics und automatisierte Prozesse in SAP S/4HANA verwendet.",
          "SAP S/4HANA kann nahtlos mit anderen SAP-Lösungen wie SAP SuccessFactors und SAP Ariba integriert werden.",
          "Ja, SAP bietet Schulungen und Zertifizierungen für SAP S/4HANA an.",
          "Ja, SAP S/4HANA kann über APIs und Middleware mit Drittanbieteranwendungen integriert werden.",
          "SAP bietet einen umfassenden Support für SAP S/4HANA mit regelmäßigen Updates und technischem Support.",
          "SAP S/4HANA erfordert eine neue Datenbankarchitektur und unterstützt moderne Technologien wie Cloud-Computing und IoT.",
          "Branchen wie Fertigung, Handel und Dienstleistungen profitieren besonders von den Funktionen und der Leistung von SAP S/4HANA.",
          "SAP Fieldglass ist eine cloudbasierte Plattform für das Management von externen Arbeitskräften und Dienstleistungsanbietern.",
          "SAP Fieldglass bietet Funktionen wie Beschaffung, Auftragsmanagement, Lieferantenverwaltung, Abrechnung und Compliance-Management.",
          "SAP Fieldglass ist für Unternehmen aller Größen und Branchen geeignet, die externe Arbeitskräfte oder Dienstleistungen nutzen.",
          "Die Nutzung von SAP Fieldglass ermöglicht eine bessere Kontrolle über externe Ressourcen, Kosteneinsparungen, verbesserte Compliance und beschleunigte Beschaffungsprozesse.",
          "SAP Fieldglass kann nahtlos mit anderen SAP-Produkten wie SAP SuccessFactors und SAP ERP integriert werden.",
          "SAP Fieldglass spielt eine wichtige Rolle bei der Verwaltung von Auftragnehmern, Freiberuflern und Dienstleistungsanbietern im Rahmen des Talentmanagements.",
          "Ja, SAP Fieldglass kann mit verschiedenen HR-Systemen und Enterprise-Resource-Planning-Systemen integriert werden.",
          "SAP Fieldglass erleichtert die Verwaltung von Arbeitsverträgen, Genehmigungsprozessen und Compliance-Anforderungen durch automatisierte Workflows und Dashboards.",
          "Ja, SAP Fieldglass bietet Funktionen für Compliance- und Risikomanagement wie Überprüfung von Lieferanten, Vertrags- und Rechnungsprüfung sowie Risikobewertung.",
          "SAP Fieldglass bietet umfassende Berichterstattungs- und Analysefunktionen für Leistungskennzahlen, Ausgabenanalyse und Risikomanagement.",
          "Ja, SAP Fieldglass ermöglicht die effiziente Verwaltung von globalen Arbeitskräften, Lieferanten und Verträgen.",
          "Die Implementierung von SAP Fieldglass erfolgt typischerweise durch einen strukturierten Prozess unter Einbeziehung von Beratern und technischem Support.",
          "Ja, SAP bietet Schulungs- und Zertifizierungsmöglichkeiten für SAP Fieldglass an, um die Benutzerkompetenz zu verbessern.",
          "Ja, SAP Fieldglass unterstützt benutzerdefinierte Anpassungen und Konfigurationen gemäß den spezifischen Anforderungen des Unternehmens.",
          "Ja, SAP Fieldglass bietet mobile Anwendungen für die einfache Nutzung und Verwaltung auch unterwegs.",
          "Die Kostenstruktur für SAP Fieldglass umfasst typischerweise Lizenzgebühren, Implementierungskosten und laufende Servicegebühren basierend auf der Nutzung.",
          "SAP Fieldglass implementiert Sicherheitsmaßnahmen wie Datenverschlüsselung, Zugriffskontrollen und regelmäßige Sicherheitsaudits.",
          "Ja, SAP Fieldglass unterstützt mehrsprachige Benutzeroberflächen, um den globalen Einsatz zu erleichtern.",
          "Ja, SAP Fieldglass bietet Funktionen zur Unterstützung der Einhaltung von Vorschriften wie GDPR und andere Datenschutzbestimmungen.",
          "SAP Fieldglass bietet umfassenden Support, einschließlich technischem Support, Schulungen und regelmäßigen Updates.",
          "SAP Enable Now ist eine Lösung für das digitale Lern- und Wissensmanagement, die Schulungen, Leistungssupport und Dokumentationen bereitstellt.",
          "SAP Enable Now bietet Funktionen wie die Erstellung interaktiver Lerninhalte, Leistungssupporttools, Software-Dokumentationen und Schulungsanalyse.",
          "SAP Enable Now ist für Unternehmen jeder Größe und Branche geeignet, die Schulungen für Mitarbeiter, Kunden und Partner benötigen.",
          "Die Nutzung von SAP Enable Now ermöglicht eine effiziente Schulung, verbesserte Produktivität, schnellere Einarbeitung neuer Mitarbeiter und konsistente Wissensvermittlung.",
          "SAP Enable Now kann nahtlos mit anderen SAP-Produkten wie SAP SuccessFactors und SAP Learning Solution integriert werden.",
          "SAP Enable Now spielt eine wichtige Rolle bei der Erstellung, Bereitstellung und Verwaltung von Schulungsressourcen für Mitarbeiter und Kunden.",
          "Ja, SAP Enable Now kann für die Schulung von Endbenutzern in SAP-Anwendungen sowie anderen Unternehmensanwendungen verwendet werden.",
          "Die Erstellung von Lerninhalten in SAP Enable Now erfolgt über eine benutzerfreundliche Oberfläche mit integrierten Tools für die Aufnahme, Bearbeitung und Veröffentlichung von Schulungsinhalten.",
          "Ja, SAP Enable Now bietet Funktionen für das Performance-Support wie kontextbezogene Hilfen, Tutorials und Benutzerleitfäden.",
          "SAP Enable Now unterstützt Schulungsformate wie interaktive Simulationen, Videos, Präsentationen und Online-Kurse.",
          "Ja, SAP Enable Now ermöglicht die Erstellung von Schulungsmaterial in verschiedenen Sprachen für globale Schulungsinitiativen.",
          "Die Bereitstellung von Lerninhalten für Benutzer erfolgt über verschiedene Kanäle wie Lernportale, Intranets und mobile Anwendungen.",
          "Ja, SAP Enable Now bietet Funktionen für Benutzerfeedback und Leistungsanalyse zur kontinuierlichen Verbesserung der Schulungsressourcen.",
          "Ja, SAP Enable Now kann zur Erstellung von Software-Dokumentationen wie Benutzerhandbüchern, Hilfedateien und Prozessdokumentationen verwendet werden.",
          "SAP bietet Schulungsressourcen, Schulungen und technischen Support für die Implementierung und Nutzung von SAP Enable Now an.",
          "Ja, SAP Enable Now kann sowohl als cloudbasierte Lösung als auch als On-Premise-Installation bereitgestellt werden.",
          "Die Lizenzierung von SAP Enable Now erfolgt typischerweise auf Basis der Anzahl der Benutzer oder der Nutzungsdauer.",
          "Ja, SAP Enable Now bietet Funktionen für die Verwaltung von Lernressourcen, Benutzerzugriff und Schulungsplanung an.",
          "Ja, SAP Enable Now unterstützt die Integration mit gängigen Learning-Management-Systemen (LMS) zur nahtlosen Schulungsverwaltung.",
          "SAP bietet umfassenden Support und regelmäßige Wartung für SAP Enable Now, einschließlich technischem Support, Schulungen und Updates.",
          "SAP Concur ist eine cloudbasierte Lösung für das Reise- und Ausgabenmanagement, die Unternehmen dabei unterstützt, Reisekosten zu verfolgen, Ausgaben zu kontrollieren und Compliance sicherzustellen.",
          "SAP Concur bietet Dienste wie Reisebuchung, Spesenabrechnung, Ausgabenmanagement, Reiserichtlinien-Compliance und Analyse von Reiseausgaben an.",
          "SAP Concur ist für Unternehmen jeder Größe und Branche geeignet, die Reise- und Ausgabenmanagementlösungen benötigen.",
          "Die Nutzung von SAP Concur ermöglicht eine effizientere Verwaltung von Reisen und Ausgaben, bessere Kontrolle über Ausgaben, Einhaltung von Reiserichtlinien und schnellere Erstattung von Spesen.",
          "SAP Concur kann nahtlos mit anderen SAP-Produkten wie SAP ERP und SAP SuccessFactors integriert werden, um eine ganzheitliche Lösung für das Unternehmensmanagement zu bieten.",
          "SAP Concur spielt eine wichtige Rolle bei der Vereinfachung und Automatisierung von Prozessen rund um das Reise- und Ausgabenmanagement, einschließlich Reisebuchungen, Spesenabrechnungen und Compliance.",
          "Ja, SAP Concur kann Reiserichtlinien und Compliance-Regeln durch automatisierte Richtlinienprüfungen und Warnungen durchsetzen.",
          "Ja, SAP Concur bietet Funktionen für die Automatisierung von Ausgabenabrechnungen durch Erfassung von Ausgaben, Zuweisung von Kosten und Genehmigung von Ausgaben.",
          "Ja, SAP Concur unterstützt die Verwaltung von Reisebuchungen und Reiseplänen durch Integration mit Reiseanbietern und -plattformen.",
          "Die Einreichung von Spesenberichten in SAP Concur erfolgt über eine benutzerfreundliche Oberfläche mit Optionen für die Erfassung von Ausgaben, Beifügen von Belegen und Zuordnung von Kosten.",
          "Ja, SAP Concur bietet Funktionen für die Genehmigung von Reiseanträgen durch Vorgesetzte oder entsprechende Genehmigungsinstanzen.",
          "Ja, SAP Concur kann Kreditkartentransaktionen integrieren und verfolgen, um Ausgaben automatisch zu erfassen und in Spesenberichte einzubeziehen.",
          "SAP Concur bietet verschiedene Berichterstattungs- und Analysefunktionen für Reiseausgaben, Budgetvergleiche und Ausgabenkategorien.",
          "Ja, SAP Concur bietet Funktionen für die Einhaltung von Steuervorschriften und Vorschriften durch automatische Steuerberechnungen und -abzüge.",
          "Ja, SAP Concur kann für die Verwaltung von Firmenkarten und Reisebudgets verwendet werden, um Ausgaben zu überwachen und Budgets einzuhalten.",
          "SAP bietet Schulungsressourcen, Schulungen und technischen Support für die Implementierung und Nutzung von SAP Concur an.",
          "Ja, SAP Concur ist eine cloudbasierte Lösung, die über das Internet zugänglich ist.",
          "Die Lizenzierung von SAP Concur erfolgt typischerweise auf Basis der Anzahl der Benutzer oder der Nutzungsdauer.",
          "Ja, SAP Concur bietet Funktionen für die Reisebuchung und -planung über Integration mit Reiseanbietern und -plattformen an.",
          "SAP bietet umfassenden Support und regelmäßige Wartung für SAP Concur, einschließlich technischem Support, Schulungen und Updates.",
          "SAP SuccessFactors ist eine cloudbasierte Lösung für das Human Capital Management (HCM), die Funktionen wie Personalverwaltung, Talentmanagement, Leistungsmanagement, Mitarbeiterentwicklung und Analyse bietet.",
          "SAP SuccessFactors bietet Funktionen wie Personalverwaltung, Rekrutierung, Onboarding, Leistungsmanagement, Mitarbeiterentwicklung, Vergütungsmanagement und Analyse.",
          "SAP SuccessFactors ist für Unternehmen jeder Größe und Branche geeignet, die eine moderne und umfassende Lösung für das Personalmanagement suchen.",
          "Die Nutzung von SAP SuccessFactors ermöglicht eine effiziente Verwaltung von Personalressourcen, bessere Mitarbeiterentwicklung, höhere Mitarbeiterbindung und bessere Geschäftsergebnisse.",
          "SAP SuccessFactors kann nahtlos mit anderen SAP-Produkten wie SAP ERP und SAP Concur integriert werden, um eine ganzheitliche Lösung für das Unternehmensmanagement zu bieten.",
          "SAP SuccessFactors spielt eine wichtige Rolle bei der Verwaltung des gesamten Mitarbeiterlebenszyklus, von der Rekrutierung bis zur Pensionierung, und unterstützt Unternehmen dabei, talentierte Mitarbeiter zu identifizieren, zu entwickeln und zu binden.",
          "Ja, SAP SuccessFactors bietet Funktionen für die Rekrutierung von Mitarbeitern, einschließlich Stellenanzeigen, Bewerbungsmanagement und Einstellungsprozessen.",
          "Ja, SAP SuccessFactors bietet Funktionen für das Leistungsmanagement, einschließlich Zielsetzung, Leistungsbeurteilung und Belohnungsmanagement.",
          "Ja, SAP SuccessFactors unterstützt die Mitarbeiterentwicklung und Schulung durch Funktionen wie Lernmanagement, Karriereentwicklung und individuelle Entwicklungspläne.",
          "Die Durchführung von Mitarbeiterbewertungen in SAP SuccessFactors erfolgt durch automatisierte Workflows, Zielsetzungsgespräche und kontinuierliches Feedback zwischen Mitarbeitern und Vorgesetzten.",
          "Ja, SAP SuccessFactors bietet Funktionen für die Verwaltung von Vergütungen und Belohnungen, einschließlich Gehaltsabrechnung, Bonussystemen und Zusatzleistungen.",
          "Ja, SAP SuccessFactors kann die Einhaltung von Compliance- und HR-Richtlinien durch automatisierte Prozesse, Compliance-Prüfungen und Berichterstattung unterstützen.",
          "SAP SuccessFactors bietet verschiedene Berichterstattungs- und Analysefunktionen für Personalanalysen, Leistungskennzahlen und Talentmanagement.",
          "Ja, SAP SuccessFactors bietet Funktionen für das Mitarbeiterengagement und die Mitarbeiterbindung, einschließlich Mitarbeiterumfragen, Feedbacksystemen und Anerkennungsprogrammen.",
          "Ja, SAP SuccessFactors kann für die Nachfolgeplanung und Talententwicklung verwendet werden, um talentierte Mitarbeiter zu identifizieren und deren Entwicklung zu fördern.",
          "SAP bietet Schulungsressourcen, Schulungen und technischen Support für die Implementierung und Nutzung von SAP SuccessFactors an.",
          "Ja, SAP SuccessFactors ist eine cloudbasierte Lösung, die über das Internet zugänglich ist.",
          "Die Lizenzierung von SAP SuccessFactors erfolgt typischerweise auf Basis der Anzahl der Benutzer oder der Nutzungsdauer.",
          "Ja, SAP SuccessFactors bietet Funktionen für die Arbeitszeitverwaltung und -planung, einschließlich Schichtplanung, Urlaubsverwaltung und Zeiterfassung.",
          "SAP bietet umfassenden Support und regelmäßige Wartung für SAP SuccessFactors, einschließlich technischem Support, Schulungen und Updates."
         ],
         "type": "scatter3d",
         "x": [
          -217.49966430664062,
          -175.9163360595703,
          244.91477966308594,
          95.72264862060547,
          128.48997497558594,
          133.68722534179688,
          77.68081665039062,
          193.37669372558594,
          152.45411682128906,
          -100.0097885131836,
          96.53514099121094,
          118.18545532226562,
          -119.94343566894531,
          -137.31158447265625,
          167.76170349121094,
          63.141536712646484,
          -111.07891082763672,
          174.1417694091797,
          162.54196166992188,
          160.31124877929688,
          14.650435447692871,
          -108.73709869384766,
          -184.2904510498047,
          -156.10964965820312,
          -504.86578369140625,
          -124.55101013183594,
          -91.5254898071289,
          -195.0269317626953,
          193.74224853515625,
          -39.62933349609375,
          -110.79515838623047,
          420.9258728027344,
          -63.49579620361328,
          -233.17910766601562,
          -70.22080993652344,
          -125.66179656982422,
          -187.3597869873047,
          73.32941436767578,
          -206.16409301757812,
          12.67573070526123,
          -252.86485290527344,
          -75.01387786865234,
          215.92315673828125,
          133.10960388183594,
          142.25946044921875,
          72.36521911621094,
          185.79217529296875,
          -39.196712493896484,
          -139.99610900878906,
          -138.8053436279297,
          -150.63784790039062,
          106.94955444335938,
          -242.6140899658203,
          -148.57391357421875,
          43.80552291870117,
          108.64616394042969,
          24.313949584960938,
          -289.0951232910156,
          238.59918212890625,
          131.5900115966797,
          74.34822845458984,
          -38.23359680175781,
          -36.05126190185547,
          248.4342498779297,
          -87.77342987060547,
          -10.143043518066406,
          25.120275497436523,
          -113.11312866210938,
          -4.768060207366943,
          -55.29967498779297,
          -4.169251918792725,
          -6.610367774963379,
          44.827369689941406,
          -12.569581985473633,
          -349.2059631347656,
          686.8912353515625,
          -87.68077850341797,
          88.53782653808594,
          -38.36092758178711,
          -412.62115478515625,
          21.641416549682617,
          28.610881805419922,
          0.23629972338676453,
          -171.39328002929688,
          31.785675048828125,
          -20.49713134765625,
          50.54471206665039,
          -201.1358642578125,
          -242.19113159179688,
          13.238953590393066,
          -4.408756256103516,
          110.31987762451172,
          41.533164978027344,
          67.95850372314453,
          17.26262092590332,
          94.65025329589844,
          -140.06350708007812,
          -56.74660110473633,
          -12.294817924499512,
          -64.6766357421875
         ],
         "y": [
          14.816465377807617,
          -41.55998229980469,
          -98.820556640625,
          -101.67066192626953,
          25.96946907043457,
          -30.57529640197754,
          -194.43862915039062,
          -9.086831092834473,
          -28.211368560791016,
          226.77166748046875,
          -241.93991088867188,
          -147.2003631591797,
          -116.6668930053711,
          11.975250244140625,
          -145.4290771484375,
          29.368484497070312,
          -21.606409072875977,
          62.41789627075195,
          -49.21681594848633,
          -137.36962890625,
          7.936324596405029,
          50.163761138916016,
          -14.492044448852539,
          58.986961364746094,
          189.48179626464844,
          -124.89183044433594,
          -37.94576644897461,
          -113.89950561523438,
          108.83675384521484,
          5.262623310089111,
          -57.05204391479492,
          -72.48107147216797,
          116.93983459472656,
          -353.1878356933594,
          30.00153923034668,
          64.00872039794922,
          23.19255828857422,
          235.079833984375,
          -67.55272674560547,
          254.93377685546875,
          -73.3677978515625,
          -162.58642578125,
          65.30187225341797,
          -162.685302734375,
          144.37713623046875,
          134.22225952148438,
          -174.00592041015625,
          -104.38638305664062,
          224.4869384765625,
          162.287841796875,
          354.99371337890625,
          67.36503601074219,
          102.17924499511719,
          -212.47085571289062,
          -59.20979309082031,
          109.65363311767578,
          -173.45150756835938,
          311.5306091308594,
          -179.51002502441406,
          170.77122497558594,
          -352.270263671875,
          44.387733459472656,
          209.23269653320312,
          6.364814758300781,
          256.2367858886719,
          -117.23160552978516,
          -49.41416549682617,
          121.28718566894531,
          107.19247436523438,
          -41.65121841430664,
          -266.8042907714844,
          231.7255859375,
          71.39347839355469,
          83.11306762695312,
          49.98489761352539,
          -458.6534729003906,
          229.9439697265625,
          -98.29994201660156,
          129.0725555419922,
          123.1782455444336,
          155.3040313720703,
          -167.08731079101562,
          80.0795669555664,
          146.7241668701172,
          -23.074844360351562,
          -338.87384033203125,
          77.34053802490234,
          -448.9480285644531,
          -59.07423782348633,
          -17.75206184387207,
          -113.06781768798828,
          62.03628158569336,
          -10.63391399383545,
          182.14073181152344,
          168.1483917236328,
          -63.91559600830078,
          -163.54473876953125,
          30.1475887298584,
          -96.55318450927734,
          -183.60098266601562
         ],
         "z": [
          104.8759994506836,
          98.4135971069336,
          -12.261191368103027,
          50.961158752441406,
          109.57050323486328,
          165.1613311767578,
          -38.559356689453125,
          -55.57009506225586,
          -155.90969848632812,
          -89.04309844970703,
          104.46802520751953,
          137.08299255371094,
          127.43218994140625,
          172.01052856445312,
          30.239675521850586,
          -208.79263305664062,
          -227.54974365234375,
          -124.78901672363281,
          52.279605865478516,
          -93.53394317626953,
          386.7327575683594,
          -125.07891082763672,
          -17.162832260131836,
          -60.024173736572266,
          336.3503112792969,
          -34.36382293701172,
          6.5970540046691895,
          20.163558959960938,
          6.005763053894043,
          -152.0424346923828,
          -87.25367736816406,
          -140.8252410888672,
          -104.65904998779297,
          -202.50967407226562,
          -55.36115646362305,
          32.647891998291016,
          -148.46212768554688,
          58.98417282104492,
          -103.07494354248047,
          -26.136714935302734,
          -222.5310821533203,
          -132.4913787841797,
          145.82200622558594,
          1132.4727783203125,
          97.17098236083984,
          -184.8100128173828,
          -805.1260375976562,
          -211.9661865234375,
          -621.8692626953125,
          1.3349865674972534,
          398.2166442871094,
          224.89630126953125,
          10.935173988342285,
          -382.5401306152344,
          -139.5947265625,
          -430.4318542480469,
          -148.93894958496094,
          338.4776916503906,
          -489.4142150878906,
          -68.40560150146484,
          -388.09979248046875,
          97.61861419677734,
          143.9324493408203,
          49.08051300048828,
          493.521484375,
          164.51727294921875,
          253.89532470703125,
          145.3222198486328,
          163.30487060546875,
          115.58501434326172,
          14.999937057495117,
          -189.65142822265625,
          80.6136474609375,
          -302.99676513671875,
          85.4669189453125,
          65.78150177001953,
          57.052207946777344,
          -229.49594116210938,
          95.50774383544922,
          -39.530548095703125,
          -1.1529861688613892,
          63.799888610839844,
          -13.665557861328125,
          -110.16384887695312,
          155.34576416015625,
          111.2630615234375,
          -97.6667251586914,
          -304.0607604980469,
          466.4935607910156,
          -45.930843353271484,
          -52.65443801879883,
          -13.804482460021973,
          42.302391052246094,
          181.31031799316406,
          -101.36109924316406,
          -47.9759521484375,
          292.69122314453125,
          233.1048126220703,
          41.302574157714844,
          28.568872451782227
         ]
        }
       ],
       "layout": {
        "scene": {
         "xaxis": {
          "title": {
           "text": "X"
          }
         },
         "yaxis": {
          "title": {
           "text": "Y"
          }
         },
         "zaxis": {
          "title": {
           "text": "Z"
          }
         }
        },
        "template": {
         "data": {
          "bar": [
           {
            "error_x": {
             "color": "#2a3f5f"
            },
            "error_y": {
             "color": "#2a3f5f"
            },
            "marker": {
             "line": {
              "color": "#E5ECF6",
              "width": 0.5
             },
             "pattern": {
              "fillmode": "overlay",
              "size": 10,
              "solidity": 0.2
             }
            },
            "type": "bar"
           }
          ],
          "barpolar": [
           {
            "marker": {
             "line": {
              "color": "#E5ECF6",
              "width": 0.5
             },
             "pattern": {
              "fillmode": "overlay",
              "size": 10,
              "solidity": 0.2
             }
            },
            "type": "barpolar"
           }
          ],
          "carpet": [
           {
            "aaxis": {
             "endlinecolor": "#2a3f5f",
             "gridcolor": "white",
             "linecolor": "white",
             "minorgridcolor": "white",
             "startlinecolor": "#2a3f5f"
            },
            "baxis": {
             "endlinecolor": "#2a3f5f",
             "gridcolor": "white",
             "linecolor": "white",
             "minorgridcolor": "white",
             "startlinecolor": "#2a3f5f"
            },
            "type": "carpet"
           }
          ],
          "choropleth": [
           {
            "colorbar": {
             "outlinewidth": 0,
             "ticks": ""
            },
            "type": "choropleth"
           }
          ],
          "contour": [
           {
            "colorbar": {
             "outlinewidth": 0,
             "ticks": ""
            },
            "colorscale": [
             [
              0,
              "#0d0887"
             ],
             [
              0.1111111111111111,
              "#46039f"
             ],
             [
              0.2222222222222222,
              "#7201a8"
             ],
             [
              0.3333333333333333,
              "#9c179e"
             ],
             [
              0.4444444444444444,
              "#bd3786"
             ],
             [
              0.5555555555555556,
              "#d8576b"
             ],
             [
              0.6666666666666666,
              "#ed7953"
             ],
             [
              0.7777777777777778,
              "#fb9f3a"
             ],
             [
              0.8888888888888888,
              "#fdca26"
             ],
             [
              1,
              "#f0f921"
             ]
            ],
            "type": "contour"
           }
          ],
          "contourcarpet": [
           {
            "colorbar": {
             "outlinewidth": 0,
             "ticks": ""
            },
            "type": "contourcarpet"
           }
          ],
          "heatmap": [
           {
            "colorbar": {
             "outlinewidth": 0,
             "ticks": ""
            },
            "colorscale": [
             [
              0,
              "#0d0887"
             ],
             [
              0.1111111111111111,
              "#46039f"
             ],
             [
              0.2222222222222222,
              "#7201a8"
             ],
             [
              0.3333333333333333,
              "#9c179e"
             ],
             [
              0.4444444444444444,
              "#bd3786"
             ],
             [
              0.5555555555555556,
              "#d8576b"
             ],
             [
              0.6666666666666666,
              "#ed7953"
             ],
             [
              0.7777777777777778,
              "#fb9f3a"
             ],
             [
              0.8888888888888888,
              "#fdca26"
             ],
             [
              1,
              "#f0f921"
             ]
            ],
            "type": "heatmap"
           }
          ],
          "heatmapgl": [
           {
            "colorbar": {
             "outlinewidth": 0,
             "ticks": ""
            },
            "colorscale": [
             [
              0,
              "#0d0887"
             ],
             [
              0.1111111111111111,
              "#46039f"
             ],
             [
              0.2222222222222222,
              "#7201a8"
             ],
             [
              0.3333333333333333,
              "#9c179e"
             ],
             [
              0.4444444444444444,
              "#bd3786"
             ],
             [
              0.5555555555555556,
              "#d8576b"
             ],
             [
              0.6666666666666666,
              "#ed7953"
             ],
             [
              0.7777777777777778,
              "#fb9f3a"
             ],
             [
              0.8888888888888888,
              "#fdca26"
             ],
             [
              1,
              "#f0f921"
             ]
            ],
            "type": "heatmapgl"
           }
          ],
          "histogram": [
           {
            "marker": {
             "pattern": {
              "fillmode": "overlay",
              "size": 10,
              "solidity": 0.2
             }
            },
            "type": "histogram"
           }
          ],
          "histogram2d": [
           {
            "colorbar": {
             "outlinewidth": 0,
             "ticks": ""
            },
            "colorscale": [
             [
              0,
              "#0d0887"
             ],
             [
              0.1111111111111111,
              "#46039f"
             ],
             [
              0.2222222222222222,
              "#7201a8"
             ],
             [
              0.3333333333333333,
              "#9c179e"
             ],
             [
              0.4444444444444444,
              "#bd3786"
             ],
             [
              0.5555555555555556,
              "#d8576b"
             ],
             [
              0.6666666666666666,
              "#ed7953"
             ],
             [
              0.7777777777777778,
              "#fb9f3a"
             ],
             [
              0.8888888888888888,
              "#fdca26"
             ],
             [
              1,
              "#f0f921"
             ]
            ],
            "type": "histogram2d"
           }
          ],
          "histogram2dcontour": [
           {
            "colorbar": {
             "outlinewidth": 0,
             "ticks": ""
            },
            "colorscale": [
             [
              0,
              "#0d0887"
             ],
             [
              0.1111111111111111,
              "#46039f"
             ],
             [
              0.2222222222222222,
              "#7201a8"
             ],
             [
              0.3333333333333333,
              "#9c179e"
             ],
             [
              0.4444444444444444,
              "#bd3786"
             ],
             [
              0.5555555555555556,
              "#d8576b"
             ],
             [
              0.6666666666666666,
              "#ed7953"
             ],
             [
              0.7777777777777778,
              "#fb9f3a"
             ],
             [
              0.8888888888888888,
              "#fdca26"
             ],
             [
              1,
              "#f0f921"
             ]
            ],
            "type": "histogram2dcontour"
           }
          ],
          "mesh3d": [
           {
            "colorbar": {
             "outlinewidth": 0,
             "ticks": ""
            },
            "type": "mesh3d"
           }
          ],
          "parcoords": [
           {
            "line": {
             "colorbar": {
              "outlinewidth": 0,
              "ticks": ""
             }
            },
            "type": "parcoords"
           }
          ],
          "pie": [
           {
            "automargin": true,
            "type": "pie"
           }
          ],
          "scatter": [
           {
            "fillpattern": {
             "fillmode": "overlay",
             "size": 10,
             "solidity": 0.2
            },
            "type": "scatter"
           }
          ],
          "scatter3d": [
           {
            "line": {
             "colorbar": {
              "outlinewidth": 0,
              "ticks": ""
             }
            },
            "marker": {
             "colorbar": {
              "outlinewidth": 0,
              "ticks": ""
             }
            },
            "type": "scatter3d"
           }
          ],
          "scattercarpet": [
           {
            "marker": {
             "colorbar": {
              "outlinewidth": 0,
              "ticks": ""
             }
            },
            "type": "scattercarpet"
           }
          ],
          "scattergeo": [
           {
            "marker": {
             "colorbar": {
              "outlinewidth": 0,
              "ticks": ""
             }
            },
            "type": "scattergeo"
           }
          ],
          "scattergl": [
           {
            "marker": {
             "colorbar": {
              "outlinewidth": 0,
              "ticks": ""
             }
            },
            "type": "scattergl"
           }
          ],
          "scattermapbox": [
           {
            "marker": {
             "colorbar": {
              "outlinewidth": 0,
              "ticks": ""
             }
            },
            "type": "scattermapbox"
           }
          ],
          "scatterpolar": [
           {
            "marker": {
             "colorbar": {
              "outlinewidth": 0,
              "ticks": ""
             }
            },
            "type": "scatterpolar"
           }
          ],
          "scatterpolargl": [
           {
            "marker": {
             "colorbar": {
              "outlinewidth": 0,
              "ticks": ""
             }
            },
            "type": "scatterpolargl"
           }
          ],
          "scatterternary": [
           {
            "marker": {
             "colorbar": {
              "outlinewidth": 0,
              "ticks": ""
             }
            },
            "type": "scatterternary"
           }
          ],
          "surface": [
           {
            "colorbar": {
             "outlinewidth": 0,
             "ticks": ""
            },
            "colorscale": [
             [
              0,
              "#0d0887"
             ],
             [
              0.1111111111111111,
              "#46039f"
             ],
             [
              0.2222222222222222,
              "#7201a8"
             ],
             [
              0.3333333333333333,
              "#9c179e"
             ],
             [
              0.4444444444444444,
              "#bd3786"
             ],
             [
              0.5555555555555556,
              "#d8576b"
             ],
             [
              0.6666666666666666,
              "#ed7953"
             ],
             [
              0.7777777777777778,
              "#fb9f3a"
             ],
             [
              0.8888888888888888,
              "#fdca26"
             ],
             [
              1,
              "#f0f921"
             ]
            ],
            "type": "surface"
           }
          ],
          "table": [
           {
            "cells": {
             "fill": {
              "color": "#EBF0F8"
             },
             "line": {
              "color": "white"
             }
            },
            "header": {
             "fill": {
              "color": "#C8D4E3"
             },
             "line": {
              "color": "white"
             }
            },
            "type": "table"
           }
          ]
         },
         "layout": {
          "annotationdefaults": {
           "arrowcolor": "#2a3f5f",
           "arrowhead": 0,
           "arrowwidth": 1
          },
          "autotypenumbers": "strict",
          "coloraxis": {
           "colorbar": {
            "outlinewidth": 0,
            "ticks": ""
           }
          },
          "colorscale": {
           "diverging": [
            [
             0,
             "#8e0152"
            ],
            [
             0.1,
             "#c51b7d"
            ],
            [
             0.2,
             "#de77ae"
            ],
            [
             0.3,
             "#f1b6da"
            ],
            [
             0.4,
             "#fde0ef"
            ],
            [
             0.5,
             "#f7f7f7"
            ],
            [
             0.6,
             "#e6f5d0"
            ],
            [
             0.7,
             "#b8e186"
            ],
            [
             0.8,
             "#7fbc41"
            ],
            [
             0.9,
             "#4d9221"
            ],
            [
             1,
             "#276419"
            ]
           ],
           "sequential": [
            [
             0,
             "#0d0887"
            ],
            [
             0.1111111111111111,
             "#46039f"
            ],
            [
             0.2222222222222222,
             "#7201a8"
            ],
            [
             0.3333333333333333,
             "#9c179e"
            ],
            [
             0.4444444444444444,
             "#bd3786"
            ],
            [
             0.5555555555555556,
             "#d8576b"
            ],
            [
             0.6666666666666666,
             "#ed7953"
            ],
            [
             0.7777777777777778,
             "#fb9f3a"
            ],
            [
             0.8888888888888888,
             "#fdca26"
            ],
            [
             1,
             "#f0f921"
            ]
           ],
           "sequentialminus": [
            [
             0,
             "#0d0887"
            ],
            [
             0.1111111111111111,
             "#46039f"
            ],
            [
             0.2222222222222222,
             "#7201a8"
            ],
            [
             0.3333333333333333,
             "#9c179e"
            ],
            [
             0.4444444444444444,
             "#bd3786"
            ],
            [
             0.5555555555555556,
             "#d8576b"
            ],
            [
             0.6666666666666666,
             "#ed7953"
            ],
            [
             0.7777777777777778,
             "#fb9f3a"
            ],
            [
             0.8888888888888888,
             "#fdca26"
            ],
            [
             1,
             "#f0f921"
            ]
           ]
          },
          "colorway": [
           "#636efa",
           "#EF553B",
           "#00cc96",
           "#ab63fa",
           "#FFA15A",
           "#19d3f3",
           "#FF6692",
           "#B6E880",
           "#FF97FF",
           "#FECB52"
          ],
          "font": {
           "color": "#2a3f5f"
          },
          "geo": {
           "bgcolor": "white",
           "lakecolor": "white",
           "landcolor": "#E5ECF6",
           "showlakes": true,
           "showland": true,
           "subunitcolor": "white"
          },
          "hoverlabel": {
           "align": "left"
          },
          "hovermode": "closest",
          "mapbox": {
           "style": "light"
          },
          "paper_bgcolor": "white",
          "plot_bgcolor": "#E5ECF6",
          "polar": {
           "angularaxis": {
            "gridcolor": "white",
            "linecolor": "white",
            "ticks": ""
           },
           "bgcolor": "#E5ECF6",
           "radialaxis": {
            "gridcolor": "white",
            "linecolor": "white",
            "ticks": ""
           }
          },
          "scene": {
           "xaxis": {
            "backgroundcolor": "#E5ECF6",
            "gridcolor": "white",
            "gridwidth": 2,
            "linecolor": "white",
            "showbackground": true,
            "ticks": "",
            "zerolinecolor": "white"
           },
           "yaxis": {
            "backgroundcolor": "#E5ECF6",
            "gridcolor": "white",
            "gridwidth": 2,
            "linecolor": "white",
            "showbackground": true,
            "ticks": "",
            "zerolinecolor": "white"
           },
           "zaxis": {
            "backgroundcolor": "#E5ECF6",
            "gridcolor": "white",
            "gridwidth": 2,
            "linecolor": "white",
            "showbackground": true,
            "ticks": "",
            "zerolinecolor": "white"
           }
          },
          "shapedefaults": {
           "line": {
            "color": "#2a3f5f"
           }
          },
          "ternary": {
           "aaxis": {
            "gridcolor": "white",
            "linecolor": "white",
            "ticks": ""
           },
           "baxis": {
            "gridcolor": "white",
            "linecolor": "white",
            "ticks": ""
           },
           "bgcolor": "#E5ECF6",
           "caxis": {
            "gridcolor": "white",
            "linecolor": "white",
            "ticks": ""
           }
          },
          "title": {
           "x": 0.05
          },
          "xaxis": {
           "automargin": true,
           "gridcolor": "white",
           "linecolor": "white",
           "ticks": "",
           "title": {
            "standoff": 15
           },
           "zerolinecolor": "white",
           "zerolinewidth": 2
          },
          "yaxis": {
           "automargin": true,
           "gridcolor": "white",
           "linecolor": "white",
           "ticks": "",
           "title": {
            "standoff": 15
           },
           "zerolinecolor": "white",
           "zerolinewidth": 2
          }
         }
        },
        "title": {
         "text": "Embedded Answers/Solutions using the Embedding Model: text-embedding-3-large"
        }
       }
      }
     },
     "metadata": {},
     "output_type": "display_data"
    }
   ],
   "source": [
    "import plotly.graph_objects as go\n",
    "\n",
    "x = [x for x, y, z in reduced_dims]\n",
    "y = [y for x, y, z in reduced_dims]\n",
    "z = [z for x, y, z in reduced_dims]\n",
    "\n",
    "examples = df_visio_3_large[\"Answers\"].tolist()\n",
    "\n",
    "fig = go.Figure()\n",
    "\n",
    "fig.add_trace(go.Scatter3d(\n",
    "    x=x,\n",
    "    y=y,\n",
    "    z=z,\n",
    "    mode='markers',\n",
    "    text=examples,\n",
    "    marker=dict(color='blue', opacity=0.3, size=5)\n",
    "))\n",
    "\n",
    "fig.update_layout(\n",
    "    title=\"Embedded Answers/Solutions using the Embedding Model: text-embedding-3-large\",\n",
    "    scene=dict(\n",
    "        xaxis_title=\"X\",\n",
    "        yaxis_title=\"Y\",\n",
    "        zaxis_title=\"Z\"\n",
    "    )\n",
    ")\n",
    "\n",
    "fig.show()"
   ]
  },
  {
   "cell_type": "code",
   "execution_count": 512,
   "metadata": {},
   "outputs": [],
   "source": [
    "df_modified_question_results.to_csv(\"dataframe-before-top-3.csv\")"
   ]
  },
  {
   "cell_type": "markdown",
   "metadata": {},
   "source": [
    "# Calculate Similarity Difference (Top 3 Results for Question)"
   ]
  },
  {
   "cell_type": "markdown",
   "metadata": {},
   "source": [
    "## Top-3 results: mistral-embed"
   ]
  },
  {
   "cell_type": "code",
   "execution_count": 513,
   "metadata": {},
   "outputs": [],
   "source": [
    "df_top_3_mistral_embed = pd.DataFrame()"
   ]
  },
  {
   "cell_type": "markdown",
   "metadata": {},
   "source": [
    "### General RAG Top 3 function"
   ]
  },
  {
   "cell_type": "code",
   "execution_count": 514,
   "metadata": {},
   "outputs": [
    {
     "name": "stdout",
     "output_type": "stream",
     "text": [
      "['Die Lizenzierung basiert auf verschiedenen Faktoren wie Nutzeranzahl, Funktionsumfang und Implementierungsmethode.', 'Die Lizenzierung von SAP SuccessFactors erfolgt typischerweise auf Basis der Anzahl der Benutzer oder der Nutzungsdauer.', 'Die Lizenzierung von SAP Concur erfolgt typischerweise auf Basis der Anzahl der Benutzer oder der Nutzungsdauer.']\n"
     ]
    }
   ],
   "source": [
    "import numpy as np\n",
    "from scipy.spatial.distance import cosine\n",
    "from mistralai.client import MistralClient\n",
    "\n",
    "client = MistralClient(api_key=mistral_key)\n",
    "\n",
    "def rag_top3_answers_mistral_embed(input_text, embedding_model, n=3):\n",
    "    input_embedding = client.embeddings(model=embedding_model, input=[input_text]).data[0].embedding\n",
    "    \n",
    "    similarities = []\n",
    "    \n",
    "    for question_embedding in df_with_embeddings[\"Question Embeddings: mistral-embed\"]:\n",
    "        similarity = 1 - cosine(input_embedding, question_embedding)\n",
    "        similarities.append(similarity)\n",
    "    \n",
    "    top_similar_indices = np.argsort(similarities)[-n:][::-1]\n",
    "    top_similar_questions = [df_with_embeddings.iloc[i][\"Antwort\"] for i in top_similar_indices]\n",
    "    \n",
    "    return top_similar_questions\n",
    "\n",
    "print(rag_top3_answers_mistral_embed(\"Wie funktioniert die Lizenzierung in SAP S/4HANA?\", \"mistral-embed\"))"
   ]
  },
  {
   "cell_type": "markdown",
   "metadata": {},
   "source": [
    "### Add the 3 most similar answers to Dataframe"
   ]
  },
  {
   "cell_type": "code",
   "execution_count": 515,
   "metadata": {},
   "outputs": [],
   "source": [
    "first_answers_mistral_embed = []\n",
    "second_answers_mistral_embed = []\n",
    "third_answers_mistral_embed = []\n",
    "\n",
    "for i in df_with_embeddings[\"Frage (stark modifiziert)\"]:\n",
    "    all_3_answers = rag_top3_answers_mistral_embed(i, \"mistral-embed\")\n",
    "    first_answers_mistral_embed.append(all_3_answers[0])\n",
    "    second_answers_mistral_embed.append(all_3_answers[1])\n",
    "    third_answers_mistral_embed.append(all_3_answers[2])\n",
    "\n",
    "df_top_3_mistral_embed[\"Frage (stark modifiziert)\"] = df_with_embeddings[\"Frage (stark modifiziert)\"]\n",
    "df_top_3_mistral_embed[\"Answer 1: mistral-embed\"] = first_answers_mistral_embed\n",
    "df_top_3_mistral_embed[\"Answer 2: mistral-embed\"] = second_answers_mistral_embed\n",
    "df_top_3_mistral_embed[\"Answer 3: mistral-embed\"] = third_answers_mistral_embed"
   ]
  },
  {
   "cell_type": "markdown",
   "metadata": {},
   "source": [
    "### Create Embeddings for the 3 most similar answers"
   ]
  },
  {
   "cell_type": "code",
   "execution_count": 516,
   "metadata": {},
   "outputs": [
    {
     "data": {
      "text/html": [
       "<div>\n",
       "<style scoped>\n",
       "    .dataframe tbody tr th:only-of-type {\n",
       "        vertical-align: middle;\n",
       "    }\n",
       "\n",
       "    .dataframe tbody tr th {\n",
       "        vertical-align: top;\n",
       "    }\n",
       "\n",
       "    .dataframe thead th {\n",
       "        text-align: right;\n",
       "    }\n",
       "</style>\n",
       "<table border=\"1\" class=\"dataframe\">\n",
       "  <thead>\n",
       "    <tr style=\"text-align: right;\">\n",
       "      <th></th>\n",
       "      <th>Frage (stark modifiziert)</th>\n",
       "      <th>Answer 1: mistral-embed</th>\n",
       "      <th>Answer 2: mistral-embed</th>\n",
       "      <th>Answer 3: mistral-embed</th>\n",
       "    </tr>\n",
       "  </thead>\n",
       "  <tbody>\n",
       "    <tr>\n",
       "      <th>0</th>\n",
       "      <td>S/4?</td>\n",
       "      <td>SAP S/4HANA ist eine Enterprise Resource Plann...</td>\n",
       "      <td>Zu den Vorteilen von SAP S/4HANA gehören eine ...</td>\n",
       "      <td>SAP S/4HANA erfordert eine neue Datenbankarchi...</td>\n",
       "    </tr>\n",
       "    <tr>\n",
       "      <th>1</th>\n",
       "      <td>Vorteile HANA</td>\n",
       "      <td>Zu den Vorteilen von SAP S/4HANA gehören eine ...</td>\n",
       "      <td>SAP S/4HANA ist eine Enterprise Resource Plann...</td>\n",
       "      <td>SAP S/4HANA erfordert eine neue Datenbankarchi...</td>\n",
       "    </tr>\n",
       "    <tr>\n",
       "      <th>2</th>\n",
       "      <td>SAP S/4HANA vs. SAP ERP?</td>\n",
       "      <td>Die Hauptunterschiede umfassen die In-Memory-D...</td>\n",
       "      <td>SAP S/4HANA ist eine Enterprise Resource Plann...</td>\n",
       "      <td>Zu den Vorteilen von SAP S/4HANA gehören eine ...</td>\n",
       "    </tr>\n",
       "    <tr>\n",
       "      <th>3</th>\n",
       "      <td>Module SAP S/4HANA?</td>\n",
       "      <td>SAP S/4HANA umfasst Module für Finanzen, Besch...</td>\n",
       "      <td>SAP S/4HANA ist eine Enterprise Resource Plann...</td>\n",
       "      <td>Zu den Vorteilen von SAP S/4HANA gehören eine ...</td>\n",
       "    </tr>\n",
       "    <tr>\n",
       "      <th>4</th>\n",
       "      <td>Migration zu SAP S/4HANA</td>\n",
       "      <td>Ja, eine Migration ist erforderlich, da SAP S/...</td>\n",
       "      <td>SAP S/4HANA erfordert eine neue Datenbankarchi...</td>\n",
       "      <td>Zu den Vorteilen von SAP S/4HANA gehören eine ...</td>\n",
       "    </tr>\n",
       "    <tr>\n",
       "      <th>...</th>\n",
       "      <td>...</td>\n",
       "      <td>...</td>\n",
       "      <td>...</td>\n",
       "      <td>...</td>\n",
       "    </tr>\n",
       "    <tr>\n",
       "      <th>95</th>\n",
       "      <td>Unterstützung und Schulungsressourcen für SAP ...</td>\n",
       "      <td>SAP bietet Schulungsressourcen, Schulungen und...</td>\n",
       "      <td>Ja, SAP SuccessFactors unterstützt die Mitarbe...</td>\n",
       "      <td>SAP bietet umfassenden Support und regelmäßige...</td>\n",
       "    </tr>\n",
       "    <tr>\n",
       "      <th>96</th>\n",
       "      <td>SAP SuccessFactors: Cloud?</td>\n",
       "      <td>Ja, SAP SuccessFactors ist eine cloudbasierte ...</td>\n",
       "      <td>SAP SuccessFactors ist eine cloudbasierte Lösu...</td>\n",
       "      <td>SAP SuccessFactors bietet Funktionen wie Perso...</td>\n",
       "    </tr>\n",
       "    <tr>\n",
       "      <th>97</th>\n",
       "      <td>Lizenzierung von SAP SuccessFactors?</td>\n",
       "      <td>Die Lizenzierung von SAP SuccessFactors erfolg...</td>\n",
       "      <td>Die Lizenzierung basiert auf verschiedenen Fak...</td>\n",
       "      <td>SAP SuccessFactors ist eine cloudbasierte Lösu...</td>\n",
       "    </tr>\n",
       "    <tr>\n",
       "      <th>98</th>\n",
       "      <td>Arbeitszeitverwaltung und -planung in SAP Succ...</td>\n",
       "      <td>Ja, SAP SuccessFactors bietet Funktionen für d...</td>\n",
       "      <td>SAP SuccessFactors bietet Funktionen wie Perso...</td>\n",
       "      <td>Ja, SAP SuccessFactors bietet Funktionen für d...</td>\n",
       "    </tr>\n",
       "    <tr>\n",
       "      <th>99</th>\n",
       "      <td>Support für SAP SuccessFactors?</td>\n",
       "      <td>SAP bietet umfassenden Support und regelmäßige...</td>\n",
       "      <td>SAP bietet Schulungsressourcen, Schulungen und...</td>\n",
       "      <td>Ja, SAP SuccessFactors unterstützt die Mitarbe...</td>\n",
       "    </tr>\n",
       "  </tbody>\n",
       "</table>\n",
       "<p>100 rows × 4 columns</p>\n",
       "</div>"
      ],
      "text/plain": [
       "                            Frage (stark modifiziert)  \\\n",
       "0                                                S/4?   \n",
       "1                                       Vorteile HANA   \n",
       "2                            SAP S/4HANA vs. SAP ERP?   \n",
       "3                                 Module SAP S/4HANA?   \n",
       "4                            Migration zu SAP S/4HANA   \n",
       "..                                                ...   \n",
       "95  Unterstützung und Schulungsressourcen für SAP ...   \n",
       "96                         SAP SuccessFactors: Cloud?   \n",
       "97               Lizenzierung von SAP SuccessFactors?   \n",
       "98  Arbeitszeitverwaltung und -planung in SAP Succ...   \n",
       "99                    Support für SAP SuccessFactors?   \n",
       "\n",
       "                              Answer 1: mistral-embed  \\\n",
       "0   SAP S/4HANA ist eine Enterprise Resource Plann...   \n",
       "1   Zu den Vorteilen von SAP S/4HANA gehören eine ...   \n",
       "2   Die Hauptunterschiede umfassen die In-Memory-D...   \n",
       "3   SAP S/4HANA umfasst Module für Finanzen, Besch...   \n",
       "4   Ja, eine Migration ist erforderlich, da SAP S/...   \n",
       "..                                                ...   \n",
       "95  SAP bietet Schulungsressourcen, Schulungen und...   \n",
       "96  Ja, SAP SuccessFactors ist eine cloudbasierte ...   \n",
       "97  Die Lizenzierung von SAP SuccessFactors erfolg...   \n",
       "98  Ja, SAP SuccessFactors bietet Funktionen für d...   \n",
       "99  SAP bietet umfassenden Support und regelmäßige...   \n",
       "\n",
       "                              Answer 2: mistral-embed  \\\n",
       "0   Zu den Vorteilen von SAP S/4HANA gehören eine ...   \n",
       "1   SAP S/4HANA ist eine Enterprise Resource Plann...   \n",
       "2   SAP S/4HANA ist eine Enterprise Resource Plann...   \n",
       "3   SAP S/4HANA ist eine Enterprise Resource Plann...   \n",
       "4   SAP S/4HANA erfordert eine neue Datenbankarchi...   \n",
       "..                                                ...   \n",
       "95  Ja, SAP SuccessFactors unterstützt die Mitarbe...   \n",
       "96  SAP SuccessFactors ist eine cloudbasierte Lösu...   \n",
       "97  Die Lizenzierung basiert auf verschiedenen Fak...   \n",
       "98  SAP SuccessFactors bietet Funktionen wie Perso...   \n",
       "99  SAP bietet Schulungsressourcen, Schulungen und...   \n",
       "\n",
       "                              Answer 3: mistral-embed  \n",
       "0   SAP S/4HANA erfordert eine neue Datenbankarchi...  \n",
       "1   SAP S/4HANA erfordert eine neue Datenbankarchi...  \n",
       "2   Zu den Vorteilen von SAP S/4HANA gehören eine ...  \n",
       "3   Zu den Vorteilen von SAP S/4HANA gehören eine ...  \n",
       "4   Zu den Vorteilen von SAP S/4HANA gehören eine ...  \n",
       "..                                                ...  \n",
       "95  SAP bietet umfassenden Support und regelmäßige...  \n",
       "96  SAP SuccessFactors bietet Funktionen wie Perso...  \n",
       "97  SAP SuccessFactors ist eine cloudbasierte Lösu...  \n",
       "98  Ja, SAP SuccessFactors bietet Funktionen für d...  \n",
       "99  Ja, SAP SuccessFactors unterstützt die Mitarbe...  \n",
       "\n",
       "[100 rows x 4 columns]"
      ]
     },
     "execution_count": 516,
     "metadata": {},
     "output_type": "execute_result"
    }
   ],
   "source": [
    "df_top_3_mistral_embed"
   ]
  },
  {
   "cell_type": "code",
   "execution_count": 517,
   "metadata": {},
   "outputs": [],
   "source": [
    "# First Answer Embeddings:\n",
    "\n",
    "from mistralai.client import MistralClient\n",
    "\n",
    "client = MistralClient(api_key = mistral_key)\n",
    "\n",
    "first_answer_embeddings_mistral_embed = []\n",
    "\n",
    "for i in df_top_3_mistral_embed[\"Answer 1: mistral-embed\"]:\n",
    "    embeddings_batch_response = client.embeddings(\n",
    "        model=\"mistral-embed\",\n",
    "        input=[i],\n",
    "    )\n",
    "    first_answer_embeddings_mistral_embed.append(embeddings_batch_response.data[0].embedding)\n",
    "\n",
    "df_top_3_mistral_embed[\"Answer 1 Embeddings: mistral-embed\"] = first_answer_embeddings_mistral_embed"
   ]
  },
  {
   "cell_type": "code",
   "execution_count": 518,
   "metadata": {},
   "outputs": [],
   "source": [
    "# Second Answer Embeddings:\n",
    "\n",
    "from mistralai.client import MistralClient\n",
    "\n",
    "client = MistralClient(api_key = mistral_key)\n",
    "\n",
    "second_answer_embeddings_mistral_embed = []\n",
    "\n",
    "for i in df_top_3_mistral_embed[\"Answer 2: mistral-embed\"]:\n",
    "    embeddings_batch_response = client.embeddings(\n",
    "        model=\"mistral-embed\",\n",
    "        input=[i],\n",
    "    )\n",
    "    second_answer_embeddings_mistral_embed.append(embeddings_batch_response.data[0].embedding)\n",
    "\n",
    "df_top_3_mistral_embed[\"Answer 2 Embeddings: mistral-embed\"] = second_answer_embeddings_mistral_embed"
   ]
  },
  {
   "cell_type": "code",
   "execution_count": 519,
   "metadata": {},
   "outputs": [],
   "source": [
    "# Third Answer Embeddings:\n",
    "\n",
    "from mistralai.client import MistralClient\n",
    "\n",
    "client = MistralClient(api_key = mistral_key)\n",
    "\n",
    "third_answer_embeddings_mistral_embed = []\n",
    "\n",
    "for i in df_top_3_mistral_embed[\"Answer 3: mistral-embed\"]:\n",
    "    embeddings_batch_response = client.embeddings(\n",
    "        model=\"mistral-embed\",\n",
    "        input=[i],\n",
    "    )\n",
    "    third_answer_embeddings_mistral_embed.append(embeddings_batch_response.data[0].embedding)\n",
    "\n",
    "df_top_3_mistral_embed[\"Answer 3 Embeddings: mistral-embed\"] = third_answer_embeddings_mistral_embed"
   ]
  },
  {
   "cell_type": "code",
   "execution_count": 520,
   "metadata": {},
   "outputs": [
    {
     "data": {
      "text/html": [
       "<div>\n",
       "<style scoped>\n",
       "    .dataframe tbody tr th:only-of-type {\n",
       "        vertical-align: middle;\n",
       "    }\n",
       "\n",
       "    .dataframe tbody tr th {\n",
       "        vertical-align: top;\n",
       "    }\n",
       "\n",
       "    .dataframe thead th {\n",
       "        text-align: right;\n",
       "    }\n",
       "</style>\n",
       "<table border=\"1\" class=\"dataframe\">\n",
       "  <thead>\n",
       "    <tr style=\"text-align: right;\">\n",
       "      <th></th>\n",
       "      <th>Frage (stark modifiziert)</th>\n",
       "      <th>Answer 1: mistral-embed</th>\n",
       "      <th>Answer 2: mistral-embed</th>\n",
       "      <th>Answer 3: mistral-embed</th>\n",
       "      <th>Answer 1 Embeddings: mistral-embed</th>\n",
       "      <th>Answer 2 Embeddings: mistral-embed</th>\n",
       "      <th>Answer 3 Embeddings: mistral-embed</th>\n",
       "    </tr>\n",
       "  </thead>\n",
       "  <tbody>\n",
       "    <tr>\n",
       "      <th>0</th>\n",
       "      <td>S/4?</td>\n",
       "      <td>SAP S/4HANA ist eine Enterprise Resource Plann...</td>\n",
       "      <td>Zu den Vorteilen von SAP S/4HANA gehören eine ...</td>\n",
       "      <td>SAP S/4HANA erfordert eine neue Datenbankarchi...</td>\n",
       "      <td>[-0.01047515869140625, -0.007099151611328125, ...</td>\n",
       "      <td>[-0.022491455078125, -0.0136871337890625, 0.05...</td>\n",
       "      <td>[-0.0056610107421875, -0.0303802490234375, 0.0...</td>\n",
       "    </tr>\n",
       "    <tr>\n",
       "      <th>1</th>\n",
       "      <td>Vorteile HANA</td>\n",
       "      <td>Zu den Vorteilen von SAP S/4HANA gehören eine ...</td>\n",
       "      <td>SAP S/4HANA ist eine Enterprise Resource Plann...</td>\n",
       "      <td>SAP S/4HANA erfordert eine neue Datenbankarchi...</td>\n",
       "      <td>[-0.022491455078125, -0.0136871337890625, 0.05...</td>\n",
       "      <td>[-0.01047515869140625, -0.007099151611328125, ...</td>\n",
       "      <td>[-0.0056610107421875, -0.0303802490234375, 0.0...</td>\n",
       "    </tr>\n",
       "    <tr>\n",
       "      <th>2</th>\n",
       "      <td>SAP S/4HANA vs. SAP ERP?</td>\n",
       "      <td>Die Hauptunterschiede umfassen die In-Memory-D...</td>\n",
       "      <td>SAP S/4HANA ist eine Enterprise Resource Plann...</td>\n",
       "      <td>Zu den Vorteilen von SAP S/4HANA gehören eine ...</td>\n",
       "      <td>[-0.0197296142578125, 0.005146026611328125, 0....</td>\n",
       "      <td>[-0.01047515869140625, -0.007099151611328125, ...</td>\n",
       "      <td>[-0.022491455078125, -0.0136871337890625, 0.05...</td>\n",
       "    </tr>\n",
       "    <tr>\n",
       "      <th>3</th>\n",
       "      <td>Module SAP S/4HANA?</td>\n",
       "      <td>SAP S/4HANA umfasst Module für Finanzen, Besch...</td>\n",
       "      <td>SAP S/4HANA ist eine Enterprise Resource Plann...</td>\n",
       "      <td>Zu den Vorteilen von SAP S/4HANA gehören eine ...</td>\n",
       "      <td>[0.0028972625732421875, -0.0002427101135253906...</td>\n",
       "      <td>[-0.01047515869140625, -0.007099151611328125, ...</td>\n",
       "      <td>[-0.022491455078125, -0.0136871337890625, 0.05...</td>\n",
       "    </tr>\n",
       "    <tr>\n",
       "      <th>4</th>\n",
       "      <td>Migration zu SAP S/4HANA</td>\n",
       "      <td>Ja, eine Migration ist erforderlich, da SAP S/...</td>\n",
       "      <td>SAP S/4HANA erfordert eine neue Datenbankarchi...</td>\n",
       "      <td>Zu den Vorteilen von SAP S/4HANA gehören eine ...</td>\n",
       "      <td>[-0.0027790069580078125, -0.0124359130859375, ...</td>\n",
       "      <td>[-0.0056610107421875, -0.0303802490234375, 0.0...</td>\n",
       "      <td>[-0.022491455078125, -0.0136871337890625, 0.05...</td>\n",
       "    </tr>\n",
       "    <tr>\n",
       "      <th>...</th>\n",
       "      <td>...</td>\n",
       "      <td>...</td>\n",
       "      <td>...</td>\n",
       "      <td>...</td>\n",
       "      <td>...</td>\n",
       "      <td>...</td>\n",
       "      <td>...</td>\n",
       "    </tr>\n",
       "    <tr>\n",
       "      <th>95</th>\n",
       "      <td>Unterstützung und Schulungsressourcen für SAP ...</td>\n",
       "      <td>SAP bietet Schulungsressourcen, Schulungen und...</td>\n",
       "      <td>Ja, SAP SuccessFactors unterstützt die Mitarbe...</td>\n",
       "      <td>SAP bietet umfassenden Support und regelmäßige...</td>\n",
       "      <td>[-0.0168914794921875, 0.0008006095886230469, 0...</td>\n",
       "      <td>[-0.0296783447265625, 0.0138397216796875, 0.02...</td>\n",
       "      <td>[-0.02838134765625, 0.004909515380859375, 0.04...</td>\n",
       "    </tr>\n",
       "    <tr>\n",
       "      <th>96</th>\n",
       "      <td>SAP SuccessFactors: Cloud?</td>\n",
       "      <td>Ja, SAP SuccessFactors ist eine cloudbasierte ...</td>\n",
       "      <td>SAP SuccessFactors ist eine cloudbasierte Lösu...</td>\n",
       "      <td>SAP SuccessFactors bietet Funktionen wie Perso...</td>\n",
       "      <td>[-0.026397705078125, 0.0257110595703125, 0.020...</td>\n",
       "      <td>[-0.025726318359375, 0.0077362060546875, 0.029...</td>\n",
       "      <td>[-0.02435302734375, 0.0064544677734375, 0.0393...</td>\n",
       "    </tr>\n",
       "    <tr>\n",
       "      <th>97</th>\n",
       "      <td>Lizenzierung von SAP SuccessFactors?</td>\n",
       "      <td>Die Lizenzierung von SAP SuccessFactors erfolg...</td>\n",
       "      <td>Die Lizenzierung basiert auf verschiedenen Fak...</td>\n",
       "      <td>SAP SuccessFactors ist eine cloudbasierte Lösu...</td>\n",
       "      <td>[-0.04205322265625, 0.0196685791015625, 0.0034...</td>\n",
       "      <td>[-0.044891357421875, 0.03521728515625, 0.01126...</td>\n",
       "      <td>[-0.025726318359375, 0.0077362060546875, 0.029...</td>\n",
       "    </tr>\n",
       "    <tr>\n",
       "      <th>98</th>\n",
       "      <td>Arbeitszeitverwaltung und -planung in SAP Succ...</td>\n",
       "      <td>Ja, SAP SuccessFactors bietet Funktionen für d...</td>\n",
       "      <td>SAP SuccessFactors bietet Funktionen wie Perso...</td>\n",
       "      <td>Ja, SAP SuccessFactors bietet Funktionen für d...</td>\n",
       "      <td>[-0.0241241455078125, 0.02984619140625, 0.0427...</td>\n",
       "      <td>[-0.02435302734375, 0.0064544677734375, 0.0393...</td>\n",
       "      <td>[-0.031982421875, 0.0308685302734375, 0.016510...</td>\n",
       "    </tr>\n",
       "    <tr>\n",
       "      <th>99</th>\n",
       "      <td>Support für SAP SuccessFactors?</td>\n",
       "      <td>SAP bietet umfassenden Support und regelmäßige...</td>\n",
       "      <td>SAP bietet Schulungsressourcen, Schulungen und...</td>\n",
       "      <td>Ja, SAP SuccessFactors unterstützt die Mitarbe...</td>\n",
       "      <td>[-0.02838134765625, 0.004909515380859375, 0.04...</td>\n",
       "      <td>[-0.0168914794921875, 0.0008006095886230469, 0...</td>\n",
       "      <td>[-0.0296783447265625, 0.0138397216796875, 0.02...</td>\n",
       "    </tr>\n",
       "  </tbody>\n",
       "</table>\n",
       "<p>100 rows × 7 columns</p>\n",
       "</div>"
      ],
      "text/plain": [
       "                            Frage (stark modifiziert)  \\\n",
       "0                                                S/4?   \n",
       "1                                       Vorteile HANA   \n",
       "2                            SAP S/4HANA vs. SAP ERP?   \n",
       "3                                 Module SAP S/4HANA?   \n",
       "4                            Migration zu SAP S/4HANA   \n",
       "..                                                ...   \n",
       "95  Unterstützung und Schulungsressourcen für SAP ...   \n",
       "96                         SAP SuccessFactors: Cloud?   \n",
       "97               Lizenzierung von SAP SuccessFactors?   \n",
       "98  Arbeitszeitverwaltung und -planung in SAP Succ...   \n",
       "99                    Support für SAP SuccessFactors?   \n",
       "\n",
       "                              Answer 1: mistral-embed  \\\n",
       "0   SAP S/4HANA ist eine Enterprise Resource Plann...   \n",
       "1   Zu den Vorteilen von SAP S/4HANA gehören eine ...   \n",
       "2   Die Hauptunterschiede umfassen die In-Memory-D...   \n",
       "3   SAP S/4HANA umfasst Module für Finanzen, Besch...   \n",
       "4   Ja, eine Migration ist erforderlich, da SAP S/...   \n",
       "..                                                ...   \n",
       "95  SAP bietet Schulungsressourcen, Schulungen und...   \n",
       "96  Ja, SAP SuccessFactors ist eine cloudbasierte ...   \n",
       "97  Die Lizenzierung von SAP SuccessFactors erfolg...   \n",
       "98  Ja, SAP SuccessFactors bietet Funktionen für d...   \n",
       "99  SAP bietet umfassenden Support und regelmäßige...   \n",
       "\n",
       "                              Answer 2: mistral-embed  \\\n",
       "0   Zu den Vorteilen von SAP S/4HANA gehören eine ...   \n",
       "1   SAP S/4HANA ist eine Enterprise Resource Plann...   \n",
       "2   SAP S/4HANA ist eine Enterprise Resource Plann...   \n",
       "3   SAP S/4HANA ist eine Enterprise Resource Plann...   \n",
       "4   SAP S/4HANA erfordert eine neue Datenbankarchi...   \n",
       "..                                                ...   \n",
       "95  Ja, SAP SuccessFactors unterstützt die Mitarbe...   \n",
       "96  SAP SuccessFactors ist eine cloudbasierte Lösu...   \n",
       "97  Die Lizenzierung basiert auf verschiedenen Fak...   \n",
       "98  SAP SuccessFactors bietet Funktionen wie Perso...   \n",
       "99  SAP bietet Schulungsressourcen, Schulungen und...   \n",
       "\n",
       "                              Answer 3: mistral-embed  \\\n",
       "0   SAP S/4HANA erfordert eine neue Datenbankarchi...   \n",
       "1   SAP S/4HANA erfordert eine neue Datenbankarchi...   \n",
       "2   Zu den Vorteilen von SAP S/4HANA gehören eine ...   \n",
       "3   Zu den Vorteilen von SAP S/4HANA gehören eine ...   \n",
       "4   Zu den Vorteilen von SAP S/4HANA gehören eine ...   \n",
       "..                                                ...   \n",
       "95  SAP bietet umfassenden Support und regelmäßige...   \n",
       "96  SAP SuccessFactors bietet Funktionen wie Perso...   \n",
       "97  SAP SuccessFactors ist eine cloudbasierte Lösu...   \n",
       "98  Ja, SAP SuccessFactors bietet Funktionen für d...   \n",
       "99  Ja, SAP SuccessFactors unterstützt die Mitarbe...   \n",
       "\n",
       "                   Answer 1 Embeddings: mistral-embed  \\\n",
       "0   [-0.01047515869140625, -0.007099151611328125, ...   \n",
       "1   [-0.022491455078125, -0.0136871337890625, 0.05...   \n",
       "2   [-0.0197296142578125, 0.005146026611328125, 0....   \n",
       "3   [0.0028972625732421875, -0.0002427101135253906...   \n",
       "4   [-0.0027790069580078125, -0.0124359130859375, ...   \n",
       "..                                                ...   \n",
       "95  [-0.0168914794921875, 0.0008006095886230469, 0...   \n",
       "96  [-0.026397705078125, 0.0257110595703125, 0.020...   \n",
       "97  [-0.04205322265625, 0.0196685791015625, 0.0034...   \n",
       "98  [-0.0241241455078125, 0.02984619140625, 0.0427...   \n",
       "99  [-0.02838134765625, 0.004909515380859375, 0.04...   \n",
       "\n",
       "                   Answer 2 Embeddings: mistral-embed  \\\n",
       "0   [-0.022491455078125, -0.0136871337890625, 0.05...   \n",
       "1   [-0.01047515869140625, -0.007099151611328125, ...   \n",
       "2   [-0.01047515869140625, -0.007099151611328125, ...   \n",
       "3   [-0.01047515869140625, -0.007099151611328125, ...   \n",
       "4   [-0.0056610107421875, -0.0303802490234375, 0.0...   \n",
       "..                                                ...   \n",
       "95  [-0.0296783447265625, 0.0138397216796875, 0.02...   \n",
       "96  [-0.025726318359375, 0.0077362060546875, 0.029...   \n",
       "97  [-0.044891357421875, 0.03521728515625, 0.01126...   \n",
       "98  [-0.02435302734375, 0.0064544677734375, 0.0393...   \n",
       "99  [-0.0168914794921875, 0.0008006095886230469, 0...   \n",
       "\n",
       "                   Answer 3 Embeddings: mistral-embed  \n",
       "0   [-0.0056610107421875, -0.0303802490234375, 0.0...  \n",
       "1   [-0.0056610107421875, -0.0303802490234375, 0.0...  \n",
       "2   [-0.022491455078125, -0.0136871337890625, 0.05...  \n",
       "3   [-0.022491455078125, -0.0136871337890625, 0.05...  \n",
       "4   [-0.022491455078125, -0.0136871337890625, 0.05...  \n",
       "..                                                ...  \n",
       "95  [-0.02838134765625, 0.004909515380859375, 0.04...  \n",
       "96  [-0.02435302734375, 0.0064544677734375, 0.0393...  \n",
       "97  [-0.025726318359375, 0.0077362060546875, 0.029...  \n",
       "98  [-0.031982421875, 0.0308685302734375, 0.016510...  \n",
       "99  [-0.0296783447265625, 0.0138397216796875, 0.02...  \n",
       "\n",
       "[100 rows x 7 columns]"
      ]
     },
     "execution_count": 520,
     "metadata": {},
     "output_type": "execute_result"
    }
   ],
   "source": [
    "df_top_3_mistral_embed"
   ]
  },
  {
   "cell_type": "markdown",
   "metadata": {},
   "source": [
    "### Caclulate Similarity Difference between the first and second Answer Embedding"
   ]
  },
  {
   "cell_type": "code",
   "execution_count": 521,
   "metadata": {},
   "outputs": [],
   "source": [
    "from scipy.spatial.distance import cosine\n",
    "\n",
    "similarities_1_2_mistral = []\n",
    "\n",
    "for i in range(100):    \n",
    "    similarity = 1 - cosine(df_top_3_mistral_embed.at[i,\"Answer 1 Embeddings: mistral-embed\"], df_top_3_mistral_embed.at[i,\"Answer 2 Embeddings: mistral-embed\"])\n",
    "    similarities_1_2_mistral.append(similarity)\n",
    "    \n",
    "df_top_3_mistral_embed[\"Similarities between first and second Embedding\"] = similarities_1_2_mistral"
   ]
  },
  {
   "cell_type": "markdown",
   "metadata": {},
   "source": [
    "Visualisierungen"
   ]
  },
  {
   "cell_type": "code",
   "execution_count": 522,
   "metadata": {},
   "outputs": [
    {
     "data": {
      "application/vnd.plotly.v1+json": {
       "config": {
        "plotlyServerURL": "https://plot.ly"
       },
       "data": [
        {
         "mode": "lines+markers",
         "name": "Similarities",
         "type": "scatter",
         "x": [
          1,
          2,
          3,
          4,
          5,
          6,
          7,
          8,
          9,
          10,
          11,
          12,
          13,
          14,
          15,
          16,
          17,
          18,
          19,
          20,
          21,
          22,
          23,
          24,
          25,
          26,
          27,
          28,
          29,
          30,
          31,
          32,
          33,
          34,
          35,
          36,
          37,
          38,
          39,
          40,
          41,
          42,
          43,
          44,
          45,
          46,
          47,
          48,
          49,
          50,
          51,
          52,
          53,
          54,
          55,
          56,
          57,
          58,
          59,
          60,
          61,
          62,
          63,
          64,
          65,
          66,
          67,
          68,
          69,
          70,
          71,
          72,
          73,
          74,
          75,
          76,
          77,
          78,
          79,
          80,
          81,
          82,
          83,
          84,
          85,
          86,
          87,
          88,
          89,
          90,
          91,
          92,
          93,
          94,
          95,
          96,
          97,
          98,
          99,
          100
         ],
         "y": [
          0.8934687569283296,
          0.8934687569283296,
          0.8355321312087933,
          0.9090376864978492,
          0.9157111243942836,
          0.7929168483949843,
          0.7828385413031724,
          0.7951158474410953,
          0.8989351991562206,
          0.8893358986277525,
          0.8616588954835405,
          0.8591874436064572,
          0.834794977836155,
          0.8156084436792632,
          0.927860570545449,
          0.9209676440659691,
          0.9086853939811802,
          0.9374651303714326,
          0.8893358986277525,
          0.8383353800865573,
          0.9318873392124052,
          0.9318873392124052,
          0.9205917188786663,
          0.9205917188786663,
          0.9118481439837343,
          0.9105861233633838,
          0.8996628724267793,
          0.9099908820602759,
          0.8911544997828097,
          0.8961144302733243,
          0.9288506736742487,
          0.8921113871327622,
          0.8944665633925054,
          0.8833376329325655,
          0.9004634830579328,
          0.888485616092745,
          0.8873922682009061,
          0.8755073058562834,
          0.9187197027449179,
          0.908927360694051,
          0.954170031236478,
          0.9382861450178572,
          0.9297474396675309,
          0.9382861450178572,
          0.9334701088012974,
          0.9436129122119545,
          0.9175484085072785,
          0.8671543937681664,
          0.954170031236478,
          0.9089996356717858,
          0.9170102237272094,
          0.8671543937681664,
          0.8212154989323335,
          0.9048616836409743,
          0.9089996356717858,
          0.872744964568708,
          0.8637588520664736,
          0.9142112873967706,
          0.9127939428716301,
          0.8991208622857485,
          0.96030852267252,
          0.96030852267252,
          0.9446171227511244,
          0.9405210143080526,
          0.9136228414349353,
          0.9106844487058097,
          0.9256013759806289,
          0.9412082683314175,
          0.9811628530341092,
          0.9082925027190523,
          0.9287811890270842,
          0.9412082683314175,
          0.9305367085960353,
          0.9082738936923409,
          0.9134211777979332,
          0.8685036743062414,
          0.9407061554838989,
          0.8873323217764993,
          0.9811628530341092,
          0.9441722425347396,
          0.9398579208911241,
          0.9432664314922218,
          0.8878519970046511,
          0.9185534992265635,
          0.9064565597106783,
          0.9240362130634333,
          0.8782060313689836,
          0.9296085810493163,
          0.9145392281600055,
          0.8996833784288696,
          0.928142482781232,
          0.9077818520247823,
          0.9358807821610472,
          0.9170964501998569,
          0.9240362130634333,
          0.9145392281600055,
          0.9232485492297479,
          0.8989351991562206,
          0.9222519897755531,
          0.9485584508484554
         ]
        },
        {
         "mode": "lines",
         "name": "Horizontal Regression Line: 0.9066311122206908",
         "type": "scatter",
         "x": [
          1,
          100
         ],
         "y": [
          0.9066311122206908,
          0.9066311122206908
         ]
        }
       ],
       "layout": {
        "template": {
         "data": {
          "bar": [
           {
            "error_x": {
             "color": "#2a3f5f"
            },
            "error_y": {
             "color": "#2a3f5f"
            },
            "marker": {
             "line": {
              "color": "#E5ECF6",
              "width": 0.5
             },
             "pattern": {
              "fillmode": "overlay",
              "size": 10,
              "solidity": 0.2
             }
            },
            "type": "bar"
           }
          ],
          "barpolar": [
           {
            "marker": {
             "line": {
              "color": "#E5ECF6",
              "width": 0.5
             },
             "pattern": {
              "fillmode": "overlay",
              "size": 10,
              "solidity": 0.2
             }
            },
            "type": "barpolar"
           }
          ],
          "carpet": [
           {
            "aaxis": {
             "endlinecolor": "#2a3f5f",
             "gridcolor": "white",
             "linecolor": "white",
             "minorgridcolor": "white",
             "startlinecolor": "#2a3f5f"
            },
            "baxis": {
             "endlinecolor": "#2a3f5f",
             "gridcolor": "white",
             "linecolor": "white",
             "minorgridcolor": "white",
             "startlinecolor": "#2a3f5f"
            },
            "type": "carpet"
           }
          ],
          "choropleth": [
           {
            "colorbar": {
             "outlinewidth": 0,
             "ticks": ""
            },
            "type": "choropleth"
           }
          ],
          "contour": [
           {
            "colorbar": {
             "outlinewidth": 0,
             "ticks": ""
            },
            "colorscale": [
             [
              0,
              "#0d0887"
             ],
             [
              0.1111111111111111,
              "#46039f"
             ],
             [
              0.2222222222222222,
              "#7201a8"
             ],
             [
              0.3333333333333333,
              "#9c179e"
             ],
             [
              0.4444444444444444,
              "#bd3786"
             ],
             [
              0.5555555555555556,
              "#d8576b"
             ],
             [
              0.6666666666666666,
              "#ed7953"
             ],
             [
              0.7777777777777778,
              "#fb9f3a"
             ],
             [
              0.8888888888888888,
              "#fdca26"
             ],
             [
              1,
              "#f0f921"
             ]
            ],
            "type": "contour"
           }
          ],
          "contourcarpet": [
           {
            "colorbar": {
             "outlinewidth": 0,
             "ticks": ""
            },
            "type": "contourcarpet"
           }
          ],
          "heatmap": [
           {
            "colorbar": {
             "outlinewidth": 0,
             "ticks": ""
            },
            "colorscale": [
             [
              0,
              "#0d0887"
             ],
             [
              0.1111111111111111,
              "#46039f"
             ],
             [
              0.2222222222222222,
              "#7201a8"
             ],
             [
              0.3333333333333333,
              "#9c179e"
             ],
             [
              0.4444444444444444,
              "#bd3786"
             ],
             [
              0.5555555555555556,
              "#d8576b"
             ],
             [
              0.6666666666666666,
              "#ed7953"
             ],
             [
              0.7777777777777778,
              "#fb9f3a"
             ],
             [
              0.8888888888888888,
              "#fdca26"
             ],
             [
              1,
              "#f0f921"
             ]
            ],
            "type": "heatmap"
           }
          ],
          "heatmapgl": [
           {
            "colorbar": {
             "outlinewidth": 0,
             "ticks": ""
            },
            "colorscale": [
             [
              0,
              "#0d0887"
             ],
             [
              0.1111111111111111,
              "#46039f"
             ],
             [
              0.2222222222222222,
              "#7201a8"
             ],
             [
              0.3333333333333333,
              "#9c179e"
             ],
             [
              0.4444444444444444,
              "#bd3786"
             ],
             [
              0.5555555555555556,
              "#d8576b"
             ],
             [
              0.6666666666666666,
              "#ed7953"
             ],
             [
              0.7777777777777778,
              "#fb9f3a"
             ],
             [
              0.8888888888888888,
              "#fdca26"
             ],
             [
              1,
              "#f0f921"
             ]
            ],
            "type": "heatmapgl"
           }
          ],
          "histogram": [
           {
            "marker": {
             "pattern": {
              "fillmode": "overlay",
              "size": 10,
              "solidity": 0.2
             }
            },
            "type": "histogram"
           }
          ],
          "histogram2d": [
           {
            "colorbar": {
             "outlinewidth": 0,
             "ticks": ""
            },
            "colorscale": [
             [
              0,
              "#0d0887"
             ],
             [
              0.1111111111111111,
              "#46039f"
             ],
             [
              0.2222222222222222,
              "#7201a8"
             ],
             [
              0.3333333333333333,
              "#9c179e"
             ],
             [
              0.4444444444444444,
              "#bd3786"
             ],
             [
              0.5555555555555556,
              "#d8576b"
             ],
             [
              0.6666666666666666,
              "#ed7953"
             ],
             [
              0.7777777777777778,
              "#fb9f3a"
             ],
             [
              0.8888888888888888,
              "#fdca26"
             ],
             [
              1,
              "#f0f921"
             ]
            ],
            "type": "histogram2d"
           }
          ],
          "histogram2dcontour": [
           {
            "colorbar": {
             "outlinewidth": 0,
             "ticks": ""
            },
            "colorscale": [
             [
              0,
              "#0d0887"
             ],
             [
              0.1111111111111111,
              "#46039f"
             ],
             [
              0.2222222222222222,
              "#7201a8"
             ],
             [
              0.3333333333333333,
              "#9c179e"
             ],
             [
              0.4444444444444444,
              "#bd3786"
             ],
             [
              0.5555555555555556,
              "#d8576b"
             ],
             [
              0.6666666666666666,
              "#ed7953"
             ],
             [
              0.7777777777777778,
              "#fb9f3a"
             ],
             [
              0.8888888888888888,
              "#fdca26"
             ],
             [
              1,
              "#f0f921"
             ]
            ],
            "type": "histogram2dcontour"
           }
          ],
          "mesh3d": [
           {
            "colorbar": {
             "outlinewidth": 0,
             "ticks": ""
            },
            "type": "mesh3d"
           }
          ],
          "parcoords": [
           {
            "line": {
             "colorbar": {
              "outlinewidth": 0,
              "ticks": ""
             }
            },
            "type": "parcoords"
           }
          ],
          "pie": [
           {
            "automargin": true,
            "type": "pie"
           }
          ],
          "scatter": [
           {
            "fillpattern": {
             "fillmode": "overlay",
             "size": 10,
             "solidity": 0.2
            },
            "type": "scatter"
           }
          ],
          "scatter3d": [
           {
            "line": {
             "colorbar": {
              "outlinewidth": 0,
              "ticks": ""
             }
            },
            "marker": {
             "colorbar": {
              "outlinewidth": 0,
              "ticks": ""
             }
            },
            "type": "scatter3d"
           }
          ],
          "scattercarpet": [
           {
            "marker": {
             "colorbar": {
              "outlinewidth": 0,
              "ticks": ""
             }
            },
            "type": "scattercarpet"
           }
          ],
          "scattergeo": [
           {
            "marker": {
             "colorbar": {
              "outlinewidth": 0,
              "ticks": ""
             }
            },
            "type": "scattergeo"
           }
          ],
          "scattergl": [
           {
            "marker": {
             "colorbar": {
              "outlinewidth": 0,
              "ticks": ""
             }
            },
            "type": "scattergl"
           }
          ],
          "scattermapbox": [
           {
            "marker": {
             "colorbar": {
              "outlinewidth": 0,
              "ticks": ""
             }
            },
            "type": "scattermapbox"
           }
          ],
          "scatterpolar": [
           {
            "marker": {
             "colorbar": {
              "outlinewidth": 0,
              "ticks": ""
             }
            },
            "type": "scatterpolar"
           }
          ],
          "scatterpolargl": [
           {
            "marker": {
             "colorbar": {
              "outlinewidth": 0,
              "ticks": ""
             }
            },
            "type": "scatterpolargl"
           }
          ],
          "scatterternary": [
           {
            "marker": {
             "colorbar": {
              "outlinewidth": 0,
              "ticks": ""
             }
            },
            "type": "scatterternary"
           }
          ],
          "surface": [
           {
            "colorbar": {
             "outlinewidth": 0,
             "ticks": ""
            },
            "colorscale": [
             [
              0,
              "#0d0887"
             ],
             [
              0.1111111111111111,
              "#46039f"
             ],
             [
              0.2222222222222222,
              "#7201a8"
             ],
             [
              0.3333333333333333,
              "#9c179e"
             ],
             [
              0.4444444444444444,
              "#bd3786"
             ],
             [
              0.5555555555555556,
              "#d8576b"
             ],
             [
              0.6666666666666666,
              "#ed7953"
             ],
             [
              0.7777777777777778,
              "#fb9f3a"
             ],
             [
              0.8888888888888888,
              "#fdca26"
             ],
             [
              1,
              "#f0f921"
             ]
            ],
            "type": "surface"
           }
          ],
          "table": [
           {
            "cells": {
             "fill": {
              "color": "#EBF0F8"
             },
             "line": {
              "color": "white"
             }
            },
            "header": {
             "fill": {
              "color": "#C8D4E3"
             },
             "line": {
              "color": "white"
             }
            },
            "type": "table"
           }
          ]
         },
         "layout": {
          "annotationdefaults": {
           "arrowcolor": "#2a3f5f",
           "arrowhead": 0,
           "arrowwidth": 1
          },
          "autotypenumbers": "strict",
          "coloraxis": {
           "colorbar": {
            "outlinewidth": 0,
            "ticks": ""
           }
          },
          "colorscale": {
           "diverging": [
            [
             0,
             "#8e0152"
            ],
            [
             0.1,
             "#c51b7d"
            ],
            [
             0.2,
             "#de77ae"
            ],
            [
             0.3,
             "#f1b6da"
            ],
            [
             0.4,
             "#fde0ef"
            ],
            [
             0.5,
             "#f7f7f7"
            ],
            [
             0.6,
             "#e6f5d0"
            ],
            [
             0.7,
             "#b8e186"
            ],
            [
             0.8,
             "#7fbc41"
            ],
            [
             0.9,
             "#4d9221"
            ],
            [
             1,
             "#276419"
            ]
           ],
           "sequential": [
            [
             0,
             "#0d0887"
            ],
            [
             0.1111111111111111,
             "#46039f"
            ],
            [
             0.2222222222222222,
             "#7201a8"
            ],
            [
             0.3333333333333333,
             "#9c179e"
            ],
            [
             0.4444444444444444,
             "#bd3786"
            ],
            [
             0.5555555555555556,
             "#d8576b"
            ],
            [
             0.6666666666666666,
             "#ed7953"
            ],
            [
             0.7777777777777778,
             "#fb9f3a"
            ],
            [
             0.8888888888888888,
             "#fdca26"
            ],
            [
             1,
             "#f0f921"
            ]
           ],
           "sequentialminus": [
            [
             0,
             "#0d0887"
            ],
            [
             0.1111111111111111,
             "#46039f"
            ],
            [
             0.2222222222222222,
             "#7201a8"
            ],
            [
             0.3333333333333333,
             "#9c179e"
            ],
            [
             0.4444444444444444,
             "#bd3786"
            ],
            [
             0.5555555555555556,
             "#d8576b"
            ],
            [
             0.6666666666666666,
             "#ed7953"
            ],
            [
             0.7777777777777778,
             "#fb9f3a"
            ],
            [
             0.8888888888888888,
             "#fdca26"
            ],
            [
             1,
             "#f0f921"
            ]
           ]
          },
          "colorway": [
           "#636efa",
           "#EF553B",
           "#00cc96",
           "#ab63fa",
           "#FFA15A",
           "#19d3f3",
           "#FF6692",
           "#B6E880",
           "#FF97FF",
           "#FECB52"
          ],
          "font": {
           "color": "#2a3f5f"
          },
          "geo": {
           "bgcolor": "white",
           "lakecolor": "white",
           "landcolor": "#E5ECF6",
           "showlakes": true,
           "showland": true,
           "subunitcolor": "white"
          },
          "hoverlabel": {
           "align": "left"
          },
          "hovermode": "closest",
          "mapbox": {
           "style": "light"
          },
          "paper_bgcolor": "white",
          "plot_bgcolor": "#E5ECF6",
          "polar": {
           "angularaxis": {
            "gridcolor": "white",
            "linecolor": "white",
            "ticks": ""
           },
           "bgcolor": "#E5ECF6",
           "radialaxis": {
            "gridcolor": "white",
            "linecolor": "white",
            "ticks": ""
           }
          },
          "scene": {
           "xaxis": {
            "backgroundcolor": "#E5ECF6",
            "gridcolor": "white",
            "gridwidth": 2,
            "linecolor": "white",
            "showbackground": true,
            "ticks": "",
            "zerolinecolor": "white"
           },
           "yaxis": {
            "backgroundcolor": "#E5ECF6",
            "gridcolor": "white",
            "gridwidth": 2,
            "linecolor": "white",
            "showbackground": true,
            "ticks": "",
            "zerolinecolor": "white"
           },
           "zaxis": {
            "backgroundcolor": "#E5ECF6",
            "gridcolor": "white",
            "gridwidth": 2,
            "linecolor": "white",
            "showbackground": true,
            "ticks": "",
            "zerolinecolor": "white"
           }
          },
          "shapedefaults": {
           "line": {
            "color": "#2a3f5f"
           }
          },
          "ternary": {
           "aaxis": {
            "gridcolor": "white",
            "linecolor": "white",
            "ticks": ""
           },
           "baxis": {
            "gridcolor": "white",
            "linecolor": "white",
            "ticks": ""
           },
           "bgcolor": "#E5ECF6",
           "caxis": {
            "gridcolor": "white",
            "linecolor": "white",
            "ticks": ""
           }
          },
          "title": {
           "x": 0.05
          },
          "xaxis": {
           "automargin": true,
           "gridcolor": "white",
           "linecolor": "white",
           "ticks": "",
           "title": {
            "standoff": 15
           },
           "zerolinecolor": "white",
           "zerolinewidth": 2
          },
          "yaxis": {
           "automargin": true,
           "gridcolor": "white",
           "linecolor": "white",
           "ticks": "",
           "title": {
            "standoff": 15
           },
           "zerolinecolor": "white",
           "zerolinewidth": 2
          }
         }
        },
        "title": {
         "text": "mistral-embed: similarities between first and second answer"
        },
        "xaxis": {
         "title": {
          "text": "Index"
         }
        },
        "yaxis": {
         "title": {
          "text": "Similarities"
         }
        }
       }
      }
     },
     "metadata": {},
     "output_type": "display_data"
    }
   ],
   "source": [
    "import plotly.graph_objs as go\n",
    "import numpy as np\n",
    "\n",
    "mean_similarity = np.mean(similarities_1_2_mistral)\n",
    "\n",
    "x_values = list(range(1, len(similarities_1_2_mistral) + 1))\n",
    "\n",
    "fig = go.Figure()\n",
    "\n",
    "fig.add_trace(go.Scatter(x=x_values, y=similarities_1_2_mistral, mode='lines+markers', name='Similarities'))\n",
    "\n",
    "fig.add_trace(go.Scatter(x=[x_values[0], x_values[-1]], y=[mean_similarity, mean_similarity],\n",
    "                         mode='lines', name=f'Horizontal Regression Line: {mean_similarity}'))\n",
    "\n",
    "fig.update_layout(\n",
    "    title= \"mistral-embed: similarities between first and second answer\",\n",
    "    xaxis_title=\"Index\",\n",
    "    yaxis_title=\"Similarities\"\n",
    ")\n",
    "\n",
    "fig.show()"
   ]
  },
  {
   "cell_type": "markdown",
   "metadata": {},
   "source": [
    "### Caclulate Similarity Difference between the second and third Answer Embedding"
   ]
  },
  {
   "cell_type": "code",
   "execution_count": 523,
   "metadata": {},
   "outputs": [],
   "source": [
    "from scipy.spatial.distance import cosine\n",
    "\n",
    "similarities_2_3_mistral = []\n",
    "\n",
    "for i in range(100):    \n",
    "    similarity = 1 - cosine(df_top_3_mistral_embed.at[i,\"Answer 2 Embeddings: mistral-embed\"], df_top_3_mistral_embed.at[i,\"Answer 3 Embeddings: mistral-embed\"])\n",
    "    similarities_2_3_mistral.append(similarity)\n",
    "    \n",
    "df_top_3_mistral_embed[\"Similarities between second and third Embedding\"] = similarities_2_3_mistral"
   ]
  },
  {
   "cell_type": "markdown",
   "metadata": {},
   "source": [
    "Visualisierungen"
   ]
  },
  {
   "cell_type": "code",
   "execution_count": 524,
   "metadata": {},
   "outputs": [
    {
     "data": {
      "application/vnd.plotly.v1+json": {
       "config": {
        "plotlyServerURL": "https://plot.ly"
       },
       "data": [
        {
         "mode": "lines+markers",
         "name": "Similarities",
         "type": "scatter",
         "x": [
          1,
          2,
          3,
          4,
          5,
          6,
          7,
          8,
          9,
          10,
          11,
          12,
          13,
          14,
          15,
          16,
          17,
          18,
          19,
          20,
          21,
          22,
          23,
          24,
          25,
          26,
          27,
          28,
          29,
          30,
          31,
          32,
          33,
          34,
          35,
          36,
          37,
          38,
          39,
          40,
          41,
          42,
          43,
          44,
          45,
          46,
          47,
          48,
          49,
          50,
          51,
          52,
          53,
          54,
          55,
          56,
          57,
          58,
          59,
          60,
          61,
          62,
          63,
          64,
          65,
          66,
          67,
          68,
          69,
          70,
          71,
          72,
          73,
          74,
          75,
          76,
          77,
          78,
          79,
          80,
          81,
          82,
          83,
          84,
          85,
          86,
          87,
          88,
          89,
          90,
          91,
          92,
          93,
          94,
          95,
          96,
          97,
          98,
          99,
          100
         ],
         "y": [
          0.8987479505419076,
          0.9197181379128312,
          0.8934687569283296,
          0.8934687569283296,
          0.8987479505419076,
          0.8807705750769333,
          0.8206655499303273,
          0.8989194874620517,
          0.8227257619285386,
          0.8820136325237814,
          0.8596147239171104,
          0.8522094496627657,
          0.8134371816956812,
          0.7828385413031724,
          0.9172918032472809,
          0.8299626453030554,
          0.9091433290003952,
          0.9006221776461434,
          0.8616588954835405,
          0.8211960742734895,
          0.9134882822869002,
          0.9134882822869002,
          0.9318873392124052,
          0.9318873392124052,
          0.9318873392124052,
          0.9269334245348301,
          0.905557365244477,
          0.9098003601188418,
          0.9139994520318359,
          0.8195340887996357,
          0.9308716958093383,
          0.9318873392124052,
          0.8755073058562834,
          0.9318873392124052,
          0.9269334245348301,
          0.9318873392124052,
          0.9396498271651088,
          0.9205917188786663,
          0.9099908820602759,
          0.8422224470829598,
          0.9382861450178572,
          0.9460840615595291,
          0.9382861450178572,
          0.954170031236478,
          0.954170031236478,
          0.9420292281021059,
          0.9382861450178572,
          0.8246883235040834,
          0.9382861450178572,
          0.9031589269344823,
          0.954170031236478,
          0.8814616204424366,
          0.8137054951466658,
          0.954170031236478,
          0.8186351933185048,
          0.954170031236478,
          0.9170102237272094,
          0.8791889920329374,
          0.9172918032472809,
          0.9145886720255755,
          0.9479112739661918,
          0.9405210143080526,
          0.9479112739661918,
          0.96030852267252,
          0.8909262573556812,
          0.9811628530341092,
          0.9190078927245942,
          0.9056641032491639,
          0.9106844487058097,
          0.9412082683314175,
          0.9811628530341092,
          0.9288193366741065,
          0.946029391066258,
          0.9405210143080526,
          0.9106844487058097,
          0.8873323217764993,
          0.96030852267252,
          0.96030852267252,
          0.920847486175247,
          0.8911021218434105,
          0.9432664314922218,
          0.9185534992265635,
          0.8608881527125086,
          0.9398579208911241,
          0.9398579208911241,
          0.8933425865287505,
          0.8856770176595936,
          0.9398579208911241,
          0.9440496966710251,
          0.9342846234721158,
          0.9059806710470142,
          0.9280177812063618,
          0.9398579208911241,
          0.9222519897755531,
          0.920052784924961,
          0.906322558856302,
          0.9398579208911241,
          0.7721193596195223,
          0.9296085810493163,
          0.9145392281600055
         ]
        },
        {
         "mode": "lines",
         "name": "Horizontal Regression Line: 0.9082961774366722",
         "type": "scatter",
         "x": [
          1,
          100
         ],
         "y": [
          0.9082961774366722,
          0.9082961774366722
         ]
        }
       ],
       "layout": {
        "template": {
         "data": {
          "bar": [
           {
            "error_x": {
             "color": "#2a3f5f"
            },
            "error_y": {
             "color": "#2a3f5f"
            },
            "marker": {
             "line": {
              "color": "#E5ECF6",
              "width": 0.5
             },
             "pattern": {
              "fillmode": "overlay",
              "size": 10,
              "solidity": 0.2
             }
            },
            "type": "bar"
           }
          ],
          "barpolar": [
           {
            "marker": {
             "line": {
              "color": "#E5ECF6",
              "width": 0.5
             },
             "pattern": {
              "fillmode": "overlay",
              "size": 10,
              "solidity": 0.2
             }
            },
            "type": "barpolar"
           }
          ],
          "carpet": [
           {
            "aaxis": {
             "endlinecolor": "#2a3f5f",
             "gridcolor": "white",
             "linecolor": "white",
             "minorgridcolor": "white",
             "startlinecolor": "#2a3f5f"
            },
            "baxis": {
             "endlinecolor": "#2a3f5f",
             "gridcolor": "white",
             "linecolor": "white",
             "minorgridcolor": "white",
             "startlinecolor": "#2a3f5f"
            },
            "type": "carpet"
           }
          ],
          "choropleth": [
           {
            "colorbar": {
             "outlinewidth": 0,
             "ticks": ""
            },
            "type": "choropleth"
           }
          ],
          "contour": [
           {
            "colorbar": {
             "outlinewidth": 0,
             "ticks": ""
            },
            "colorscale": [
             [
              0,
              "#0d0887"
             ],
             [
              0.1111111111111111,
              "#46039f"
             ],
             [
              0.2222222222222222,
              "#7201a8"
             ],
             [
              0.3333333333333333,
              "#9c179e"
             ],
             [
              0.4444444444444444,
              "#bd3786"
             ],
             [
              0.5555555555555556,
              "#d8576b"
             ],
             [
              0.6666666666666666,
              "#ed7953"
             ],
             [
              0.7777777777777778,
              "#fb9f3a"
             ],
             [
              0.8888888888888888,
              "#fdca26"
             ],
             [
              1,
              "#f0f921"
             ]
            ],
            "type": "contour"
           }
          ],
          "contourcarpet": [
           {
            "colorbar": {
             "outlinewidth": 0,
             "ticks": ""
            },
            "type": "contourcarpet"
           }
          ],
          "heatmap": [
           {
            "colorbar": {
             "outlinewidth": 0,
             "ticks": ""
            },
            "colorscale": [
             [
              0,
              "#0d0887"
             ],
             [
              0.1111111111111111,
              "#46039f"
             ],
             [
              0.2222222222222222,
              "#7201a8"
             ],
             [
              0.3333333333333333,
              "#9c179e"
             ],
             [
              0.4444444444444444,
              "#bd3786"
             ],
             [
              0.5555555555555556,
              "#d8576b"
             ],
             [
              0.6666666666666666,
              "#ed7953"
             ],
             [
              0.7777777777777778,
              "#fb9f3a"
             ],
             [
              0.8888888888888888,
              "#fdca26"
             ],
             [
              1,
              "#f0f921"
             ]
            ],
            "type": "heatmap"
           }
          ],
          "heatmapgl": [
           {
            "colorbar": {
             "outlinewidth": 0,
             "ticks": ""
            },
            "colorscale": [
             [
              0,
              "#0d0887"
             ],
             [
              0.1111111111111111,
              "#46039f"
             ],
             [
              0.2222222222222222,
              "#7201a8"
             ],
             [
              0.3333333333333333,
              "#9c179e"
             ],
             [
              0.4444444444444444,
              "#bd3786"
             ],
             [
              0.5555555555555556,
              "#d8576b"
             ],
             [
              0.6666666666666666,
              "#ed7953"
             ],
             [
              0.7777777777777778,
              "#fb9f3a"
             ],
             [
              0.8888888888888888,
              "#fdca26"
             ],
             [
              1,
              "#f0f921"
             ]
            ],
            "type": "heatmapgl"
           }
          ],
          "histogram": [
           {
            "marker": {
             "pattern": {
              "fillmode": "overlay",
              "size": 10,
              "solidity": 0.2
             }
            },
            "type": "histogram"
           }
          ],
          "histogram2d": [
           {
            "colorbar": {
             "outlinewidth": 0,
             "ticks": ""
            },
            "colorscale": [
             [
              0,
              "#0d0887"
             ],
             [
              0.1111111111111111,
              "#46039f"
             ],
             [
              0.2222222222222222,
              "#7201a8"
             ],
             [
              0.3333333333333333,
              "#9c179e"
             ],
             [
              0.4444444444444444,
              "#bd3786"
             ],
             [
              0.5555555555555556,
              "#d8576b"
             ],
             [
              0.6666666666666666,
              "#ed7953"
             ],
             [
              0.7777777777777778,
              "#fb9f3a"
             ],
             [
              0.8888888888888888,
              "#fdca26"
             ],
             [
              1,
              "#f0f921"
             ]
            ],
            "type": "histogram2d"
           }
          ],
          "histogram2dcontour": [
           {
            "colorbar": {
             "outlinewidth": 0,
             "ticks": ""
            },
            "colorscale": [
             [
              0,
              "#0d0887"
             ],
             [
              0.1111111111111111,
              "#46039f"
             ],
             [
              0.2222222222222222,
              "#7201a8"
             ],
             [
              0.3333333333333333,
              "#9c179e"
             ],
             [
              0.4444444444444444,
              "#bd3786"
             ],
             [
              0.5555555555555556,
              "#d8576b"
             ],
             [
              0.6666666666666666,
              "#ed7953"
             ],
             [
              0.7777777777777778,
              "#fb9f3a"
             ],
             [
              0.8888888888888888,
              "#fdca26"
             ],
             [
              1,
              "#f0f921"
             ]
            ],
            "type": "histogram2dcontour"
           }
          ],
          "mesh3d": [
           {
            "colorbar": {
             "outlinewidth": 0,
             "ticks": ""
            },
            "type": "mesh3d"
           }
          ],
          "parcoords": [
           {
            "line": {
             "colorbar": {
              "outlinewidth": 0,
              "ticks": ""
             }
            },
            "type": "parcoords"
           }
          ],
          "pie": [
           {
            "automargin": true,
            "type": "pie"
           }
          ],
          "scatter": [
           {
            "fillpattern": {
             "fillmode": "overlay",
             "size": 10,
             "solidity": 0.2
            },
            "type": "scatter"
           }
          ],
          "scatter3d": [
           {
            "line": {
             "colorbar": {
              "outlinewidth": 0,
              "ticks": ""
             }
            },
            "marker": {
             "colorbar": {
              "outlinewidth": 0,
              "ticks": ""
             }
            },
            "type": "scatter3d"
           }
          ],
          "scattercarpet": [
           {
            "marker": {
             "colorbar": {
              "outlinewidth": 0,
              "ticks": ""
             }
            },
            "type": "scattercarpet"
           }
          ],
          "scattergeo": [
           {
            "marker": {
             "colorbar": {
              "outlinewidth": 0,
              "ticks": ""
             }
            },
            "type": "scattergeo"
           }
          ],
          "scattergl": [
           {
            "marker": {
             "colorbar": {
              "outlinewidth": 0,
              "ticks": ""
             }
            },
            "type": "scattergl"
           }
          ],
          "scattermapbox": [
           {
            "marker": {
             "colorbar": {
              "outlinewidth": 0,
              "ticks": ""
             }
            },
            "type": "scattermapbox"
           }
          ],
          "scatterpolar": [
           {
            "marker": {
             "colorbar": {
              "outlinewidth": 0,
              "ticks": ""
             }
            },
            "type": "scatterpolar"
           }
          ],
          "scatterpolargl": [
           {
            "marker": {
             "colorbar": {
              "outlinewidth": 0,
              "ticks": ""
             }
            },
            "type": "scatterpolargl"
           }
          ],
          "scatterternary": [
           {
            "marker": {
             "colorbar": {
              "outlinewidth": 0,
              "ticks": ""
             }
            },
            "type": "scatterternary"
           }
          ],
          "surface": [
           {
            "colorbar": {
             "outlinewidth": 0,
             "ticks": ""
            },
            "colorscale": [
             [
              0,
              "#0d0887"
             ],
             [
              0.1111111111111111,
              "#46039f"
             ],
             [
              0.2222222222222222,
              "#7201a8"
             ],
             [
              0.3333333333333333,
              "#9c179e"
             ],
             [
              0.4444444444444444,
              "#bd3786"
             ],
             [
              0.5555555555555556,
              "#d8576b"
             ],
             [
              0.6666666666666666,
              "#ed7953"
             ],
             [
              0.7777777777777778,
              "#fb9f3a"
             ],
             [
              0.8888888888888888,
              "#fdca26"
             ],
             [
              1,
              "#f0f921"
             ]
            ],
            "type": "surface"
           }
          ],
          "table": [
           {
            "cells": {
             "fill": {
              "color": "#EBF0F8"
             },
             "line": {
              "color": "white"
             }
            },
            "header": {
             "fill": {
              "color": "#C8D4E3"
             },
             "line": {
              "color": "white"
             }
            },
            "type": "table"
           }
          ]
         },
         "layout": {
          "annotationdefaults": {
           "arrowcolor": "#2a3f5f",
           "arrowhead": 0,
           "arrowwidth": 1
          },
          "autotypenumbers": "strict",
          "coloraxis": {
           "colorbar": {
            "outlinewidth": 0,
            "ticks": ""
           }
          },
          "colorscale": {
           "diverging": [
            [
             0,
             "#8e0152"
            ],
            [
             0.1,
             "#c51b7d"
            ],
            [
             0.2,
             "#de77ae"
            ],
            [
             0.3,
             "#f1b6da"
            ],
            [
             0.4,
             "#fde0ef"
            ],
            [
             0.5,
             "#f7f7f7"
            ],
            [
             0.6,
             "#e6f5d0"
            ],
            [
             0.7,
             "#b8e186"
            ],
            [
             0.8,
             "#7fbc41"
            ],
            [
             0.9,
             "#4d9221"
            ],
            [
             1,
             "#276419"
            ]
           ],
           "sequential": [
            [
             0,
             "#0d0887"
            ],
            [
             0.1111111111111111,
             "#46039f"
            ],
            [
             0.2222222222222222,
             "#7201a8"
            ],
            [
             0.3333333333333333,
             "#9c179e"
            ],
            [
             0.4444444444444444,
             "#bd3786"
            ],
            [
             0.5555555555555556,
             "#d8576b"
            ],
            [
             0.6666666666666666,
             "#ed7953"
            ],
            [
             0.7777777777777778,
             "#fb9f3a"
            ],
            [
             0.8888888888888888,
             "#fdca26"
            ],
            [
             1,
             "#f0f921"
            ]
           ],
           "sequentialminus": [
            [
             0,
             "#0d0887"
            ],
            [
             0.1111111111111111,
             "#46039f"
            ],
            [
             0.2222222222222222,
             "#7201a8"
            ],
            [
             0.3333333333333333,
             "#9c179e"
            ],
            [
             0.4444444444444444,
             "#bd3786"
            ],
            [
             0.5555555555555556,
             "#d8576b"
            ],
            [
             0.6666666666666666,
             "#ed7953"
            ],
            [
             0.7777777777777778,
             "#fb9f3a"
            ],
            [
             0.8888888888888888,
             "#fdca26"
            ],
            [
             1,
             "#f0f921"
            ]
           ]
          },
          "colorway": [
           "#636efa",
           "#EF553B",
           "#00cc96",
           "#ab63fa",
           "#FFA15A",
           "#19d3f3",
           "#FF6692",
           "#B6E880",
           "#FF97FF",
           "#FECB52"
          ],
          "font": {
           "color": "#2a3f5f"
          },
          "geo": {
           "bgcolor": "white",
           "lakecolor": "white",
           "landcolor": "#E5ECF6",
           "showlakes": true,
           "showland": true,
           "subunitcolor": "white"
          },
          "hoverlabel": {
           "align": "left"
          },
          "hovermode": "closest",
          "mapbox": {
           "style": "light"
          },
          "paper_bgcolor": "white",
          "plot_bgcolor": "#E5ECF6",
          "polar": {
           "angularaxis": {
            "gridcolor": "white",
            "linecolor": "white",
            "ticks": ""
           },
           "bgcolor": "#E5ECF6",
           "radialaxis": {
            "gridcolor": "white",
            "linecolor": "white",
            "ticks": ""
           }
          },
          "scene": {
           "xaxis": {
            "backgroundcolor": "#E5ECF6",
            "gridcolor": "white",
            "gridwidth": 2,
            "linecolor": "white",
            "showbackground": true,
            "ticks": "",
            "zerolinecolor": "white"
           },
           "yaxis": {
            "backgroundcolor": "#E5ECF6",
            "gridcolor": "white",
            "gridwidth": 2,
            "linecolor": "white",
            "showbackground": true,
            "ticks": "",
            "zerolinecolor": "white"
           },
           "zaxis": {
            "backgroundcolor": "#E5ECF6",
            "gridcolor": "white",
            "gridwidth": 2,
            "linecolor": "white",
            "showbackground": true,
            "ticks": "",
            "zerolinecolor": "white"
           }
          },
          "shapedefaults": {
           "line": {
            "color": "#2a3f5f"
           }
          },
          "ternary": {
           "aaxis": {
            "gridcolor": "white",
            "linecolor": "white",
            "ticks": ""
           },
           "baxis": {
            "gridcolor": "white",
            "linecolor": "white",
            "ticks": ""
           },
           "bgcolor": "#E5ECF6",
           "caxis": {
            "gridcolor": "white",
            "linecolor": "white",
            "ticks": ""
           }
          },
          "title": {
           "x": 0.05
          },
          "xaxis": {
           "automargin": true,
           "gridcolor": "white",
           "linecolor": "white",
           "ticks": "",
           "title": {
            "standoff": 15
           },
           "zerolinecolor": "white",
           "zerolinewidth": 2
          },
          "yaxis": {
           "automargin": true,
           "gridcolor": "white",
           "linecolor": "white",
           "ticks": "",
           "title": {
            "standoff": 15
           },
           "zerolinecolor": "white",
           "zerolinewidth": 2
          }
         }
        },
        "title": {
         "text": "mistral-embed: similarities between second and third answer"
        },
        "xaxis": {
         "title": {
          "text": "Index"
         }
        },
        "yaxis": {
         "title": {
          "text": "Similarities"
         }
        }
       }
      }
     },
     "metadata": {},
     "output_type": "display_data"
    }
   ],
   "source": [
    "import plotly.graph_objs as go\n",
    "import numpy as np\n",
    "\n",
    "mean_similarity = np.mean(similarities_2_3_mistral)\n",
    "\n",
    "x_values = list(range(1, len(similarities_2_3_mistral) + 1))\n",
    "\n",
    "fig = go.Figure()\n",
    "\n",
    "fig.add_trace(go.Scatter(x=x_values, y=similarities_2_3_mistral, mode='lines+markers', name='Similarities'))\n",
    "\n",
    "fig.add_trace(go.Scatter(x=[x_values[0], x_values[-1]], y=[mean_similarity, mean_similarity],\n",
    "                         mode='lines', name=f'Horizontal Regression Line: {mean_similarity}'))\n",
    "\n",
    "fig.update_layout(\n",
    "    title= \"mistral-embed: similarities between second and third answer\",\n",
    "    xaxis_title=\"Index\",\n",
    "    yaxis_title=\"Similarities\"\n",
    ")\n",
    "\n",
    "fig.show()"
   ]
  },
  {
   "cell_type": "markdown",
   "metadata": {},
   "source": [
    "### Caclulate Similarity Difference between the first and third Answer Embedding"
   ]
  },
  {
   "cell_type": "code",
   "execution_count": 525,
   "metadata": {},
   "outputs": [],
   "source": [
    "from scipy.spatial.distance import cosine\n",
    "\n",
    "similarities_1_3_mistral = []\n",
    "\n",
    "for i in range(100):    \n",
    "    similarity = 1 - cosine(df_top_3_mistral_embed.at[i,\"Answer 1 Embeddings: mistral-embed\"], df_top_3_mistral_embed.at[i,\"Answer 3 Embeddings: mistral-embed\"])\n",
    "    similarities_1_3_mistral.append(similarity)\n",
    "    \n",
    "df_top_3_mistral_embed[\"Similarities between first and third Embedding\"] = similarities_1_3_mistral"
   ]
  },
  {
   "cell_type": "markdown",
   "metadata": {},
   "source": [
    "Visualisierungen"
   ]
  },
  {
   "cell_type": "code",
   "execution_count": 526,
   "metadata": {},
   "outputs": [
    {
     "data": {
      "application/vnd.plotly.v1+json": {
       "config": {
        "plotlyServerURL": "https://plot.ly"
       },
       "data": [
        {
         "mode": "lines+markers",
         "name": "Similarities",
         "type": "scatter",
         "x": [
          1,
          2,
          3,
          4,
          5,
          6,
          7,
          8,
          9,
          10,
          11,
          12,
          13,
          14,
          15,
          16,
          17,
          18,
          19,
          20,
          21,
          22,
          23,
          24,
          25,
          26,
          27,
          28,
          29,
          30,
          31,
          32,
          33,
          34,
          35,
          36,
          37,
          38,
          39,
          40,
          41,
          42,
          43,
          44,
          45,
          46,
          47,
          48,
          49,
          50,
          51,
          52,
          53,
          54,
          55,
          56,
          57,
          58,
          59,
          60,
          61,
          62,
          63,
          64,
          65,
          66,
          67,
          68,
          69,
          70,
          71,
          72,
          73,
          74,
          75,
          76,
          77,
          78,
          79,
          80,
          81,
          82,
          83,
          84,
          85,
          86,
          87,
          88,
          89,
          90,
          91,
          92,
          93,
          94,
          95,
          96,
          97,
          98,
          99,
          100
         ],
         "y": [
          0.9197181379128312,
          0.8987479505419076,
          0.8549658248006454,
          0.889407820831008,
          0.864441125861449,
          0.7817563122500506,
          0.8088526512928302,
          0.8305189305287723,
          0.7756665093504224,
          0.867863369222194,
          0.7743724330297883,
          0.8684325714093922,
          0.9386334874812441,
          0.8252735178200266,
          0.9091433290003952,
          0.8458262194235057,
          0.8447402955765513,
          0.9386334874812441,
          0.7861634760228408,
          0.8476767475880687,
          0.9205917188786663,
          0.9205917188786663,
          0.9134882822869002,
          0.9134882822869002,
          0.9047145892628241,
          0.9202456548735871,
          0.9170314106967885,
          0.9288506736742487,
          0.9187197027449179,
          0.897330115674998,
          0.9227448835464561,
          0.8821958891920426,
          0.8792312607739009,
          0.8790095452898637,
          0.9256607682840243,
          0.884745523416544,
          0.8911544997828097,
          0.866913660571811,
          0.9001832518380862,
          0.9013747432535728,
          0.9460840615595291,
          0.954170031236478,
          0.9357144795736793,
          0.9460840615595291,
          0.9235103087712352,
          0.954170031236478,
          0.9027001679735098,
          0.9020659527670148,
          0.9460840615595291,
          0.9082456678556584,
          0.9145886720255755,
          0.8104630092216857,
          0.9249316787549793,
          0.8905135334077232,
          0.8104630092216857,
          0.8545914704753317,
          0.8741005775381739,
          0.8764092408969665,
          0.8549942187013129,
          0.9464061531484537,
          0.9405210143080526,
          0.9479112739661918,
          0.9272001675908964,
          0.9479112739661918,
          0.8991029495303785,
          0.920847486175247,
          0.9082809325878629,
          0.9325010361168138,
          0.920847486175247,
          0.8926691744165374,
          0.9317727612459108,
          0.9303017156643227,
          0.9363194693955352,
          0.9050550274995076,
          0.9197128205268178,
          0.8911021218434105,
          0.9014351860852702,
          0.8896693129017036,
          0.9106844487058097,
          0.9014699261294327,
          0.9185534992265635,
          0.9398579208911241,
          0.8676145668696102,
          0.9432664314922218,
          0.916614999501913,
          0.9242622027913096,
          0.8914865605831531,
          0.9008410364496935,
          0.8587109775541374,
          0.910590661801576,
          0.8865122408173303,
          0.8891812878023778,
          0.9074239117936622,
          0.9123804669222049,
          0.9404857758719378,
          0.9485584508484554,
          0.8928084193424374,
          0.8758889782455114,
          0.921725653160789,
          0.906322558856302
         ]
        },
        {
         "mode": "lines",
         "name": "Horizontal Regression Line: 0.8974379294577077",
         "type": "scatter",
         "x": [
          1,
          100
         ],
         "y": [
          0.8974379294577077,
          0.8974379294577077
         ]
        }
       ],
       "layout": {
        "template": {
         "data": {
          "bar": [
           {
            "error_x": {
             "color": "#2a3f5f"
            },
            "error_y": {
             "color": "#2a3f5f"
            },
            "marker": {
             "line": {
              "color": "#E5ECF6",
              "width": 0.5
             },
             "pattern": {
              "fillmode": "overlay",
              "size": 10,
              "solidity": 0.2
             }
            },
            "type": "bar"
           }
          ],
          "barpolar": [
           {
            "marker": {
             "line": {
              "color": "#E5ECF6",
              "width": 0.5
             },
             "pattern": {
              "fillmode": "overlay",
              "size": 10,
              "solidity": 0.2
             }
            },
            "type": "barpolar"
           }
          ],
          "carpet": [
           {
            "aaxis": {
             "endlinecolor": "#2a3f5f",
             "gridcolor": "white",
             "linecolor": "white",
             "minorgridcolor": "white",
             "startlinecolor": "#2a3f5f"
            },
            "baxis": {
             "endlinecolor": "#2a3f5f",
             "gridcolor": "white",
             "linecolor": "white",
             "minorgridcolor": "white",
             "startlinecolor": "#2a3f5f"
            },
            "type": "carpet"
           }
          ],
          "choropleth": [
           {
            "colorbar": {
             "outlinewidth": 0,
             "ticks": ""
            },
            "type": "choropleth"
           }
          ],
          "contour": [
           {
            "colorbar": {
             "outlinewidth": 0,
             "ticks": ""
            },
            "colorscale": [
             [
              0,
              "#0d0887"
             ],
             [
              0.1111111111111111,
              "#46039f"
             ],
             [
              0.2222222222222222,
              "#7201a8"
             ],
             [
              0.3333333333333333,
              "#9c179e"
             ],
             [
              0.4444444444444444,
              "#bd3786"
             ],
             [
              0.5555555555555556,
              "#d8576b"
             ],
             [
              0.6666666666666666,
              "#ed7953"
             ],
             [
              0.7777777777777778,
              "#fb9f3a"
             ],
             [
              0.8888888888888888,
              "#fdca26"
             ],
             [
              1,
              "#f0f921"
             ]
            ],
            "type": "contour"
           }
          ],
          "contourcarpet": [
           {
            "colorbar": {
             "outlinewidth": 0,
             "ticks": ""
            },
            "type": "contourcarpet"
           }
          ],
          "heatmap": [
           {
            "colorbar": {
             "outlinewidth": 0,
             "ticks": ""
            },
            "colorscale": [
             [
              0,
              "#0d0887"
             ],
             [
              0.1111111111111111,
              "#46039f"
             ],
             [
              0.2222222222222222,
              "#7201a8"
             ],
             [
              0.3333333333333333,
              "#9c179e"
             ],
             [
              0.4444444444444444,
              "#bd3786"
             ],
             [
              0.5555555555555556,
              "#d8576b"
             ],
             [
              0.6666666666666666,
              "#ed7953"
             ],
             [
              0.7777777777777778,
              "#fb9f3a"
             ],
             [
              0.8888888888888888,
              "#fdca26"
             ],
             [
              1,
              "#f0f921"
             ]
            ],
            "type": "heatmap"
           }
          ],
          "heatmapgl": [
           {
            "colorbar": {
             "outlinewidth": 0,
             "ticks": ""
            },
            "colorscale": [
             [
              0,
              "#0d0887"
             ],
             [
              0.1111111111111111,
              "#46039f"
             ],
             [
              0.2222222222222222,
              "#7201a8"
             ],
             [
              0.3333333333333333,
              "#9c179e"
             ],
             [
              0.4444444444444444,
              "#bd3786"
             ],
             [
              0.5555555555555556,
              "#d8576b"
             ],
             [
              0.6666666666666666,
              "#ed7953"
             ],
             [
              0.7777777777777778,
              "#fb9f3a"
             ],
             [
              0.8888888888888888,
              "#fdca26"
             ],
             [
              1,
              "#f0f921"
             ]
            ],
            "type": "heatmapgl"
           }
          ],
          "histogram": [
           {
            "marker": {
             "pattern": {
              "fillmode": "overlay",
              "size": 10,
              "solidity": 0.2
             }
            },
            "type": "histogram"
           }
          ],
          "histogram2d": [
           {
            "colorbar": {
             "outlinewidth": 0,
             "ticks": ""
            },
            "colorscale": [
             [
              0,
              "#0d0887"
             ],
             [
              0.1111111111111111,
              "#46039f"
             ],
             [
              0.2222222222222222,
              "#7201a8"
             ],
             [
              0.3333333333333333,
              "#9c179e"
             ],
             [
              0.4444444444444444,
              "#bd3786"
             ],
             [
              0.5555555555555556,
              "#d8576b"
             ],
             [
              0.6666666666666666,
              "#ed7953"
             ],
             [
              0.7777777777777778,
              "#fb9f3a"
             ],
             [
              0.8888888888888888,
              "#fdca26"
             ],
             [
              1,
              "#f0f921"
             ]
            ],
            "type": "histogram2d"
           }
          ],
          "histogram2dcontour": [
           {
            "colorbar": {
             "outlinewidth": 0,
             "ticks": ""
            },
            "colorscale": [
             [
              0,
              "#0d0887"
             ],
             [
              0.1111111111111111,
              "#46039f"
             ],
             [
              0.2222222222222222,
              "#7201a8"
             ],
             [
              0.3333333333333333,
              "#9c179e"
             ],
             [
              0.4444444444444444,
              "#bd3786"
             ],
             [
              0.5555555555555556,
              "#d8576b"
             ],
             [
              0.6666666666666666,
              "#ed7953"
             ],
             [
              0.7777777777777778,
              "#fb9f3a"
             ],
             [
              0.8888888888888888,
              "#fdca26"
             ],
             [
              1,
              "#f0f921"
             ]
            ],
            "type": "histogram2dcontour"
           }
          ],
          "mesh3d": [
           {
            "colorbar": {
             "outlinewidth": 0,
             "ticks": ""
            },
            "type": "mesh3d"
           }
          ],
          "parcoords": [
           {
            "line": {
             "colorbar": {
              "outlinewidth": 0,
              "ticks": ""
             }
            },
            "type": "parcoords"
           }
          ],
          "pie": [
           {
            "automargin": true,
            "type": "pie"
           }
          ],
          "scatter": [
           {
            "fillpattern": {
             "fillmode": "overlay",
             "size": 10,
             "solidity": 0.2
            },
            "type": "scatter"
           }
          ],
          "scatter3d": [
           {
            "line": {
             "colorbar": {
              "outlinewidth": 0,
              "ticks": ""
             }
            },
            "marker": {
             "colorbar": {
              "outlinewidth": 0,
              "ticks": ""
             }
            },
            "type": "scatter3d"
           }
          ],
          "scattercarpet": [
           {
            "marker": {
             "colorbar": {
              "outlinewidth": 0,
              "ticks": ""
             }
            },
            "type": "scattercarpet"
           }
          ],
          "scattergeo": [
           {
            "marker": {
             "colorbar": {
              "outlinewidth": 0,
              "ticks": ""
             }
            },
            "type": "scattergeo"
           }
          ],
          "scattergl": [
           {
            "marker": {
             "colorbar": {
              "outlinewidth": 0,
              "ticks": ""
             }
            },
            "type": "scattergl"
           }
          ],
          "scattermapbox": [
           {
            "marker": {
             "colorbar": {
              "outlinewidth": 0,
              "ticks": ""
             }
            },
            "type": "scattermapbox"
           }
          ],
          "scatterpolar": [
           {
            "marker": {
             "colorbar": {
              "outlinewidth": 0,
              "ticks": ""
             }
            },
            "type": "scatterpolar"
           }
          ],
          "scatterpolargl": [
           {
            "marker": {
             "colorbar": {
              "outlinewidth": 0,
              "ticks": ""
             }
            },
            "type": "scatterpolargl"
           }
          ],
          "scatterternary": [
           {
            "marker": {
             "colorbar": {
              "outlinewidth": 0,
              "ticks": ""
             }
            },
            "type": "scatterternary"
           }
          ],
          "surface": [
           {
            "colorbar": {
             "outlinewidth": 0,
             "ticks": ""
            },
            "colorscale": [
             [
              0,
              "#0d0887"
             ],
             [
              0.1111111111111111,
              "#46039f"
             ],
             [
              0.2222222222222222,
              "#7201a8"
             ],
             [
              0.3333333333333333,
              "#9c179e"
             ],
             [
              0.4444444444444444,
              "#bd3786"
             ],
             [
              0.5555555555555556,
              "#d8576b"
             ],
             [
              0.6666666666666666,
              "#ed7953"
             ],
             [
              0.7777777777777778,
              "#fb9f3a"
             ],
             [
              0.8888888888888888,
              "#fdca26"
             ],
             [
              1,
              "#f0f921"
             ]
            ],
            "type": "surface"
           }
          ],
          "table": [
           {
            "cells": {
             "fill": {
              "color": "#EBF0F8"
             },
             "line": {
              "color": "white"
             }
            },
            "header": {
             "fill": {
              "color": "#C8D4E3"
             },
             "line": {
              "color": "white"
             }
            },
            "type": "table"
           }
          ]
         },
         "layout": {
          "annotationdefaults": {
           "arrowcolor": "#2a3f5f",
           "arrowhead": 0,
           "arrowwidth": 1
          },
          "autotypenumbers": "strict",
          "coloraxis": {
           "colorbar": {
            "outlinewidth": 0,
            "ticks": ""
           }
          },
          "colorscale": {
           "diverging": [
            [
             0,
             "#8e0152"
            ],
            [
             0.1,
             "#c51b7d"
            ],
            [
             0.2,
             "#de77ae"
            ],
            [
             0.3,
             "#f1b6da"
            ],
            [
             0.4,
             "#fde0ef"
            ],
            [
             0.5,
             "#f7f7f7"
            ],
            [
             0.6,
             "#e6f5d0"
            ],
            [
             0.7,
             "#b8e186"
            ],
            [
             0.8,
             "#7fbc41"
            ],
            [
             0.9,
             "#4d9221"
            ],
            [
             1,
             "#276419"
            ]
           ],
           "sequential": [
            [
             0,
             "#0d0887"
            ],
            [
             0.1111111111111111,
             "#46039f"
            ],
            [
             0.2222222222222222,
             "#7201a8"
            ],
            [
             0.3333333333333333,
             "#9c179e"
            ],
            [
             0.4444444444444444,
             "#bd3786"
            ],
            [
             0.5555555555555556,
             "#d8576b"
            ],
            [
             0.6666666666666666,
             "#ed7953"
            ],
            [
             0.7777777777777778,
             "#fb9f3a"
            ],
            [
             0.8888888888888888,
             "#fdca26"
            ],
            [
             1,
             "#f0f921"
            ]
           ],
           "sequentialminus": [
            [
             0,
             "#0d0887"
            ],
            [
             0.1111111111111111,
             "#46039f"
            ],
            [
             0.2222222222222222,
             "#7201a8"
            ],
            [
             0.3333333333333333,
             "#9c179e"
            ],
            [
             0.4444444444444444,
             "#bd3786"
            ],
            [
             0.5555555555555556,
             "#d8576b"
            ],
            [
             0.6666666666666666,
             "#ed7953"
            ],
            [
             0.7777777777777778,
             "#fb9f3a"
            ],
            [
             0.8888888888888888,
             "#fdca26"
            ],
            [
             1,
             "#f0f921"
            ]
           ]
          },
          "colorway": [
           "#636efa",
           "#EF553B",
           "#00cc96",
           "#ab63fa",
           "#FFA15A",
           "#19d3f3",
           "#FF6692",
           "#B6E880",
           "#FF97FF",
           "#FECB52"
          ],
          "font": {
           "color": "#2a3f5f"
          },
          "geo": {
           "bgcolor": "white",
           "lakecolor": "white",
           "landcolor": "#E5ECF6",
           "showlakes": true,
           "showland": true,
           "subunitcolor": "white"
          },
          "hoverlabel": {
           "align": "left"
          },
          "hovermode": "closest",
          "mapbox": {
           "style": "light"
          },
          "paper_bgcolor": "white",
          "plot_bgcolor": "#E5ECF6",
          "polar": {
           "angularaxis": {
            "gridcolor": "white",
            "linecolor": "white",
            "ticks": ""
           },
           "bgcolor": "#E5ECF6",
           "radialaxis": {
            "gridcolor": "white",
            "linecolor": "white",
            "ticks": ""
           }
          },
          "scene": {
           "xaxis": {
            "backgroundcolor": "#E5ECF6",
            "gridcolor": "white",
            "gridwidth": 2,
            "linecolor": "white",
            "showbackground": true,
            "ticks": "",
            "zerolinecolor": "white"
           },
           "yaxis": {
            "backgroundcolor": "#E5ECF6",
            "gridcolor": "white",
            "gridwidth": 2,
            "linecolor": "white",
            "showbackground": true,
            "ticks": "",
            "zerolinecolor": "white"
           },
           "zaxis": {
            "backgroundcolor": "#E5ECF6",
            "gridcolor": "white",
            "gridwidth": 2,
            "linecolor": "white",
            "showbackground": true,
            "ticks": "",
            "zerolinecolor": "white"
           }
          },
          "shapedefaults": {
           "line": {
            "color": "#2a3f5f"
           }
          },
          "ternary": {
           "aaxis": {
            "gridcolor": "white",
            "linecolor": "white",
            "ticks": ""
           },
           "baxis": {
            "gridcolor": "white",
            "linecolor": "white",
            "ticks": ""
           },
           "bgcolor": "#E5ECF6",
           "caxis": {
            "gridcolor": "white",
            "linecolor": "white",
            "ticks": ""
           }
          },
          "title": {
           "x": 0.05
          },
          "xaxis": {
           "automargin": true,
           "gridcolor": "white",
           "linecolor": "white",
           "ticks": "",
           "title": {
            "standoff": 15
           },
           "zerolinecolor": "white",
           "zerolinewidth": 2
          },
          "yaxis": {
           "automargin": true,
           "gridcolor": "white",
           "linecolor": "white",
           "ticks": "",
           "title": {
            "standoff": 15
           },
           "zerolinecolor": "white",
           "zerolinewidth": 2
          }
         }
        },
        "title": {
         "text": "mistral-embed: similarities between first and third answer"
        },
        "xaxis": {
         "title": {
          "text": "Index"
         }
        },
        "yaxis": {
         "title": {
          "text": "Similarities"
         }
        }
       }
      }
     },
     "metadata": {},
     "output_type": "display_data"
    }
   ],
   "source": [
    "import plotly.graph_objs as go\n",
    "import numpy as np\n",
    "\n",
    "mean_similarity = np.mean(similarities_1_3_mistral)\n",
    "\n",
    "x_values = list(range(1, len(similarities_1_3_mistral) + 1))\n",
    "\n",
    "fig = go.Figure()\n",
    "\n",
    "fig.add_trace(go.Scatter(x=x_values, y=similarities_1_3_mistral, mode='lines+markers', name='Similarities'))\n",
    "\n",
    "fig.add_trace(go.Scatter(x=[x_values[0], x_values[-1]], y=[mean_similarity, mean_similarity],\n",
    "                         mode='lines', name=f'Horizontal Regression Line: {mean_similarity}'))\n",
    "\n",
    "fig.update_layout(\n",
    "    title= \"mistral-embed: similarities between first and third answer\",\n",
    "    xaxis_title=\"Index\",\n",
    "    yaxis_title=\"Similarities\"\n",
    ")\n",
    "\n",
    "fig.show()"
   ]
  },
  {
   "cell_type": "code",
   "execution_count": 527,
   "metadata": {},
   "outputs": [
    {
     "data": {
      "text/html": [
       "<div>\n",
       "<style scoped>\n",
       "    .dataframe tbody tr th:only-of-type {\n",
       "        vertical-align: middle;\n",
       "    }\n",
       "\n",
       "    .dataframe tbody tr th {\n",
       "        vertical-align: top;\n",
       "    }\n",
       "\n",
       "    .dataframe thead th {\n",
       "        text-align: right;\n",
       "    }\n",
       "</style>\n",
       "<table border=\"1\" class=\"dataframe\">\n",
       "  <thead>\n",
       "    <tr style=\"text-align: right;\">\n",
       "      <th></th>\n",
       "      <th>Frage (stark modifiziert)</th>\n",
       "      <th>Answer 1: mistral-embed</th>\n",
       "      <th>Answer 2: mistral-embed</th>\n",
       "      <th>Answer 3: mistral-embed</th>\n",
       "      <th>Answer 1 Embeddings: mistral-embed</th>\n",
       "      <th>Answer 2 Embeddings: mistral-embed</th>\n",
       "      <th>Answer 3 Embeddings: mistral-embed</th>\n",
       "      <th>Similarities between first and second Embedding</th>\n",
       "      <th>Similarities between second and third Embedding</th>\n",
       "      <th>Similarities between first and third Embedding</th>\n",
       "    </tr>\n",
       "  </thead>\n",
       "  <tbody>\n",
       "    <tr>\n",
       "      <th>0</th>\n",
       "      <td>S/4?</td>\n",
       "      <td>SAP S/4HANA ist eine Enterprise Resource Plann...</td>\n",
       "      <td>Zu den Vorteilen von SAP S/4HANA gehören eine ...</td>\n",
       "      <td>SAP S/4HANA erfordert eine neue Datenbankarchi...</td>\n",
       "      <td>[-0.01047515869140625, -0.007099151611328125, ...</td>\n",
       "      <td>[-0.022491455078125, -0.0136871337890625, 0.05...</td>\n",
       "      <td>[-0.0056610107421875, -0.0303802490234375, 0.0...</td>\n",
       "      <td>0.893469</td>\n",
       "      <td>0.898748</td>\n",
       "      <td>0.919718</td>\n",
       "    </tr>\n",
       "    <tr>\n",
       "      <th>1</th>\n",
       "      <td>Vorteile HANA</td>\n",
       "      <td>Zu den Vorteilen von SAP S/4HANA gehören eine ...</td>\n",
       "      <td>SAP S/4HANA ist eine Enterprise Resource Plann...</td>\n",
       "      <td>SAP S/4HANA erfordert eine neue Datenbankarchi...</td>\n",
       "      <td>[-0.022491455078125, -0.0136871337890625, 0.05...</td>\n",
       "      <td>[-0.01047515869140625, -0.007099151611328125, ...</td>\n",
       "      <td>[-0.0056610107421875, -0.0303802490234375, 0.0...</td>\n",
       "      <td>0.893469</td>\n",
       "      <td>0.919718</td>\n",
       "      <td>0.898748</td>\n",
       "    </tr>\n",
       "    <tr>\n",
       "      <th>2</th>\n",
       "      <td>SAP S/4HANA vs. SAP ERP?</td>\n",
       "      <td>Die Hauptunterschiede umfassen die In-Memory-D...</td>\n",
       "      <td>SAP S/4HANA ist eine Enterprise Resource Plann...</td>\n",
       "      <td>Zu den Vorteilen von SAP S/4HANA gehören eine ...</td>\n",
       "      <td>[-0.0197296142578125, 0.005146026611328125, 0....</td>\n",
       "      <td>[-0.01047515869140625, -0.007099151611328125, ...</td>\n",
       "      <td>[-0.022491455078125, -0.0136871337890625, 0.05...</td>\n",
       "      <td>0.835532</td>\n",
       "      <td>0.893469</td>\n",
       "      <td>0.854966</td>\n",
       "    </tr>\n",
       "    <tr>\n",
       "      <th>3</th>\n",
       "      <td>Module SAP S/4HANA?</td>\n",
       "      <td>SAP S/4HANA umfasst Module für Finanzen, Besch...</td>\n",
       "      <td>SAP S/4HANA ist eine Enterprise Resource Plann...</td>\n",
       "      <td>Zu den Vorteilen von SAP S/4HANA gehören eine ...</td>\n",
       "      <td>[0.0028972625732421875, -0.0002427101135253906...</td>\n",
       "      <td>[-0.01047515869140625, -0.007099151611328125, ...</td>\n",
       "      <td>[-0.022491455078125, -0.0136871337890625, 0.05...</td>\n",
       "      <td>0.909038</td>\n",
       "      <td>0.893469</td>\n",
       "      <td>0.889408</td>\n",
       "    </tr>\n",
       "    <tr>\n",
       "      <th>4</th>\n",
       "      <td>Migration zu SAP S/4HANA</td>\n",
       "      <td>Ja, eine Migration ist erforderlich, da SAP S/...</td>\n",
       "      <td>SAP S/4HANA erfordert eine neue Datenbankarchi...</td>\n",
       "      <td>Zu den Vorteilen von SAP S/4HANA gehören eine ...</td>\n",
       "      <td>[-0.0027790069580078125, -0.0124359130859375, ...</td>\n",
       "      <td>[-0.0056610107421875, -0.0303802490234375, 0.0...</td>\n",
       "      <td>[-0.022491455078125, -0.0136871337890625, 0.05...</td>\n",
       "      <td>0.915711</td>\n",
       "      <td>0.898748</td>\n",
       "      <td>0.864441</td>\n",
       "    </tr>\n",
       "    <tr>\n",
       "      <th>...</th>\n",
       "      <td>...</td>\n",
       "      <td>...</td>\n",
       "      <td>...</td>\n",
       "      <td>...</td>\n",
       "      <td>...</td>\n",
       "      <td>...</td>\n",
       "      <td>...</td>\n",
       "      <td>...</td>\n",
       "      <td>...</td>\n",
       "      <td>...</td>\n",
       "    </tr>\n",
       "    <tr>\n",
       "      <th>95</th>\n",
       "      <td>Unterstützung und Schulungsressourcen für SAP ...</td>\n",
       "      <td>SAP bietet Schulungsressourcen, Schulungen und...</td>\n",
       "      <td>Ja, SAP SuccessFactors unterstützt die Mitarbe...</td>\n",
       "      <td>SAP bietet umfassenden Support und regelmäßige...</td>\n",
       "      <td>[-0.0168914794921875, 0.0008006095886230469, 0...</td>\n",
       "      <td>[-0.0296783447265625, 0.0138397216796875, 0.02...</td>\n",
       "      <td>[-0.02838134765625, 0.004909515380859375, 0.04...</td>\n",
       "      <td>0.914539</td>\n",
       "      <td>0.906323</td>\n",
       "      <td>0.948558</td>\n",
       "    </tr>\n",
       "    <tr>\n",
       "      <th>96</th>\n",
       "      <td>SAP SuccessFactors: Cloud?</td>\n",
       "      <td>Ja, SAP SuccessFactors ist eine cloudbasierte ...</td>\n",
       "      <td>SAP SuccessFactors ist eine cloudbasierte Lösu...</td>\n",
       "      <td>SAP SuccessFactors bietet Funktionen wie Perso...</td>\n",
       "      <td>[-0.026397705078125, 0.0257110595703125, 0.020...</td>\n",
       "      <td>[-0.025726318359375, 0.0077362060546875, 0.029...</td>\n",
       "      <td>[-0.02435302734375, 0.0064544677734375, 0.0393...</td>\n",
       "      <td>0.923249</td>\n",
       "      <td>0.939858</td>\n",
       "      <td>0.892808</td>\n",
       "    </tr>\n",
       "    <tr>\n",
       "      <th>97</th>\n",
       "      <td>Lizenzierung von SAP SuccessFactors?</td>\n",
       "      <td>Die Lizenzierung von SAP SuccessFactors erfolg...</td>\n",
       "      <td>Die Lizenzierung basiert auf verschiedenen Fak...</td>\n",
       "      <td>SAP SuccessFactors ist eine cloudbasierte Lösu...</td>\n",
       "      <td>[-0.04205322265625, 0.0196685791015625, 0.0034...</td>\n",
       "      <td>[-0.044891357421875, 0.03521728515625, 0.01126...</td>\n",
       "      <td>[-0.025726318359375, 0.0077362060546875, 0.029...</td>\n",
       "      <td>0.898935</td>\n",
       "      <td>0.772119</td>\n",
       "      <td>0.875889</td>\n",
       "    </tr>\n",
       "    <tr>\n",
       "      <th>98</th>\n",
       "      <td>Arbeitszeitverwaltung und -planung in SAP Succ...</td>\n",
       "      <td>Ja, SAP SuccessFactors bietet Funktionen für d...</td>\n",
       "      <td>SAP SuccessFactors bietet Funktionen wie Perso...</td>\n",
       "      <td>Ja, SAP SuccessFactors bietet Funktionen für d...</td>\n",
       "      <td>[-0.0241241455078125, 0.02984619140625, 0.0427...</td>\n",
       "      <td>[-0.02435302734375, 0.0064544677734375, 0.0393...</td>\n",
       "      <td>[-0.031982421875, 0.0308685302734375, 0.016510...</td>\n",
       "      <td>0.922252</td>\n",
       "      <td>0.929609</td>\n",
       "      <td>0.921726</td>\n",
       "    </tr>\n",
       "    <tr>\n",
       "      <th>99</th>\n",
       "      <td>Support für SAP SuccessFactors?</td>\n",
       "      <td>SAP bietet umfassenden Support und regelmäßige...</td>\n",
       "      <td>SAP bietet Schulungsressourcen, Schulungen und...</td>\n",
       "      <td>Ja, SAP SuccessFactors unterstützt die Mitarbe...</td>\n",
       "      <td>[-0.02838134765625, 0.004909515380859375, 0.04...</td>\n",
       "      <td>[-0.0168914794921875, 0.0008006095886230469, 0...</td>\n",
       "      <td>[-0.0296783447265625, 0.0138397216796875, 0.02...</td>\n",
       "      <td>0.948558</td>\n",
       "      <td>0.914539</td>\n",
       "      <td>0.906323</td>\n",
       "    </tr>\n",
       "  </tbody>\n",
       "</table>\n",
       "<p>100 rows × 10 columns</p>\n",
       "</div>"
      ],
      "text/plain": [
       "                            Frage (stark modifiziert)  \\\n",
       "0                                                S/4?   \n",
       "1                                       Vorteile HANA   \n",
       "2                            SAP S/4HANA vs. SAP ERP?   \n",
       "3                                 Module SAP S/4HANA?   \n",
       "4                            Migration zu SAP S/4HANA   \n",
       "..                                                ...   \n",
       "95  Unterstützung und Schulungsressourcen für SAP ...   \n",
       "96                         SAP SuccessFactors: Cloud?   \n",
       "97               Lizenzierung von SAP SuccessFactors?   \n",
       "98  Arbeitszeitverwaltung und -planung in SAP Succ...   \n",
       "99                    Support für SAP SuccessFactors?   \n",
       "\n",
       "                              Answer 1: mistral-embed  \\\n",
       "0   SAP S/4HANA ist eine Enterprise Resource Plann...   \n",
       "1   Zu den Vorteilen von SAP S/4HANA gehören eine ...   \n",
       "2   Die Hauptunterschiede umfassen die In-Memory-D...   \n",
       "3   SAP S/4HANA umfasst Module für Finanzen, Besch...   \n",
       "4   Ja, eine Migration ist erforderlich, da SAP S/...   \n",
       "..                                                ...   \n",
       "95  SAP bietet Schulungsressourcen, Schulungen und...   \n",
       "96  Ja, SAP SuccessFactors ist eine cloudbasierte ...   \n",
       "97  Die Lizenzierung von SAP SuccessFactors erfolg...   \n",
       "98  Ja, SAP SuccessFactors bietet Funktionen für d...   \n",
       "99  SAP bietet umfassenden Support und regelmäßige...   \n",
       "\n",
       "                              Answer 2: mistral-embed  \\\n",
       "0   Zu den Vorteilen von SAP S/4HANA gehören eine ...   \n",
       "1   SAP S/4HANA ist eine Enterprise Resource Plann...   \n",
       "2   SAP S/4HANA ist eine Enterprise Resource Plann...   \n",
       "3   SAP S/4HANA ist eine Enterprise Resource Plann...   \n",
       "4   SAP S/4HANA erfordert eine neue Datenbankarchi...   \n",
       "..                                                ...   \n",
       "95  Ja, SAP SuccessFactors unterstützt die Mitarbe...   \n",
       "96  SAP SuccessFactors ist eine cloudbasierte Lösu...   \n",
       "97  Die Lizenzierung basiert auf verschiedenen Fak...   \n",
       "98  SAP SuccessFactors bietet Funktionen wie Perso...   \n",
       "99  SAP bietet Schulungsressourcen, Schulungen und...   \n",
       "\n",
       "                              Answer 3: mistral-embed  \\\n",
       "0   SAP S/4HANA erfordert eine neue Datenbankarchi...   \n",
       "1   SAP S/4HANA erfordert eine neue Datenbankarchi...   \n",
       "2   Zu den Vorteilen von SAP S/4HANA gehören eine ...   \n",
       "3   Zu den Vorteilen von SAP S/4HANA gehören eine ...   \n",
       "4   Zu den Vorteilen von SAP S/4HANA gehören eine ...   \n",
       "..                                                ...   \n",
       "95  SAP bietet umfassenden Support und regelmäßige...   \n",
       "96  SAP SuccessFactors bietet Funktionen wie Perso...   \n",
       "97  SAP SuccessFactors ist eine cloudbasierte Lösu...   \n",
       "98  Ja, SAP SuccessFactors bietet Funktionen für d...   \n",
       "99  Ja, SAP SuccessFactors unterstützt die Mitarbe...   \n",
       "\n",
       "                   Answer 1 Embeddings: mistral-embed  \\\n",
       "0   [-0.01047515869140625, -0.007099151611328125, ...   \n",
       "1   [-0.022491455078125, -0.0136871337890625, 0.05...   \n",
       "2   [-0.0197296142578125, 0.005146026611328125, 0....   \n",
       "3   [0.0028972625732421875, -0.0002427101135253906...   \n",
       "4   [-0.0027790069580078125, -0.0124359130859375, ...   \n",
       "..                                                ...   \n",
       "95  [-0.0168914794921875, 0.0008006095886230469, 0...   \n",
       "96  [-0.026397705078125, 0.0257110595703125, 0.020...   \n",
       "97  [-0.04205322265625, 0.0196685791015625, 0.0034...   \n",
       "98  [-0.0241241455078125, 0.02984619140625, 0.0427...   \n",
       "99  [-0.02838134765625, 0.004909515380859375, 0.04...   \n",
       "\n",
       "                   Answer 2 Embeddings: mistral-embed  \\\n",
       "0   [-0.022491455078125, -0.0136871337890625, 0.05...   \n",
       "1   [-0.01047515869140625, -0.007099151611328125, ...   \n",
       "2   [-0.01047515869140625, -0.007099151611328125, ...   \n",
       "3   [-0.01047515869140625, -0.007099151611328125, ...   \n",
       "4   [-0.0056610107421875, -0.0303802490234375, 0.0...   \n",
       "..                                                ...   \n",
       "95  [-0.0296783447265625, 0.0138397216796875, 0.02...   \n",
       "96  [-0.025726318359375, 0.0077362060546875, 0.029...   \n",
       "97  [-0.044891357421875, 0.03521728515625, 0.01126...   \n",
       "98  [-0.02435302734375, 0.0064544677734375, 0.0393...   \n",
       "99  [-0.0168914794921875, 0.0008006095886230469, 0...   \n",
       "\n",
       "                   Answer 3 Embeddings: mistral-embed  \\\n",
       "0   [-0.0056610107421875, -0.0303802490234375, 0.0...   \n",
       "1   [-0.0056610107421875, -0.0303802490234375, 0.0...   \n",
       "2   [-0.022491455078125, -0.0136871337890625, 0.05...   \n",
       "3   [-0.022491455078125, -0.0136871337890625, 0.05...   \n",
       "4   [-0.022491455078125, -0.0136871337890625, 0.05...   \n",
       "..                                                ...   \n",
       "95  [-0.02838134765625, 0.004909515380859375, 0.04...   \n",
       "96  [-0.02435302734375, 0.0064544677734375, 0.0393...   \n",
       "97  [-0.025726318359375, 0.0077362060546875, 0.029...   \n",
       "98  [-0.031982421875, 0.0308685302734375, 0.016510...   \n",
       "99  [-0.0296783447265625, 0.0138397216796875, 0.02...   \n",
       "\n",
       "    Similarities between first and second Embedding  \\\n",
       "0                                          0.893469   \n",
       "1                                          0.893469   \n",
       "2                                          0.835532   \n",
       "3                                          0.909038   \n",
       "4                                          0.915711   \n",
       "..                                              ...   \n",
       "95                                         0.914539   \n",
       "96                                         0.923249   \n",
       "97                                         0.898935   \n",
       "98                                         0.922252   \n",
       "99                                         0.948558   \n",
       "\n",
       "    Similarities between second and third Embedding  \\\n",
       "0                                          0.898748   \n",
       "1                                          0.919718   \n",
       "2                                          0.893469   \n",
       "3                                          0.893469   \n",
       "4                                          0.898748   \n",
       "..                                              ...   \n",
       "95                                         0.906323   \n",
       "96                                         0.939858   \n",
       "97                                         0.772119   \n",
       "98                                         0.929609   \n",
       "99                                         0.914539   \n",
       "\n",
       "    Similarities between first and third Embedding  \n",
       "0                                         0.919718  \n",
       "1                                         0.898748  \n",
       "2                                         0.854966  \n",
       "3                                         0.889408  \n",
       "4                                         0.864441  \n",
       "..                                             ...  \n",
       "95                                        0.948558  \n",
       "96                                        0.892808  \n",
       "97                                        0.875889  \n",
       "98                                        0.921726  \n",
       "99                                        0.906323  \n",
       "\n",
       "[100 rows x 10 columns]"
      ]
     },
     "execution_count": 527,
     "metadata": {},
     "output_type": "execute_result"
    }
   ],
   "source": [
    "df_top_3_mistral_embed"
   ]
  },
  {
   "cell_type": "markdown",
   "metadata": {},
   "source": [
    "## Top-3 results: text-embedding-ada-002"
   ]
  },
  {
   "cell_type": "code",
   "execution_count": 528,
   "metadata": {},
   "outputs": [],
   "source": [
    "df_top_3_openai_ada_002 = pd.DataFrame()"
   ]
  },
  {
   "cell_type": "markdown",
   "metadata": {},
   "source": [
    "### General RAG Top 3 function"
   ]
  },
  {
   "cell_type": "code",
   "execution_count": 529,
   "metadata": {},
   "outputs": [
    {
     "name": "stdout",
     "output_type": "stream",
     "text": [
      "['Die Lizenzierung basiert auf verschiedenen Faktoren wie Nutzeranzahl, Funktionsumfang und Implementierungsmethode.', 'Die Lizenzierung von SAP SuccessFactors erfolgt typischerweise auf Basis der Anzahl der Benutzer oder der Nutzungsdauer.', 'Die Lizenzierung von SAP Enable Now erfolgt typischerweise auf Basis der Anzahl der Benutzer oder der Nutzungsdauer.']\n"
     ]
    }
   ],
   "source": [
    "import numpy as np\n",
    "from scipy.spatial.distance import cosine\n",
    "\n",
    "client = OpenAI(api_key=openai_key_embeddings)\n",
    "\n",
    "def rag_top3_answers_openai_ada_002(input_text, embedding_model, n=3):\n",
    "    input_embedding = client.embeddings.create(input=[input_text], model=embedding_model).data[0].embedding\n",
    "    \n",
    "    similarities = []\n",
    "    \n",
    "    for question_embedding in df_with_embeddings[\"Question Embeddings: text-embedding-ada-002\"]:\n",
    "        similarity = 1 - cosine(input_embedding, question_embedding)\n",
    "        similarities.append(similarity)\n",
    "    \n",
    "    top_similar_indices = np.argsort(similarities)[-n:][::-1]\n",
    "    top_similar_questions = [df_with_embeddings.iloc[i][\"Antwort\"] for i in top_similar_indices]\n",
    "    \n",
    "    return top_similar_questions\n",
    "\n",
    "print(rag_top3_answers_openai_ada_002(\"Wie funktioniert die Lizenzierung in SAP S/4HANA?\", \"text-embedding-ada-002\"))"
   ]
  },
  {
   "cell_type": "markdown",
   "metadata": {},
   "source": [
    "### Add the 3 most similar answers to Dataframe"
   ]
  },
  {
   "cell_type": "code",
   "execution_count": 530,
   "metadata": {},
   "outputs": [],
   "source": [
    "first_answers_openai_ada_002 = []\n",
    "second_answers_openai_ada_002 = []\n",
    "third_answers_openai_ada_002 = []\n",
    "\n",
    "for i in df_with_embeddings[\"Frage (stark modifiziert)\"]:\n",
    "    all_3_answers = rag_top3_answers_openai_ada_002(i, \"text-embedding-ada-002\")\n",
    "    first_answers_openai_ada_002.append(all_3_answers[0])\n",
    "    second_answers_openai_ada_002.append(all_3_answers[1])\n",
    "    third_answers_openai_ada_002.append(all_3_answers[2])\n",
    "\n",
    "df_top_3_openai_ada_002[\"Frage (stark modifiziert)\"] = df_with_embeddings[\"Frage (stark modifiziert)\"]\n",
    "df_top_3_openai_ada_002[\"Answer 1: text-embedding-ada-002\"] = first_answers_openai_ada_002\n",
    "df_top_3_openai_ada_002[\"Answer 2: text-embedding-ada-002\"] = second_answers_openai_ada_002\n",
    "df_top_3_openai_ada_002[\"Answer 3: text-embedding-ada-002\"] = third_answers_openai_ada_002"
   ]
  },
  {
   "cell_type": "markdown",
   "metadata": {},
   "source": [
    "### Create Embeddings for the 3 most similar answers"
   ]
  },
  {
   "cell_type": "code",
   "execution_count": 531,
   "metadata": {},
   "outputs": [
    {
     "data": {
      "text/html": [
       "<div>\n",
       "<style scoped>\n",
       "    .dataframe tbody tr th:only-of-type {\n",
       "        vertical-align: middle;\n",
       "    }\n",
       "\n",
       "    .dataframe tbody tr th {\n",
       "        vertical-align: top;\n",
       "    }\n",
       "\n",
       "    .dataframe thead th {\n",
       "        text-align: right;\n",
       "    }\n",
       "</style>\n",
       "<table border=\"1\" class=\"dataframe\">\n",
       "  <thead>\n",
       "    <tr style=\"text-align: right;\">\n",
       "      <th></th>\n",
       "      <th>Frage (stark modifiziert)</th>\n",
       "      <th>Answer 1: text-embedding-ada-002</th>\n",
       "      <th>Answer 2: text-embedding-ada-002</th>\n",
       "      <th>Answer 3: text-embedding-ada-002</th>\n",
       "    </tr>\n",
       "  </thead>\n",
       "  <tbody>\n",
       "    <tr>\n",
       "      <th>0</th>\n",
       "      <td>S/4?</td>\n",
       "      <td>SAP S/4HANA ist eine Enterprise Resource Plann...</td>\n",
       "      <td>Ja, eine Migration ist erforderlich, da SAP S/...</td>\n",
       "      <td>Die Lizenzierung basiert auf verschiedenen Fak...</td>\n",
       "    </tr>\n",
       "    <tr>\n",
       "      <th>1</th>\n",
       "      <td>Vorteile HANA</td>\n",
       "      <td>Zu den Vorteilen von SAP S/4HANA gehören eine ...</td>\n",
       "      <td>Die Nutzung von SAP SuccessFactors ermöglicht ...</td>\n",
       "      <td>Die Nutzung von SAP Enable Now ermöglicht eine...</td>\n",
       "    </tr>\n",
       "    <tr>\n",
       "      <th>2</th>\n",
       "      <td>SAP S/4HANA vs. SAP ERP?</td>\n",
       "      <td>Die Hauptunterschiede umfassen die In-Memory-D...</td>\n",
       "      <td>SAP S/4HANA ist eine Enterprise Resource Plann...</td>\n",
       "      <td>Zu den Vorteilen von SAP S/4HANA gehören eine ...</td>\n",
       "    </tr>\n",
       "    <tr>\n",
       "      <th>3</th>\n",
       "      <td>Module SAP S/4HANA?</td>\n",
       "      <td>SAP S/4HANA ist eine Enterprise Resource Plann...</td>\n",
       "      <td>SAP bietet verschiedene Dienstleistungen wie B...</td>\n",
       "      <td>SAP S/4HANA umfasst Module für Finanzen, Besch...</td>\n",
       "    </tr>\n",
       "    <tr>\n",
       "      <th>4</th>\n",
       "      <td>Migration zu SAP S/4HANA</td>\n",
       "      <td>Ja, eine Migration ist erforderlich, da SAP S/...</td>\n",
       "      <td>SAP bietet verschiedene Dienstleistungen wie B...</td>\n",
       "      <td>SAP S/4HANA ist eine Enterprise Resource Plann...</td>\n",
       "    </tr>\n",
       "    <tr>\n",
       "      <th>5</th>\n",
       "      <td>Dauer S/4HANA-Migrationsprojekts?</td>\n",
       "      <td>Die Dauer kann je nach Unternehmensgröße, Komp...</td>\n",
       "      <td>Ja, eine Migration ist erforderlich, da SAP S/...</td>\n",
       "      <td>SAP bietet verschiedene Dienstleistungen wie B...</td>\n",
       "    </tr>\n",
       "    <tr>\n",
       "      <th>6</th>\n",
       "      <td>In-Memory-Technologien?</td>\n",
       "      <td>In-Memory-Technologien ermöglichen eine schnel...</td>\n",
       "      <td>Ja, SAP Enable Now bietet Funktionen für das P...</td>\n",
       "      <td>Machine Learning und künstliche Intelligenz we...</td>\n",
       "    </tr>\n",
       "    <tr>\n",
       "      <th>7</th>\n",
       "      <td>On-Premise oder Cloud?</td>\n",
       "      <td>Beide Optionen sind möglich, und die Entscheid...</td>\n",
       "      <td>Ja, SAP SuccessFactors ist eine cloudbasierte ...</td>\n",
       "      <td>Ja, SAP Enable Now kann sowohl als cloudbasier...</td>\n",
       "    </tr>\n",
       "    <tr>\n",
       "      <th>8</th>\n",
       "      <td>Lizenzierung SAP S/4HANA?</td>\n",
       "      <td>Die Lizenzierung basiert auf verschiedenen Fak...</td>\n",
       "      <td>Die Lizenzierung von SAP SuccessFactors erfolg...</td>\n",
       "      <td>SAP bietet verschiedene Dienstleistungen wie B...</td>\n",
       "    </tr>\n",
       "    <tr>\n",
       "      <th>9</th>\n",
       "      <td>Auswirkungen auf bestehende Entwicklungen?</td>\n",
       "      <td>Bestehende Entwicklungen müssen möglicherweise...</td>\n",
       "      <td>SAP S/4HANA erfordert eine neue Datenbankarchi...</td>\n",
       "      <td>Ja, SAP SuccessFactors kann für die Nachfolgep...</td>\n",
       "    </tr>\n",
       "    <tr>\n",
       "      <th>10</th>\n",
       "      <td>Verwendbarkeit vorhandener Berichte/Anpassungen?</td>\n",
       "      <td>Einige können weiterverwendet werden, aber vie...</td>\n",
       "      <td>Ja, SAP S/4HANA bietet Funktionen wie SAP Fior...</td>\n",
       "      <td>SAP SuccessFactors bietet verschiedene Bericht...</td>\n",
       "    </tr>\n",
       "    <tr>\n",
       "      <th>11</th>\n",
       "      <td>Integrierte Reporting-Funktionen</td>\n",
       "      <td>Ja, SAP S/4HANA bietet Funktionen wie SAP Fior...</td>\n",
       "      <td>SAP SuccessFactors bietet verschiedene Bericht...</td>\n",
       "      <td>SAP Concur bietet verschiedene Berichterstattu...</td>\n",
       "    </tr>\n",
       "    <tr>\n",
       "      <th>12</th>\n",
       "      <td>Unterstützung bei der Implementierung?</td>\n",
       "      <td>SAP bietet verschiedene Dienstleistungen wie B...</td>\n",
       "      <td>Ja, SAP SuccessFactors unterstützt die Mitarbe...</td>\n",
       "      <td>Ja, SAP Fieldglass unterstützt mehrsprachige B...</td>\n",
       "    </tr>\n",
       "    <tr>\n",
       "      <th>13</th>\n",
       "      <td>Rolle von ML und KI</td>\n",
       "      <td>Machine Learning und künstliche Intelligenz we...</td>\n",
       "      <td>In-Memory-Technologien ermöglichen eine schnel...</td>\n",
       "      <td>SAP Enable Now spielt eine wichtige Rolle bei ...</td>\n",
       "    </tr>\n",
       "    <tr>\n",
       "      <th>14</th>\n",
       "      <td>Integration mit anderen SAP-Produkten?</td>\n",
       "      <td>SAP SuccessFactors kann nahtlos mit anderen SA...</td>\n",
       "      <td>SAP S/4HANA kann nahtlos mit anderen SAP-Lösun...</td>\n",
       "      <td>SAP Enable Now kann nahtlos mit anderen SAP-Pr...</td>\n",
       "    </tr>\n",
       "    <tr>\n",
       "      <th>15</th>\n",
       "      <td>Schulungen und Zertifizierungen?</td>\n",
       "      <td>Ja, SAP bietet Schulungen und Zertifizierungen...</td>\n",
       "      <td>Ja, SAP bietet Schulungs- und Zertifizierungsm...</td>\n",
       "      <td>Ja, SAP SuccessFactors unterstützt die Mitarbe...</td>\n",
       "    </tr>\n",
       "    <tr>\n",
       "      <th>16</th>\n",
       "      <td>Integration Drittanbieteranwendungen?</td>\n",
       "      <td>Ja, SAP S/4HANA kann über APIs und Middleware ...</td>\n",
       "      <td>SAP SuccessFactors kann nahtlos mit anderen SA...</td>\n",
       "      <td>SAP Enable Now kann nahtlos mit anderen SAP-Pr...</td>\n",
       "    </tr>\n",
       "    <tr>\n",
       "      <th>17</th>\n",
       "      <td>Verfügbarkeit/Support-Struktur?</td>\n",
       "      <td>SAP bietet einen umfassenden Support für SAP S...</td>\n",
       "      <td>SAP bietet umfassenden Support und regelmäßige...</td>\n",
       "      <td>Ja, SAP Enable Now bietet Funktionen für das P...</td>\n",
       "    </tr>\n",
       "    <tr>\n",
       "      <th>18</th>\n",
       "      <td>Architekturänderungen?</td>\n",
       "      <td>SAP S/4HANA erfordert eine neue Datenbankarchi...</td>\n",
       "      <td>Bestehende Entwicklungen müssen möglicherweise...</td>\n",
       "      <td>Ja, eine Migration ist erforderlich, da SAP S/...</td>\n",
       "    </tr>\n",
       "    <tr>\n",
       "      <th>19</th>\n",
       "      <td>profitierende Branchen</td>\n",
       "      <td>Branchen wie Fertigung, Handel und Dienstleist...</td>\n",
       "      <td>SAP SuccessFactors ist für Unternehmen jeder G...</td>\n",
       "      <td>SAP Enable Now ist für Unternehmen jeder Größe...</td>\n",
       "    </tr>\n",
       "    <tr>\n",
       "      <th>20</th>\n",
       "      <td>Funktion SAP Fieldglass?</td>\n",
       "      <td>SAP Fieldglass bietet Funktionen wie Beschaffu...</td>\n",
       "      <td>SAP Fieldglass ist eine cloudbasierte Plattfor...</td>\n",
       "      <td>Die Implementierung von SAP Fieldglass erfolgt...</td>\n",
       "    </tr>\n",
       "    <tr>\n",
       "      <th>21</th>\n",
       "      <td>Features in SAP Fieldglass verfügbar?</td>\n",
       "      <td>SAP Fieldglass bietet Funktionen wie Beschaffu...</td>\n",
       "      <td>Ja, SAP Fieldglass unterstützt benutzerdefinie...</td>\n",
       "      <td>Die Nutzung von SAP Fieldglass ermöglicht eine...</td>\n",
       "    </tr>\n",
       "    <tr>\n",
       "      <th>22</th>\n",
       "      <td>profitieren von der Nutzung von SAP Fieldglass?</td>\n",
       "      <td>Die Nutzung von SAP Fieldglass ermöglicht eine...</td>\n",
       "      <td>Ja, SAP Fieldglass bietet mobile Anwendungen f...</td>\n",
       "      <td>SAP Fieldglass bietet Funktionen wie Beschaffu...</td>\n",
       "    </tr>\n",
       "    <tr>\n",
       "      <th>23</th>\n",
       "      <td>Vorzüge Verwendung Fieldglass?</td>\n",
       "      <td>Die Nutzung von SAP Fieldglass ermöglicht eine...</td>\n",
       "      <td>SAP Fieldglass bietet Funktionen wie Beschaffu...</td>\n",
       "      <td>SAP Fieldglass ist eine cloudbasierte Plattfor...</td>\n",
       "    </tr>\n",
       "    <tr>\n",
       "      <th>24</th>\n",
       "      <td>SAP Fieldglass mit anderen SAP-Produkten</td>\n",
       "      <td>SAP Fieldglass kann nahtlos mit anderen SAP-Pr...</td>\n",
       "      <td>SAP Fieldglass ist eine cloudbasierte Plattfor...</td>\n",
       "      <td>SAP Fieldglass bietet Funktionen wie Beschaffu...</td>\n",
       "    </tr>\n",
       "    <tr>\n",
       "      <th>25</th>\n",
       "      <td>SAP Fieldglass im Talentmanagement</td>\n",
       "      <td>SAP Fieldglass spielt eine wichtige Rolle bei ...</td>\n",
       "      <td>SAP Fieldglass ist eine cloudbasierte Plattfor...</td>\n",
       "      <td>SAP Fieldglass bietet Funktionen wie Beschaffu...</td>\n",
       "    </tr>\n",
       "    <tr>\n",
       "      <th>26</th>\n",
       "      <td>SAP Fieldglass und bereits existierende HR-Sys...</td>\n",
       "      <td>Ja, SAP Fieldglass kann mit verschiedenen HR-S...</td>\n",
       "      <td>SAP Fieldglass kann nahtlos mit anderen SAP-Pr...</td>\n",
       "      <td>SAP Fieldglass ist für Unternehmen aller Größe...</td>\n",
       "    </tr>\n",
       "    <tr>\n",
       "      <th>27</th>\n",
       "      <td>SAP Fieldglass Unterstützung bei Verträgen und...</td>\n",
       "      <td>SAP Fieldglass erleichtert die Verwaltung von ...</td>\n",
       "      <td>Ja, SAP Fieldglass bietet Funktionen zur Unter...</td>\n",
       "      <td>Ja, SAP Fieldglass bietet Funktionen für Compl...</td>\n",
       "    </tr>\n",
       "    <tr>\n",
       "      <th>28</th>\n",
       "      <td>Fieldglass Hilfe bei Compliance- und Risikoman...</td>\n",
       "      <td>Ja, SAP Fieldglass bietet Funktionen für Compl...</td>\n",
       "      <td>Ja, SAP Fieldglass bietet Funktionen zur Unter...</td>\n",
       "      <td>Ja, SAP SuccessFactors kann die Einhaltung von...</td>\n",
       "    </tr>\n",
       "    <tr>\n",
       "      <th>29</th>\n",
       "      <td>Berichten und Analysen in SAP Fieldglass</td>\n",
       "      <td>SAP Fieldglass bietet umfassende Berichterstat...</td>\n",
       "      <td>SAP Fieldglass ist eine cloudbasierte Plattfor...</td>\n",
       "      <td>SAP Fieldglass bietet Funktionen wie Beschaffu...</td>\n",
       "    </tr>\n",
       "  </tbody>\n",
       "</table>\n",
       "</div>"
      ],
      "text/plain": [
       "                            Frage (stark modifiziert)  \\\n",
       "0                                                S/4?   \n",
       "1                                       Vorteile HANA   \n",
       "2                            SAP S/4HANA vs. SAP ERP?   \n",
       "3                                 Module SAP S/4HANA?   \n",
       "4                            Migration zu SAP S/4HANA   \n",
       "5                   Dauer S/4HANA-Migrationsprojekts?   \n",
       "6                             In-Memory-Technologien?   \n",
       "7                              On-Premise oder Cloud?   \n",
       "8                           Lizenzierung SAP S/4HANA?   \n",
       "9          Auswirkungen auf bestehende Entwicklungen?   \n",
       "10   Verwendbarkeit vorhandener Berichte/Anpassungen?   \n",
       "11                   Integrierte Reporting-Funktionen   \n",
       "12             Unterstützung bei der Implementierung?   \n",
       "13                                Rolle von ML und KI   \n",
       "14             Integration mit anderen SAP-Produkten?   \n",
       "15                   Schulungen und Zertifizierungen?   \n",
       "16              Integration Drittanbieteranwendungen?   \n",
       "17                    Verfügbarkeit/Support-Struktur?   \n",
       "18                             Architekturänderungen?   \n",
       "19                             profitierende Branchen   \n",
       "20                           Funktion SAP Fieldglass?   \n",
       "21              Features in SAP Fieldglass verfügbar?   \n",
       "22    profitieren von der Nutzung von SAP Fieldglass?   \n",
       "23                     Vorzüge Verwendung Fieldglass?   \n",
       "24           SAP Fieldglass mit anderen SAP-Produkten   \n",
       "25                 SAP Fieldglass im Talentmanagement   \n",
       "26  SAP Fieldglass und bereits existierende HR-Sys...   \n",
       "27  SAP Fieldglass Unterstützung bei Verträgen und...   \n",
       "28  Fieldglass Hilfe bei Compliance- und Risikoman...   \n",
       "29           Berichten und Analysen in SAP Fieldglass   \n",
       "\n",
       "                     Answer 1: text-embedding-ada-002  \\\n",
       "0   SAP S/4HANA ist eine Enterprise Resource Plann...   \n",
       "1   Zu den Vorteilen von SAP S/4HANA gehören eine ...   \n",
       "2   Die Hauptunterschiede umfassen die In-Memory-D...   \n",
       "3   SAP S/4HANA ist eine Enterprise Resource Plann...   \n",
       "4   Ja, eine Migration ist erforderlich, da SAP S/...   \n",
       "5   Die Dauer kann je nach Unternehmensgröße, Komp...   \n",
       "6   In-Memory-Technologien ermöglichen eine schnel...   \n",
       "7   Beide Optionen sind möglich, und die Entscheid...   \n",
       "8   Die Lizenzierung basiert auf verschiedenen Fak...   \n",
       "9   Bestehende Entwicklungen müssen möglicherweise...   \n",
       "10  Einige können weiterverwendet werden, aber vie...   \n",
       "11  Ja, SAP S/4HANA bietet Funktionen wie SAP Fior...   \n",
       "12  SAP bietet verschiedene Dienstleistungen wie B...   \n",
       "13  Machine Learning und künstliche Intelligenz we...   \n",
       "14  SAP SuccessFactors kann nahtlos mit anderen SA...   \n",
       "15  Ja, SAP bietet Schulungen und Zertifizierungen...   \n",
       "16  Ja, SAP S/4HANA kann über APIs und Middleware ...   \n",
       "17  SAP bietet einen umfassenden Support für SAP S...   \n",
       "18  SAP S/4HANA erfordert eine neue Datenbankarchi...   \n",
       "19  Branchen wie Fertigung, Handel und Dienstleist...   \n",
       "20  SAP Fieldglass bietet Funktionen wie Beschaffu...   \n",
       "21  SAP Fieldglass bietet Funktionen wie Beschaffu...   \n",
       "22  Die Nutzung von SAP Fieldglass ermöglicht eine...   \n",
       "23  Die Nutzung von SAP Fieldglass ermöglicht eine...   \n",
       "24  SAP Fieldglass kann nahtlos mit anderen SAP-Pr...   \n",
       "25  SAP Fieldglass spielt eine wichtige Rolle bei ...   \n",
       "26  Ja, SAP Fieldglass kann mit verschiedenen HR-S...   \n",
       "27  SAP Fieldglass erleichtert die Verwaltung von ...   \n",
       "28  Ja, SAP Fieldglass bietet Funktionen für Compl...   \n",
       "29  SAP Fieldglass bietet umfassende Berichterstat...   \n",
       "\n",
       "                     Answer 2: text-embedding-ada-002  \\\n",
       "0   Ja, eine Migration ist erforderlich, da SAP S/...   \n",
       "1   Die Nutzung von SAP SuccessFactors ermöglicht ...   \n",
       "2   SAP S/4HANA ist eine Enterprise Resource Plann...   \n",
       "3   SAP bietet verschiedene Dienstleistungen wie B...   \n",
       "4   SAP bietet verschiedene Dienstleistungen wie B...   \n",
       "5   Ja, eine Migration ist erforderlich, da SAP S/...   \n",
       "6   Ja, SAP Enable Now bietet Funktionen für das P...   \n",
       "7   Ja, SAP SuccessFactors ist eine cloudbasierte ...   \n",
       "8   Die Lizenzierung von SAP SuccessFactors erfolg...   \n",
       "9   SAP S/4HANA erfordert eine neue Datenbankarchi...   \n",
       "10  Ja, SAP S/4HANA bietet Funktionen wie SAP Fior...   \n",
       "11  SAP SuccessFactors bietet verschiedene Bericht...   \n",
       "12  Ja, SAP SuccessFactors unterstützt die Mitarbe...   \n",
       "13  In-Memory-Technologien ermöglichen eine schnel...   \n",
       "14  SAP S/4HANA kann nahtlos mit anderen SAP-Lösun...   \n",
       "15  Ja, SAP bietet Schulungs- und Zertifizierungsm...   \n",
       "16  SAP SuccessFactors kann nahtlos mit anderen SA...   \n",
       "17  SAP bietet umfassenden Support und regelmäßige...   \n",
       "18  Bestehende Entwicklungen müssen möglicherweise...   \n",
       "19  SAP SuccessFactors ist für Unternehmen jeder G...   \n",
       "20  SAP Fieldglass ist eine cloudbasierte Plattfor...   \n",
       "21  Ja, SAP Fieldglass unterstützt benutzerdefinie...   \n",
       "22  Ja, SAP Fieldglass bietet mobile Anwendungen f...   \n",
       "23  SAP Fieldglass bietet Funktionen wie Beschaffu...   \n",
       "24  SAP Fieldglass ist eine cloudbasierte Plattfor...   \n",
       "25  SAP Fieldglass ist eine cloudbasierte Plattfor...   \n",
       "26  SAP Fieldglass kann nahtlos mit anderen SAP-Pr...   \n",
       "27  Ja, SAP Fieldglass bietet Funktionen zur Unter...   \n",
       "28  Ja, SAP Fieldglass bietet Funktionen zur Unter...   \n",
       "29  SAP Fieldglass ist eine cloudbasierte Plattfor...   \n",
       "\n",
       "                     Answer 3: text-embedding-ada-002  \n",
       "0   Die Lizenzierung basiert auf verschiedenen Fak...  \n",
       "1   Die Nutzung von SAP Enable Now ermöglicht eine...  \n",
       "2   Zu den Vorteilen von SAP S/4HANA gehören eine ...  \n",
       "3   SAP S/4HANA umfasst Module für Finanzen, Besch...  \n",
       "4   SAP S/4HANA ist eine Enterprise Resource Plann...  \n",
       "5   SAP bietet verschiedene Dienstleistungen wie B...  \n",
       "6   Machine Learning und künstliche Intelligenz we...  \n",
       "7   Ja, SAP Enable Now kann sowohl als cloudbasier...  \n",
       "8   SAP bietet verschiedene Dienstleistungen wie B...  \n",
       "9   Ja, SAP SuccessFactors kann für die Nachfolgep...  \n",
       "10  SAP SuccessFactors bietet verschiedene Bericht...  \n",
       "11  SAP Concur bietet verschiedene Berichterstattu...  \n",
       "12  Ja, SAP Fieldglass unterstützt mehrsprachige B...  \n",
       "13  SAP Enable Now spielt eine wichtige Rolle bei ...  \n",
       "14  SAP Enable Now kann nahtlos mit anderen SAP-Pr...  \n",
       "15  Ja, SAP SuccessFactors unterstützt die Mitarbe...  \n",
       "16  SAP Enable Now kann nahtlos mit anderen SAP-Pr...  \n",
       "17  Ja, SAP Enable Now bietet Funktionen für das P...  \n",
       "18  Ja, eine Migration ist erforderlich, da SAP S/...  \n",
       "19  SAP Enable Now ist für Unternehmen jeder Größe...  \n",
       "20  Die Implementierung von SAP Fieldglass erfolgt...  \n",
       "21  Die Nutzung von SAP Fieldglass ermöglicht eine...  \n",
       "22  SAP Fieldglass bietet Funktionen wie Beschaffu...  \n",
       "23  SAP Fieldglass ist eine cloudbasierte Plattfor...  \n",
       "24  SAP Fieldglass bietet Funktionen wie Beschaffu...  \n",
       "25  SAP Fieldglass bietet Funktionen wie Beschaffu...  \n",
       "26  SAP Fieldglass ist für Unternehmen aller Größe...  \n",
       "27  Ja, SAP Fieldglass bietet Funktionen für Compl...  \n",
       "28  Ja, SAP SuccessFactors kann die Einhaltung von...  \n",
       "29  SAP Fieldglass bietet Funktionen wie Beschaffu...  "
      ]
     },
     "execution_count": 531,
     "metadata": {},
     "output_type": "execute_result"
    }
   ],
   "source": [
    "df_top_3_openai_ada_002.head(30)"
   ]
  },
  {
   "cell_type": "code",
   "execution_count": 532,
   "metadata": {},
   "outputs": [],
   "source": [
    "# First Answer Embeddings:\n",
    "\n",
    "client = OpenAI(api_key=openai_key_embeddings)\n",
    "\n",
    "first_answer_embeddings_openai_ada_002= []\n",
    "\n",
    "for i in df_top_3_openai_ada_002[\"Answer 1: text-embedding-ada-002\"]:\n",
    "    embeddings_batch_response = client.embeddings.create(\n",
    "        model=\"text-embedding-ada-002\",\n",
    "        input=[i],\n",
    "    )\n",
    "    first_answer_embeddings_openai_ada_002.append(embeddings_batch_response.data[0].embedding)\n",
    "\n",
    "df_top_3_openai_ada_002[\"Answer 1 Embeddings: text-embedding-ada-002\"] = first_answer_embeddings_openai_ada_002"
   ]
  },
  {
   "cell_type": "code",
   "execution_count": 533,
   "metadata": {},
   "outputs": [],
   "source": [
    "# Second Answer Embeddings:\n",
    "\n",
    "client = OpenAI(api_key=openai_key_embeddings)\n",
    "\n",
    "second_answer_embeddings_openai_ada_002= []\n",
    "\n",
    "for i in df_top_3_openai_ada_002[\"Answer 2: text-embedding-ada-002\"]:\n",
    "    embeddings_batch_response = client.embeddings.create(\n",
    "        model=\"text-embedding-ada-002\",\n",
    "        input=[i],\n",
    "    )\n",
    "    second_answer_embeddings_openai_ada_002.append(embeddings_batch_response.data[0].embedding)\n",
    "\n",
    "df_top_3_openai_ada_002[\"Answer 2 Embeddings: text-embedding-ada-002\"] = second_answer_embeddings_openai_ada_002"
   ]
  },
  {
   "cell_type": "code",
   "execution_count": 534,
   "metadata": {},
   "outputs": [],
   "source": [
    "# Third Answer Embeddings:\n",
    "\n",
    "client = OpenAI(api_key=openai_key_embeddings)\n",
    "\n",
    "third_answer_embeddings_openai_ada_002= []\n",
    "\n",
    "for i in df_top_3_openai_ada_002[\"Answer 3: text-embedding-ada-002\"]:\n",
    "    embeddings_batch_response = client.embeddings.create(\n",
    "        model=\"text-embedding-ada-002\",\n",
    "        input=[i],\n",
    "    )\n",
    "    third_answer_embeddings_openai_ada_002.append(embeddings_batch_response.data[0].embedding)\n",
    "\n",
    "df_top_3_openai_ada_002[\"Answer 3 Embeddings: text-embedding-ada-002\"] = third_answer_embeddings_openai_ada_002"
   ]
  },
  {
   "cell_type": "code",
   "execution_count": 535,
   "metadata": {},
   "outputs": [
    {
     "data": {
      "text/html": [
       "<div>\n",
       "<style scoped>\n",
       "    .dataframe tbody tr th:only-of-type {\n",
       "        vertical-align: middle;\n",
       "    }\n",
       "\n",
       "    .dataframe tbody tr th {\n",
       "        vertical-align: top;\n",
       "    }\n",
       "\n",
       "    .dataframe thead th {\n",
       "        text-align: right;\n",
       "    }\n",
       "</style>\n",
       "<table border=\"1\" class=\"dataframe\">\n",
       "  <thead>\n",
       "    <tr style=\"text-align: right;\">\n",
       "      <th></th>\n",
       "      <th>Frage (stark modifiziert)</th>\n",
       "      <th>Answer 1: text-embedding-ada-002</th>\n",
       "      <th>Answer 2: text-embedding-ada-002</th>\n",
       "      <th>Answer 3: text-embedding-ada-002</th>\n",
       "      <th>Answer 1 Embeddings: text-embedding-ada-002</th>\n",
       "      <th>Answer 2 Embeddings: text-embedding-ada-002</th>\n",
       "      <th>Answer 3 Embeddings: text-embedding-ada-002</th>\n",
       "    </tr>\n",
       "  </thead>\n",
       "  <tbody>\n",
       "    <tr>\n",
       "      <th>0</th>\n",
       "      <td>S/4?</td>\n",
       "      <td>SAP S/4HANA ist eine Enterprise Resource Plann...</td>\n",
       "      <td>Ja, eine Migration ist erforderlich, da SAP S/...</td>\n",
       "      <td>Die Lizenzierung basiert auf verschiedenen Fak...</td>\n",
       "      <td>[0.01394073385745287, -0.0076940665021538734, ...</td>\n",
       "      <td>[0.023980315774679184, -0.0257048849016428, 0....</td>\n",
       "      <td>[0.045277416706085205, 0.008350239135324955, 0...</td>\n",
       "    </tr>\n",
       "    <tr>\n",
       "      <th>1</th>\n",
       "      <td>Vorteile HANA</td>\n",
       "      <td>Zu den Vorteilen von SAP S/4HANA gehören eine ...</td>\n",
       "      <td>Die Nutzung von SAP SuccessFactors ermöglicht ...</td>\n",
       "      <td>Die Nutzung von SAP Enable Now ermöglicht eine...</td>\n",
       "      <td>[0.007233329117298126, 0.0071442644111812115, ...</td>\n",
       "      <td>[-0.008722416125237942, 0.002964111277833581, ...</td>\n",
       "      <td>[-0.009821170009672642, -0.002939182100817561,...</td>\n",
       "    </tr>\n",
       "    <tr>\n",
       "      <th>2</th>\n",
       "      <td>SAP S/4HANA vs. SAP ERP?</td>\n",
       "      <td>Die Hauptunterschiede umfassen die In-Memory-D...</td>\n",
       "      <td>SAP S/4HANA ist eine Enterprise Resource Plann...</td>\n",
       "      <td>Zu den Vorteilen von SAP S/4HANA gehören eine ...</td>\n",
       "      <td>[0.0021640665363520384, 0.008108162321150303, ...</td>\n",
       "      <td>[0.01394073385745287, -0.0076940665021538734, ...</td>\n",
       "      <td>[0.007233329117298126, 0.0071442644111812115, ...</td>\n",
       "    </tr>\n",
       "    <tr>\n",
       "      <th>3</th>\n",
       "      <td>Module SAP S/4HANA?</td>\n",
       "      <td>SAP S/4HANA ist eine Enterprise Resource Plann...</td>\n",
       "      <td>SAP bietet verschiedene Dienstleistungen wie B...</td>\n",
       "      <td>SAP S/4HANA umfasst Module für Finanzen, Besch...</td>\n",
       "      <td>[0.01394073385745287, -0.0076940665021538734, ...</td>\n",
       "      <td>[0.009830392897129059, 0.005058543290942907, -...</td>\n",
       "      <td>[0.02016955055296421, -0.008751985616981983, 0...</td>\n",
       "    </tr>\n",
       "    <tr>\n",
       "      <th>4</th>\n",
       "      <td>Migration zu SAP S/4HANA</td>\n",
       "      <td>Ja, eine Migration ist erforderlich, da SAP S/...</td>\n",
       "      <td>SAP bietet verschiedene Dienstleistungen wie B...</td>\n",
       "      <td>SAP S/4HANA ist eine Enterprise Resource Plann...</td>\n",
       "      <td>[0.023980315774679184, -0.0257048849016428, 0....</td>\n",
       "      <td>[0.009501495398581028, 0.004960901569575071, -...</td>\n",
       "      <td>[0.01394073385745287, -0.0076940665021538734, ...</td>\n",
       "    </tr>\n",
       "    <tr>\n",
       "      <th>...</th>\n",
       "      <td>...</td>\n",
       "      <td>...</td>\n",
       "      <td>...</td>\n",
       "      <td>...</td>\n",
       "      <td>...</td>\n",
       "      <td>...</td>\n",
       "      <td>...</td>\n",
       "    </tr>\n",
       "    <tr>\n",
       "      <th>95</th>\n",
       "      <td>Unterstützung und Schulungsressourcen für SAP ...</td>\n",
       "      <td>SAP bietet Schulungsressourcen, Schulungen und...</td>\n",
       "      <td>Ja, SAP SuccessFactors unterstützt die Mitarbe...</td>\n",
       "      <td>SAP bietet umfassenden Support und regelmäßige...</td>\n",
       "      <td>[-0.0035913982428610325, -0.004740770440548658...</td>\n",
       "      <td>[-0.008783618919551373, -0.00820558425039053, ...</td>\n",
       "      <td>[0.004911050200462341, 0.0011249216040596366, ...</td>\n",
       "    </tr>\n",
       "    <tr>\n",
       "      <th>96</th>\n",
       "      <td>SAP SuccessFactors: Cloud?</td>\n",
       "      <td>Ja, SAP SuccessFactors ist eine cloudbasierte ...</td>\n",
       "      <td>SAP SuccessFactors ist eine cloudbasierte Lösu...</td>\n",
       "      <td>Ja, SAP Enable Now kann sowohl als cloudbasier...</td>\n",
       "      <td>[0.015938352793455124, -0.008424196392297745, ...</td>\n",
       "      <td>[-0.000254593207500875, -0.00791874062269926, ...</td>\n",
       "      <td>[0.019267888739705086, -0.02101951465010643, 0...</td>\n",
       "    </tr>\n",
       "    <tr>\n",
       "      <th>97</th>\n",
       "      <td>Lizenzierung von SAP SuccessFactors?</td>\n",
       "      <td>Die Lizenzierung von SAP SuccessFactors erfolg...</td>\n",
       "      <td>Die Lizenzierung basiert auf verschiedenen Fak...</td>\n",
       "      <td>Ja, SAP SuccessFactors bietet Funktionen für d...</td>\n",
       "      <td>[0.029685040935873985, 0.0066001578234136105, ...</td>\n",
       "      <td>[0.04532167315483093, 0.008336402475833893, 0....</td>\n",
       "      <td>[-0.0032552210614085197, -0.005592863075435162...</td>\n",
       "    </tr>\n",
       "    <tr>\n",
       "      <th>98</th>\n",
       "      <td>Arbeitszeitverwaltung und -planung in SAP Succ...</td>\n",
       "      <td>Ja, SAP SuccessFactors bietet Funktionen für d...</td>\n",
       "      <td>Ja, SAP SuccessFactors bietet Funktionen für d...</td>\n",
       "      <td>Ja, SAP SuccessFactors bietet Funktionen für d...</td>\n",
       "      <td>[0.014625104144215584, -0.008604103699326515, ...</td>\n",
       "      <td>[-0.0032552210614085197, -0.005592863075435162...</td>\n",
       "      <td>[0.0018801514524966478, -0.0033050754573196173...</td>\n",
       "    </tr>\n",
       "    <tr>\n",
       "      <th>99</th>\n",
       "      <td>Support für SAP SuccessFactors?</td>\n",
       "      <td>Ja, SAP SuccessFactors unterstützt die Mitarbe...</td>\n",
       "      <td>SAP bietet umfassenden Support und regelmäßige...</td>\n",
       "      <td>SAP bietet Schulungsressourcen, Schulungen und...</td>\n",
       "      <td>[-0.008783618919551373, -0.00820558425039053, ...</td>\n",
       "      <td>[0.0049465736374258995, 0.001126666902564466, ...</td>\n",
       "      <td>[-0.0035913982428610325, -0.004740770440548658...</td>\n",
       "    </tr>\n",
       "  </tbody>\n",
       "</table>\n",
       "<p>100 rows × 7 columns</p>\n",
       "</div>"
      ],
      "text/plain": [
       "                            Frage (stark modifiziert)  \\\n",
       "0                                                S/4?   \n",
       "1                                       Vorteile HANA   \n",
       "2                            SAP S/4HANA vs. SAP ERP?   \n",
       "3                                 Module SAP S/4HANA?   \n",
       "4                            Migration zu SAP S/4HANA   \n",
       "..                                                ...   \n",
       "95  Unterstützung und Schulungsressourcen für SAP ...   \n",
       "96                         SAP SuccessFactors: Cloud?   \n",
       "97               Lizenzierung von SAP SuccessFactors?   \n",
       "98  Arbeitszeitverwaltung und -planung in SAP Succ...   \n",
       "99                    Support für SAP SuccessFactors?   \n",
       "\n",
       "                     Answer 1: text-embedding-ada-002  \\\n",
       "0   SAP S/4HANA ist eine Enterprise Resource Plann...   \n",
       "1   Zu den Vorteilen von SAP S/4HANA gehören eine ...   \n",
       "2   Die Hauptunterschiede umfassen die In-Memory-D...   \n",
       "3   SAP S/4HANA ist eine Enterprise Resource Plann...   \n",
       "4   Ja, eine Migration ist erforderlich, da SAP S/...   \n",
       "..                                                ...   \n",
       "95  SAP bietet Schulungsressourcen, Schulungen und...   \n",
       "96  Ja, SAP SuccessFactors ist eine cloudbasierte ...   \n",
       "97  Die Lizenzierung von SAP SuccessFactors erfolg...   \n",
       "98  Ja, SAP SuccessFactors bietet Funktionen für d...   \n",
       "99  Ja, SAP SuccessFactors unterstützt die Mitarbe...   \n",
       "\n",
       "                     Answer 2: text-embedding-ada-002  \\\n",
       "0   Ja, eine Migration ist erforderlich, da SAP S/...   \n",
       "1   Die Nutzung von SAP SuccessFactors ermöglicht ...   \n",
       "2   SAP S/4HANA ist eine Enterprise Resource Plann...   \n",
       "3   SAP bietet verschiedene Dienstleistungen wie B...   \n",
       "4   SAP bietet verschiedene Dienstleistungen wie B...   \n",
       "..                                                ...   \n",
       "95  Ja, SAP SuccessFactors unterstützt die Mitarbe...   \n",
       "96  SAP SuccessFactors ist eine cloudbasierte Lösu...   \n",
       "97  Die Lizenzierung basiert auf verschiedenen Fak...   \n",
       "98  Ja, SAP SuccessFactors bietet Funktionen für d...   \n",
       "99  SAP bietet umfassenden Support und regelmäßige...   \n",
       "\n",
       "                     Answer 3: text-embedding-ada-002  \\\n",
       "0   Die Lizenzierung basiert auf verschiedenen Fak...   \n",
       "1   Die Nutzung von SAP Enable Now ermöglicht eine...   \n",
       "2   Zu den Vorteilen von SAP S/4HANA gehören eine ...   \n",
       "3   SAP S/4HANA umfasst Module für Finanzen, Besch...   \n",
       "4   SAP S/4HANA ist eine Enterprise Resource Plann...   \n",
       "..                                                ...   \n",
       "95  SAP bietet umfassenden Support und regelmäßige...   \n",
       "96  Ja, SAP Enable Now kann sowohl als cloudbasier...   \n",
       "97  Ja, SAP SuccessFactors bietet Funktionen für d...   \n",
       "98  Ja, SAP SuccessFactors bietet Funktionen für d...   \n",
       "99  SAP bietet Schulungsressourcen, Schulungen und...   \n",
       "\n",
       "          Answer 1 Embeddings: text-embedding-ada-002  \\\n",
       "0   [0.01394073385745287, -0.0076940665021538734, ...   \n",
       "1   [0.007233329117298126, 0.0071442644111812115, ...   \n",
       "2   [0.0021640665363520384, 0.008108162321150303, ...   \n",
       "3   [0.01394073385745287, -0.0076940665021538734, ...   \n",
       "4   [0.023980315774679184, -0.0257048849016428, 0....   \n",
       "..                                                ...   \n",
       "95  [-0.0035913982428610325, -0.004740770440548658...   \n",
       "96  [0.015938352793455124, -0.008424196392297745, ...   \n",
       "97  [0.029685040935873985, 0.0066001578234136105, ...   \n",
       "98  [0.014625104144215584, -0.008604103699326515, ...   \n",
       "99  [-0.008783618919551373, -0.00820558425039053, ...   \n",
       "\n",
       "          Answer 2 Embeddings: text-embedding-ada-002  \\\n",
       "0   [0.023980315774679184, -0.0257048849016428, 0....   \n",
       "1   [-0.008722416125237942, 0.002964111277833581, ...   \n",
       "2   [0.01394073385745287, -0.0076940665021538734, ...   \n",
       "3   [0.009830392897129059, 0.005058543290942907, -...   \n",
       "4   [0.009501495398581028, 0.004960901569575071, -...   \n",
       "..                                                ...   \n",
       "95  [-0.008783618919551373, -0.00820558425039053, ...   \n",
       "96  [-0.000254593207500875, -0.00791874062269926, ...   \n",
       "97  [0.04532167315483093, 0.008336402475833893, 0....   \n",
       "98  [-0.0032552210614085197, -0.005592863075435162...   \n",
       "99  [0.0049465736374258995, 0.001126666902564466, ...   \n",
       "\n",
       "          Answer 3 Embeddings: text-embedding-ada-002  \n",
       "0   [0.045277416706085205, 0.008350239135324955, 0...  \n",
       "1   [-0.009821170009672642, -0.002939182100817561,...  \n",
       "2   [0.007233329117298126, 0.0071442644111812115, ...  \n",
       "3   [0.02016955055296421, -0.008751985616981983, 0...  \n",
       "4   [0.01394073385745287, -0.0076940665021538734, ...  \n",
       "..                                                ...  \n",
       "95  [0.004911050200462341, 0.0011249216040596366, ...  \n",
       "96  [0.019267888739705086, -0.02101951465010643, 0...  \n",
       "97  [-0.0032552210614085197, -0.005592863075435162...  \n",
       "98  [0.0018801514524966478, -0.0033050754573196173...  \n",
       "99  [-0.0035913982428610325, -0.004740770440548658...  \n",
       "\n",
       "[100 rows x 7 columns]"
      ]
     },
     "execution_count": 535,
     "metadata": {},
     "output_type": "execute_result"
    }
   ],
   "source": [
    "df_top_3_openai_ada_002"
   ]
  },
  {
   "cell_type": "markdown",
   "metadata": {},
   "source": [
    "### Caclulate Similarity Difference between the first and second Answer Embedding"
   ]
  },
  {
   "cell_type": "code",
   "execution_count": 536,
   "metadata": {},
   "outputs": [],
   "source": [
    "from scipy.spatial.distance import cosine\n",
    "\n",
    "similarities_1_2_openai_ada_002 = []\n",
    "\n",
    "for i in range(100):    \n",
    "    similarity = 1 - cosine(df_top_3_openai_ada_002.at[i,\"Answer 1 Embeddings: text-embedding-ada-002\"], df_top_3_openai_ada_002.at[i,\"Answer 2 Embeddings: text-embedding-ada-002\"])\n",
    "    similarities_1_2_openai_ada_002.append(similarity)\n",
    "    \n",
    "df_top_3_openai_ada_002[\"Similarities between first and second Embedding\"] = similarities_1_2_openai_ada_002"
   ]
  },
  {
   "cell_type": "markdown",
   "metadata": {},
   "source": [
    "Visualisierungen"
   ]
  },
  {
   "cell_type": "code",
   "execution_count": 537,
   "metadata": {},
   "outputs": [
    {
     "data": {
      "application/vnd.plotly.v1+json": {
       "config": {
        "plotlyServerURL": "https://plot.ly"
       },
       "data": [
        {
         "mode": "lines+markers",
         "name": "Similarities",
         "type": "scatter",
         "x": [
          1,
          2,
          3,
          4,
          5,
          6,
          7,
          8,
          9,
          10,
          11,
          12,
          13,
          14,
          15,
          16,
          17,
          18,
          19,
          20,
          21,
          22,
          23,
          24,
          25,
          26,
          27,
          28,
          29,
          30,
          31,
          32,
          33,
          34,
          35,
          36,
          37,
          38,
          39,
          40,
          41,
          42,
          43,
          44,
          45,
          46,
          47,
          48,
          49,
          50,
          51,
          52,
          53,
          54,
          55,
          56,
          57,
          58,
          59,
          60,
          61,
          62,
          63,
          64,
          65,
          66,
          67,
          68,
          69,
          70,
          71,
          72,
          73,
          74,
          75,
          76,
          77,
          78,
          79,
          80,
          81,
          82,
          83,
          84,
          85,
          86,
          87,
          88,
          89,
          90,
          91,
          92,
          93,
          94,
          95,
          96,
          97,
          98,
          99,
          100
         ],
         "y": [
          0.8658730721339899,
          0.8855446953605043,
          0.8546456238282352,
          0.9104574173537295,
          0.8583243628751119,
          0.8261976708951101,
          0.820661721370692,
          0.8037746198614157,
          0.9160301372243067,
          0.8996544207271457,
          0.7803768186446007,
          0.8917992464802139,
          0.8709558278549149,
          0.8346969213581191,
          0.9330320561689295,
          0.9212308952364932,
          0.8507228088006371,
          0.9451816450105213,
          0.8996544207271457,
          0.8719891492230872,
          0.9390289241462177,
          0.9121473321409799,
          0.9122378094771487,
          0.9392908043036213,
          0.9244575717143264,
          0.9504787047201136,
          0.9293180497927156,
          0.9163270339719344,
          0.9369638707173498,
          0.9237062697916377,
          0.9289129906002729,
          0.9013485288549559,
          0.8983434481090696,
          0.9121473321409799,
          0.9103553867635943,
          0.9035032457162522,
          0.9134586593149079,
          0.8889345848407509,
          0.9223280567160606,
          0.9068985684251857,
          0.9501619619387122,
          0.9415082579507984,
          0.9410356847620965,
          0.9415300939418353,
          0.9187282859217756,
          0.910253092613304,
          0.9218597776812919,
          0.8797919136279575,
          0.9102647426362136,
          0.9284571772674954,
          0.9318635146512528,
          0.8797919136279575,
          0.9105502831524104,
          0.9097985759574576,
          0.9203189407912445,
          0.8994372631174457,
          0.8639880863092579,
          0.9321929246467632,
          0.954049711798852,
          0.910253092613304,
          0.9619099576114194,
          0.9619099576114194,
          0.9436611400453899,
          0.9498123386502745,
          0.9134099313012529,
          0.9145221474700947,
          0.9215318081725059,
          0.9197680990543685,
          0.9830105734436178,
          0.9245296546290402,
          0.925930341939087,
          0.943035828561653,
          0.9630119394722285,
          0.9213720072090915,
          0.9328695099778584,
          0.895100014172884,
          0.9110389638732226,
          0.85777724425961,
          0.983023683886131,
          0.8958862549357419,
          0.9538223636442017,
          0.9241972872073418,
          0.9101629298829272,
          0.9403951582693548,
          0.8804639578379783,
          0.9398739629342115,
          0.9400254292482997,
          0.9242417481274658,
          0.9145901323271509,
          0.8734983070325971,
          0.9581434981820472,
          0.9266176597372758,
          0.8793079697046605,
          0.9139754938451373,
          0.9392185657648365,
          0.9145901323271509,
          0.9130018127630463,
          0.9160301372243067,
          0.935945923521171,
          0.9032216950998433
         ]
        },
        {
         "mode": "lines",
         "name": "Horizontal Regression Line: 0.911912615593583",
         "type": "scatter",
         "x": [
          1,
          100
         ],
         "y": [
          0.911912615593583,
          0.911912615593583
         ]
        }
       ],
       "layout": {
        "template": {
         "data": {
          "bar": [
           {
            "error_x": {
             "color": "#2a3f5f"
            },
            "error_y": {
             "color": "#2a3f5f"
            },
            "marker": {
             "line": {
              "color": "#E5ECF6",
              "width": 0.5
             },
             "pattern": {
              "fillmode": "overlay",
              "size": 10,
              "solidity": 0.2
             }
            },
            "type": "bar"
           }
          ],
          "barpolar": [
           {
            "marker": {
             "line": {
              "color": "#E5ECF6",
              "width": 0.5
             },
             "pattern": {
              "fillmode": "overlay",
              "size": 10,
              "solidity": 0.2
             }
            },
            "type": "barpolar"
           }
          ],
          "carpet": [
           {
            "aaxis": {
             "endlinecolor": "#2a3f5f",
             "gridcolor": "white",
             "linecolor": "white",
             "minorgridcolor": "white",
             "startlinecolor": "#2a3f5f"
            },
            "baxis": {
             "endlinecolor": "#2a3f5f",
             "gridcolor": "white",
             "linecolor": "white",
             "minorgridcolor": "white",
             "startlinecolor": "#2a3f5f"
            },
            "type": "carpet"
           }
          ],
          "choropleth": [
           {
            "colorbar": {
             "outlinewidth": 0,
             "ticks": ""
            },
            "type": "choropleth"
           }
          ],
          "contour": [
           {
            "colorbar": {
             "outlinewidth": 0,
             "ticks": ""
            },
            "colorscale": [
             [
              0,
              "#0d0887"
             ],
             [
              0.1111111111111111,
              "#46039f"
             ],
             [
              0.2222222222222222,
              "#7201a8"
             ],
             [
              0.3333333333333333,
              "#9c179e"
             ],
             [
              0.4444444444444444,
              "#bd3786"
             ],
             [
              0.5555555555555556,
              "#d8576b"
             ],
             [
              0.6666666666666666,
              "#ed7953"
             ],
             [
              0.7777777777777778,
              "#fb9f3a"
             ],
             [
              0.8888888888888888,
              "#fdca26"
             ],
             [
              1,
              "#f0f921"
             ]
            ],
            "type": "contour"
           }
          ],
          "contourcarpet": [
           {
            "colorbar": {
             "outlinewidth": 0,
             "ticks": ""
            },
            "type": "contourcarpet"
           }
          ],
          "heatmap": [
           {
            "colorbar": {
             "outlinewidth": 0,
             "ticks": ""
            },
            "colorscale": [
             [
              0,
              "#0d0887"
             ],
             [
              0.1111111111111111,
              "#46039f"
             ],
             [
              0.2222222222222222,
              "#7201a8"
             ],
             [
              0.3333333333333333,
              "#9c179e"
             ],
             [
              0.4444444444444444,
              "#bd3786"
             ],
             [
              0.5555555555555556,
              "#d8576b"
             ],
             [
              0.6666666666666666,
              "#ed7953"
             ],
             [
              0.7777777777777778,
              "#fb9f3a"
             ],
             [
              0.8888888888888888,
              "#fdca26"
             ],
             [
              1,
              "#f0f921"
             ]
            ],
            "type": "heatmap"
           }
          ],
          "heatmapgl": [
           {
            "colorbar": {
             "outlinewidth": 0,
             "ticks": ""
            },
            "colorscale": [
             [
              0,
              "#0d0887"
             ],
             [
              0.1111111111111111,
              "#46039f"
             ],
             [
              0.2222222222222222,
              "#7201a8"
             ],
             [
              0.3333333333333333,
              "#9c179e"
             ],
             [
              0.4444444444444444,
              "#bd3786"
             ],
             [
              0.5555555555555556,
              "#d8576b"
             ],
             [
              0.6666666666666666,
              "#ed7953"
             ],
             [
              0.7777777777777778,
              "#fb9f3a"
             ],
             [
              0.8888888888888888,
              "#fdca26"
             ],
             [
              1,
              "#f0f921"
             ]
            ],
            "type": "heatmapgl"
           }
          ],
          "histogram": [
           {
            "marker": {
             "pattern": {
              "fillmode": "overlay",
              "size": 10,
              "solidity": 0.2
             }
            },
            "type": "histogram"
           }
          ],
          "histogram2d": [
           {
            "colorbar": {
             "outlinewidth": 0,
             "ticks": ""
            },
            "colorscale": [
             [
              0,
              "#0d0887"
             ],
             [
              0.1111111111111111,
              "#46039f"
             ],
             [
              0.2222222222222222,
              "#7201a8"
             ],
             [
              0.3333333333333333,
              "#9c179e"
             ],
             [
              0.4444444444444444,
              "#bd3786"
             ],
             [
              0.5555555555555556,
              "#d8576b"
             ],
             [
              0.6666666666666666,
              "#ed7953"
             ],
             [
              0.7777777777777778,
              "#fb9f3a"
             ],
             [
              0.8888888888888888,
              "#fdca26"
             ],
             [
              1,
              "#f0f921"
             ]
            ],
            "type": "histogram2d"
           }
          ],
          "histogram2dcontour": [
           {
            "colorbar": {
             "outlinewidth": 0,
             "ticks": ""
            },
            "colorscale": [
             [
              0,
              "#0d0887"
             ],
             [
              0.1111111111111111,
              "#46039f"
             ],
             [
              0.2222222222222222,
              "#7201a8"
             ],
             [
              0.3333333333333333,
              "#9c179e"
             ],
             [
              0.4444444444444444,
              "#bd3786"
             ],
             [
              0.5555555555555556,
              "#d8576b"
             ],
             [
              0.6666666666666666,
              "#ed7953"
             ],
             [
              0.7777777777777778,
              "#fb9f3a"
             ],
             [
              0.8888888888888888,
              "#fdca26"
             ],
             [
              1,
              "#f0f921"
             ]
            ],
            "type": "histogram2dcontour"
           }
          ],
          "mesh3d": [
           {
            "colorbar": {
             "outlinewidth": 0,
             "ticks": ""
            },
            "type": "mesh3d"
           }
          ],
          "parcoords": [
           {
            "line": {
             "colorbar": {
              "outlinewidth": 0,
              "ticks": ""
             }
            },
            "type": "parcoords"
           }
          ],
          "pie": [
           {
            "automargin": true,
            "type": "pie"
           }
          ],
          "scatter": [
           {
            "fillpattern": {
             "fillmode": "overlay",
             "size": 10,
             "solidity": 0.2
            },
            "type": "scatter"
           }
          ],
          "scatter3d": [
           {
            "line": {
             "colorbar": {
              "outlinewidth": 0,
              "ticks": ""
             }
            },
            "marker": {
             "colorbar": {
              "outlinewidth": 0,
              "ticks": ""
             }
            },
            "type": "scatter3d"
           }
          ],
          "scattercarpet": [
           {
            "marker": {
             "colorbar": {
              "outlinewidth": 0,
              "ticks": ""
             }
            },
            "type": "scattercarpet"
           }
          ],
          "scattergeo": [
           {
            "marker": {
             "colorbar": {
              "outlinewidth": 0,
              "ticks": ""
             }
            },
            "type": "scattergeo"
           }
          ],
          "scattergl": [
           {
            "marker": {
             "colorbar": {
              "outlinewidth": 0,
              "ticks": ""
             }
            },
            "type": "scattergl"
           }
          ],
          "scattermapbox": [
           {
            "marker": {
             "colorbar": {
              "outlinewidth": 0,
              "ticks": ""
             }
            },
            "type": "scattermapbox"
           }
          ],
          "scatterpolar": [
           {
            "marker": {
             "colorbar": {
              "outlinewidth": 0,
              "ticks": ""
             }
            },
            "type": "scatterpolar"
           }
          ],
          "scatterpolargl": [
           {
            "marker": {
             "colorbar": {
              "outlinewidth": 0,
              "ticks": ""
             }
            },
            "type": "scatterpolargl"
           }
          ],
          "scatterternary": [
           {
            "marker": {
             "colorbar": {
              "outlinewidth": 0,
              "ticks": ""
             }
            },
            "type": "scatterternary"
           }
          ],
          "surface": [
           {
            "colorbar": {
             "outlinewidth": 0,
             "ticks": ""
            },
            "colorscale": [
             [
              0,
              "#0d0887"
             ],
             [
              0.1111111111111111,
              "#46039f"
             ],
             [
              0.2222222222222222,
              "#7201a8"
             ],
             [
              0.3333333333333333,
              "#9c179e"
             ],
             [
              0.4444444444444444,
              "#bd3786"
             ],
             [
              0.5555555555555556,
              "#d8576b"
             ],
             [
              0.6666666666666666,
              "#ed7953"
             ],
             [
              0.7777777777777778,
              "#fb9f3a"
             ],
             [
              0.8888888888888888,
              "#fdca26"
             ],
             [
              1,
              "#f0f921"
             ]
            ],
            "type": "surface"
           }
          ],
          "table": [
           {
            "cells": {
             "fill": {
              "color": "#EBF0F8"
             },
             "line": {
              "color": "white"
             }
            },
            "header": {
             "fill": {
              "color": "#C8D4E3"
             },
             "line": {
              "color": "white"
             }
            },
            "type": "table"
           }
          ]
         },
         "layout": {
          "annotationdefaults": {
           "arrowcolor": "#2a3f5f",
           "arrowhead": 0,
           "arrowwidth": 1
          },
          "autotypenumbers": "strict",
          "coloraxis": {
           "colorbar": {
            "outlinewidth": 0,
            "ticks": ""
           }
          },
          "colorscale": {
           "diverging": [
            [
             0,
             "#8e0152"
            ],
            [
             0.1,
             "#c51b7d"
            ],
            [
             0.2,
             "#de77ae"
            ],
            [
             0.3,
             "#f1b6da"
            ],
            [
             0.4,
             "#fde0ef"
            ],
            [
             0.5,
             "#f7f7f7"
            ],
            [
             0.6,
             "#e6f5d0"
            ],
            [
             0.7,
             "#b8e186"
            ],
            [
             0.8,
             "#7fbc41"
            ],
            [
             0.9,
             "#4d9221"
            ],
            [
             1,
             "#276419"
            ]
           ],
           "sequential": [
            [
             0,
             "#0d0887"
            ],
            [
             0.1111111111111111,
             "#46039f"
            ],
            [
             0.2222222222222222,
             "#7201a8"
            ],
            [
             0.3333333333333333,
             "#9c179e"
            ],
            [
             0.4444444444444444,
             "#bd3786"
            ],
            [
             0.5555555555555556,
             "#d8576b"
            ],
            [
             0.6666666666666666,
             "#ed7953"
            ],
            [
             0.7777777777777778,
             "#fb9f3a"
            ],
            [
             0.8888888888888888,
             "#fdca26"
            ],
            [
             1,
             "#f0f921"
            ]
           ],
           "sequentialminus": [
            [
             0,
             "#0d0887"
            ],
            [
             0.1111111111111111,
             "#46039f"
            ],
            [
             0.2222222222222222,
             "#7201a8"
            ],
            [
             0.3333333333333333,
             "#9c179e"
            ],
            [
             0.4444444444444444,
             "#bd3786"
            ],
            [
             0.5555555555555556,
             "#d8576b"
            ],
            [
             0.6666666666666666,
             "#ed7953"
            ],
            [
             0.7777777777777778,
             "#fb9f3a"
            ],
            [
             0.8888888888888888,
             "#fdca26"
            ],
            [
             1,
             "#f0f921"
            ]
           ]
          },
          "colorway": [
           "#636efa",
           "#EF553B",
           "#00cc96",
           "#ab63fa",
           "#FFA15A",
           "#19d3f3",
           "#FF6692",
           "#B6E880",
           "#FF97FF",
           "#FECB52"
          ],
          "font": {
           "color": "#2a3f5f"
          },
          "geo": {
           "bgcolor": "white",
           "lakecolor": "white",
           "landcolor": "#E5ECF6",
           "showlakes": true,
           "showland": true,
           "subunitcolor": "white"
          },
          "hoverlabel": {
           "align": "left"
          },
          "hovermode": "closest",
          "mapbox": {
           "style": "light"
          },
          "paper_bgcolor": "white",
          "plot_bgcolor": "#E5ECF6",
          "polar": {
           "angularaxis": {
            "gridcolor": "white",
            "linecolor": "white",
            "ticks": ""
           },
           "bgcolor": "#E5ECF6",
           "radialaxis": {
            "gridcolor": "white",
            "linecolor": "white",
            "ticks": ""
           }
          },
          "scene": {
           "xaxis": {
            "backgroundcolor": "#E5ECF6",
            "gridcolor": "white",
            "gridwidth": 2,
            "linecolor": "white",
            "showbackground": true,
            "ticks": "",
            "zerolinecolor": "white"
           },
           "yaxis": {
            "backgroundcolor": "#E5ECF6",
            "gridcolor": "white",
            "gridwidth": 2,
            "linecolor": "white",
            "showbackground": true,
            "ticks": "",
            "zerolinecolor": "white"
           },
           "zaxis": {
            "backgroundcolor": "#E5ECF6",
            "gridcolor": "white",
            "gridwidth": 2,
            "linecolor": "white",
            "showbackground": true,
            "ticks": "",
            "zerolinecolor": "white"
           }
          },
          "shapedefaults": {
           "line": {
            "color": "#2a3f5f"
           }
          },
          "ternary": {
           "aaxis": {
            "gridcolor": "white",
            "linecolor": "white",
            "ticks": ""
           },
           "baxis": {
            "gridcolor": "white",
            "linecolor": "white",
            "ticks": ""
           },
           "bgcolor": "#E5ECF6",
           "caxis": {
            "gridcolor": "white",
            "linecolor": "white",
            "ticks": ""
           }
          },
          "title": {
           "x": 0.05
          },
          "xaxis": {
           "automargin": true,
           "gridcolor": "white",
           "linecolor": "white",
           "ticks": "",
           "title": {
            "standoff": 15
           },
           "zerolinecolor": "white",
           "zerolinewidth": 2
          },
          "yaxis": {
           "automargin": true,
           "gridcolor": "white",
           "linecolor": "white",
           "ticks": "",
           "title": {
            "standoff": 15
           },
           "zerolinecolor": "white",
           "zerolinewidth": 2
          }
         }
        },
        "title": {
         "text": "text-embedding-ada-002: similarities between first and second answer"
        },
        "xaxis": {
         "title": {
          "text": "Index"
         }
        },
        "yaxis": {
         "title": {
          "text": "Similarities"
         }
        }
       }
      }
     },
     "metadata": {},
     "output_type": "display_data"
    }
   ],
   "source": [
    "import plotly.graph_objs as go\n",
    "import numpy as np\n",
    "\n",
    "mean_similarity = np.mean(similarities_1_2_openai_ada_002)\n",
    "\n",
    "x_values = list(range(1, len(similarities_1_2_openai_ada_002) + 1))\n",
    "\n",
    "fig = go.Figure()\n",
    "\n",
    "fig.add_trace(go.Scatter(x=x_values, y=similarities_1_2_openai_ada_002, mode='lines+markers', name='Similarities'))\n",
    "\n",
    "fig.add_trace(go.Scatter(x=[x_values[0], x_values[-1]], y=[mean_similarity, mean_similarity],\n",
    "                         mode='lines', name=f'Horizontal Regression Line: {mean_similarity}'))\n",
    "\n",
    "fig.update_layout(\n",
    "    title= \"text-embedding-ada-002: similarities between first and second answer\",\n",
    "    xaxis_title=\"Index\",\n",
    "    yaxis_title=\"Similarities\"\n",
    ")\n",
    "\n",
    "fig.show()"
   ]
  },
  {
   "cell_type": "markdown",
   "metadata": {},
   "source": [
    "### Caclulate Similarity Difference between the second and third Answer Embedding"
   ]
  },
  {
   "cell_type": "code",
   "execution_count": 538,
   "metadata": {},
   "outputs": [],
   "source": [
    "from scipy.spatial.distance import cosine\n",
    "\n",
    "similarities_2_3_openai_ada_002 = []\n",
    "\n",
    "for i in range(100):    \n",
    "    similarity = 1 - cosine(df_top_3_openai_ada_002.at[i,\"Answer 2 Embeddings: text-embedding-ada-002\"], df_top_3_openai_ada_002.at[i,\"Answer 3 Embeddings: text-embedding-ada-002\"])\n",
    "    similarities_2_3_openai_ada_002.append(similarity)\n",
    "    \n",
    "df_top_3_openai_ada_002[\"Similarities between second and third Embedding\"] = similarities_2_3_openai_ada_002"
   ]
  },
  {
   "cell_type": "markdown",
   "metadata": {},
   "source": [
    "Visualisierungen"
   ]
  },
  {
   "cell_type": "code",
   "execution_count": 539,
   "metadata": {},
   "outputs": [
    {
     "data": {
      "application/vnd.plotly.v1+json": {
       "config": {
        "plotlyServerURL": "https://plot.ly"
       },
       "data": [
        {
         "mode": "lines+markers",
         "name": "Similarities",
         "type": "scatter",
         "x": [
          1,
          2,
          3,
          4,
          5,
          6,
          7,
          8,
          9,
          10,
          11,
          12,
          13,
          14,
          15,
          16,
          17,
          18,
          19,
          20,
          21,
          22,
          23,
          24,
          25,
          26,
          27,
          28,
          29,
          30,
          31,
          32,
          33,
          34,
          35,
          36,
          37,
          38,
          39,
          40,
          41,
          42,
          43,
          44,
          45,
          46,
          47,
          48,
          49,
          50,
          51,
          52,
          53,
          54,
          55,
          56,
          57,
          58,
          59,
          60,
          61,
          62,
          63,
          64,
          65,
          66,
          67,
          68,
          69,
          70,
          71,
          72,
          73,
          74,
          75,
          76,
          77,
          78,
          79,
          80,
          81,
          82,
          83,
          84,
          85,
          86,
          87,
          88,
          89,
          90,
          91,
          92,
          93,
          94,
          95,
          96,
          97,
          98,
          99,
          100
         ],
         "y": [
          0.7890094112914419,
          0.9065463695708783,
          0.90944987007012,
          0.912662233878704,
          0.9104552367452982,
          0.8583243628751119,
          0.8503606293234056,
          0.9160007373986392,
          0.8400082795772833,
          0.8193690376170489,
          0.8917861322361205,
          0.8793079697046605,
          0.8607705629760495,
          0.804256388052051,
          0.9430401447898289,
          0.896319669208325,
          0.9355442732973754,
          0.8701944239825469,
          0.8996120233218402,
          0.9101629298829272,
          0.9013485288549559,
          0.908768163963907,
          0.9069022401250504,
          0.9390289241462177,
          0.9390289241462177,
          0.9390289241462177,
          0.9290342473694579,
          0.9369638707173498,
          0.8893551455787637,
          0.9390289241462177,
          0.9439506215379699,
          0.9389616798600788,
          0.9392908043036213,
          0.9392908043036213,
          0.9390289241462177,
          0.9390289241462177,
          0.9390289241462177,
          0.9389268492325684,
          0.9092694697379827,
          0.9328301834715579,
          0.9415300939418353,
          0.941876379525926,
          0.9501619619387122,
          0.9501619619387122,
          0.8910614795572609,
          0.9304116500543573,
          0.9102068897634045,
          0.8479956439371439,
          0.9304241246951612,
          0.9203189407912445,
          0.9173322325539122,
          0.924816699412356,
          0.9102647426362136,
          0.9502021179098322,
          0.9181122857433494,
          0.9102764512091737,
          0.910253092613304,
          0.9251842203474006,
          0.8528026211262942,
          0.9173322325539122,
          0.9498123386502745,
          0.9109589706671414,
          0.8356140871821989,
          0.9619099576114194,
          0.8882325039361159,
          0.9277227519267305,
          0.8975019663027962,
          0.9008798431175203,
          0.9328419337042192,
          0.9238870432925177,
          0.9328419337042192,
          0.9380517457367636,
          0.9110958208953622,
          0.902831592538222,
          0.9830175765873587,
          0.8408810306368212,
          0.9617670487602576,
          0.9619099576114194,
          0.9328875307360183,
          0.9619099576114194,
          0.9403951582693548,
          0.9033673808321415,
          0.8863465273761816,
          0.8754596018037094,
          0.9033673808321415,
          0.9107893541556494,
          0.90952688964394,
          0.9359646381975619,
          0.8750598175023218,
          0.940058442932346,
          0.935945923521171,
          0.8513718921198578,
          0.8800212058864134,
          0.9241972872073418,
          0.90952688964394,
          0.9032745909190839,
          0.8549426795093298,
          0.7983612114960552,
          0.9581434981820472,
          0.948668676012849
         ]
        },
        {
         "mode": "lines",
         "name": "Horizontal Regression Line: 0.9104334622338182",
         "type": "scatter",
         "x": [
          1,
          100
         ],
         "y": [
          0.9104334622338182,
          0.9104334622338182
         ]
        }
       ],
       "layout": {
        "template": {
         "data": {
          "bar": [
           {
            "error_x": {
             "color": "#2a3f5f"
            },
            "error_y": {
             "color": "#2a3f5f"
            },
            "marker": {
             "line": {
              "color": "#E5ECF6",
              "width": 0.5
             },
             "pattern": {
              "fillmode": "overlay",
              "size": 10,
              "solidity": 0.2
             }
            },
            "type": "bar"
           }
          ],
          "barpolar": [
           {
            "marker": {
             "line": {
              "color": "#E5ECF6",
              "width": 0.5
             },
             "pattern": {
              "fillmode": "overlay",
              "size": 10,
              "solidity": 0.2
             }
            },
            "type": "barpolar"
           }
          ],
          "carpet": [
           {
            "aaxis": {
             "endlinecolor": "#2a3f5f",
             "gridcolor": "white",
             "linecolor": "white",
             "minorgridcolor": "white",
             "startlinecolor": "#2a3f5f"
            },
            "baxis": {
             "endlinecolor": "#2a3f5f",
             "gridcolor": "white",
             "linecolor": "white",
             "minorgridcolor": "white",
             "startlinecolor": "#2a3f5f"
            },
            "type": "carpet"
           }
          ],
          "choropleth": [
           {
            "colorbar": {
             "outlinewidth": 0,
             "ticks": ""
            },
            "type": "choropleth"
           }
          ],
          "contour": [
           {
            "colorbar": {
             "outlinewidth": 0,
             "ticks": ""
            },
            "colorscale": [
             [
              0,
              "#0d0887"
             ],
             [
              0.1111111111111111,
              "#46039f"
             ],
             [
              0.2222222222222222,
              "#7201a8"
             ],
             [
              0.3333333333333333,
              "#9c179e"
             ],
             [
              0.4444444444444444,
              "#bd3786"
             ],
             [
              0.5555555555555556,
              "#d8576b"
             ],
             [
              0.6666666666666666,
              "#ed7953"
             ],
             [
              0.7777777777777778,
              "#fb9f3a"
             ],
             [
              0.8888888888888888,
              "#fdca26"
             ],
             [
              1,
              "#f0f921"
             ]
            ],
            "type": "contour"
           }
          ],
          "contourcarpet": [
           {
            "colorbar": {
             "outlinewidth": 0,
             "ticks": ""
            },
            "type": "contourcarpet"
           }
          ],
          "heatmap": [
           {
            "colorbar": {
             "outlinewidth": 0,
             "ticks": ""
            },
            "colorscale": [
             [
              0,
              "#0d0887"
             ],
             [
              0.1111111111111111,
              "#46039f"
             ],
             [
              0.2222222222222222,
              "#7201a8"
             ],
             [
              0.3333333333333333,
              "#9c179e"
             ],
             [
              0.4444444444444444,
              "#bd3786"
             ],
             [
              0.5555555555555556,
              "#d8576b"
             ],
             [
              0.6666666666666666,
              "#ed7953"
             ],
             [
              0.7777777777777778,
              "#fb9f3a"
             ],
             [
              0.8888888888888888,
              "#fdca26"
             ],
             [
              1,
              "#f0f921"
             ]
            ],
            "type": "heatmap"
           }
          ],
          "heatmapgl": [
           {
            "colorbar": {
             "outlinewidth": 0,
             "ticks": ""
            },
            "colorscale": [
             [
              0,
              "#0d0887"
             ],
             [
              0.1111111111111111,
              "#46039f"
             ],
             [
              0.2222222222222222,
              "#7201a8"
             ],
             [
              0.3333333333333333,
              "#9c179e"
             ],
             [
              0.4444444444444444,
              "#bd3786"
             ],
             [
              0.5555555555555556,
              "#d8576b"
             ],
             [
              0.6666666666666666,
              "#ed7953"
             ],
             [
              0.7777777777777778,
              "#fb9f3a"
             ],
             [
              0.8888888888888888,
              "#fdca26"
             ],
             [
              1,
              "#f0f921"
             ]
            ],
            "type": "heatmapgl"
           }
          ],
          "histogram": [
           {
            "marker": {
             "pattern": {
              "fillmode": "overlay",
              "size": 10,
              "solidity": 0.2
             }
            },
            "type": "histogram"
           }
          ],
          "histogram2d": [
           {
            "colorbar": {
             "outlinewidth": 0,
             "ticks": ""
            },
            "colorscale": [
             [
              0,
              "#0d0887"
             ],
             [
              0.1111111111111111,
              "#46039f"
             ],
             [
              0.2222222222222222,
              "#7201a8"
             ],
             [
              0.3333333333333333,
              "#9c179e"
             ],
             [
              0.4444444444444444,
              "#bd3786"
             ],
             [
              0.5555555555555556,
              "#d8576b"
             ],
             [
              0.6666666666666666,
              "#ed7953"
             ],
             [
              0.7777777777777778,
              "#fb9f3a"
             ],
             [
              0.8888888888888888,
              "#fdca26"
             ],
             [
              1,
              "#f0f921"
             ]
            ],
            "type": "histogram2d"
           }
          ],
          "histogram2dcontour": [
           {
            "colorbar": {
             "outlinewidth": 0,
             "ticks": ""
            },
            "colorscale": [
             [
              0,
              "#0d0887"
             ],
             [
              0.1111111111111111,
              "#46039f"
             ],
             [
              0.2222222222222222,
              "#7201a8"
             ],
             [
              0.3333333333333333,
              "#9c179e"
             ],
             [
              0.4444444444444444,
              "#bd3786"
             ],
             [
              0.5555555555555556,
              "#d8576b"
             ],
             [
              0.6666666666666666,
              "#ed7953"
             ],
             [
              0.7777777777777778,
              "#fb9f3a"
             ],
             [
              0.8888888888888888,
              "#fdca26"
             ],
             [
              1,
              "#f0f921"
             ]
            ],
            "type": "histogram2dcontour"
           }
          ],
          "mesh3d": [
           {
            "colorbar": {
             "outlinewidth": 0,
             "ticks": ""
            },
            "type": "mesh3d"
           }
          ],
          "parcoords": [
           {
            "line": {
             "colorbar": {
              "outlinewidth": 0,
              "ticks": ""
             }
            },
            "type": "parcoords"
           }
          ],
          "pie": [
           {
            "automargin": true,
            "type": "pie"
           }
          ],
          "scatter": [
           {
            "fillpattern": {
             "fillmode": "overlay",
             "size": 10,
             "solidity": 0.2
            },
            "type": "scatter"
           }
          ],
          "scatter3d": [
           {
            "line": {
             "colorbar": {
              "outlinewidth": 0,
              "ticks": ""
             }
            },
            "marker": {
             "colorbar": {
              "outlinewidth": 0,
              "ticks": ""
             }
            },
            "type": "scatter3d"
           }
          ],
          "scattercarpet": [
           {
            "marker": {
             "colorbar": {
              "outlinewidth": 0,
              "ticks": ""
             }
            },
            "type": "scattercarpet"
           }
          ],
          "scattergeo": [
           {
            "marker": {
             "colorbar": {
              "outlinewidth": 0,
              "ticks": ""
             }
            },
            "type": "scattergeo"
           }
          ],
          "scattergl": [
           {
            "marker": {
             "colorbar": {
              "outlinewidth": 0,
              "ticks": ""
             }
            },
            "type": "scattergl"
           }
          ],
          "scattermapbox": [
           {
            "marker": {
             "colorbar": {
              "outlinewidth": 0,
              "ticks": ""
             }
            },
            "type": "scattermapbox"
           }
          ],
          "scatterpolar": [
           {
            "marker": {
             "colorbar": {
              "outlinewidth": 0,
              "ticks": ""
             }
            },
            "type": "scatterpolar"
           }
          ],
          "scatterpolargl": [
           {
            "marker": {
             "colorbar": {
              "outlinewidth": 0,
              "ticks": ""
             }
            },
            "type": "scatterpolargl"
           }
          ],
          "scatterternary": [
           {
            "marker": {
             "colorbar": {
              "outlinewidth": 0,
              "ticks": ""
             }
            },
            "type": "scatterternary"
           }
          ],
          "surface": [
           {
            "colorbar": {
             "outlinewidth": 0,
             "ticks": ""
            },
            "colorscale": [
             [
              0,
              "#0d0887"
             ],
             [
              0.1111111111111111,
              "#46039f"
             ],
             [
              0.2222222222222222,
              "#7201a8"
             ],
             [
              0.3333333333333333,
              "#9c179e"
             ],
             [
              0.4444444444444444,
              "#bd3786"
             ],
             [
              0.5555555555555556,
              "#d8576b"
             ],
             [
              0.6666666666666666,
              "#ed7953"
             ],
             [
              0.7777777777777778,
              "#fb9f3a"
             ],
             [
              0.8888888888888888,
              "#fdca26"
             ],
             [
              1,
              "#f0f921"
             ]
            ],
            "type": "surface"
           }
          ],
          "table": [
           {
            "cells": {
             "fill": {
              "color": "#EBF0F8"
             },
             "line": {
              "color": "white"
             }
            },
            "header": {
             "fill": {
              "color": "#C8D4E3"
             },
             "line": {
              "color": "white"
             }
            },
            "type": "table"
           }
          ]
         },
         "layout": {
          "annotationdefaults": {
           "arrowcolor": "#2a3f5f",
           "arrowhead": 0,
           "arrowwidth": 1
          },
          "autotypenumbers": "strict",
          "coloraxis": {
           "colorbar": {
            "outlinewidth": 0,
            "ticks": ""
           }
          },
          "colorscale": {
           "diverging": [
            [
             0,
             "#8e0152"
            ],
            [
             0.1,
             "#c51b7d"
            ],
            [
             0.2,
             "#de77ae"
            ],
            [
             0.3,
             "#f1b6da"
            ],
            [
             0.4,
             "#fde0ef"
            ],
            [
             0.5,
             "#f7f7f7"
            ],
            [
             0.6,
             "#e6f5d0"
            ],
            [
             0.7,
             "#b8e186"
            ],
            [
             0.8,
             "#7fbc41"
            ],
            [
             0.9,
             "#4d9221"
            ],
            [
             1,
             "#276419"
            ]
           ],
           "sequential": [
            [
             0,
             "#0d0887"
            ],
            [
             0.1111111111111111,
             "#46039f"
            ],
            [
             0.2222222222222222,
             "#7201a8"
            ],
            [
             0.3333333333333333,
             "#9c179e"
            ],
            [
             0.4444444444444444,
             "#bd3786"
            ],
            [
             0.5555555555555556,
             "#d8576b"
            ],
            [
             0.6666666666666666,
             "#ed7953"
            ],
            [
             0.7777777777777778,
             "#fb9f3a"
            ],
            [
             0.8888888888888888,
             "#fdca26"
            ],
            [
             1,
             "#f0f921"
            ]
           ],
           "sequentialminus": [
            [
             0,
             "#0d0887"
            ],
            [
             0.1111111111111111,
             "#46039f"
            ],
            [
             0.2222222222222222,
             "#7201a8"
            ],
            [
             0.3333333333333333,
             "#9c179e"
            ],
            [
             0.4444444444444444,
             "#bd3786"
            ],
            [
             0.5555555555555556,
             "#d8576b"
            ],
            [
             0.6666666666666666,
             "#ed7953"
            ],
            [
             0.7777777777777778,
             "#fb9f3a"
            ],
            [
             0.8888888888888888,
             "#fdca26"
            ],
            [
             1,
             "#f0f921"
            ]
           ]
          },
          "colorway": [
           "#636efa",
           "#EF553B",
           "#00cc96",
           "#ab63fa",
           "#FFA15A",
           "#19d3f3",
           "#FF6692",
           "#B6E880",
           "#FF97FF",
           "#FECB52"
          ],
          "font": {
           "color": "#2a3f5f"
          },
          "geo": {
           "bgcolor": "white",
           "lakecolor": "white",
           "landcolor": "#E5ECF6",
           "showlakes": true,
           "showland": true,
           "subunitcolor": "white"
          },
          "hoverlabel": {
           "align": "left"
          },
          "hovermode": "closest",
          "mapbox": {
           "style": "light"
          },
          "paper_bgcolor": "white",
          "plot_bgcolor": "#E5ECF6",
          "polar": {
           "angularaxis": {
            "gridcolor": "white",
            "linecolor": "white",
            "ticks": ""
           },
           "bgcolor": "#E5ECF6",
           "radialaxis": {
            "gridcolor": "white",
            "linecolor": "white",
            "ticks": ""
           }
          },
          "scene": {
           "xaxis": {
            "backgroundcolor": "#E5ECF6",
            "gridcolor": "white",
            "gridwidth": 2,
            "linecolor": "white",
            "showbackground": true,
            "ticks": "",
            "zerolinecolor": "white"
           },
           "yaxis": {
            "backgroundcolor": "#E5ECF6",
            "gridcolor": "white",
            "gridwidth": 2,
            "linecolor": "white",
            "showbackground": true,
            "ticks": "",
            "zerolinecolor": "white"
           },
           "zaxis": {
            "backgroundcolor": "#E5ECF6",
            "gridcolor": "white",
            "gridwidth": 2,
            "linecolor": "white",
            "showbackground": true,
            "ticks": "",
            "zerolinecolor": "white"
           }
          },
          "shapedefaults": {
           "line": {
            "color": "#2a3f5f"
           }
          },
          "ternary": {
           "aaxis": {
            "gridcolor": "white",
            "linecolor": "white",
            "ticks": ""
           },
           "baxis": {
            "gridcolor": "white",
            "linecolor": "white",
            "ticks": ""
           },
           "bgcolor": "#E5ECF6",
           "caxis": {
            "gridcolor": "white",
            "linecolor": "white",
            "ticks": ""
           }
          },
          "title": {
           "x": 0.05
          },
          "xaxis": {
           "automargin": true,
           "gridcolor": "white",
           "linecolor": "white",
           "ticks": "",
           "title": {
            "standoff": 15
           },
           "zerolinecolor": "white",
           "zerolinewidth": 2
          },
          "yaxis": {
           "automargin": true,
           "gridcolor": "white",
           "linecolor": "white",
           "ticks": "",
           "title": {
            "standoff": 15
           },
           "zerolinecolor": "white",
           "zerolinewidth": 2
          }
         }
        },
        "title": {
         "text": "text-embedding-ada-002: similarities between second and third answer"
        },
        "xaxis": {
         "title": {
          "text": "Index"
         }
        },
        "yaxis": {
         "title": {
          "text": "Similarities"
         }
        }
       }
      }
     },
     "metadata": {},
     "output_type": "display_data"
    }
   ],
   "source": [
    "import plotly.graph_objs as go\n",
    "import numpy as np\n",
    "\n",
    "mean_similarity = np.mean(similarities_2_3_openai_ada_002)\n",
    "\n",
    "x_values = list(range(1, len(similarities_2_3_openai_ada_002) + 1))\n",
    "\n",
    "fig = go.Figure()\n",
    "\n",
    "fig.add_trace(go.Scatter(x=x_values, y=similarities_2_3_openai_ada_002, mode='lines+markers', name='Similarities'))\n",
    "\n",
    "fig.add_trace(go.Scatter(x=[x_values[0], x_values[-1]], y=[mean_similarity, mean_similarity],\n",
    "                         mode='lines', name=f'Horizontal Regression Line: {mean_similarity}'))\n",
    "\n",
    "fig.update_layout(\n",
    "    title= \"text-embedding-ada-002: similarities between second and third answer\",\n",
    "    xaxis_title=\"Index\",\n",
    "    yaxis_title=\"Similarities\"\n",
    ")\n",
    "\n",
    "fig.show()"
   ]
  },
  {
   "cell_type": "markdown",
   "metadata": {},
   "source": [
    "### Caclulate Similarity Difference between the first and third Answer Embedding"
   ]
  },
  {
   "cell_type": "code",
   "execution_count": 540,
   "metadata": {},
   "outputs": [],
   "source": [
    "from scipy.spatial.distance import cosine\n",
    "\n",
    "similarities_1_3_openai_ada_002 = []\n",
    "\n",
    "for i in range(100):    \n",
    "    similarity = 1 - cosine(df_top_3_openai_ada_002.at[i,\"Answer 1 Embeddings: text-embedding-ada-002\"], df_top_3_openai_ada_002.at[i,\"Answer 3 Embeddings: text-embedding-ada-002\"])\n",
    "    similarities_1_3_openai_ada_002.append(similarity)\n",
    "    \n",
    "df_top_3_openai_ada_002[\"Similarities between first and third Embedding\"] = similarities_1_3_openai_ada_002"
   ]
  },
  {
   "cell_type": "markdown",
   "metadata": {},
   "source": [
    "Visualisierungen"
   ]
  },
  {
   "cell_type": "code",
   "execution_count": 541,
   "metadata": {},
   "outputs": [
    {
     "data": {
      "application/vnd.plotly.v1+json": {
       "config": {
        "plotlyServerURL": "https://plot.ly"
       },
       "data": [
        {
         "mode": "lines+markers",
         "name": "Similarities",
         "type": "scatter",
         "x": [
          1,
          2,
          3,
          4,
          5,
          6,
          7,
          8,
          9,
          10,
          11,
          12,
          13,
          14,
          15,
          16,
          17,
          18,
          19,
          20,
          21,
          22,
          23,
          24,
          25,
          26,
          27,
          28,
          29,
          30,
          31,
          32,
          33,
          34,
          35,
          36,
          37,
          38,
          39,
          40,
          41,
          42,
          43,
          44,
          45,
          46,
          47,
          48,
          49,
          50,
          51,
          52,
          53,
          54,
          55,
          56,
          57,
          58,
          59,
          60,
          61,
          62,
          63,
          64,
          65,
          66,
          67,
          68,
          69,
          70,
          71,
          72,
          73,
          74,
          75,
          76,
          77,
          78,
          79,
          80,
          81,
          82,
          83,
          84,
          85,
          86,
          87,
          88,
          89,
          90,
          91,
          92,
          93,
          94,
          95,
          96,
          97,
          98,
          99,
          100
         ],
         "y": [
          0.7889198100102927,
          0.886705761511866,
          0.8664611617033349,
          0.9138349723254775,
          0.8658730721339899,
          0.8038594994059911,
          0.8346969213581191,
          0.8292753939498276,
          0.7983251554098558,
          0.8316285092328716,
          0.7844368800159415,
          0.8529469962870229,
          0.8384252291588601,
          0.8449163512404984,
          0.9355442732973754,
          0.8953599788626408,
          0.8736687097941581,
          0.8659563582557505,
          0.9029191636327227,
          0.8647298594757307,
          0.9065860992453953,
          0.9392908043036213,
          0.9392908043036213,
          0.9333189402720437,
          0.9233201602911233,
          0.9360429639877972,
          0.9099384049243437,
          0.916673492547464,
          0.8948530056728264,
          0.943667939637983,
          0.924222561886488,
          0.9064996163332184,
          0.9060616027694139,
          0.908768163963907,
          0.9069045591852947,
          0.8933425549409941,
          0.919056850343327,
          0.8961344776722707,
          0.8880369513587719,
          0.9217892250689302,
          0.9417895272019376,
          0.950247058787042,
          0.9288213650430099,
          0.9417895272019376,
          0.910253092613304,
          0.9501619619387122,
          0.9307027119638265,
          0.9251842203474006,
          0.9501619619387122,
          0.9181122857433494,
          0.951189550528671,
          0.8437848854854022,
          0.9467169688506051,
          0.9077972338388356,
          0.9284571772674954,
          0.9135769607302014,
          0.8717984691841887,
          0.924816699412356,
          0.8628910895714669,
          0.9029821430141223,
          0.9407286347063143,
          0.8816552291163221,
          0.8844928364200924,
          0.9407286347063143,
          0.9110171147709857,
          0.911034301546,
          0.9266477583779646,
          0.9561189478422311,
          0.9277227519267305,
          0.9148470276547301,
          0.9226720490087179,
          0.942493099010471,
          0.9245296546290402,
          0.8994408374104956,
          0.9277227519267305,
          0.9398756216169313,
          0.8816552291163221,
          0.8544619314278183,
          0.9278981828090717,
          0.8884617934427088,
          0.9299308565922559,
          0.9538223636442017,
          0.8844928364200924,
          0.8855446953605043,
          0.9141795003740427,
          0.9138662700617463,
          0.9127821113010156,
          0.9165102626305027,
          0.9172616953255883,
          0.876721094382646,
          0.9446352384015627,
          0.8814951253161503,
          0.9067630972904008,
          0.9447014221558871,
          0.9138702980438131,
          0.9487149737271416,
          0.9160007373986392,
          0.8491975242335095,
          0.9446352384015627,
          0.9145901323271509
         ]
        },
        {
         "mode": "lines",
         "name": "Horizontal Regression Line: 0.9036743798728812",
         "type": "scatter",
         "x": [
          1,
          100
         ],
         "y": [
          0.9036743798728812,
          0.9036743798728812
         ]
        }
       ],
       "layout": {
        "template": {
         "data": {
          "bar": [
           {
            "error_x": {
             "color": "#2a3f5f"
            },
            "error_y": {
             "color": "#2a3f5f"
            },
            "marker": {
             "line": {
              "color": "#E5ECF6",
              "width": 0.5
             },
             "pattern": {
              "fillmode": "overlay",
              "size": 10,
              "solidity": 0.2
             }
            },
            "type": "bar"
           }
          ],
          "barpolar": [
           {
            "marker": {
             "line": {
              "color": "#E5ECF6",
              "width": 0.5
             },
             "pattern": {
              "fillmode": "overlay",
              "size": 10,
              "solidity": 0.2
             }
            },
            "type": "barpolar"
           }
          ],
          "carpet": [
           {
            "aaxis": {
             "endlinecolor": "#2a3f5f",
             "gridcolor": "white",
             "linecolor": "white",
             "minorgridcolor": "white",
             "startlinecolor": "#2a3f5f"
            },
            "baxis": {
             "endlinecolor": "#2a3f5f",
             "gridcolor": "white",
             "linecolor": "white",
             "minorgridcolor": "white",
             "startlinecolor": "#2a3f5f"
            },
            "type": "carpet"
           }
          ],
          "choropleth": [
           {
            "colorbar": {
             "outlinewidth": 0,
             "ticks": ""
            },
            "type": "choropleth"
           }
          ],
          "contour": [
           {
            "colorbar": {
             "outlinewidth": 0,
             "ticks": ""
            },
            "colorscale": [
             [
              0,
              "#0d0887"
             ],
             [
              0.1111111111111111,
              "#46039f"
             ],
             [
              0.2222222222222222,
              "#7201a8"
             ],
             [
              0.3333333333333333,
              "#9c179e"
             ],
             [
              0.4444444444444444,
              "#bd3786"
             ],
             [
              0.5555555555555556,
              "#d8576b"
             ],
             [
              0.6666666666666666,
              "#ed7953"
             ],
             [
              0.7777777777777778,
              "#fb9f3a"
             ],
             [
              0.8888888888888888,
              "#fdca26"
             ],
             [
              1,
              "#f0f921"
             ]
            ],
            "type": "contour"
           }
          ],
          "contourcarpet": [
           {
            "colorbar": {
             "outlinewidth": 0,
             "ticks": ""
            },
            "type": "contourcarpet"
           }
          ],
          "heatmap": [
           {
            "colorbar": {
             "outlinewidth": 0,
             "ticks": ""
            },
            "colorscale": [
             [
              0,
              "#0d0887"
             ],
             [
              0.1111111111111111,
              "#46039f"
             ],
             [
              0.2222222222222222,
              "#7201a8"
             ],
             [
              0.3333333333333333,
              "#9c179e"
             ],
             [
              0.4444444444444444,
              "#bd3786"
             ],
             [
              0.5555555555555556,
              "#d8576b"
             ],
             [
              0.6666666666666666,
              "#ed7953"
             ],
             [
              0.7777777777777778,
              "#fb9f3a"
             ],
             [
              0.8888888888888888,
              "#fdca26"
             ],
             [
              1,
              "#f0f921"
             ]
            ],
            "type": "heatmap"
           }
          ],
          "heatmapgl": [
           {
            "colorbar": {
             "outlinewidth": 0,
             "ticks": ""
            },
            "colorscale": [
             [
              0,
              "#0d0887"
             ],
             [
              0.1111111111111111,
              "#46039f"
             ],
             [
              0.2222222222222222,
              "#7201a8"
             ],
             [
              0.3333333333333333,
              "#9c179e"
             ],
             [
              0.4444444444444444,
              "#bd3786"
             ],
             [
              0.5555555555555556,
              "#d8576b"
             ],
             [
              0.6666666666666666,
              "#ed7953"
             ],
             [
              0.7777777777777778,
              "#fb9f3a"
             ],
             [
              0.8888888888888888,
              "#fdca26"
             ],
             [
              1,
              "#f0f921"
             ]
            ],
            "type": "heatmapgl"
           }
          ],
          "histogram": [
           {
            "marker": {
             "pattern": {
              "fillmode": "overlay",
              "size": 10,
              "solidity": 0.2
             }
            },
            "type": "histogram"
           }
          ],
          "histogram2d": [
           {
            "colorbar": {
             "outlinewidth": 0,
             "ticks": ""
            },
            "colorscale": [
             [
              0,
              "#0d0887"
             ],
             [
              0.1111111111111111,
              "#46039f"
             ],
             [
              0.2222222222222222,
              "#7201a8"
             ],
             [
              0.3333333333333333,
              "#9c179e"
             ],
             [
              0.4444444444444444,
              "#bd3786"
             ],
             [
              0.5555555555555556,
              "#d8576b"
             ],
             [
              0.6666666666666666,
              "#ed7953"
             ],
             [
              0.7777777777777778,
              "#fb9f3a"
             ],
             [
              0.8888888888888888,
              "#fdca26"
             ],
             [
              1,
              "#f0f921"
             ]
            ],
            "type": "histogram2d"
           }
          ],
          "histogram2dcontour": [
           {
            "colorbar": {
             "outlinewidth": 0,
             "ticks": ""
            },
            "colorscale": [
             [
              0,
              "#0d0887"
             ],
             [
              0.1111111111111111,
              "#46039f"
             ],
             [
              0.2222222222222222,
              "#7201a8"
             ],
             [
              0.3333333333333333,
              "#9c179e"
             ],
             [
              0.4444444444444444,
              "#bd3786"
             ],
             [
              0.5555555555555556,
              "#d8576b"
             ],
             [
              0.6666666666666666,
              "#ed7953"
             ],
             [
              0.7777777777777778,
              "#fb9f3a"
             ],
             [
              0.8888888888888888,
              "#fdca26"
             ],
             [
              1,
              "#f0f921"
             ]
            ],
            "type": "histogram2dcontour"
           }
          ],
          "mesh3d": [
           {
            "colorbar": {
             "outlinewidth": 0,
             "ticks": ""
            },
            "type": "mesh3d"
           }
          ],
          "parcoords": [
           {
            "line": {
             "colorbar": {
              "outlinewidth": 0,
              "ticks": ""
             }
            },
            "type": "parcoords"
           }
          ],
          "pie": [
           {
            "automargin": true,
            "type": "pie"
           }
          ],
          "scatter": [
           {
            "fillpattern": {
             "fillmode": "overlay",
             "size": 10,
             "solidity": 0.2
            },
            "type": "scatter"
           }
          ],
          "scatter3d": [
           {
            "line": {
             "colorbar": {
              "outlinewidth": 0,
              "ticks": ""
             }
            },
            "marker": {
             "colorbar": {
              "outlinewidth": 0,
              "ticks": ""
             }
            },
            "type": "scatter3d"
           }
          ],
          "scattercarpet": [
           {
            "marker": {
             "colorbar": {
              "outlinewidth": 0,
              "ticks": ""
             }
            },
            "type": "scattercarpet"
           }
          ],
          "scattergeo": [
           {
            "marker": {
             "colorbar": {
              "outlinewidth": 0,
              "ticks": ""
             }
            },
            "type": "scattergeo"
           }
          ],
          "scattergl": [
           {
            "marker": {
             "colorbar": {
              "outlinewidth": 0,
              "ticks": ""
             }
            },
            "type": "scattergl"
           }
          ],
          "scattermapbox": [
           {
            "marker": {
             "colorbar": {
              "outlinewidth": 0,
              "ticks": ""
             }
            },
            "type": "scattermapbox"
           }
          ],
          "scatterpolar": [
           {
            "marker": {
             "colorbar": {
              "outlinewidth": 0,
              "ticks": ""
             }
            },
            "type": "scatterpolar"
           }
          ],
          "scatterpolargl": [
           {
            "marker": {
             "colorbar": {
              "outlinewidth": 0,
              "ticks": ""
             }
            },
            "type": "scatterpolargl"
           }
          ],
          "scatterternary": [
           {
            "marker": {
             "colorbar": {
              "outlinewidth": 0,
              "ticks": ""
             }
            },
            "type": "scatterternary"
           }
          ],
          "surface": [
           {
            "colorbar": {
             "outlinewidth": 0,
             "ticks": ""
            },
            "colorscale": [
             [
              0,
              "#0d0887"
             ],
             [
              0.1111111111111111,
              "#46039f"
             ],
             [
              0.2222222222222222,
              "#7201a8"
             ],
             [
              0.3333333333333333,
              "#9c179e"
             ],
             [
              0.4444444444444444,
              "#bd3786"
             ],
             [
              0.5555555555555556,
              "#d8576b"
             ],
             [
              0.6666666666666666,
              "#ed7953"
             ],
             [
              0.7777777777777778,
              "#fb9f3a"
             ],
             [
              0.8888888888888888,
              "#fdca26"
             ],
             [
              1,
              "#f0f921"
             ]
            ],
            "type": "surface"
           }
          ],
          "table": [
           {
            "cells": {
             "fill": {
              "color": "#EBF0F8"
             },
             "line": {
              "color": "white"
             }
            },
            "header": {
             "fill": {
              "color": "#C8D4E3"
             },
             "line": {
              "color": "white"
             }
            },
            "type": "table"
           }
          ]
         },
         "layout": {
          "annotationdefaults": {
           "arrowcolor": "#2a3f5f",
           "arrowhead": 0,
           "arrowwidth": 1
          },
          "autotypenumbers": "strict",
          "coloraxis": {
           "colorbar": {
            "outlinewidth": 0,
            "ticks": ""
           }
          },
          "colorscale": {
           "diverging": [
            [
             0,
             "#8e0152"
            ],
            [
             0.1,
             "#c51b7d"
            ],
            [
             0.2,
             "#de77ae"
            ],
            [
             0.3,
             "#f1b6da"
            ],
            [
             0.4,
             "#fde0ef"
            ],
            [
             0.5,
             "#f7f7f7"
            ],
            [
             0.6,
             "#e6f5d0"
            ],
            [
             0.7,
             "#b8e186"
            ],
            [
             0.8,
             "#7fbc41"
            ],
            [
             0.9,
             "#4d9221"
            ],
            [
             1,
             "#276419"
            ]
           ],
           "sequential": [
            [
             0,
             "#0d0887"
            ],
            [
             0.1111111111111111,
             "#46039f"
            ],
            [
             0.2222222222222222,
             "#7201a8"
            ],
            [
             0.3333333333333333,
             "#9c179e"
            ],
            [
             0.4444444444444444,
             "#bd3786"
            ],
            [
             0.5555555555555556,
             "#d8576b"
            ],
            [
             0.6666666666666666,
             "#ed7953"
            ],
            [
             0.7777777777777778,
             "#fb9f3a"
            ],
            [
             0.8888888888888888,
             "#fdca26"
            ],
            [
             1,
             "#f0f921"
            ]
           ],
           "sequentialminus": [
            [
             0,
             "#0d0887"
            ],
            [
             0.1111111111111111,
             "#46039f"
            ],
            [
             0.2222222222222222,
             "#7201a8"
            ],
            [
             0.3333333333333333,
             "#9c179e"
            ],
            [
             0.4444444444444444,
             "#bd3786"
            ],
            [
             0.5555555555555556,
             "#d8576b"
            ],
            [
             0.6666666666666666,
             "#ed7953"
            ],
            [
             0.7777777777777778,
             "#fb9f3a"
            ],
            [
             0.8888888888888888,
             "#fdca26"
            ],
            [
             1,
             "#f0f921"
            ]
           ]
          },
          "colorway": [
           "#636efa",
           "#EF553B",
           "#00cc96",
           "#ab63fa",
           "#FFA15A",
           "#19d3f3",
           "#FF6692",
           "#B6E880",
           "#FF97FF",
           "#FECB52"
          ],
          "font": {
           "color": "#2a3f5f"
          },
          "geo": {
           "bgcolor": "white",
           "lakecolor": "white",
           "landcolor": "#E5ECF6",
           "showlakes": true,
           "showland": true,
           "subunitcolor": "white"
          },
          "hoverlabel": {
           "align": "left"
          },
          "hovermode": "closest",
          "mapbox": {
           "style": "light"
          },
          "paper_bgcolor": "white",
          "plot_bgcolor": "#E5ECF6",
          "polar": {
           "angularaxis": {
            "gridcolor": "white",
            "linecolor": "white",
            "ticks": ""
           },
           "bgcolor": "#E5ECF6",
           "radialaxis": {
            "gridcolor": "white",
            "linecolor": "white",
            "ticks": ""
           }
          },
          "scene": {
           "xaxis": {
            "backgroundcolor": "#E5ECF6",
            "gridcolor": "white",
            "gridwidth": 2,
            "linecolor": "white",
            "showbackground": true,
            "ticks": "",
            "zerolinecolor": "white"
           },
           "yaxis": {
            "backgroundcolor": "#E5ECF6",
            "gridcolor": "white",
            "gridwidth": 2,
            "linecolor": "white",
            "showbackground": true,
            "ticks": "",
            "zerolinecolor": "white"
           },
           "zaxis": {
            "backgroundcolor": "#E5ECF6",
            "gridcolor": "white",
            "gridwidth": 2,
            "linecolor": "white",
            "showbackground": true,
            "ticks": "",
            "zerolinecolor": "white"
           }
          },
          "shapedefaults": {
           "line": {
            "color": "#2a3f5f"
           }
          },
          "ternary": {
           "aaxis": {
            "gridcolor": "white",
            "linecolor": "white",
            "ticks": ""
           },
           "baxis": {
            "gridcolor": "white",
            "linecolor": "white",
            "ticks": ""
           },
           "bgcolor": "#E5ECF6",
           "caxis": {
            "gridcolor": "white",
            "linecolor": "white",
            "ticks": ""
           }
          },
          "title": {
           "x": 0.05
          },
          "xaxis": {
           "automargin": true,
           "gridcolor": "white",
           "linecolor": "white",
           "ticks": "",
           "title": {
            "standoff": 15
           },
           "zerolinecolor": "white",
           "zerolinewidth": 2
          },
          "yaxis": {
           "automargin": true,
           "gridcolor": "white",
           "linecolor": "white",
           "ticks": "",
           "title": {
            "standoff": 15
           },
           "zerolinecolor": "white",
           "zerolinewidth": 2
          }
         }
        },
        "title": {
         "text": "text-embedding-ada-002: similarities between first and third answer"
        },
        "xaxis": {
         "title": {
          "text": "Index"
         }
        },
        "yaxis": {
         "title": {
          "text": "Similarities"
         }
        }
       }
      }
     },
     "metadata": {},
     "output_type": "display_data"
    }
   ],
   "source": [
    "import plotly.graph_objs as go\n",
    "import numpy as np\n",
    "\n",
    "mean_similarity = np.mean(similarities_1_3_openai_ada_002)\n",
    "\n",
    "x_values = list(range(1, len(similarities_1_3_openai_ada_002) + 1))\n",
    "\n",
    "fig = go.Figure()\n",
    "\n",
    "fig.add_trace(go.Scatter(x=x_values, y=similarities_1_3_openai_ada_002, mode='lines+markers', name='Similarities'))\n",
    "\n",
    "fig.add_trace(go.Scatter(x=[x_values[0], x_values[-1]], y=[mean_similarity, mean_similarity],\n",
    "                         mode='lines', name=f'Horizontal Regression Line: {mean_similarity}'))\n",
    "\n",
    "fig.update_layout(\n",
    "    title= \"text-embedding-ada-002: similarities between first and third answer\",\n",
    "    xaxis_title=\"Index\",\n",
    "    yaxis_title=\"Similarities\"\n",
    ")\n",
    "\n",
    "fig.show()"
   ]
  },
  {
   "cell_type": "markdown",
   "metadata": {},
   "source": [
    "## Top-3 results: text-embedding-3-small"
   ]
  },
  {
   "cell_type": "code",
   "execution_count": 542,
   "metadata": {},
   "outputs": [],
   "source": [
    "df_top_3_openai_3_small = pd.DataFrame()"
   ]
  },
  {
   "cell_type": "markdown",
   "metadata": {},
   "source": [
    "### General RAG Top 3 function"
   ]
  },
  {
   "cell_type": "code",
   "execution_count": 543,
   "metadata": {},
   "outputs": [
    {
     "name": "stdout",
     "output_type": "stream",
     "text": [
      "['Die Lizenzierung basiert auf verschiedenen Faktoren wie Nutzeranzahl, Funktionsumfang und Implementierungsmethode.', 'Die Lizenzierung von SAP SuccessFactors erfolgt typischerweise auf Basis der Anzahl der Benutzer oder der Nutzungsdauer.', 'Die Lizenzierung von SAP Enable Now erfolgt typischerweise auf Basis der Anzahl der Benutzer oder der Nutzungsdauer.']\n"
     ]
    }
   ],
   "source": [
    "import numpy as np\n",
    "from scipy.spatial.distance import cosine\n",
    "\n",
    "client = OpenAI(api_key=openai_key_embeddings)\n",
    "\n",
    "def rag_top3_answers_openai_3_small(input_text, embedding_model, n=3):\n",
    "    input_embedding = client.embeddings.create(input=[input_text], model=embedding_model).data[0].embedding\n",
    "    \n",
    "    similarities = []\n",
    "    \n",
    "    for question_embedding in df_with_embeddings[\"Question Embeddings: text-embedding-3-small\"]:\n",
    "        similarity = 1 - cosine(input_embedding, question_embedding)\n",
    "        similarities.append(similarity)\n",
    "    \n",
    "    top_similar_indices = np.argsort(similarities)[-n:][::-1]\n",
    "    top_similar_questions = [df_with_embeddings.iloc[i][\"Antwort\"] for i in top_similar_indices]\n",
    "    \n",
    "    return top_similar_questions\n",
    "\n",
    "print(rag_top3_answers_openai_3_small(\"Wie funktioniert die Lizenzierung in SAP S/4HANA?\", \"text-embedding-3-small\"))"
   ]
  },
  {
   "cell_type": "markdown",
   "metadata": {},
   "source": [
    "### Add the 3 most similar answers to Dataframe"
   ]
  },
  {
   "cell_type": "code",
   "execution_count": 544,
   "metadata": {},
   "outputs": [],
   "source": [
    "first_answers_openai_3_small = []\n",
    "second_answers_openai_3_small = []\n",
    "third_answers_openai_3_small = []\n",
    "\n",
    "for i in df_with_embeddings[\"Frage (stark modifiziert)\"]:\n",
    "    all_3_answers = rag_top3_answers_openai_3_small(i, \"text-embedding-3-small\")\n",
    "    first_answers_openai_3_small.append(all_3_answers[0])\n",
    "    second_answers_openai_3_small.append(all_3_answers[1])\n",
    "    third_answers_openai_3_small.append(all_3_answers[2])\n",
    "\n",
    "df_top_3_openai_3_small[\"Frage (stark modifiziert)\"] = df_with_embeddings[\"Frage (stark modifiziert)\"]\n",
    "df_top_3_openai_3_small[\"Answer 1: text-embedding-3-small\"] = first_answers_openai_3_small\n",
    "df_top_3_openai_3_small[\"Answer 2: text-embedding-3-small\"] = second_answers_openai_3_small\n",
    "df_top_3_openai_3_small[\"Answer 3: text-embedding-3-small\"] = third_answers_openai_3_small"
   ]
  },
  {
   "cell_type": "markdown",
   "metadata": {},
   "source": [
    "### Create Embeddings for the 3 most similar answers"
   ]
  },
  {
   "cell_type": "code",
   "execution_count": 545,
   "metadata": {},
   "outputs": [
    {
     "data": {
      "text/html": [
       "<div>\n",
       "<style scoped>\n",
       "    .dataframe tbody tr th:only-of-type {\n",
       "        vertical-align: middle;\n",
       "    }\n",
       "\n",
       "    .dataframe tbody tr th {\n",
       "        vertical-align: top;\n",
       "    }\n",
       "\n",
       "    .dataframe thead th {\n",
       "        text-align: right;\n",
       "    }\n",
       "</style>\n",
       "<table border=\"1\" class=\"dataframe\">\n",
       "  <thead>\n",
       "    <tr style=\"text-align: right;\">\n",
       "      <th></th>\n",
       "      <th>Frage (stark modifiziert)</th>\n",
       "      <th>Answer 1: text-embedding-3-small</th>\n",
       "      <th>Answer 2: text-embedding-3-small</th>\n",
       "      <th>Answer 3: text-embedding-3-small</th>\n",
       "    </tr>\n",
       "  </thead>\n",
       "  <tbody>\n",
       "    <tr>\n",
       "      <th>0</th>\n",
       "      <td>S/4?</td>\n",
       "      <td>SAP bietet verschiedene Dienstleistungen wie B...</td>\n",
       "      <td>SAP bietet einen umfassenden Support für SAP S...</td>\n",
       "      <td>SAP S/4HANA ist eine Enterprise Resource Plann...</td>\n",
       "    </tr>\n",
       "    <tr>\n",
       "      <th>1</th>\n",
       "      <td>Vorteile HANA</td>\n",
       "      <td>Zu den Vorteilen von SAP S/4HANA gehören eine ...</td>\n",
       "      <td>Die Nutzung von SAP SuccessFactors ermöglicht ...</td>\n",
       "      <td>Die Nutzung von SAP Enable Now ermöglicht eine...</td>\n",
       "    </tr>\n",
       "    <tr>\n",
       "      <th>2</th>\n",
       "      <td>SAP S/4HANA vs. SAP ERP?</td>\n",
       "      <td>Die Hauptunterschiede umfassen die In-Memory-D...</td>\n",
       "      <td>SAP S/4HANA ist eine Enterprise Resource Plann...</td>\n",
       "      <td>Zu den Vorteilen von SAP S/4HANA gehören eine ...</td>\n",
       "    </tr>\n",
       "    <tr>\n",
       "      <th>3</th>\n",
       "      <td>Module SAP S/4HANA?</td>\n",
       "      <td>SAP S/4HANA ist eine Enterprise Resource Plann...</td>\n",
       "      <td>SAP S/4HANA umfasst Module für Finanzen, Besch...</td>\n",
       "      <td>SAP bietet verschiedene Dienstleistungen wie B...</td>\n",
       "    </tr>\n",
       "    <tr>\n",
       "      <th>4</th>\n",
       "      <td>Migration zu SAP S/4HANA</td>\n",
       "      <td>Ja, eine Migration ist erforderlich, da SAP S/...</td>\n",
       "      <td>Die Dauer kann je nach Unternehmensgröße, Komp...</td>\n",
       "      <td>SAP bietet verschiedene Dienstleistungen wie B...</td>\n",
       "    </tr>\n",
       "    <tr>\n",
       "      <th>...</th>\n",
       "      <td>...</td>\n",
       "      <td>...</td>\n",
       "      <td>...</td>\n",
       "      <td>...</td>\n",
       "    </tr>\n",
       "    <tr>\n",
       "      <th>95</th>\n",
       "      <td>Unterstützung und Schulungsressourcen für SAP ...</td>\n",
       "      <td>SAP bietet Schulungsressourcen, Schulungen und...</td>\n",
       "      <td>Ja, SAP SuccessFactors unterstützt die Mitarbe...</td>\n",
       "      <td>SAP bietet umfassenden Support und regelmäßige...</td>\n",
       "    </tr>\n",
       "    <tr>\n",
       "      <th>96</th>\n",
       "      <td>SAP SuccessFactors: Cloud?</td>\n",
       "      <td>Ja, SAP SuccessFactors ist eine cloudbasierte ...</td>\n",
       "      <td>Ja, SAP Enable Now kann sowohl als cloudbasier...</td>\n",
       "      <td>SAP SuccessFactors bietet Funktionen wie Perso...</td>\n",
       "    </tr>\n",
       "    <tr>\n",
       "      <th>97</th>\n",
       "      <td>Lizenzierung von SAP SuccessFactors?</td>\n",
       "      <td>Die Lizenzierung von SAP SuccessFactors erfolg...</td>\n",
       "      <td>Die Lizenzierung basiert auf verschiedenen Fak...</td>\n",
       "      <td>Die Lizenzierung von SAP Concur erfolgt typisc...</td>\n",
       "    </tr>\n",
       "    <tr>\n",
       "      <th>98</th>\n",
       "      <td>Arbeitszeitverwaltung und -planung in SAP Succ...</td>\n",
       "      <td>Ja, SAP SuccessFactors bietet Funktionen für d...</td>\n",
       "      <td>SAP SuccessFactors bietet Funktionen wie Perso...</td>\n",
       "      <td>Ja, SAP SuccessFactors bietet Funktionen für d...</td>\n",
       "    </tr>\n",
       "    <tr>\n",
       "      <th>99</th>\n",
       "      <td>Support für SAP SuccessFactors?</td>\n",
       "      <td>Ja, SAP SuccessFactors unterstützt die Mitarbe...</td>\n",
       "      <td>SAP bietet umfassenden Support und regelmäßige...</td>\n",
       "      <td>SAP SuccessFactors bietet Funktionen wie Perso...</td>\n",
       "    </tr>\n",
       "  </tbody>\n",
       "</table>\n",
       "<p>100 rows × 4 columns</p>\n",
       "</div>"
      ],
      "text/plain": [
       "                            Frage (stark modifiziert)  \\\n",
       "0                                                S/4?   \n",
       "1                                       Vorteile HANA   \n",
       "2                            SAP S/4HANA vs. SAP ERP?   \n",
       "3                                 Module SAP S/4HANA?   \n",
       "4                            Migration zu SAP S/4HANA   \n",
       "..                                                ...   \n",
       "95  Unterstützung und Schulungsressourcen für SAP ...   \n",
       "96                         SAP SuccessFactors: Cloud?   \n",
       "97               Lizenzierung von SAP SuccessFactors?   \n",
       "98  Arbeitszeitverwaltung und -planung in SAP Succ...   \n",
       "99                    Support für SAP SuccessFactors?   \n",
       "\n",
       "                     Answer 1: text-embedding-3-small  \\\n",
       "0   SAP bietet verschiedene Dienstleistungen wie B...   \n",
       "1   Zu den Vorteilen von SAP S/4HANA gehören eine ...   \n",
       "2   Die Hauptunterschiede umfassen die In-Memory-D...   \n",
       "3   SAP S/4HANA ist eine Enterprise Resource Plann...   \n",
       "4   Ja, eine Migration ist erforderlich, da SAP S/...   \n",
       "..                                                ...   \n",
       "95  SAP bietet Schulungsressourcen, Schulungen und...   \n",
       "96  Ja, SAP SuccessFactors ist eine cloudbasierte ...   \n",
       "97  Die Lizenzierung von SAP SuccessFactors erfolg...   \n",
       "98  Ja, SAP SuccessFactors bietet Funktionen für d...   \n",
       "99  Ja, SAP SuccessFactors unterstützt die Mitarbe...   \n",
       "\n",
       "                     Answer 2: text-embedding-3-small  \\\n",
       "0   SAP bietet einen umfassenden Support für SAP S...   \n",
       "1   Die Nutzung von SAP SuccessFactors ermöglicht ...   \n",
       "2   SAP S/4HANA ist eine Enterprise Resource Plann...   \n",
       "3   SAP S/4HANA umfasst Module für Finanzen, Besch...   \n",
       "4   Die Dauer kann je nach Unternehmensgröße, Komp...   \n",
       "..                                                ...   \n",
       "95  Ja, SAP SuccessFactors unterstützt die Mitarbe...   \n",
       "96  Ja, SAP Enable Now kann sowohl als cloudbasier...   \n",
       "97  Die Lizenzierung basiert auf verschiedenen Fak...   \n",
       "98  SAP SuccessFactors bietet Funktionen wie Perso...   \n",
       "99  SAP bietet umfassenden Support und regelmäßige...   \n",
       "\n",
       "                     Answer 3: text-embedding-3-small  \n",
       "0   SAP S/4HANA ist eine Enterprise Resource Plann...  \n",
       "1   Die Nutzung von SAP Enable Now ermöglicht eine...  \n",
       "2   Zu den Vorteilen von SAP S/4HANA gehören eine ...  \n",
       "3   SAP bietet verschiedene Dienstleistungen wie B...  \n",
       "4   SAP bietet verschiedene Dienstleistungen wie B...  \n",
       "..                                                ...  \n",
       "95  SAP bietet umfassenden Support und regelmäßige...  \n",
       "96  SAP SuccessFactors bietet Funktionen wie Perso...  \n",
       "97  Die Lizenzierung von SAP Concur erfolgt typisc...  \n",
       "98  Ja, SAP SuccessFactors bietet Funktionen für d...  \n",
       "99  SAP SuccessFactors bietet Funktionen wie Perso...  \n",
       "\n",
       "[100 rows x 4 columns]"
      ]
     },
     "execution_count": 545,
     "metadata": {},
     "output_type": "execute_result"
    }
   ],
   "source": [
    "df_top_3_openai_3_small"
   ]
  },
  {
   "cell_type": "code",
   "execution_count": 546,
   "metadata": {},
   "outputs": [],
   "source": [
    "# First Answer Embeddings:\n",
    "\n",
    "client = OpenAI(api_key=openai_key_embeddings)\n",
    "\n",
    "first_answer_embeddings_openai_3_small= []\n",
    "\n",
    "for i in df_top_3_openai_3_small[\"Answer 1: text-embedding-3-small\"]:\n",
    "    embeddings_batch_response = client.embeddings.create(\n",
    "        model=\"text-embedding-3-small\",\n",
    "        input=[i],\n",
    "    )\n",
    "    first_answer_embeddings_openai_3_small.append(embeddings_batch_response.data[0].embedding)\n",
    "\n",
    "df_top_3_openai_3_small[\"Answer 1 Embeddings: text-embedding-3-small\"] = first_answer_embeddings_openai_3_small"
   ]
  },
  {
   "cell_type": "code",
   "execution_count": 547,
   "metadata": {},
   "outputs": [],
   "source": [
    "# Second Answer Embeddings:\n",
    "\n",
    "client = OpenAI(api_key=openai_key_embeddings)\n",
    "\n",
    "second_answer_embeddings_openai_3_small= []\n",
    "\n",
    "for i in df_top_3_openai_3_small[\"Answer 2: text-embedding-3-small\"]:\n",
    "    embeddings_batch_response = client.embeddings.create(\n",
    "        model=\"text-embedding-3-small\",\n",
    "        input=[i],\n",
    "    )\n",
    "    second_answer_embeddings_openai_3_small.append(embeddings_batch_response.data[0].embedding)\n",
    "\n",
    "df_top_3_openai_3_small[\"Answer 2 Embeddings: text-embedding-3-small\"] = second_answer_embeddings_openai_3_small"
   ]
  },
  {
   "cell_type": "code",
   "execution_count": 548,
   "metadata": {},
   "outputs": [],
   "source": [
    "# Third Answer Embeddings:\n",
    "\n",
    "client = OpenAI(api_key=openai_key_embeddings)\n",
    "\n",
    "third_answer_embeddings_openai_3_small= []\n",
    "\n",
    "for i in df_top_3_openai_3_small[\"Answer 3: text-embedding-3-small\"]:\n",
    "    embeddings_batch_response = client.embeddings.create(\n",
    "        model=\"text-embedding-3-small\",\n",
    "        input=[i],\n",
    "    )\n",
    "    third_answer_embeddings_openai_3_small.append(embeddings_batch_response.data[0].embedding)\n",
    "\n",
    "df_top_3_openai_3_small[\"Answer 3 Embeddings: text-embedding-3-small\"] = third_answer_embeddings_openai_3_small"
   ]
  },
  {
   "cell_type": "code",
   "execution_count": 549,
   "metadata": {},
   "outputs": [
    {
     "data": {
      "text/html": [
       "<div>\n",
       "<style scoped>\n",
       "    .dataframe tbody tr th:only-of-type {\n",
       "        vertical-align: middle;\n",
       "    }\n",
       "\n",
       "    .dataframe tbody tr th {\n",
       "        vertical-align: top;\n",
       "    }\n",
       "\n",
       "    .dataframe thead th {\n",
       "        text-align: right;\n",
       "    }\n",
       "</style>\n",
       "<table border=\"1\" class=\"dataframe\">\n",
       "  <thead>\n",
       "    <tr style=\"text-align: right;\">\n",
       "      <th></th>\n",
       "      <th>Frage (stark modifiziert)</th>\n",
       "      <th>Answer 1: text-embedding-3-small</th>\n",
       "      <th>Answer 2: text-embedding-3-small</th>\n",
       "      <th>Answer 3: text-embedding-3-small</th>\n",
       "      <th>Answer 1 Embeddings: text-embedding-3-small</th>\n",
       "      <th>Answer 2 Embeddings: text-embedding-3-small</th>\n",
       "      <th>Answer 3 Embeddings: text-embedding-3-small</th>\n",
       "    </tr>\n",
       "  </thead>\n",
       "  <tbody>\n",
       "    <tr>\n",
       "      <th>0</th>\n",
       "      <td>S/4?</td>\n",
       "      <td>SAP bietet verschiedene Dienstleistungen wie B...</td>\n",
       "      <td>SAP bietet einen umfassenden Support für SAP S...</td>\n",
       "      <td>SAP S/4HANA ist eine Enterprise Resource Plann...</td>\n",
       "      <td>[-0.05329320952296257, -0.0072769843973219395,...</td>\n",
       "      <td>[-0.043518420308828354, 0.0043785953894257545,...</td>\n",
       "      <td>[-0.06468543410301208, 0.008432664908468723, 0...</td>\n",
       "    </tr>\n",
       "    <tr>\n",
       "      <th>1</th>\n",
       "      <td>Vorteile HANA</td>\n",
       "      <td>Zu den Vorteilen von SAP S/4HANA gehören eine ...</td>\n",
       "      <td>Die Nutzung von SAP SuccessFactors ermöglicht ...</td>\n",
       "      <td>Die Nutzung von SAP Enable Now ermöglicht eine...</td>\n",
       "      <td>[-0.015268453396856785, 0.026090648025274277, ...</td>\n",
       "      <td>[-0.007211132440716028, 0.04337552934885025, 0...</td>\n",
       "      <td>[-0.008538634516298771, 0.01624247245490551, 0...</td>\n",
       "    </tr>\n",
       "    <tr>\n",
       "      <th>2</th>\n",
       "      <td>SAP S/4HANA vs. SAP ERP?</td>\n",
       "      <td>Die Hauptunterschiede umfassen die In-Memory-D...</td>\n",
       "      <td>SAP S/4HANA ist eine Enterprise Resource Plann...</td>\n",
       "      <td>Zu den Vorteilen von SAP S/4HANA gehören eine ...</td>\n",
       "      <td>[-0.019829710945487022, 0.01941532827913761, 0...</td>\n",
       "      <td>[-0.06468543410301208, 0.008432664908468723, 0...</td>\n",
       "      <td>[-0.015268453396856785, 0.026090648025274277, ...</td>\n",
       "    </tr>\n",
       "    <tr>\n",
       "      <th>3</th>\n",
       "      <td>Module SAP S/4HANA?</td>\n",
       "      <td>SAP S/4HANA ist eine Enterprise Resource Plann...</td>\n",
       "      <td>SAP S/4HANA umfasst Module für Finanzen, Besch...</td>\n",
       "      <td>SAP bietet verschiedene Dienstleistungen wie B...</td>\n",
       "      <td>[-0.06468543410301208, 0.008432664908468723, 0...</td>\n",
       "      <td>[-0.06687304377555847, 0.022782111540436745, 0...</td>\n",
       "      <td>[-0.05329320952296257, -0.0072769843973219395,...</td>\n",
       "    </tr>\n",
       "    <tr>\n",
       "      <th>4</th>\n",
       "      <td>Migration zu SAP S/4HANA</td>\n",
       "      <td>Ja, eine Migration ist erforderlich, da SAP S/...</td>\n",
       "      <td>Die Dauer kann je nach Unternehmensgröße, Komp...</td>\n",
       "      <td>SAP bietet verschiedene Dienstleistungen wie B...</td>\n",
       "      <td>[-0.026784170418977737, 0.04077411815524101, 0...</td>\n",
       "      <td>[-0.03007775917649269, 0.049624089151620865, 0...</td>\n",
       "      <td>[-0.05329320952296257, -0.0072769843973219395,...</td>\n",
       "    </tr>\n",
       "    <tr>\n",
       "      <th>...</th>\n",
       "      <td>...</td>\n",
       "      <td>...</td>\n",
       "      <td>...</td>\n",
       "      <td>...</td>\n",
       "      <td>...</td>\n",
       "      <td>...</td>\n",
       "      <td>...</td>\n",
       "    </tr>\n",
       "    <tr>\n",
       "      <th>95</th>\n",
       "      <td>Unterstützung und Schulungsressourcen für SAP ...</td>\n",
       "      <td>SAP bietet Schulungsressourcen, Schulungen und...</td>\n",
       "      <td>Ja, SAP SuccessFactors unterstützt die Mitarbe...</td>\n",
       "      <td>SAP bietet umfassenden Support und regelmäßige...</td>\n",
       "      <td>[-0.04442061856389046, 0.023694852367043495, 0...</td>\n",
       "      <td>[-0.0126991868019104, 0.0037944442592561245, 0...</td>\n",
       "      <td>[-0.042063962668180466, 0.023073727265000343, ...</td>\n",
       "    </tr>\n",
       "    <tr>\n",
       "      <th>96</th>\n",
       "      <td>SAP SuccessFactors: Cloud?</td>\n",
       "      <td>Ja, SAP SuccessFactors ist eine cloudbasierte ...</td>\n",
       "      <td>Ja, SAP Enable Now kann sowohl als cloudbasier...</td>\n",
       "      <td>SAP SuccessFactors bietet Funktionen wie Perso...</td>\n",
       "      <td>[-0.06860190629959106, 0.010440747253596783, 0...</td>\n",
       "      <td>[-0.04598233848810196, 0.012342950329184532, 0...</td>\n",
       "      <td>[-0.02804090455174446, 0.020722482353448868, 0...</td>\n",
       "    </tr>\n",
       "    <tr>\n",
       "      <th>97</th>\n",
       "      <td>Lizenzierung von SAP SuccessFactors?</td>\n",
       "      <td>Die Lizenzierung von SAP SuccessFactors erfolg...</td>\n",
       "      <td>Die Lizenzierung basiert auf verschiedenen Fak...</td>\n",
       "      <td>Die Lizenzierung von SAP Concur erfolgt typisc...</td>\n",
       "      <td>[-0.03316256031394005, 0.03781340643763542, 0....</td>\n",
       "      <td>[-0.044987790286540985, 0.03876306489109993, 0...</td>\n",
       "      <td>[-0.04579070582985878, 0.031488895416259766, 0...</td>\n",
       "    </tr>\n",
       "    <tr>\n",
       "      <th>98</th>\n",
       "      <td>Arbeitszeitverwaltung und -planung in SAP Succ...</td>\n",
       "      <td>Ja, SAP SuccessFactors bietet Funktionen für d...</td>\n",
       "      <td>SAP SuccessFactors bietet Funktionen wie Perso...</td>\n",
       "      <td>Ja, SAP SuccessFactors bietet Funktionen für d...</td>\n",
       "      <td>[-0.059949032962322235, 0.029077425599098206, ...</td>\n",
       "      <td>[-0.02804090455174446, 0.020722482353448868, 0...</td>\n",
       "      <td>[-0.020754562690854073, 0.037451405078172684, ...</td>\n",
       "    </tr>\n",
       "    <tr>\n",
       "      <th>99</th>\n",
       "      <td>Support für SAP SuccessFactors?</td>\n",
       "      <td>Ja, SAP SuccessFactors unterstützt die Mitarbe...</td>\n",
       "      <td>SAP bietet umfassenden Support und regelmäßige...</td>\n",
       "      <td>SAP SuccessFactors bietet Funktionen wie Perso...</td>\n",
       "      <td>[-0.0126991868019104, 0.0037944442592561245, 0...</td>\n",
       "      <td>[-0.042063962668180466, 0.023073727265000343, ...</td>\n",
       "      <td>[-0.02804090455174446, 0.020722482353448868, 0...</td>\n",
       "    </tr>\n",
       "  </tbody>\n",
       "</table>\n",
       "<p>100 rows × 7 columns</p>\n",
       "</div>"
      ],
      "text/plain": [
       "                            Frage (stark modifiziert)  \\\n",
       "0                                                S/4?   \n",
       "1                                       Vorteile HANA   \n",
       "2                            SAP S/4HANA vs. SAP ERP?   \n",
       "3                                 Module SAP S/4HANA?   \n",
       "4                            Migration zu SAP S/4HANA   \n",
       "..                                                ...   \n",
       "95  Unterstützung und Schulungsressourcen für SAP ...   \n",
       "96                         SAP SuccessFactors: Cloud?   \n",
       "97               Lizenzierung von SAP SuccessFactors?   \n",
       "98  Arbeitszeitverwaltung und -planung in SAP Succ...   \n",
       "99                    Support für SAP SuccessFactors?   \n",
       "\n",
       "                     Answer 1: text-embedding-3-small  \\\n",
       "0   SAP bietet verschiedene Dienstleistungen wie B...   \n",
       "1   Zu den Vorteilen von SAP S/4HANA gehören eine ...   \n",
       "2   Die Hauptunterschiede umfassen die In-Memory-D...   \n",
       "3   SAP S/4HANA ist eine Enterprise Resource Plann...   \n",
       "4   Ja, eine Migration ist erforderlich, da SAP S/...   \n",
       "..                                                ...   \n",
       "95  SAP bietet Schulungsressourcen, Schulungen und...   \n",
       "96  Ja, SAP SuccessFactors ist eine cloudbasierte ...   \n",
       "97  Die Lizenzierung von SAP SuccessFactors erfolg...   \n",
       "98  Ja, SAP SuccessFactors bietet Funktionen für d...   \n",
       "99  Ja, SAP SuccessFactors unterstützt die Mitarbe...   \n",
       "\n",
       "                     Answer 2: text-embedding-3-small  \\\n",
       "0   SAP bietet einen umfassenden Support für SAP S...   \n",
       "1   Die Nutzung von SAP SuccessFactors ermöglicht ...   \n",
       "2   SAP S/4HANA ist eine Enterprise Resource Plann...   \n",
       "3   SAP S/4HANA umfasst Module für Finanzen, Besch...   \n",
       "4   Die Dauer kann je nach Unternehmensgröße, Komp...   \n",
       "..                                                ...   \n",
       "95  Ja, SAP SuccessFactors unterstützt die Mitarbe...   \n",
       "96  Ja, SAP Enable Now kann sowohl als cloudbasier...   \n",
       "97  Die Lizenzierung basiert auf verschiedenen Fak...   \n",
       "98  SAP SuccessFactors bietet Funktionen wie Perso...   \n",
       "99  SAP bietet umfassenden Support und regelmäßige...   \n",
       "\n",
       "                     Answer 3: text-embedding-3-small  \\\n",
       "0   SAP S/4HANA ist eine Enterprise Resource Plann...   \n",
       "1   Die Nutzung von SAP Enable Now ermöglicht eine...   \n",
       "2   Zu den Vorteilen von SAP S/4HANA gehören eine ...   \n",
       "3   SAP bietet verschiedene Dienstleistungen wie B...   \n",
       "4   SAP bietet verschiedene Dienstleistungen wie B...   \n",
       "..                                                ...   \n",
       "95  SAP bietet umfassenden Support und regelmäßige...   \n",
       "96  SAP SuccessFactors bietet Funktionen wie Perso...   \n",
       "97  Die Lizenzierung von SAP Concur erfolgt typisc...   \n",
       "98  Ja, SAP SuccessFactors bietet Funktionen für d...   \n",
       "99  SAP SuccessFactors bietet Funktionen wie Perso...   \n",
       "\n",
       "          Answer 1 Embeddings: text-embedding-3-small  \\\n",
       "0   [-0.05329320952296257, -0.0072769843973219395,...   \n",
       "1   [-0.015268453396856785, 0.026090648025274277, ...   \n",
       "2   [-0.019829710945487022, 0.01941532827913761, 0...   \n",
       "3   [-0.06468543410301208, 0.008432664908468723, 0...   \n",
       "4   [-0.026784170418977737, 0.04077411815524101, 0...   \n",
       "..                                                ...   \n",
       "95  [-0.04442061856389046, 0.023694852367043495, 0...   \n",
       "96  [-0.06860190629959106, 0.010440747253596783, 0...   \n",
       "97  [-0.03316256031394005, 0.03781340643763542, 0....   \n",
       "98  [-0.059949032962322235, 0.029077425599098206, ...   \n",
       "99  [-0.0126991868019104, 0.0037944442592561245, 0...   \n",
       "\n",
       "          Answer 2 Embeddings: text-embedding-3-small  \\\n",
       "0   [-0.043518420308828354, 0.0043785953894257545,...   \n",
       "1   [-0.007211132440716028, 0.04337552934885025, 0...   \n",
       "2   [-0.06468543410301208, 0.008432664908468723, 0...   \n",
       "3   [-0.06687304377555847, 0.022782111540436745, 0...   \n",
       "4   [-0.03007775917649269, 0.049624089151620865, 0...   \n",
       "..                                                ...   \n",
       "95  [-0.0126991868019104, 0.0037944442592561245, 0...   \n",
       "96  [-0.04598233848810196, 0.012342950329184532, 0...   \n",
       "97  [-0.044987790286540985, 0.03876306489109993, 0...   \n",
       "98  [-0.02804090455174446, 0.020722482353448868, 0...   \n",
       "99  [-0.042063962668180466, 0.023073727265000343, ...   \n",
       "\n",
       "          Answer 3 Embeddings: text-embedding-3-small  \n",
       "0   [-0.06468543410301208, 0.008432664908468723, 0...  \n",
       "1   [-0.008538634516298771, 0.01624247245490551, 0...  \n",
       "2   [-0.015268453396856785, 0.026090648025274277, ...  \n",
       "3   [-0.05329320952296257, -0.0072769843973219395,...  \n",
       "4   [-0.05329320952296257, -0.0072769843973219395,...  \n",
       "..                                                ...  \n",
       "95  [-0.042063962668180466, 0.023073727265000343, ...  \n",
       "96  [-0.02804090455174446, 0.020722482353448868, 0...  \n",
       "97  [-0.04579070582985878, 0.031488895416259766, 0...  \n",
       "98  [-0.020754562690854073, 0.037451405078172684, ...  \n",
       "99  [-0.02804090455174446, 0.020722482353448868, 0...  \n",
       "\n",
       "[100 rows x 7 columns]"
      ]
     },
     "execution_count": 549,
     "metadata": {},
     "output_type": "execute_result"
    }
   ],
   "source": [
    "df_top_3_openai_3_small"
   ]
  },
  {
   "cell_type": "markdown",
   "metadata": {},
   "source": [
    "### Caclulate Similarity Difference between the first and second Answer Embedding"
   ]
  },
  {
   "cell_type": "code",
   "execution_count": 550,
   "metadata": {},
   "outputs": [],
   "source": [
    "from scipy.spatial.distance import cosine\n",
    "\n",
    "similarities_1_2_openai_3_small = []\n",
    "\n",
    "for i in range(100):    \n",
    "    similarity = 1 - cosine(df_top_3_openai_3_small.at[i,\"Answer 1 Embeddings: text-embedding-3-small\"], df_top_3_openai_3_small.at[i,\"Answer 2 Embeddings: text-embedding-3-small\"])\n",
    "    similarities_1_2_openai_3_small.append(similarity)\n",
    "    \n",
    "df_top_3_openai_3_small[\"Similarities between first and second Embedding\"] = similarities_1_2_openai_3_small"
   ]
  },
  {
   "cell_type": "markdown",
   "metadata": {},
   "source": [
    "Visualisierungen"
   ]
  },
  {
   "cell_type": "code",
   "execution_count": 551,
   "metadata": {},
   "outputs": [
    {
     "data": {
      "application/vnd.plotly.v1+json": {
       "config": {
        "plotlyServerURL": "https://plot.ly"
       },
       "data": [
        {
         "mode": "lines+markers",
         "name": "Similarities",
         "type": "scatter",
         "x": [
          1,
          2,
          3,
          4,
          5,
          6,
          7,
          8,
          9,
          10,
          11,
          12,
          13,
          14,
          15,
          16,
          17,
          18,
          19,
          20,
          21,
          22,
          23,
          24,
          25,
          26,
          27,
          28,
          29,
          30,
          31,
          32,
          33,
          34,
          35,
          36,
          37,
          38,
          39,
          40,
          41,
          42,
          43,
          44,
          45,
          46,
          47,
          48,
          49,
          50,
          51,
          52,
          53,
          54,
          55,
          56,
          57,
          58,
          59,
          60,
          61,
          62,
          63,
          64,
          65,
          66,
          67,
          68,
          69,
          70,
          71,
          72,
          73,
          74,
          75,
          76,
          77,
          78,
          79,
          80,
          81,
          82,
          83,
          84,
          85,
          86,
          87,
          88,
          89,
          90,
          91,
          92,
          93,
          94,
          95,
          96,
          97,
          98,
          99,
          100
         ],
         "y": [
          0.8177024583704263,
          0.5763700095950477,
          0.5063595162750715,
          0.7164225637205275,
          0.4705775050351141,
          0.4705775050351141,
          0.36011024432544536,
          0.5135675628892387,
          0.6995462340277054,
          0.5458803144076113,
          0.28288733712060754,
          0.6163045605911495,
          0.6190244819781514,
          0.4485081597700722,
          0.7976694959538351,
          0.7250708319526937,
          0.5645317083566187,
          0.8312797526683926,
          0.6652650245285511,
          0.5251385330785684,
          0.8041943190513141,
          0.8141403498662962,
          0.8141403498662962,
          0.8141403498662962,
          0.7764460660197563,
          0.8812205745019324,
          0.7515110112617913,
          0.8450406338065057,
          0.8084571141026166,
          0.8137321174669022,
          0.8217245365648588,
          0.7217303853976021,
          0.6895642457068089,
          0.6990832048184827,
          0.702886109445787,
          0.6880858900684828,
          0.7645695564515492,
          0.6519217197389009,
          0.791332499870738,
          0.7578200261421618,
          0.87336642249032,
          0.8733997082550471,
          0.7617420186241769,
          0.7524901337016128,
          0.7596245893728292,
          0.87336642249032,
          0.8052950858584099,
          0.7614196275826497,
          0.87336642249032,
          0.7306559769107077,
          0.7974478518315279,
          0.5951987155573396,
          0.771989825507031,
          0.7392985281754407,
          0.7306559769107077,
          0.6640441933580928,
          0.850483898067585,
          0.7614403470148882,
          0.8277741052603795,
          0.7586564868217122,
          0.8863642895686376,
          0.8863642895686376,
          0.8468600927238105,
          0.8609055181967723,
          0.7999888891688488,
          0.7906186039081969,
          0.756606558893869,
          0.8098813873309771,
          0.9531015271419804,
          0.7770241555894405,
          0.5910971576588177,
          0.8397048954944636,
          0.7770241555894405,
          0.753400243790729,
          0.7906186039081969,
          0.7580528186544976,
          0.7793316041415477,
          0.5910971576588177,
          0.9531015271419804,
          0.6987149034619067,
          0.8670020445801412,
          0.8670020445801412,
          0.7045702095032366,
          0.8056814552038003,
          0.7214506887454243,
          0.7626798418153213,
          0.729102702590425,
          0.7756146699384002,
          0.7659839351680632,
          0.6814877830629897,
          0.6033944350013637,
          0.7722297133758146,
          0.7438126894693157,
          0.7549195834500861,
          0.7577601417094598,
          0.7659839351680632,
          0.7309076524146185,
          0.6996155616893674,
          0.7091025550717845,
          0.7210325570968378
         ]
        },
        {
         "mode": "lines",
         "name": "Horizontal Regression Line: 0.7356544377520232",
         "type": "scatter",
         "x": [
          1,
          100
         ],
         "y": [
          0.7356544377520232,
          0.7356544377520232
         ]
        }
       ],
       "layout": {
        "template": {
         "data": {
          "bar": [
           {
            "error_x": {
             "color": "#2a3f5f"
            },
            "error_y": {
             "color": "#2a3f5f"
            },
            "marker": {
             "line": {
              "color": "#E5ECF6",
              "width": 0.5
             },
             "pattern": {
              "fillmode": "overlay",
              "size": 10,
              "solidity": 0.2
             }
            },
            "type": "bar"
           }
          ],
          "barpolar": [
           {
            "marker": {
             "line": {
              "color": "#E5ECF6",
              "width": 0.5
             },
             "pattern": {
              "fillmode": "overlay",
              "size": 10,
              "solidity": 0.2
             }
            },
            "type": "barpolar"
           }
          ],
          "carpet": [
           {
            "aaxis": {
             "endlinecolor": "#2a3f5f",
             "gridcolor": "white",
             "linecolor": "white",
             "minorgridcolor": "white",
             "startlinecolor": "#2a3f5f"
            },
            "baxis": {
             "endlinecolor": "#2a3f5f",
             "gridcolor": "white",
             "linecolor": "white",
             "minorgridcolor": "white",
             "startlinecolor": "#2a3f5f"
            },
            "type": "carpet"
           }
          ],
          "choropleth": [
           {
            "colorbar": {
             "outlinewidth": 0,
             "ticks": ""
            },
            "type": "choropleth"
           }
          ],
          "contour": [
           {
            "colorbar": {
             "outlinewidth": 0,
             "ticks": ""
            },
            "colorscale": [
             [
              0,
              "#0d0887"
             ],
             [
              0.1111111111111111,
              "#46039f"
             ],
             [
              0.2222222222222222,
              "#7201a8"
             ],
             [
              0.3333333333333333,
              "#9c179e"
             ],
             [
              0.4444444444444444,
              "#bd3786"
             ],
             [
              0.5555555555555556,
              "#d8576b"
             ],
             [
              0.6666666666666666,
              "#ed7953"
             ],
             [
              0.7777777777777778,
              "#fb9f3a"
             ],
             [
              0.8888888888888888,
              "#fdca26"
             ],
             [
              1,
              "#f0f921"
             ]
            ],
            "type": "contour"
           }
          ],
          "contourcarpet": [
           {
            "colorbar": {
             "outlinewidth": 0,
             "ticks": ""
            },
            "type": "contourcarpet"
           }
          ],
          "heatmap": [
           {
            "colorbar": {
             "outlinewidth": 0,
             "ticks": ""
            },
            "colorscale": [
             [
              0,
              "#0d0887"
             ],
             [
              0.1111111111111111,
              "#46039f"
             ],
             [
              0.2222222222222222,
              "#7201a8"
             ],
             [
              0.3333333333333333,
              "#9c179e"
             ],
             [
              0.4444444444444444,
              "#bd3786"
             ],
             [
              0.5555555555555556,
              "#d8576b"
             ],
             [
              0.6666666666666666,
              "#ed7953"
             ],
             [
              0.7777777777777778,
              "#fb9f3a"
             ],
             [
              0.8888888888888888,
              "#fdca26"
             ],
             [
              1,
              "#f0f921"
             ]
            ],
            "type": "heatmap"
           }
          ],
          "heatmapgl": [
           {
            "colorbar": {
             "outlinewidth": 0,
             "ticks": ""
            },
            "colorscale": [
             [
              0,
              "#0d0887"
             ],
             [
              0.1111111111111111,
              "#46039f"
             ],
             [
              0.2222222222222222,
              "#7201a8"
             ],
             [
              0.3333333333333333,
              "#9c179e"
             ],
             [
              0.4444444444444444,
              "#bd3786"
             ],
             [
              0.5555555555555556,
              "#d8576b"
             ],
             [
              0.6666666666666666,
              "#ed7953"
             ],
             [
              0.7777777777777778,
              "#fb9f3a"
             ],
             [
              0.8888888888888888,
              "#fdca26"
             ],
             [
              1,
              "#f0f921"
             ]
            ],
            "type": "heatmapgl"
           }
          ],
          "histogram": [
           {
            "marker": {
             "pattern": {
              "fillmode": "overlay",
              "size": 10,
              "solidity": 0.2
             }
            },
            "type": "histogram"
           }
          ],
          "histogram2d": [
           {
            "colorbar": {
             "outlinewidth": 0,
             "ticks": ""
            },
            "colorscale": [
             [
              0,
              "#0d0887"
             ],
             [
              0.1111111111111111,
              "#46039f"
             ],
             [
              0.2222222222222222,
              "#7201a8"
             ],
             [
              0.3333333333333333,
              "#9c179e"
             ],
             [
              0.4444444444444444,
              "#bd3786"
             ],
             [
              0.5555555555555556,
              "#d8576b"
             ],
             [
              0.6666666666666666,
              "#ed7953"
             ],
             [
              0.7777777777777778,
              "#fb9f3a"
             ],
             [
              0.8888888888888888,
              "#fdca26"
             ],
             [
              1,
              "#f0f921"
             ]
            ],
            "type": "histogram2d"
           }
          ],
          "histogram2dcontour": [
           {
            "colorbar": {
             "outlinewidth": 0,
             "ticks": ""
            },
            "colorscale": [
             [
              0,
              "#0d0887"
             ],
             [
              0.1111111111111111,
              "#46039f"
             ],
             [
              0.2222222222222222,
              "#7201a8"
             ],
             [
              0.3333333333333333,
              "#9c179e"
             ],
             [
              0.4444444444444444,
              "#bd3786"
             ],
             [
              0.5555555555555556,
              "#d8576b"
             ],
             [
              0.6666666666666666,
              "#ed7953"
             ],
             [
              0.7777777777777778,
              "#fb9f3a"
             ],
             [
              0.8888888888888888,
              "#fdca26"
             ],
             [
              1,
              "#f0f921"
             ]
            ],
            "type": "histogram2dcontour"
           }
          ],
          "mesh3d": [
           {
            "colorbar": {
             "outlinewidth": 0,
             "ticks": ""
            },
            "type": "mesh3d"
           }
          ],
          "parcoords": [
           {
            "line": {
             "colorbar": {
              "outlinewidth": 0,
              "ticks": ""
             }
            },
            "type": "parcoords"
           }
          ],
          "pie": [
           {
            "automargin": true,
            "type": "pie"
           }
          ],
          "scatter": [
           {
            "fillpattern": {
             "fillmode": "overlay",
             "size": 10,
             "solidity": 0.2
            },
            "type": "scatter"
           }
          ],
          "scatter3d": [
           {
            "line": {
             "colorbar": {
              "outlinewidth": 0,
              "ticks": ""
             }
            },
            "marker": {
             "colorbar": {
              "outlinewidth": 0,
              "ticks": ""
             }
            },
            "type": "scatter3d"
           }
          ],
          "scattercarpet": [
           {
            "marker": {
             "colorbar": {
              "outlinewidth": 0,
              "ticks": ""
             }
            },
            "type": "scattercarpet"
           }
          ],
          "scattergeo": [
           {
            "marker": {
             "colorbar": {
              "outlinewidth": 0,
              "ticks": ""
             }
            },
            "type": "scattergeo"
           }
          ],
          "scattergl": [
           {
            "marker": {
             "colorbar": {
              "outlinewidth": 0,
              "ticks": ""
             }
            },
            "type": "scattergl"
           }
          ],
          "scattermapbox": [
           {
            "marker": {
             "colorbar": {
              "outlinewidth": 0,
              "ticks": ""
             }
            },
            "type": "scattermapbox"
           }
          ],
          "scatterpolar": [
           {
            "marker": {
             "colorbar": {
              "outlinewidth": 0,
              "ticks": ""
             }
            },
            "type": "scatterpolar"
           }
          ],
          "scatterpolargl": [
           {
            "marker": {
             "colorbar": {
              "outlinewidth": 0,
              "ticks": ""
             }
            },
            "type": "scatterpolargl"
           }
          ],
          "scatterternary": [
           {
            "marker": {
             "colorbar": {
              "outlinewidth": 0,
              "ticks": ""
             }
            },
            "type": "scatterternary"
           }
          ],
          "surface": [
           {
            "colorbar": {
             "outlinewidth": 0,
             "ticks": ""
            },
            "colorscale": [
             [
              0,
              "#0d0887"
             ],
             [
              0.1111111111111111,
              "#46039f"
             ],
             [
              0.2222222222222222,
              "#7201a8"
             ],
             [
              0.3333333333333333,
              "#9c179e"
             ],
             [
              0.4444444444444444,
              "#bd3786"
             ],
             [
              0.5555555555555556,
              "#d8576b"
             ],
             [
              0.6666666666666666,
              "#ed7953"
             ],
             [
              0.7777777777777778,
              "#fb9f3a"
             ],
             [
              0.8888888888888888,
              "#fdca26"
             ],
             [
              1,
              "#f0f921"
             ]
            ],
            "type": "surface"
           }
          ],
          "table": [
           {
            "cells": {
             "fill": {
              "color": "#EBF0F8"
             },
             "line": {
              "color": "white"
             }
            },
            "header": {
             "fill": {
              "color": "#C8D4E3"
             },
             "line": {
              "color": "white"
             }
            },
            "type": "table"
           }
          ]
         },
         "layout": {
          "annotationdefaults": {
           "arrowcolor": "#2a3f5f",
           "arrowhead": 0,
           "arrowwidth": 1
          },
          "autotypenumbers": "strict",
          "coloraxis": {
           "colorbar": {
            "outlinewidth": 0,
            "ticks": ""
           }
          },
          "colorscale": {
           "diverging": [
            [
             0,
             "#8e0152"
            ],
            [
             0.1,
             "#c51b7d"
            ],
            [
             0.2,
             "#de77ae"
            ],
            [
             0.3,
             "#f1b6da"
            ],
            [
             0.4,
             "#fde0ef"
            ],
            [
             0.5,
             "#f7f7f7"
            ],
            [
             0.6,
             "#e6f5d0"
            ],
            [
             0.7,
             "#b8e186"
            ],
            [
             0.8,
             "#7fbc41"
            ],
            [
             0.9,
             "#4d9221"
            ],
            [
             1,
             "#276419"
            ]
           ],
           "sequential": [
            [
             0,
             "#0d0887"
            ],
            [
             0.1111111111111111,
             "#46039f"
            ],
            [
             0.2222222222222222,
             "#7201a8"
            ],
            [
             0.3333333333333333,
             "#9c179e"
            ],
            [
             0.4444444444444444,
             "#bd3786"
            ],
            [
             0.5555555555555556,
             "#d8576b"
            ],
            [
             0.6666666666666666,
             "#ed7953"
            ],
            [
             0.7777777777777778,
             "#fb9f3a"
            ],
            [
             0.8888888888888888,
             "#fdca26"
            ],
            [
             1,
             "#f0f921"
            ]
           ],
           "sequentialminus": [
            [
             0,
             "#0d0887"
            ],
            [
             0.1111111111111111,
             "#46039f"
            ],
            [
             0.2222222222222222,
             "#7201a8"
            ],
            [
             0.3333333333333333,
             "#9c179e"
            ],
            [
             0.4444444444444444,
             "#bd3786"
            ],
            [
             0.5555555555555556,
             "#d8576b"
            ],
            [
             0.6666666666666666,
             "#ed7953"
            ],
            [
             0.7777777777777778,
             "#fb9f3a"
            ],
            [
             0.8888888888888888,
             "#fdca26"
            ],
            [
             1,
             "#f0f921"
            ]
           ]
          },
          "colorway": [
           "#636efa",
           "#EF553B",
           "#00cc96",
           "#ab63fa",
           "#FFA15A",
           "#19d3f3",
           "#FF6692",
           "#B6E880",
           "#FF97FF",
           "#FECB52"
          ],
          "font": {
           "color": "#2a3f5f"
          },
          "geo": {
           "bgcolor": "white",
           "lakecolor": "white",
           "landcolor": "#E5ECF6",
           "showlakes": true,
           "showland": true,
           "subunitcolor": "white"
          },
          "hoverlabel": {
           "align": "left"
          },
          "hovermode": "closest",
          "mapbox": {
           "style": "light"
          },
          "paper_bgcolor": "white",
          "plot_bgcolor": "#E5ECF6",
          "polar": {
           "angularaxis": {
            "gridcolor": "white",
            "linecolor": "white",
            "ticks": ""
           },
           "bgcolor": "#E5ECF6",
           "radialaxis": {
            "gridcolor": "white",
            "linecolor": "white",
            "ticks": ""
           }
          },
          "scene": {
           "xaxis": {
            "backgroundcolor": "#E5ECF6",
            "gridcolor": "white",
            "gridwidth": 2,
            "linecolor": "white",
            "showbackground": true,
            "ticks": "",
            "zerolinecolor": "white"
           },
           "yaxis": {
            "backgroundcolor": "#E5ECF6",
            "gridcolor": "white",
            "gridwidth": 2,
            "linecolor": "white",
            "showbackground": true,
            "ticks": "",
            "zerolinecolor": "white"
           },
           "zaxis": {
            "backgroundcolor": "#E5ECF6",
            "gridcolor": "white",
            "gridwidth": 2,
            "linecolor": "white",
            "showbackground": true,
            "ticks": "",
            "zerolinecolor": "white"
           }
          },
          "shapedefaults": {
           "line": {
            "color": "#2a3f5f"
           }
          },
          "ternary": {
           "aaxis": {
            "gridcolor": "white",
            "linecolor": "white",
            "ticks": ""
           },
           "baxis": {
            "gridcolor": "white",
            "linecolor": "white",
            "ticks": ""
           },
           "bgcolor": "#E5ECF6",
           "caxis": {
            "gridcolor": "white",
            "linecolor": "white",
            "ticks": ""
           }
          },
          "title": {
           "x": 0.05
          },
          "xaxis": {
           "automargin": true,
           "gridcolor": "white",
           "linecolor": "white",
           "ticks": "",
           "title": {
            "standoff": 15
           },
           "zerolinecolor": "white",
           "zerolinewidth": 2
          },
          "yaxis": {
           "automargin": true,
           "gridcolor": "white",
           "linecolor": "white",
           "ticks": "",
           "title": {
            "standoff": 15
           },
           "zerolinecolor": "white",
           "zerolinewidth": 2
          }
         }
        },
        "title": {
         "text": "text-embedding-3-small: similarities between first and second answer"
        },
        "xaxis": {
         "title": {
          "text": "Index"
         }
        },
        "yaxis": {
         "title": {
          "text": "Similarities"
         }
        }
       }
      }
     },
     "metadata": {},
     "output_type": "display_data"
    }
   ],
   "source": [
    "import plotly.graph_objs as go\n",
    "import numpy as np\n",
    "\n",
    "mean_similarity = np.mean(similarities_1_2_openai_3_small)\n",
    "\n",
    "x_values = list(range(1, len(similarities_1_2_openai_3_small) + 1))\n",
    "\n",
    "fig = go.Figure()\n",
    "\n",
    "fig.add_trace(go.Scatter(x=x_values, y=similarities_1_2_openai_3_small, mode='lines+markers', name='Similarities'))\n",
    "\n",
    "fig.add_trace(go.Scatter(x=[x_values[0], x_values[-1]], y=[mean_similarity, mean_similarity],\n",
    "                         mode='lines', name=f'Horizontal Regression Line: {mean_similarity}'))\n",
    "\n",
    "fig.update_layout(\n",
    "    title= \"text-embedding-3-small: similarities between first and second answer\",\n",
    "    xaxis_title=\"Index\",\n",
    "    yaxis_title=\"Similarities\"\n",
    ")\n",
    "\n",
    "fig.show()"
   ]
  },
  {
   "cell_type": "markdown",
   "metadata": {},
   "source": [
    "### Caclulate Similarity Difference between the second and third Answer Embedding"
   ]
  },
  {
   "cell_type": "code",
   "execution_count": 552,
   "metadata": {},
   "outputs": [],
   "source": [
    "from scipy.spatial.distance import cosine\n",
    "\n",
    "similarities_2_3_openai_3_small = []\n",
    "\n",
    "for i in range(100):    \n",
    "    similarity = 1 - cosine(df_top_3_openai_3_small.at[i,\"Answer 2 Embeddings: text-embedding-3-small\"], df_top_3_openai_3_small.at[i,\"Answer 3 Embeddings: text-embedding-3-small\"])\n",
    "    similarities_2_3_openai_3_small.append(similarity)\n",
    "    \n",
    "df_top_3_openai_3_small[\"Similarities between second and third Embedding\"] = similarities_2_3_openai_3_small"
   ]
  },
  {
   "cell_type": "markdown",
   "metadata": {},
   "source": [
    "Visualisierungen"
   ]
  },
  {
   "cell_type": "code",
   "execution_count": 553,
   "metadata": {},
   "outputs": [
    {
     "data": {
      "application/vnd.plotly.v1+json": {
       "config": {
        "plotlyServerURL": "https://plot.ly"
       },
       "data": [
        {
         "mode": "lines+markers",
         "name": "Similarities",
         "type": "scatter",
         "x": [
          1,
          2,
          3,
          4,
          5,
          6,
          7,
          8,
          9,
          10,
          11,
          12,
          13,
          14,
          15,
          16,
          17,
          18,
          19,
          20,
          21,
          22,
          23,
          24,
          25,
          26,
          27,
          28,
          29,
          30,
          31,
          32,
          33,
          34,
          35,
          36,
          37,
          38,
          39,
          40,
          41,
          42,
          43,
          44,
          45,
          46,
          47,
          48,
          49,
          50,
          51,
          52,
          53,
          54,
          55,
          56,
          57,
          58,
          59,
          60,
          61,
          62,
          63,
          64,
          65,
          66,
          67,
          68,
          69,
          70,
          71,
          72,
          73,
          74,
          75,
          76,
          77,
          78,
          79,
          80,
          81,
          82,
          83,
          84,
          85,
          86,
          87,
          88,
          89,
          90,
          91,
          92,
          93,
          94,
          95,
          96,
          97,
          98,
          99,
          100
         ],
         "y": [
          0.6713984824690572,
          0.6318638509134789,
          0.6760897917734207,
          0.6858730371663193,
          0.37448729256998137,
          0.6985674896247214,
          0.661173114594487,
          0.7303098765676141,
          0.4813459301089621,
          0.2885040877223445,
          0.6163045605911495,
          0.28288733712060754,
          0.7659839351680632,
          0.31501425876347267,
          0.7622384013653478,
          0.6356626420934525,
          0.7714993733099638,
          0.8078548331446118,
          0.5458803144076113,
          0.7045893158776392,
          0.7505591037535091,
          0.6847525958172733,
          0.7217303853976021,
          0.8041943190513141,
          0.8041943190513141,
          0.8041943190513141,
          0.8812205745019324,
          0.8041943190513141,
          0.791332499870738,
          0.8041943190513141,
          0.8450406338065057,
          0.8041943190513141,
          0.8141403498662962,
          0.7217303853976021,
          0.8041943190513141,
          0.8041943190513141,
          0.8041943190513141,
          0.6990832048184827,
          0.7604629651458988,
          0.7217303853976021,
          0.7524901337016128,
          0.8169994915282958,
          0.87336642249032,
          0.87336642249032,
          0.7304473583818056,
          0.7974478518315279,
          0.7524901337016128,
          0.5480101421741576,
          0.7524901337016128,
          0.7652744788696104,
          0.7204643425408461,
          0.5480432081281711,
          0.7524901337016128,
          0.87336642249032,
          0.7264815367808144,
          0.87336642249032,
          0.6995462340277054,
          0.5480432081281711,
          0.7614158641005714,
          0.7267322644365909,
          0.8945095164175029,
          0.8970794494171007,
          0.8863642895686376,
          0.8863642895686376,
          0.8970794494171007,
          0.8100472732961571,
          0.761288021777968,
          0.8970627754320306,
          0.7500683630335134,
          0.7729434333093419,
          0.5479628637152019,
          0.7735471631054122,
          0.757170122736397,
          0.7392871946937067,
          0.7382330201607065,
          0.5254912310978501,
          0.8863642895686376,
          0.7392871946937067,
          0.7500683630335134,
          0.7447815406742653,
          0.8003826534037166,
          0.7952340077262677,
          0.6373559189855256,
          0.8670020445801412,
          0.8670020445801412,
          0.8670020445801412,
          0.8004393846498388,
          0.8003826534037166,
          0.6845007735881802,
          0.8056814552038003,
          0.6814877830629897,
          0.49609026954275914,
          0.6533600338835841,
          0.7756146699384002,
          0.8004158433104985,
          0.7210325570968378,
          0.4838285821214885,
          0.6490344305911743,
          0.7756146699384002,
          0.7312155379247609
         ]
        },
        {
         "mode": "lines",
         "name": "Horizontal Regression Line: 0.7297706928911332",
         "type": "scatter",
         "x": [
          1,
          100
         ],
         "y": [
          0.7297706928911332,
          0.7297706928911332
         ]
        }
       ],
       "layout": {
        "template": {
         "data": {
          "bar": [
           {
            "error_x": {
             "color": "#2a3f5f"
            },
            "error_y": {
             "color": "#2a3f5f"
            },
            "marker": {
             "line": {
              "color": "#E5ECF6",
              "width": 0.5
             },
             "pattern": {
              "fillmode": "overlay",
              "size": 10,
              "solidity": 0.2
             }
            },
            "type": "bar"
           }
          ],
          "barpolar": [
           {
            "marker": {
             "line": {
              "color": "#E5ECF6",
              "width": 0.5
             },
             "pattern": {
              "fillmode": "overlay",
              "size": 10,
              "solidity": 0.2
             }
            },
            "type": "barpolar"
           }
          ],
          "carpet": [
           {
            "aaxis": {
             "endlinecolor": "#2a3f5f",
             "gridcolor": "white",
             "linecolor": "white",
             "minorgridcolor": "white",
             "startlinecolor": "#2a3f5f"
            },
            "baxis": {
             "endlinecolor": "#2a3f5f",
             "gridcolor": "white",
             "linecolor": "white",
             "minorgridcolor": "white",
             "startlinecolor": "#2a3f5f"
            },
            "type": "carpet"
           }
          ],
          "choropleth": [
           {
            "colorbar": {
             "outlinewidth": 0,
             "ticks": ""
            },
            "type": "choropleth"
           }
          ],
          "contour": [
           {
            "colorbar": {
             "outlinewidth": 0,
             "ticks": ""
            },
            "colorscale": [
             [
              0,
              "#0d0887"
             ],
             [
              0.1111111111111111,
              "#46039f"
             ],
             [
              0.2222222222222222,
              "#7201a8"
             ],
             [
              0.3333333333333333,
              "#9c179e"
             ],
             [
              0.4444444444444444,
              "#bd3786"
             ],
             [
              0.5555555555555556,
              "#d8576b"
             ],
             [
              0.6666666666666666,
              "#ed7953"
             ],
             [
              0.7777777777777778,
              "#fb9f3a"
             ],
             [
              0.8888888888888888,
              "#fdca26"
             ],
             [
              1,
              "#f0f921"
             ]
            ],
            "type": "contour"
           }
          ],
          "contourcarpet": [
           {
            "colorbar": {
             "outlinewidth": 0,
             "ticks": ""
            },
            "type": "contourcarpet"
           }
          ],
          "heatmap": [
           {
            "colorbar": {
             "outlinewidth": 0,
             "ticks": ""
            },
            "colorscale": [
             [
              0,
              "#0d0887"
             ],
             [
              0.1111111111111111,
              "#46039f"
             ],
             [
              0.2222222222222222,
              "#7201a8"
             ],
             [
              0.3333333333333333,
              "#9c179e"
             ],
             [
              0.4444444444444444,
              "#bd3786"
             ],
             [
              0.5555555555555556,
              "#d8576b"
             ],
             [
              0.6666666666666666,
              "#ed7953"
             ],
             [
              0.7777777777777778,
              "#fb9f3a"
             ],
             [
              0.8888888888888888,
              "#fdca26"
             ],
             [
              1,
              "#f0f921"
             ]
            ],
            "type": "heatmap"
           }
          ],
          "heatmapgl": [
           {
            "colorbar": {
             "outlinewidth": 0,
             "ticks": ""
            },
            "colorscale": [
             [
              0,
              "#0d0887"
             ],
             [
              0.1111111111111111,
              "#46039f"
             ],
             [
              0.2222222222222222,
              "#7201a8"
             ],
             [
              0.3333333333333333,
              "#9c179e"
             ],
             [
              0.4444444444444444,
              "#bd3786"
             ],
             [
              0.5555555555555556,
              "#d8576b"
             ],
             [
              0.6666666666666666,
              "#ed7953"
             ],
             [
              0.7777777777777778,
              "#fb9f3a"
             ],
             [
              0.8888888888888888,
              "#fdca26"
             ],
             [
              1,
              "#f0f921"
             ]
            ],
            "type": "heatmapgl"
           }
          ],
          "histogram": [
           {
            "marker": {
             "pattern": {
              "fillmode": "overlay",
              "size": 10,
              "solidity": 0.2
             }
            },
            "type": "histogram"
           }
          ],
          "histogram2d": [
           {
            "colorbar": {
             "outlinewidth": 0,
             "ticks": ""
            },
            "colorscale": [
             [
              0,
              "#0d0887"
             ],
             [
              0.1111111111111111,
              "#46039f"
             ],
             [
              0.2222222222222222,
              "#7201a8"
             ],
             [
              0.3333333333333333,
              "#9c179e"
             ],
             [
              0.4444444444444444,
              "#bd3786"
             ],
             [
              0.5555555555555556,
              "#d8576b"
             ],
             [
              0.6666666666666666,
              "#ed7953"
             ],
             [
              0.7777777777777778,
              "#fb9f3a"
             ],
             [
              0.8888888888888888,
              "#fdca26"
             ],
             [
              1,
              "#f0f921"
             ]
            ],
            "type": "histogram2d"
           }
          ],
          "histogram2dcontour": [
           {
            "colorbar": {
             "outlinewidth": 0,
             "ticks": ""
            },
            "colorscale": [
             [
              0,
              "#0d0887"
             ],
             [
              0.1111111111111111,
              "#46039f"
             ],
             [
              0.2222222222222222,
              "#7201a8"
             ],
             [
              0.3333333333333333,
              "#9c179e"
             ],
             [
              0.4444444444444444,
              "#bd3786"
             ],
             [
              0.5555555555555556,
              "#d8576b"
             ],
             [
              0.6666666666666666,
              "#ed7953"
             ],
             [
              0.7777777777777778,
              "#fb9f3a"
             ],
             [
              0.8888888888888888,
              "#fdca26"
             ],
             [
              1,
              "#f0f921"
             ]
            ],
            "type": "histogram2dcontour"
           }
          ],
          "mesh3d": [
           {
            "colorbar": {
             "outlinewidth": 0,
             "ticks": ""
            },
            "type": "mesh3d"
           }
          ],
          "parcoords": [
           {
            "line": {
             "colorbar": {
              "outlinewidth": 0,
              "ticks": ""
             }
            },
            "type": "parcoords"
           }
          ],
          "pie": [
           {
            "automargin": true,
            "type": "pie"
           }
          ],
          "scatter": [
           {
            "fillpattern": {
             "fillmode": "overlay",
             "size": 10,
             "solidity": 0.2
            },
            "type": "scatter"
           }
          ],
          "scatter3d": [
           {
            "line": {
             "colorbar": {
              "outlinewidth": 0,
              "ticks": ""
             }
            },
            "marker": {
             "colorbar": {
              "outlinewidth": 0,
              "ticks": ""
             }
            },
            "type": "scatter3d"
           }
          ],
          "scattercarpet": [
           {
            "marker": {
             "colorbar": {
              "outlinewidth": 0,
              "ticks": ""
             }
            },
            "type": "scattercarpet"
           }
          ],
          "scattergeo": [
           {
            "marker": {
             "colorbar": {
              "outlinewidth": 0,
              "ticks": ""
             }
            },
            "type": "scattergeo"
           }
          ],
          "scattergl": [
           {
            "marker": {
             "colorbar": {
              "outlinewidth": 0,
              "ticks": ""
             }
            },
            "type": "scattergl"
           }
          ],
          "scattermapbox": [
           {
            "marker": {
             "colorbar": {
              "outlinewidth": 0,
              "ticks": ""
             }
            },
            "type": "scattermapbox"
           }
          ],
          "scatterpolar": [
           {
            "marker": {
             "colorbar": {
              "outlinewidth": 0,
              "ticks": ""
             }
            },
            "type": "scatterpolar"
           }
          ],
          "scatterpolargl": [
           {
            "marker": {
             "colorbar": {
              "outlinewidth": 0,
              "ticks": ""
             }
            },
            "type": "scatterpolargl"
           }
          ],
          "scatterternary": [
           {
            "marker": {
             "colorbar": {
              "outlinewidth": 0,
              "ticks": ""
             }
            },
            "type": "scatterternary"
           }
          ],
          "surface": [
           {
            "colorbar": {
             "outlinewidth": 0,
             "ticks": ""
            },
            "colorscale": [
             [
              0,
              "#0d0887"
             ],
             [
              0.1111111111111111,
              "#46039f"
             ],
             [
              0.2222222222222222,
              "#7201a8"
             ],
             [
              0.3333333333333333,
              "#9c179e"
             ],
             [
              0.4444444444444444,
              "#bd3786"
             ],
             [
              0.5555555555555556,
              "#d8576b"
             ],
             [
              0.6666666666666666,
              "#ed7953"
             ],
             [
              0.7777777777777778,
              "#fb9f3a"
             ],
             [
              0.8888888888888888,
              "#fdca26"
             ],
             [
              1,
              "#f0f921"
             ]
            ],
            "type": "surface"
           }
          ],
          "table": [
           {
            "cells": {
             "fill": {
              "color": "#EBF0F8"
             },
             "line": {
              "color": "white"
             }
            },
            "header": {
             "fill": {
              "color": "#C8D4E3"
             },
             "line": {
              "color": "white"
             }
            },
            "type": "table"
           }
          ]
         },
         "layout": {
          "annotationdefaults": {
           "arrowcolor": "#2a3f5f",
           "arrowhead": 0,
           "arrowwidth": 1
          },
          "autotypenumbers": "strict",
          "coloraxis": {
           "colorbar": {
            "outlinewidth": 0,
            "ticks": ""
           }
          },
          "colorscale": {
           "diverging": [
            [
             0,
             "#8e0152"
            ],
            [
             0.1,
             "#c51b7d"
            ],
            [
             0.2,
             "#de77ae"
            ],
            [
             0.3,
             "#f1b6da"
            ],
            [
             0.4,
             "#fde0ef"
            ],
            [
             0.5,
             "#f7f7f7"
            ],
            [
             0.6,
             "#e6f5d0"
            ],
            [
             0.7,
             "#b8e186"
            ],
            [
             0.8,
             "#7fbc41"
            ],
            [
             0.9,
             "#4d9221"
            ],
            [
             1,
             "#276419"
            ]
           ],
           "sequential": [
            [
             0,
             "#0d0887"
            ],
            [
             0.1111111111111111,
             "#46039f"
            ],
            [
             0.2222222222222222,
             "#7201a8"
            ],
            [
             0.3333333333333333,
             "#9c179e"
            ],
            [
             0.4444444444444444,
             "#bd3786"
            ],
            [
             0.5555555555555556,
             "#d8576b"
            ],
            [
             0.6666666666666666,
             "#ed7953"
            ],
            [
             0.7777777777777778,
             "#fb9f3a"
            ],
            [
             0.8888888888888888,
             "#fdca26"
            ],
            [
             1,
             "#f0f921"
            ]
           ],
           "sequentialminus": [
            [
             0,
             "#0d0887"
            ],
            [
             0.1111111111111111,
             "#46039f"
            ],
            [
             0.2222222222222222,
             "#7201a8"
            ],
            [
             0.3333333333333333,
             "#9c179e"
            ],
            [
             0.4444444444444444,
             "#bd3786"
            ],
            [
             0.5555555555555556,
             "#d8576b"
            ],
            [
             0.6666666666666666,
             "#ed7953"
            ],
            [
             0.7777777777777778,
             "#fb9f3a"
            ],
            [
             0.8888888888888888,
             "#fdca26"
            ],
            [
             1,
             "#f0f921"
            ]
           ]
          },
          "colorway": [
           "#636efa",
           "#EF553B",
           "#00cc96",
           "#ab63fa",
           "#FFA15A",
           "#19d3f3",
           "#FF6692",
           "#B6E880",
           "#FF97FF",
           "#FECB52"
          ],
          "font": {
           "color": "#2a3f5f"
          },
          "geo": {
           "bgcolor": "white",
           "lakecolor": "white",
           "landcolor": "#E5ECF6",
           "showlakes": true,
           "showland": true,
           "subunitcolor": "white"
          },
          "hoverlabel": {
           "align": "left"
          },
          "hovermode": "closest",
          "mapbox": {
           "style": "light"
          },
          "paper_bgcolor": "white",
          "plot_bgcolor": "#E5ECF6",
          "polar": {
           "angularaxis": {
            "gridcolor": "white",
            "linecolor": "white",
            "ticks": ""
           },
           "bgcolor": "#E5ECF6",
           "radialaxis": {
            "gridcolor": "white",
            "linecolor": "white",
            "ticks": ""
           }
          },
          "scene": {
           "xaxis": {
            "backgroundcolor": "#E5ECF6",
            "gridcolor": "white",
            "gridwidth": 2,
            "linecolor": "white",
            "showbackground": true,
            "ticks": "",
            "zerolinecolor": "white"
           },
           "yaxis": {
            "backgroundcolor": "#E5ECF6",
            "gridcolor": "white",
            "gridwidth": 2,
            "linecolor": "white",
            "showbackground": true,
            "ticks": "",
            "zerolinecolor": "white"
           },
           "zaxis": {
            "backgroundcolor": "#E5ECF6",
            "gridcolor": "white",
            "gridwidth": 2,
            "linecolor": "white",
            "showbackground": true,
            "ticks": "",
            "zerolinecolor": "white"
           }
          },
          "shapedefaults": {
           "line": {
            "color": "#2a3f5f"
           }
          },
          "ternary": {
           "aaxis": {
            "gridcolor": "white",
            "linecolor": "white",
            "ticks": ""
           },
           "baxis": {
            "gridcolor": "white",
            "linecolor": "white",
            "ticks": ""
           },
           "bgcolor": "#E5ECF6",
           "caxis": {
            "gridcolor": "white",
            "linecolor": "white",
            "ticks": ""
           }
          },
          "title": {
           "x": 0.05
          },
          "xaxis": {
           "automargin": true,
           "gridcolor": "white",
           "linecolor": "white",
           "ticks": "",
           "title": {
            "standoff": 15
           },
           "zerolinecolor": "white",
           "zerolinewidth": 2
          },
          "yaxis": {
           "automargin": true,
           "gridcolor": "white",
           "linecolor": "white",
           "ticks": "",
           "title": {
            "standoff": 15
           },
           "zerolinecolor": "white",
           "zerolinewidth": 2
          }
         }
        },
        "title": {
         "text": "text-embedding-3-small: similarities between second and third answer"
        },
        "xaxis": {
         "title": {
          "text": "Index"
         }
        },
        "yaxis": {
         "title": {
          "text": "Similarities"
         }
        }
       }
      }
     },
     "metadata": {},
     "output_type": "display_data"
    }
   ],
   "source": [
    "import plotly.graph_objs as go\n",
    "import numpy as np\n",
    "\n",
    "mean_similarity = np.mean(similarities_2_3_openai_3_small)\n",
    "\n",
    "x_values = list(range(1, len(similarities_2_3_openai_3_small) + 1))\n",
    "\n",
    "fig = go.Figure()\n",
    "\n",
    "fig.add_trace(go.Scatter(x=x_values, y=similarities_2_3_openai_3_small, mode='lines+markers', name='Similarities'))\n",
    "\n",
    "fig.add_trace(go.Scatter(x=[x_values[0], x_values[-1]], y=[mean_similarity, mean_similarity],\n",
    "                         mode='lines', name=f'Horizontal Regression Line: {mean_similarity}'))\n",
    "\n",
    "fig.update_layout(\n",
    "    title= \"text-embedding-3-small: similarities between second and third answer\",\n",
    "    xaxis_title=\"Index\",\n",
    "    yaxis_title=\"Similarities\"\n",
    ")\n",
    "\n",
    "fig.show()"
   ]
  },
  {
   "cell_type": "markdown",
   "metadata": {},
   "source": [
    "### Caclulate Similarity Difference between the first and third Answer Embedding"
   ]
  },
  {
   "cell_type": "code",
   "execution_count": 554,
   "metadata": {},
   "outputs": [],
   "source": [
    "from scipy.spatial.distance import cosine\n",
    "\n",
    "similarities_1_3_openai_3_small = []\n",
    "\n",
    "for i in range(100):    \n",
    "    similarity = 1 - cosine(df_top_3_openai_3_small.at[i,\"Answer 1 Embeddings: text-embedding-3-small\"], df_top_3_openai_3_small.at[i,\"Answer 3 Embeddings: text-embedding-3-small\"])\n",
    "    similarities_1_3_openai_3_small.append(similarity)\n",
    "    \n",
    "df_top_3_openai_3_small[\"Similarities between first and third Embedding\"] = similarities_1_3_openai_3_small"
   ]
  },
  {
   "cell_type": "markdown",
   "metadata": {},
   "source": [
    "Visualisierungen"
   ]
  },
  {
   "cell_type": "code",
   "execution_count": 555,
   "metadata": {},
   "outputs": [
    {
     "data": {
      "application/vnd.plotly.v1+json": {
       "config": {
        "plotlyServerURL": "https://plot.ly"
       },
       "data": [
        {
         "mode": "lines+markers",
         "name": "Similarities",
         "type": "scatter",
         "x": [
          1,
          2,
          3,
          4,
          5,
          6,
          7,
          8,
          9,
          10,
          11,
          12,
          13,
          14,
          15,
          16,
          17,
          18,
          19,
          20,
          21,
          22,
          23,
          24,
          25,
          26,
          27,
          28,
          29,
          30,
          31,
          32,
          33,
          34,
          35,
          36,
          37,
          38,
          39,
          40,
          41,
          42,
          43,
          44,
          45,
          46,
          47,
          48,
          49,
          50,
          51,
          52,
          53,
          54,
          55,
          56,
          57,
          58,
          59,
          60,
          61,
          62,
          63,
          64,
          65,
          66,
          67,
          68,
          69,
          70,
          71,
          72,
          73,
          74,
          75,
          76,
          77,
          78,
          79,
          80,
          81,
          82,
          83,
          84,
          85,
          86,
          87,
          88,
          89,
          90,
          91,
          92,
          93,
          94,
          95,
          96,
          97,
          98,
          99,
          100
         ],
         "y": [
          0.6890510353939788,
          0.5003481437072405,
          0.5550286418275528,
          0.6890510353939788,
          0.5556468563233791,
          0.42023625263591335,
          0.37023943512813895,
          0.45089206685541383,
          0.31211517632003494,
          0.6652650245285511,
          0.28916801538419756,
          0.28916801538419756,
          0.7347317174187004,
          0.45422629208113907,
          0.9281095894765625,
          0.6337915901877265,
          0.5686393789371973,
          0.7417875507487406,
          0.2885040877223445,
          0.47456573351325915,
          0.7217303853976021,
          0.6990832048184827,
          0.7447130744656377,
          0.770222833207892,
          0.7690958341469951,
          0.8093672761844879,
          0.754335777162398,
          0.8317288444431507,
          0.7604629651458988,
          0.7425871164894798,
          0.804611142679998,
          0.7505591037535091,
          0.6909866280246599,
          0.7461120599531083,
          0.6842263746264012,
          0.6896943939173015,
          0.7239188324975953,
          0.7518780859687074,
          0.8084571141026166,
          0.7675435886065588,
          0.8169809642161788,
          0.7525365746243297,
          0.7025726036982741,
          0.8169809642161788,
          0.87336642249032,
          0.7409105379072973,
          0.7351414472150798,
          0.5951987155573396,
          0.8169809642161788,
          0.7198834340321028,
          0.763344768896688,
          0.7614158641005714,
          0.7305811960175015,
          0.7298405477232285,
          0.7631152970889913,
          0.6122933217409806,
          0.6732502320052279,
          0.595103034025765,
          0.7286692294733169,
          0.87336642249032,
          0.8970794494171007,
          0.8945095164175029,
          0.8172024540664824,
          0.8619066213790946,
          0.7967935215602644,
          0.8970794494171007,
          0.7069646850395883,
          0.7878114695659806,
          0.7382330201607065,
          0.780673492180132,
          0.7667620339619875,
          0.7042789870735742,
          0.7877208822576344,
          0.7469713253483821,
          0.7387986646052507,
          0.7831572695673427,
          0.6585943243459537,
          0.5819784317894057,
          0.7382330201607065,
          0.7401933844894493,
          0.7626798418153213,
          0.8056814552038003,
          0.6956551763946408,
          0.7952340077262677,
          0.7442542116468686,
          0.8003826534037166,
          0.7942592051830759,
          0.6494692915884315,
          0.7909432821332829,
          0.705140637789561,
          0.7919119858605048,
          0.6834833601825379,
          0.8601249433615726,
          0.7981217599137067,
          0.7121380634621239,
          0.8563906537204291,
          0.5815581469436851,
          0.8689201208368438,
          0.68168680845559,
          0.7523569745868166
         ]
        },
        {
         "mode": "lines",
         "name": "Horizontal Regression Line: 0.7098874739930904",
         "type": "scatter",
         "x": [
          1,
          100
         ],
         "y": [
          0.7098874739930904,
          0.7098874739930904
         ]
        }
       ],
       "layout": {
        "template": {
         "data": {
          "bar": [
           {
            "error_x": {
             "color": "#2a3f5f"
            },
            "error_y": {
             "color": "#2a3f5f"
            },
            "marker": {
             "line": {
              "color": "#E5ECF6",
              "width": 0.5
             },
             "pattern": {
              "fillmode": "overlay",
              "size": 10,
              "solidity": 0.2
             }
            },
            "type": "bar"
           }
          ],
          "barpolar": [
           {
            "marker": {
             "line": {
              "color": "#E5ECF6",
              "width": 0.5
             },
             "pattern": {
              "fillmode": "overlay",
              "size": 10,
              "solidity": 0.2
             }
            },
            "type": "barpolar"
           }
          ],
          "carpet": [
           {
            "aaxis": {
             "endlinecolor": "#2a3f5f",
             "gridcolor": "white",
             "linecolor": "white",
             "minorgridcolor": "white",
             "startlinecolor": "#2a3f5f"
            },
            "baxis": {
             "endlinecolor": "#2a3f5f",
             "gridcolor": "white",
             "linecolor": "white",
             "minorgridcolor": "white",
             "startlinecolor": "#2a3f5f"
            },
            "type": "carpet"
           }
          ],
          "choropleth": [
           {
            "colorbar": {
             "outlinewidth": 0,
             "ticks": ""
            },
            "type": "choropleth"
           }
          ],
          "contour": [
           {
            "colorbar": {
             "outlinewidth": 0,
             "ticks": ""
            },
            "colorscale": [
             [
              0,
              "#0d0887"
             ],
             [
              0.1111111111111111,
              "#46039f"
             ],
             [
              0.2222222222222222,
              "#7201a8"
             ],
             [
              0.3333333333333333,
              "#9c179e"
             ],
             [
              0.4444444444444444,
              "#bd3786"
             ],
             [
              0.5555555555555556,
              "#d8576b"
             ],
             [
              0.6666666666666666,
              "#ed7953"
             ],
             [
              0.7777777777777778,
              "#fb9f3a"
             ],
             [
              0.8888888888888888,
              "#fdca26"
             ],
             [
              1,
              "#f0f921"
             ]
            ],
            "type": "contour"
           }
          ],
          "contourcarpet": [
           {
            "colorbar": {
             "outlinewidth": 0,
             "ticks": ""
            },
            "type": "contourcarpet"
           }
          ],
          "heatmap": [
           {
            "colorbar": {
             "outlinewidth": 0,
             "ticks": ""
            },
            "colorscale": [
             [
              0,
              "#0d0887"
             ],
             [
              0.1111111111111111,
              "#46039f"
             ],
             [
              0.2222222222222222,
              "#7201a8"
             ],
             [
              0.3333333333333333,
              "#9c179e"
             ],
             [
              0.4444444444444444,
              "#bd3786"
             ],
             [
              0.5555555555555556,
              "#d8576b"
             ],
             [
              0.6666666666666666,
              "#ed7953"
             ],
             [
              0.7777777777777778,
              "#fb9f3a"
             ],
             [
              0.8888888888888888,
              "#fdca26"
             ],
             [
              1,
              "#f0f921"
             ]
            ],
            "type": "heatmap"
           }
          ],
          "heatmapgl": [
           {
            "colorbar": {
             "outlinewidth": 0,
             "ticks": ""
            },
            "colorscale": [
             [
              0,
              "#0d0887"
             ],
             [
              0.1111111111111111,
              "#46039f"
             ],
             [
              0.2222222222222222,
              "#7201a8"
             ],
             [
              0.3333333333333333,
              "#9c179e"
             ],
             [
              0.4444444444444444,
              "#bd3786"
             ],
             [
              0.5555555555555556,
              "#d8576b"
             ],
             [
              0.6666666666666666,
              "#ed7953"
             ],
             [
              0.7777777777777778,
              "#fb9f3a"
             ],
             [
              0.8888888888888888,
              "#fdca26"
             ],
             [
              1,
              "#f0f921"
             ]
            ],
            "type": "heatmapgl"
           }
          ],
          "histogram": [
           {
            "marker": {
             "pattern": {
              "fillmode": "overlay",
              "size": 10,
              "solidity": 0.2
             }
            },
            "type": "histogram"
           }
          ],
          "histogram2d": [
           {
            "colorbar": {
             "outlinewidth": 0,
             "ticks": ""
            },
            "colorscale": [
             [
              0,
              "#0d0887"
             ],
             [
              0.1111111111111111,
              "#46039f"
             ],
             [
              0.2222222222222222,
              "#7201a8"
             ],
             [
              0.3333333333333333,
              "#9c179e"
             ],
             [
              0.4444444444444444,
              "#bd3786"
             ],
             [
              0.5555555555555556,
              "#d8576b"
             ],
             [
              0.6666666666666666,
              "#ed7953"
             ],
             [
              0.7777777777777778,
              "#fb9f3a"
             ],
             [
              0.8888888888888888,
              "#fdca26"
             ],
             [
              1,
              "#f0f921"
             ]
            ],
            "type": "histogram2d"
           }
          ],
          "histogram2dcontour": [
           {
            "colorbar": {
             "outlinewidth": 0,
             "ticks": ""
            },
            "colorscale": [
             [
              0,
              "#0d0887"
             ],
             [
              0.1111111111111111,
              "#46039f"
             ],
             [
              0.2222222222222222,
              "#7201a8"
             ],
             [
              0.3333333333333333,
              "#9c179e"
             ],
             [
              0.4444444444444444,
              "#bd3786"
             ],
             [
              0.5555555555555556,
              "#d8576b"
             ],
             [
              0.6666666666666666,
              "#ed7953"
             ],
             [
              0.7777777777777778,
              "#fb9f3a"
             ],
             [
              0.8888888888888888,
              "#fdca26"
             ],
             [
              1,
              "#f0f921"
             ]
            ],
            "type": "histogram2dcontour"
           }
          ],
          "mesh3d": [
           {
            "colorbar": {
             "outlinewidth": 0,
             "ticks": ""
            },
            "type": "mesh3d"
           }
          ],
          "parcoords": [
           {
            "line": {
             "colorbar": {
              "outlinewidth": 0,
              "ticks": ""
             }
            },
            "type": "parcoords"
           }
          ],
          "pie": [
           {
            "automargin": true,
            "type": "pie"
           }
          ],
          "scatter": [
           {
            "fillpattern": {
             "fillmode": "overlay",
             "size": 10,
             "solidity": 0.2
            },
            "type": "scatter"
           }
          ],
          "scatter3d": [
           {
            "line": {
             "colorbar": {
              "outlinewidth": 0,
              "ticks": ""
             }
            },
            "marker": {
             "colorbar": {
              "outlinewidth": 0,
              "ticks": ""
             }
            },
            "type": "scatter3d"
           }
          ],
          "scattercarpet": [
           {
            "marker": {
             "colorbar": {
              "outlinewidth": 0,
              "ticks": ""
             }
            },
            "type": "scattercarpet"
           }
          ],
          "scattergeo": [
           {
            "marker": {
             "colorbar": {
              "outlinewidth": 0,
              "ticks": ""
             }
            },
            "type": "scattergeo"
           }
          ],
          "scattergl": [
           {
            "marker": {
             "colorbar": {
              "outlinewidth": 0,
              "ticks": ""
             }
            },
            "type": "scattergl"
           }
          ],
          "scattermapbox": [
           {
            "marker": {
             "colorbar": {
              "outlinewidth": 0,
              "ticks": ""
             }
            },
            "type": "scattermapbox"
           }
          ],
          "scatterpolar": [
           {
            "marker": {
             "colorbar": {
              "outlinewidth": 0,
              "ticks": ""
             }
            },
            "type": "scatterpolar"
           }
          ],
          "scatterpolargl": [
           {
            "marker": {
             "colorbar": {
              "outlinewidth": 0,
              "ticks": ""
             }
            },
            "type": "scatterpolargl"
           }
          ],
          "scatterternary": [
           {
            "marker": {
             "colorbar": {
              "outlinewidth": 0,
              "ticks": ""
             }
            },
            "type": "scatterternary"
           }
          ],
          "surface": [
           {
            "colorbar": {
             "outlinewidth": 0,
             "ticks": ""
            },
            "colorscale": [
             [
              0,
              "#0d0887"
             ],
             [
              0.1111111111111111,
              "#46039f"
             ],
             [
              0.2222222222222222,
              "#7201a8"
             ],
             [
              0.3333333333333333,
              "#9c179e"
             ],
             [
              0.4444444444444444,
              "#bd3786"
             ],
             [
              0.5555555555555556,
              "#d8576b"
             ],
             [
              0.6666666666666666,
              "#ed7953"
             ],
             [
              0.7777777777777778,
              "#fb9f3a"
             ],
             [
              0.8888888888888888,
              "#fdca26"
             ],
             [
              1,
              "#f0f921"
             ]
            ],
            "type": "surface"
           }
          ],
          "table": [
           {
            "cells": {
             "fill": {
              "color": "#EBF0F8"
             },
             "line": {
              "color": "white"
             }
            },
            "header": {
             "fill": {
              "color": "#C8D4E3"
             },
             "line": {
              "color": "white"
             }
            },
            "type": "table"
           }
          ]
         },
         "layout": {
          "annotationdefaults": {
           "arrowcolor": "#2a3f5f",
           "arrowhead": 0,
           "arrowwidth": 1
          },
          "autotypenumbers": "strict",
          "coloraxis": {
           "colorbar": {
            "outlinewidth": 0,
            "ticks": ""
           }
          },
          "colorscale": {
           "diverging": [
            [
             0,
             "#8e0152"
            ],
            [
             0.1,
             "#c51b7d"
            ],
            [
             0.2,
             "#de77ae"
            ],
            [
             0.3,
             "#f1b6da"
            ],
            [
             0.4,
             "#fde0ef"
            ],
            [
             0.5,
             "#f7f7f7"
            ],
            [
             0.6,
             "#e6f5d0"
            ],
            [
             0.7,
             "#b8e186"
            ],
            [
             0.8,
             "#7fbc41"
            ],
            [
             0.9,
             "#4d9221"
            ],
            [
             1,
             "#276419"
            ]
           ],
           "sequential": [
            [
             0,
             "#0d0887"
            ],
            [
             0.1111111111111111,
             "#46039f"
            ],
            [
             0.2222222222222222,
             "#7201a8"
            ],
            [
             0.3333333333333333,
             "#9c179e"
            ],
            [
             0.4444444444444444,
             "#bd3786"
            ],
            [
             0.5555555555555556,
             "#d8576b"
            ],
            [
             0.6666666666666666,
             "#ed7953"
            ],
            [
             0.7777777777777778,
             "#fb9f3a"
            ],
            [
             0.8888888888888888,
             "#fdca26"
            ],
            [
             1,
             "#f0f921"
            ]
           ],
           "sequentialminus": [
            [
             0,
             "#0d0887"
            ],
            [
             0.1111111111111111,
             "#46039f"
            ],
            [
             0.2222222222222222,
             "#7201a8"
            ],
            [
             0.3333333333333333,
             "#9c179e"
            ],
            [
             0.4444444444444444,
             "#bd3786"
            ],
            [
             0.5555555555555556,
             "#d8576b"
            ],
            [
             0.6666666666666666,
             "#ed7953"
            ],
            [
             0.7777777777777778,
             "#fb9f3a"
            ],
            [
             0.8888888888888888,
             "#fdca26"
            ],
            [
             1,
             "#f0f921"
            ]
           ]
          },
          "colorway": [
           "#636efa",
           "#EF553B",
           "#00cc96",
           "#ab63fa",
           "#FFA15A",
           "#19d3f3",
           "#FF6692",
           "#B6E880",
           "#FF97FF",
           "#FECB52"
          ],
          "font": {
           "color": "#2a3f5f"
          },
          "geo": {
           "bgcolor": "white",
           "lakecolor": "white",
           "landcolor": "#E5ECF6",
           "showlakes": true,
           "showland": true,
           "subunitcolor": "white"
          },
          "hoverlabel": {
           "align": "left"
          },
          "hovermode": "closest",
          "mapbox": {
           "style": "light"
          },
          "paper_bgcolor": "white",
          "plot_bgcolor": "#E5ECF6",
          "polar": {
           "angularaxis": {
            "gridcolor": "white",
            "linecolor": "white",
            "ticks": ""
           },
           "bgcolor": "#E5ECF6",
           "radialaxis": {
            "gridcolor": "white",
            "linecolor": "white",
            "ticks": ""
           }
          },
          "scene": {
           "xaxis": {
            "backgroundcolor": "#E5ECF6",
            "gridcolor": "white",
            "gridwidth": 2,
            "linecolor": "white",
            "showbackground": true,
            "ticks": "",
            "zerolinecolor": "white"
           },
           "yaxis": {
            "backgroundcolor": "#E5ECF6",
            "gridcolor": "white",
            "gridwidth": 2,
            "linecolor": "white",
            "showbackground": true,
            "ticks": "",
            "zerolinecolor": "white"
           },
           "zaxis": {
            "backgroundcolor": "#E5ECF6",
            "gridcolor": "white",
            "gridwidth": 2,
            "linecolor": "white",
            "showbackground": true,
            "ticks": "",
            "zerolinecolor": "white"
           }
          },
          "shapedefaults": {
           "line": {
            "color": "#2a3f5f"
           }
          },
          "ternary": {
           "aaxis": {
            "gridcolor": "white",
            "linecolor": "white",
            "ticks": ""
           },
           "baxis": {
            "gridcolor": "white",
            "linecolor": "white",
            "ticks": ""
           },
           "bgcolor": "#E5ECF6",
           "caxis": {
            "gridcolor": "white",
            "linecolor": "white",
            "ticks": ""
           }
          },
          "title": {
           "x": 0.05
          },
          "xaxis": {
           "automargin": true,
           "gridcolor": "white",
           "linecolor": "white",
           "ticks": "",
           "title": {
            "standoff": 15
           },
           "zerolinecolor": "white",
           "zerolinewidth": 2
          },
          "yaxis": {
           "automargin": true,
           "gridcolor": "white",
           "linecolor": "white",
           "ticks": "",
           "title": {
            "standoff": 15
           },
           "zerolinecolor": "white",
           "zerolinewidth": 2
          }
         }
        },
        "title": {
         "text": "text-embedding-3-small: similarities between first and third answer"
        },
        "xaxis": {
         "title": {
          "text": "Index"
         }
        },
        "yaxis": {
         "title": {
          "text": "Similarities"
         }
        }
       }
      }
     },
     "metadata": {},
     "output_type": "display_data"
    }
   ],
   "source": [
    "import plotly.graph_objs as go\n",
    "import numpy as np\n",
    "\n",
    "mean_similarity = np.mean(similarities_1_3_openai_3_small)\n",
    "\n",
    "x_values = list(range(1, len(similarities_1_3_openai_3_small) + 1))\n",
    "\n",
    "fig = go.Figure()\n",
    "\n",
    "fig.add_trace(go.Scatter(x=x_values, y=similarities_1_3_openai_3_small, mode='lines+markers', name='Similarities'))\n",
    "\n",
    "fig.add_trace(go.Scatter(x=[x_values[0], x_values[-1]], y=[mean_similarity, mean_similarity],\n",
    "                         mode='lines', name=f'Horizontal Regression Line: {mean_similarity}'))\n",
    "\n",
    "fig.update_layout(\n",
    "    title= \"text-embedding-3-small: similarities between first and third answer\",\n",
    "    xaxis_title=\"Index\",\n",
    "    yaxis_title=\"Similarities\"\n",
    ")\n",
    "\n",
    "fig.show()"
   ]
  },
  {
   "cell_type": "markdown",
   "metadata": {},
   "source": [
    "## Top-3 results: text-embedding-3-large"
   ]
  },
  {
   "cell_type": "code",
   "execution_count": 556,
   "metadata": {},
   "outputs": [],
   "source": [
    "df_top_3_openai_3_large = pd.DataFrame()"
   ]
  },
  {
   "cell_type": "markdown",
   "metadata": {},
   "source": [
    "### General RAG Top 3 function"
   ]
  },
  {
   "cell_type": "code",
   "execution_count": 557,
   "metadata": {},
   "outputs": [
    {
     "name": "stdout",
     "output_type": "stream",
     "text": [
      "['Die Lizenzierung basiert auf verschiedenen Faktoren wie Nutzeranzahl, Funktionsumfang und Implementierungsmethode.', 'Die Lizenzierung von SAP SuccessFactors erfolgt typischerweise auf Basis der Anzahl der Benutzer oder der Nutzungsdauer.', 'Die Lizenzierung von SAP Enable Now erfolgt typischerweise auf Basis der Anzahl der Benutzer oder der Nutzungsdauer.']\n"
     ]
    }
   ],
   "source": [
    "import numpy as np\n",
    "from scipy.spatial.distance import cosine\n",
    "\n",
    "client = OpenAI(api_key=openai_key_embeddings)\n",
    "\n",
    "def rag_top3_answers_openai_3_large(input_text, embedding_model, n=3):\n",
    "    input_embedding = client.embeddings.create(input=[input_text], model=embedding_model).data[0].embedding\n",
    "    \n",
    "    similarities = []\n",
    "    \n",
    "    for question_embedding in df_with_embeddings[\"Question Embeddings: text-embedding-3-large\"]:\n",
    "        similarity = 1 - cosine(input_embedding, question_embedding)\n",
    "        similarities.append(similarity)\n",
    "    \n",
    "    top_similar_indices = np.argsort(similarities)[-n:][::-1]\n",
    "    top_similar_questions = [df_with_embeddings.iloc[i][\"Antwort\"] for i in top_similar_indices]\n",
    "    \n",
    "    return top_similar_questions\n",
    "\n",
    "print(rag_top3_answers_openai_3_large(\"Wie funktioniert die Lizenzierung in SAP S/4HANA?\", \"text-embedding-3-large\"))"
   ]
  },
  {
   "cell_type": "markdown",
   "metadata": {},
   "source": [
    "### Add the 3 most similar answers to Dataframe"
   ]
  },
  {
   "cell_type": "code",
   "execution_count": 558,
   "metadata": {},
   "outputs": [],
   "source": [
    "first_answers_openai_3_large = []\n",
    "second_answers_openai_3_large = []\n",
    "third_answers_openai_3_large = []\n",
    "\n",
    "for i in df_with_embeddings[\"Frage (stark modifiziert)\"]:\n",
    "    all_3_answers = rag_top3_answers_openai_3_large(i, \"text-embedding-3-large\")\n",
    "    first_answers_openai_3_large.append(all_3_answers[0])\n",
    "    second_answers_openai_3_large.append(all_3_answers[1])\n",
    "    third_answers_openai_3_large.append(all_3_answers[2])\n",
    "\n",
    "df_top_3_openai_3_large[\"Frage (stark modifiziert)\"] = df_with_embeddings[\"Frage (stark modifiziert)\"]\n",
    "df_top_3_openai_3_large[\"Answer 1: text-embedding-3-large\"] = first_answers_openai_3_large\n",
    "df_top_3_openai_3_large[\"Answer 2: text-embedding-3-large\"] = second_answers_openai_3_large\n",
    "df_top_3_openai_3_large[\"Answer 3: text-embedding-3-large\"] = third_answers_openai_3_large"
   ]
  },
  {
   "cell_type": "markdown",
   "metadata": {},
   "source": [
    "### Create Embeddings for the 3 most similar answers"
   ]
  },
  {
   "cell_type": "code",
   "execution_count": 559,
   "metadata": {},
   "outputs": [
    {
     "data": {
      "text/html": [
       "<div>\n",
       "<style scoped>\n",
       "    .dataframe tbody tr th:only-of-type {\n",
       "        vertical-align: middle;\n",
       "    }\n",
       "\n",
       "    .dataframe tbody tr th {\n",
       "        vertical-align: top;\n",
       "    }\n",
       "\n",
       "    .dataframe thead th {\n",
       "        text-align: right;\n",
       "    }\n",
       "</style>\n",
       "<table border=\"1\" class=\"dataframe\">\n",
       "  <thead>\n",
       "    <tr style=\"text-align: right;\">\n",
       "      <th></th>\n",
       "      <th>Frage (stark modifiziert)</th>\n",
       "      <th>Answer 1: text-embedding-3-large</th>\n",
       "      <th>Answer 2: text-embedding-3-large</th>\n",
       "      <th>Answer 3: text-embedding-3-large</th>\n",
       "    </tr>\n",
       "  </thead>\n",
       "  <tbody>\n",
       "    <tr>\n",
       "      <th>0</th>\n",
       "      <td>S/4?</td>\n",
       "      <td>SAP S/4HANA ist eine Enterprise Resource Plann...</td>\n",
       "      <td>Die Lizenzierung basiert auf verschiedenen Fak...</td>\n",
       "      <td>SAP S/4HANA umfasst Module für Finanzen, Besch...</td>\n",
       "    </tr>\n",
       "    <tr>\n",
       "      <th>1</th>\n",
       "      <td>Vorteile HANA</td>\n",
       "      <td>Zu den Vorteilen von SAP S/4HANA gehören eine ...</td>\n",
       "      <td>Die Nutzung von SAP SuccessFactors ermöglicht ...</td>\n",
       "      <td>Die Nutzung von SAP Enable Now ermöglicht eine...</td>\n",
       "    </tr>\n",
       "    <tr>\n",
       "      <th>2</th>\n",
       "      <td>SAP S/4HANA vs. SAP ERP?</td>\n",
       "      <td>Die Hauptunterschiede umfassen die In-Memory-D...</td>\n",
       "      <td>SAP S/4HANA ist eine Enterprise Resource Plann...</td>\n",
       "      <td>Zu den Vorteilen von SAP S/4HANA gehören eine ...</td>\n",
       "    </tr>\n",
       "    <tr>\n",
       "      <th>3</th>\n",
       "      <td>Module SAP S/4HANA?</td>\n",
       "      <td>SAP S/4HANA umfasst Module für Finanzen, Besch...</td>\n",
       "      <td>SAP S/4HANA ist eine Enterprise Resource Plann...</td>\n",
       "      <td>SAP bietet verschiedene Dienstleistungen wie B...</td>\n",
       "    </tr>\n",
       "    <tr>\n",
       "      <th>4</th>\n",
       "      <td>Migration zu SAP S/4HANA</td>\n",
       "      <td>Ja, eine Migration ist erforderlich, da SAP S/...</td>\n",
       "      <td>Die Dauer kann je nach Unternehmensgröße, Komp...</td>\n",
       "      <td>SAP bietet verschiedene Dienstleistungen wie B...</td>\n",
       "    </tr>\n",
       "    <tr>\n",
       "      <th>...</th>\n",
       "      <td>...</td>\n",
       "      <td>...</td>\n",
       "      <td>...</td>\n",
       "      <td>...</td>\n",
       "    </tr>\n",
       "    <tr>\n",
       "      <th>95</th>\n",
       "      <td>Unterstützung und Schulungsressourcen für SAP ...</td>\n",
       "      <td>SAP bietet Schulungsressourcen, Schulungen und...</td>\n",
       "      <td>SAP bietet Schulungsressourcen, Schulungen und...</td>\n",
       "      <td>Ja, SAP SuccessFactors unterstützt die Mitarbe...</td>\n",
       "    </tr>\n",
       "    <tr>\n",
       "      <th>96</th>\n",
       "      <td>SAP SuccessFactors: Cloud?</td>\n",
       "      <td>Ja, SAP SuccessFactors ist eine cloudbasierte ...</td>\n",
       "      <td>SAP SuccessFactors ist eine cloudbasierte Lösu...</td>\n",
       "      <td>SAP SuccessFactors bietet Funktionen wie Perso...</td>\n",
       "    </tr>\n",
       "    <tr>\n",
       "      <th>97</th>\n",
       "      <td>Lizenzierung von SAP SuccessFactors?</td>\n",
       "      <td>Die Lizenzierung von SAP SuccessFactors erfolg...</td>\n",
       "      <td>Die Lizenzierung von SAP Concur erfolgt typisc...</td>\n",
       "      <td>Die Lizenzierung von SAP Enable Now erfolgt ty...</td>\n",
       "    </tr>\n",
       "    <tr>\n",
       "      <th>98</th>\n",
       "      <td>Arbeitszeitverwaltung und -planung in SAP Succ...</td>\n",
       "      <td>Ja, SAP SuccessFactors bietet Funktionen für d...</td>\n",
       "      <td>SAP SuccessFactors bietet Funktionen wie Perso...</td>\n",
       "      <td>Ja, SAP SuccessFactors kann für die Nachfolgep...</td>\n",
       "    </tr>\n",
       "    <tr>\n",
       "      <th>99</th>\n",
       "      <td>Support für SAP SuccessFactors?</td>\n",
       "      <td>SAP bietet umfassenden Support und regelmäßige...</td>\n",
       "      <td>SAP bietet Schulungsressourcen, Schulungen und...</td>\n",
       "      <td>SAP bietet umfassenden Support und regelmäßige...</td>\n",
       "    </tr>\n",
       "  </tbody>\n",
       "</table>\n",
       "<p>100 rows × 4 columns</p>\n",
       "</div>"
      ],
      "text/plain": [
       "                            Frage (stark modifiziert)  \\\n",
       "0                                                S/4?   \n",
       "1                                       Vorteile HANA   \n",
       "2                            SAP S/4HANA vs. SAP ERP?   \n",
       "3                                 Module SAP S/4HANA?   \n",
       "4                            Migration zu SAP S/4HANA   \n",
       "..                                                ...   \n",
       "95  Unterstützung und Schulungsressourcen für SAP ...   \n",
       "96                         SAP SuccessFactors: Cloud?   \n",
       "97               Lizenzierung von SAP SuccessFactors?   \n",
       "98  Arbeitszeitverwaltung und -planung in SAP Succ...   \n",
       "99                    Support für SAP SuccessFactors?   \n",
       "\n",
       "                     Answer 1: text-embedding-3-large  \\\n",
       "0   SAP S/4HANA ist eine Enterprise Resource Plann...   \n",
       "1   Zu den Vorteilen von SAP S/4HANA gehören eine ...   \n",
       "2   Die Hauptunterschiede umfassen die In-Memory-D...   \n",
       "3   SAP S/4HANA umfasst Module für Finanzen, Besch...   \n",
       "4   Ja, eine Migration ist erforderlich, da SAP S/...   \n",
       "..                                                ...   \n",
       "95  SAP bietet Schulungsressourcen, Schulungen und...   \n",
       "96  Ja, SAP SuccessFactors ist eine cloudbasierte ...   \n",
       "97  Die Lizenzierung von SAP SuccessFactors erfolg...   \n",
       "98  Ja, SAP SuccessFactors bietet Funktionen für d...   \n",
       "99  SAP bietet umfassenden Support und regelmäßige...   \n",
       "\n",
       "                     Answer 2: text-embedding-3-large  \\\n",
       "0   Die Lizenzierung basiert auf verschiedenen Fak...   \n",
       "1   Die Nutzung von SAP SuccessFactors ermöglicht ...   \n",
       "2   SAP S/4HANA ist eine Enterprise Resource Plann...   \n",
       "3   SAP S/4HANA ist eine Enterprise Resource Plann...   \n",
       "4   Die Dauer kann je nach Unternehmensgröße, Komp...   \n",
       "..                                                ...   \n",
       "95  SAP bietet Schulungsressourcen, Schulungen und...   \n",
       "96  SAP SuccessFactors ist eine cloudbasierte Lösu...   \n",
       "97  Die Lizenzierung von SAP Concur erfolgt typisc...   \n",
       "98  SAP SuccessFactors bietet Funktionen wie Perso...   \n",
       "99  SAP bietet Schulungsressourcen, Schulungen und...   \n",
       "\n",
       "                     Answer 3: text-embedding-3-large  \n",
       "0   SAP S/4HANA umfasst Module für Finanzen, Besch...  \n",
       "1   Die Nutzung von SAP Enable Now ermöglicht eine...  \n",
       "2   Zu den Vorteilen von SAP S/4HANA gehören eine ...  \n",
       "3   SAP bietet verschiedene Dienstleistungen wie B...  \n",
       "4   SAP bietet verschiedene Dienstleistungen wie B...  \n",
       "..                                                ...  \n",
       "95  Ja, SAP SuccessFactors unterstützt die Mitarbe...  \n",
       "96  SAP SuccessFactors bietet Funktionen wie Perso...  \n",
       "97  Die Lizenzierung von SAP Enable Now erfolgt ty...  \n",
       "98  Ja, SAP SuccessFactors kann für die Nachfolgep...  \n",
       "99  SAP bietet umfassenden Support und regelmäßige...  \n",
       "\n",
       "[100 rows x 4 columns]"
      ]
     },
     "execution_count": 559,
     "metadata": {},
     "output_type": "execute_result"
    }
   ],
   "source": [
    "df_top_3_openai_3_large"
   ]
  },
  {
   "cell_type": "code",
   "execution_count": 560,
   "metadata": {},
   "outputs": [],
   "source": [
    "# First Answer Embeddings:\n",
    "\n",
    "client = OpenAI(api_key=openai_key_embeddings)\n",
    "\n",
    "first_answer_embeddings_openai_3_large= []\n",
    "\n",
    "for i in df_top_3_openai_3_large[\"Answer 1: text-embedding-3-large\"]:\n",
    "    embeddings_batch_response = client.embeddings.create(\n",
    "        model=\"text-embedding-3-large\",\n",
    "        input=[i],\n",
    "    )\n",
    "    first_answer_embeddings_openai_3_large.append(embeddings_batch_response.data[0].embedding)\n",
    "\n",
    "df_top_3_openai_3_large[\"Answer 1 Embeddings: text-embedding-3-large\"] = first_answer_embeddings_openai_3_large"
   ]
  },
  {
   "cell_type": "code",
   "execution_count": 561,
   "metadata": {},
   "outputs": [],
   "source": [
    "# Second Answer Embeddings:\n",
    "\n",
    "client = OpenAI(api_key=openai_key_embeddings)\n",
    "\n",
    "second_answer_embeddings_openai_3_large= []\n",
    "\n",
    "for i in df_top_3_openai_3_large[\"Answer 2: text-embedding-3-large\"]:\n",
    "    embeddings_batch_response = client.embeddings.create(\n",
    "        model=\"text-embedding-3-large\",\n",
    "        input=[i],\n",
    "    )\n",
    "    second_answer_embeddings_openai_3_large.append(embeddings_batch_response.data[0].embedding)\n",
    "\n",
    "df_top_3_openai_3_large[\"Answer 2 Embeddings: text-embedding-3-large\"] = second_answer_embeddings_openai_3_large"
   ]
  },
  {
   "cell_type": "code",
   "execution_count": 562,
   "metadata": {},
   "outputs": [],
   "source": [
    "# Third Answer Embeddings:\n",
    "\n",
    "client = OpenAI(api_key=openai_key_embeddings)\n",
    "\n",
    "third_answer_embeddings_openai_3_large= []\n",
    "\n",
    "for i in df_top_3_openai_3_large[\"Answer 3: text-embedding-3-large\"]:\n",
    "    embeddings_batch_response = client.embeddings.create(\n",
    "        model=\"text-embedding-3-large\",\n",
    "        input=[i],\n",
    "    )\n",
    "    third_answer_embeddings_openai_3_large.append(embeddings_batch_response.data[0].embedding)\n",
    "\n",
    "df_top_3_openai_3_large[\"Answer 3 Embeddings: text-embedding-3-large\"] = third_answer_embeddings_openai_3_large"
   ]
  },
  {
   "cell_type": "code",
   "execution_count": 563,
   "metadata": {},
   "outputs": [
    {
     "data": {
      "text/html": [
       "<div>\n",
       "<style scoped>\n",
       "    .dataframe tbody tr th:only-of-type {\n",
       "        vertical-align: middle;\n",
       "    }\n",
       "\n",
       "    .dataframe tbody tr th {\n",
       "        vertical-align: top;\n",
       "    }\n",
       "\n",
       "    .dataframe thead th {\n",
       "        text-align: right;\n",
       "    }\n",
       "</style>\n",
       "<table border=\"1\" class=\"dataframe\">\n",
       "  <thead>\n",
       "    <tr style=\"text-align: right;\">\n",
       "      <th></th>\n",
       "      <th>Frage (stark modifiziert)</th>\n",
       "      <th>Answer 1: text-embedding-3-large</th>\n",
       "      <th>Answer 2: text-embedding-3-large</th>\n",
       "      <th>Answer 3: text-embedding-3-large</th>\n",
       "      <th>Answer 1 Embeddings: text-embedding-3-large</th>\n",
       "      <th>Answer 2 Embeddings: text-embedding-3-large</th>\n",
       "      <th>Answer 3 Embeddings: text-embedding-3-large</th>\n",
       "    </tr>\n",
       "  </thead>\n",
       "  <tbody>\n",
       "    <tr>\n",
       "      <th>0</th>\n",
       "      <td>S/4?</td>\n",
       "      <td>SAP S/4HANA ist eine Enterprise Resource Plann...</td>\n",
       "      <td>Die Lizenzierung basiert auf verschiedenen Fak...</td>\n",
       "      <td>SAP S/4HANA umfasst Module für Finanzen, Besch...</td>\n",
       "      <td>[-0.021908100694417953, 0.026752615347504616, ...</td>\n",
       "      <td>[-0.01628134585916996, -0.0041287620551884174,...</td>\n",
       "      <td>[0.010125198401510715, 0.018468184396624565, -...</td>\n",
       "    </tr>\n",
       "    <tr>\n",
       "      <th>1</th>\n",
       "      <td>Vorteile HANA</td>\n",
       "      <td>Zu den Vorteilen von SAP S/4HANA gehören eine ...</td>\n",
       "      <td>Die Nutzung von SAP SuccessFactors ermöglicht ...</td>\n",
       "      <td>Die Nutzung von SAP Enable Now ermöglicht eine...</td>\n",
       "      <td>[0.0006446597399190068, 0.02245728112757206, -...</td>\n",
       "      <td>[0.00420170184224844, 0.008722733706235886, 0....</td>\n",
       "      <td>[0.010559734888374805, 0.010592647828161716, -...</td>\n",
       "    </tr>\n",
       "    <tr>\n",
       "      <th>2</th>\n",
       "      <td>SAP S/4HANA vs. SAP ERP?</td>\n",
       "      <td>Die Hauptunterschiede umfassen die In-Memory-D...</td>\n",
       "      <td>SAP S/4HANA ist eine Enterprise Resource Plann...</td>\n",
       "      <td>Zu den Vorteilen von SAP S/4HANA gehören eine ...</td>\n",
       "      <td>[-0.010192322544753551, -0.01742411218583584, ...</td>\n",
       "      <td>[-0.021860750392079353, 0.0267136562615633, -0...</td>\n",
       "      <td>[0.0006446597399190068, 0.02245728112757206, -...</td>\n",
       "    </tr>\n",
       "    <tr>\n",
       "      <th>3</th>\n",
       "      <td>Module SAP S/4HANA?</td>\n",
       "      <td>SAP S/4HANA umfasst Module für Finanzen, Besch...</td>\n",
       "      <td>SAP S/4HANA ist eine Enterprise Resource Plann...</td>\n",
       "      <td>SAP bietet verschiedene Dienstleistungen wie B...</td>\n",
       "      <td>[0.010153903625905514, 0.01845860481262207, -0...</td>\n",
       "      <td>[-0.021908100694417953, 0.026752615347504616, ...</td>\n",
       "      <td>[-0.0021337438374757767, 0.017328929156064987,...</td>\n",
       "    </tr>\n",
       "    <tr>\n",
       "      <th>4</th>\n",
       "      <td>Migration zu SAP S/4HANA</td>\n",
       "      <td>Ja, eine Migration ist erforderlich, da SAP S/...</td>\n",
       "      <td>Die Dauer kann je nach Unternehmensgröße, Komp...</td>\n",
       "      <td>SAP bietet verschiedene Dienstleistungen wie B...</td>\n",
       "      <td>[-0.0020000762306153774, 0.013760296627879143,...</td>\n",
       "      <td>[0.007396618369966745, -0.02129562757909298, -...</td>\n",
       "      <td>[-0.0021206610836088657, 0.017314506694674492,...</td>\n",
       "    </tr>\n",
       "    <tr>\n",
       "      <th>...</th>\n",
       "      <td>...</td>\n",
       "      <td>...</td>\n",
       "      <td>...</td>\n",
       "      <td>...</td>\n",
       "      <td>...</td>\n",
       "      <td>...</td>\n",
       "      <td>...</td>\n",
       "    </tr>\n",
       "    <tr>\n",
       "      <th>95</th>\n",
       "      <td>Unterstützung und Schulungsressourcen für SAP ...</td>\n",
       "      <td>SAP bietet Schulungsressourcen, Schulungen und...</td>\n",
       "      <td>SAP bietet Schulungsressourcen, Schulungen und...</td>\n",
       "      <td>Ja, SAP SuccessFactors unterstützt die Mitarbe...</td>\n",
       "      <td>[0.008458943106234074, 0.040877148509025574, -...</td>\n",
       "      <td>[0.02407652884721756, 0.034598346799612045, -0...</td>\n",
       "      <td>[-0.005607962142676115, 0.035121604800224304, ...</td>\n",
       "    </tr>\n",
       "    <tr>\n",
       "      <th>96</th>\n",
       "      <td>SAP SuccessFactors: Cloud?</td>\n",
       "      <td>Ja, SAP SuccessFactors ist eine cloudbasierte ...</td>\n",
       "      <td>SAP SuccessFactors ist eine cloudbasierte Lösu...</td>\n",
       "      <td>SAP SuccessFactors bietet Funktionen wie Perso...</td>\n",
       "      <td>[-0.0005508507019840181, 0.028958238661289215,...</td>\n",
       "      <td>[-0.012860345654189587, 0.0134474728256464, -0...</td>\n",
       "      <td>[-0.000997970113530755, 0.02201872691512108, -...</td>\n",
       "    </tr>\n",
       "    <tr>\n",
       "      <th>97</th>\n",
       "      <td>Lizenzierung von SAP SuccessFactors?</td>\n",
       "      <td>Die Lizenzierung von SAP SuccessFactors erfolg...</td>\n",
       "      <td>Die Lizenzierung von SAP Concur erfolgt typisc...</td>\n",
       "      <td>Die Lizenzierung von SAP Enable Now erfolgt ty...</td>\n",
       "      <td>[-0.00100021215621382, 0.018771065399050713, -...</td>\n",
       "      <td>[0.00909552350640297, 0.013889885507524014, -0...</td>\n",
       "      <td>[-0.003136159386485815, 0.016190562397241592, ...</td>\n",
       "    </tr>\n",
       "    <tr>\n",
       "      <th>98</th>\n",
       "      <td>Arbeitszeitverwaltung und -planung in SAP Succ...</td>\n",
       "      <td>Ja, SAP SuccessFactors bietet Funktionen für d...</td>\n",
       "      <td>SAP SuccessFactors bietet Funktionen wie Perso...</td>\n",
       "      <td>Ja, SAP SuccessFactors kann für die Nachfolgep...</td>\n",
       "      <td>[0.013875938951969147, 0.015276982448995113, -...</td>\n",
       "      <td>[-0.0010256250388920307, 0.021988950669765472,...</td>\n",
       "      <td>[-0.0064631798304617405, -3.1814142857911065e-...</td>\n",
       "    </tr>\n",
       "    <tr>\n",
       "      <th>99</th>\n",
       "      <td>Support für SAP SuccessFactors?</td>\n",
       "      <td>SAP bietet umfassenden Support und regelmäßige...</td>\n",
       "      <td>SAP bietet Schulungsressourcen, Schulungen und...</td>\n",
       "      <td>SAP bietet umfassenden Support und regelmäßige...</td>\n",
       "      <td>[0.03332265093922615, 0.055014029145240784, -0...</td>\n",
       "      <td>[0.008453148417174816, 0.040877219289541245, -...</td>\n",
       "      <td>[0.04214632883667946, 0.051137544214725494, -0...</td>\n",
       "    </tr>\n",
       "  </tbody>\n",
       "</table>\n",
       "<p>100 rows × 7 columns</p>\n",
       "</div>"
      ],
      "text/plain": [
       "                            Frage (stark modifiziert)  \\\n",
       "0                                                S/4?   \n",
       "1                                       Vorteile HANA   \n",
       "2                            SAP S/4HANA vs. SAP ERP?   \n",
       "3                                 Module SAP S/4HANA?   \n",
       "4                            Migration zu SAP S/4HANA   \n",
       "..                                                ...   \n",
       "95  Unterstützung und Schulungsressourcen für SAP ...   \n",
       "96                         SAP SuccessFactors: Cloud?   \n",
       "97               Lizenzierung von SAP SuccessFactors?   \n",
       "98  Arbeitszeitverwaltung und -planung in SAP Succ...   \n",
       "99                    Support für SAP SuccessFactors?   \n",
       "\n",
       "                     Answer 1: text-embedding-3-large  \\\n",
       "0   SAP S/4HANA ist eine Enterprise Resource Plann...   \n",
       "1   Zu den Vorteilen von SAP S/4HANA gehören eine ...   \n",
       "2   Die Hauptunterschiede umfassen die In-Memory-D...   \n",
       "3   SAP S/4HANA umfasst Module für Finanzen, Besch...   \n",
       "4   Ja, eine Migration ist erforderlich, da SAP S/...   \n",
       "..                                                ...   \n",
       "95  SAP bietet Schulungsressourcen, Schulungen und...   \n",
       "96  Ja, SAP SuccessFactors ist eine cloudbasierte ...   \n",
       "97  Die Lizenzierung von SAP SuccessFactors erfolg...   \n",
       "98  Ja, SAP SuccessFactors bietet Funktionen für d...   \n",
       "99  SAP bietet umfassenden Support und regelmäßige...   \n",
       "\n",
       "                     Answer 2: text-embedding-3-large  \\\n",
       "0   Die Lizenzierung basiert auf verschiedenen Fak...   \n",
       "1   Die Nutzung von SAP SuccessFactors ermöglicht ...   \n",
       "2   SAP S/4HANA ist eine Enterprise Resource Plann...   \n",
       "3   SAP S/4HANA ist eine Enterprise Resource Plann...   \n",
       "4   Die Dauer kann je nach Unternehmensgröße, Komp...   \n",
       "..                                                ...   \n",
       "95  SAP bietet Schulungsressourcen, Schulungen und...   \n",
       "96  SAP SuccessFactors ist eine cloudbasierte Lösu...   \n",
       "97  Die Lizenzierung von SAP Concur erfolgt typisc...   \n",
       "98  SAP SuccessFactors bietet Funktionen wie Perso...   \n",
       "99  SAP bietet Schulungsressourcen, Schulungen und...   \n",
       "\n",
       "                     Answer 3: text-embedding-3-large  \\\n",
       "0   SAP S/4HANA umfasst Module für Finanzen, Besch...   \n",
       "1   Die Nutzung von SAP Enable Now ermöglicht eine...   \n",
       "2   Zu den Vorteilen von SAP S/4HANA gehören eine ...   \n",
       "3   SAP bietet verschiedene Dienstleistungen wie B...   \n",
       "4   SAP bietet verschiedene Dienstleistungen wie B...   \n",
       "..                                                ...   \n",
       "95  Ja, SAP SuccessFactors unterstützt die Mitarbe...   \n",
       "96  SAP SuccessFactors bietet Funktionen wie Perso...   \n",
       "97  Die Lizenzierung von SAP Enable Now erfolgt ty...   \n",
       "98  Ja, SAP SuccessFactors kann für die Nachfolgep...   \n",
       "99  SAP bietet umfassenden Support und regelmäßige...   \n",
       "\n",
       "          Answer 1 Embeddings: text-embedding-3-large  \\\n",
       "0   [-0.021908100694417953, 0.026752615347504616, ...   \n",
       "1   [0.0006446597399190068, 0.02245728112757206, -...   \n",
       "2   [-0.010192322544753551, -0.01742411218583584, ...   \n",
       "3   [0.010153903625905514, 0.01845860481262207, -0...   \n",
       "4   [-0.0020000762306153774, 0.013760296627879143,...   \n",
       "..                                                ...   \n",
       "95  [0.008458943106234074, 0.040877148509025574, -...   \n",
       "96  [-0.0005508507019840181, 0.028958238661289215,...   \n",
       "97  [-0.00100021215621382, 0.018771065399050713, -...   \n",
       "98  [0.013875938951969147, 0.015276982448995113, -...   \n",
       "99  [0.03332265093922615, 0.055014029145240784, -0...   \n",
       "\n",
       "          Answer 2 Embeddings: text-embedding-3-large  \\\n",
       "0   [-0.01628134585916996, -0.0041287620551884174,...   \n",
       "1   [0.00420170184224844, 0.008722733706235886, 0....   \n",
       "2   [-0.021860750392079353, 0.0267136562615633, -0...   \n",
       "3   [-0.021908100694417953, 0.026752615347504616, ...   \n",
       "4   [0.007396618369966745, -0.02129562757909298, -...   \n",
       "..                                                ...   \n",
       "95  [0.02407652884721756, 0.034598346799612045, -0...   \n",
       "96  [-0.012860345654189587, 0.0134474728256464, -0...   \n",
       "97  [0.00909552350640297, 0.013889885507524014, -0...   \n",
       "98  [-0.0010256250388920307, 0.021988950669765472,...   \n",
       "99  [0.008453148417174816, 0.040877219289541245, -...   \n",
       "\n",
       "          Answer 3 Embeddings: text-embedding-3-large  \n",
       "0   [0.010125198401510715, 0.018468184396624565, -...  \n",
       "1   [0.010559734888374805, 0.010592647828161716, -...  \n",
       "2   [0.0006446597399190068, 0.02245728112757206, -...  \n",
       "3   [-0.0021337438374757767, 0.017328929156064987,...  \n",
       "4   [-0.0021206610836088657, 0.017314506694674492,...  \n",
       "..                                                ...  \n",
       "95  [-0.005607962142676115, 0.035121604800224304, ...  \n",
       "96  [-0.000997970113530755, 0.02201872691512108, -...  \n",
       "97  [-0.003136159386485815, 0.016190562397241592, ...  \n",
       "98  [-0.0064631798304617405, -3.1814142857911065e-...  \n",
       "99  [0.04214632883667946, 0.051137544214725494, -0...  \n",
       "\n",
       "[100 rows x 7 columns]"
      ]
     },
     "execution_count": 563,
     "metadata": {},
     "output_type": "execute_result"
    }
   ],
   "source": [
    "df_top_3_openai_3_large"
   ]
  },
  {
   "cell_type": "markdown",
   "metadata": {},
   "source": [
    "### Caclulate Similarity Difference between the first and second Answer Embedding"
   ]
  },
  {
   "cell_type": "code",
   "execution_count": 564,
   "metadata": {},
   "outputs": [],
   "source": [
    "from scipy.spatial.distance import cosine\n",
    "\n",
    "similarities_1_2_openai_3_large = []\n",
    "\n",
    "for i in range(100):    \n",
    "    similarity = 1 - cosine(df_top_3_openai_3_large.at[i,\"Answer 1 Embeddings: text-embedding-3-large\"], df_top_3_openai_3_large.at[i,\"Answer 2 Embeddings: text-embedding-3-large\"])\n",
    "    similarities_1_2_openai_3_large.append(similarity)\n",
    "    \n",
    "df_top_3_openai_3_large[\"Similarities between first and second Embedding\"] = similarities_1_2_openai_3_large"
   ]
  },
  {
   "cell_type": "markdown",
   "metadata": {},
   "source": [
    "Visualisierungen"
   ]
  },
  {
   "cell_type": "code",
   "execution_count": 565,
   "metadata": {},
   "outputs": [
    {
     "data": {
      "application/vnd.plotly.v1+json": {
       "config": {
        "plotlyServerURL": "https://plot.ly"
       },
       "data": [
        {
         "mode": "lines+markers",
         "name": "Similarities",
         "type": "scatter",
         "x": [
          1,
          2,
          3,
          4,
          5,
          6,
          7,
          8,
          9,
          10,
          11,
          12,
          13,
          14,
          15,
          16,
          17,
          18,
          19,
          20,
          21,
          22,
          23,
          24,
          25,
          26,
          27,
          28,
          29,
          30,
          31,
          32,
          33,
          34,
          35,
          36,
          37,
          38,
          39,
          40,
          41,
          42,
          43,
          44,
          45,
          46,
          47,
          48,
          49,
          50,
          51,
          52,
          53,
          54,
          55,
          56,
          57,
          58,
          59,
          60,
          61,
          62,
          63,
          64,
          65,
          66,
          67,
          68,
          69,
          70,
          71,
          72,
          73,
          74,
          75,
          76,
          77,
          78,
          79,
          80,
          81,
          82,
          83,
          84,
          85,
          86,
          87,
          88,
          89,
          90,
          91,
          92,
          93,
          94,
          95,
          96,
          97,
          98,
          99,
          100
         ],
         "y": [
          0.27338812171199933,
          0.5652569777346615,
          0.4888879665062533,
          0.5895547503639518,
          0.45298764593522955,
          0.35939836268053815,
          0.5101859619614025,
          0.39618960368305833,
          0.6944282444944911,
          0.6032170245649642,
          0.2401099757969153,
          0.5585516379671533,
          0.7713184502263178,
          0.44438133682225356,
          0.8040238764376096,
          0.7500672467335114,
          0.4844267335307382,
          0.781347948191312,
          0.5731940460936641,
          0.4875054941379784,
          0.7360681956220048,
          0.790941098648175,
          0.7253724946577238,
          0.7253167023524031,
          0.7579611258684044,
          0.7539879880920023,
          0.7580813514087762,
          0.7835919334082261,
          0.7675205851505912,
          0.7909086872229454,
          0.7174585470953982,
          0.5815524368257023,
          0.49568299251369063,
          0.551848877254126,
          0.607431183890725,
          0.5825807990922007,
          0.6230652651129288,
          0.7047132868646624,
          0.7675173565183642,
          0.7556464946074662,
          0.844952213877468,
          0.8450095079561752,
          0.7036493118137758,
          0.7218224090796831,
          0.7447796904803576,
          0.622782606489102,
          0.6227478723513471,
          0.7707265235106772,
          0.6222150689796768,
          0.8057106798055237,
          0.6296441252319511,
          0.5441783788905651,
          0.5907518954551636,
          0.6197031669560025,
          0.6578001162801019,
          0.6172570362794395,
          0.5125960705819858,
          0.5440925132845278,
          0.7280907353073532,
          0.6286410574048236,
          0.7939393137440042,
          0.7939393137440042,
          0.701216748657275,
          0.7803351944592106,
          0.6808192193799122,
          0.7650924551567456,
          0.7517625586426085,
          0.6927788849617453,
          0.9214797562951605,
          0.6754730444369975,
          0.7060605459580056,
          0.6413971322758414,
          0.675466395430961,
          0.5952439992396656,
          0.647434725843201,
          0.8569730849480062,
          0.7155414758122512,
          0.8718952198207003,
          0.9214369033306701,
          0.8289160855226307,
          0.7900158849838967,
          0.7216992060837976,
          0.7382433434512935,
          0.7219000132559562,
          0.6168476887507492,
          0.6749054809326201,
          0.7508660719096035,
          0.7221036742336795,
          0.6612635793324714,
          0.612128051261586,
          0.8625252152008689,
          0.7529691870021177,
          0.687506904791437,
          0.6993472267471889,
          0.6639871372153427,
          0.8570404511045919,
          0.7042888049275736,
          0.8714913970476694,
          0.6779041361680029,
          0.8117897066100578
         ]
        },
        {
         "mode": "lines",
         "name": "Horizontal Regression Line: 0.6779884500646631",
         "type": "scatter",
         "x": [
          1,
          100
         ],
         "y": [
          0.6779884500646631,
          0.6779884500646631
         ]
        }
       ],
       "layout": {
        "template": {
         "data": {
          "bar": [
           {
            "error_x": {
             "color": "#2a3f5f"
            },
            "error_y": {
             "color": "#2a3f5f"
            },
            "marker": {
             "line": {
              "color": "#E5ECF6",
              "width": 0.5
             },
             "pattern": {
              "fillmode": "overlay",
              "size": 10,
              "solidity": 0.2
             }
            },
            "type": "bar"
           }
          ],
          "barpolar": [
           {
            "marker": {
             "line": {
              "color": "#E5ECF6",
              "width": 0.5
             },
             "pattern": {
              "fillmode": "overlay",
              "size": 10,
              "solidity": 0.2
             }
            },
            "type": "barpolar"
           }
          ],
          "carpet": [
           {
            "aaxis": {
             "endlinecolor": "#2a3f5f",
             "gridcolor": "white",
             "linecolor": "white",
             "minorgridcolor": "white",
             "startlinecolor": "#2a3f5f"
            },
            "baxis": {
             "endlinecolor": "#2a3f5f",
             "gridcolor": "white",
             "linecolor": "white",
             "minorgridcolor": "white",
             "startlinecolor": "#2a3f5f"
            },
            "type": "carpet"
           }
          ],
          "choropleth": [
           {
            "colorbar": {
             "outlinewidth": 0,
             "ticks": ""
            },
            "type": "choropleth"
           }
          ],
          "contour": [
           {
            "colorbar": {
             "outlinewidth": 0,
             "ticks": ""
            },
            "colorscale": [
             [
              0,
              "#0d0887"
             ],
             [
              0.1111111111111111,
              "#46039f"
             ],
             [
              0.2222222222222222,
              "#7201a8"
             ],
             [
              0.3333333333333333,
              "#9c179e"
             ],
             [
              0.4444444444444444,
              "#bd3786"
             ],
             [
              0.5555555555555556,
              "#d8576b"
             ],
             [
              0.6666666666666666,
              "#ed7953"
             ],
             [
              0.7777777777777778,
              "#fb9f3a"
             ],
             [
              0.8888888888888888,
              "#fdca26"
             ],
             [
              1,
              "#f0f921"
             ]
            ],
            "type": "contour"
           }
          ],
          "contourcarpet": [
           {
            "colorbar": {
             "outlinewidth": 0,
             "ticks": ""
            },
            "type": "contourcarpet"
           }
          ],
          "heatmap": [
           {
            "colorbar": {
             "outlinewidth": 0,
             "ticks": ""
            },
            "colorscale": [
             [
              0,
              "#0d0887"
             ],
             [
              0.1111111111111111,
              "#46039f"
             ],
             [
              0.2222222222222222,
              "#7201a8"
             ],
             [
              0.3333333333333333,
              "#9c179e"
             ],
             [
              0.4444444444444444,
              "#bd3786"
             ],
             [
              0.5555555555555556,
              "#d8576b"
             ],
             [
              0.6666666666666666,
              "#ed7953"
             ],
             [
              0.7777777777777778,
              "#fb9f3a"
             ],
             [
              0.8888888888888888,
              "#fdca26"
             ],
             [
              1,
              "#f0f921"
             ]
            ],
            "type": "heatmap"
           }
          ],
          "heatmapgl": [
           {
            "colorbar": {
             "outlinewidth": 0,
             "ticks": ""
            },
            "colorscale": [
             [
              0,
              "#0d0887"
             ],
             [
              0.1111111111111111,
              "#46039f"
             ],
             [
              0.2222222222222222,
              "#7201a8"
             ],
             [
              0.3333333333333333,
              "#9c179e"
             ],
             [
              0.4444444444444444,
              "#bd3786"
             ],
             [
              0.5555555555555556,
              "#d8576b"
             ],
             [
              0.6666666666666666,
              "#ed7953"
             ],
             [
              0.7777777777777778,
              "#fb9f3a"
             ],
             [
              0.8888888888888888,
              "#fdca26"
             ],
             [
              1,
              "#f0f921"
             ]
            ],
            "type": "heatmapgl"
           }
          ],
          "histogram": [
           {
            "marker": {
             "pattern": {
              "fillmode": "overlay",
              "size": 10,
              "solidity": 0.2
             }
            },
            "type": "histogram"
           }
          ],
          "histogram2d": [
           {
            "colorbar": {
             "outlinewidth": 0,
             "ticks": ""
            },
            "colorscale": [
             [
              0,
              "#0d0887"
             ],
             [
              0.1111111111111111,
              "#46039f"
             ],
             [
              0.2222222222222222,
              "#7201a8"
             ],
             [
              0.3333333333333333,
              "#9c179e"
             ],
             [
              0.4444444444444444,
              "#bd3786"
             ],
             [
              0.5555555555555556,
              "#d8576b"
             ],
             [
              0.6666666666666666,
              "#ed7953"
             ],
             [
              0.7777777777777778,
              "#fb9f3a"
             ],
             [
              0.8888888888888888,
              "#fdca26"
             ],
             [
              1,
              "#f0f921"
             ]
            ],
            "type": "histogram2d"
           }
          ],
          "histogram2dcontour": [
           {
            "colorbar": {
             "outlinewidth": 0,
             "ticks": ""
            },
            "colorscale": [
             [
              0,
              "#0d0887"
             ],
             [
              0.1111111111111111,
              "#46039f"
             ],
             [
              0.2222222222222222,
              "#7201a8"
             ],
             [
              0.3333333333333333,
              "#9c179e"
             ],
             [
              0.4444444444444444,
              "#bd3786"
             ],
             [
              0.5555555555555556,
              "#d8576b"
             ],
             [
              0.6666666666666666,
              "#ed7953"
             ],
             [
              0.7777777777777778,
              "#fb9f3a"
             ],
             [
              0.8888888888888888,
              "#fdca26"
             ],
             [
              1,
              "#f0f921"
             ]
            ],
            "type": "histogram2dcontour"
           }
          ],
          "mesh3d": [
           {
            "colorbar": {
             "outlinewidth": 0,
             "ticks": ""
            },
            "type": "mesh3d"
           }
          ],
          "parcoords": [
           {
            "line": {
             "colorbar": {
              "outlinewidth": 0,
              "ticks": ""
             }
            },
            "type": "parcoords"
           }
          ],
          "pie": [
           {
            "automargin": true,
            "type": "pie"
           }
          ],
          "scatter": [
           {
            "fillpattern": {
             "fillmode": "overlay",
             "size": 10,
             "solidity": 0.2
            },
            "type": "scatter"
           }
          ],
          "scatter3d": [
           {
            "line": {
             "colorbar": {
              "outlinewidth": 0,
              "ticks": ""
             }
            },
            "marker": {
             "colorbar": {
              "outlinewidth": 0,
              "ticks": ""
             }
            },
            "type": "scatter3d"
           }
          ],
          "scattercarpet": [
           {
            "marker": {
             "colorbar": {
              "outlinewidth": 0,
              "ticks": ""
             }
            },
            "type": "scattercarpet"
           }
          ],
          "scattergeo": [
           {
            "marker": {
             "colorbar": {
              "outlinewidth": 0,
              "ticks": ""
             }
            },
            "type": "scattergeo"
           }
          ],
          "scattergl": [
           {
            "marker": {
             "colorbar": {
              "outlinewidth": 0,
              "ticks": ""
             }
            },
            "type": "scattergl"
           }
          ],
          "scattermapbox": [
           {
            "marker": {
             "colorbar": {
              "outlinewidth": 0,
              "ticks": ""
             }
            },
            "type": "scattermapbox"
           }
          ],
          "scatterpolar": [
           {
            "marker": {
             "colorbar": {
              "outlinewidth": 0,
              "ticks": ""
             }
            },
            "type": "scatterpolar"
           }
          ],
          "scatterpolargl": [
           {
            "marker": {
             "colorbar": {
              "outlinewidth": 0,
              "ticks": ""
             }
            },
            "type": "scatterpolargl"
           }
          ],
          "scatterternary": [
           {
            "marker": {
             "colorbar": {
              "outlinewidth": 0,
              "ticks": ""
             }
            },
            "type": "scatterternary"
           }
          ],
          "surface": [
           {
            "colorbar": {
             "outlinewidth": 0,
             "ticks": ""
            },
            "colorscale": [
             [
              0,
              "#0d0887"
             ],
             [
              0.1111111111111111,
              "#46039f"
             ],
             [
              0.2222222222222222,
              "#7201a8"
             ],
             [
              0.3333333333333333,
              "#9c179e"
             ],
             [
              0.4444444444444444,
              "#bd3786"
             ],
             [
              0.5555555555555556,
              "#d8576b"
             ],
             [
              0.6666666666666666,
              "#ed7953"
             ],
             [
              0.7777777777777778,
              "#fb9f3a"
             ],
             [
              0.8888888888888888,
              "#fdca26"
             ],
             [
              1,
              "#f0f921"
             ]
            ],
            "type": "surface"
           }
          ],
          "table": [
           {
            "cells": {
             "fill": {
              "color": "#EBF0F8"
             },
             "line": {
              "color": "white"
             }
            },
            "header": {
             "fill": {
              "color": "#C8D4E3"
             },
             "line": {
              "color": "white"
             }
            },
            "type": "table"
           }
          ]
         },
         "layout": {
          "annotationdefaults": {
           "arrowcolor": "#2a3f5f",
           "arrowhead": 0,
           "arrowwidth": 1
          },
          "autotypenumbers": "strict",
          "coloraxis": {
           "colorbar": {
            "outlinewidth": 0,
            "ticks": ""
           }
          },
          "colorscale": {
           "diverging": [
            [
             0,
             "#8e0152"
            ],
            [
             0.1,
             "#c51b7d"
            ],
            [
             0.2,
             "#de77ae"
            ],
            [
             0.3,
             "#f1b6da"
            ],
            [
             0.4,
             "#fde0ef"
            ],
            [
             0.5,
             "#f7f7f7"
            ],
            [
             0.6,
             "#e6f5d0"
            ],
            [
             0.7,
             "#b8e186"
            ],
            [
             0.8,
             "#7fbc41"
            ],
            [
             0.9,
             "#4d9221"
            ],
            [
             1,
             "#276419"
            ]
           ],
           "sequential": [
            [
             0,
             "#0d0887"
            ],
            [
             0.1111111111111111,
             "#46039f"
            ],
            [
             0.2222222222222222,
             "#7201a8"
            ],
            [
             0.3333333333333333,
             "#9c179e"
            ],
            [
             0.4444444444444444,
             "#bd3786"
            ],
            [
             0.5555555555555556,
             "#d8576b"
            ],
            [
             0.6666666666666666,
             "#ed7953"
            ],
            [
             0.7777777777777778,
             "#fb9f3a"
            ],
            [
             0.8888888888888888,
             "#fdca26"
            ],
            [
             1,
             "#f0f921"
            ]
           ],
           "sequentialminus": [
            [
             0,
             "#0d0887"
            ],
            [
             0.1111111111111111,
             "#46039f"
            ],
            [
             0.2222222222222222,
             "#7201a8"
            ],
            [
             0.3333333333333333,
             "#9c179e"
            ],
            [
             0.4444444444444444,
             "#bd3786"
            ],
            [
             0.5555555555555556,
             "#d8576b"
            ],
            [
             0.6666666666666666,
             "#ed7953"
            ],
            [
             0.7777777777777778,
             "#fb9f3a"
            ],
            [
             0.8888888888888888,
             "#fdca26"
            ],
            [
             1,
             "#f0f921"
            ]
           ]
          },
          "colorway": [
           "#636efa",
           "#EF553B",
           "#00cc96",
           "#ab63fa",
           "#FFA15A",
           "#19d3f3",
           "#FF6692",
           "#B6E880",
           "#FF97FF",
           "#FECB52"
          ],
          "font": {
           "color": "#2a3f5f"
          },
          "geo": {
           "bgcolor": "white",
           "lakecolor": "white",
           "landcolor": "#E5ECF6",
           "showlakes": true,
           "showland": true,
           "subunitcolor": "white"
          },
          "hoverlabel": {
           "align": "left"
          },
          "hovermode": "closest",
          "mapbox": {
           "style": "light"
          },
          "paper_bgcolor": "white",
          "plot_bgcolor": "#E5ECF6",
          "polar": {
           "angularaxis": {
            "gridcolor": "white",
            "linecolor": "white",
            "ticks": ""
           },
           "bgcolor": "#E5ECF6",
           "radialaxis": {
            "gridcolor": "white",
            "linecolor": "white",
            "ticks": ""
           }
          },
          "scene": {
           "xaxis": {
            "backgroundcolor": "#E5ECF6",
            "gridcolor": "white",
            "gridwidth": 2,
            "linecolor": "white",
            "showbackground": true,
            "ticks": "",
            "zerolinecolor": "white"
           },
           "yaxis": {
            "backgroundcolor": "#E5ECF6",
            "gridcolor": "white",
            "gridwidth": 2,
            "linecolor": "white",
            "showbackground": true,
            "ticks": "",
            "zerolinecolor": "white"
           },
           "zaxis": {
            "backgroundcolor": "#E5ECF6",
            "gridcolor": "white",
            "gridwidth": 2,
            "linecolor": "white",
            "showbackground": true,
            "ticks": "",
            "zerolinecolor": "white"
           }
          },
          "shapedefaults": {
           "line": {
            "color": "#2a3f5f"
           }
          },
          "ternary": {
           "aaxis": {
            "gridcolor": "white",
            "linecolor": "white",
            "ticks": ""
           },
           "baxis": {
            "gridcolor": "white",
            "linecolor": "white",
            "ticks": ""
           },
           "bgcolor": "#E5ECF6",
           "caxis": {
            "gridcolor": "white",
            "linecolor": "white",
            "ticks": ""
           }
          },
          "title": {
           "x": 0.05
          },
          "xaxis": {
           "automargin": true,
           "gridcolor": "white",
           "linecolor": "white",
           "ticks": "",
           "title": {
            "standoff": 15
           },
           "zerolinecolor": "white",
           "zerolinewidth": 2
          },
          "yaxis": {
           "automargin": true,
           "gridcolor": "white",
           "linecolor": "white",
           "ticks": "",
           "title": {
            "standoff": 15
           },
           "zerolinecolor": "white",
           "zerolinewidth": 2
          }
         }
        },
        "title": {
         "text": "text-embedding-3-large: similarities between first and second answer"
        },
        "xaxis": {
         "title": {
          "text": "Index"
         }
        },
        "yaxis": {
         "title": {
          "text": "Similarities"
         }
        }
       }
      }
     },
     "metadata": {},
     "output_type": "display_data"
    }
   ],
   "source": [
    "import plotly.graph_objs as go\n",
    "import numpy as np\n",
    "\n",
    "mean_similarity = np.mean(similarities_1_2_openai_3_large)\n",
    "\n",
    "x_values = list(range(1, len(similarities_1_2_openai_3_large) + 1))\n",
    "\n",
    "fig = go.Figure()\n",
    "\n",
    "fig.add_trace(go.Scatter(x=x_values, y=similarities_1_2_openai_3_large, mode='lines+markers', name='Similarities'))\n",
    "\n",
    "fig.add_trace(go.Scatter(x=[x_values[0], x_values[-1]], y=[mean_similarity, mean_similarity],\n",
    "                         mode='lines', name=f'Horizontal Regression Line: {mean_similarity}'))\n",
    "\n",
    "fig.update_layout(\n",
    "    title= \"text-embedding-3-large: similarities between first and second answer\",\n",
    "    xaxis_title=\"Index\",\n",
    "    yaxis_title=\"Similarities\"\n",
    ")\n",
    "\n",
    "fig.show()"
   ]
  },
  {
   "cell_type": "markdown",
   "metadata": {},
   "source": [
    "### Caclulate Similarity Difference between the second and third Answer Embedding"
   ]
  },
  {
   "cell_type": "code",
   "execution_count": 566,
   "metadata": {},
   "outputs": [],
   "source": [
    "from scipy.spatial.distance import cosine\n",
    "\n",
    "similarities_2_3_openai_3_large = []\n",
    "\n",
    "for i in range(100):    \n",
    "    similarity = 1 - cosine(df_top_3_openai_3_large.at[i,\"Answer 2 Embeddings: text-embedding-3-large\"], df_top_3_openai_3_large.at[i,\"Answer 3 Embeddings: text-embedding-3-large\"])\n",
    "    similarities_2_3_openai_3_large.append(similarity)\n",
    "    \n",
    "df_top_3_openai_3_large[\"Similarities between second and third Embedding\"] = similarities_2_3_openai_3_large"
   ]
  },
  {
   "cell_type": "markdown",
   "metadata": {},
   "source": [
    "Visualisierungen"
   ]
  },
  {
   "cell_type": "code",
   "execution_count": 567,
   "metadata": {},
   "outputs": [
    {
     "data": {
      "application/vnd.plotly.v1+json": {
       "config": {
        "plotlyServerURL": "https://plot.ly"
       },
       "data": [
        {
         "mode": "lines+markers",
         "name": "Similarities",
         "type": "scatter",
         "x": [
          1,
          2,
          3,
          4,
          5,
          6,
          7,
          8,
          9,
          10,
          11,
          12,
          13,
          14,
          15,
          16,
          17,
          18,
          19,
          20,
          21,
          22,
          23,
          24,
          25,
          26,
          27,
          28,
          29,
          30,
          31,
          32,
          33,
          34,
          35,
          36,
          37,
          38,
          39,
          40,
          41,
          42,
          43,
          44,
          45,
          46,
          47,
          48,
          49,
          50,
          51,
          52,
          53,
          54,
          55,
          56,
          57,
          58,
          59,
          60,
          61,
          62,
          63,
          64,
          65,
          66,
          67,
          68,
          69,
          70,
          71,
          72,
          73,
          74,
          75,
          76,
          77,
          78,
          79,
          80,
          81,
          82,
          83,
          84,
          85,
          86,
          87,
          88,
          89,
          90,
          91,
          92,
          93,
          94,
          95,
          96,
          97,
          98,
          99,
          100
         ],
         "y": [
          0.3148130782686902,
          0.6443065270399346,
          0.5833477684341316,
          0.5046626297265162,
          0.35939836268053815,
          0.4549069568249131,
          0.3614946180826738,
          0.6358024545494791,
          0.857346428557097,
          0.32999201947687085,
          0.6739286270140266,
          0.6739798544512615,
          0.5543166434461742,
          0.34939762883710057,
          0.9453800555954699,
          0.6102435098472767,
          0.7270588224811484,
          0.8346556993796777,
          0.6364175000925365,
          0.641682794850062,
          0.8106539191548283,
          0.6943348017473301,
          0.736085447991754,
          0.7375744789585144,
          0.571950313576855,
          0.7360055133542874,
          0.6050393998042332,
          0.736085447991754,
          0.6057331526592784,
          0.5167201839300571,
          0.7540499959287491,
          0.736085447991754,
          0.5815282756601902,
          0.5815524368257023,
          0.736085447991754,
          0.701952897428643,
          0.4969215265161002,
          0.6196829444885756,
          0.6286188392926522,
          0.4769364677340078,
          0.7939531439516283,
          0.7340858579051657,
          0.8450068599830364,
          0.844952213877468,
          0.6119513867040401,
          0.6321140606710798,
          0.6214097966238077,
          0.5277884104092561,
          0.7790243037880864,
          0.7706803000322627,
          0.6821823495783721,
          0.6288966867214005,
          0.5934485620158136,
          0.6760626982552085,
          0.7707272415461464,
          0.6228023374423136,
          0.622782606489102,
          0.5194711393933429,
          0.6145481119812124,
          0.8074812405756148,
          0.8071126780871773,
          0.6496424743519045,
          0.4068567387217972,
          0.7939393137440042,
          0.793897342443965,
          0.7939393137440042,
          0.7110243631594548,
          0.7939626839318128,
          0.7464364402205091,
          0.7832565753273514,
          0.5648480801219948,
          0.6735660782694513,
          0.6774273255040024,
          0.6774462558251768,
          0.8071126780871773,
          0.4076080382095021,
          0.7939833188927521,
          0.3281065791646558,
          0.7197719752870938,
          0.5943591004342926,
          0.7372352720047376,
          0.6859269699173834,
          0.6416686138979765,
          0.7900106261639704,
          0.7900014705962738,
          0.7900106261639704,
          0.7363266644740192,
          0.73637226906208,
          0.8569855186148724,
          0.761144025300518,
          0.7220264457530363,
          0.3847580934976962,
          0.6345132275693838,
          0.7221014297130528,
          0.6463995850100834,
          0.5498412840032773,
          0.7900138969956955,
          0.8284896768091933,
          0.6254665646531783,
          0.6977382788546541
         ]
        },
        {
         "mode": "lines",
         "name": "Horizontal Regression Line: 0.6610742611919009",
         "type": "scatter",
         "x": [
          1,
          100
         ],
         "y": [
          0.6610742611919009,
          0.6610742611919009
         ]
        }
       ],
       "layout": {
        "template": {
         "data": {
          "bar": [
           {
            "error_x": {
             "color": "#2a3f5f"
            },
            "error_y": {
             "color": "#2a3f5f"
            },
            "marker": {
             "line": {
              "color": "#E5ECF6",
              "width": 0.5
             },
             "pattern": {
              "fillmode": "overlay",
              "size": 10,
              "solidity": 0.2
             }
            },
            "type": "bar"
           }
          ],
          "barpolar": [
           {
            "marker": {
             "line": {
              "color": "#E5ECF6",
              "width": 0.5
             },
             "pattern": {
              "fillmode": "overlay",
              "size": 10,
              "solidity": 0.2
             }
            },
            "type": "barpolar"
           }
          ],
          "carpet": [
           {
            "aaxis": {
             "endlinecolor": "#2a3f5f",
             "gridcolor": "white",
             "linecolor": "white",
             "minorgridcolor": "white",
             "startlinecolor": "#2a3f5f"
            },
            "baxis": {
             "endlinecolor": "#2a3f5f",
             "gridcolor": "white",
             "linecolor": "white",
             "minorgridcolor": "white",
             "startlinecolor": "#2a3f5f"
            },
            "type": "carpet"
           }
          ],
          "choropleth": [
           {
            "colorbar": {
             "outlinewidth": 0,
             "ticks": ""
            },
            "type": "choropleth"
           }
          ],
          "contour": [
           {
            "colorbar": {
             "outlinewidth": 0,
             "ticks": ""
            },
            "colorscale": [
             [
              0,
              "#0d0887"
             ],
             [
              0.1111111111111111,
              "#46039f"
             ],
             [
              0.2222222222222222,
              "#7201a8"
             ],
             [
              0.3333333333333333,
              "#9c179e"
             ],
             [
              0.4444444444444444,
              "#bd3786"
             ],
             [
              0.5555555555555556,
              "#d8576b"
             ],
             [
              0.6666666666666666,
              "#ed7953"
             ],
             [
              0.7777777777777778,
              "#fb9f3a"
             ],
             [
              0.8888888888888888,
              "#fdca26"
             ],
             [
              1,
              "#f0f921"
             ]
            ],
            "type": "contour"
           }
          ],
          "contourcarpet": [
           {
            "colorbar": {
             "outlinewidth": 0,
             "ticks": ""
            },
            "type": "contourcarpet"
           }
          ],
          "heatmap": [
           {
            "colorbar": {
             "outlinewidth": 0,
             "ticks": ""
            },
            "colorscale": [
             [
              0,
              "#0d0887"
             ],
             [
              0.1111111111111111,
              "#46039f"
             ],
             [
              0.2222222222222222,
              "#7201a8"
             ],
             [
              0.3333333333333333,
              "#9c179e"
             ],
             [
              0.4444444444444444,
              "#bd3786"
             ],
             [
              0.5555555555555556,
              "#d8576b"
             ],
             [
              0.6666666666666666,
              "#ed7953"
             ],
             [
              0.7777777777777778,
              "#fb9f3a"
             ],
             [
              0.8888888888888888,
              "#fdca26"
             ],
             [
              1,
              "#f0f921"
             ]
            ],
            "type": "heatmap"
           }
          ],
          "heatmapgl": [
           {
            "colorbar": {
             "outlinewidth": 0,
             "ticks": ""
            },
            "colorscale": [
             [
              0,
              "#0d0887"
             ],
             [
              0.1111111111111111,
              "#46039f"
             ],
             [
              0.2222222222222222,
              "#7201a8"
             ],
             [
              0.3333333333333333,
              "#9c179e"
             ],
             [
              0.4444444444444444,
              "#bd3786"
             ],
             [
              0.5555555555555556,
              "#d8576b"
             ],
             [
              0.6666666666666666,
              "#ed7953"
             ],
             [
              0.7777777777777778,
              "#fb9f3a"
             ],
             [
              0.8888888888888888,
              "#fdca26"
             ],
             [
              1,
              "#f0f921"
             ]
            ],
            "type": "heatmapgl"
           }
          ],
          "histogram": [
           {
            "marker": {
             "pattern": {
              "fillmode": "overlay",
              "size": 10,
              "solidity": 0.2
             }
            },
            "type": "histogram"
           }
          ],
          "histogram2d": [
           {
            "colorbar": {
             "outlinewidth": 0,
             "ticks": ""
            },
            "colorscale": [
             [
              0,
              "#0d0887"
             ],
             [
              0.1111111111111111,
              "#46039f"
             ],
             [
              0.2222222222222222,
              "#7201a8"
             ],
             [
              0.3333333333333333,
              "#9c179e"
             ],
             [
              0.4444444444444444,
              "#bd3786"
             ],
             [
              0.5555555555555556,
              "#d8576b"
             ],
             [
              0.6666666666666666,
              "#ed7953"
             ],
             [
              0.7777777777777778,
              "#fb9f3a"
             ],
             [
              0.8888888888888888,
              "#fdca26"
             ],
             [
              1,
              "#f0f921"
             ]
            ],
            "type": "histogram2d"
           }
          ],
          "histogram2dcontour": [
           {
            "colorbar": {
             "outlinewidth": 0,
             "ticks": ""
            },
            "colorscale": [
             [
              0,
              "#0d0887"
             ],
             [
              0.1111111111111111,
              "#46039f"
             ],
             [
              0.2222222222222222,
              "#7201a8"
             ],
             [
              0.3333333333333333,
              "#9c179e"
             ],
             [
              0.4444444444444444,
              "#bd3786"
             ],
             [
              0.5555555555555556,
              "#d8576b"
             ],
             [
              0.6666666666666666,
              "#ed7953"
             ],
             [
              0.7777777777777778,
              "#fb9f3a"
             ],
             [
              0.8888888888888888,
              "#fdca26"
             ],
             [
              1,
              "#f0f921"
             ]
            ],
            "type": "histogram2dcontour"
           }
          ],
          "mesh3d": [
           {
            "colorbar": {
             "outlinewidth": 0,
             "ticks": ""
            },
            "type": "mesh3d"
           }
          ],
          "parcoords": [
           {
            "line": {
             "colorbar": {
              "outlinewidth": 0,
              "ticks": ""
             }
            },
            "type": "parcoords"
           }
          ],
          "pie": [
           {
            "automargin": true,
            "type": "pie"
           }
          ],
          "scatter": [
           {
            "fillpattern": {
             "fillmode": "overlay",
             "size": 10,
             "solidity": 0.2
            },
            "type": "scatter"
           }
          ],
          "scatter3d": [
           {
            "line": {
             "colorbar": {
              "outlinewidth": 0,
              "ticks": ""
             }
            },
            "marker": {
             "colorbar": {
              "outlinewidth": 0,
              "ticks": ""
             }
            },
            "type": "scatter3d"
           }
          ],
          "scattercarpet": [
           {
            "marker": {
             "colorbar": {
              "outlinewidth": 0,
              "ticks": ""
             }
            },
            "type": "scattercarpet"
           }
          ],
          "scattergeo": [
           {
            "marker": {
             "colorbar": {
              "outlinewidth": 0,
              "ticks": ""
             }
            },
            "type": "scattergeo"
           }
          ],
          "scattergl": [
           {
            "marker": {
             "colorbar": {
              "outlinewidth": 0,
              "ticks": ""
             }
            },
            "type": "scattergl"
           }
          ],
          "scattermapbox": [
           {
            "marker": {
             "colorbar": {
              "outlinewidth": 0,
              "ticks": ""
             }
            },
            "type": "scattermapbox"
           }
          ],
          "scatterpolar": [
           {
            "marker": {
             "colorbar": {
              "outlinewidth": 0,
              "ticks": ""
             }
            },
            "type": "scatterpolar"
           }
          ],
          "scatterpolargl": [
           {
            "marker": {
             "colorbar": {
              "outlinewidth": 0,
              "ticks": ""
             }
            },
            "type": "scatterpolargl"
           }
          ],
          "scatterternary": [
           {
            "marker": {
             "colorbar": {
              "outlinewidth": 0,
              "ticks": ""
             }
            },
            "type": "scatterternary"
           }
          ],
          "surface": [
           {
            "colorbar": {
             "outlinewidth": 0,
             "ticks": ""
            },
            "colorscale": [
             [
              0,
              "#0d0887"
             ],
             [
              0.1111111111111111,
              "#46039f"
             ],
             [
              0.2222222222222222,
              "#7201a8"
             ],
             [
              0.3333333333333333,
              "#9c179e"
             ],
             [
              0.4444444444444444,
              "#bd3786"
             ],
             [
              0.5555555555555556,
              "#d8576b"
             ],
             [
              0.6666666666666666,
              "#ed7953"
             ],
             [
              0.7777777777777778,
              "#fb9f3a"
             ],
             [
              0.8888888888888888,
              "#fdca26"
             ],
             [
              1,
              "#f0f921"
             ]
            ],
            "type": "surface"
           }
          ],
          "table": [
           {
            "cells": {
             "fill": {
              "color": "#EBF0F8"
             },
             "line": {
              "color": "white"
             }
            },
            "header": {
             "fill": {
              "color": "#C8D4E3"
             },
             "line": {
              "color": "white"
             }
            },
            "type": "table"
           }
          ]
         },
         "layout": {
          "annotationdefaults": {
           "arrowcolor": "#2a3f5f",
           "arrowhead": 0,
           "arrowwidth": 1
          },
          "autotypenumbers": "strict",
          "coloraxis": {
           "colorbar": {
            "outlinewidth": 0,
            "ticks": ""
           }
          },
          "colorscale": {
           "diverging": [
            [
             0,
             "#8e0152"
            ],
            [
             0.1,
             "#c51b7d"
            ],
            [
             0.2,
             "#de77ae"
            ],
            [
             0.3,
             "#f1b6da"
            ],
            [
             0.4,
             "#fde0ef"
            ],
            [
             0.5,
             "#f7f7f7"
            ],
            [
             0.6,
             "#e6f5d0"
            ],
            [
             0.7,
             "#b8e186"
            ],
            [
             0.8,
             "#7fbc41"
            ],
            [
             0.9,
             "#4d9221"
            ],
            [
             1,
             "#276419"
            ]
           ],
           "sequential": [
            [
             0,
             "#0d0887"
            ],
            [
             0.1111111111111111,
             "#46039f"
            ],
            [
             0.2222222222222222,
             "#7201a8"
            ],
            [
             0.3333333333333333,
             "#9c179e"
            ],
            [
             0.4444444444444444,
             "#bd3786"
            ],
            [
             0.5555555555555556,
             "#d8576b"
            ],
            [
             0.6666666666666666,
             "#ed7953"
            ],
            [
             0.7777777777777778,
             "#fb9f3a"
            ],
            [
             0.8888888888888888,
             "#fdca26"
            ],
            [
             1,
             "#f0f921"
            ]
           ],
           "sequentialminus": [
            [
             0,
             "#0d0887"
            ],
            [
             0.1111111111111111,
             "#46039f"
            ],
            [
             0.2222222222222222,
             "#7201a8"
            ],
            [
             0.3333333333333333,
             "#9c179e"
            ],
            [
             0.4444444444444444,
             "#bd3786"
            ],
            [
             0.5555555555555556,
             "#d8576b"
            ],
            [
             0.6666666666666666,
             "#ed7953"
            ],
            [
             0.7777777777777778,
             "#fb9f3a"
            ],
            [
             0.8888888888888888,
             "#fdca26"
            ],
            [
             1,
             "#f0f921"
            ]
           ]
          },
          "colorway": [
           "#636efa",
           "#EF553B",
           "#00cc96",
           "#ab63fa",
           "#FFA15A",
           "#19d3f3",
           "#FF6692",
           "#B6E880",
           "#FF97FF",
           "#FECB52"
          ],
          "font": {
           "color": "#2a3f5f"
          },
          "geo": {
           "bgcolor": "white",
           "lakecolor": "white",
           "landcolor": "#E5ECF6",
           "showlakes": true,
           "showland": true,
           "subunitcolor": "white"
          },
          "hoverlabel": {
           "align": "left"
          },
          "hovermode": "closest",
          "mapbox": {
           "style": "light"
          },
          "paper_bgcolor": "white",
          "plot_bgcolor": "#E5ECF6",
          "polar": {
           "angularaxis": {
            "gridcolor": "white",
            "linecolor": "white",
            "ticks": ""
           },
           "bgcolor": "#E5ECF6",
           "radialaxis": {
            "gridcolor": "white",
            "linecolor": "white",
            "ticks": ""
           }
          },
          "scene": {
           "xaxis": {
            "backgroundcolor": "#E5ECF6",
            "gridcolor": "white",
            "gridwidth": 2,
            "linecolor": "white",
            "showbackground": true,
            "ticks": "",
            "zerolinecolor": "white"
           },
           "yaxis": {
            "backgroundcolor": "#E5ECF6",
            "gridcolor": "white",
            "gridwidth": 2,
            "linecolor": "white",
            "showbackground": true,
            "ticks": "",
            "zerolinecolor": "white"
           },
           "zaxis": {
            "backgroundcolor": "#E5ECF6",
            "gridcolor": "white",
            "gridwidth": 2,
            "linecolor": "white",
            "showbackground": true,
            "ticks": "",
            "zerolinecolor": "white"
           }
          },
          "shapedefaults": {
           "line": {
            "color": "#2a3f5f"
           }
          },
          "ternary": {
           "aaxis": {
            "gridcolor": "white",
            "linecolor": "white",
            "ticks": ""
           },
           "baxis": {
            "gridcolor": "white",
            "linecolor": "white",
            "ticks": ""
           },
           "bgcolor": "#E5ECF6",
           "caxis": {
            "gridcolor": "white",
            "linecolor": "white",
            "ticks": ""
           }
          },
          "title": {
           "x": 0.05
          },
          "xaxis": {
           "automargin": true,
           "gridcolor": "white",
           "linecolor": "white",
           "ticks": "",
           "title": {
            "standoff": 15
           },
           "zerolinecolor": "white",
           "zerolinewidth": 2
          },
          "yaxis": {
           "automargin": true,
           "gridcolor": "white",
           "linecolor": "white",
           "ticks": "",
           "title": {
            "standoff": 15
           },
           "zerolinecolor": "white",
           "zerolinewidth": 2
          }
         }
        },
        "title": {
         "text": "text-embedding-3-large: similarities between second and third answer"
        },
        "xaxis": {
         "title": {
          "text": "Index"
         }
        },
        "yaxis": {
         "title": {
          "text": "Similarities"
         }
        }
       }
      }
     },
     "metadata": {},
     "output_type": "display_data"
    }
   ],
   "source": [
    "import plotly.graph_objs as go\n",
    "import numpy as np\n",
    "\n",
    "mean_similarity = np.mean(similarities_2_3_openai_3_large)\n",
    "\n",
    "x_values = list(range(1, len(similarities_2_3_openai_3_large) + 1))\n",
    "\n",
    "fig = go.Figure()\n",
    "\n",
    "fig.add_trace(go.Scatter(x=x_values, y=similarities_2_3_openai_3_large, mode='lines+markers', name='Similarities'))\n",
    "\n",
    "fig.add_trace(go.Scatter(x=[x_values[0], x_values[-1]], y=[mean_similarity, mean_similarity],\n",
    "                         mode='lines', name=f'Horizontal Regression Line: {mean_similarity}'))\n",
    "\n",
    "fig.update_layout(\n",
    "    title= \"text-embedding-3-large: similarities between second and third answer\",\n",
    "    xaxis_title=\"Index\",\n",
    "    yaxis_title=\"Similarities\"\n",
    ")\n",
    "\n",
    "fig.show()"
   ]
  },
  {
   "cell_type": "markdown",
   "metadata": {},
   "source": [
    "### Caclulate Similarity Difference between the first and third Answer Embedding"
   ]
  },
  {
   "cell_type": "code",
   "execution_count": 568,
   "metadata": {},
   "outputs": [],
   "source": [
    "from scipy.spatial.distance import cosine\n",
    "\n",
    "similarities_1_3_openai_3_large = []\n",
    "\n",
    "for i in range(100):    \n",
    "    similarity = 1 - cosine(df_top_3_openai_3_large.at[i,\"Answer 1 Embeddings: text-embedding-3-large\"], df_top_3_openai_3_large.at[i,\"Answer 3 Embeddings: text-embedding-3-large\"])\n",
    "    similarities_1_3_openai_3_large.append(similarity)\n",
    "    \n",
    "df_top_3_openai_3_large[\"Similarities between first and third Embedding\"] = similarities_1_3_openai_3_large"
   ]
  },
  {
   "cell_type": "markdown",
   "metadata": {},
   "source": [
    "Visualisierungen"
   ]
  },
  {
   "cell_type": "code",
   "execution_count": 569,
   "metadata": {},
   "outputs": [
    {
     "data": {
      "application/vnd.plotly.v1+json": {
       "config": {
        "plotlyServerURL": "https://plot.ly"
       },
       "data": [
        {
         "mode": "lines+markers",
         "name": "Similarities",
         "type": "scatter",
         "x": [
          1,
          2,
          3,
          4,
          5,
          6,
          7,
          8,
          9,
          10,
          11,
          12,
          13,
          14,
          15,
          16,
          17,
          18,
          19,
          20,
          21,
          22,
          23,
          24,
          25,
          26,
          27,
          28,
          29,
          30,
          31,
          32,
          33,
          34,
          35,
          36,
          37,
          38,
          39,
          40,
          41,
          42,
          43,
          44,
          45,
          46,
          47,
          48,
          49,
          50,
          51,
          52,
          53,
          54,
          55,
          56,
          57,
          58,
          59,
          60,
          61,
          62,
          63,
          64,
          65,
          66,
          67,
          68,
          69,
          70,
          71,
          72,
          73,
          74,
          75,
          76,
          77,
          78,
          79,
          80,
          81,
          82,
          83,
          84,
          85,
          86,
          87,
          88,
          89,
          90,
          91,
          92,
          93,
          94,
          95,
          96,
          97,
          98,
          99,
          100
         ],
         "y": [
          0.589535173977784,
          0.5423453395215762,
          0.5906897199679257,
          0.5882481600965515,
          0.4549200593431799,
          0.45301069264302063,
          0.34500606379695076,
          0.4853745772490716,
          0.693677167785371,
          0.5731418709411661,
          0.2500071846118832,
          0.4906651347806916,
          0.5256501136888015,
          0.41213172309224877,
          0.7477197562265733,
          0.60455022085692,
          0.49204196080868345,
          0.8224117248826157,
          0.6930787289443033,
          0.48797370877117396,
          0.7540467138632092,
          0.7253724946577238,
          0.7218416980436867,
          0.7240274212882825,
          0.6551379406953334,
          0.810637899588387,
          0.5309887520585285,
          0.7663315440077981,
          0.6862152673340088,
          0.6874771144267791,
          0.7145350651753607,
          0.5838207687026236,
          0.5371380034896092,
          0.5402936924571098,
          0.624171790237418,
          0.5815348241967655,
          0.6480768605714398,
          0.6725225637638623,
          0.6480527027559436,
          0.6931494977750067,
          0.7854373833686233,
          0.7218591104940256,
          0.68912329357268,
          0.7340448920128307,
          0.6227862847750963,
          0.7854972004221679,
          0.7788017059266593,
          0.5440837724442488,
          0.6213963992046455,
          0.6735736235956193,
          0.6603344525226991,
          0.5195336948236137,
          0.694027735346121,
          0.635192194696321,
          0.7574996248330091,
          0.671798323980869,
          0.5278744101651482,
          0.6287927564481826,
          0.7232044293555574,
          0.7347013716545441,
          0.7651055976532695,
          0.7464073376154928,
          0.7391369558508853,
          0.7647293824515141,
          0.6852985535677736,
          0.807124953799693,
          0.6886798924840023,
          0.7203817186093612,
          0.7197571378360074,
          0.6774462558251768,
          0.5744627798600042,
          0.7589903788250996,
          0.7832197214782757,
          0.6817868938407915,
          0.6736454733659963,
          0.5944373033252018,
          0.562391149425916,
          0.5007145579199785,
          0.7464072952400462,
          0.5743714517345272,
          0.6783579821107463,
          0.7901192814856524,
          0.6882825684510682,
          0.6863058301118065,
          0.6365282744750057,
          0.7364012184664215,
          0.6970327569823992,
          0.5913055681944789,
          0.5498150146786005,
          0.6159553726683935,
          0.7444842095073171,
          0.5632839559866396,
          0.6739798544512615,
          0.7612129882592981,
          0.7582656622983673,
          0.6613258379959824,
          0.5457640364618046,
          0.855850901392455,
          0.6533323999737484,
          0.8593638659191578
         ]
        },
        {
         "mode": "lines",
         "name": "Horizontal Regression Line: 0.6516857672729767",
         "type": "scatter",
         "x": [
          1,
          100
         ],
         "y": [
          0.6516857672729767,
          0.6516857672729767
         ]
        }
       ],
       "layout": {
        "template": {
         "data": {
          "bar": [
           {
            "error_x": {
             "color": "#2a3f5f"
            },
            "error_y": {
             "color": "#2a3f5f"
            },
            "marker": {
             "line": {
              "color": "#E5ECF6",
              "width": 0.5
             },
             "pattern": {
              "fillmode": "overlay",
              "size": 10,
              "solidity": 0.2
             }
            },
            "type": "bar"
           }
          ],
          "barpolar": [
           {
            "marker": {
             "line": {
              "color": "#E5ECF6",
              "width": 0.5
             },
             "pattern": {
              "fillmode": "overlay",
              "size": 10,
              "solidity": 0.2
             }
            },
            "type": "barpolar"
           }
          ],
          "carpet": [
           {
            "aaxis": {
             "endlinecolor": "#2a3f5f",
             "gridcolor": "white",
             "linecolor": "white",
             "minorgridcolor": "white",
             "startlinecolor": "#2a3f5f"
            },
            "baxis": {
             "endlinecolor": "#2a3f5f",
             "gridcolor": "white",
             "linecolor": "white",
             "minorgridcolor": "white",
             "startlinecolor": "#2a3f5f"
            },
            "type": "carpet"
           }
          ],
          "choropleth": [
           {
            "colorbar": {
             "outlinewidth": 0,
             "ticks": ""
            },
            "type": "choropleth"
           }
          ],
          "contour": [
           {
            "colorbar": {
             "outlinewidth": 0,
             "ticks": ""
            },
            "colorscale": [
             [
              0,
              "#0d0887"
             ],
             [
              0.1111111111111111,
              "#46039f"
             ],
             [
              0.2222222222222222,
              "#7201a8"
             ],
             [
              0.3333333333333333,
              "#9c179e"
             ],
             [
              0.4444444444444444,
              "#bd3786"
             ],
             [
              0.5555555555555556,
              "#d8576b"
             ],
             [
              0.6666666666666666,
              "#ed7953"
             ],
             [
              0.7777777777777778,
              "#fb9f3a"
             ],
             [
              0.8888888888888888,
              "#fdca26"
             ],
             [
              1,
              "#f0f921"
             ]
            ],
            "type": "contour"
           }
          ],
          "contourcarpet": [
           {
            "colorbar": {
             "outlinewidth": 0,
             "ticks": ""
            },
            "type": "contourcarpet"
           }
          ],
          "heatmap": [
           {
            "colorbar": {
             "outlinewidth": 0,
             "ticks": ""
            },
            "colorscale": [
             [
              0,
              "#0d0887"
             ],
             [
              0.1111111111111111,
              "#46039f"
             ],
             [
              0.2222222222222222,
              "#7201a8"
             ],
             [
              0.3333333333333333,
              "#9c179e"
             ],
             [
              0.4444444444444444,
              "#bd3786"
             ],
             [
              0.5555555555555556,
              "#d8576b"
             ],
             [
              0.6666666666666666,
              "#ed7953"
             ],
             [
              0.7777777777777778,
              "#fb9f3a"
             ],
             [
              0.8888888888888888,
              "#fdca26"
             ],
             [
              1,
              "#f0f921"
             ]
            ],
            "type": "heatmap"
           }
          ],
          "heatmapgl": [
           {
            "colorbar": {
             "outlinewidth": 0,
             "ticks": ""
            },
            "colorscale": [
             [
              0,
              "#0d0887"
             ],
             [
              0.1111111111111111,
              "#46039f"
             ],
             [
              0.2222222222222222,
              "#7201a8"
             ],
             [
              0.3333333333333333,
              "#9c179e"
             ],
             [
              0.4444444444444444,
              "#bd3786"
             ],
             [
              0.5555555555555556,
              "#d8576b"
             ],
             [
              0.6666666666666666,
              "#ed7953"
             ],
             [
              0.7777777777777778,
              "#fb9f3a"
             ],
             [
              0.8888888888888888,
              "#fdca26"
             ],
             [
              1,
              "#f0f921"
             ]
            ],
            "type": "heatmapgl"
           }
          ],
          "histogram": [
           {
            "marker": {
             "pattern": {
              "fillmode": "overlay",
              "size": 10,
              "solidity": 0.2
             }
            },
            "type": "histogram"
           }
          ],
          "histogram2d": [
           {
            "colorbar": {
             "outlinewidth": 0,
             "ticks": ""
            },
            "colorscale": [
             [
              0,
              "#0d0887"
             ],
             [
              0.1111111111111111,
              "#46039f"
             ],
             [
              0.2222222222222222,
              "#7201a8"
             ],
             [
              0.3333333333333333,
              "#9c179e"
             ],
             [
              0.4444444444444444,
              "#bd3786"
             ],
             [
              0.5555555555555556,
              "#d8576b"
             ],
             [
              0.6666666666666666,
              "#ed7953"
             ],
             [
              0.7777777777777778,
              "#fb9f3a"
             ],
             [
              0.8888888888888888,
              "#fdca26"
             ],
             [
              1,
              "#f0f921"
             ]
            ],
            "type": "histogram2d"
           }
          ],
          "histogram2dcontour": [
           {
            "colorbar": {
             "outlinewidth": 0,
             "ticks": ""
            },
            "colorscale": [
             [
              0,
              "#0d0887"
             ],
             [
              0.1111111111111111,
              "#46039f"
             ],
             [
              0.2222222222222222,
              "#7201a8"
             ],
             [
              0.3333333333333333,
              "#9c179e"
             ],
             [
              0.4444444444444444,
              "#bd3786"
             ],
             [
              0.5555555555555556,
              "#d8576b"
             ],
             [
              0.6666666666666666,
              "#ed7953"
             ],
             [
              0.7777777777777778,
              "#fb9f3a"
             ],
             [
              0.8888888888888888,
              "#fdca26"
             ],
             [
              1,
              "#f0f921"
             ]
            ],
            "type": "histogram2dcontour"
           }
          ],
          "mesh3d": [
           {
            "colorbar": {
             "outlinewidth": 0,
             "ticks": ""
            },
            "type": "mesh3d"
           }
          ],
          "parcoords": [
           {
            "line": {
             "colorbar": {
              "outlinewidth": 0,
              "ticks": ""
             }
            },
            "type": "parcoords"
           }
          ],
          "pie": [
           {
            "automargin": true,
            "type": "pie"
           }
          ],
          "scatter": [
           {
            "fillpattern": {
             "fillmode": "overlay",
             "size": 10,
             "solidity": 0.2
            },
            "type": "scatter"
           }
          ],
          "scatter3d": [
           {
            "line": {
             "colorbar": {
              "outlinewidth": 0,
              "ticks": ""
             }
            },
            "marker": {
             "colorbar": {
              "outlinewidth": 0,
              "ticks": ""
             }
            },
            "type": "scatter3d"
           }
          ],
          "scattercarpet": [
           {
            "marker": {
             "colorbar": {
              "outlinewidth": 0,
              "ticks": ""
             }
            },
            "type": "scattercarpet"
           }
          ],
          "scattergeo": [
           {
            "marker": {
             "colorbar": {
              "outlinewidth": 0,
              "ticks": ""
             }
            },
            "type": "scattergeo"
           }
          ],
          "scattergl": [
           {
            "marker": {
             "colorbar": {
              "outlinewidth": 0,
              "ticks": ""
             }
            },
            "type": "scattergl"
           }
          ],
          "scattermapbox": [
           {
            "marker": {
             "colorbar": {
              "outlinewidth": 0,
              "ticks": ""
             }
            },
            "type": "scattermapbox"
           }
          ],
          "scatterpolar": [
           {
            "marker": {
             "colorbar": {
              "outlinewidth": 0,
              "ticks": ""
             }
            },
            "type": "scatterpolar"
           }
          ],
          "scatterpolargl": [
           {
            "marker": {
             "colorbar": {
              "outlinewidth": 0,
              "ticks": ""
             }
            },
            "type": "scatterpolargl"
           }
          ],
          "scatterternary": [
           {
            "marker": {
             "colorbar": {
              "outlinewidth": 0,
              "ticks": ""
             }
            },
            "type": "scatterternary"
           }
          ],
          "surface": [
           {
            "colorbar": {
             "outlinewidth": 0,
             "ticks": ""
            },
            "colorscale": [
             [
              0,
              "#0d0887"
             ],
             [
              0.1111111111111111,
              "#46039f"
             ],
             [
              0.2222222222222222,
              "#7201a8"
             ],
             [
              0.3333333333333333,
              "#9c179e"
             ],
             [
              0.4444444444444444,
              "#bd3786"
             ],
             [
              0.5555555555555556,
              "#d8576b"
             ],
             [
              0.6666666666666666,
              "#ed7953"
             ],
             [
              0.7777777777777778,
              "#fb9f3a"
             ],
             [
              0.8888888888888888,
              "#fdca26"
             ],
             [
              1,
              "#f0f921"
             ]
            ],
            "type": "surface"
           }
          ],
          "table": [
           {
            "cells": {
             "fill": {
              "color": "#EBF0F8"
             },
             "line": {
              "color": "white"
             }
            },
            "header": {
             "fill": {
              "color": "#C8D4E3"
             },
             "line": {
              "color": "white"
             }
            },
            "type": "table"
           }
          ]
         },
         "layout": {
          "annotationdefaults": {
           "arrowcolor": "#2a3f5f",
           "arrowhead": 0,
           "arrowwidth": 1
          },
          "autotypenumbers": "strict",
          "coloraxis": {
           "colorbar": {
            "outlinewidth": 0,
            "ticks": ""
           }
          },
          "colorscale": {
           "diverging": [
            [
             0,
             "#8e0152"
            ],
            [
             0.1,
             "#c51b7d"
            ],
            [
             0.2,
             "#de77ae"
            ],
            [
             0.3,
             "#f1b6da"
            ],
            [
             0.4,
             "#fde0ef"
            ],
            [
             0.5,
             "#f7f7f7"
            ],
            [
             0.6,
             "#e6f5d0"
            ],
            [
             0.7,
             "#b8e186"
            ],
            [
             0.8,
             "#7fbc41"
            ],
            [
             0.9,
             "#4d9221"
            ],
            [
             1,
             "#276419"
            ]
           ],
           "sequential": [
            [
             0,
             "#0d0887"
            ],
            [
             0.1111111111111111,
             "#46039f"
            ],
            [
             0.2222222222222222,
             "#7201a8"
            ],
            [
             0.3333333333333333,
             "#9c179e"
            ],
            [
             0.4444444444444444,
             "#bd3786"
            ],
            [
             0.5555555555555556,
             "#d8576b"
            ],
            [
             0.6666666666666666,
             "#ed7953"
            ],
            [
             0.7777777777777778,
             "#fb9f3a"
            ],
            [
             0.8888888888888888,
             "#fdca26"
            ],
            [
             1,
             "#f0f921"
            ]
           ],
           "sequentialminus": [
            [
             0,
             "#0d0887"
            ],
            [
             0.1111111111111111,
             "#46039f"
            ],
            [
             0.2222222222222222,
             "#7201a8"
            ],
            [
             0.3333333333333333,
             "#9c179e"
            ],
            [
             0.4444444444444444,
             "#bd3786"
            ],
            [
             0.5555555555555556,
             "#d8576b"
            ],
            [
             0.6666666666666666,
             "#ed7953"
            ],
            [
             0.7777777777777778,
             "#fb9f3a"
            ],
            [
             0.8888888888888888,
             "#fdca26"
            ],
            [
             1,
             "#f0f921"
            ]
           ]
          },
          "colorway": [
           "#636efa",
           "#EF553B",
           "#00cc96",
           "#ab63fa",
           "#FFA15A",
           "#19d3f3",
           "#FF6692",
           "#B6E880",
           "#FF97FF",
           "#FECB52"
          ],
          "font": {
           "color": "#2a3f5f"
          },
          "geo": {
           "bgcolor": "white",
           "lakecolor": "white",
           "landcolor": "#E5ECF6",
           "showlakes": true,
           "showland": true,
           "subunitcolor": "white"
          },
          "hoverlabel": {
           "align": "left"
          },
          "hovermode": "closest",
          "mapbox": {
           "style": "light"
          },
          "paper_bgcolor": "white",
          "plot_bgcolor": "#E5ECF6",
          "polar": {
           "angularaxis": {
            "gridcolor": "white",
            "linecolor": "white",
            "ticks": ""
           },
           "bgcolor": "#E5ECF6",
           "radialaxis": {
            "gridcolor": "white",
            "linecolor": "white",
            "ticks": ""
           }
          },
          "scene": {
           "xaxis": {
            "backgroundcolor": "#E5ECF6",
            "gridcolor": "white",
            "gridwidth": 2,
            "linecolor": "white",
            "showbackground": true,
            "ticks": "",
            "zerolinecolor": "white"
           },
           "yaxis": {
            "backgroundcolor": "#E5ECF6",
            "gridcolor": "white",
            "gridwidth": 2,
            "linecolor": "white",
            "showbackground": true,
            "ticks": "",
            "zerolinecolor": "white"
           },
           "zaxis": {
            "backgroundcolor": "#E5ECF6",
            "gridcolor": "white",
            "gridwidth": 2,
            "linecolor": "white",
            "showbackground": true,
            "ticks": "",
            "zerolinecolor": "white"
           }
          },
          "shapedefaults": {
           "line": {
            "color": "#2a3f5f"
           }
          },
          "ternary": {
           "aaxis": {
            "gridcolor": "white",
            "linecolor": "white",
            "ticks": ""
           },
           "baxis": {
            "gridcolor": "white",
            "linecolor": "white",
            "ticks": ""
           },
           "bgcolor": "#E5ECF6",
           "caxis": {
            "gridcolor": "white",
            "linecolor": "white",
            "ticks": ""
           }
          },
          "title": {
           "x": 0.05
          },
          "xaxis": {
           "automargin": true,
           "gridcolor": "white",
           "linecolor": "white",
           "ticks": "",
           "title": {
            "standoff": 15
           },
           "zerolinecolor": "white",
           "zerolinewidth": 2
          },
          "yaxis": {
           "automargin": true,
           "gridcolor": "white",
           "linecolor": "white",
           "ticks": "",
           "title": {
            "standoff": 15
           },
           "zerolinecolor": "white",
           "zerolinewidth": 2
          }
         }
        },
        "title": {
         "text": "text-embedding-3-large: similarities between first and third answer"
        },
        "xaxis": {
         "title": {
          "text": "Index"
         }
        },
        "yaxis": {
         "title": {
          "text": "Similarities"
         }
        }
       }
      }
     },
     "metadata": {},
     "output_type": "display_data"
    }
   ],
   "source": [
    "import plotly.graph_objs as go\n",
    "import numpy as np\n",
    "\n",
    "mean_similarity = np.mean(similarities_1_3_openai_3_large)\n",
    "\n",
    "x_values = list(range(1, len(similarities_1_3_openai_3_large) + 1))\n",
    "\n",
    "fig = go.Figure()\n",
    "\n",
    "fig.add_trace(go.Scatter(x=x_values, y=similarities_1_3_openai_3_large, mode='lines+markers', name='Similarities'))\n",
    "\n",
    "fig.add_trace(go.Scatter(x=[x_values[0], x_values[-1]], y=[mean_similarity, mean_similarity],\n",
    "                         mode='lines', name=f'Horizontal Regression Line: {mean_similarity}'))\n",
    "\n",
    "fig.update_layout(\n",
    "    title= \"text-embedding-3-large: similarities between first and third answer\",\n",
    "    xaxis_title=\"Index\",\n",
    "    yaxis_title=\"Similarities\"\n",
    ")\n",
    "\n",
    "fig.show()"
   ]
  },
  {
   "cell_type": "markdown",
   "metadata": {},
   "source": [
    "## Top 3 Results"
   ]
  },
  {
   "cell_type": "markdown",
   "metadata": {},
   "source": [
    "### Similarity Results"
   ]
  },
  {
   "cell_type": "markdown",
   "metadata": {},
   "source": [
    "mistral-embed"
   ]
  },
  {
   "cell_type": "code",
   "execution_count": 570,
   "metadata": {},
   "outputs": [
    {
     "name": "stdout",
     "output_type": "stream",
     "text": [
      "Results for mistral-embed:\n",
      "\n",
      " Mean Similarity between first and second answer: 0.9066311122206908\n",
      " Mean Similarity between second and third answer: 0.9082961774366722\n",
      " Mean Similarity between first and third answer: 0.8974379294577077\n"
     ]
    }
   ],
   "source": [
    "print(\"Results for mistral-embed:\\n\")\n",
    "print(f\" Mean Similarity between first and second answer: {np.mean(df_top_3_mistral_embed[\"Similarities between first and second Embedding\"])}\")\n",
    "print(f\" Mean Similarity between second and third answer: {np.mean(df_top_3_mistral_embed[\"Similarities between second and third Embedding\"])}\")\n",
    "print(f\" Mean Similarity between first and third answer: {np.mean(df_top_3_mistral_embed[\"Similarities between first and third Embedding\"])}\")"
   ]
  },
  {
   "cell_type": "markdown",
   "metadata": {},
   "source": [
    "text-embedding-ada-002"
   ]
  },
  {
   "cell_type": "code",
   "execution_count": 571,
   "metadata": {},
   "outputs": [
    {
     "name": "stdout",
     "output_type": "stream",
     "text": [
      "Results for text-embedding-ada-002:\n",
      "\n",
      " Mean Similarity between first and second answer: 0.9036743798728812\n",
      " Mean Similarity between second and third answer: 0.9036743798728812\n",
      " Mean Similarity between first and third answer: 0.9036743798728812\n"
     ]
    }
   ],
   "source": [
    "print(\"Results for text-embedding-ada-002:\\n\")\n",
    "print(f\" Mean Similarity between first and second answer: {np.mean(df_top_3_openai_ada_002[\"Similarities between first and third Embedding\"])}\")\n",
    "print(f\" Mean Similarity between second and third answer: {np.mean(df_top_3_openai_ada_002[\"Similarities between first and third Embedding\"])}\")\n",
    "print(f\" Mean Similarity between first and third answer: {np.mean(df_top_3_openai_ada_002[\"Similarities between first and third Embedding\"])}\")"
   ]
  },
  {
   "cell_type": "markdown",
   "metadata": {},
   "source": [
    "text-embedding-3-small"
   ]
  },
  {
   "cell_type": "code",
   "execution_count": 572,
   "metadata": {},
   "outputs": [
    {
     "name": "stdout",
     "output_type": "stream",
     "text": [
      "Results for text-embedding-3-small:\n",
      "\n",
      " Mean Similarity between first and second answer: 0.7098874739930904\n",
      " Mean Similarity between second and third answer: 0.7098874739930904\n",
      " Mean Similarity between first and third answer: 0.7098874739930904\n"
     ]
    }
   ],
   "source": [
    "print(\"Results for text-embedding-3-small:\\n\")\n",
    "print(f\" Mean Similarity between first and second answer: {np.mean(df_top_3_openai_3_small[\"Similarities between first and third Embedding\"])}\")\n",
    "print(f\" Mean Similarity between second and third answer: {np.mean(df_top_3_openai_3_small[\"Similarities between first and third Embedding\"])}\")\n",
    "print(f\" Mean Similarity between first and third answer: {np.mean(df_top_3_openai_3_small[\"Similarities between first and third Embedding\"])}\")"
   ]
  },
  {
   "cell_type": "markdown",
   "metadata": {},
   "source": [
    "text-embedding-3-large"
   ]
  },
  {
   "cell_type": "code",
   "execution_count": 573,
   "metadata": {},
   "outputs": [
    {
     "name": "stdout",
     "output_type": "stream",
     "text": [
      "Results for text-embedding-3-large:\n",
      "\n",
      " Mean Similarity between first and second answer: 0.6516857672729767\n",
      " Mean Similarity between second and third answer: 0.6516857672729767\n",
      " Mean Similarity between first and third answer: 0.6516857672729767\n"
     ]
    }
   ],
   "source": [
    "print(\"Results for text-embedding-3-large:\\n\")\n",
    "print(f\" Mean Similarity between first and second answer: {np.mean(df_top_3_openai_3_large[\"Similarities between first and third Embedding\"])}\")\n",
    "print(f\" Mean Similarity between second and third answer: {np.mean(df_top_3_openai_3_large[\"Similarities between first and third Embedding\"])}\")\n",
    "print(f\" Mean Similarity between first and third answer: {np.mean(df_top_3_openai_3_large[\"Similarities between first and third Embedding\"])}\")"
   ]
  },
  {
   "cell_type": "markdown",
   "metadata": {},
   "source": [
    "### Check for correct answers in top 3"
   ]
  },
  {
   "cell_type": "code",
   "execution_count": 574,
   "metadata": {},
   "outputs": [],
   "source": [
    "failure_counter_for_top_3 = {}"
   ]
  },
  {
   "cell_type": "markdown",
   "metadata": {},
   "source": [
    "mistral-embed"
   ]
  },
  {
   "cell_type": "code",
   "execution_count": 575,
   "metadata": {},
   "outputs": [
    {
     "name": "stdout",
     "output_type": "stream",
     "text": [
      "4\n"
     ]
    }
   ],
   "source": [
    "top_3_failure_mistral_embed = 0\n",
    "\n",
    "for i in range (len(df_modified_question_results[\"Frage (stark modifiziert)\"].to_list())):\n",
    "    if df_modified_question_results.at[i, 'Antwort (original)'] not in (df_top_3_mistral_embed.at[i, 'Answer 1: mistral-embed']):\n",
    "        if df_modified_question_results.at[i, 'Antwort (original)'] not in (df_top_3_mistral_embed.at[i, 'Answer 2: mistral-embed']):\n",
    "            if df_modified_question_results.at[i, 'Antwort (original)'] not in (df_top_3_mistral_embed.at[i, 'Answer 3: mistral-embed']):\n",
    "                top_3_failure_mistral_embed = top_3_failure_mistral_embed + 1\n",
    "                #print(f\"Question {i}: {df_modified_question_results.at[i, 'Frage (stark modifiziert)']}\\n\")\n",
    "                #print(f\"Correct Answer: {df_modified_question_results.at[i, 'Antwort (original)']}\\n\")\n",
    "                #print(f\"First Answer by mistral-embed: {df_top_3_mistral_embed.at[i, 'Answer 1: mistral-embed']}\")\n",
    "                #print(f\"Second Answer by mistral-embed: {df_top_3_mistral_embed.at[i, 'Answer 2: mistral-embed']}\")\n",
    "                #print(f\"Third Answer by mistral-embed: {df_top_3_mistral_embed.at[i, 'Answer 3: mistral-embed']}\\n\")\n",
    "\n",
    "failure_counter_for_top_3[\"mistral-embed\"] = top_3_failure_mistral_embed\n",
    "\n",
    "print(failure_counter_for_top_3[\"mistral-embed\"])"
   ]
  },
  {
   "cell_type": "markdown",
   "metadata": {},
   "source": [
    "text-embedding-ada-002"
   ]
  },
  {
   "cell_type": "code",
   "execution_count": 576,
   "metadata": {},
   "outputs": [
    {
     "name": "stdout",
     "output_type": "stream",
     "text": [
      "3\n"
     ]
    }
   ],
   "source": [
    "top_3_failure_openai_ada_002 = 0\n",
    "\n",
    "for i in range (len(df_modified_question_results[\"Frage (stark modifiziert)\"].to_list())):\n",
    "    if df_modified_question_results.at[i, 'Antwort (original)'] not in (df_top_3_openai_ada_002.at[i, 'Answer 1: text-embedding-ada-002']):\n",
    "        if df_modified_question_results.at[i, 'Antwort (original)'] not in (df_top_3_openai_ada_002.at[i, 'Answer 2: text-embedding-ada-002']):\n",
    "            if df_modified_question_results.at[i, 'Antwort (original)'] not in (df_top_3_openai_ada_002.at[i, 'Answer 3: text-embedding-ada-002']):\n",
    "                top_3_failure_openai_ada_002 = top_3_failure_openai_ada_002 + 1\n",
    "                #print(f\"Question {i}: {df_modified_question_results.at[i, 'Frage (stark modifiziert)']}\\n\")\n",
    "                #print(f\"Correct Answer: {df_modified_question_results.at[i, 'Antwort (original)']}\\n\")\n",
    "                #print(f\"First Answer by text-embedding-ada-002: {df_top_3_openai_ada_002.at[i, 'Answer 1: text-embedding-ada-002']}\")\n",
    "                #print(f\"Second Answer by text-embedding-ada-002: {df_top_3_openai_ada_002.at[i, 'Answer 2: text-embedding-ada-002']}\")\n",
    "                #print(f\"Third Answer by text-embedding-ada-002: {df_top_3_openai_ada_002.at[i, 'Answer 3: text-embedding-ada-002']}\\n\")\n",
    "\n",
    "failure_counter_for_top_3[\"text-embedding-ada-002\"] = top_3_failure_openai_ada_002\n",
    "\n",
    "print(failure_counter_for_top_3[\"text-embedding-ada-002\"])"
   ]
  },
  {
   "cell_type": "markdown",
   "metadata": {},
   "source": [
    "text-embedding-3-small"
   ]
  },
  {
   "cell_type": "code",
   "execution_count": 577,
   "metadata": {},
   "outputs": [
    {
     "name": "stdout",
     "output_type": "stream",
     "text": [
      "4\n"
     ]
    }
   ],
   "source": [
    "top_3_failure_openai_3_small = 0\n",
    "\n",
    "for i in range (len(df_modified_question_results[\"Frage (stark modifiziert)\"].to_list())):\n",
    "    if df_modified_question_results.at[i, 'Antwort (original)'] not in (df_top_3_openai_3_small.at[i, 'Answer 1: text-embedding-3-small']):\n",
    "        if df_modified_question_results.at[i, 'Antwort (original)'] not in (df_top_3_openai_3_small.at[i, 'Answer 2: text-embedding-3-small']):\n",
    "            if df_modified_question_results.at[i, 'Antwort (original)'] not in (df_top_3_openai_3_small.at[i, 'Answer 3: text-embedding-3-small']):\n",
    "                top_3_failure_openai_3_small = top_3_failure_openai_3_small + 1\n",
    "                #print(f\"Question {i}: {df_modified_question_results.at[i, 'Frage (stark modifiziert)']}\\n\")\n",
    "                #print(f\"Correct Answer: {df_modified_question_results.at[i, 'Antwort (original)']}\\n\")\n",
    "                #print(f\"First Answer by text-embedding-3-small: {df_top_3_openai_3_small.at[i, 'Answer 1: text-embedding-3-small']}\")\n",
    "                #print(f\"Second Answer by text-embedding-3-small: {df_top_3_openai_3_small.at[i, 'Answer 2: text-embedding-3-small']}\")\n",
    "                #print(f\"Third Answer by text-embedding-3-small: {df_top_3_openai_3_small.at[i, 'Answer 3: text-embedding-3-small']}\\n\")\n",
    "\n",
    "failure_counter_for_top_3[\"text-embedding-3-small\"] = top_3_failure_openai_3_small\n",
    "\n",
    "print(failure_counter_for_top_3[\"text-embedding-3-small\"])"
   ]
  },
  {
   "cell_type": "markdown",
   "metadata": {},
   "source": [
    "text-embedding-3-large"
   ]
  },
  {
   "cell_type": "code",
   "execution_count": 578,
   "metadata": {},
   "outputs": [
    {
     "name": "stdout",
     "output_type": "stream",
     "text": [
      "Question 22: profitieren von der Nutzung von SAP Fieldglass?\n",
      "\n",
      "Correct Answer: SAP Fieldglass ist für Unternehmen aller Größen und Branchen geeignet, die externe Arbeitskräfte oder Dienstleistungen nutzen.\n",
      "\n",
      "First Answer by text-embedding-3-large: Die Nutzung von SAP Fieldglass ermöglicht eine bessere Kontrolle über externe Ressourcen, Kosteneinsparungen, verbesserte Compliance und beschleunigte Beschaffungsprozesse.\n",
      "Second Answer by text-embedding-3-large: SAP Fieldglass bietet Funktionen wie Beschaffung, Auftragsmanagement, Lieferantenverwaltung, Abrechnung und Compliance-Management.\n",
      "Third Answer by text-embedding-3-large: SAP Fieldglass ist eine cloudbasierte Plattform für das Management von externen Arbeitskräften und Dienstleistungsanbietern.\n",
      "\n",
      "Question 48: SAP Enable Now Tools?\n",
      "\n",
      "Correct Answer: Ja, SAP Enable Now bietet Funktionen für das Performance-Support wie kontextbezogene Hilfen, Tutorials und Benutzerleitfäden.\n",
      "\n",
      "First Answer by text-embedding-3-large: SAP Enable Now ist eine Lösung für das digitale Lern- und Wissensmanagement, die Schulungen, Leistungssupport und Dokumentationen bereitstellt.\n",
      "Second Answer by text-embedding-3-large: Ja, SAP Enable Now kann für die Schulung von Endbenutzern in SAP-Anwendungen sowie anderen Unternehmensanwendungen verwendet werden.\n",
      "Third Answer by text-embedding-3-large: Ja, SAP Enable Now kann zur Erstellung von Software-Dokumentationen wie Benutzerhandbüchern, Hilfedateien und Prozessdokumentationen verwendet werden.\n",
      "\n",
      "2\n"
     ]
    }
   ],
   "source": [
    "top_3_failure_openai_3_large = 0\n",
    "\n",
    "for i in range (len(df_modified_question_results[\"Frage (stark modifiziert)\"].to_list())):\n",
    "    if df_modified_question_results.at[i, 'Antwort (original)'] not in (df_top_3_openai_3_large.at[i, 'Answer 1: text-embedding-3-large']):\n",
    "        if df_modified_question_results.at[i, 'Antwort (original)'] not in (df_top_3_openai_3_large.at[i, 'Answer 2: text-embedding-3-large']):\n",
    "            if df_modified_question_results.at[i, 'Antwort (original)'] not in (df_top_3_openai_3_large.at[i, 'Answer 3: text-embedding-3-large']):\n",
    "                top_3_failure_openai_3_large = top_3_failure_openai_3_large + 1\n",
    "                print(f\"Question {i}: {df_modified_question_results.at[i, 'Frage (stark modifiziert)']}\\n\")\n",
    "                print(f\"Correct Answer: {df_modified_question_results.at[i, 'Antwort (original)']}\\n\")\n",
    "                print(f\"First Answer by text-embedding-3-large: {df_top_3_openai_3_large.at[i, 'Answer 1: text-embedding-3-large']}\")\n",
    "                print(f\"Second Answer by text-embedding-3-large: {df_top_3_openai_3_large.at[i, 'Answer 2: text-embedding-3-large']}\")\n",
    "                print(f\"Third Answer by text-embedding-3-large: {df_top_3_openai_3_large.at[i, 'Answer 3: text-embedding-3-large']}\\n\")\n",
    "\n",
    "failure_counter_for_top_3[\"text-embedding-3-large\"] = top_3_failure_openai_3_large\n",
    "\n",
    "print(failure_counter_for_top_3[\"text-embedding-3-large\"])"
   ]
  },
  {
   "cell_type": "code",
   "execution_count": 579,
   "metadata": {},
   "outputs": [
    {
     "name": "stdout",
     "output_type": "stream",
     "text": [
      "Evaluation Result for Top 3 Results (RAG including next 3 neighbours):\n",
      "\n",
      "Failure Score Mistral Embedding Model (mistral-embed):          4   => 96 %\n",
      "Failure Score OpenAI Embedding Model (text-embedding-ada-002):  3   => 97 %\n",
      "Failure Score OpenAI Embedding Model (text-embedding-3-small):  4   => 96 %\n",
      "Failure Score OpenAI Embedding Model (text-embedding-3-large):  2   => 98 %\n",
      "\n",
      "Best model (for this dataset in German): text-embedding-3-large\n"
     ]
    }
   ],
   "source": [
    "print(\"Evaluation Result for Top 3 Results (RAG including next 3 neighbors):\\n\")\n",
    "print(f\"Failure Score Mistral Embedding Model (mistral-embed):          {failure_counter_for_top_3[\"mistral-embed\"]}   => {(100-failure_counter_for_top_3[\"mistral-embed\"])} %\")\n",
    "print(f\"Failure Score OpenAI Embedding Model (text-embedding-ada-002):  {failure_counter_for_top_3[\"text-embedding-ada-002\"]}   => {(100-failure_counter_for_top_3[\"text-embedding-ada-002\"])} %\")\n",
    "print(f\"Failure Score OpenAI Embedding Model (text-embedding-3-small):  {failure_counter_for_top_3[\"text-embedding-3-small\"]}   => {100-failure_counter_for_top_3[\"text-embedding-3-small\"]} %\")\n",
    "print(f\"Failure Score OpenAI Embedding Model (text-embedding-3-large):  {failure_counter_for_top_3[\"text-embedding-3-large\"]}   => {100-failure_counter_for_top_3[\"text-embedding-3-large\"]} %\\n\")\n",
    "\n",
    "print(f\"Best model (for this dataset in German): {min(failure_counter_for_top_3, key=failure_counter_for_top_3.get)}\")"
   ]
  },
  {
   "cell_type": "code",
   "execution_count": 580,
   "metadata": {},
   "outputs": [
    {
     "name": "stdout",
     "output_type": "stream",
     "text": [
      "Evaluation Result for Top 1 Results (RAG including next 3 neighbours):\n",
      "\n",
      "Failure Score Mistral Embedding Model (mistral-embed):          7   => 93 %\n",
      "Failure Score OpenAI Embedding Model (text-embedding-ada-002):  13  => 87 %\n",
      "Failure Score OpenAI Embedding Model (text-embedding-3-small):  15  => 85 %\n",
      "Failure Score OpenAI Embedding Model (text-embedding-3-large):  7   => 93 %\n",
      "\n",
      "Best model (for this dataset in German): mistral-embed\n"
     ]
    }
   ],
   "source": [
    "print(\"Evaluation Result for Top 1 Results (RAG including next neighbor):\\n\")\n",
    "print(f\"Failure Score Mistral Embedding Model (mistral-embed):          {failure_counter_mistral_embed}   => {(100-failure_counter_mistral_embed)} %\")\n",
    "print(f\"Failure Score OpenAI Embedding Model (text-embedding-ada-002):  {failure_counter_ada_002}  => {(100-failure_counter_ada_002)} %\")\n",
    "print(f\"Failure Score OpenAI Embedding Model (text-embedding-3-small):  {failure_counter_3_small}  => {100-failure_counter_3_small} %\")\n",
    "print(f\"Failure Score OpenAI Embedding Model (text-embedding-3-large):  {failure_counter_3_large}   => {100-failure_counter_3_large} %\\n\")\n",
    "\n",
    "print(f\"Best model (for this dataset in German): {min(failure_counter_dict, key=failure_counter_dict.get)}\")"
   ]
  },
  {
   "cell_type": "code",
   "execution_count": null,
   "metadata": {},
   "outputs": [],
   "source": []
  }
 ],
 "metadata": {
  "kernelspec": {
   "display_name": "Python 3",
   "language": "python",
   "name": "python3"
  },
  "language_info": {
   "codemirror_mode": {
    "name": "ipython",
    "version": 3
   },
   "file_extension": ".py",
   "mimetype": "text/x-python",
   "name": "python",
   "nbconvert_exporter": "python",
   "pygments_lexer": "ipython3",
   "version": "3.12.0"
  }
 },
 "nbformat": 4,
 "nbformat_minor": 2
}
